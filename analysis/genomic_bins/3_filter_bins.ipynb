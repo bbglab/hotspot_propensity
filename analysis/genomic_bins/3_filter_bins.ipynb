{
 "cells": [
  {
   "cell_type": "markdown",
   "metadata": {},
   "source": [
    "# Filter bins based on mappable genome overlap"
   ]
  },
  {
   "cell_type": "markdown",
   "metadata": {},
   "source": [
    "Filter out bins with low overlap with the mappable genome\n",
    "\n",
    "- Read the overlap of each bin with the mappable genome\n",
    "- Obtain the distribution of the fraction of overlap to the mappable genome per bin\n",
    "- Filter out low mappable bins and keep those with fraction overlap above 1st quartile of the fractional overlap distribution\n",
    "\n",
    "The output consists of high mappable 1 Mbp bins with their original start and end coordinates (original size)"
   ]
  },
  {
   "cell_type": "code",
   "execution_count": 1,
   "metadata": {
    "collapsed": true
   },
   "outputs": [],
   "source": [
    "import os\n",
    "\n",
    "import numpy as np\n",
    "import pandas as pd"
   ]
  },
  {
   "cell_type": "code",
   "execution_count": 2,
   "metadata": {
    "collapsed": true
   },
   "outputs": [],
   "source": [
    "chromosomes = list(map(lambda x: f'chr{x}', list(range(1,23)) + ['X', 'Y']))\n",
    "autosomes = [i for i in chromosomes if i not in ['chrX', 'chrY']]"
   ]
  },
  {
   "cell_type": "code",
   "execution_count": 3,
   "metadata": {
    "collapsed": true
   },
   "outputs": [],
   "source": [
    "main_dir = ''"
   ]
  },
  {
   "cell_type": "code",
   "execution_count": 4,
   "metadata": {
    "collapsed": true
   },
   "outputs": [],
   "source": [
    "input_dir = output_dir = f'{main_dir}/data'"
   ]
  },
  {
   "cell_type": "code",
   "execution_count": 5,
   "metadata": {
    "collapsed": true
   },
   "outputs": [],
   "source": [
    "chromosomes = [f'chr{i}' for i in range(1, 23)] + ['chrX', 'chrY']"
   ]
  },
  {
   "cell_type": "code",
   "execution_count": 6,
   "metadata": {},
   "outputs": [
    {
     "name": "stdout",
     "output_type": "stream",
     "text": [
      "1000kb\n",
      "Bins before filtering: 3078\n",
      "Fraction overlap threshold: 0.8036232499999999\n",
      "Bins after filtering: 2308\n",
      "Bins after filtering (only autosomes): 2196\n"
     ]
    }
   ],
   "source": [
    "for bin_size in [1000000]: \n",
    "    \n",
    "    bin_length_str = f'{round(bin_size/1e3)}kb'\n",
    "    output_f = os.path.join(main_dir, 'data', f'hg38_{bin_length_str}_bin.nodrivers.filtered.all_positions.bed.gz')\n",
    "    print(bin_length_str)\n",
    "    \n",
    "    # Read overlap and merge all data in a single table \n",
    "    lines = []\n",
    "    for chrom in chromosomes: \n",
    "        file = f'{input_dir}/hg38_{bin_length_str}_bin.nodrivers.{chrom}.bed.stats'\n",
    "        df = pd.read_csv(file, sep='\\t', header=0)\n",
    "        df['FRACTION'] = df.apply(lambda x: x['BP_OVERLAP']/bin_size, axis=1)\n",
    "        lines.append(df)\n",
    "    results = pd.concat(lines)\n",
    "    print(f'Bins before filtering: {len(results)}')\n",
    "    \n",
    "    # Filter\n",
    "    threshold = np.percentile(results['FRACTION'], 25)\n",
    "    print(f'Fraction overlap threshold: {threshold}')\n",
    "    filtered_results = results.loc[results['FRACTION'] > threshold].copy()\n",
    "    print(f'Bins after filtering: {len(filtered_results)}')\n",
    "    bins_in_autosomes = len(filtered_results.loc[~filtered_results['CHR'].isin(['chrY', 'chrX'])])\n",
    "    print(f'Bins after filtering (only autosomes): {bins_in_autosomes}')\n",
    "    \n",
    "    # Sort and save\n",
    "    filtered_results.sort_values(by='START')\n",
    "    filtered_results = filtered_results[['CHR', 'START', 'END', 'BINID']]\n",
    "    filtered_results.sort_values(by=['CHR', 'START'], inplace=True)\n",
    "    filtered_results.to_csv(output_f, sep='\\t', header=True, index=False, compression='gzip')"
   ]
  }
 ],
 "metadata": {
  "kernelspec": {
   "display_name": "Python [conda env:hotspots_framework]",
   "language": "python",
   "name": "conda-env-hotspots_framework-py"
  },
  "language_info": {
   "codemirror_mode": {
    "name": "ipython",
    "version": 3
   },
   "file_extension": ".py",
   "mimetype": "text/x-python",
   "name": "python",
   "nbconvert_exporter": "python",
   "pygments_lexer": "ipython3",
   "version": "3.6.10"
  }
 },
 "nbformat": 4,
 "nbformat_minor": 2
}
