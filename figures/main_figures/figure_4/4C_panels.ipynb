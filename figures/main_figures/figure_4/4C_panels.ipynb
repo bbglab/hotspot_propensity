{
 "cells": [
  {
   "cell_type": "markdown",
   "metadata": {},
   "source": [
    "# Hotspot propensity vs mutation overdispersion in Fig 4C"
   ]
  },
  {
   "cell_type": "code",
   "execution_count": 1,
   "metadata": {
    "collapsed": true
   },
   "outputs": [],
   "source": [
    "from collections import defaultdict\n",
    "import json\n",
    "\n",
    "import matplotlib\n",
    "import matplotlib.pyplot as plt\n",
    "from matplotlib.lines import Line2D\n",
    "from matplotlib import rcParams\n",
    "import numpy as np\n",
    "import pandas as pd\n",
    "from statsmodels.discrete.discrete_model import NegativeBinomial\n",
    "from tqdm import tqdm"
   ]
  },
  {
   "cell_type": "code",
   "execution_count": 2,
   "metadata": {
    "collapsed": true
   },
   "outputs": [],
   "source": [
    "rcParams['font.family'] = 'sans-serif'\n",
    "rcParams['font.sans-serif'] = ['Arial']"
   ]
  },
  {
   "cell_type": "code",
   "execution_count": 3,
   "metadata": {
    "collapsed": true
   },
   "outputs": [],
   "source": [
    "sigs_color = {\n",
    "'SBS1': '#1e79baff',\n",
    " 'SBS2': '#ff9896ff',\n",
    " 'SBS3': '#f6c200ff', \n",
    " 'SBS4': '#00a572ff', \n",
    " 'SBS5': '#7ebdeaff',\n",
    " 'SBS7a': '#8c564bff', \n",
    " 'SBS7b': '#c49c94ff',\n",
    " 'SBS8': '#3dbe3dff',\n",
    " 'SBS13': '#d62728ff',\n",
    " 'SBS17a': '#ffbb78ff',\n",
    " 'SBS17b': '#ff8921ff', \n",
    " 'SBS18': '#9467bdff',\n",
    " 'SBS40': '#c2e0f5ff', \n",
    " 'SBS93': '#c5b0d5ff'\n",
    "}"
   ]
  },
  {
   "cell_type": "code",
   "execution_count": 4,
   "metadata": {
    "collapsed": true
   },
   "outputs": [],
   "source": [
    "data_dir = './data'"
   ]
  },
  {
   "cell_type": "code",
   "execution_count": 5,
   "metadata": {
    "collapsed": true
   },
   "outputs": [],
   "source": [
    "data_to_run = {\n",
    " 'BLADDER_URI': ['SBS2', 'SBS13', 'SBS5', 'SBS1'],\n",
    " 'BRCA': ['SBS5', 'SBS1', 'SBS2', 'SBS13', 'SBS3'],\n",
    " 'COADREAD': ['SBS1', 'SBS40', 'SBS17b', 'SBS5', 'SBS18', 'SBS93', 'SBS17a'],\n",
    " 'ESOPHA_STOMACH': ['SBS17b', 'SBS17a', 'SBS5', 'SBS1'],\n",
    " 'NSCLC': ['SBS4', 'SBS5', 'SBS40', 'SBS2', 'SBS13', 'SBS1'],\n",
    " 'PROSTATE': ['SBS5', 'SBS1', 'SBS8'],\n",
    " 'SKCM': ['SBS7a', 'SBS7b']\n",
    "}\n",
    "ctypes_to_run = data_to_run.keys()"
   ]
  },
  {
   "cell_type": "code",
   "execution_count": 6,
   "metadata": {
    "collapsed": true
   },
   "outputs": [],
   "source": [
    "def fitnb(s):\n",
    "    \"\"\"Fit Negative Binomial\"\"\"\n",
    "\n",
    "    X = np.ones_like(s)\n",
    "    \n",
    "    # with loglike_method='nb2' variance = mu + alpha * mu^2\n",
    "    # alpha = res.params[1]\n",
    "    # theta = 1 / alpha\n",
    "\n",
    "    res = NegativeBinomial(s, X, loglike_method='nb2').fit(start_params=[1,1], disp=0)\n",
    "    mu = np.exp(res.params[0])\n",
    "    alpha = res.params[1]\n",
    "    theta = 1 / alpha\n",
    "    \n",
    "    return mu, theta, alpha"
   ]
  },
  {
   "cell_type": "markdown",
   "metadata": {},
   "source": [
    "### Load data\n",
    "\n",
    "- 1 Mpb mappable genomic bins.\n",
    "- Observed hotspot propensity using 30000 total mutations.\n",
    "- Signature mutation counts across mappable megabases, obtained from observed data in a given cancer type."
   ]
  },
  {
   "cell_type": "markdown",
   "metadata": {},
   "source": [
    "#### Megabases"
   ]
  },
  {
   "cell_type": "code",
   "execution_count": 7,
   "metadata": {
    "scrolled": true
   },
   "outputs": [
    {
     "data": {
      "text/html": [
       "<div>\n",
       "<style scoped>\n",
       "    .dataframe tbody tr th:only-of-type {\n",
       "        vertical-align: middle;\n",
       "    }\n",
       "\n",
       "    .dataframe tbody tr th {\n",
       "        vertical-align: top;\n",
       "    }\n",
       "\n",
       "    .dataframe thead th {\n",
       "        text-align: right;\n",
       "    }\n",
       "</style>\n",
       "<table border=\"1\" class=\"dataframe\">\n",
       "  <thead>\n",
       "    <tr style=\"text-align: right;\">\n",
       "      <th></th>\n",
       "      <th>CHR</th>\n",
       "      <th>START</th>\n",
       "      <th>END</th>\n",
       "      <th>BINID</th>\n",
       "    </tr>\n",
       "  </thead>\n",
       "  <tbody>\n",
       "    <tr>\n",
       "      <th>0</th>\n",
       "      <td>chr1</td>\n",
       "      <td>4000000</td>\n",
       "      <td>5000000</td>\n",
       "      <td>chr1:4000000-5000000</td>\n",
       "    </tr>\n",
       "    <tr>\n",
       "      <th>1</th>\n",
       "      <td>chr1</td>\n",
       "      <td>5000000</td>\n",
       "      <td>6000000</td>\n",
       "      <td>chr1:5000000-6000000</td>\n",
       "    </tr>\n",
       "    <tr>\n",
       "      <th>2</th>\n",
       "      <td>chr1</td>\n",
       "      <td>8000000</td>\n",
       "      <td>9000000</td>\n",
       "      <td>chr1:8000000-9000000</td>\n",
       "    </tr>\n",
       "    <tr>\n",
       "      <th>3</th>\n",
       "      <td>chr1</td>\n",
       "      <td>9000000</td>\n",
       "      <td>10000000</td>\n",
       "      <td>chr1:9000000-10000000</td>\n",
       "    </tr>\n",
       "    <tr>\n",
       "      <th>4</th>\n",
       "      <td>chr1</td>\n",
       "      <td>14000000</td>\n",
       "      <td>15000000</td>\n",
       "      <td>chr1:14000000-15000000</td>\n",
       "    </tr>\n",
       "  </tbody>\n",
       "</table>\n",
       "</div>"
      ],
      "text/plain": [
       "    CHR     START       END                   BINID\n",
       "0  chr1   4000000   5000000    chr1:4000000-5000000\n",
       "1  chr1   5000000   6000000    chr1:5000000-6000000\n",
       "2  chr1   8000000   9000000    chr1:8000000-9000000\n",
       "3  chr1   9000000  10000000   chr1:9000000-10000000\n",
       "4  chr1  14000000  15000000  chr1:14000000-15000000"
      ]
     },
     "execution_count": 7,
     "metadata": {},
     "output_type": "execute_result"
    }
   ],
   "source": [
    "# Load 1 Mbp bins across autosomes\n",
    "bins_f = f'{data_dir}/hg38_1000kb_bin.nodrivers.filtered.all_positions.autosomes.bed.gz'\n",
    "bins_autosom_df = pd.read_csv(bins_f, sep='\\t', header=0)\n",
    "bins_autosom_df.head()"
   ]
  },
  {
   "cell_type": "code",
   "execution_count": 8,
   "metadata": {},
   "outputs": [
    {
     "data": {
      "text/plain": [
       "2196"
      ]
     },
     "execution_count": 8,
     "metadata": {},
     "output_type": "execute_result"
    }
   ],
   "source": [
    "total_bins = bins_autosom_df['BINID'].unique()\n",
    "len(total_bins)"
   ]
  },
  {
   "cell_type": "markdown",
   "metadata": {},
   "source": [
    "#### Observed hotspot propensity"
   ]
  },
  {
   "cell_type": "code",
   "execution_count": 9,
   "metadata": {},
   "outputs": [
    {
     "data": {
      "text/html": [
       "<div>\n",
       "<style scoped>\n",
       "    .dataframe tbody tr th:only-of-type {\n",
       "        vertical-align: middle;\n",
       "    }\n",
       "\n",
       "    .dataframe tbody tr th {\n",
       "        vertical-align: top;\n",
       "    }\n",
       "\n",
       "    .dataframe thead th {\n",
       "        text-align: right;\n",
       "    }\n",
       "</style>\n",
       "<table border=\"1\" class=\"dataframe\">\n",
       "  <thead>\n",
       "    <tr style=\"text-align: right;\">\n",
       "      <th></th>\n",
       "      <th>ITER</th>\n",
       "      <th>N_SAMPLES</th>\n",
       "      <th>TOTAL_HOTSPOTS</th>\n",
       "      <th>TOTAL_HOTSPOTS_UNIQPOS</th>\n",
       "      <th>TOTAL_MUTS</th>\n",
       "      <th>CTYPE</th>\n",
       "      <th>SIGNATURE</th>\n",
       "    </tr>\n",
       "  </thead>\n",
       "  <tbody>\n",
       "    <tr>\n",
       "      <th>0</th>\n",
       "      <td>BLADDER_URI_iter_0_SBS2</td>\n",
       "      <td>100</td>\n",
       "      <td>0</td>\n",
       "      <td>0</td>\n",
       "      <td>10000</td>\n",
       "      <td>BLADDER_URI</td>\n",
       "      <td>SBS2</td>\n",
       "    </tr>\n",
       "    <tr>\n",
       "      <th>1</th>\n",
       "      <td>BLADDER_URI_iter_1_SBS2</td>\n",
       "      <td>100</td>\n",
       "      <td>1</td>\n",
       "      <td>1</td>\n",
       "      <td>10000</td>\n",
       "      <td>BLADDER_URI</td>\n",
       "      <td>SBS2</td>\n",
       "    </tr>\n",
       "    <tr>\n",
       "      <th>2</th>\n",
       "      <td>BLADDER_URI_iter_2_SBS2</td>\n",
       "      <td>100</td>\n",
       "      <td>0</td>\n",
       "      <td>0</td>\n",
       "      <td>10000</td>\n",
       "      <td>BLADDER_URI</td>\n",
       "      <td>SBS2</td>\n",
       "    </tr>\n",
       "    <tr>\n",
       "      <th>3</th>\n",
       "      <td>BLADDER_URI_iter_3_SBS2</td>\n",
       "      <td>100</td>\n",
       "      <td>2</td>\n",
       "      <td>2</td>\n",
       "      <td>10000</td>\n",
       "      <td>BLADDER_URI</td>\n",
       "      <td>SBS2</td>\n",
       "    </tr>\n",
       "    <tr>\n",
       "      <th>4</th>\n",
       "      <td>BLADDER_URI_iter_4_SBS2</td>\n",
       "      <td>100</td>\n",
       "      <td>2</td>\n",
       "      <td>2</td>\n",
       "      <td>10000</td>\n",
       "      <td>BLADDER_URI</td>\n",
       "      <td>SBS2</td>\n",
       "    </tr>\n",
       "  </tbody>\n",
       "</table>\n",
       "</div>"
      ],
      "text/plain": [
       "                      ITER  N_SAMPLES  TOTAL_HOTSPOTS  TOTAL_HOTSPOTS_UNIQPOS  \\\n",
       "0  BLADDER_URI_iter_0_SBS2        100               0                       0   \n",
       "1  BLADDER_URI_iter_1_SBS2        100               1                       1   \n",
       "2  BLADDER_URI_iter_2_SBS2        100               0                       0   \n",
       "3  BLADDER_URI_iter_3_SBS2        100               2                       2   \n",
       "4  BLADDER_URI_iter_4_SBS2        100               2                       2   \n",
       "\n",
       "   TOTAL_MUTS        CTYPE SIGNATURE  \n",
       "0       10000  BLADDER_URI      SBS2  \n",
       "1       10000  BLADDER_URI      SBS2  \n",
       "2       10000  BLADDER_URI      SBS2  \n",
       "3       10000  BLADDER_URI      SBS2  \n",
       "4       10000  BLADDER_URI      SBS2  "
      ]
     },
     "execution_count": 9,
     "metadata": {},
     "output_type": "execute_result"
    }
   ],
   "source": [
    "# Observed hotspot propensity\n",
    "propensity_f = f'{data_dir}/hotspot_propensity_1000iter_100samples_100-300muts.txt.gz'\n",
    "propensity_df = pd.read_csv(propensity_f, sep='\\t', header=0)\n",
    "propensity_df.head()"
   ]
  },
  {
   "cell_type": "markdown",
   "metadata": {},
   "source": [
    "### Compute observed hotspot propensity"
   ]
  },
  {
   "cell_type": "code",
   "execution_count": 10,
   "metadata": {},
   "outputs": [
    {
     "data": {
      "text/html": [
       "<div>\n",
       "<style scoped>\n",
       "    .dataframe tbody tr th:only-of-type {\n",
       "        vertical-align: middle;\n",
       "    }\n",
       "\n",
       "    .dataframe tbody tr th {\n",
       "        vertical-align: top;\n",
       "    }\n",
       "\n",
       "    .dataframe thead th {\n",
       "        text-align: right;\n",
       "    }\n",
       "</style>\n",
       "<table border=\"1\" class=\"dataframe\">\n",
       "  <thead>\n",
       "    <tr style=\"text-align: right;\">\n",
       "      <th></th>\n",
       "      <th>ITER</th>\n",
       "      <th>N_SAMPLES</th>\n",
       "      <th>TOTAL_HOTSPOTS</th>\n",
       "      <th>TOTAL_HOTSPOTS_UNIQPOS</th>\n",
       "      <th>TOTAL_MUTS</th>\n",
       "      <th>CTYPE</th>\n",
       "      <th>SIGNATURE</th>\n",
       "    </tr>\n",
       "  </thead>\n",
       "  <tbody>\n",
       "    <tr>\n",
       "      <th>259640</th>\n",
       "      <td>COADREAD_iter_640_SBS17b</td>\n",
       "      <td>100</td>\n",
       "      <td>129</td>\n",
       "      <td>129</td>\n",
       "      <td>30000</td>\n",
       "      <td>COADREAD</td>\n",
       "      <td>SBS17b</td>\n",
       "    </tr>\n",
       "    <tr>\n",
       "      <th>259565</th>\n",
       "      <td>COADREAD_iter_565_SBS17b</td>\n",
       "      <td>100</td>\n",
       "      <td>120</td>\n",
       "      <td>120</td>\n",
       "      <td>30000</td>\n",
       "      <td>COADREAD</td>\n",
       "      <td>SBS17b</td>\n",
       "    </tr>\n",
       "    <tr>\n",
       "      <th>259916</th>\n",
       "      <td>COADREAD_iter_916_SBS17b</td>\n",
       "      <td>100</td>\n",
       "      <td>119</td>\n",
       "      <td>119</td>\n",
       "      <td>30000</td>\n",
       "      <td>COADREAD</td>\n",
       "      <td>SBS17b</td>\n",
       "    </tr>\n",
       "    <tr>\n",
       "      <th>259824</th>\n",
       "      <td>COADREAD_iter_824_SBS17b</td>\n",
       "      <td>100</td>\n",
       "      <td>119</td>\n",
       "      <td>119</td>\n",
       "      <td>30000</td>\n",
       "      <td>COADREAD</td>\n",
       "      <td>SBS17b</td>\n",
       "    </tr>\n",
       "    <tr>\n",
       "      <th>259425</th>\n",
       "      <td>COADREAD_iter_425_SBS17b</td>\n",
       "      <td>100</td>\n",
       "      <td>119</td>\n",
       "      <td>119</td>\n",
       "      <td>30000</td>\n",
       "      <td>COADREAD</td>\n",
       "      <td>SBS17b</td>\n",
       "    </tr>\n",
       "  </tbody>\n",
       "</table>\n",
       "</div>"
      ],
      "text/plain": [
       "                            ITER  N_SAMPLES  TOTAL_HOTSPOTS  \\\n",
       "259640  COADREAD_iter_640_SBS17b        100             129   \n",
       "259565  COADREAD_iter_565_SBS17b        100             120   \n",
       "259916  COADREAD_iter_916_SBS17b        100             119   \n",
       "259824  COADREAD_iter_824_SBS17b        100             119   \n",
       "259425  COADREAD_iter_425_SBS17b        100             119   \n",
       "\n",
       "        TOTAL_HOTSPOTS_UNIQPOS  TOTAL_MUTS     CTYPE SIGNATURE  \n",
       "259640                     129       30000  COADREAD    SBS17b  \n",
       "259565                     120       30000  COADREAD    SBS17b  \n",
       "259916                     119       30000  COADREAD    SBS17b  \n",
       "259824                     119       30000  COADREAD    SBS17b  \n",
       "259425                     119       30000  COADREAD    SBS17b  "
      ]
     },
     "execution_count": 10,
     "metadata": {},
     "output_type": "execute_result"
    }
   ],
   "source": [
    "# Use only subsamplings with 300 mutations per sample across 100 samples (= 30000 total mutations)\n",
    "subset = propensity_df.loc[propensity_df['TOTAL_MUTS'] == 30000].copy()\n",
    "subset.sort_values(by='TOTAL_HOTSPOTS_UNIQPOS', ascending=False, inplace=True)\n",
    "subset.head()"
   ]
  },
  {
   "cell_type": "code",
   "execution_count": 11,
   "metadata": {},
   "outputs": [
    {
     "data": {
      "text/plain": [
       "{'SBS1': (39.0, 34.0, 44.0),\n",
       " 'SBS13': (4.0, 2.0, 5.0),\n",
       " 'SBS17a': (72.0, 62.0, 81.0),\n",
       " 'SBS17b': (78.0, 69.0, 89.0),\n",
       " 'SBS18': (7.0, 5.0, 8.0),\n",
       " 'SBS2': (6.0, 4.0, 7.0),\n",
       " 'SBS3': (1.0, 0.0, 2.0),\n",
       " 'SBS4': (1.0, 0.0, 2.0),\n",
       " 'SBS40': (1.0, 0.0, 2.0),\n",
       " 'SBS5': (2.0, 1.0, 3.0),\n",
       " 'SBS7a': (7.0, 6.0, 9.0),\n",
       " 'SBS7b': (3.5, 2.0, 5.0),\n",
       " 'SBS8': (6.0, 4.0, 8.0),\n",
       " 'SBS93': (6.0, 5.0, 8.0)}"
      ]
     },
     "execution_count": 11,
     "metadata": {},
     "output_type": "execute_result"
    }
   ],
   "source": [
    "data_to_plot = dict()\n",
    "for signature, data in subset.groupby('SIGNATURE'): \n",
    "    median = np.median(data['TOTAL_HOTSPOTS_UNIQPOS'])\n",
    "    first_quartile = np.percentile(data['TOTAL_HOTSPOTS_UNIQPOS'], 25)\n",
    "    third_quartile = np.percentile(data['TOTAL_HOTSPOTS_UNIQPOS'], 75)\n",
    "    data_to_plot[signature] = (median, first_quartile, third_quartile)\n",
    "data_to_plot"
   ]
  },
  {
   "cell_type": "markdown",
   "metadata": {},
   "source": [
    "### Compute mutational overdispersion across megabases"
   ]
  },
  {
   "cell_type": "code",
   "execution_count": 12,
   "metadata": {},
   "outputs": [
    {
     "name": "stdout",
     "output_type": "stream",
     "text": [
      "BLADDER_URI\n",
      "BRCA\n",
      "COADREAD\n",
      "ESOPHA_STOMACH\n",
      "NSCLC\n",
      "PROSTATE\n",
      "SKCM\n"
     ]
    }
   ],
   "source": [
    "data = defaultdict(dict)\n",
    "results = defaultdict(dict)\n",
    "for ctype, signatures in data_to_run.items(): \n",
    "    print(ctype)\n",
    "    # Load mutation counts per megabase\n",
    "    input_f = f'{data_dir}/{ctype}.1000kb.nodrivers.total_maxprob.mutations_per_bin.json'\n",
    "    with open(input_f, 'r') as fd: \n",
    "        muts_per_bin = json.load(fd)\n",
    "    \n",
    "    for signature in signatures: \n",
    "        # Read counts\n",
    "        muts = []\n",
    "        for binid in total_bins: \n",
    "            binid_data = muts_per_bin.get(binid)\n",
    "            if binid_data:\n",
    "                muts += [binid_data.get(signature, 0)]\n",
    "        # Save mutations\n",
    "        data[ctype][signature] = muts\n",
    "        # Fit Negative Binomial\n",
    "        results[ctype][signature] = fitnb(muts)"
   ]
  },
  {
   "cell_type": "code",
   "execution_count": 13,
   "metadata": {},
   "outputs": [
    {
     "name": "stdout",
     "output_type": "stream",
     "text": [
      "COADREAD SBS1 0.1660154041273464\n",
      "COADREAD SBS17b 0.5322206038492664\n",
      "ESOPHA_STOMACH SBS1 0.1261785460370586\n",
      "ESOPHA_STOMACH SBS17b 1.1584893337246671\n"
     ]
    }
   ],
   "source": [
    "for ctype in ['COADREAD', 'ESOPHA_STOMACH']: \n",
    "    print(ctype, 'SBS1', results[ctype]['SBS1'][2])\n",
    "    print(ctype, 'SBS17b', results[ctype]['SBS17b'][2])"
   ]
  },
  {
   "cell_type": "code",
   "execution_count": 14,
   "metadata": {},
   "outputs": [
    {
     "data": {
      "text/plain": [
       "defaultdict(list,\n",
       "            {'SBS2': [0.032428778882393705,\n",
       "              0.061989327389643606,\n",
       "              0.10230161674971708],\n",
       "             'SBS13': [0.018612787541123086,\n",
       "              0.0321894426332065,\n",
       "              0.058486733669825805],\n",
       "             'SBS5': [0.1588593127638091,\n",
       "              0.09658873966394449,\n",
       "              0.26798629803542945,\n",
       "              0.3251442543165628,\n",
       "              0.22866124236764718,\n",
       "              0.13309414510911166],\n",
       "             'SBS1': [0.09666269234532787,\n",
       "              0.09725262087476066,\n",
       "              0.1660154041273464,\n",
       "              0.1261785460370586,\n",
       "              0.10646439588033506,\n",
       "              0.1551739646585143],\n",
       "             'SBS3': [0.07355266098037977],\n",
       "             'SBS40': [0.32399309651314795, 0.29129586452372486],\n",
       "             'SBS17b': [0.5322206038492664, 1.1584893337246671],\n",
       "             'SBS18': [0.509543001440089],\n",
       "             'SBS93': [0.42296742931376524],\n",
       "             'SBS17a': [0.5693833896571188, 1.1505970677877555],\n",
       "             'SBS4': [0.4389117982092683],\n",
       "             'SBS8': [0.2953547159995463],\n",
       "             'SBS7a': [0.31855988207067254],\n",
       "             'SBS7b': [0.10587680800401623]})"
      ]
     },
     "execution_count": 14,
     "metadata": {},
     "output_type": "execute_result"
    }
   ],
   "source": [
    "# Merge data per signature\n",
    "data_per_sig = defaultdict(list)\n",
    "for ctype, signatures in results.items(): \n",
    "    for sig in signatures:\n",
    "        data_per_sig[sig] += [results[ctype][sig][2]]\n",
    "data_per_sig"
   ]
  },
  {
   "cell_type": "markdown",
   "metadata": {},
   "source": [
    "## Panel 4C"
   ]
  },
  {
   "cell_type": "code",
   "execution_count": 15,
   "metadata": {},
   "outputs": [
    {
     "data": {
      "image/png": "[encoded data removed]",
      "text/plain": [
       "<Figure size 126x126 with 1 Axes>"
      ]
     },
     "metadata": {
      "needs_background": "light"
     },
     "output_type": "display_data"
    }
   ],
   "source": [
    "fig = plt.figure(figsize=(1.75, 1.75))\n",
    "ax = plt.subplot2grid((1, 1), (0, 0))\n",
    "ax.set_ylabel('# hotspots per 30000 mutations', fontsize=5)\n",
    "ax.set_xlabel(r'Mutation overdispersion ($\\alpha$)', fontsize=5)\n",
    "\n",
    "legend_elements = []\n",
    "for sig, alphas in data_per_sig.items():\n",
    "    color = sigs_color.get(sig, 'grey')\n",
    "    y = data_to_plot[sig][0]\n",
    "    if len(alphas) > 1: \n",
    "        x = np.median(alphas)\n",
    "        ax.plot([min(alphas), max(alphas)], [y, y], ls='-', lw=0.5, c='black', zorder=1)\n",
    "    else: \n",
    "        x = alphas[0]\n",
    "    ax.plot(x, y, '.', markersize=6, linewidth=0, markeredgewidth=0, color=color, alpha=0.75, zorder=3)\n",
    "    ax.annotate(s=sig, xy=(x, y), xytext=(x, y+1), fontsize=4, color=color, ha='center')\n",
    "    legend_elements.append(Line2D([0], [0], marker='s', color='w', label=sig, markerfacecolor=color, markersize=5))\n",
    "\n",
    "ax.set_ylim(-1, 100)\n",
    "ax.set_yticks([0, 20, 40, 60, 80, 100])\n",
    "ax.set_yticklabels(ax.get_yticks(), fontsize=5)\n",
    "ax.set_xticks([0, 0.2, 0.4, 0.6, 0.8, 1, 1.2, 1.4])\n",
    "ax.set_xticklabels([0, 0.2, 0.4, 0.6, 0.8, 1, 1.2, 1.4], fontsize=5)\n",
    "\n",
    "ax.spines['left'].set(lw=0.5)\n",
    "ax.spines['bottom'].set(lw=0.5)\n",
    "ax.spines['right'].set_visible(False)\n",
    "ax.spines['top'].set_visible(False)\n",
    "plt.setp(ax.yaxis.get_ticklines(), 'markeredgewidth', 0.5)\n",
    "plt.setp(ax.xaxis.get_ticklines(), 'markeredgewidth', 0.5)\n",
    "ax.set_axisbelow(True)\n",
    "ax.grid(color='lightgrey', linestyle='--', linewidth=0.5, zorder=0)\n",
    "\n",
    "for extension in ['png']: \n",
    "    output = f'./fig_4C.{extension}'\n",
    "    plt.savefig(output, bbox_inches='tight', dpi=300)"
   ]
  },
  {
   "cell_type": "code",
   "execution_count": null,
   "metadata": {
    "collapsed": true
   },
   "outputs": [],
   "source": []
  }
 ],
 "metadata": {
  "kernelspec": {
   "display_name": "Python [conda env:hotspot_propensity]",
   "language": "python",
   "name": "conda-env-hotspot_propensity-py"
  },
  "language_info": {
   "codemirror_mode": {
    "name": "ipython",
    "version": 3
   },
   "file_extension": ".py",
   "mimetype": "text/x-python",
   "name": "python",
   "nbconvert_exporter": "python",
   "pygments_lexer": "ipython3",
   "version": "3.6.13"
  }
 },
 "nbformat": 4,
 "nbformat_minor": 2
}
