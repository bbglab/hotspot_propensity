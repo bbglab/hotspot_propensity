{
 "cells": [
  {
   "cell_type": "markdown",
   "metadata": {},
   "source": [
    "# Assign mutation to the signature with maximum probability"
   ]
  },
  {
   "cell_type": "markdown",
   "metadata": {},
   "source": [
    "For a given mutation in a given patient, given the vector of probabilities of that mutation arising from the set of signatures active in the patient, assign the mutation to the signature with maximum probability of creating it.\n",
    "\n",
    "We run this code for the three sets of mutations: 1) total, 2) inside and 3) outside hotspots"
   ]
  },
  {
   "cell_type": "code",
   "execution_count": 1,
   "metadata": {
    "collapsed": true
   },
   "outputs": [],
   "source": [
    "import os\n",
    "from collections import defaultdict\n",
    "\n",
    "import pandas as pd"
   ]
  },
  {
   "cell_type": "code",
   "execution_count": 2,
   "metadata": {
    "collapsed": true
   },
   "outputs": [],
   "source": [
    "main_dir = ''"
   ]
  },
  {
   "cell_type": "code",
   "execution_count": 3,
   "metadata": {
    "collapsed": true
   },
   "outputs": [],
   "source": [
    "code = os.path.join(main_dir, 'code', 'assign_muts_to_sigs_maxprob.py')\n",
    "map_file = os.path.join(main_dir, 'code', f'2_assign_muts_to_sigs_maxprob.map')\n",
    "input_dir = output_dir = os.path.join(main_dir, 'data')"
   ]
  },
  {
   "cell_type": "code",
   "execution_count": 4,
   "metadata": {
    "collapsed": true
   },
   "outputs": [],
   "source": [
    "info = [\n",
    "    '[params]',\n",
    "    'cores=1',\n",
    "    'memory=100G\\n',\n",
    "    '[pre]',\n",
    "    '. \"/home/$USER/miniconda3/etc/profile.d/conda.sh\"',\n",
    "    'conda activate hotspots_framework\\n',\n",
    "    '[jobs]',\n",
    "]"
   ]
  },
  {
   "cell_type": "code",
   "execution_count": 5,
   "metadata": {
    "collapsed": true,
    "scrolled": false
   },
   "outputs": [],
   "source": [
    "with open(map_file, 'w') as ofd: \n",
    "    \n",
    "    for line in info: \n",
    "        ofd.write(f'{line}\\n')\n",
    "\n",
    "    for entry in os.scandir(input_dir): \n",
    "        if entry.name.endswith('.txt'): \n",
    "        \n",
    "            prefix = entry.name.split('.')[0]\n",
    "\n",
    "            # Define output file\n",
    "            output_f = os.path.join(output_dir, f'{prefix}_maxprob.originalref.tsv')\n",
    "\n",
    "            # Write\n",
    "            ofd.write(f'python {code} -m {entry.path} -o {output_f}\\n')"
   ]
  }
 ],
 "metadata": {
  "kernelspec": {
   "display_name": "Python [conda env:hotspots_framework]",
   "language": "python",
   "name": "conda-env-hotspots_framework-py"
  },
  "language_info": {
   "codemirror_mode": {
    "name": "ipython",
    "version": 3
   },
   "file_extension": ".py",
   "mimetype": "text/x-python",
   "name": "python",
   "nbconvert_exporter": "python",
   "pygments_lexer": "ipython3",
   "version": "3.6.10"
  }
 },
 "nbformat": 4,
 "nbformat_minor": 2
}
