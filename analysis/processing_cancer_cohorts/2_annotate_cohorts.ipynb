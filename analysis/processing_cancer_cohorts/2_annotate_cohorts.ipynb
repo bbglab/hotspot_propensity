{
 "cells": [
  {
   "cell_type": "markdown",
   "metadata": {},
   "source": [
    "# Annotate cohort data"
   ]
  },
  {
   "cell_type": "markdown",
   "metadata": {},
   "source": [
    "For each cohort, annotate the number of samples and mutations after filtering. "
   ]
  },
  {
   "cell_type": "markdown",
   "metadata": {},
   "source": [
    "Generate the table \"cohorts_samples_mutations.txt\""
   ]
  },
  {
   "cell_type": "code",
   "execution_count": 1,
   "metadata": {
    "collapsed": true
   },
   "outputs": [],
   "source": [
    "import os\n",
    "\n",
    "import pandas as pd"
   ]
  },
  {
   "cell_type": "code",
   "execution_count": 2,
   "metadata": {
    "collapsed": true
   },
   "outputs": [],
   "source": [
    "main_directory = ''\n",
    "input_directory_filtered = os.path.join(main_directory, 'inputs', 'data', 'cohorts_filtered')\n",
    "output_directory = os.path.join(main_directory, 'inputs', 'tables')"
   ]
  },
  {
   "cell_type": "code",
   "execution_count": 3,
   "metadata": {},
   "outputs": [
    {
     "name": "stdout",
     "output_type": "stream",
     "text": [
      "HARTWIG_MESOTHELIOMA\n",
      "HARTWIG_NERVOUS_SYSTEM_GLIOBLASTOMA_MULTIFORME\n",
      "PCAWG_WGS_UTERUS_ADENOCA\n",
      "PCAWG_WGS_THY_ADENOCA\n",
      "PCAWG_WGS_SKIN_MELANOMA\n",
      "PCAWG_WGS_PROST_ADENOCA\n",
      "PCAWG_WGS_STOMACH_ADENOCA\n",
      "HARTWIG_NET_LUNG\n",
      "HARTWIG_SKIN_SKIN_SQUAMOUS_CELL_CARCINOMA\n",
      "PCAWG_WGS_ESO_ADENOCA\n",
      "HARTWIG_STOMACH\n",
      "PCAWG_WGS_CNS_MEDULLO\n",
      "HARTWIG_UTERUS_CERVICAL\n",
      "PCAWG_WGS_CERVIX_SCC\n",
      "HARTWIG_SKIN_MELANOMA\n",
      "HARTWIG_UTERUS_ENDOMETRIAL\n",
      "HARTWIG_THYROID\n",
      "HARTWIG_HEAD_AND_NECK\n",
      "HARTWIG_URINARY_TRACT\n",
      "HARTWIG_SMALL_INTESTINE\n",
      "PCAWG_WGS_LUNG_ADENOCA\n",
      "PCAWG_WGS_HEAD_SCC\n",
      "HARTWIG_KIDNEY_RENAL_CELL\n",
      "PCAWG_WGS_CNS_GBM\n",
      "D_CM\n",
      "PCAWG_WGS_LIVER_HCC\n",
      "PCAWG_WGS_BREAST_ADENOCA\n",
      "PCAWG_WGS_BREAST_LOBULARCA\n",
      "HARTWIG_PROSTATE\n",
      "D_ALL\n",
      "PCAWG_WGS_KIDNEY_RCC\n",
      "PCAWG_WGS_COLORECT_ADENOCA\n",
      "PCAWG_WGS_KIDNEY_CHRCC\n",
      "HARTWIG_BONESOFT_TISSUE\n",
      "D_AML\n",
      "D_RHBDS\n",
      "D_ACC\n",
      "PCAWG_WGS_CNS_OLIGO\n",
      "PCAWG_WGS_CNS_PILOASTRO\n",
      "D_HGG\n",
      "HARTWIG_BILIARY\n",
      "HARTWIG_COLONRECTUM\n",
      "PEDCBIOP_WGS_ES_IOCURIE_2014\n",
      "HARTWIG_PANCREAS\n",
      "HARTWIG_NET_PANCREATIC\n",
      "HARTWIG_OVARY\n",
      "HARTWIG_SKIN_BASAL_CELL_CARCINOMA\n",
      "HARTWIG_ESOPHAGUS\n",
      "TARGET_WGS_WT_US\n",
      "HARTWIG_BREAST\n",
      "HARTWIG_NET_SMALL_INTESTINAL\n",
      "PCAWG_WGS_BILIARY_ADENOCA\n",
      "TARGET_WGS_NBL_US\n",
      "HARTWIG_LIVER\n",
      "M_OS\n",
      "PCAWG_WGS_PANC_ADENOCA\n",
      "D_NB\n",
      "HARTWIG_ANUS\n",
      "PCAWG_WGS_BONE_LEIOMYO\n",
      "D_LGG\n",
      "PCAWG_WGS_PANC_ENDOCRINE\n",
      "PCAWG_WGS_MYELOID_MPN\n",
      "PCAWG_WGS_MYELOID_AML\n",
      "OTHER_WGS_MM_NATLEUK2018\n",
      "HARTWIG_VULVA\n",
      "PCAWG_WGS_LUNG_SCC\n",
      "PCAWG_WGS_BLADDER_TCC\n",
      "PCAWG_WGS_LYMPH_CLL\n",
      "HARTWIG_LYMPHOID\n",
      "PCAWG_WGS_LYMPH_BNHL\n",
      "HARTWIG_LUNG_NON_SMALL_CELL\n",
      "PCAWG_WGS_BONE_OSTEOSARC\n",
      "PCAWG_WGS_OVARY_ADENOCA\n",
      "D_OS\n",
      "HARTWIG_LUNG_SMALL_CELL\n",
      "D_EPD\n",
      "D_MB\n",
      "D_RB\n"
     ]
    }
   ],
   "source": [
    "lines = []\n",
    "for entry in os.scandir(input_directory_filtered): \n",
    "    if entry.name.endswith('.in.gz'): \n",
    "        cohort_name = entry.name.split('.')[0]\n",
    "        cohort_data = [cohort_name]\n",
    "        \n",
    "        cohort_df = pd.read_csv(entry.path, sep='\\t', header=0, low_memory=False)\n",
    "        filtered_samples = len(cohort_df['SAMPLE'].unique())\n",
    "        filtered_mutations = len(cohort_df)\n",
    "        \n",
    "        cohort_data += [filtered_samples]\n",
    "        cohort_data += [filtered_mutations]\n",
    "        for mutype in ['snv', 'mnv', 'del', 'ins']: \n",
    "            count_mutype = cohort_df['MUTYPE'].to_list().count(mutype)\n",
    "            cohort_data += [count_mutype]\n",
    "        \n",
    "        lines.append(pd.DataFrame([cohort_data]))\n",
    "        print(cohort_name)\n",
    "\n",
    "annot_df = pd.concat(lines)\n",
    "annot_df.columns = ['COHORT', 'SAMPLES', 'MUTATIONS_TOTAL', 'MUTATIONS_SNV', 'MUTATIONS_MNV', 'MUTATIONS_INS', 'MUTATIONS_DEL']"
   ]
  },
  {
   "cell_type": "code",
   "execution_count": 4,
   "metadata": {},
   "outputs": [
    {
     "data": {
      "text/html": [
       "<div>\n",
       "<style scoped>\n",
       "    .dataframe tbody tr th:only-of-type {\n",
       "        vertical-align: middle;\n",
       "    }\n",
       "\n",
       "    .dataframe tbody tr th {\n",
       "        vertical-align: top;\n",
       "    }\n",
       "\n",
       "    .dataframe thead th {\n",
       "        text-align: right;\n",
       "    }\n",
       "</style>\n",
       "<table border=\"1\" class=\"dataframe\">\n",
       "  <thead>\n",
       "    <tr style=\"text-align: right;\">\n",
       "      <th></th>\n",
       "      <th>COHORT</th>\n",
       "      <th>SAMPLES</th>\n",
       "      <th>MUTATIONS_TOTAL</th>\n",
       "      <th>MUTATIONS_SNV</th>\n",
       "      <th>MUTATIONS_MNV</th>\n",
       "      <th>MUTATIONS_INS</th>\n",
       "      <th>MUTATIONS_DEL</th>\n",
       "    </tr>\n",
       "  </thead>\n",
       "  <tbody>\n",
       "    <tr>\n",
       "      <th>0</th>\n",
       "      <td>HARTWIG_MESOTHELIOMA</td>\n",
       "      <td>33</td>\n",
       "      <td>111336</td>\n",
       "      <td>100261</td>\n",
       "      <td>1310</td>\n",
       "      <td>6031</td>\n",
       "      <td>3734</td>\n",
       "    </tr>\n",
       "    <tr>\n",
       "      <th>0</th>\n",
       "      <td>HARTWIG_NERVOUS_SYSTEM_GLIOBLASTOMA_MULTIFORME</td>\n",
       "      <td>54</td>\n",
       "      <td>371363</td>\n",
       "      <td>335086</td>\n",
       "      <td>1413</td>\n",
       "      <td>24920</td>\n",
       "      <td>9944</td>\n",
       "    </tr>\n",
       "    <tr>\n",
       "      <th>0</th>\n",
       "      <td>PCAWG_WGS_UTERUS_ADENOCA</td>\n",
       "      <td>38</td>\n",
       "      <td>331657</td>\n",
       "      <td>288049</td>\n",
       "      <td>1288</td>\n",
       "      <td>30366</td>\n",
       "      <td>11954</td>\n",
       "    </tr>\n",
       "    <tr>\n",
       "      <th>0</th>\n",
       "      <td>PCAWG_WGS_THY_ADENOCA</td>\n",
       "      <td>48</td>\n",
       "      <td>63303</td>\n",
       "      <td>59334</td>\n",
       "      <td>245</td>\n",
       "      <td>2801</td>\n",
       "      <td>923</td>\n",
       "    </tr>\n",
       "    <tr>\n",
       "      <th>0</th>\n",
       "      <td>PCAWG_WGS_SKIN_MELANOMA</td>\n",
       "      <td>98</td>\n",
       "      <td>7339443</td>\n",
       "      <td>7140676</td>\n",
       "      <td>121007</td>\n",
       "      <td>57184</td>\n",
       "      <td>20576</td>\n",
       "    </tr>\n",
       "  </tbody>\n",
       "</table>\n",
       "</div>"
      ],
      "text/plain": [
       "                                           COHORT  SAMPLES  MUTATIONS_TOTAL  \\\n",
       "0                            HARTWIG_MESOTHELIOMA       33           111336   \n",
       "0  HARTWIG_NERVOUS_SYSTEM_GLIOBLASTOMA_MULTIFORME       54           371363   \n",
       "0                        PCAWG_WGS_UTERUS_ADENOCA       38           331657   \n",
       "0                           PCAWG_WGS_THY_ADENOCA       48            63303   \n",
       "0                         PCAWG_WGS_SKIN_MELANOMA       98          7339443   \n",
       "\n",
       "   MUTATIONS_SNV  MUTATIONS_MNV  MUTATIONS_INS  MUTATIONS_DEL  \n",
       "0         100261           1310           6031           3734  \n",
       "0         335086           1413          24920           9944  \n",
       "0         288049           1288          30366          11954  \n",
       "0          59334            245           2801            923  \n",
       "0        7140676         121007          57184          20576  "
      ]
     },
     "execution_count": 4,
     "metadata": {},
     "output_type": "execute_result"
    }
   ],
   "source": [
    "annot_df.head()"
   ]
  },
  {
   "cell_type": "code",
   "execution_count": 5,
   "metadata": {
    "collapsed": true
   },
   "outputs": [],
   "source": [
    "output_f = os.path.join(output_directory, 'cohorts_samples_mutations.txt')\n",
    "annot_df.to_csv(output_f, sep='\\t', header=True, index=False)"
   ]
  }
 ],
 "metadata": {
  "kernelspec": {
   "display_name": "Python [default]",
   "language": "python",
   "name": "python3"
  },
  "language_info": {
   "codemirror_mode": {
    "name": "ipython",
    "version": 3
   },
   "file_extension": ".py",
   "mimetype": "text/x-python",
   "name": "python",
   "nbconvert_exporter": "python",
   "pygments_lexer": "ipython3",
   "version": "3.6.6"
  },
  "vscode": {
   "interpreter": {
    "hash": "4779a24e109b44e85d3bba08c3d6e141aa49922bf84ffa8e952e7c566bc38a04"
   }
  }
 },
 "nbformat": 4,
 "nbformat_minor": 2
}
