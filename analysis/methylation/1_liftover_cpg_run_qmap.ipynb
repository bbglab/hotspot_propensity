{
 "cells": [
  {
   "cell_type": "markdown",
   "metadata": {},
   "source": [
    "# Liftover fractional methylation data\n",
    "\n",
    "Fractional methylation data from Roadmap is hg19-based. This code liftovers fractional methylation to hg38. \n",
    "\n",
    "Some key points to consider: \n",
    "* Our analysis will be restricted to autosomes\n",
    "* Only those hg19 CpG sites that liftover to hg38 CpG sites are kept"
   ]
  },
  {
   "cell_type": "code",
   "execution_count": 1,
   "metadata": {
    "collapsed": true
   },
   "outputs": [],
   "source": [
    "import os"
   ]
  },
  {
   "cell_type": "code",
   "execution_count": 2,
   "metadata": {
    "collapsed": true
   },
   "outputs": [],
   "source": [
    "autosomes = [str(i) for i in range(1, 23)]"
   ]
  },
  {
   "cell_type": "code",
   "execution_count": 3,
   "metadata": {
    "collapsed": true
   },
   "outputs": [],
   "source": [
    "main_dir = ''"
   ]
  },
  {
   "cell_type": "code",
   "execution_count": 4,
   "metadata": {
    "collapsed": true
   },
   "outputs": [],
   "source": [
    "code_f = f'{main_dir}/code/liftover_cpg.py'\n",
    "map_f = f'{main_dir}/code/liftover_cpg.map'"
   ]
  },
  {
   "cell_type": "code",
   "execution_count": 5,
   "metadata": {
    "collapsed": true
   },
   "outputs": [],
   "source": [
    "input_dir = f'{main_dir}/data/inputs/FractionalMethylation_Removed_E027_E064_Fixed_E012'\n",
    "mnemonics_f = f'{main_dir}/data/inputs/EG.mnemonics.name.tsv'"
   ]
  },
  {
   "cell_type": "code",
   "execution_count": 6,
   "metadata": {
    "collapsed": true
   },
   "outputs": [],
   "source": [
    "output_dir = f'{main_dir}/data/fractional_methylation'"
   ]
  },
  {
   "cell_type": "code",
   "execution_count": 7,
   "metadata": {
    "collapsed": true
   },
   "outputs": [],
   "source": [
    "info = [\n",
    "    '[params]',\n",
    "    'cores=1',\n",
    "    'memory=8G\\n',\n",
    "    '[pre]',\n",
    "    '. \"/home/$USER/miniconda3/etc/profile.d/conda.sh\"',\n",
    "    'conda activate hotspots_framework\\n',\n",
    "    '[jobs]'\n",
    "]"
   ]
  },
  {
   "cell_type": "code",
   "execution_count": 8,
   "metadata": {
    "collapsed": true
   },
   "outputs": [],
   "source": [
    "with open(map_f, 'w') as ofd: \n",
    "    for line in info: \n",
    "        ofd.write(f'{line}\\n')\n",
    "    for file in os.scandir(input_dir):\n",
    "        chrom = file.name.split('chr')[-1].split('.')[0]\n",
    "        if file.name.endswith('fm') and chrom in autosomes:\n",
    "            output_f = output_dir + f'/hg38_chr{chrom}_cpg_me.txt.gz'\n",
    "            ofd.write(\n",
    "                f'python {code_f} --input_file {file.path} --output_file {output_f} --mnemonics {mnemonics_f} --chrom {chrom}\\n'\n",
    "            )            "
   ]
  }
 ],
 "metadata": {
  "kernelspec": {
   "display_name": "Python [conda env:hotspots_framework]",
   "language": "python",
   "name": "conda-env-hotspots_framework-py"
  },
  "language_info": {
   "codemirror_mode": {
    "name": "ipython",
    "version": 3
   },
   "file_extension": ".py",
   "mimetype": "text/x-python",
   "name": "python",
   "nbconvert_exporter": "python",
   "pygments_lexer": "ipython3",
   "version": "3.6.10"
  }
 },
 "nbformat": 4,
 "nbformat_minor": 2
}
