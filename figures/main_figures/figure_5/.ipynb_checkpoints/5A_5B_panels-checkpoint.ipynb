{
 "cells": [
  {
   "cell_type": "markdown",
   "metadata": {},
   "source": [
    "# Analysis of CTCF binding sites and SBS17 from Fig 5A and 5B"
   ]
  },
  {
   "cell_type": "code",
   "execution_count": 1,
   "metadata": {
    "collapsed": true
   },
   "outputs": [],
   "source": [
    "from collections import defaultdict\n",
    "import gzip\n",
    "import json\n",
    "\n",
    "from intervaltree import IntervalTree\n",
    "import matplotlib\n",
    "import matplotlib.pyplot as plt\n",
    "import matplotlib.patches as patches\n",
    "from matplotlib import rcParams\n",
    "import pandas as pd\n",
    "from scipy.signal import savgol_filter\n",
    "from statsmodels.sandbox.stats.multicomp import multipletests as mlpt"
   ]
  },
  {
   "cell_type": "code",
   "execution_count": 2,
   "metadata": {
    "collapsed": true
   },
   "outputs": [],
   "source": [
    "rcParams['font.family'] = 'sans-serif'\n",
    "rcParams['font.sans-serif'] = ['Arial']"
   ]
  },
  {
   "cell_type": "code",
   "execution_count": 3,
   "metadata": {
    "collapsed": true
   },
   "outputs": [],
   "source": [
    "def load_ctcf(input_f): \n",
    "    \"\"\"Load CTCF genomic coordinates into an IntervalTree\"\"\"\n",
    "\n",
    "    ctcf_tree = defaultdict(IntervalTree)\n",
    "    with open(input_f, 'r') as fd:\n",
    "        next(fd)\n",
    "        for line in fd:\n",
    "            chrom, start, end = line.strip().split('\\t')[0:3]\n",
    "            ctcf_tree[chrom].addi(int(start), int(end), f'chr1{chrom}:{start}-{end}')\n",
    "    return ctcf_tree"
   ]
  },
  {
   "cell_type": "code",
   "execution_count": 4,
   "metadata": {
    "collapsed": true
   },
   "outputs": [],
   "source": [
    "def load_hotspots_per_signature(input_f): \n",
    "    \"\"\"Read a table containing hotspots and attribute them to a mutational signature\"\"\"\n",
    "\n",
    "    # Read data per hotspot\n",
    "    hotspot_sigs = defaultdict(lambda: defaultdict(float))\n",
    "    signatures = set()\n",
    "    with gzip.open(input_f, 'rt') as fd: \n",
    "        next(fd)\n",
    "        for line in fd: \n",
    "            hotspot, _, _, _, _, signature, prob = line.strip().split()\n",
    "            hotspot_sigs[hotspot][signature] = prob\n",
    "            signatures.add(signature)\n",
    "    # Merge hotspots from equal signature\n",
    "    signature_hotspots = defaultdict(set)\n",
    "    for hotspot, data in hotspot_sigs.items(): \n",
    "        sorted_sigs = sorted([(s, float(p)) for s, p in data.items()], key=lambda x: x[1], reverse=True)\n",
    "        if sorted_sigs[0][1] > 0: \n",
    "            signature_hotspots[sorted_sigs[0][0]].add(hotspot)\n",
    "            \n",
    "    return signature_hotspots"
   ]
  },
  {
   "cell_type": "code",
   "execution_count": 5,
   "metadata": {
    "collapsed": true
   },
   "outputs": [],
   "source": [
    "sigs_color = {\n",
    " 'SBS17a': '#ffbb78ff',\n",
    " 'SBS17b': '#ff8921ff'\n",
    "}"
   ]
  },
  {
   "cell_type": "code",
   "execution_count": 6,
   "metadata": {
    "collapsed": true
   },
   "outputs": [],
   "source": [
    "data_dir = '../../../data'"
   ]
  },
  {
   "cell_type": "code",
   "execution_count": 7,
   "metadata": {
    "collapsed": true
   },
   "outputs": [],
   "source": [
    "def smoothing(data, window_length=101): \n",
    "    \"\"\"Apply smoothing over a list of mutations\"\"\"\n",
    "    \n",
    "    smooth_data = savgol_filter(data, window_length, 2)\n",
    "    sum_y = sum(smooth_data)\n",
    "    \n",
    "    return [(i/sum_y) for i in smooth_data]"
   ]
  },
  {
   "cell_type": "markdown",
   "metadata": {},
   "source": [
    "### Load data\n",
    "\n",
    "Data required for 5A\n",
    "- Observed list of mutations inside hotspots that are attributed to a signature and overlap 2 Kbp window centered at CTCF binding sites. \n",
    "- Observed list of mutations outside hotspots that are attributed to a signature and overlap 2 Kbp window centered at CTCF binding sites. \n",
    "- Results of enrichment of hotspot mutations in CTCF binding sites. This includes the expected distribution of mutations across the 2 Kbp window. \n",
    "\n",
    "Data required for 5B\n",
    "- Filtered CTCF binding sites from normal tissues. \n",
    "- Hotspots attributed to a signature in the cancer type."
   ]
  },
  {
   "cell_type": "markdown",
   "metadata": {},
   "source": [
    "#### Load data for 5A"
   ]
  },
  {
   "cell_type": "code",
   "execution_count": 8,
   "metadata": {
    "collapsed": true
   },
   "outputs": [],
   "source": [
    "run_dict = {\n",
    " 'COADREAD': ['SBS17b', 'SBS17a'],\n",
    " 'ESOPHA_STOMACH': ['SBS17b', 'SBS17a']\n",
    "}"
   ]
  },
  {
   "cell_type": "code",
   "execution_count": 9,
   "metadata": {},
   "outputs": [
    {
     "data": {
      "text/plain": [
       "700"
      ]
     },
     "execution_count": 9,
     "metadata": {},
     "output_type": "execute_result"
    }
   ],
   "source": [
    "# Parameters\n",
    "smoothing_length = 101\n",
    "feature_size = 600\n",
    "window_size = 2000\n",
    "flank_size = int((window_size - feature_size)  / 2)\n",
    "flank_size"
   ]
  },
  {
   "cell_type": "code",
   "execution_count": 10,
   "metadata": {},
   "outputs": [
    {
     "name": "stdout",
     "output_type": "stream",
     "text": [
      "COADREAD SBS17b\n",
      "COADREAD SBS17a\n",
      "ESOPHA_STOMACH SBS17b\n",
      "ESOPHA_STOMACH SBS17a\n"
     ]
    }
   ],
   "source": [
    "# Load data and get smooting curves to plot\n",
    "data_to_plot = defaultdict(dict)\n",
    "lines = []\n",
    "for ctype, signatures in run_dict.items(): \n",
    "    for signature in signatures: \n",
    "        print(ctype, signature)\n",
    "        \n",
    "        # Load observed INSIDE hotspots\n",
    "        observed_in_f = f'{data_dir}/ctcf/{ctype}_ctcf_maxprob_length2000.in.txt'\n",
    "        df = pd.read_csv(observed_in_f, sep='\\t', header=0)\n",
    "        observed_in = []\n",
    "        df = df.loc[df['SIGNATURE'] == signature].copy()\n",
    "        for i in range(0, 2000): \n",
    "            df_pos = df.loc[df['POS_REL_START'] == i].copy()\n",
    "            observed_in += [len(df_pos)]\n",
    "        observed_in_norm = [(i/sum(observed_in)) for i in observed_in]\n",
    "        # Get smoothing curve to plot\n",
    "        observed_in = smoothing(observed_in_norm, smoothing_length)\n",
    "        \n",
    "        # Load observed OUTSIDE hotspots\n",
    "        observed_out_f = f'{data_dir}/ctcf/{ctype}_ctcf_maxprob_length2000.out.txt'\n",
    "        df = pd.read_csv(observed_out_f, sep='\\t', header=0)\n",
    "        observed_out = []\n",
    "        df = df.loc[df['SIGNATURE'] == signature].copy()\n",
    "        for i in range(0, 2000): \n",
    "            df_pos = df.loc[df['POS_REL_START'] == i].copy()\n",
    "            observed_out += [len(df_pos)]\n",
    "        observed_out_norm = [(i/sum(observed_out)) for i in observed_out]\n",
    "        # Get smoothing curve to plot\n",
    "        observed_out = smoothing(observed_out_norm, smoothing_length)\n",
    "\n",
    "        # Load expected\n",
    "        expected_data_f = f'{data_dir}/ctcf/{ctype}_{signature}_simulations_ctcf_maxprob_length2000.in.json'\n",
    "        with open(expected_data_f, 'r') as fd: \n",
    "            expected_data = json.load(fd)    \n",
    "        expected_raw = expected_data['expected_muts']\n",
    "        expected_norm = [(i/sum(expected_raw)) for i in expected_raw]\n",
    "        # Get smoothing curve to plot\n",
    "        expected = smoothing(expected_norm, smoothing_length)\n",
    "\n",
    "        data_to_plot[f'{ctype}_{signature}']['observed_in'] = observed_in\n",
    "        data_to_plot[f'{ctype}_{signature}']['observed_out'] = observed_out\n",
    "        data_to_plot[f'{ctype}_{signature}']['expected'] = expected\n",
    "        data_to_plot[f'{ctype}_{signature}']['observed_fc'] = expected_data['observed_fc']\n",
    "        data_to_plot[f'{ctype}_{signature}']['pval'] = expected_data['pval']\n",
    "\n",
    "        lines.append(pd.DataFrame([[f'{ctype}_{signature}', expected_data['observed_fc'], expected_data['pval']]]))\n",
    "        \n",
    "table = pd.concat(lines)\n",
    "table.columns = ['CTYPE_SIG', 'FC', 'PVAL']\n",
    "# Add multiple testing correction\n",
    "qvalues = mlpt(table['PVAL'].tolist(), alpha=0.01, method='fdr_bh')[1]\n",
    "table['QVAL'] = qvalues"
   ]
  },
  {
   "cell_type": "code",
   "execution_count": 11,
   "metadata": {},
   "outputs": [
    {
     "data": {
      "text/html": [
       "<div>\n",
       "<style scoped>\n",
       "    .dataframe tbody tr th:only-of-type {\n",
       "        vertical-align: middle;\n",
       "    }\n",
       "\n",
       "    .dataframe tbody tr th {\n",
       "        vertical-align: top;\n",
       "    }\n",
       "\n",
       "    .dataframe thead th {\n",
       "        text-align: right;\n",
       "    }\n",
       "</style>\n",
       "<table border=\"1\" class=\"dataframe\">\n",
       "  <thead>\n",
       "    <tr style=\"text-align: right;\">\n",
       "      <th></th>\n",
       "      <th>CTYPE_SIG</th>\n",
       "      <th>FC</th>\n",
       "      <th>PVAL</th>\n",
       "      <th>QVAL</th>\n",
       "    </tr>\n",
       "  </thead>\n",
       "  <tbody>\n",
       "    <tr>\n",
       "      <th>0</th>\n",
       "      <td>COADREAD_SBS17b</td>\n",
       "      <td>15.633333</td>\n",
       "      <td>1.110223e-19</td>\n",
       "      <td>1.110223e-19</td>\n",
       "    </tr>\n",
       "    <tr>\n",
       "      <th>0</th>\n",
       "      <td>COADREAD_SBS17a</td>\n",
       "      <td>14.333333</td>\n",
       "      <td>1.110223e-19</td>\n",
       "      <td>1.110223e-19</td>\n",
       "    </tr>\n",
       "    <tr>\n",
       "      <th>0</th>\n",
       "      <td>ESOPHA_STOMACH_SBS17b</td>\n",
       "      <td>3.211354</td>\n",
       "      <td>1.110223e-19</td>\n",
       "      <td>1.110223e-19</td>\n",
       "    </tr>\n",
       "    <tr>\n",
       "      <th>0</th>\n",
       "      <td>ESOPHA_STOMACH_SBS17a</td>\n",
       "      <td>3.820059</td>\n",
       "      <td>1.110223e-19</td>\n",
       "      <td>1.110223e-19</td>\n",
       "    </tr>\n",
       "  </tbody>\n",
       "</table>\n",
       "</div>"
      ],
      "text/plain": [
       "               CTYPE_SIG         FC          PVAL          QVAL\n",
       "0        COADREAD_SBS17b  15.633333  1.110223e-19  1.110223e-19\n",
       "0        COADREAD_SBS17a  14.333333  1.110223e-19  1.110223e-19\n",
       "0  ESOPHA_STOMACH_SBS17b   3.211354  1.110223e-19  1.110223e-19\n",
       "0  ESOPHA_STOMACH_SBS17a   3.820059  1.110223e-19  1.110223e-19"
      ]
     },
     "execution_count": 11,
     "metadata": {},
     "output_type": "execute_result"
    }
   ],
   "source": [
    "table"
   ]
  },
  {
   "cell_type": "markdown",
   "metadata": {},
   "source": [
    "#### Load data for 5B"
   ]
  },
  {
   "cell_type": "code",
   "execution_count": 12,
   "metadata": {
    "collapsed": true
   },
   "outputs": [],
   "source": [
    "# COADREAD\n",
    "ctcf_fil_coadread_f = f'{data_dir}/ctcf/ENCSR857RJQ.CTCF.sigmoid-colon.bed.reformat.txt'\n",
    "hotspots_coadread_f = f'{data_dir}/hotspots_SBS_prob__COADREAD.txt.gz'"
   ]
  },
  {
   "cell_type": "code",
   "execution_count": 13,
   "metadata": {
    "collapsed": true
   },
   "outputs": [],
   "source": [
    "# ESOPHA_STOMACH\n",
    "ctcf_fil_esopha_stomach_f = f'{data_dir}/ctcf/ENCSR000DTR.CTCF.epithelial_esophagus.bed.reformat.txt'\n",
    "hotspots_esopha_stomach_f = f'{data_dir}/hotspots_SBS_prob__ESOPHA_STOMACH.txt.gz'"
   ]
  },
  {
   "cell_type": "code",
   "execution_count": 14,
   "metadata": {},
   "outputs": [],
   "source": [
    "# Intersect hotspots and CTCF sites\n",
    "results_dict = defaultdict(lambda: defaultdict(lambda: defaultdict(int)))\n",
    "\n",
    "ctype = 'COADREAD'\n",
    "ctcf_tree_coadread = load_ctcf(ctcf_fil_coadread_f)\n",
    "signature_hotspots_coadread = load_hotspots_per_signature(hotspots_coadread_f)\n",
    "for signature in ['SBS17a', 'SBS17b']: \n",
    "    for hotspot in signature_hotspots_coadread[signature]:\n",
    "        chrom, pos, _ = hotspot.split('_')\n",
    "        results_dict[ctype][signature]['total_hotspots'] += 1\n",
    "        for interval in ctcf_tree_coadread[chrom][int(pos)]:\n",
    "            results_dict[ctype][signature]['intersect'] += 1\n",
    "            \n",
    "ctype = 'ESOPHA_STOMACH'\n",
    "ctcf_tree_esopha_stomach = load_ctcf(ctcf_fil_esopha_stomach_f)\n",
    "signature_hotspots_esopha_stomach = load_hotspots_per_signature(hotspots_esopha_stomach_f)\n",
    "for signature in ['SBS17a', 'SBS17b']: \n",
    "    for hotspot in signature_hotspots_esopha_stomach[signature]:\n",
    "        chrom, pos, _ = hotspot.split('_')\n",
    "        results_dict[ctype][signature]['total_hotspots'] += 1\n",
    "        for interval in ctcf_tree_esopha_stomach[chrom][int(pos)]:\n",
    "            results_dict[ctype][signature]['intersect'] += 1"
   ]
  },
  {
   "cell_type": "markdown",
   "metadata": {},
   "source": [
    "## Panel 5A"
   ]
  },
  {
   "cell_type": "code",
   "execution_count": 15,
   "metadata": {
    "scrolled": false
   },
   "outputs": [
    {
     "data": {
      "image/png": "[encoded data removed]",
      "text/plain": [
       "<Figure size 198x198 with 1 Axes>"
      ]
     },
     "metadata": {
      "needs_background": "light"
     },
     "output_type": "display_data"
    },
    {
     "data": {
      "image/png": "[encoded data removed]",
      "text/plain": [
       "<Figure size 198x198 with 1 Axes>"
      ]
     },
     "metadata": {
      "needs_background": "light"
     },
     "output_type": "display_data"
    },
    {
     "data": {
      "image/png": "[encoded data removed]",
      "text/plain": [
       "<Figure size 198x198 with 1 Axes>"
      ]
     },
     "metadata": {
      "needs_background": "light"
     },
     "output_type": "display_data"
    },
    {
     "data": {
      "image/png": "[encoded data removed]",
      "text/plain": [
       "<Figure size 198x198 with 1 Axes>"
      ]
     },
     "metadata": {
      "needs_background": "light"
     },
     "output_type": "display_data"
    }
   ],
   "source": [
    "for ctype, signature in [\n",
    "    ('COADREAD', 'SBS17b'), ('COADREAD', 'SBS17a'), \n",
    "    ('ESOPHA_STOMACH', 'SBS17b'), ('ESOPHA_STOMACH', 'SBS17a')\n",
    "]: \n",
    "    \n",
    "    observed_in = data_to_plot[f'{ctype}_{signature}']['observed_in']\n",
    "    observed_out = data_to_plot[f'{ctype}_{signature}']['observed_out']\n",
    "    expected = data_to_plot[f'{ctype}_{signature}']['expected']\n",
    "    fold_change = data_to_plot[f'{ctype}_{signature}']['observed_fc']\n",
    "    qval = table.loc[table['CTYPE_SIG'] == f'{ctype}_{signature}']['QVAL'].iloc[0]\n",
    "\n",
    "    fig = plt.figure(figsize=(2.75, 2.75))\n",
    "    ax = plt.subplot2grid((1, 1), (0, 0))\n",
    "    ax.set_ylabel('Normalized mutation rate', fontsize=12)\n",
    "    ax.set_xlabel('Distance from CTCF mid point (bp)', fontsize=12)\n",
    "    plt.title(f'{signature} {ctype}\\nfold change={fold_change:0.3} q={qval:0.1e}', fontsize=12)\n",
    "\n",
    "    ax.plot(list(range(0, len(observed_in))), observed_in, '-', lw=2, color=sigs_color[signature], label='Observed (inside)', alpha=1, zorder=1)\n",
    "    ax.plot(list(range(0, len(observed_out))), observed_out, '-', lw=2, color=sigs_color[signature], label='Observed (outside)', alpha=0.5, zorder=3)\n",
    "    ax.plot(list(range(0, len(expected))), expected, '--', lw=1.5, color='#727272ff', label='Expected', alpha=1, zorder=2)\n",
    "\n",
    "    ax.set_xticks([0, 500, 1000, 1500, 2000])\n",
    "    ax.set_xticklabels(['-1000', '-500', '0', '+500', '+1000'], fontsize=10)\n",
    "    ax.axvline(x=1000, color='darkgrey', linestyle='--', linewidth=1, zorder=10)\n",
    "    ax.legend(bbox_to_anchor=(1, 1), fontsize=8).get_frame().set_edgecolor('w')\n",
    "    ax.set_ylim(-0.001, 0.012)\n",
    "\n",
    "    # Create CTCF site rectangle\n",
    "    if ctype == 'COADREAD' and signature == 'SBS17a': \n",
    "        rect = patches.Rectangle((flank_size, -0.0005), feature_size, -0.0005, linewidth=0, facecolor='#b2b2b2ff')\n",
    "        ax.add_patch(rect)\n",
    "        ax.set_ylim(-0.001, 0.012)\n",
    "    if ctype == 'COADREAD' and signature == 'SBS17b': \n",
    "        rect = patches.Rectangle((flank_size, -0.0005), feature_size, -0.0005, linewidth=0, facecolor='#b2b2b2ff')\n",
    "        ax.add_patch(rect)\n",
    "        ax.set_ylim(-0.001, 0.012)  \n",
    "    if ctype == 'ESOPHA_STOMACH' and signature == 'SBS17a': \n",
    "        rect = patches.Rectangle((flank_size, -0.0004), feature_size, 0.0003, linewidth=0, facecolor='#b2b2b2ff')\n",
    "        ax.add_patch(rect)\n",
    "        ax.set_ylim(-0.0004, 0.008)\n",
    "    if ctype == 'ESOPHA_STOMACH' and signature == 'SBS17b': \n",
    "        rect = patches.Rectangle((flank_size, -0.0004), feature_size, 0.0003, linewidth=0, facecolor='#b2b2b2ff')\n",
    "        ax.add_patch(rect)\n",
    "        ax.set_ylim(-0.0004, 0.008)\n",
    "\n",
    "    for extension in ['png']: \n",
    "        output = f'./fig_5A_{ctype}_{signature}.{extension}'\n",
    "        plt.savefig(output, bbox_inches='tight', dpi=350)"
   ]
  },
  {
   "cell_type": "markdown",
   "metadata": {},
   "source": [
    "## Panel 5B"
   ]
  },
  {
   "cell_type": "code",
   "execution_count": 16,
   "metadata": {
    "collapsed": true
   },
   "outputs": [],
   "source": [
    "def plot_fraction_hotspots_CTCF(ctype, signature, intersect, total): \n",
    "\n",
    "    fig = plt.figure(figsize=(1.4, 0.2))\n",
    "    ax = plt.subplot2grid((1, 1), (0, 0))\n",
    "    ax.text(0, 1.5, f'CTCF overlap ({round(100*intersect/total, 2)}%)', fontsize=5, color='black')\n",
    "    ax.set_xlabel(f'{signature} {ctype} hotspots (%)', fontsize=6)\n",
    "\n",
    "    plt.barh(y=1, left=0, width=100*intersect/total, align='center', alpha=1, color=sigs_color[signature], height=0.8)\n",
    "    plt.barh(y=1, left=(100*intersect/total), width=(100-(100*intersect/total)), align='center', alpha=1, color='#dedddaff',  height=0.8)\n",
    "\n",
    "    ax.set_yticklabels([], fontsize=5, rotation=0)\n",
    "    ax.tick_params(axis='y', which='major', pad=2)\n",
    "    ax.set_xlim(-1, 100)\n",
    "    ax.set_xticks([0, 25, 50, 75, 100])\n",
    "    ax.set_xticklabels([0, 25, 50, 75, 100], fontsize=5)\n",
    "\n",
    "    ax.spines['left'].set(lw=0.5)\n",
    "    ax.spines['bottom'].set(lw=0.5)\n",
    "    ax.spines['right'].set_visible(False)\n",
    "    ax.spines['top'].set_visible(False)\n",
    "    ax.xaxis.set_tick_params(width=0.5)\n",
    "    ax.yaxis.set_tick_params(width=0)\n",
    "\n",
    "    for extension in ['png']: \n",
    "        output = f'./fig_5B_{ctype}_{signature}.{extension}'\n",
    "        plt.savefig(output, bbox_inches='tight', dpi=350)"
   ]
  },
  {
   "cell_type": "code",
   "execution_count": 17,
   "metadata": {},
   "outputs": [
    {
     "data": {
      "image/png": "[encoded data removed]",
      "text/plain": [
       "<Figure size 100.8x14.4 with 1 Axes>"
      ]
     },
     "metadata": {
      "needs_background": "light"
     },
     "output_type": "display_data"
    }
   ],
   "source": [
    "signature = 'SBS17a'\n",
    "ctype = 'COADREAD'\n",
    "intersect = results_dict[ctype][signature]['intersect']\n",
    "total = results_dict[ctype][signature]['total_hotspots']\n",
    "plot_fraction_hotspots_CTCF(ctype, signature, intersect, total)"
   ]
  },
  {
   "cell_type": "code",
   "execution_count": 18,
   "metadata": {},
   "outputs": [
    {
     "data": {
      "image/png": "[encoded data removed]",
      "text/plain": [
       "<Figure size 100.8x14.4 with 1 Axes>"
      ]
     },
     "metadata": {
      "needs_background": "light"
     },
     "output_type": "display_data"
    }
   ],
   "source": [
    "signature = 'SBS17a'\n",
    "ctype = 'ESOPHA_STOMACH'\n",
    "intersect = results_dict[ctype][signature]['intersect']\n",
    "total = results_dict[ctype][signature]['total_hotspots']\n",
    "plot_fraction_hotspots_CTCF(ctype, signature, intersect, total)"
   ]
  },
  {
   "cell_type": "code",
   "execution_count": 19,
   "metadata": {},
   "outputs": [
    {
     "data": {
      "image/png": "[encoded data removed]",
      "text/plain": [
       "<Figure size 100.8x14.4 with 1 Axes>"
      ]
     },
     "metadata": {
      "needs_background": "light"
     },
     "output_type": "display_data"
    }
   ],
   "source": [
    "signature = 'SBS17b'\n",
    "ctype = 'COADREAD'\n",
    "intersect = results_dict[ctype][signature]['intersect']\n",
    "total = results_dict[ctype][signature]['total_hotspots']\n",
    "plot_fraction_hotspots_CTCF(ctype, signature, intersect, total)"
   ]
  },
  {
   "cell_type": "code",
   "execution_count": 20,
   "metadata": {},
   "outputs": [
    {
     "data": {
      "image/png": "[encoded data removed]",
      "text/plain": [
       "<Figure size 100.8x14.4 with 1 Axes>"
      ]
     },
     "metadata": {
      "needs_background": "light"
     },
     "output_type": "display_data"
    }
   ],
   "source": [
    "signature = 'SBS17b'\n",
    "ctype = 'ESOPHA_STOMACH'\n",
    "intersect = results_dict[ctype][signature]['intersect']\n",
    "total = results_dict[ctype][signature]['total_hotspots']\n",
    "plot_fraction_hotspots_CTCF(ctype, signature, intersect, total)"
   ]
  },
  {
   "cell_type": "code",
   "execution_count": null,
   "metadata": {
    "collapsed": true
   },
   "outputs": [],
   "source": []
  }
 ],
 "metadata": {
  "kernelspec": {
   "display_name": "Python [conda env:hotspot_propensity]",
   "language": "python",
   "name": "conda-env-hotspot_propensity-py"
  },
  "language_info": {
   "codemirror_mode": {
    "name": "ipython",
    "version": 3
   },
   "file_extension": ".py",
   "mimetype": "text/x-python",
   "name": "python",
   "nbconvert_exporter": "python",
   "pygments_lexer": "ipython3",
   "version": "3.6.13"
  }
 },
 "nbformat": 4,
 "nbformat_minor": 2
}
