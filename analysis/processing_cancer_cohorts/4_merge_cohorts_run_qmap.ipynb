{
 "cells": [
  {
   "cell_type": "markdown",
   "metadata": {},
   "source": [
    "# Merge cohorts into cancer types"
   ]
  },
  {
   "cell_type": "markdown",
   "metadata": {},
   "source": [
    "Write somatic mutations from individual cohorts into cancer type files"
   ]
  },
  {
   "cell_type": "code",
   "execution_count": 2,
   "metadata": {
    "collapsed": true
   },
   "outputs": [],
   "source": [
    "import os\n",
    "from collections import defaultdict\n",
    "\n",
    "import pandas as pd"
   ]
  },
  {
   "cell_type": "code",
   "execution_count": 3,
   "metadata": {
    "collapsed": true
   },
   "outputs": [],
   "source": [
    "main_dir = ''"
   ]
  },
  {
   "cell_type": "code",
   "execution_count": 4,
   "metadata": {
    "collapsed": true
   },
   "outputs": [],
   "source": [
    "ctypes_annotations = os.path.join(main_dir, 'tables', 'cancer_types_annotated.tsv')\n",
    "cohorts_annotations = os.path.join(main_dir, 'tables', 'cohorts_annotated.tsv')"
   ]
  },
  {
   "cell_type": "markdown",
   "metadata": {},
   "source": [
    "#### Read cancer types for analysis and their cohorts"
   ]
  },
  {
   "cell_type": "code",
   "execution_count": 5,
   "metadata": {},
   "outputs": [
    {
     "data": {
      "text/html": [
       "<div>\n",
       "<style scoped>\n",
       "    .dataframe tbody tr th:only-of-type {\n",
       "        vertical-align: middle;\n",
       "    }\n",
       "\n",
       "    .dataframe tbody tr th {\n",
       "        vertical-align: top;\n",
       "    }\n",
       "\n",
       "    .dataframe thead th {\n",
       "        text-align: right;\n",
       "    }\n",
       "</style>\n",
       "<table border=\"1\" class=\"dataframe\">\n",
       "  <thead>\n",
       "    <tr style=\"text-align: right;\">\n",
       "      <th></th>\n",
       "      <th>CANCER_TYPE</th>\n",
       "      <th>CANCER_TYPE_LONG</th>\n",
       "      <th>LEVEL_ONCOTREE</th>\n",
       "      <th>LEVEL_ANALYSIS</th>\n",
       "      <th>SAMPLES</th>\n",
       "      <th>COHORTS</th>\n",
       "      <th>MUTATIONS_TOTAL</th>\n",
       "      <th>MUTATIONS_SNV</th>\n",
       "      <th>MUTATIONS_MNV</th>\n",
       "      <th>MUTATIONS_INS</th>\n",
       "      <th>MUTATIONS_DEL</th>\n",
       "    </tr>\n",
       "  </thead>\n",
       "  <tbody>\n",
       "    <tr>\n",
       "      <th>0</th>\n",
       "      <td>ACC</td>\n",
       "      <td>Adrenocortical Carcinoma (ACC)</td>\n",
       "      <td>2</td>\n",
       "      <td>A</td>\n",
       "      <td>20</td>\n",
       "      <td>D_ACC</td>\n",
       "      <td>16649</td>\n",
       "      <td>16614</td>\n",
       "      <td>0</td>\n",
       "      <td>26</td>\n",
       "      <td>9</td>\n",
       "    </tr>\n",
       "    <tr>\n",
       "      <th>1</th>\n",
       "      <td>ALL</td>\n",
       "      <td>Acute lymphoblastic leukemia (ALL)</td>\n",
       "      <td>3</td>\n",
       "      <td>A</td>\n",
       "      <td>278</td>\n",
       "      <td>D_ALL</td>\n",
       "      <td>154660</td>\n",
       "      <td>154095</td>\n",
       "      <td>198</td>\n",
       "      <td>145</td>\n",
       "      <td>222</td>\n",
       "    </tr>\n",
       "    <tr>\n",
       "      <th>2</th>\n",
       "      <td>LNM</td>\n",
       "      <td>Lymphoid Neoplasm (LNM)</td>\n",
       "      <td>2</td>\n",
       "      <td>B</td>\n",
       "      <td>1420</td>\n",
       "      <td>D_ALL, PCAWG_WGS_LYMPH_CLL, HARTWIG_LYMPHOID, ...</td>\n",
       "      <td>1723396</td>\n",
       "      <td>1596077</td>\n",
       "      <td>6705</td>\n",
       "      <td>74059</td>\n",
       "      <td>46555</td>\n",
       "    </tr>\n",
       "    <tr>\n",
       "      <th>3</th>\n",
       "      <td>EPM</td>\n",
       "      <td>Ependymoma (EPM)</td>\n",
       "      <td>3</td>\n",
       "      <td>A</td>\n",
       "      <td>39</td>\n",
       "      <td>D_EPD</td>\n",
       "      <td>9158</td>\n",
       "      <td>9114</td>\n",
       "      <td>0</td>\n",
       "      <td>34</td>\n",
       "      <td>10</td>\n",
       "    </tr>\n",
       "    <tr>\n",
       "      <th>4</th>\n",
       "      <td>BRAIN</td>\n",
       "      <td>CNS/Brain (BRAIN)</td>\n",
       "      <td>1</td>\n",
       "      <td>B</td>\n",
       "      <td>475</td>\n",
       "      <td>D_EPD, HARTWIG_NERVOUS_SYSTEM_GLIOBLASTOMA_MUL...</td>\n",
       "      <td>958034</td>\n",
       "      <td>877915</td>\n",
       "      <td>2716</td>\n",
       "      <td>50214</td>\n",
       "      <td>27189</td>\n",
       "    </tr>\n",
       "  </tbody>\n",
       "</table>\n",
       "</div>"
      ],
      "text/plain": [
       "  CANCER_TYPE                    CANCER_TYPE_LONG LEVEL_ONCOTREE  \\\n",
       "0         ACC      Adrenocortical Carcinoma (ACC)              2   \n",
       "1         ALL  Acute lymphoblastic leukemia (ALL)              3   \n",
       "2         LNM             Lymphoid Neoplasm (LNM)              2   \n",
       "3         EPM                    Ependymoma (EPM)              3   \n",
       "4       BRAIN                   CNS/Brain (BRAIN)              1   \n",
       "\n",
       "  LEVEL_ANALYSIS  SAMPLES                                            COHORTS  \\\n",
       "0              A       20                                              D_ACC   \n",
       "1              A      278                                              D_ALL   \n",
       "2              B     1420  D_ALL, PCAWG_WGS_LYMPH_CLL, HARTWIG_LYMPHOID, ...   \n",
       "3              A       39                                              D_EPD   \n",
       "4              B      475  D_EPD, HARTWIG_NERVOUS_SYSTEM_GLIOBLASTOMA_MUL...   \n",
       "\n",
       "   MUTATIONS_TOTAL  MUTATIONS_SNV  MUTATIONS_MNV  MUTATIONS_INS  MUTATIONS_DEL  \n",
       "0            16649          16614              0             26              9  \n",
       "1           154660         154095            198            145            222  \n",
       "2          1723396        1596077           6705          74059          46555  \n",
       "3             9158           9114              0             34             10  \n",
       "4           958034         877915           2716          50214          27189  "
      ]
     },
     "execution_count": 5,
     "metadata": {},
     "output_type": "execute_result"
    }
   ],
   "source": [
    "ctypes_for_analysis_df = pd.read_csv(ctypes_annotations, sep='\\t', header=0)\n",
    "ctypes_for_analysis_df.head()"
   ]
  },
  {
   "cell_type": "code",
   "execution_count": 6,
   "metadata": {},
   "outputs": [
    {
     "data": {
      "text/plain": [
       "78"
      ]
     },
     "execution_count": 6,
     "metadata": {},
     "output_type": "execute_result"
    }
   ],
   "source": [
    "cohorts_annotations_df = pd.read_csv(cohorts_annotations, sep='\\t', header=0)\n",
    "all_cohorts = cohorts_annotations_df['COHORT'].tolist()\n",
    "len(all_cohorts)"
   ]
  },
  {
   "cell_type": "code",
   "execution_count": 7,
   "metadata": {
    "collapsed": true
   },
   "outputs": [],
   "source": [
    "cohorts_per_cancertype = {}\n",
    "for _, row in ctypes_for_analysis_df.iterrows(): \n",
    "    cohorts_per_cancertype[row['CANCER_TYPE']] = row['COHORTS'].split(',')"
   ]
  },
  {
   "cell_type": "code",
   "execution_count": 8,
   "metadata": {},
   "outputs": [
    {
     "data": {
      "text/plain": [
       "['D_EPD',\n",
       " ' HARTWIG_NERVOUS_SYSTEM_GLIOBLASTOMA_MULTIFORME',\n",
       " ' PCAWG_WGS_CNS_GBM',\n",
       " ' D_HGG',\n",
       " ' PCAWG_WGS_CNS_OLIGO',\n",
       " ' D_LGG',\n",
       " ' PCAWG_WGS_CNS_MEDULLO',\n",
       " ' D_MB',\n",
       " ' PCAWG_WGS_CNS_PILOASTRO']"
      ]
     },
     "execution_count": 8,
     "metadata": {},
     "output_type": "execute_result"
    }
   ],
   "source": [
    "cohorts_per_cancertype['BRAIN']"
   ]
  },
  {
   "cell_type": "code",
   "execution_count": 9,
   "metadata": {
    "collapsed": true
   },
   "outputs": [],
   "source": [
    "# Add PANCANCER\n",
    "cohorts_per_cancertype['PANCANCER'] = all_cohorts"
   ]
  },
  {
   "cell_type": "markdown",
   "metadata": {},
   "source": [
    "#### Write qmap file"
   ]
  },
  {
   "cell_type": "code",
   "execution_count": 10,
   "metadata": {
    "collapsed": true
   },
   "outputs": [],
   "source": [
    "code = os.path.join(main_dir, 'code', 'merge_cohorts.py')\n",
    "map_file = os.path.join(main_dir, 'code', '4_merge_cohorts.map')"
   ]
  },
  {
   "cell_type": "code",
   "execution_count": 11,
   "metadata": {
    "collapsed": true
   },
   "outputs": [],
   "source": [
    "info = [\n",
    "    '[params]',\n",
    "    'cores=1',\n",
    "    'memory=8G\\n',\n",
    "    '[pre]',\n",
    "    '. \"/home/$USER/miniconda3/etc/profile.d/conda.sh\"',\n",
    "    'conda activate hotspots_framework\\n',\n",
    "    '[jobs]',\n",
    "]"
   ]
  },
  {
   "cell_type": "code",
   "execution_count": 12,
   "metadata": {
    "collapsed": true
   },
   "outputs": [],
   "source": [
    "mutations_subdirectories = [\n",
    "    (os.path.join(main_dir, 'data', 'cohorts_filtered'), os.path.join(main_dir, 'data', 'cancertypes_filtered'), '.filtered.in.gz')\n",
    "]"
   ]
  },
  {
   "cell_type": "code",
   "execution_count": 13,
   "metadata": {
    "collapsed": true
   },
   "outputs": [],
   "source": [
    "with open(map_file, 'w') as ofd: \n",
    "    \n",
    "    for line in info: \n",
    "        ofd.write(f'{line}\\n')\n",
    "    \n",
    "    for input_directory, output_directory, sufix in mutations_subdirectories: \n",
    "        for cancertype, cohorts in cohorts_per_cancertype.items(): \n",
    "            output_file = os.path.join(output_directory, f'{cancertype}{sufix}')\n",
    "            # Load cohorts\n",
    "            cohorts_string = ''\n",
    "            for cohort in cohorts: \n",
    "                cohorts_string += f'-co {cohort} '\n",
    "            \n",
    "            ofd.write(f'python {code} -i {input_directory} -a {cohorts_annotations} -ct {cancertype} -o {output_file} {cohorts_string}\\n')"
   ]
  }
 ],
 "metadata": {
  "kernelspec": {
   "display_name": "Python [conda env:hotspots_framework]",
   "language": "python",
   "name": "conda-env-hotspots_framework-py"
  },
  "language_info": {
   "codemirror_mode": {
    "name": "ipython",
    "version": 3
   },
   "file_extension": ".py",
   "mimetype": "text/x-python",
   "name": "python",
   "nbconvert_exporter": "python",
   "pygments_lexer": "ipython3",
   "version": "3.6.10"
  }
 },
 "nbformat": 4,
 "nbformat_minor": 2
}
