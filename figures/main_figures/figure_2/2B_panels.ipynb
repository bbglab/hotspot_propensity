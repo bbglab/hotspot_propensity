{
 "cells": [
  {
   "cell_type": "markdown",
   "metadata": {},
   "source": [
    "# Pie charts with number of hotspots per signature in Fig 2B"
   ]
  },
  {
   "cell_type": "code",
   "execution_count": 1,
   "metadata": {
    "collapsed": true
   },
   "outputs": [],
   "source": [
    "from collections import defaultdict\n",
    "import gzip\n",
    "\n",
    "import matplotlib\n",
    "import matplotlib.pyplot as plt\n",
    "from matplotlib import rcParams"
   ]
  },
  {
   "cell_type": "code",
   "execution_count": 2,
   "metadata": {
    "collapsed": true
   },
   "outputs": [],
   "source": [
    "rcParams['font.family'] = 'sans-serif'\n",
    "rcParams['font.sans-serif'] = ['Arial']"
   ]
  },
  {
   "cell_type": "code",
   "execution_count": 3,
   "metadata": {
    "collapsed": true
   },
   "outputs": [],
   "source": [
    "data_dir = './data'"
   ]
  },
  {
   "cell_type": "code",
   "execution_count": 4,
   "metadata": {
    "collapsed": true
   },
   "outputs": [],
   "source": [
    "sigs_color_dict = {\n",
    "'SBS1': '#1e79baff',\n",
    " 'SBS5': '#7ebdeaff',\n",
    " 'SBS17a': '#ffbb78ff',\n",
    " 'SBS17b': '#ff8921ff',\n",
    " 'SBS18': '#9467bdff',\n",
    " 'SBS40': '#afd6f2ff',\n",
    " 'Other': '#d5d5d5ff',\n",
    "    'SBS7a': '#8c564bff', \n",
    "    'SBS7b': '#c49c94ff', \n",
    "    'SBS93': '#c5b0d5ff'\n",
    "}"
   ]
  },
  {
   "cell_type": "code",
   "execution_count": 5,
   "metadata": {
    "collapsed": true
   },
   "outputs": [],
   "source": [
    "def pie_chart_signatures(ctype, signature_hotspots, n_hotspots, output, sigs_color, close=False): \n",
    "    \"\"\"Plot a pie chart with the proportion of signatures creating hotspots in a cancer type\"\"\"\n",
    "    \n",
    "    # Transform to pie chart\n",
    "    labels = []\n",
    "    ring1 = []\n",
    "    ring1_colors = []\n",
    "    total_count = sum(signature_hotspots.values())\n",
    "    for sig, count in sorted_sigs:\n",
    "        fraction = count / total_count\n",
    "        labels.append(f'{sig} ({100*fraction:.2}%)')\n",
    "        ring1.append(fraction)\n",
    "        ring1_colors.append(sigs_color.get(sig, sigs_color['Other']))\n",
    "        \n",
    "    # Plot\n",
    "    fig = plt.figure(figsize=(1.25, 1.25))\n",
    "    ax = plt.subplot2grid((1, 1), (0, 0))\n",
    "    size = 0.5\n",
    "    plt.title(ctype, fontsize=7)\n",
    "\n",
    "\n",
    "    ax.pie(\n",
    "        ring1, \n",
    "        radius=1.25, \n",
    "        colors=ring1_colors, \n",
    "        startangle=90,\n",
    "        wedgeprops=dict(width=size), \n",
    "        textprops={'fontsize': 12}\n",
    "    )\n",
    "    \n",
    "    ax.text(\n",
    "        0.5, 0.5, \n",
    "        f'{n_hotspots:,}\\nhotspots', \n",
    "        horizontalalignment='center', \n",
    "        verticalalignment='center', \n",
    "        transform=ax.transAxes,\n",
    "        fontsize=6\n",
    "    )\n",
    "    \n",
    "    if output: \n",
    "        plt.savefig(output, bbox_inches='tight', dpi=300)\n",
    "    \n",
    "    if close: \n",
    "        plt.close()"
   ]
  },
  {
   "cell_type": "markdown",
   "metadata": {
    "collapsed": true
   },
   "source": [
    "## Panel 2B"
   ]
  },
  {
   "cell_type": "code",
   "execution_count": 6,
   "metadata": {
    "collapsed": true
   },
   "outputs": [],
   "source": [
    "ctypes_to_plot = [\n",
    "    'COADREAD',\n",
    "    'ESOPHA_STOMACH',\n",
    "    'SKCM'\n",
    "]"
   ]
  },
  {
   "cell_type": "code",
   "execution_count": null,
   "metadata": {
    "scrolled": false
   },
   "outputs": [
    {
     "name": "stdout",
     "output_type": "stream",
     "text": [
      "COADREAD\n",
      "ESOPHA_STOMACH\n"
     ]
    }
   ],
   "source": [
    "for ctype in ctypes_to_plot: \n",
    "    \n",
    "    # Load signature probabilities per hotspot\n",
    "    input_f = f'{data_dir}/hotspots_SBS_prob__{ctype}.txt.gz'\n",
    "       \n",
    "    # Read signature probabilities per mutation in a hotspot\n",
    "    hotspot_sigs = defaultdict(lambda: defaultdict(float))\n",
    "    signatures = set()\n",
    "    with gzip.open(input_f, 'rt') as fd: \n",
    "        next(fd)\n",
    "        for line in fd: \n",
    "            hotspot, _, _, _, _, signature, prob = line.strip().split()\n",
    "            hotspot_sigs[hotspot][signature] = prob\n",
    "            signatures.add(signature)\n",
    "    \n",
    "    # Assign hotspot to signature by maximum likelihood\n",
    "    signature_hotspots = defaultdict(int)\n",
    "    for hotspot, data in hotspot_sigs.items(): \n",
    "        sorted_sigs = sorted([(s, float(p)) for s, p in data.items()], key=lambda x: x[1], reverse=True)\n",
    "        if sorted_sigs[0][1] > 0: \n",
    "            signature_hotspots[sorted_sigs[0][0]] += 1\n",
    "    \n",
    "    # Sort signatures by number of hotspots\n",
    "    sorted_sigs = sorted([(s, c) for s, c in signature_hotspots.items()], key=lambda x: x[1], reverse=True)\n",
    "    \n",
    "    # Plot\n",
    "    for extension in ['png']: \n",
    "        output = f'./fig_2B_{ctype}.{extension}'\n",
    "        pie_chart_signatures(ctype, signature_hotspots, len(hotspot_sigs.keys()), output, sigs_color_dict)\n",
    "    \n",
    "    print(ctype)"
   ]
  },
  {
   "cell_type": "code",
   "execution_count": null,
   "metadata": {
    "collapsed": true
   },
   "outputs": [],
   "source": []
  }
 ],
 "metadata": {
  "kernelspec": {
   "display_name": "Python [conda env:hotspot_propensity]",
   "language": "python",
   "name": "conda-env-hotspot_propensity-py"
  },
  "language_info": {
   "codemirror_mode": {
    "name": "ipython",
    "version": 3
   },
   "file_extension": ".py",
   "mimetype": "text/x-python",
   "name": "python",
   "nbconvert_exporter": "python",
   "pygments_lexer": "ipython3",
   "version": "3.6.13"
  }
 },
 "nbformat": 4,
 "nbformat_minor": 2
}
