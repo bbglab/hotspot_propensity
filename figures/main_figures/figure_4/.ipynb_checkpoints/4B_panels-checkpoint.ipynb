{
 "cells": [
  {
   "cell_type": "markdown",
   "metadata": {},
   "source": [
    "# Mutation overdispersion in Fig 4B"
   ]
  },
  {
   "cell_type": "code",
   "execution_count": 1,
   "metadata": {
    "collapsed": true
   },
   "outputs": [],
   "source": [
    "import json\n",
    "\n",
    "import matplotlib\n",
    "import matplotlib.pyplot as plt\n",
    "from matplotlib import rcParams\n",
    "import pandas as pd\n",
    "import seaborn as sns"
   ]
  },
  {
   "cell_type": "code",
   "execution_count": 2,
   "metadata": {
    "collapsed": true
   },
   "outputs": [],
   "source": [
    "rcParams['font.family'] = 'sans-serif'\n",
    "rcParams['font.sans-serif'] = ['Arial']"
   ]
  },
  {
   "cell_type": "code",
   "execution_count": 3,
   "metadata": {
    "collapsed": true
   },
   "outputs": [],
   "source": [
    "sigs_color = {\n",
    "'SBS1': '#1e79baff',\n",
    " 'SBS17b': '#ff8921ff'\n",
    "}"
   ]
  },
  {
   "cell_type": "code",
   "execution_count": 4,
   "metadata": {
    "collapsed": true
   },
   "outputs": [],
   "source": [
    "data_dir = './data'"
   ]
  },
  {
   "cell_type": "code",
   "execution_count": 5,
   "metadata": {
    "collapsed": true
   },
   "outputs": [],
   "source": [
    "def mutations_across_megabases(input_f, total_bins): \n",
    "    \"\"\"Load mutations across genomic bins and return the percentage of mutations per bin\"\"\"\n",
    "    \n",
    "    with open(input_f, 'r') as fd: \n",
    "        m_per_bin = json.load(fd)\n",
    "\n",
    "    mutations = []\n",
    "    for binid in total_bins: \n",
    "        binid_data = m_per_bin.get(binid)\n",
    "        if binid_data:\n",
    "            mutations += [binid_data.get(signature, 0)]\n",
    "    total_mutations = sum(mutations)\n",
    "\n",
    "    norm_mutations = []\n",
    "    for binid in total_bins: \n",
    "        binid_data = m_per_bin.get(binid)\n",
    "        if binid_data:\n",
    "            norm_mutations += [100*binid_data.get(signature, 0)/total_mutations]\n",
    "        else: \n",
    "            norm_mutations += [0]\n",
    "    \n",
    "    return norm_mutations"
   ]
  },
  {
   "cell_type": "markdown",
   "metadata": {},
   "source": [
    "### Load data\n",
    "\n",
    "- 1 Mpb mappable genomic bins.\n",
    "- SBS1 and SBS17b in COADREAD and ESOPHA_STOMACH mutation counts across mappable megabases, obtained from observed data in the cancer type."
   ]
  },
  {
   "cell_type": "markdown",
   "metadata": {},
   "source": [
    "#### Megabases"
   ]
  },
  {
   "cell_type": "code",
   "execution_count": 6,
   "metadata": {
    "scrolled": true
   },
   "outputs": [
    {
     "data": {
      "text/html": [
       "<div>\n",
       "<style scoped>\n",
       "    .dataframe tbody tr th:only-of-type {\n",
       "        vertical-align: middle;\n",
       "    }\n",
       "\n",
       "    .dataframe tbody tr th {\n",
       "        vertical-align: top;\n",
       "    }\n",
       "\n",
       "    .dataframe thead th {\n",
       "        text-align: right;\n",
       "    }\n",
       "</style>\n",
       "<table border=\"1\" class=\"dataframe\">\n",
       "  <thead>\n",
       "    <tr style=\"text-align: right;\">\n",
       "      <th></th>\n",
       "      <th>CHR</th>\n",
       "      <th>START</th>\n",
       "      <th>END</th>\n",
       "      <th>BINID</th>\n",
       "    </tr>\n",
       "  </thead>\n",
       "  <tbody>\n",
       "    <tr>\n",
       "      <th>0</th>\n",
       "      <td>chr1</td>\n",
       "      <td>4000000</td>\n",
       "      <td>5000000</td>\n",
       "      <td>chr1:4000000-5000000</td>\n",
       "    </tr>\n",
       "    <tr>\n",
       "      <th>1</th>\n",
       "      <td>chr1</td>\n",
       "      <td>5000000</td>\n",
       "      <td>6000000</td>\n",
       "      <td>chr1:5000000-6000000</td>\n",
       "    </tr>\n",
       "    <tr>\n",
       "      <th>2</th>\n",
       "      <td>chr1</td>\n",
       "      <td>8000000</td>\n",
       "      <td>9000000</td>\n",
       "      <td>chr1:8000000-9000000</td>\n",
       "    </tr>\n",
       "    <tr>\n",
       "      <th>3</th>\n",
       "      <td>chr1</td>\n",
       "      <td>9000000</td>\n",
       "      <td>10000000</td>\n",
       "      <td>chr1:9000000-10000000</td>\n",
       "    </tr>\n",
       "    <tr>\n",
       "      <th>4</th>\n",
       "      <td>chr1</td>\n",
       "      <td>14000000</td>\n",
       "      <td>15000000</td>\n",
       "      <td>chr1:14000000-15000000</td>\n",
       "    </tr>\n",
       "  </tbody>\n",
       "</table>\n",
       "</div>"
      ],
      "text/plain": [
       "    CHR     START       END                   BINID\n",
       "0  chr1   4000000   5000000    chr1:4000000-5000000\n",
       "1  chr1   5000000   6000000    chr1:5000000-6000000\n",
       "2  chr1   8000000   9000000    chr1:8000000-9000000\n",
       "3  chr1   9000000  10000000   chr1:9000000-10000000\n",
       "4  chr1  14000000  15000000  chr1:14000000-15000000"
      ]
     },
     "execution_count": 6,
     "metadata": {},
     "output_type": "execute_result"
    }
   ],
   "source": [
    "# Load 1 Mbp bins across autosomes\n",
    "bins_f = f'{data_dir}/hg38_1000kb_bin.nodrivers.filtered.all_positions.autosomes.bed.gz'\n",
    "bins_autosom_df = pd.read_csv(bins_f, sep='\\t', header=0)\n",
    "bins_autosom_df.head()"
   ]
  },
  {
   "cell_type": "code",
   "execution_count": 7,
   "metadata": {},
   "outputs": [
    {
     "data": {
      "text/plain": [
       "2196"
      ]
     },
     "execution_count": 7,
     "metadata": {},
     "output_type": "execute_result"
    }
   ],
   "source": [
    "total_bins = bins_autosom_df['BINID'].unique()\n",
    "len(total_bins)"
   ]
  },
  {
   "cell_type": "markdown",
   "metadata": {},
   "source": [
    "#### COADREAD mutations"
   ]
  },
  {
   "cell_type": "code",
   "execution_count": 8,
   "metadata": {},
   "outputs": [
    {
     "data": {
      "text/plain": [
       "[0.1038183143241476,\n",
       " 0.06792304150194524,\n",
       " 0.026105652961601725,\n",
       " 0.043509421602669546,\n",
       " 0.04701434723177348]"
      ]
     },
     "execution_count": 8,
     "metadata": {},
     "output_type": "execute_result"
    }
   ],
   "source": [
    "ctype = 'COADREAD'\n",
    "signature = 'SBS1'\n",
    "input_f = f'{data_dir}/{ctype}.1000kb.nodrivers.total_maxprob.mutations_per_bin.json'\n",
    "sbs1_coadread = mutations_across_megabases(input_f, total_bins)\n",
    "sbs1_coadread[:5]"
   ]
  },
  {
   "cell_type": "code",
   "execution_count": 9,
   "metadata": {},
   "outputs": [
    {
     "data": {
      "text/plain": [
       "[0.04022451467575947,\n",
       " 0.031973332178167786,\n",
       " 0.008251182497591686,\n",
       " 0.006600945998073349,\n",
       " 0.027228902242052565]"
      ]
     },
     "execution_count": 9,
     "metadata": {},
     "output_type": "execute_result"
    }
   ],
   "source": [
    "ctype = 'COADREAD'\n",
    "signature = 'SBS17b'\n",
    "input_f = f'{data_dir}/{ctype}.1000kb.nodrivers.total_maxprob.mutations_per_bin.json'\n",
    "sbs17b_coadread = mutations_across_megabases(input_f, total_bins)\n",
    "sbs17b_coadread[:5]"
   ]
  },
  {
   "cell_type": "markdown",
   "metadata": {},
   "source": [
    "#### ESOPHA_STOMACH mutations"
   ]
  },
  {
   "cell_type": "code",
   "execution_count": 10,
   "metadata": {},
   "outputs": [
    {
     "data": {
      "text/plain": [
       "[0.12716496734909702,\n",
       " 0.084992911850672,\n",
       " 0.03860365080240446,\n",
       " 0.048984464463555234,\n",
       " 0.07753170203171987]"
      ]
     },
     "execution_count": 10,
     "metadata": {},
     "output_type": "execute_result"
    }
   ],
   "source": [
    "ctype = 'ESOPHA_STOMACH'\n",
    "signature = 'SBS1'\n",
    "input_f = f'{data_dir}/{ctype}.1000kb.nodrivers.total_maxprob.mutations_per_bin.json'\n",
    "sbs1_esopha_stomach = mutations_across_megabases(input_f, total_bins)\n",
    "sbs1_esopha_stomach[:5]"
   ]
  },
  {
   "cell_type": "code",
   "execution_count": 11,
   "metadata": {},
   "outputs": [
    {
     "data": {
      "text/plain": [
       "[0.09109506102892982,\n",
       " 0.06967026444547073,\n",
       " 0.0037295016274910293,\n",
       " 0.002777288446003958,\n",
       " 0.05499031123087837]"
      ]
     },
     "execution_count": 11,
     "metadata": {},
     "output_type": "execute_result"
    }
   ],
   "source": [
    "ctype = 'ESOPHA_STOMACH'\n",
    "signature = 'SBS17b'\n",
    "input_f = f'{data_dir}/{ctype}.1000kb.nodrivers.total_maxprob.mutations_per_bin.json'\n",
    "sbs17b_esopha_stomach = mutations_across_megabases(input_f, total_bins)\n",
    "sbs17b_esopha_stomach[:5]"
   ]
  },
  {
   "cell_type": "markdown",
   "metadata": {},
   "source": [
    "## Panel 4B"
   ]
  },
  {
   "cell_type": "markdown",
   "metadata": {},
   "source": [
    "#### COADREAD"
   ]
  },
  {
   "cell_type": "code",
   "execution_count": 12,
   "metadata": {},
   "outputs": [
    {
     "data": {
      "image/png": "[encoded data removed]",
      "text/plain": [
       "<Figure size 90x90 with 1 Axes>"
      ]
     },
     "metadata": {
      "needs_background": "light"
     },
     "output_type": "display_data"
    }
   ],
   "source": [
    "fig = plt.figure(figsize=(1.25, 1.25))\n",
    "ax = plt.subplot2grid((1, 1), (0, 0))\n",
    "ax.set_ylabel('Proportion Mb bins', fontsize=5)\n",
    "ax.set_xlabel('Proportion of mutations per Mb bin (%)', fontsize=5)\n",
    "plt.title(f'COADREAD\\nObserved mutations per Mbp', fontsize=5)\n",
    "color = sigs_color[signature]\n",
    "\n",
    "sns.distplot(\n",
    "    sbs1_coadread, hist=True, kde=True, \n",
    "    bins=30, color = sigs_color['SBS1'], \n",
    "    hist_kws={'edgecolor':None, 'alpha':0.5},\n",
    "    kde_kws={'linewidth': 0.75, 'bw':0.01}\n",
    ")\n",
    "sns.distplot(\n",
    "    sbs17b_coadread, hist=True, kde=True, \n",
    "    bins=30, color = sigs_color['SBS17b'], \n",
    "    hist_kws={'edgecolor':None, 'alpha':0.5},\n",
    "    kde_kws={'linewidth': 0.75, 'bw':0.02}\n",
    ")\n",
    "\n",
    "ax.set_ylim(0, 30)\n",
    "ax.set_xlim(0, 0.25)\n",
    "ax.set_yticks([0, 10, 20, 30])\n",
    "ax.set_yticklabels([0, 10, 20, 30], fontsize=5)\n",
    "ax.set_xticks([0, 0.05, 0.1, 0.15, 0.2, 0.25])\n",
    "ax.set_xticklabels([0, 0.05, 0.1, 0.15, 0.2, 0.25], fontsize=5)\n",
    "\n",
    "ax.spines['left'].set(lw=0.5)\n",
    "ax.spines['bottom'].set(lw=0.5)\n",
    "ax.spines['right'].set_visible(False)\n",
    "ax.spines['top'].set_visible(False)\n",
    "ax.xaxis.set_tick_params(width=0.5)\n",
    "ax.yaxis.set_tick_params(width=0.5)\n",
    "\n",
    "for extension in ['png']: \n",
    "    output = f'./fig_4B_COADREAD.{extension}'\n",
    "    plt.savefig(output, bbox_inches='tight', dpi=350)"
   ]
  },
  {
   "cell_type": "code",
   "execution_count": 13,
   "metadata": {},
   "outputs": [
    {
     "data": {
      "image/png": "[encoded data removed]",
      "text/plain": [
       "<Figure size 90x90 with 1 Axes>"
      ]
     },
     "metadata": {
      "needs_background": "light"
     },
     "output_type": "display_data"
    }
   ],
   "source": [
    "fig = plt.figure(figsize=(1.25, 1.25))\n",
    "ax = plt.subplot2grid((1, 1), (0, 0))\n",
    "ax.set_ylabel('Proportion Mb bins', fontsize=5)\n",
    "ax.set_xlabel('Proportion of mutations per Mb bin (%)', fontsize=5)\n",
    "plt.title(f'ESOPHA_STOMACH\\nObserved mutations per Mbp', fontsize=5)\n",
    "color = sigs_color[signature]\n",
    "\n",
    "sns.distplot(\n",
    "    sbs1_esopha_stomach, hist=True, kde=True, \n",
    "    bins=30, color = sigs_color['SBS1'], \n",
    "    hist_kws={'edgecolor': None, 'alpha':0.5},\n",
    "    kde_kws={'linewidth': 0.75, 'bw':0.01}\n",
    ")\n",
    "sns.distplot(\n",
    "    sbs17b_esopha_stomach, hist=True, kde=True, \n",
    "    bins=30, color = sigs_color['SBS17b'], \n",
    "    hist_kws={'edgecolor': None, 'alpha':0.5},\n",
    "    kde_kws={'linewidth': 0.75, 'bw':0.01}\n",
    ")\n",
    "\n",
    "ax.set_ylim(0, 40)\n",
    "ax.set_xlim(0, 0.25)\n",
    "ax.set_yticks([0, 10, 20, 30, 40])\n",
    "ax.set_yticklabels([0, 10, 20, 30, 40], fontsize=5)\n",
    "ax.set_xticks([0, 0.05, 0.1, 0.15, 0.2, 0.25])\n",
    "ax.set_xticklabels([0, 0.05, 0.1, 0.15, 0.2, 0.25], fontsize=5)\n",
    "\n",
    "ax.spines['left'].set(lw=0.5)\n",
    "ax.spines['bottom'].set(lw=0.5)\n",
    "ax.spines['right'].set_visible(False)\n",
    "ax.spines['top'].set_visible(False)\n",
    "ax.xaxis.set_tick_params(width=0.5)\n",
    "ax.yaxis.set_tick_params(width=0.5)\n",
    "\n",
    "for extension in ['png']: \n",
    "    output = f'./fig_4B_ESOPHA_STOMACH.{extension}'\n",
    "    plt.savefig(output, bbox_inches='tight', dpi=350)"
   ]
  },
  {
   "cell_type": "code",
   "execution_count": null,
   "metadata": {
    "collapsed": true
   },
   "outputs": [],
   "source": []
  }
 ],
 "metadata": {
  "kernelspec": {
   "display_name": "Python [conda env:hotspots_framework]",
   "language": "python",
   "name": "conda-env-hotspots_framework-py"
  },
  "language_info": {
   "codemirror_mode": {
    "name": "ipython",
    "version": 3
   },
   "file_extension": ".py",
   "mimetype": "text/x-python",
   "name": "python",
   "nbconvert_exporter": "python",
   "pygments_lexer": "ipython3",
   "version": "3.6.10"
  }
 },
 "nbformat": 4,
 "nbformat_minor": 2
}
