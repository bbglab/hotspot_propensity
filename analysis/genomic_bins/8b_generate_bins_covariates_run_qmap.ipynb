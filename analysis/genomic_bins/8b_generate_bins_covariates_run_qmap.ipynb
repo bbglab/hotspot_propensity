{
 "cells": [
  {
   "cell_type": "markdown",
   "metadata": {},
   "source": [
    "# Annotate 1 Mbp bins with large scale covariates"
   ]
  },
  {
   "cell_type": "markdown",
   "metadata": {},
   "source": [
    "This notebook runs different scripts to intersect bin coordinates with large-scale covariates, including: \n",
    "    \n",
    "- Cromatin accessibility (DNase)\n",
    "- Replication timming (Repli-seq)\n",
    "- Gene expression (RNA-seq)"
   ]
  },
  {
   "cell_type": "code",
   "execution_count": 1,
   "metadata": {
    "collapsed": true
   },
   "outputs": [],
   "source": [
    "import os\n",
    "\n",
    "import pandas as pd"
   ]
  },
  {
   "cell_type": "code",
   "execution_count": 2,
   "metadata": {
    "collapsed": true
   },
   "outputs": [],
   "source": [
    "info = [\n",
    "    '[params]',\n",
    "    'cores=1',\n",
    "    'memory=4G\\n',\n",
    "    '[pre]',\n",
    "    '. \"/home/$USER/miniconda3/etc/profile.d/conda.sh\"',\n",
    "    'conda activate pybigwig\\n',\n",
    "    '[jobs]',\n",
    "]"
   ]
  },
  {
   "cell_type": "code",
   "execution_count": 3,
   "metadata": {
    "collapsed": true
   },
   "outputs": [],
   "source": [
    "main_dir = ''"
   ]
  },
  {
   "cell_type": "code",
   "execution_count": 4,
   "metadata": {
    "collapsed": true
   },
   "outputs": [],
   "source": [
    "bins_f = f'{main_dir}/genomic_bins/data/hg38_1000kb_bin_liftover_hg19.nodrivers.filtered.mappable_positions.autosomes.binids.txt'"
   ]
  },
  {
   "cell_type": "markdown",
   "metadata": {},
   "source": [
    "### DNase"
   ]
  },
  {
   "cell_type": "code",
   "execution_count": 5,
   "metadata": {
    "collapsed": true
   },
   "outputs": [],
   "source": [
    "map_file = f'{main_dir}/genomic_bins/code/dnase_ctype.map'\n",
    "code_path = f'{main_dir}/genomic_bins/code/dnase_ctype.py'"
   ]
  },
  {
   "cell_type": "code",
   "execution_count": 6,
   "metadata": {
    "collapsed": true
   },
   "outputs": [],
   "source": [
    "metadata_f = f'{main_dir}/genomic_bins/code/Roadmap.metadata.consolidated.txt.csv'\n",
    "cov_f = f'{main_dir}/genomic_bins/code/covariates_list.csv'"
   ]
  },
  {
   "cell_type": "code",
   "execution_count": 7,
   "metadata": {
    "collapsed": true
   },
   "outputs": [],
   "source": [
    "url='https://egg2.wustl.edu/roadmap/data/byFileType/signal/consolidated/macs2signal/foldChange/'"
   ]
  },
  {
   "cell_type": "code",
   "execution_count": 8,
   "metadata": {
    "collapsed": true
   },
   "outputs": [],
   "source": [
    "output_path = f'{main_dir}/genomic_bins/data/large_scale_cov/dnase'"
   ]
  },
  {
   "cell_type": "code",
   "execution_count": 9,
   "metadata": {
    "collapsed": true
   },
   "outputs": [],
   "source": [
    "histone_marks = ['DNase']"
   ]
  },
  {
   "cell_type": "code",
   "execution_count": 10,
   "metadata": {},
   "outputs": [
    {
     "data": {
      "text/plain": [
       "['BLADDER_URI',\n",
       " 'BRCA',\n",
       " 'COADREAD',\n",
       " 'ESOPHA_STOMACH',\n",
       " 'LNM',\n",
       " 'NSCLC',\n",
       " 'PROSTATE',\n",
       " 'SKCM']"
      ]
     },
     "execution_count": 10,
     "metadata": {},
     "output_type": "execute_result"
    }
   ],
   "source": [
    "cancertypes_df = pd.read_csv(cov_f, sep='\\t', header=0)\n",
    "cancertypes = cancertypes_df['CANCER_TYPE'].tolist()\n",
    "cancertypes"
   ]
  },
  {
   "cell_type": "code",
   "execution_count": 11,
   "metadata": {
    "collapsed": true
   },
   "outputs": [],
   "source": [
    "with open(map_file, 'w') as ofd: \n",
    "    for line in info: \n",
    "        ofd.write(f'{line}\\n')\n",
    "    for ctype in cancertypes: \n",
    "        for mark in histone_marks: \n",
    "            output_f = f'{output_path}/{ctype}_hg38_1000kb_bin.{mark}.filtered.bed.gz'\n",
    "            ofd.write(f'python {code_path} --cancer-type {ctype} --bins_f {bins_f} --metadata_f {metadata_f} --output_f {output_f} --cov_f {cov_f} --url {url}\\n')"
   ]
  },
  {
   "cell_type": "code",
   "execution_count": 12,
   "metadata": {},
   "outputs": [
    {
     "data": {
      "text/plain": [
       "'/workspace/projects/hartwig/hotspots/hotspotfinder/2023_01/genomic_bins/code/dnase_ctype.map'"
      ]
     },
     "execution_count": 12,
     "metadata": {},
     "output_type": "execute_result"
    }
   ],
   "source": [
    "map_file"
   ]
  },
  {
   "cell_type": "markdown",
   "metadata": {},
   "source": [
    "# RNA"
   ]
  },
  {
   "cell_type": "code",
   "execution_count": 28,
   "metadata": {
    "collapsed": true
   },
   "outputs": [],
   "source": [
    "map_file = f'{main_dir}/genomic_bins/code/rna_ctype.map'\n",
    "code_path = f'{main_dir}/genomic_bins/code/rna_ctype.py'"
   ]
  },
  {
   "cell_type": "code",
   "execution_count": 29,
   "metadata": {
    "collapsed": true
   },
   "outputs": [],
   "source": [
    "metadata_f = f'{main_dir}/genomic_bins/code/epigenome_names.csv'\n",
    "cov_f = f'{main_dir}/genomic_bins/code/covariates_list.csv'"
   ]
  },
  {
   "cell_type": "code",
   "execution_count": 30,
   "metadata": {
    "collapsed": true
   },
   "outputs": [],
   "source": [
    "url = 'https://egg2.wustl.edu/roadmap/data/byDataType/rna/signal/normalized_bigwig/stranded/'"
   ]
  },
  {
   "cell_type": "code",
   "execution_count": 31,
   "metadata": {
    "collapsed": true
   },
   "outputs": [],
   "source": [
    "output_path = f'{main_dir}/genomic_bins/data/large_scale_cov/rna'"
   ]
  },
  {
   "cell_type": "code",
   "execution_count": 32,
   "metadata": {},
   "outputs": [
    {
     "data": {
      "text/plain": [
       "['BLADDER_URI',\n",
       " 'BRCA',\n",
       " 'COADREAD',\n",
       " 'ESOPHA_STOMACH',\n",
       " 'LNM',\n",
       " 'NSCLC',\n",
       " 'PROSTATE',\n",
       " 'SKCM']"
      ]
     },
     "execution_count": 32,
     "metadata": {},
     "output_type": "execute_result"
    }
   ],
   "source": [
    "cancertypes_df = pd.read_csv(cov_f, sep='\\t', header=0)\n",
    "cancertypes = cancertypes_df['CANCER_TYPE'].tolist()\n",
    "cancertypes"
   ]
  },
  {
   "cell_type": "code",
   "execution_count": 33,
   "metadata": {
    "collapsed": true
   },
   "outputs": [],
   "source": [
    "bins = [1000000]"
   ]
  },
  {
   "cell_type": "code",
   "execution_count": 34,
   "metadata": {
    "collapsed": true
   },
   "outputs": [],
   "source": [
    "with open(map_file, 'w') as ofd: \n",
    "    for line in info: \n",
    "        ofd.write(f'{line}\\n')\n",
    "    for ctype in cancertypes: \n",
    "        for binsize in bins: \n",
    "            output_f = f'{output_path}/{ctype}_hg38_1000kb_bin.rna.filtered.bed.gz'\n",
    "            ofd.write(f'python {code_path} --cancer-type {ctype} --bins_f {bins_f} --metadata_f {metadata_f} --output_f {output_f} --cov_f {cov_f} --url {url}\\n')"
   ]
  },
  {
   "cell_type": "markdown",
   "metadata": {},
   "source": [
    "# Replication timing"
   ]
  },
  {
   "cell_type": "code",
   "execution_count": 43,
   "metadata": {
    "collapsed": true
   },
   "outputs": [],
   "source": [
    "map_file = f'{main_dir}/genomic_bins/code/replication_ctype.map'\n",
    "code_path = f'{main_dir}/genomic_bins/code/replication_ctype.py'"
   ]
  },
  {
   "cell_type": "code",
   "execution_count": 44,
   "metadata": {
    "collapsed": true
   },
   "outputs": [],
   "source": [
    "output_path = f'{main_dir}/genomic_bins/data/large_scale_cov/replication'"
   ]
  },
  {
   "cell_type": "code",
   "execution_count": 47,
   "metadata": {
    "collapsed": true
   },
   "outputs": [],
   "source": [
    "url = 'http://hgdownload.cse.ucsc.edu/goldenPath/hg19/encodeDCC/wgEncodeUwRepliSeq/'"
   ]
  },
  {
   "cell_type": "code",
   "execution_count": 48,
   "metadata": {
    "collapsed": true
   },
   "outputs": [],
   "source": [
    "bins = [1000000]\n",
    "cancertypes = [\n",
    "    'SOLID',\n",
    "    'NON_SOLID'\n",
    "]"
   ]
  },
  {
   "cell_type": "code",
   "execution_count": 49,
   "metadata": {
    "collapsed": true
   },
   "outputs": [],
   "source": [
    "with open(map_file, 'w') as ofd: \n",
    "    for line in info: \n",
    "        ofd.write(f'{line}\\n')\n",
    "    for ctype in cancertypes: \n",
    "        for binsize in bins: \n",
    "            output_f = f'{output_path}/{ctype}_hg38_1000kb_bin.RepliSeq.filtered.bed.gz'\n",
    "            ofd.write(f'python {code_path} --cancer-type {ctype} --bins_f {bins_f} --output_f {output_f} --url {url}\\n')"
   ]
  },
  {
   "cell_type": "code",
   "execution_count": null,
   "metadata": {
    "collapsed": true
   },
   "outputs": [],
   "source": []
  }
 ],
 "metadata": {
  "kernelspec": {
   "display_name": "Python [conda env:noncoding]",
   "language": "python",
   "name": "conda-env-noncoding-py"
  },
  "language_info": {
   "codemirror_mode": {
    "name": "ipython",
    "version": 3
   },
   "file_extension": ".py",
   "mimetype": "text/x-python",
   "name": "python",
   "nbconvert_exporter": "python",
   "pygments_lexer": "ipython3",
   "version": "3.6.9"
  }
 },
 "nbformat": 4,
 "nbformat_minor": 2
}
