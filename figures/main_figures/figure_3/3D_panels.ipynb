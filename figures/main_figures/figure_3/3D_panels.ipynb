{
 "cells": [
  {
   "cell_type": "markdown",
   "metadata": {},
   "source": [
    "# Trinucleotide frequency in Fig 3D"
   ]
  },
  {
   "cell_type": "code",
   "execution_count": 1,
   "metadata": {
    "collapsed": true
   },
   "outputs": [],
   "source": [
    "import os\n",
    "from collections import defaultdict\n",
    "\n",
    "import matplotlib\n",
    "import matplotlib.pyplot as plt\n",
    "from matplotlib import rcParams\n",
    "import numpy as np\n",
    "import pandas as pd"
   ]
  },
  {
   "cell_type": "code",
   "execution_count": 2,
   "metadata": {
    "collapsed": true
   },
   "outputs": [],
   "source": [
    "rcParams['font.family'] = 'sans-serif'\n",
    "rcParams['font.sans-serif'] = ['Arial']"
   ]
  },
  {
   "cell_type": "code",
   "execution_count": 3,
   "metadata": {
    "collapsed": true
   },
   "outputs": [],
   "source": [
    "data_dir = '../../../data'"
   ]
  },
  {
   "cell_type": "code",
   "execution_count": 4,
   "metadata": {
    "collapsed": true
   },
   "outputs": [],
   "source": [
    "colors_d = {\n",
    "    'C': '#adabadff', \n",
    "    'T': '#636163ff'\n",
    "}"
   ]
  },
  {
   "cell_type": "code",
   "execution_count": 5,
   "metadata": {
    "collapsed": true
   },
   "outputs": [],
   "source": [
    "sorted_trinuc = []\n",
    "for ref in ['C', 'T']: \n",
    "    for nuc5 in ['A', 'C', 'G', 'T']: \n",
    "        for nuc3 in ['A', 'C', 'G', 'T']: \n",
    "            sorted_trinuc.append(nuc5+ref+nuc3)"
   ]
  },
  {
   "cell_type": "markdown",
   "metadata": {},
   "source": [
    "### Load data\n",
    "\n",
    "Input data corresponds to Dataset EV5"
   ]
  },
  {
   "cell_type": "code",
   "execution_count": 6,
   "metadata": {},
   "outputs": [
    {
     "data": {
      "text/html": [
       "<div>\n",
       "<style scoped>\n",
       "    .dataframe tbody tr th:only-of-type {\n",
       "        vertical-align: middle;\n",
       "    }\n",
       "\n",
       "    .dataframe tbody tr th {\n",
       "        vertical-align: top;\n",
       "    }\n",
       "\n",
       "    .dataframe thead th {\n",
       "        text-align: right;\n",
       "    }\n",
       "</style>\n",
       "<table border=\"1\" class=\"dataframe\">\n",
       "  <thead>\n",
       "    <tr style=\"text-align: right;\">\n",
       "      <th></th>\n",
       "      <th>Mutation_type</th>\n",
       "      <th>Trinucleotide</th>\n",
       "      <th>Trinucleotide_genome_frequency</th>\n",
       "      <th>SBS1</th>\n",
       "      <th>SBS2</th>\n",
       "      <th>SBS3</th>\n",
       "      <th>SBS4</th>\n",
       "      <th>SBS5</th>\n",
       "      <th>SBS7a</th>\n",
       "      <th>SBS7b</th>\n",
       "      <th>...</th>\n",
       "      <th>SBS5_normalised</th>\n",
       "      <th>SBS7a_normalised</th>\n",
       "      <th>SBS7b_normalised</th>\n",
       "      <th>SBS8_normalised</th>\n",
       "      <th>SBS13_normalised</th>\n",
       "      <th>SBS17a_normalised</th>\n",
       "      <th>SBS17b_normalised</th>\n",
       "      <th>SBS18_normalised</th>\n",
       "      <th>SBS40_normalised</th>\n",
       "      <th>SBS93_normalised</th>\n",
       "    </tr>\n",
       "  </thead>\n",
       "  <tbody>\n",
       "    <tr>\n",
       "      <th>0</th>\n",
       "      <td>A[C&gt;A]A</td>\n",
       "      <td>ACA</td>\n",
       "      <td>0.040418</td>\n",
       "      <td>0.000876</td>\n",
       "      <td>5.790059e-07</td>\n",
       "      <td>0.020920</td>\n",
       "      <td>0.042451</td>\n",
       "      <td>0.012052</td>\n",
       "      <td>0.000067</td>\n",
       "      <td>0.002344</td>\n",
       "      <td>...</td>\n",
       "      <td>0.006892</td>\n",
       "      <td>0.000035</td>\n",
       "      <td>0.001182</td>\n",
       "      <td>0.032109</td>\n",
       "      <td>0.001397</td>\n",
       "      <td>0.001856</td>\n",
       "      <td>0.000603</td>\n",
       "      <td>0.026066</td>\n",
       "      <td>0.021034</td>\n",
       "      <td>0.007795</td>\n",
       "    </tr>\n",
       "    <tr>\n",
       "      <th>1</th>\n",
       "      <td>A[C&gt;A]C</td>\n",
       "      <td>ACC</td>\n",
       "      <td>0.022682</td>\n",
       "      <td>0.002220</td>\n",
       "      <td>1.455045e-04</td>\n",
       "      <td>0.016343</td>\n",
       "      <td>0.032990</td>\n",
       "      <td>0.009337</td>\n",
       "      <td>0.000177</td>\n",
       "      <td>0.000457</td>\n",
       "      <td>...</td>\n",
       "      <td>0.009514</td>\n",
       "      <td>0.000164</td>\n",
       "      <td>0.000411</td>\n",
       "      <td>0.061074</td>\n",
       "      <td>0.000971</td>\n",
       "      <td>0.001444</td>\n",
       "      <td>0.000224</td>\n",
       "      <td>0.014034</td>\n",
       "      <td>0.017539</td>\n",
       "      <td>0.009569</td>\n",
       "    </tr>\n",
       "    <tr>\n",
       "      <th>2</th>\n",
       "      <td>A[C&gt;A]G</td>\n",
       "      <td>ACG</td>\n",
       "      <td>0.004613</td>\n",
       "      <td>0.000180</td>\n",
       "      <td>5.361861e-05</td>\n",
       "      <td>0.001808</td>\n",
       "      <td>0.016116</td>\n",
       "      <td>0.001908</td>\n",
       "      <td>0.000073</td>\n",
       "      <td>0.000192</td>\n",
       "      <td>...</td>\n",
       "      <td>0.009561</td>\n",
       "      <td>0.000334</td>\n",
       "      <td>0.000849</td>\n",
       "      <td>0.030270</td>\n",
       "      <td>0.001824</td>\n",
       "      <td>0.000384</td>\n",
       "      <td>0.000519</td>\n",
       "      <td>0.011068</td>\n",
       "      <td>0.019599</td>\n",
       "      <td>0.010671</td>\n",
       "    </tr>\n",
       "  </tbody>\n",
       "</table>\n",
       "<p>3 rows × 31 columns</p>\n",
       "</div>"
      ],
      "text/plain": [
       "  Mutation_type Trinucleotide  Trinucleotide_genome_frequency      SBS1  \\\n",
       "0       A[C>A]A           ACA                        0.040418  0.000876   \n",
       "1       A[C>A]C           ACC                        0.022682  0.002220   \n",
       "2       A[C>A]G           ACG                        0.004613  0.000180   \n",
       "\n",
       "           SBS2      SBS3      SBS4      SBS5     SBS7a     SBS7b  ...  \\\n",
       "0  5.790059e-07  0.020920  0.042451  0.012052  0.000067  0.002344  ...   \n",
       "1  1.455045e-04  0.016343  0.032990  0.009337  0.000177  0.000457  ...   \n",
       "2  5.361861e-05  0.001808  0.016116  0.001908  0.000073  0.000192  ...   \n",
       "\n",
       "   SBS5_normalised  SBS7a_normalised  SBS7b_normalised  SBS8_normalised  \\\n",
       "0         0.006892          0.000035          0.001182         0.032109   \n",
       "1         0.009514          0.000164          0.000411         0.061074   \n",
       "2         0.009561          0.000334          0.000849         0.030270   \n",
       "\n",
       "   SBS13_normalised  SBS17a_normalised  SBS17b_normalised  SBS18_normalised  \\\n",
       "0          0.001397           0.001856           0.000603          0.026066   \n",
       "1          0.000971           0.001444           0.000224          0.014034   \n",
       "2          0.001824           0.000384           0.000519          0.011068   \n",
       "\n",
       "   SBS40_normalised  SBS93_normalised  \n",
       "0          0.021034          0.007795  \n",
       "1          0.017539          0.009569  \n",
       "2          0.019599          0.010671  \n",
       "\n",
       "[3 rows x 31 columns]"
      ]
     },
     "execution_count": 6,
     "metadata": {},
     "output_type": "execute_result"
    }
   ],
   "source": [
    "sig_profiles_f = os.path.join(data_dir, 'EV_datasets', 'EV5_table.txt')\n",
    "sig_profiles_df = pd.read_csv(sig_profiles_f, sep='\\t', header=0)\n",
    "sig_profiles_df.head(3)"
   ]
  },
  {
   "cell_type": "markdown",
   "metadata": {},
   "source": [
    "### Compute mutational probabilities per trinucleotide\n",
    "\n",
    "We add up mutational probabilities across three possible alternates of a reference trinucleotide"
   ]
  },
  {
   "cell_type": "code",
   "execution_count": 7,
   "metadata": {
    "collapsed": true
   },
   "outputs": [],
   "source": [
    "signatures_to_plot = ['SBS1', 'SBS17b', 'SBS17a']"
   ]
  },
  {
   "cell_type": "code",
   "execution_count": 8,
   "metadata": {},
   "outputs": [
    {
     "data": {
      "text/html": [
       "<div>\n",
       "<style scoped>\n",
       "    .dataframe tbody tr th:only-of-type {\n",
       "        vertical-align: middle;\n",
       "    }\n",
       "\n",
       "    .dataframe tbody tr th {\n",
       "        vertical-align: top;\n",
       "    }\n",
       "\n",
       "    .dataframe thead th {\n",
       "        text-align: right;\n",
       "    }\n",
       "</style>\n",
       "<table border=\"1\" class=\"dataframe\">\n",
       "  <thead>\n",
       "    <tr style=\"text-align: right;\">\n",
       "      <th></th>\n",
       "      <th>Mutation_type</th>\n",
       "      <th>Trinucleotide</th>\n",
       "      <th>Trinucleotide_genome_frequency</th>\n",
       "      <th>SBS1</th>\n",
       "      <th>SBS2</th>\n",
       "      <th>SBS3</th>\n",
       "      <th>SBS4</th>\n",
       "      <th>SBS5</th>\n",
       "      <th>SBS7a</th>\n",
       "      <th>SBS7b</th>\n",
       "      <th>...</th>\n",
       "      <th>SBS7a_normalised</th>\n",
       "      <th>SBS7b_normalised</th>\n",
       "      <th>SBS8_normalised</th>\n",
       "      <th>SBS13_normalised</th>\n",
       "      <th>SBS17a_normalised</th>\n",
       "      <th>SBS17b_normalised</th>\n",
       "      <th>SBS18_normalised</th>\n",
       "      <th>SBS40_normalised</th>\n",
       "      <th>SBS93_normalised</th>\n",
       "      <th>trinuc_change</th>\n",
       "    </tr>\n",
       "  </thead>\n",
       "  <tbody>\n",
       "    <tr>\n",
       "      <th>0</th>\n",
       "      <td>A[C&gt;A]A</td>\n",
       "      <td>ACA</td>\n",
       "      <td>0.040418</td>\n",
       "      <td>0.000876</td>\n",
       "      <td>5.790059e-07</td>\n",
       "      <td>0.020920</td>\n",
       "      <td>0.042451</td>\n",
       "      <td>0.012052</td>\n",
       "      <td>0.000067</td>\n",
       "      <td>0.002344</td>\n",
       "      <td>...</td>\n",
       "      <td>0.000035</td>\n",
       "      <td>0.001182</td>\n",
       "      <td>0.032109</td>\n",
       "      <td>0.001397</td>\n",
       "      <td>0.001856</td>\n",
       "      <td>0.000603</td>\n",
       "      <td>0.026066</td>\n",
       "      <td>0.021034</td>\n",
       "      <td>0.007795</td>\n",
       "      <td>ACA&gt;A</td>\n",
       "    </tr>\n",
       "    <tr>\n",
       "      <th>1</th>\n",
       "      <td>A[C&gt;A]C</td>\n",
       "      <td>ACC</td>\n",
       "      <td>0.022682</td>\n",
       "      <td>0.002220</td>\n",
       "      <td>1.455045e-04</td>\n",
       "      <td>0.016343</td>\n",
       "      <td>0.032990</td>\n",
       "      <td>0.009337</td>\n",
       "      <td>0.000177</td>\n",
       "      <td>0.000457</td>\n",
       "      <td>...</td>\n",
       "      <td>0.000164</td>\n",
       "      <td>0.000411</td>\n",
       "      <td>0.061074</td>\n",
       "      <td>0.000971</td>\n",
       "      <td>0.001444</td>\n",
       "      <td>0.000224</td>\n",
       "      <td>0.014034</td>\n",
       "      <td>0.017539</td>\n",
       "      <td>0.009569</td>\n",
       "      <td>ACC&gt;A</td>\n",
       "    </tr>\n",
       "    <tr>\n",
       "      <th>2</th>\n",
       "      <td>A[C&gt;A]G</td>\n",
       "      <td>ACG</td>\n",
       "      <td>0.004613</td>\n",
       "      <td>0.000180</td>\n",
       "      <td>5.361861e-05</td>\n",
       "      <td>0.001808</td>\n",
       "      <td>0.016116</td>\n",
       "      <td>0.001908</td>\n",
       "      <td>0.000073</td>\n",
       "      <td>0.000192</td>\n",
       "      <td>...</td>\n",
       "      <td>0.000334</td>\n",
       "      <td>0.000849</td>\n",
       "      <td>0.030270</td>\n",
       "      <td>0.001824</td>\n",
       "      <td>0.000384</td>\n",
       "      <td>0.000519</td>\n",
       "      <td>0.011068</td>\n",
       "      <td>0.019599</td>\n",
       "      <td>0.010671</td>\n",
       "      <td>ACG&gt;A</td>\n",
       "    </tr>\n",
       "  </tbody>\n",
       "</table>\n",
       "<p>3 rows × 32 columns</p>\n",
       "</div>"
      ],
      "text/plain": [
       "  Mutation_type Trinucleotide  Trinucleotide_genome_frequency      SBS1  \\\n",
       "0       A[C>A]A           ACA                        0.040418  0.000876   \n",
       "1       A[C>A]C           ACC                        0.022682  0.002220   \n",
       "2       A[C>A]G           ACG                        0.004613  0.000180   \n",
       "\n",
       "           SBS2      SBS3      SBS4      SBS5     SBS7a     SBS7b  ...  \\\n",
       "0  5.790059e-07  0.020920  0.042451  0.012052  0.000067  0.002344  ...   \n",
       "1  1.455045e-04  0.016343  0.032990  0.009337  0.000177  0.000457  ...   \n",
       "2  5.361861e-05  0.001808  0.016116  0.001908  0.000073  0.000192  ...   \n",
       "\n",
       "   SBS7a_normalised  SBS7b_normalised  SBS8_normalised  SBS13_normalised  \\\n",
       "0          0.000035          0.001182         0.032109          0.001397   \n",
       "1          0.000164          0.000411         0.061074          0.000971   \n",
       "2          0.000334          0.000849         0.030270          0.001824   \n",
       "\n",
       "   SBS17a_normalised  SBS17b_normalised  SBS18_normalised  SBS40_normalised  \\\n",
       "0           0.001856           0.000603          0.026066          0.021034   \n",
       "1           0.001444           0.000224          0.014034          0.017539   \n",
       "2           0.000384           0.000519          0.011068          0.019599   \n",
       "\n",
       "   SBS93_normalised  trinuc_change  \n",
       "0          0.007795          ACA>A  \n",
       "1          0.009569          ACC>A  \n",
       "2          0.010671          ACG>A  \n",
       "\n",
       "[3 rows x 32 columns]"
      ]
     },
     "execution_count": 8,
     "metadata": {},
     "output_type": "execute_result"
    }
   ],
   "source": [
    "# Reformat mutation type\n",
    "mutation_types = sig_profiles_df['Mutation_type'].tolist()\n",
    "mutation_types_reformat = [m[0]+m[2]+m[-1]+'>'+m[-3] for m in mutation_types]\n",
    "sig_profiles_df['trinuc_change'] = mutation_types_reformat\n",
    "sig_profiles_df.head(3)"
   ]
  },
  {
   "cell_type": "code",
   "execution_count": 9,
   "metadata": {
    "collapsed": true
   },
   "outputs": [],
   "source": [
    "# Mutational probabilities \n",
    "trinuc_mut_frequency = defaultdict(lambda: defaultdict(float))\n",
    "for trinuc_change, data in sig_profiles_df.groupby('trinuc_change'): \n",
    "    trinuc = trinuc_change[0:3]\n",
    "    for signature in signatures_to_plot: \n",
    "        trinuc_mut_frequency[signature][trinuc] += data[f'{signature}_normalised'].iloc[0]"
   ]
  },
  {
   "cell_type": "code",
   "execution_count": 10,
   "metadata": {
    "collapsed": true
   },
   "outputs": [],
   "source": [
    "# Trinucleotide frequency\n",
    "trinuc_counts_norm = {}\n",
    "for trinuc, data in sig_profiles_df.groupby('Trinucleotide'): \n",
    "    trinuc_counts_norm[trinuc] = data['Trinucleotide_genome_frequency'].iloc[0]"
   ]
  },
  {
   "cell_type": "markdown",
   "metadata": {},
   "source": [
    "## Panel 3D"
   ]
  },
  {
   "cell_type": "code",
   "execution_count": 11,
   "metadata": {
    "scrolled": false
   },
   "outputs": [
    {
     "data": {
      "image/png": "[encoded data removed]",
      "text/plain": [
       "<Figure size 72x108 with 1 Axes>"
      ]
     },
     "metadata": {
      "needs_background": "light"
     },
     "output_type": "display_data"
    },
    {
     "data": {
      "image/png": "[encoded data removed]",
      "text/plain": [
       "<Figure size 72x108 with 1 Axes>"
      ]
     },
     "metadata": {
      "needs_background": "light"
     },
     "output_type": "display_data"
    },
    {
     "data": {
      "image/png": "[encoded data removed]",
      "text/plain": [
       "<Figure size 72x108 with 1 Axes>"
      ]
     },
     "metadata": {
      "needs_background": "light"
     },
     "output_type": "display_data"
    }
   ],
   "source": [
    "for signature in signatures_to_plot: \n",
    "    \n",
    "    fig = plt.figure(figsize=(1, 1.5))\n",
    "    ax = plt.subplot2grid((1, 1), (0, 0))\n",
    "\n",
    "    plt.title(f'{signature}', fontsize=5)\n",
    "    ax.set_ylabel('Mutational probability', fontsize=5)\n",
    "    ax.set_xlabel('Trinucleotide frequency (%)', fontsize=5)\n",
    "\n",
    "    x = []\n",
    "    y = []\n",
    "    colors = []\n",
    "    for i, trinuc in enumerate(sorted_trinuc, 0): \n",
    "        colors += [colors_d[trinuc[1]]]\n",
    "        y += [trinuc_mut_frequency[signature][trinuc]]\n",
    "        x += [100*trinuc_counts_norm[trinuc]]\n",
    "        \n",
    "    ax.scatter(x, y, color=colors, alpha=0.75, marker='.', s=30, lw=0)\n",
    "    for xi, yi, li in list(zip(x, y, sorted_trinuc)): \n",
    "        if yi > 0.1: \n",
    "            ax.text(xi+0.25, yi, li, rotation=0, fontsize=4, color='black')\n",
    "\n",
    "    ax.spines['right'].set_visible(False)\n",
    "    ax.spines['top'].set_visible(False)\n",
    "    ax.spines['left'].set(lw=0.5)\n",
    "    ax.spines['bottom'].set(lw=0.5)\n",
    "    plt.setp(ax.yaxis.get_ticklines(), 'markeredgewidth', 0.5)\n",
    "    plt.setp(ax.xaxis.get_ticklines(), 'markeredgewidth', 0.5)\n",
    "    \n",
    "    ax.set_yticks([j for j in list(map(lambda i: round(float(i), 4), ax.get_yticks())) if j > 0])\n",
    "    ax.set_yticks([0.0, 0.2, 0.4, 0.6])\n",
    "    ax.set_yticklabels(list(ax.get_yticks()), fontsize=5)\n",
    "    ax.set_ylim(-0.01, 0.6)\n",
    "    xticks = [0.0, 2.5, 5, 7.5]\n",
    "    ax.set_xticks(xticks)\n",
    "    ax.set_xticklabels(xticks, fontsize=5)\n",
    "    ax.set_xlim(-0.01, 8)\n",
    "\n",
    "    for extension in ['png']: \n",
    "        output = f'./fig_3D_{signature}.{extension}'\n",
    "        plt.savefig(output, bbox_inches='tight', dpi=350)"
   ]
  },
  {
   "cell_type": "code",
   "execution_count": null,
   "metadata": {
    "collapsed": true
   },
   "outputs": [],
   "source": []
  }
 ],
 "metadata": {
  "kernelspec": {
   "display_name": "Python [conda env:hotspot_propensity]",
   "language": "python",
   "name": "conda-env-hotspot_propensity-py"
  },
  "language_info": {
   "codemirror_mode": {
    "name": "ipython",
    "version": 3
   },
   "file_extension": ".py",
   "mimetype": "text/x-python",
   "name": "python",
   "nbconvert_exporter": "python",
   "pygments_lexer": "ipython3",
   "version": "3.6.13"
  }
 },
 "nbformat": 4,
 "nbformat_minor": 2
}
