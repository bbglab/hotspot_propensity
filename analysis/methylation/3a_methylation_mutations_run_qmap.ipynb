{
 "cells": [
  {
   "cell_type": "markdown",
   "metadata": {},
   "source": [
    "# Overlap CpG sites bearing methylation data with mutations"
   ]
  },
  {
   "cell_type": "code",
   "execution_count": 1,
   "metadata": {
    "collapsed": true
   },
   "outputs": [],
   "source": [
    "import os"
   ]
  },
  {
   "cell_type": "code",
   "execution_count": 2,
   "metadata": {
    "collapsed": true
   },
   "outputs": [],
   "source": [
    "main_dir = ''"
   ]
  },
  {
   "cell_type": "code",
   "execution_count": 3,
   "metadata": {
    "collapsed": true
   },
   "outputs": [],
   "source": [
    "code_f = f'{main_dir}/methylation/code/methylation_mutations.py'\n",
    "map_f = f'{main_dir}/methylation/code/methylation_mutations.map'"
   ]
  },
  {
   "cell_type": "code",
   "execution_count": 4,
   "metadata": {
    "collapsed": true
   },
   "outputs": [],
   "source": [
    "cpg_dir = output_dir = f'{main_dir}/methylation/data/fractional_methylation'"
   ]
  },
  {
   "cell_type": "code",
   "execution_count": 5,
   "metadata": {
    "collapsed": true
   },
   "outputs": [],
   "source": [
    "muts_dir = f'{main_dir}/propensity/data/filtered_mutations'"
   ]
  },
  {
   "cell_type": "code",
   "execution_count": 6,
   "metadata": {
    "collapsed": true
   },
   "outputs": [],
   "source": [
    "info = [\n",
    "    '[params]',\n",
    "    'cores=1',\n",
    "    'memory=32G\\n',\n",
    "    '[pre]',\n",
    "    '. \"/home/$USER/miniconda3/etc/profile.d/conda.sh\"',\n",
    "    'conda activate hotspots_framework\\n',\n",
    "    '[jobs]',\n",
    "]"
   ]
  },
  {
   "cell_type": "code",
   "execution_count": 7,
   "metadata": {
    "collapsed": true
   },
   "outputs": [],
   "source": [
    "epigenomes_to_run = {\n",
    "    'COADREAD': ['E084','E106'],\n",
    "    'ESOPHA_STOMACH': ['E079','E094'],\n",
    "    'NSCLC': ['E017','E096'],\n",
    "}"
   ]
  },
  {
   "cell_type": "code",
   "execution_count": 8,
   "metadata": {
    "collapsed": true
   },
   "outputs": [],
   "source": [
    "autosomes = [f'chr{c}' for c in range(1, 23)]"
   ]
  },
  {
   "cell_type": "code",
   "execution_count": 9,
   "metadata": {},
   "outputs": [
    {
     "name": "stdout",
     "output_type": "stream",
     "text": [
      "COADREAD\n",
      "ESOPHA_STOMACH\n",
      "NSCLC\n"
     ]
    }
   ],
   "source": [
    "with open(map_f, 'w') as ofd: \n",
    "    for line in info: \n",
    "        ofd.write(f'{line}\\n')\n",
    "    for ctype in epigenomes_to_run.keys(): \n",
    "        muts_f = f'{muts_dir}/{ctype}_SBS96_total_maxprob.originalref.hg38_1000kb_autosomes_bin.tsv'\n",
    "        for signature in ['SBS1']: \n",
    "            for chromosome in autosomes: \n",
    "                cpg_f = f'{cpg_dir}/hg38_{chromosome}.filtered.txt.gz'\n",
    "                output_f = f'{output_dir}/{signature}_{ctype}.{chromosome}.mutation_status.gz'\n",
    "                ofd.write(\n",
    "                    f'python {code_f} --chromosome {chromosome} --muts_f {muts_f} --cpg_f {cpg_f} --output_file {output_f}\\n' )\n",
    "        print(ctype)"
   ]
  }
 ],
 "metadata": {
  "kernelspec": {
   "display_name": "Python [conda env:hotspots_framework]",
   "language": "python",
   "name": "conda-env-hotspots_framework-py"
  },
  "language_info": {
   "codemirror_mode": {
    "name": "ipython",
    "version": 3
   },
   "file_extension": ".py",
   "mimetype": "text/x-python",
   "name": "python",
   "nbconvert_exporter": "python",
   "pygments_lexer": "ipython3",
   "version": "3.6.10"
  }
 },
 "nbformat": 4,
 "nbformat_minor": 2
}
