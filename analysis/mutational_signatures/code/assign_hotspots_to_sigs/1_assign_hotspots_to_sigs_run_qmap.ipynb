{
 "cells": [
  {
   "cell_type": "markdown",
   "metadata": {},
   "source": [
    "# Probability of signatures in hotspots"
   ]
  },
  {
   "cell_type": "markdown",
   "metadata": {},
   "source": [
    "Calculate the probability of each signature within a hotspot using the signature mutational probability vectors for each mutation in the hotspot. "
   ]
  },
  {
   "cell_type": "code",
   "execution_count": 1,
   "metadata": {
    "collapsed": true
   },
   "outputs": [],
   "source": [
    "import os"
   ]
  },
  {
   "cell_type": "markdown",
   "metadata": {},
   "source": [
    "#### Data"
   ]
  },
  {
   "cell_type": "code",
   "execution_count": 2,
   "metadata": {
    "collapsed": true
   },
   "outputs": [],
   "source": [
    "main_dir = ''"
   ]
  },
  {
   "cell_type": "code",
   "execution_count": 3,
   "metadata": {
    "collapsed": true
   },
   "outputs": [],
   "source": [
    "sigstype = 'SBS96'\n",
    "sigs_dir = f'{main_dir}/signatures/sigprofiler/output/mutations_total'"
   ]
  },
  {
   "cell_type": "code",
   "execution_count": 4,
   "metadata": {
    "collapsed": true
   },
   "outputs": [],
   "source": [
    "samples_threshold = '2'\n",
    "alternates = 'altsplit'  \n",
    "data_type = 'cancertypes_filtered_nodrivers'\n",
    "hotspots_dir = f'{main_dir}/hotspots/data/{data_type}/hotspots_n{samples_threshold}_{alternates}'"
   ]
  },
  {
   "cell_type": "code",
   "execution_count": 5,
   "metadata": {
    "collapsed": true
   },
   "outputs": [],
   "source": [
    "ctypes_to_analyze = [\n",
    "    'ALL',\n",
    "    'BILIARY_TRACT',\n",
    "    'BLADDER_URI',\n",
    "    'BOWEL',\n",
    "    'BRCA',\n",
    "    'BRAIN',\n",
    "    'CERVIX',\n",
    "    'COADREAD',\n",
    "    'ES',\n",
    "    'ESOPHA_STOMACH',\n",
    "    'GBM',\n",
    "    'HEAD_NECK',\n",
    "    'KIDNEY',\n",
    "    'LIVER',\n",
    "    'LUNG',\n",
    "    'MBL',\n",
    "    'NSCLC',\n",
    "    'OV',\n",
    "    'PANCREAS',\n",
    "    'PROSTATE',\n",
    "    'SCLC',\n",
    "    'SKCM',\n",
    "    'SKIN',\n",
    "    'ST',\n",
    "    'THYROID',\n",
    "    'UCEC'\n",
    "]"
   ]
  },
  {
   "cell_type": "code",
   "execution_count": 6,
   "metadata": {},
   "outputs": [
    {
     "data": {
      "text/plain": [
       "26"
      ]
     },
     "execution_count": 6,
     "metadata": {},
     "output_type": "execute_result"
    }
   ],
   "source": [
    "len(ctypes_to_analyze)"
   ]
  },
  {
   "cell_type": "markdown",
   "metadata": {},
   "source": [
    "#### Run"
   ]
  },
  {
   "cell_type": "code",
   "execution_count": 7,
   "metadata": {
    "collapsed": true
   },
   "outputs": [],
   "source": [
    "run_dir = f'{main_dir}/signatures/assign_hotspots_to_sigs'"
   ]
  },
  {
   "cell_type": "code",
   "execution_count": 8,
   "metadata": {
    "collapsed": true
   },
   "outputs": [],
   "source": [
    "code = os.path.join(run_dir, 'code', 'assign_hotspots_to_sigs.py')\n",
    "map_file = os.path.join(run_dir, 'code', f'assign_hotspots_to_sigs_nodrivers.map')\n",
    "output_dir = os.path.join(run_dir, 'data')"
   ]
  },
  {
   "cell_type": "code",
   "execution_count": 9,
   "metadata": {
    "collapsed": true
   },
   "outputs": [],
   "source": [
    "info = [\n",
    "    '[params]',\n",
    "    'cores=1',\n",
    "    'memory=8G\\n',\n",
    "    '[pre]',\n",
    "    '. \"/home/$USER/miniconda3/etc/profile.d/conda.sh\"',\n",
    "    'conda activate hotspots_framework\\n',\n",
    "    '[jobs]',\n",
    "]"
   ]
  },
  {
   "cell_type": "code",
   "execution_count": 10,
   "metadata": {
    "collapsed": true
   },
   "outputs": [],
   "source": [
    "with open(map_file, 'w') as ofd: \n",
    "    \n",
    "    for line in info: \n",
    "        ofd.write(f'{line}\\n')\n",
    "    \n",
    "    for ctype in ctypes_to_analyze: \n",
    "        \n",
    "        # 'sum' for sum of probabilities or 'normsum' for normalized sum of probabilities\n",
    "        for p_mode in ['normsum']: \n",
    "            \n",
    "            # Signatures file\n",
    "            context_probs_f = os.path.join(\n",
    "                sigs_dir, f'{ctype}_{sigstype}', sigstype, 'Suggested_Solution', \n",
    "                f'COSMIC_{sigstype}_Decomposed_Solution', 'Activities', 'Decomposed_Mutation_Probabilities.txt')\n",
    "\n",
    "            # Hotspots file\n",
    "            input_file_hotspots = os.path.join(hotspots_dir, f'{ctype}.results.tsv.gz')\n",
    "\n",
    "            # Define output file\n",
    "            output_f = os.path.join(output_dir, f'{ctype}_sigsprobs_{data_type}_n{samples_threshold}_{alternates}.{p_mode}.txt')\n",
    "\n",
    "            # Write\n",
    "            ofd.write(f'python {code} -s {context_probs_f} -h {input_file_hotspots} -o {output_f} -p {p_mode}\\n')\n"
   ]
  }
 ],
 "metadata": {
  "kernelspec": {
   "display_name": "Python [conda env:hotspots_framework]",
   "language": "python",
   "name": "conda-env-hotspots_framework-py"
  },
  "language_info": {
   "codemirror_mode": {
    "name": "ipython",
    "version": 3
   },
   "file_extension": ".py",
   "mimetype": "text/x-python",
   "name": "python",
   "nbconvert_exporter": "python",
   "pygments_lexer": "ipython3",
   "version": "3.6.10"
  }
 },
 "nbformat": 4,
 "nbformat_minor": 2
}
