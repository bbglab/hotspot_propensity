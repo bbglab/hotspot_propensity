{
 "cells": [
  {
   "cell_type": "markdown",
   "metadata": {},
   "source": [
    "# Germline analysis in Fig 5K"
   ]
  },
  {
   "cell_type": "code",
   "execution_count": 1,
   "metadata": {
    "collapsed": true
   },
   "outputs": [],
   "source": [
    "from collections import Counter\n",
    "\n",
    "import matplotlib\n",
    "import matplotlib.pyplot as plt\n",
    "from matplotlib import rcParams\n",
    "import numpy as np\n",
    "np.random.seed(426749)\n",
    "import pandas as pd"
   ]
  },
  {
   "cell_type": "code",
   "execution_count": 2,
   "metadata": {
    "collapsed": true
   },
   "outputs": [],
   "source": [
    "def filter_sig_muts(df, signature): \n",
    "    \"\"\"Filter a dataframe for mutations within a signature and maximum likelihood > 0.5\"\"\"\n",
    "    \n",
    "    df = df.loc[df['SIGNATURE'] == signature].copy()\n",
    "    df = df.loc[df['MAX_PROB'] > 0.5].copy()\n",
    "    return df"
   ]
  },
  {
   "cell_type": "code",
   "execution_count": 3,
   "metadata": {
    "collapsed": true
   },
   "outputs": [],
   "source": [
    "def compute_hotspot_propensity(df, total_iterations, sample_size, mutations_size):\n",
    "    \"\"\"Carry out the subsampling to compute hotspot propensity\"\"\"\n",
    "    \n",
    "    hotspots_per_iteration = []\n",
    "\n",
    "    # Filter samples for subsampling\n",
    "    muts_per_sample = dict(df['SAMPLE'].value_counts())\n",
    "    muts_per_sample_filter = dict([(k, v) for k, v in muts_per_sample.items() if v > mutations_size])\n",
    "    filtered_samples = list(muts_per_sample_filter.keys())\n",
    "\n",
    "    # Subsampling\n",
    "    for iteration in range(0, total_iterations):\n",
    "        # Select a number of samples randomly without replacement (a sample cannot be selected twice in the subsample)\n",
    "        subsample = np.random.choice(filtered_samples, size=sample_size, replace=False)\n",
    "\n",
    "        # Randomize mutations\n",
    "        iter_mutations_df = []\n",
    "        for sample in subsample:\n",
    "            sample_df = df.loc[df['SAMPLE'] == sample].copy()\n",
    "            # Select a number of mutations randomly without replacement (a mutation cannot be selected twice)\n",
    "            sample_muts_df = sample_df.sample(n=mutations_size, replace=False).copy()\n",
    "            iter_mutations_df.append(sample_muts_df)\n",
    "        # Merge\n",
    "        iter_mutations_df = pd.concat(iter_mutations_df)\n",
    "        # Identify hotspots (two or more mutations in the same position)\n",
    "        randomised_mutations = iter_mutations_df['MUTATION_ID'].tolist()\n",
    "        hotspots = [h for h, nmuts in Counter(randomised_mutations).items() if nmuts >= 2]\n",
    "        hotspots_position = set(['_'.join(i.split('_')[:2]) for i in hotspots])\n",
    "        hotspots_per_iteration += [len(hotspots_position)]\n",
    "\n",
    "        if len(hotspots) != len(hotspots_position): \n",
    "            print(len(hotspots), len(hotspots_position))\n",
    "\n",
    "    return hotspots_per_iteration"
   ]
  },
  {
   "cell_type": "code",
   "execution_count": 4,
   "metadata": {
    "collapsed": true
   },
   "outputs": [],
   "source": [
    "rcParams['font.family'] = 'sans-serif'\n",
    "rcParams['font.sans-serif'] = ['Arial']"
   ]
  },
  {
   "cell_type": "code",
   "execution_count": 5,
   "metadata": {
    "collapsed": true
   },
   "outputs": [],
   "source": [
    "sigs_color = {\n",
    "'SBS1': '#1e79baff',\n",
    " 'SBS5': '#7ebdeaff'\n",
    "}"
   ]
  },
  {
   "cell_type": "code",
   "execution_count": 6,
   "metadata": {
    "collapsed": true
   },
   "outputs": [],
   "source": [
    "data_dir = '../../../data/germline_mutations'"
   ]
  },
  {
   "cell_type": "markdown",
   "metadata": {},
   "source": [
    "### Load data\n",
    "\n",
    "- Filtered germline mutations from human. Each mutation has been assigned to the signature with maximum likelihood. "
   ]
  },
  {
   "cell_type": "code",
   "execution_count": 7,
   "metadata": {
    "collapsed": true
   },
   "outputs": [],
   "source": [
    "files = [\n",
    "    f'{data_dir}/An_2018.parsed.mappable.max_likelihood.tsv',\n",
    "    f'{data_dir}/Goldman_2016.parsed.mappable.max_likelihood.tsv',\n",
    "    f'{data_dir}/Halldorsson_2019.parsed.mappable.max_likelihood.tsv',\n",
    "    f'{data_dir}/Rahbari_2015.parsed.mappable.max_likelihood.tsv',\n",
    "    f'{data_dir}/Sasani_2019__second_gen.parsed.mappable.max_likelihood.tsv',\n",
    "    f'{data_dir}/Sasani_2019__third_gen.parsed.mappable.max_likelihood.tsv',\n",
    "    f'{data_dir}/Yuen_2017.parsed.mappable.max_likelihood.tsv'\n",
    "]"
   ]
  },
  {
   "cell_type": "code",
   "execution_count": 8,
   "metadata": {},
   "outputs": [
    {
     "data": {
      "text/plain": [
       "527612"
      ]
     },
     "execution_count": 8,
     "metadata": {},
     "output_type": "execute_result"
    }
   ],
   "source": [
    "# Merge\n",
    "lines = []\n",
    "for file in files: \n",
    "    lines.append(pd.read_csv(file, sep='\\t', header=0, low_memory=False))\n",
    "mutations_df = pd.concat(lines)\n",
    "len(mutations_df)"
   ]
  },
  {
   "cell_type": "code",
   "execution_count": 9,
   "metadata": {},
   "outputs": [
    {
     "data": {
      "text/html": [
       "<div>\n",
       "<style scoped>\n",
       "    .dataframe tbody tr th:only-of-type {\n",
       "        vertical-align: middle;\n",
       "    }\n",
       "\n",
       "    .dataframe tbody tr th {\n",
       "        vertical-align: top;\n",
       "    }\n",
       "\n",
       "    .dataframe thead th {\n",
       "        text-align: right;\n",
       "    }\n",
       "</style>\n",
       "<table border=\"1\" class=\"dataframe\">\n",
       "  <thead>\n",
       "    <tr style=\"text-align: right;\">\n",
       "      <th></th>\n",
       "      <th>SAMPLE</th>\n",
       "      <th>CHROMOSOME</th>\n",
       "      <th>POSITION</th>\n",
       "      <th>REF</th>\n",
       "      <th>ALT</th>\n",
       "      <th>MUT_ID</th>\n",
       "      <th>CONTEXT</th>\n",
       "      <th>MAX_PROB</th>\n",
       "      <th>SIGNATURE</th>\n",
       "    </tr>\n",
       "  </thead>\n",
       "  <tbody>\n",
       "    <tr>\n",
       "      <th>0</th>\n",
       "      <td>An_2018</td>\n",
       "      <td>1</td>\n",
       "      <td>3747728</td>\n",
       "      <td>T</td>\n",
       "      <td>C</td>\n",
       "      <td>1_3747728_T&gt;C</td>\n",
       "      <td>TTG&gt;C</td>\n",
       "      <td>0.995147</td>\n",
       "      <td>SBS5</td>\n",
       "    </tr>\n",
       "    <tr>\n",
       "      <th>1</th>\n",
       "      <td>An_2018</td>\n",
       "      <td>1</td>\n",
       "      <td>38338861</td>\n",
       "      <td>C</td>\n",
       "      <td>A</td>\n",
       "      <td>1_38338861_C&gt;A</td>\n",
       "      <td>ACT&gt;A</td>\n",
       "      <td>0.971976</td>\n",
       "      <td>SBS5</td>\n",
       "    </tr>\n",
       "    <tr>\n",
       "      <th>2</th>\n",
       "      <td>An_2018</td>\n",
       "      <td>1</td>\n",
       "      <td>117942118</td>\n",
       "      <td>T</td>\n",
       "      <td>G</td>\n",
       "      <td>1_117942118_T&gt;G</td>\n",
       "      <td>TTA&gt;G</td>\n",
       "      <td>1.000000</td>\n",
       "      <td>SBS5</td>\n",
       "    </tr>\n",
       "    <tr>\n",
       "      <th>3</th>\n",
       "      <td>An_2018</td>\n",
       "      <td>1</td>\n",
       "      <td>163337297</td>\n",
       "      <td>C</td>\n",
       "      <td>A</td>\n",
       "      <td>1_163337297_C&gt;A</td>\n",
       "      <td>TCT&gt;A</td>\n",
       "      <td>0.999931</td>\n",
       "      <td>SBS5</td>\n",
       "    </tr>\n",
       "    <tr>\n",
       "      <th>4</th>\n",
       "      <td>An_2018</td>\n",
       "      <td>1</td>\n",
       "      <td>175991159</td>\n",
       "      <td>G</td>\n",
       "      <td>C</td>\n",
       "      <td>1_175991159_G&gt;C</td>\n",
       "      <td>ACA&gt;G</td>\n",
       "      <td>0.973312</td>\n",
       "      <td>SBS5</td>\n",
       "    </tr>\n",
       "  </tbody>\n",
       "</table>\n",
       "</div>"
      ],
      "text/plain": [
       "    SAMPLE  CHROMOSOME   POSITION REF ALT           MUT_ID CONTEXT  MAX_PROB  \\\n",
       "0  An_2018           1    3747728   T   C    1_3747728_T>C   TTG>C  0.995147   \n",
       "1  An_2018           1   38338861   C   A   1_38338861_C>A   ACT>A  0.971976   \n",
       "2  An_2018           1  117942118   T   G  1_117942118_T>G   TTA>G  1.000000   \n",
       "3  An_2018           1  163337297   C   A  1_163337297_C>A   TCT>A  0.999931   \n",
       "4  An_2018           1  175991159   G   C  1_175991159_G>C   ACA>G  0.973312   \n",
       "\n",
       "  SIGNATURE  \n",
       "0      SBS5  \n",
       "1      SBS5  \n",
       "2      SBS5  \n",
       "3      SBS5  \n",
       "4      SBS5  "
      ]
     },
     "execution_count": 9,
     "metadata": {},
     "output_type": "execute_result"
    }
   ],
   "source": [
    "mutations_df.head()"
   ]
  },
  {
   "cell_type": "code",
   "execution_count": 10,
   "metadata": {
    "collapsed": true
   },
   "outputs": [],
   "source": [
    "# Use ref and alt from hg38 across all datasets (info in context column)\n",
    "mutations_df['REF'] = [i[1] for i in mutations_df['CONTEXT'].tolist()]\n",
    "mutations_df['ALT'] = [i[-1] for i in mutations_df['CONTEXT'].tolist()]\n",
    "mutations_df['MUTATION_ID'] = mutations_df.apply(\n",
    "    lambda x: str(x['CHROMOSOME']) + '_' + str(x['POSITION']) + '_' + str(x['REF']) + '>' + str(x['ALT']), axis=1)"
   ]
  },
  {
   "cell_type": "markdown",
   "metadata": {},
   "source": [
    "### Subset signatures"
   ]
  },
  {
   "cell_type": "code",
   "execution_count": 11,
   "metadata": {},
   "outputs": [
    {
     "name": "stdout",
     "output_type": "stream",
     "text": [
      "SBS1 89799\n",
      "SBS5 437813\n"
     ]
    }
   ],
   "source": [
    "data = {}\n",
    "data['SBS1'] = filter_sig_muts(df=mutations_df, signature='SBS1')\n",
    "data['SBS5'] = filter_sig_muts(df=mutations_df, signature='SBS5')\n",
    "for sig, df in data.items(): \n",
    "    print(sig, len(df))"
   ]
  },
  {
   "cell_type": "markdown",
   "metadata": {},
   "source": [
    "### Compute hotspot propensity"
   ]
  },
  {
   "cell_type": "code",
   "execution_count": 12,
   "metadata": {
    "collapsed": true
   },
   "outputs": [],
   "source": [
    "total_iterations = 1000\n",
    "n_mutations = 30000"
   ]
  },
  {
   "cell_type": "markdown",
   "metadata": {},
   "source": [
    "#### SBS1"
   ]
  },
  {
   "cell_type": "code",
   "execution_count": 13,
   "metadata": {},
   "outputs": [
    {
     "data": {
      "text/plain": [
       "97.0"
      ]
     },
     "execution_count": 13,
     "metadata": {},
     "output_type": "execute_result"
    }
   ],
   "source": [
    "# Randomize mutations\n",
    "hotspots_per_iteration_sbs1 = []\n",
    "for iteration in range(0, total_iterations):\n",
    "    \n",
    "    # Select a number of mutations randomly without replacement (a mutation cannot be selected twice)\n",
    "    subsample_df = data['SBS1'].sample(n=n_mutations, replace=False).copy()\n",
    "    \n",
    "    # Identify hotspots (two or more mutations in the same position)\n",
    "    randomised_mutations = subsample_df['MUTATION_ID'].tolist()\n",
    "    hotspots = [h for h, nmuts in Counter(randomised_mutations).items() if nmuts >= 2]\n",
    "    hotspots_position = set(['_'.join(i.split('_')[:2]) for i in hotspots])\n",
    "    hotspots_per_iteration_sbs1 += [len(hotspots_position)]\n",
    "\n",
    "np.median(hotspots_per_iteration_sbs1)"
   ]
  },
  {
   "cell_type": "markdown",
   "metadata": {},
   "source": [
    "#### SBS5"
   ]
  },
  {
   "cell_type": "code",
   "execution_count": 14,
   "metadata": {},
   "outputs": [
    {
     "data": {
      "text/plain": [
       "25.0"
      ]
     },
     "execution_count": 14,
     "metadata": {},
     "output_type": "execute_result"
    }
   ],
   "source": [
    "# Randomize mutations\n",
    "hotspots_per_iteration_sbs5 = []\n",
    "for iteration in range(0, total_iterations):\n",
    "    \n",
    "    # Select a number of mutations randomly without replacement (a mutation cannot be selected twice)\n",
    "    subsample_df = data['SBS5'].sample(n=n_mutations, replace=False).copy()\n",
    "    \n",
    "    # Identify hotspots (two or more mutations in the same position)\n",
    "    randomised_mutations = subsample_df['MUTATION_ID'].tolist()\n",
    "    hotspots = [h for h, nmuts in Counter(randomised_mutations).items() if nmuts >= 2]\n",
    "    hotspots_position = set(['_'.join(i.split('_')[:2]) for i in hotspots])\n",
    "    hotspots_per_iteration_sbs5 += [len(hotspots_position)]\n",
    "\n",
    "np.median(hotspots_per_iteration_sbs5)"
   ]
  },
  {
   "cell_type": "markdown",
   "metadata": {},
   "source": [
    "## Panel 5K"
   ]
  },
  {
   "cell_type": "code",
   "execution_count": 15,
   "metadata": {},
   "outputs": [
    {
     "data": {
      "image/png": "[encoded data removed]",
      "text/plain": [
       "<Figure size 46.8x108 with 1 Axes>"
      ]
     },
     "metadata": {
      "needs_background": "light"
     },
     "output_type": "display_data"
    }
   ],
   "source": [
    "fig = plt.figure(figsize=(0.65, 1.5))\n",
    "ax = plt.subplot2grid((1, 1), (0, 0))\n",
    "ax.set_ylabel('# hotspots', fontsize=6)\n",
    "plt.title(f\"Germline\\n30000 mutations\", fontsize=6)\n",
    "\n",
    "labels = ['SBS1', 'SBS5']\n",
    "m1 = np.median(hotspots_per_iteration_sbs1)\n",
    "m2 = np.median(hotspots_per_iteration_sbs5)\n",
    "\n",
    "bar = ax.bar([0, 1], [m1, m2], width=0.80, align='center', color=[sigs_color['SBS1'], sigs_color['SBS5']], alpha=1, zorder=1)\n",
    "ax.vlines(0, ymin=np.percentile(hotspots_per_iteration_sbs1, 25), ymax=np.percentile(hotspots_per_iteration_sbs1, 75), color='black', linestyle='-', lw=0.5, zorder=2)\n",
    "ax.vlines(1, ymin=np.percentile(hotspots_per_iteration_sbs5, 25), ymax=np.percentile(hotspots_per_iteration_sbs5, 75), color='black', linestyle='-', lw=0.5, zorder=3)\n",
    "ax.scatter(0, m1, color='black', marker='o', s=4, lw=0.5, edgecolor=None, zorder=2)\n",
    "ax.scatter(1, m2, color='black', marker='o', s=4, lw=0.5, edgecolor=None, zorder=2)\n",
    "\n",
    "ax.set_xlim(-0.5, 1.5)\n",
    "ax.set_ylim(0, 125)\n",
    "ax.set_xticks([0, 1])\n",
    "ax.set_xticklabels(labels, fontsize=6, rotation=45, ha='center', va='top')\n",
    "yticks = [0, 25, 50, 75, 100, 125]\n",
    "ax.set_yticks(yticks)\n",
    "ax.set_yticklabels(yticks, fontsize=5)\n",
    "ax.tick_params(axis='y', which='major', pad=1)\n",
    "ax.tick_params(axis='x', which='major', pad=2)\n",
    "\n",
    "ax.spines['left'].set(lw=0.5)\n",
    "ax.spines['bottom'].set(lw=0.5)\n",
    "ax.spines['right'].set_visible(False)\n",
    "ax.spines['top'].set_visible(False)\n",
    "ax.xaxis.set_tick_params(width=0.5)\n",
    "ax.yaxis.set_tick_params(width=0.5)\n",
    "\n",
    "for extension in ['png']: \n",
    "    output = f'./fig_5K.{extension}'\n",
    "    plt.savefig(output, bbox_inches='tight', dpi=350)"
   ]
  },
  {
   "cell_type": "code",
   "execution_count": null,
   "metadata": {
    "collapsed": true
   },
   "outputs": [],
   "source": []
  }
 ],
 "metadata": {
  "kernelspec": {
   "display_name": "Python [conda env:hotspot_propensity]",
   "language": "python",
   "name": "conda-env-hotspot_propensity-py"
  },
  "language_info": {
   "codemirror_mode": {
    "name": "ipython",
    "version": 3
   },
   "file_extension": ".py",
   "mimetype": "text/x-python",
   "name": "python",
   "nbconvert_exporter": "python",
   "pygments_lexer": "ipython3",
   "version": "3.6.13"
  }
 },
 "nbformat": 4,
 "nbformat_minor": 2
}
