{
 "cells": [
  {
   "cell_type": "markdown",
   "metadata": {},
   "source": [
    "# Filter and reformat CTCF binding sites annotations"
   ]
  },
  {
   "cell_type": "markdown",
   "metadata": {},
   "source": [
    "For a file containing CTCF binding sites from ChIP-seq data, filter those sites that: \n",
    "- Overlap autosomes\n",
    "- Have a length of 200-600 bp\n",
    "- 90% or more of their sequence overlaps mappable genome (mappable, non-blacklisted, no SNPs, no drivers)"
   ]
  },
  {
   "cell_type": "code",
   "execution_count": 1,
   "metadata": {
    "collapsed": true
   },
   "outputs": [],
   "source": [
    "import os, sys\n",
    "import glob\n",
    "os.environ[\"PATH\"] = os.path.dirname(sys.executable) + os.pathsep + os.environ[\"PATH\"]\n",
    "import time\n",
    "\n",
    "from intervaltree import IntervalTree\n",
    "import pandas as pd\n",
    "import pybedtools"
   ]
  },
  {
   "cell_type": "code",
   "execution_count": 2,
   "metadata": {
    "collapsed": true
   },
   "outputs": [],
   "source": [
    "autosomes = list(map(lambda x: f'chr{x}', range(1, 23)))"
   ]
  },
  {
   "cell_type": "code",
   "execution_count": 3,
   "metadata": {
    "collapsed": true
   },
   "outputs": [],
   "source": [
    "main_dir = ''"
   ]
  },
  {
   "cell_type": "markdown",
   "metadata": {},
   "source": [
    "### Load data"
   ]
  },
  {
   "cell_type": "code",
   "execution_count": 4,
   "metadata": {
    "collapsed": true
   },
   "outputs": [],
   "source": [
    "mappable_genome_f = f'{main_dir}/mappable_genome/data/hg38_mappable_genome.nodrivers.tsv.gz'"
   ]
  },
  {
   "cell_type": "code",
   "execution_count": 5,
   "metadata": {},
   "outputs": [
    {
     "name": "stdout",
     "output_type": "stream",
     "text": [
      "CPU times: user 15min 20s, sys: 4.6 s, total: 15min 24s\n",
      "Wall time: 15min 44s\n"
     ]
    }
   ],
   "source": [
    "%%time\n",
    "\n",
    "mappable_genome_df = pd.read_csv(mappable_genome_f, sep='\\t', header=0, low_memory=False)\n",
    "mappable_genome_df.loc[mappable_genome_df['CHR'].isin(autosomes)]\n",
    "mappable_genome_df['CHR'] = mappable_genome_df.apply(lambda x: x['CHR'][3:], axis=1)\n",
    "mappable_genome_df['START'] = mappable_genome_df.apply(lambda x: x['START'] - 1, axis=1)    # BED format\n",
    "mappable_genome_bed = pybedtools.BedTool.from_dataframe(mappable_genome_df)"
   ]
  },
  {
   "cell_type": "code",
   "execution_count": 6,
   "metadata": {
    "collapsed": true
   },
   "outputs": [],
   "source": [
    "input_files = glob.glob(f'{main_dir}/ctcf/data/inputs/*.bed.gz')"
   ]
  },
  {
   "cell_type": "markdown",
   "metadata": {},
   "source": [
    "### Intersect"
   ]
  },
  {
   "cell_type": "code",
   "execution_count": 8,
   "metadata": {
    "scrolled": true
   },
   "outputs": [
    {
     "name": "stdout",
     "output_type": "stream",
     "text": [
      "CPU times: user 53.3 s, sys: 212 ms, total: 53.5 s\n",
      "Wall time: 1min 32s\n"
     ]
    }
   ],
   "source": [
    "%%time\n",
    "\n",
    "for input_f in input_files: \n",
    "    \n",
    "    # Read\n",
    "    df = pd.read_csv(input_f, sep='\\t', header=None)\n",
    "    df = df[[0,1,2]]\n",
    "    df.columns = ['CHR', 'START', 'END']\n",
    "    df['ID'] = df.apply(lambda x: x['CHR']+':'+str(x['START'])+'-'+str(x['END']), axis=1)\n",
    "\n",
    "    # Filter autosomes\n",
    "    df = df.loc[df['CHR'].isin(autosomes)].copy()\n",
    "\n",
    "    # Filter length\n",
    "    df['LENGTH'] = df.apply(lambda x: x['END']- x['START'] + 1, axis=1)\n",
    "    df = df.loc[df['LENGTH'] <= 600].copy()\n",
    "\n",
    "    # Reformat to BED\n",
    "    df['CHR'] = df.apply(lambda x: x['CHR'][3:], axis=1)\n",
    "    ctcf_bed = pybedtools.BedTool.from_dataframe(df)\n",
    "\n",
    "    intersect_bed = ctcf_bed.intersect(mappable_genome_bed, wao=True)\n",
    "    intersect_df = pd.read_csv(intersect_bed.fn, sep='\\t', header=None)\n",
    "\n",
    "    length_d = dict(list(zip(intersect_df[3], intersect_df[4])))\n",
    "\n",
    "    # Compute the total number of bp overlapping each binding site\n",
    "    overlap = dict()\n",
    "    for element, data in intersect_df.groupby(3): \n",
    "        total_bp = data[8].sum()\n",
    "        overlap[element] = total_bp\n",
    "\n",
    "    # Filter based on overlap\n",
    "    overlap_filter = dict([(k, v) for k, v in overlap.items() if v/length_d[k] > 0.90])\n",
    "    results = df.loc[df['ID'].isin(overlap_filter.keys())]\n",
    "\n",
    "    # Save\n",
    "    output_f = input_f.split('.gz')[0] + '.reformat.txt'\n",
    "    results.to_csv(output_f, sep='\\t', index=False)    "
   ]
  }
 ],
 "metadata": {
  "kernelspec": {
   "display_name": "Python [conda env:hotspots_framework]",
   "language": "python",
   "name": "conda-env-hotspots_framework-py"
  },
  "language_info": {
   "codemirror_mode": {
    "name": "ipython",
    "version": 3
   },
   "file_extension": ".py",
   "mimetype": "text/x-python",
   "name": "python",
   "nbconvert_exporter": "python",
   "pygments_lexer": "ipython3",
   "version": "3.6.10"
  }
 },
 "nbformat": 4,
 "nbformat_minor": 2
}
