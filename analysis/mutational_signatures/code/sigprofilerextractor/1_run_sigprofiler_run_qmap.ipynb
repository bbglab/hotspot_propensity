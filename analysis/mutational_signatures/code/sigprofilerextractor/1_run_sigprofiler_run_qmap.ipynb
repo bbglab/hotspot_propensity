{
 "cells": [
  {
   "cell_type": "markdown",
   "metadata": {},
   "source": [
    "# Run SigProfilerExtractor"
   ]
  },
  {
   "cell_type": "code",
   "execution_count": 1,
   "metadata": {
    "collapsed": true
   },
   "outputs": [],
   "source": [
    "import os\n",
    "\n",
    "import pandas as pd"
   ]
  },
  {
   "cell_type": "code",
   "execution_count": 2,
   "metadata": {
    "collapsed": true
   },
   "outputs": [],
   "source": [
    "main_dir = ''"
   ]
  },
  {
   "cell_type": "markdown",
   "metadata": {},
   "source": [
    "## Run for all mutations"
   ]
  },
  {
   "cell_type": "markdown",
   "metadata": {},
   "source": [
    "Run sigprofiler for cancer types with 30 or more samples and total SNV burden greater than 100k mutations"
   ]
  },
  {
   "cell_type": "markdown",
   "metadata": {},
   "source": [
    "#### Select cancer types"
   ]
  },
  {
   "cell_type": "code",
   "execution_count": 3,
   "metadata": {},
   "outputs": [
    {
     "data": {
      "text/html": [
       "<div>\n",
       "<style scoped>\n",
       "    .dataframe tbody tr th:only-of-type {\n",
       "        vertical-align: middle;\n",
       "    }\n",
       "\n",
       "    .dataframe tbody tr th {\n",
       "        vertical-align: top;\n",
       "    }\n",
       "\n",
       "    .dataframe thead th {\n",
       "        text-align: right;\n",
       "    }\n",
       "</style>\n",
       "<table border=\"1\" class=\"dataframe\">\n",
       "  <thead>\n",
       "    <tr style=\"text-align: right;\">\n",
       "      <th></th>\n",
       "      <th>CANCER_TYPE</th>\n",
       "      <th>CANCER_TYPE_LONG</th>\n",
       "      <th>LEVEL_ONCOTREE</th>\n",
       "      <th>LEVEL_ANALYSIS</th>\n",
       "      <th>SAMPLES</th>\n",
       "      <th>COHORTS</th>\n",
       "      <th>MUTATIONS_TOTAL</th>\n",
       "      <th>MUTATIONS_SNV</th>\n",
       "      <th>MUTATIONS_MNV</th>\n",
       "      <th>MUTATIONS_INS</th>\n",
       "      <th>MUTATIONS_DEL</th>\n",
       "    </tr>\n",
       "  </thead>\n",
       "  <tbody>\n",
       "    <tr>\n",
       "      <th>0</th>\n",
       "      <td>ACC</td>\n",
       "      <td>Adrenocortical Carcinoma (ACC)</td>\n",
       "      <td>2</td>\n",
       "      <td>A</td>\n",
       "      <td>20</td>\n",
       "      <td>D_ACC</td>\n",
       "      <td>16649</td>\n",
       "      <td>16614</td>\n",
       "      <td>0</td>\n",
       "      <td>26</td>\n",
       "      <td>9</td>\n",
       "    </tr>\n",
       "  </tbody>\n",
       "</table>\n",
       "</div>"
      ],
      "text/plain": [
       "  CANCER_TYPE                CANCER_TYPE_LONG LEVEL_ONCOTREE LEVEL_ANALYSIS  \\\n",
       "0         ACC  Adrenocortical Carcinoma (ACC)              2              A   \n",
       "\n",
       "   SAMPLES COHORTS  MUTATIONS_TOTAL  MUTATIONS_SNV  MUTATIONS_MNV  \\\n",
       "0       20   D_ACC            16649          16614              0   \n",
       "\n",
       "   MUTATIONS_INS  MUTATIONS_DEL  \n",
       "0             26              9  "
      ]
     },
     "execution_count": 3,
     "metadata": {},
     "output_type": "execute_result"
    }
   ],
   "source": [
    "# Read cancer types to extract signatures\n",
    "ctypes_f = os.path.join(main_dir, 'inputs', 'tables', 'cancer_types_annotated.tsv')\n",
    "ctypes_df = pd.read_csv(ctypes_f, sep='\\t', header=0)\n",
    "ctypes_df.head(1)"
   ]
  },
  {
   "cell_type": "code",
   "execution_count": 4,
   "metadata": {
    "collapsed": true
   },
   "outputs": [],
   "source": [
    "# Select level B cancer types: \n",
    "ctypes_b = ctypes_df.loc[(ctypes_df['LEVEL_ANALYSIS'] == 'B') & (ctypes_df['CANCER_TYPE'] != 'PANCANCER')]\n",
    "ctypes_b = ctypes_b.loc[ctypes_b['MUTATIONS_SNV'] > 100000].copy()"
   ]
  },
  {
   "cell_type": "code",
   "execution_count": 5,
   "metadata": {
    "collapsed": true
   },
   "outputs": [],
   "source": [
    "ctypes_b = ctypes_b['CANCER_TYPE'].to_list()"
   ]
  },
  {
   "cell_type": "code",
   "execution_count": 6,
   "metadata": {
    "collapsed": true
   },
   "outputs": [],
   "source": [
    "# Select level A cancer types and filter based on sample size\n",
    "ctypes_a = ctypes_df.loc[ctypes_df['LEVEL_ANALYSIS'] == 'A']\n",
    "ctypes_a = ctypes_a.loc[(ctypes_a['SAMPLES'] >= 30) & (ctypes_a['MUTATIONS_SNV'] >= 100000) ].copy()"
   ]
  },
  {
   "cell_type": "code",
   "execution_count": 7,
   "metadata": {
    "collapsed": true
   },
   "outputs": [],
   "source": [
    "ctypes_a = ctypes_a['CANCER_TYPE'].to_list()"
   ]
  },
  {
   "cell_type": "markdown",
   "metadata": {},
   "source": [
    "#### Run"
   ]
  },
  {
   "cell_type": "code",
   "execution_count": 8,
   "metadata": {
    "collapsed": true
   },
   "outputs": [],
   "source": [
    "code = os.path.join(main_dir, 'signatures', 'sigprofiler', 'code', 'run_sigprofiler.py')\n",
    "map_file = os.path.join(main_dir, 'signatures', 'sigprofiler', 'code', f'1_run_sigprofiler.map')"
   ]
  },
  {
   "cell_type": "code",
   "execution_count": 9,
   "metadata": {
    "collapsed": true
   },
   "outputs": [],
   "source": [
    "input_dir = os.path.join(main_dir, 'signatures', 'sigprofilermatrixgenerator', 'output', 'mutations_total')\n",
    "output_dir = os.path.join(main_dir, 'signatures', 'sigprofiler', 'output', 'mutations_total')"
   ]
  },
  {
   "cell_type": "code",
   "execution_count": 10,
   "metadata": {
    "collapsed": true
   },
   "outputs": [],
   "source": [
    "sigs = 'SBS'\n",
    "channels = '96'"
   ]
  },
  {
   "cell_type": "code",
   "execution_count": 11,
   "metadata": {
    "collapsed": true
   },
   "outputs": [],
   "source": [
    "cores = 56\n",
    "info = [\n",
    "    '[params]',\n",
    "    f'cores={cores}',\n",
    "    'memory=50G\\n',\n",
    "    '[pre]',\n",
    "    '. \"/home/$USER/miniconda3/etc/profile.d/conda.sh\"',\n",
    "    'conda activate hotspots_framework\\n',\n",
    "    '[jobs]',\n",
    "]"
   ]
  },
  {
   "cell_type": "code",
   "execution_count": 12,
   "metadata": {
    "collapsed": true
   },
   "outputs": [],
   "source": [
    "nmf_replicates = 1024\n",
    "max_sigs = 20"
   ]
  },
  {
   "cell_type": "code",
   "execution_count": 13,
   "metadata": {
    "collapsed": true
   },
   "outputs": [],
   "source": [
    "with open(map_file, 'w') as ofd: \n",
    "    \n",
    "    for line in info: \n",
    "        ofd.write(f'{line}\\n')\n",
    "\n",
    "    for ctype in ctypes_b + ctypes_a: \n",
    "        input_file = os.path.join(input_dir, ctype, 'output', sigs, f'{ctype}.{sigs}{channels}.all')\n",
    "        run_output_dir = os.path.join(output_dir, f'{ctype}_{sigs}{channels}')\n",
    "        if not os.path.exists(run_output_dir):\n",
    "            os.makedirs(run_output_dir, exist_ok=True)\n",
    "\n",
    "        ofd.write(\n",
    "        f'python {code} '\n",
    "        f'-i {input_file} '\n",
    "        f'-o {run_output_dir} '\n",
    "        f'-ct {sigs}{channels} '\n",
    "        f'--nmf-replicates {nmf_replicates} '\n",
    "        f'--max-sigs {max_sigs} '\n",
    "        f'-c {cores} \\n'   \n",
    "        )"
   ]
  },
  {
   "cell_type": "markdown",
   "metadata": {
    "collapsed": true
   },
   "source": [
    "## Run for mutations INSIDE hotspots"
   ]
  },
  {
   "cell_type": "code",
   "execution_count": 14,
   "metadata": {
    "collapsed": true
   },
   "outputs": [],
   "source": [
    "code = os.path.join(main_dir, 'signatures', 'sigprofiler', 'code', 'run_sigprofiler.py')\n",
    "map_file = os.path.join(main_dir, 'signatures', 'sigprofiler', 'code', f'1_run_sigprofiler_inhotspots.map')"
   ]
  },
  {
   "cell_type": "code",
   "execution_count": 15,
   "metadata": {
    "collapsed": true
   },
   "outputs": [],
   "source": [
    "input_dir = os.path.join(main_dir, 'signatures', 'sigprofilermatrixgenerator', 'output', 'mutations_in_hotspots')\n",
    "output_dir = os.path.join(main_dir, 'signatures', 'sigprofiler', 'output', 'mutations_in_hotspots')"
   ]
  },
  {
   "cell_type": "code",
   "execution_count": 16,
   "metadata": {
    "collapsed": true
   },
   "outputs": [],
   "source": [
    "sigs = 'SBS'\n",
    "channels = '96'"
   ]
  },
  {
   "cell_type": "code",
   "execution_count": 17,
   "metadata": {
    "collapsed": true
   },
   "outputs": [],
   "source": [
    "nmf_replicates = 1024\n",
    "max_sigs = 15"
   ]
  },
  {
   "cell_type": "code",
   "execution_count": 18,
   "metadata": {
    "collapsed": true
   },
   "outputs": [],
   "source": [
    "cores = 56\n",
    "info = [\n",
    "    '[params]',\n",
    "    f'cores={cores}',\n",
    "    'memory=50G\\n',\n",
    "    '[pre]',\n",
    "    '. \"/home/$USER/miniconda3/etc/profile.d/conda.sh\"',\n",
    "    'conda activate hotspots_framework\\n',\n",
    "    '[jobs]',\n",
    "]"
   ]
  },
  {
   "cell_type": "code",
   "execution_count": 19,
   "metadata": {
    "collapsed": true
   },
   "outputs": [],
   "source": [
    "with open(map_file, 'w') as ofd: \n",
    "    \n",
    "    for line in info: \n",
    "        ofd.write(f'{line}\\n')\n",
    "\n",
    "    for ctype in ['COADREAD','ESOPHA_STOMACH', 'NSCLC', 'SKCM']: \n",
    "        input_file = os.path.join(input_dir, ctype, 'output', sigs, f'{ctype}.{sigs}{channels}.all')\n",
    "        run_output_dir = os.path.join(output_dir, f'{ctype}_{sigs}{channels}')\n",
    "        if not os.path.exists(run_output_dir):\n",
    "            os.makedirs(run_output_dir, exist_ok=True)\n",
    "\n",
    "        ofd.write(\n",
    "        f'python {code} '\n",
    "        f'-i {input_file} '\n",
    "        f'-o {run_output_dir} '\n",
    "        f'-ct {sigs}{channels} '\n",
    "        f'--nmf-replicates {nmf_replicates} '\n",
    "        f'--max-sigs {max_sigs} '\n",
    "        f'-c {cores} \\n'   \n",
    "        )"
   ]
  }
 ],
 "metadata": {
  "kernelspec": {
   "display_name": "Python [conda env:hotspots_framework]",
   "language": "python",
   "name": "conda-env-hotspots_framework-py"
  },
  "language_info": {
   "codemirror_mode": {
    "name": "ipython",
    "version": 3
   },
   "file_extension": ".py",
   "mimetype": "text/x-python",
   "name": "python",
   "nbconvert_exporter": "python",
   "pygments_lexer": "ipython3",
   "version": "3.6.10"
  }
 },
 "nbformat": 4,
 "nbformat_minor": 2
}
