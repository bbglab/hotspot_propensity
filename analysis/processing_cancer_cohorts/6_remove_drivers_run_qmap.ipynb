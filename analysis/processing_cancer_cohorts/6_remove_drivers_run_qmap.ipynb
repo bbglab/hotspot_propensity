{
 "cells": [
  {
   "cell_type": "markdown",
   "metadata": {},
   "source": [
    "# Remove drivers "
   ]
  },
  {
   "cell_type": "markdown",
   "metadata": {},
   "source": [
    "Remove any mutation overlapping a CDS, splice site, intron, 5 and 3 UTR, proximal and distal promoter of a cancer gene. \n",
    "\n",
    "Cancer genes are those included in COSMIC CGC and IntOGen (cancer type unspecific)."
   ]
  },
  {
   "cell_type": "code",
   "execution_count": 13,
   "metadata": {
    "collapsed": true
   },
   "outputs": [],
   "source": [
    "import os\n",
    "from collections import defaultdict\n",
    "import gzip\n",
    "\n",
    "from bgparsers import readers\n",
    "from intervaltree import IntervalTree\n",
    "import pandas as pd"
   ]
  },
  {
   "cell_type": "code",
   "execution_count": 2,
   "metadata": {
    "collapsed": true
   },
   "outputs": [],
   "source": [
    "main_dir = ''"
   ]
  },
  {
   "cell_type": "code",
   "execution_count": 3,
   "metadata": {
    "collapsed": true
   },
   "outputs": [],
   "source": [
    "code = os.path.join(main_dir, 'code', 'remove_drivers.py')\n",
    "map_file = os.path.join(main_dir, 'code', '6_remove_drivers.map')"
   ]
  },
  {
   "cell_type": "code",
   "execution_count": 4,
   "metadata": {
    "collapsed": true
   },
   "outputs": [],
   "source": [
    "mutations_dir = main_dir + '/data/cancertypes_filtered'\n",
    "output_dir = main_dir + '/data/cancertypes_filtered_nodrivers'"
   ]
  },
  {
   "cell_type": "code",
   "execution_count": 8,
   "metadata": {
    "collapsed": true
   },
   "outputs": [],
   "source": [
    "drivers_f = main_dir + '/data/cancerdrivers_regions.tsv'"
   ]
  },
  {
   "cell_type": "code",
   "execution_count": 9,
   "metadata": {
    "collapsed": true
   },
   "outputs": [],
   "source": [
    "info = [\n",
    "    '[params]',\n",
    "    'cores=1',\n",
    "    'memory=8G\\n',\n",
    "    '[pre]',\n",
    "    '. \"/home/$USER/miniconda3/etc/profile.d/conda.sh\"',\n",
    "    'conda activate hotspots_framework\\n',\n",
    "    '[jobs]',\n",
    "]"
   ]
  },
  {
   "cell_type": "code",
   "execution_count": 10,
   "metadata": {
    "collapsed": true
   },
   "outputs": [],
   "source": [
    "with open(map_file, 'w') as ofd: \n",
    "    \n",
    "    for line in info: \n",
    "        ofd.write(f'{line}\\n')\n",
    "          \n",
    "    for entry in os.scandir(mutations_dir): \n",
    "        if entry.name.endswith('.filtered.in.gz'): \n",
    "            cohort_mutations_file = entry.path\n",
    "            cohort = entry.name.split('.')[0]\n",
    "            cohort_output_file = os.path.join(output_dir, f'{cohort}.filtered.nodrivers.in.gz')\n",
    "            if os.path.isfile(cohort_mutations_file):\n",
    "                ofd.write(f'python {code} -m {cohort_mutations_file} -d {drivers_f} -o {cohort_output_file}\\n')"
   ]
  },
  {
   "cell_type": "markdown",
   "metadata": {
    "collapsed": true
   },
   "source": [
    "## Just checking"
   ]
  },
  {
   "cell_type": "markdown",
   "metadata": {},
   "source": [
    "Double check that mutations in driver regions have been filtered out"
   ]
  },
  {
   "cell_type": "code",
   "execution_count": 14,
   "metadata": {
    "collapsed": true
   },
   "outputs": [],
   "source": [
    "main_dir = '../'"
   ]
  },
  {
   "cell_type": "code",
   "execution_count": 15,
   "metadata": {
    "collapsed": true
   },
   "outputs": [],
   "source": [
    "drivers_f = main_dir + '../data/cancerdrivers_regions.tsv'"
   ]
  },
  {
   "cell_type": "code",
   "execution_count": 16,
   "metadata": {
    "collapsed": true
   },
   "outputs": [],
   "source": [
    "# Select cancer type to test\n",
    "ctype = 'ACC'\n",
    "original_f = os.path.join(main_dir, 'data', 'cancertypes_filtered', f'{ctype}.filtered.in.gz')\n",
    "nodrivers_f = os.path.join(main_dir, 'data', 'cancertypes_filtered_nodrivers', f'{ctype}.filtered.nodrivers.in.gz')"
   ]
  },
  {
   "cell_type": "code",
   "execution_count": 17,
   "metadata": {
    "collapsed": true
   },
   "outputs": [],
   "source": [
    "ori_df = pd.read_csv(original_f, sep='\\t', header=0)\n",
    "nod_f = pd.read_csv(nodrivers_f, sep='\\t', header=0)"
   ]
  },
  {
   "cell_type": "code",
   "execution_count": 18,
   "metadata": {},
   "outputs": [
    {
     "data": {
      "text/plain": [
       "617"
      ]
     },
     "execution_count": 18,
     "metadata": {},
     "output_type": "execute_result"
    }
   ],
   "source": [
    "# Number of mutations that have been filtered out because they overlap driver regions\n",
    "len(ori_df) - len(nod_f)"
   ]
  },
  {
   "cell_type": "code",
   "execution_count": 19,
   "metadata": {
    "collapsed": true
   },
   "outputs": [],
   "source": [
    "# Load driver regions\n",
    "tree = defaultdict(IntervalTree)\n",
    "with open(drivers_f, 'r') as fd:\n",
    "    next(fd)\n",
    "    for line in fd:\n",
    "        chrom, start, end = line.strip().split('\\t')\n",
    "        tree[chrom].addi(int(start), int(end) + 1)  # +1"
   ]
  },
  {
   "cell_type": "code",
   "execution_count": 20,
   "metadata": {
    "collapsed": true
   },
   "outputs": [],
   "source": [
    "# Check overlap equals filtered out mutations\n",
    "overlap = 0\n",
    "with gzip.open(original_f, 'rt') as fd:\n",
    "    for row in readers.variants(\n",
    "            file=original_f,\n",
    "            required=['CHROMOSOME', 'POSITION', 'REF', 'ALT', 'SAMPLE'],\n",
    "            extra=['COHORT','CANCER_TYPE','PLATFORM','TYPE','AGE','TREATED','MUTYPE']\n",
    "    ):\n",
    "        chrom = row['CHROMOSOME']\n",
    "        pos = row['POSITION']\n",
    "\n",
    "        if tree[chrom][int(pos)]:\n",
    "            overlap += 1\n",
    "            continue"
   ]
  },
  {
   "cell_type": "code",
   "execution_count": 21,
   "metadata": {},
   "outputs": [
    {
     "data": {
      "text/plain": [
       "617"
      ]
     },
     "execution_count": 21,
     "metadata": {},
     "output_type": "execute_result"
    }
   ],
   "source": [
    "overlap"
   ]
  },
  {
   "cell_type": "code",
   "execution_count": 22,
   "metadata": {},
   "outputs": [
    {
     "name": "stdout",
     "output_type": "stream",
     "text": [
      "0\n"
     ]
    }
   ],
   "source": [
    "# Check no mutation in the filtered file overlaps driver regions\n",
    "overlap = 0\n",
    "with gzip.open(nodrivers_f, 'rt') as fd:\n",
    "    for row in readers.variants(\n",
    "            file=nodrivers_f,\n",
    "            required=['CHROMOSOME', 'POSITION', 'REF', 'ALT', 'SAMPLE'],\n",
    "            extra=['COHORT','CANCER_TYPE','PLATFORM','TYPE','AGE','TREATED','MUTYPE']\n",
    "    ):\n",
    "        chrom = row['CHROMOSOME']\n",
    "        pos = row['POSITION']\n",
    "\n",
    "        if tree[chrom][int(pos)]:\n",
    "            overlap += 1\n",
    "            continue\n",
    "print(overlap)    # should be 0"
   ]
  }
 ],
 "metadata": {
  "kernelspec": {
   "display_name": "Python [conda env:hotspots_framework]",
   "language": "python",
   "name": "conda-env-hotspots_framework-py"
  },
  "language_info": {
   "codemirror_mode": {
    "name": "ipython",
    "version": 3
   },
   "file_extension": ".py",
   "mimetype": "text/x-python",
   "name": "python",
   "nbconvert_exporter": "python",
   "pygments_lexer": "ipython3",
   "version": "3.6.10"
  }
 },
 "nbformat": 4,
 "nbformat_minor": 2
}
