{
 "cells": [
  {
   "cell_type": "markdown",
   "metadata": {},
   "source": [
    "# Hotspot propensity vs entropy from Fig 3B and 3C"
   ]
  },
  {
   "cell_type": "code",
   "execution_count": 1,
   "metadata": {
    "collapsed": true
   },
   "outputs": [],
   "source": [
    "import os\n",
    "from collections import defaultdict\n",
    "import json\n",
    "\n",
    "import matplotlib\n",
    "import matplotlib.pyplot as plt\n",
    "from matplotlib import rcParams\n",
    "from matplotlib.lines import Line2D\n",
    "import numpy as np\n",
    "import pandas as pd\n",
    "from scipy.stats import entropy"
   ]
  },
  {
   "cell_type": "code",
   "execution_count": 2,
   "metadata": {
    "collapsed": true
   },
   "outputs": [],
   "source": [
    "rcParams['font.family'] = 'sans-serif'\n",
    "rcParams['font.sans-serif'] = ['Arial']"
   ]
  },
  {
   "cell_type": "code",
   "execution_count": 3,
   "metadata": {
    "collapsed": true
   },
   "outputs": [],
   "source": [
    "data_dir = '../../../data'"
   ]
  },
  {
   "cell_type": "code",
   "execution_count": 4,
   "metadata": {
    "collapsed": true
   },
   "outputs": [],
   "source": [
    "sigs_color = {\n",
    "'SBS1': '#1e79baff',\n",
    " 'SBS2': '#ff9896ff',\n",
    " 'SBS3': '#f6c200ff', \n",
    " 'SBS4': '#00a572ff', \n",
    " 'SBS5': '#7ebdeaff',\n",
    " 'SBS7a': '#8c564bff', \n",
    " 'SBS7b': '#c49c94ff',\n",
    " 'SBS8': '#3dbe3dff',\n",
    " 'SBS13': '#d62728ff',\n",
    " 'SBS17a': '#ffbb78ff',\n",
    " 'SBS17b': '#ff8921ff', \n",
    " 'SBS18': '#9467bdff',\n",
    " 'SBS40': '#c2e0f5ff',\n",
    " 'SBS93': '#c5b0d5ff',\n",
    "}"
   ]
  },
  {
   "cell_type": "code",
   "execution_count": 5,
   "metadata": {
    "collapsed": true
   },
   "outputs": [],
   "source": [
    "signatures_to_plot = list(sigs_color.keys())"
   ]
  },
  {
   "cell_type": "markdown",
   "metadata": {},
   "source": [
    "### Load data\n",
    "\n",
    "Input data corresponds to Dataset EV5, a table containing observed hotspot propensity calculations using 100 samples and 100-300 mutations per sample for 1000 iterations and a JSON file containing expected (theoretical) hotspot propensity. \n",
    "\n",
    "This expected was computed using the model of homogeneous distribution of trinucleotide-specific mutation rates with 300 mutations/sample and 100 samples across mappable megabases. ."
   ]
  },
  {
   "cell_type": "code",
   "execution_count": 6,
   "metadata": {},
   "outputs": [
    {
     "data": {
      "text/html": [
       "<div>\n",
       "<style scoped>\n",
       "    .dataframe tbody tr th:only-of-type {\n",
       "        vertical-align: middle;\n",
       "    }\n",
       "\n",
       "    .dataframe tbody tr th {\n",
       "        vertical-align: top;\n",
       "    }\n",
       "\n",
       "    .dataframe thead th {\n",
       "        text-align: right;\n",
       "    }\n",
       "</style>\n",
       "<table border=\"1\" class=\"dataframe\">\n",
       "  <thead>\n",
       "    <tr style=\"text-align: right;\">\n",
       "      <th></th>\n",
       "      <th>Mutation_type</th>\n",
       "      <th>Trinucleotide</th>\n",
       "      <th>Trinucleotide_genome_frequency</th>\n",
       "      <th>SBS1</th>\n",
       "      <th>SBS2</th>\n",
       "      <th>SBS3</th>\n",
       "      <th>SBS4</th>\n",
       "      <th>SBS5</th>\n",
       "      <th>SBS7a</th>\n",
       "      <th>SBS7b</th>\n",
       "      <th>...</th>\n",
       "      <th>SBS5_normalised</th>\n",
       "      <th>SBS7a_normalised</th>\n",
       "      <th>SBS7b_normalised</th>\n",
       "      <th>SBS8_normalised</th>\n",
       "      <th>SBS13_normalised</th>\n",
       "      <th>SBS17a_normalised</th>\n",
       "      <th>SBS17b_normalised</th>\n",
       "      <th>SBS18_normalised</th>\n",
       "      <th>SBS40_normalised</th>\n",
       "      <th>SBS93_normalised</th>\n",
       "    </tr>\n",
       "  </thead>\n",
       "  <tbody>\n",
       "    <tr>\n",
       "      <th>0</th>\n",
       "      <td>A[C&gt;A]A</td>\n",
       "      <td>ACA</td>\n",
       "      <td>0.040418</td>\n",
       "      <td>0.000876</td>\n",
       "      <td>5.790059e-07</td>\n",
       "      <td>0.020920</td>\n",
       "      <td>0.042451</td>\n",
       "      <td>0.012052</td>\n",
       "      <td>0.000067</td>\n",
       "      <td>0.002344</td>\n",
       "      <td>...</td>\n",
       "      <td>0.006892</td>\n",
       "      <td>0.000035</td>\n",
       "      <td>0.001182</td>\n",
       "      <td>0.032109</td>\n",
       "      <td>0.001397</td>\n",
       "      <td>0.001856</td>\n",
       "      <td>0.000603</td>\n",
       "      <td>0.026066</td>\n",
       "      <td>0.021034</td>\n",
       "      <td>0.007795</td>\n",
       "    </tr>\n",
       "    <tr>\n",
       "      <th>1</th>\n",
       "      <td>A[C&gt;A]C</td>\n",
       "      <td>ACC</td>\n",
       "      <td>0.022682</td>\n",
       "      <td>0.002220</td>\n",
       "      <td>1.455045e-04</td>\n",
       "      <td>0.016343</td>\n",
       "      <td>0.032990</td>\n",
       "      <td>0.009337</td>\n",
       "      <td>0.000177</td>\n",
       "      <td>0.000457</td>\n",
       "      <td>...</td>\n",
       "      <td>0.009514</td>\n",
       "      <td>0.000164</td>\n",
       "      <td>0.000411</td>\n",
       "      <td>0.061074</td>\n",
       "      <td>0.000971</td>\n",
       "      <td>0.001444</td>\n",
       "      <td>0.000224</td>\n",
       "      <td>0.014034</td>\n",
       "      <td>0.017539</td>\n",
       "      <td>0.009569</td>\n",
       "    </tr>\n",
       "    <tr>\n",
       "      <th>2</th>\n",
       "      <td>A[C&gt;A]G</td>\n",
       "      <td>ACG</td>\n",
       "      <td>0.004613</td>\n",
       "      <td>0.000180</td>\n",
       "      <td>5.361861e-05</td>\n",
       "      <td>0.001808</td>\n",
       "      <td>0.016116</td>\n",
       "      <td>0.001908</td>\n",
       "      <td>0.000073</td>\n",
       "      <td>0.000192</td>\n",
       "      <td>...</td>\n",
       "      <td>0.009561</td>\n",
       "      <td>0.000334</td>\n",
       "      <td>0.000849</td>\n",
       "      <td>0.030270</td>\n",
       "      <td>0.001824</td>\n",
       "      <td>0.000384</td>\n",
       "      <td>0.000519</td>\n",
       "      <td>0.011068</td>\n",
       "      <td>0.019599</td>\n",
       "      <td>0.010671</td>\n",
       "    </tr>\n",
       "  </tbody>\n",
       "</table>\n",
       "<p>3 rows × 31 columns</p>\n",
       "</div>"
      ],
      "text/plain": [
       "  Mutation_type Trinucleotide  Trinucleotide_genome_frequency      SBS1  \\\n",
       "0       A[C>A]A           ACA                        0.040418  0.000876   \n",
       "1       A[C>A]C           ACC                        0.022682  0.002220   \n",
       "2       A[C>A]G           ACG                        0.004613  0.000180   \n",
       "\n",
       "           SBS2      SBS3      SBS4      SBS5     SBS7a     SBS7b  ...  \\\n",
       "0  5.790059e-07  0.020920  0.042451  0.012052  0.000067  0.002344  ...   \n",
       "1  1.455045e-04  0.016343  0.032990  0.009337  0.000177  0.000457  ...   \n",
       "2  5.361861e-05  0.001808  0.016116  0.001908  0.000073  0.000192  ...   \n",
       "\n",
       "   SBS5_normalised  SBS7a_normalised  SBS7b_normalised  SBS8_normalised  \\\n",
       "0         0.006892          0.000035          0.001182         0.032109   \n",
       "1         0.009514          0.000164          0.000411         0.061074   \n",
       "2         0.009561          0.000334          0.000849         0.030270   \n",
       "\n",
       "   SBS13_normalised  SBS17a_normalised  SBS17b_normalised  SBS18_normalised  \\\n",
       "0          0.001397           0.001856           0.000603          0.026066   \n",
       "1          0.000971           0.001444           0.000224          0.014034   \n",
       "2          0.001824           0.000384           0.000519          0.011068   \n",
       "\n",
       "   SBS40_normalised  SBS93_normalised  \n",
       "0          0.021034          0.007795  \n",
       "1          0.017539          0.009569  \n",
       "2          0.019599          0.010671  \n",
       "\n",
       "[3 rows x 31 columns]"
      ]
     },
     "execution_count": 6,
     "metadata": {},
     "output_type": "execute_result"
    }
   ],
   "source": [
    "# Signature profiles\n",
    "sig_profiles_f = os.path.join(data_dir, 'EV_datasets', 'EV5_table.txt')\n",
    "sig_profiles_df = pd.read_csv(sig_profiles_f, sep='\\t', header=0)\n",
    "sig_profiles_df.head(3)"
   ]
  },
  {
   "cell_type": "code",
   "execution_count": 7,
   "metadata": {},
   "outputs": [
    {
     "data": {
      "text/html": [
       "<div>\n",
       "<style scoped>\n",
       "    .dataframe tbody tr th:only-of-type {\n",
       "        vertical-align: middle;\n",
       "    }\n",
       "\n",
       "    .dataframe tbody tr th {\n",
       "        vertical-align: top;\n",
       "    }\n",
       "\n",
       "    .dataframe thead th {\n",
       "        text-align: right;\n",
       "    }\n",
       "</style>\n",
       "<table border=\"1\" class=\"dataframe\">\n",
       "  <thead>\n",
       "    <tr style=\"text-align: right;\">\n",
       "      <th></th>\n",
       "      <th>ITER</th>\n",
       "      <th>N_SAMPLES</th>\n",
       "      <th>TOTAL_HOTSPOTS</th>\n",
       "      <th>TOTAL_HOTSPOTS_UNIQPOS</th>\n",
       "      <th>TOTAL_MUTS</th>\n",
       "      <th>CTYPE</th>\n",
       "      <th>SIGNATURE</th>\n",
       "    </tr>\n",
       "  </thead>\n",
       "  <tbody>\n",
       "    <tr>\n",
       "      <th>0</th>\n",
       "      <td>BLADDER_URI_iter_0_SBS2</td>\n",
       "      <td>100</td>\n",
       "      <td>0</td>\n",
       "      <td>0</td>\n",
       "      <td>10000</td>\n",
       "      <td>BLADDER_URI</td>\n",
       "      <td>SBS2</td>\n",
       "    </tr>\n",
       "    <tr>\n",
       "      <th>1</th>\n",
       "      <td>BLADDER_URI_iter_1_SBS2</td>\n",
       "      <td>100</td>\n",
       "      <td>1</td>\n",
       "      <td>1</td>\n",
       "      <td>10000</td>\n",
       "      <td>BLADDER_URI</td>\n",
       "      <td>SBS2</td>\n",
       "    </tr>\n",
       "    <tr>\n",
       "      <th>2</th>\n",
       "      <td>BLADDER_URI_iter_2_SBS2</td>\n",
       "      <td>100</td>\n",
       "      <td>0</td>\n",
       "      <td>0</td>\n",
       "      <td>10000</td>\n",
       "      <td>BLADDER_URI</td>\n",
       "      <td>SBS2</td>\n",
       "    </tr>\n",
       "    <tr>\n",
       "      <th>3</th>\n",
       "      <td>BLADDER_URI_iter_3_SBS2</td>\n",
       "      <td>100</td>\n",
       "      <td>2</td>\n",
       "      <td>2</td>\n",
       "      <td>10000</td>\n",
       "      <td>BLADDER_URI</td>\n",
       "      <td>SBS2</td>\n",
       "    </tr>\n",
       "    <tr>\n",
       "      <th>4</th>\n",
       "      <td>BLADDER_URI_iter_4_SBS2</td>\n",
       "      <td>100</td>\n",
       "      <td>2</td>\n",
       "      <td>2</td>\n",
       "      <td>10000</td>\n",
       "      <td>BLADDER_URI</td>\n",
       "      <td>SBS2</td>\n",
       "    </tr>\n",
       "  </tbody>\n",
       "</table>\n",
       "</div>"
      ],
      "text/plain": [
       "                      ITER  N_SAMPLES  TOTAL_HOTSPOTS  TOTAL_HOTSPOTS_UNIQPOS  \\\n",
       "0  BLADDER_URI_iter_0_SBS2        100               0                       0   \n",
       "1  BLADDER_URI_iter_1_SBS2        100               1                       1   \n",
       "2  BLADDER_URI_iter_2_SBS2        100               0                       0   \n",
       "3  BLADDER_URI_iter_3_SBS2        100               2                       2   \n",
       "4  BLADDER_URI_iter_4_SBS2        100               2                       2   \n",
       "\n",
       "   TOTAL_MUTS        CTYPE SIGNATURE  \n",
       "0       10000  BLADDER_URI      SBS2  \n",
       "1       10000  BLADDER_URI      SBS2  \n",
       "2       10000  BLADDER_URI      SBS2  \n",
       "3       10000  BLADDER_URI      SBS2  \n",
       "4       10000  BLADDER_URI      SBS2  "
      ]
     },
     "execution_count": 7,
     "metadata": {},
     "output_type": "execute_result"
    }
   ],
   "source": [
    "# Observed hotspot propensity\n",
    "propensity_f = f'{data_dir}/hotspot_propensity_1000iter_100samples_100-300muts.txt.gz'\n",
    "propensity_df = pd.read_csv(propensity_f, sep='\\t', header=0)\n",
    "propensity_df.head()"
   ]
  },
  {
   "cell_type": "code",
   "execution_count": 8,
   "metadata": {
    "scrolled": true
   },
   "outputs": [
    {
     "data": {
      "text/plain": [
       "279000"
      ]
     },
     "execution_count": 8,
     "metadata": {},
     "output_type": "execute_result"
    }
   ],
   "source": [
    "len(propensity_df)"
   ]
  },
  {
   "cell_type": "code",
   "execution_count": 9,
   "metadata": {
    "collapsed": true
   },
   "outputs": [],
   "source": [
    "# Expected hotspot propensity\n",
    "theoretical_propensity_f = f'{data_dir}/expected_hotspot_propensity/expected_hotspots_genomewide_disallowed.json'\n",
    "with open(theoretical_propensity_f, 'r') as fd: \n",
    "    theoretical_propensity_data = json.load(fd)"
   ]
  },
  {
   "cell_type": "code",
   "execution_count": 10,
   "metadata": {
    "collapsed": true
   },
   "outputs": [],
   "source": [
    "# Reformat into a dictionary for easy access\n",
    "theoretical_propensity_d = defaultdict(lambda: defaultdict(dict))\n",
    "for element in theoretical_propensity_data: \n",
    "    muts, sig, samples, hotspots = element\n",
    "    if str(samples)[-2] == '0': \n",
    "        theoretical_propensity_d[muts][sig][samples] = hotspots"
   ]
  },
  {
   "cell_type": "markdown",
   "metadata": {},
   "source": [
    "### Compute entropy of normalised signatures' profiles"
   ]
  },
  {
   "cell_type": "code",
   "execution_count": 11,
   "metadata": {},
   "outputs": [
    {
     "data": {
      "text/plain": [
       "(96, ['ACA>A', 'ACC>A', 'ACG>A'])"
      ]
     },
     "execution_count": 11,
     "metadata": {},
     "output_type": "execute_result"
    }
   ],
   "source": [
    "mutation_types = sig_profiles_df['Mutation_type'].tolist()\n",
    "mutation_types_reformat = [m[0]+m[2]+m[-1]+'>'+m[-3] for m in mutation_types]\n",
    "len(mutation_types_reformat), mutation_types_reformat[:3]"
   ]
  },
  {
   "cell_type": "code",
   "execution_count": 12,
   "metadata": {
    "collapsed": true
   },
   "outputs": [],
   "source": [
    "entropy_d = {}\n",
    "norm_profiles_d = {}\n",
    "for signature in signatures_to_plot:\n",
    "    # Get normalised profile \n",
    "    norm_profile = sig_profiles_df[f'{signature}_normalised'].tolist()\n",
    "    norm_profiles_d[signature] = dict(list(zip(mutation_types_reformat, norm_profile)))\n",
    "    # Compute entropy\n",
    "    norm_profile_entropy = entropy(norm_profile)\n",
    "    entropy_d[signature] = norm_profile_entropy"
   ]
  },
  {
   "cell_type": "markdown",
   "metadata": {},
   "source": [
    "### Compute observed hotspot propensity per signature"
   ]
  },
  {
   "cell_type": "code",
   "execution_count": 13,
   "metadata": {},
   "outputs": [
    {
     "data": {
      "text/html": [
       "<div>\n",
       "<style scoped>\n",
       "    .dataframe tbody tr th:only-of-type {\n",
       "        vertical-align: middle;\n",
       "    }\n",
       "\n",
       "    .dataframe tbody tr th {\n",
       "        vertical-align: top;\n",
       "    }\n",
       "\n",
       "    .dataframe thead th {\n",
       "        text-align: right;\n",
       "    }\n",
       "</style>\n",
       "<table border=\"1\" class=\"dataframe\">\n",
       "  <thead>\n",
       "    <tr style=\"text-align: right;\">\n",
       "      <th></th>\n",
       "      <th>ITER</th>\n",
       "      <th>N_SAMPLES</th>\n",
       "      <th>TOTAL_HOTSPOTS</th>\n",
       "      <th>TOTAL_HOTSPOTS_UNIQPOS</th>\n",
       "      <th>TOTAL_MUTS</th>\n",
       "      <th>CTYPE</th>\n",
       "      <th>SIGNATURE</th>\n",
       "    </tr>\n",
       "  </thead>\n",
       "  <tbody>\n",
       "    <tr>\n",
       "      <th>259640</th>\n",
       "      <td>COADREAD_iter_640_SBS17b</td>\n",
       "      <td>100</td>\n",
       "      <td>129</td>\n",
       "      <td>129</td>\n",
       "      <td>30000</td>\n",
       "      <td>COADREAD</td>\n",
       "      <td>SBS17b</td>\n",
       "    </tr>\n",
       "    <tr>\n",
       "      <th>259565</th>\n",
       "      <td>COADREAD_iter_565_SBS17b</td>\n",
       "      <td>100</td>\n",
       "      <td>120</td>\n",
       "      <td>120</td>\n",
       "      <td>30000</td>\n",
       "      <td>COADREAD</td>\n",
       "      <td>SBS17b</td>\n",
       "    </tr>\n",
       "    <tr>\n",
       "      <th>259916</th>\n",
       "      <td>COADREAD_iter_916_SBS17b</td>\n",
       "      <td>100</td>\n",
       "      <td>119</td>\n",
       "      <td>119</td>\n",
       "      <td>30000</td>\n",
       "      <td>COADREAD</td>\n",
       "      <td>SBS17b</td>\n",
       "    </tr>\n",
       "    <tr>\n",
       "      <th>259824</th>\n",
       "      <td>COADREAD_iter_824_SBS17b</td>\n",
       "      <td>100</td>\n",
       "      <td>119</td>\n",
       "      <td>119</td>\n",
       "      <td>30000</td>\n",
       "      <td>COADREAD</td>\n",
       "      <td>SBS17b</td>\n",
       "    </tr>\n",
       "    <tr>\n",
       "      <th>259425</th>\n",
       "      <td>COADREAD_iter_425_SBS17b</td>\n",
       "      <td>100</td>\n",
       "      <td>119</td>\n",
       "      <td>119</td>\n",
       "      <td>30000</td>\n",
       "      <td>COADREAD</td>\n",
       "      <td>SBS17b</td>\n",
       "    </tr>\n",
       "  </tbody>\n",
       "</table>\n",
       "</div>"
      ],
      "text/plain": [
       "                            ITER  N_SAMPLES  TOTAL_HOTSPOTS  \\\n",
       "259640  COADREAD_iter_640_SBS17b        100             129   \n",
       "259565  COADREAD_iter_565_SBS17b        100             120   \n",
       "259916  COADREAD_iter_916_SBS17b        100             119   \n",
       "259824  COADREAD_iter_824_SBS17b        100             119   \n",
       "259425  COADREAD_iter_425_SBS17b        100             119   \n",
       "\n",
       "        TOTAL_HOTSPOTS_UNIQPOS  TOTAL_MUTS     CTYPE SIGNATURE  \n",
       "259640                     129       30000  COADREAD    SBS17b  \n",
       "259565                     120       30000  COADREAD    SBS17b  \n",
       "259916                     119       30000  COADREAD    SBS17b  \n",
       "259824                     119       30000  COADREAD    SBS17b  \n",
       "259425                     119       30000  COADREAD    SBS17b  "
      ]
     },
     "execution_count": 13,
     "metadata": {},
     "output_type": "execute_result"
    }
   ],
   "source": [
    "# Use only subsamplings with 300 mutations per sample across 100 samples (= 30000 total mutations)\n",
    "subset = propensity_df.loc[propensity_df['TOTAL_MUTS'] == 30000].copy()\n",
    "subset.sort_values(by='TOTAL_HOTSPOTS_UNIQPOS', ascending=False, inplace=True)\n",
    "subset.head()"
   ]
  },
  {
   "cell_type": "code",
   "execution_count": 14,
   "metadata": {},
   "outputs": [
    {
     "data": {
      "text/plain": [
       "{'SBS1': (39.0, 34.0, 44.0),\n",
       " 'SBS13': (4.0, 2.0, 5.0),\n",
       " 'SBS17a': (72.0, 62.0, 81.0),\n",
       " 'SBS17b': (78.0, 69.0, 89.0),\n",
       " 'SBS18': (7.0, 5.0, 8.0),\n",
       " 'SBS2': (6.0, 4.0, 7.0),\n",
       " 'SBS3': (1.0, 0.0, 2.0),\n",
       " 'SBS4': (1.0, 0.0, 2.0),\n",
       " 'SBS40': (1.0, 0.0, 2.0),\n",
       " 'SBS5': (2.0, 1.0, 3.0),\n",
       " 'SBS7a': (7.0, 6.0, 9.0),\n",
       " 'SBS7b': (3.5, 2.0, 5.0),\n",
       " 'SBS8': (6.0, 4.0, 8.0),\n",
       " 'SBS93': (6.0, 5.0, 8.0)}"
      ]
     },
     "execution_count": 14,
     "metadata": {},
     "output_type": "execute_result"
    }
   ],
   "source": [
    "data_to_plot = dict()\n",
    "for signature, data in subset.groupby('SIGNATURE'): \n",
    "    median = np.median(data['TOTAL_HOTSPOTS_UNIQPOS'])\n",
    "    first_quartile = np.percentile(data['TOTAL_HOTSPOTS_UNIQPOS'], 25)\n",
    "    third_quartile = np.percentile(data['TOTAL_HOTSPOTS_UNIQPOS'], 75)\n",
    "    data_to_plot[signature] = (median, first_quartile, third_quartile)\n",
    "data_to_plot"
   ]
  },
  {
   "cell_type": "markdown",
   "metadata": {},
   "source": [
    "## Panel 3B"
   ]
  },
  {
   "cell_type": "code",
   "execution_count": 15,
   "metadata": {},
   "outputs": [
    {
     "data": {
      "image/png": "[encoded data removed]",
      "text/plain": [
       "<Figure size 108x108 with 1 Axes>"
      ]
     },
     "metadata": {
      "needs_background": "light"
     },
     "output_type": "display_data"
    }
   ],
   "source": [
    "fig = plt.figure(figsize=(1.5, 1.5))\n",
    "ax = plt.subplot2grid((1, 1), (0, 0))\n",
    "ax.set_ylabel('# hotspots', fontsize=5)\n",
    "ax.set_xlabel('Nucleotide profile unevenness (entropy)', fontsize=5)\n",
    "plt.title(f'Observed hotspot propensity', fontsize=6, y=1.1)\n",
    "plt.suptitle('30000 mutations', fontsize=5)\n",
    "\n",
    "legend_elements = []\n",
    "entropy = []\n",
    "hotspots = []\n",
    "for signature in signatures_to_plot: \n",
    "    color = sigs_color.get(signature, 'grey')\n",
    "    x = entropy_d[signature]\n",
    "    median, error_min, error_max = data_to_plot[signature]\n",
    "    error_min = 0 if error_min < 0 else error_min\n",
    "    ax.plot(x, median, '.', markersize=5, linewidth=0, markeredgewidth=0, color=color, alpha=0.75, zorder=3)\n",
    "    ax.plot([x, x], [error_min, error_max], ls='-', lw=0.5, c='grey', zorder=1)\n",
    "    legend_elements.append(Line2D([0], [0], marker='s', color='w', label=signature, markerfacecolor=color, markersize=5))\n",
    "    ax.annotate(s=signature, xy=(x, median), xytext=(x+0.1, median+0.1), fontsize=4, color=color)\n",
    "    entropy.append(-x)\n",
    "    hotspots.append(median)\n",
    "    \n",
    "ax.set_ylim(-1, 100)\n",
    "ax.set_yticks([0, 20, 40, 60, 80, 100])\n",
    "ax.set_yticklabels(ax.get_yticks(), fontsize=5)\n",
    "ax.set_xticks([1, 1.5, 2, 2.5, 3, 3.5, 4, 4.5])\n",
    "ax.set_xticklabels(ax.get_xticks(), fontsize=5)\n",
    "\n",
    "ax.spines['left'].set(lw=0.5)\n",
    "ax.spines['bottom'].set(lw=0.5)\n",
    "ax.spines['right'].set_visible(False)\n",
    "ax.spines['top'].set_visible(False)\n",
    "plt.setp(ax.yaxis.get_ticklines(), 'markeredgewidth', 0.5)\n",
    "plt.setp(ax.xaxis.get_ticklines(), 'markeredgewidth', 0.5)\n",
    "ax.set_axisbelow(True)\n",
    "ax.grid(color='lightgrey', linestyle='--', linewidth=0.5, zorder=0)\n",
    "plt.rc('axes', edgecolor='black')\n",
    "\n",
    "for extension in ['png']: \n",
    "    output = f'./fig_3B.{extension}'\n",
    "    plt.savefig(output, bbox_inches='tight', dpi=350)"
   ]
  },
  {
   "cell_type": "markdown",
   "metadata": {},
   "source": [
    "## Panel 3C"
   ]
  },
  {
   "cell_type": "code",
   "execution_count": 16,
   "metadata": {},
   "outputs": [
    {
     "data": {
      "text/plain": [
       "{'SBS7a': 1.3625481448517178,\n",
       " 'SBS7b': 0.9775348985392175,\n",
       " 'SBS5': 0.2278089202414356,\n",
       " 'SBS40': 0.1264165631912206,\n",
       " 'SBS3': 0.1289291154296094,\n",
       " 'SBS2': 1.9556124291092607,\n",
       " 'SBS17b': 1.6680024956837947,\n",
       " 'SBS4': 0.3767901512959171,\n",
       " 'SBS8': 0.2485049587014494,\n",
       " 'SBS13': 0.9996425305715084,\n",
       " 'SBS17a': 2.2483618161160273,\n",
       " 'SBS18': 0.3943556977085759,\n",
       " 'SBS1': 9.916984579608693,\n",
       " 'SBS93': 0.20641414944535863}"
      ]
     },
     "execution_count": 16,
     "metadata": {},
     "output_type": "execute_result"
    }
   ],
   "source": [
    "# Select parameters of theoretical hotspot propensity\n",
    "sample_muts = 300 \n",
    "sample_size = 100\n",
    "theoretical_propensity_selected_d = {}\n",
    "for signature, data in theoretical_propensity_d[sample_muts].items(): \n",
    "    if signature in signatures_to_plot: \n",
    "        theoretical_propensity_selected_d[signature] = data[sample_size]\n",
    "theoretical_propensity_selected_d"
   ]
  },
  {
   "cell_type": "code",
   "execution_count": 17,
   "metadata": {},
   "outputs": [
    {
     "data": {
      "image/png": "[encoded data removed]",
      "text/plain": [
       "<Figure size 108x108 with 1 Axes>"
      ]
     },
     "metadata": {
      "needs_background": "light"
     },
     "output_type": "display_data"
    }
   ],
   "source": [
    "fig = plt.figure(figsize=(1.5, 1.5))\n",
    "ax = plt.subplot2grid((1, 1), (0, 0))\n",
    "ax.set_ylabel('# hotspots', fontsize=5)\n",
    "ax.set_xlabel('Nucleotide profile unevenness (entropy)', fontsize=5)\n",
    "title = plt.title(f'Expected hotspot propensity', fontsize=6, y=1.1)\n",
    "plt.suptitle('30000 mutations', fontsize=5)\n",
    "\n",
    "legend_elements = []\n",
    "hotspots = []\n",
    "for signature in signatures_to_plot: \n",
    "    color = sigs_color.get(signature, 'grey')\n",
    "    x = entropy_d[signature]\n",
    "    y = theoretical_propensity_selected_d[signature]\n",
    "    plt.plot(x, y, '.', markersize=5, linewidth=0, markeredgewidth=0, color=color, alpha=0.75, zorder=1)\n",
    "    ax.text(x, y + 0.2, signature, rotation=0, fontsize=4, color=color, va='center', ha='center')\n",
    "    legend_elements.append(Line2D([0], [0], marker='s', color='w', label=signature, markerfacecolor=color, markersize=5))\n",
    "    hotspots.append(y)\n",
    "\n",
    "ax.set_ylim(-0, 10.5)\n",
    "ax.set_yticks([0, 2, 4, 6, 8, 10])\n",
    "ax.set_yticklabels([0, 2, 4, 6, 8, 10], fontsize=5)\n",
    "ax.set_xticks([1, 1.5, 2, 2.5, 3, 3.5, 4, 4.5])\n",
    "ax.set_xticklabels(ax.get_xticks(), fontsize=5)\n",
    "\n",
    "ax.spines['left'].set(lw=0.5)\n",
    "ax.spines['bottom'].set(lw=0.5)\n",
    "ax.spines['right'].set_visible(False)\n",
    "ax.spines['top'].set_visible(False)\n",
    "plt.setp(ax.yaxis.get_ticklines(), 'markeredgewidth', 0.5)\n",
    "plt.setp(ax.xaxis.get_ticklines(), 'markeredgewidth', 0.5)\n",
    "ax.set_axisbelow(True)\n",
    "ax.grid(color='lightgrey', linestyle='--', linewidth=0.5, zorder=0)\n",
    "\n",
    "for extension in ['png']: \n",
    "    output = f'./fig_3C.{extension}'\n",
    "    plt.savefig(output, bbox_inches='tight', dpi=350)"
   ]
  },
  {
   "cell_type": "code",
   "execution_count": null,
   "metadata": {
    "collapsed": true
   },
   "outputs": [],
   "source": []
  }
 ],
 "metadata": {
  "kernelspec": {
   "display_name": "Python [conda env:hotspot_propensity]",
   "language": "python",
   "name": "conda-env-hotspot_propensity-py"
  },
  "language_info": {
   "codemirror_mode": {
    "name": "ipython",
    "version": 3
   },
   "file_extension": ".py",
   "mimetype": "text/x-python",
   "name": "python",
   "nbconvert_exporter": "python",
   "pygments_lexer": "ipython3",
   "version": "3.6.13"
  }
 },
 "nbformat": 4,
 "nbformat_minor": 2
}
