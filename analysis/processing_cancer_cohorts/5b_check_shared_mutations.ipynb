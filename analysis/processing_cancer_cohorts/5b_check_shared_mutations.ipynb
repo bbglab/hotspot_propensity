{
 "cells": [
  {
   "cell_type": "markdown",
   "metadata": {},
   "source": [
    "# Check shared mutations"
   ]
  },
  {
   "cell_type": "markdown",
   "metadata": {},
   "source": [
    "Manual review of the pairs of samples that share more than 10% of mutations\n",
    "\n",
    "Check that identifiers do not match (same id in two samples)\n",
    "\n",
    "Check that the percentage of shared mutations occurs in samples with low mutation burden"
   ]
  },
  {
   "cell_type": "code",
   "execution_count": 8,
   "metadata": {
    "collapsed": true
   },
   "outputs": [],
   "source": [
    "import os\n",
    "\n",
    "import numpy as np\n",
    "import pandas as pd"
   ]
  },
  {
   "cell_type": "code",
   "execution_count": 9,
   "metadata": {
    "collapsed": true
   },
   "outputs": [],
   "source": [
    "main_dir = ''"
   ]
  },
  {
   "cell_type": "code",
   "execution_count": 3,
   "metadata": {},
   "outputs": [
    {
     "name": "stdout",
     "output_type": "stream",
     "text": [
      "EPM 0 0\n",
      "ACC 0 0\n",
      "LGGNOS 0 0\n",
      "LNET 0 0\n",
      "RBL 0 0\n",
      "HGGNOS 0 0\n",
      "NBL 12 20\n",
      "ALL 4 18\n",
      "PLMESO 0 0\n",
      "SBNET 0 0\n",
      "THYROID 0 0\n",
      "SBC 0 0\n",
      "BCC 0 0\n",
      "BRAIN 1 0\n",
      "VULVA 0 0\n",
      "GBM 0 0\n",
      "BILIARY_TRACT 0 0\n",
      "ODG 0 0\n",
      "PAST 0 0\n",
      "CERVIX 0 0\n",
      "MBL 0 0\n",
      "AML 0 0\n",
      "MNM 0 0\n",
      "MPN 0 0\n",
      "HEAD_NECK 0 0\n",
      "CSCC 0 0\n",
      "OV 0 0\n",
      "LNM 19 84\n",
      "UCEC 0 0\n",
      "SCLC 0 0\n",
      "ST 0 0\n",
      "BONE_SOFT_TISSUE 2 5\n",
      "KIDNEY 0 0\n",
      "NHL 15 56\n",
      "PANCREAS 0 0\n",
      "BLADDER_URI 0 0\n",
      "LIVER 0 0\n",
      "PROSTATE 0 0\n",
      "BRCA 1 1\n",
      "ES 0 0\n",
      "AN 0 0\n",
      "ESOPHA_STOMACH 0 0\n",
      "LUNG 0 0\n",
      "COADREAD 1 0\n",
      "BOWEL 1 0\n",
      "NSCLC 0 0\n",
      "SKCM 0 0\n",
      "SKIN 0 0\n"
     ]
    }
   ],
   "source": [
    "for entry in os.scandir(main_dir): \n",
    "    ctype = entry.name.split('.')[0]\n",
    "    input_f = os.path.join(main_dir, f'{ctype}.shared_muts.gz')\n",
    "    df = pd.read_csv(input_f, sep='\\t', header=0)\n",
    "    warning_1 = df.loc[df['sample1_fraction_shared'] > 0.1]\n",
    "    warning_2 = df.loc[df['sample2_fraction_shared'] > 0.1]\n",
    "    print(ctype, len(warning_1), len(warning_2))"
   ]
  },
  {
   "cell_type": "code",
   "execution_count": 5,
   "metadata": {
    "collapsed": true
   },
   "outputs": [],
   "source": [
    "# Check details in a single cancer type\n",
    "ctype = 'LNM'\n",
    "input_f = os.path.join(main_dir, f'{ctype}.shared_muts.gz')\n",
    "df = pd.read_csv(input_f, sep='\\t', header=0)\n",
    "warning_1 = df.loc[df['sample1_fraction_shared'] > 0.1]\n",
    "warning_2 = df.loc[df['sample2_fraction_shared'] > 0.1]"
   ]
  },
  {
   "cell_type": "code",
   "execution_count": null,
   "metadata": {
    "collapsed": true
   },
   "outputs": [],
   "source": []
  }
 ],
 "metadata": {
  "kernelspec": {
   "display_name": "Python [conda env:hotspots_framework]",
   "language": "python",
   "name": "conda-env-hotspots_framework-py"
  },
  "language_info": {
   "codemirror_mode": {
    "name": "ipython",
    "version": 3
   },
   "file_extension": ".py",
   "mimetype": "text/x-python",
   "name": "python",
   "nbconvert_exporter": "python",
   "pygments_lexer": "ipython3",
   "version": "3.6.10"
  }
 },
 "nbformat": 4,
 "nbformat_minor": 2
}
