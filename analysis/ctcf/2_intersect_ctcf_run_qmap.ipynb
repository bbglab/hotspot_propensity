{
 "cells": [
  {
   "cell_type": "markdown",
   "metadata": {},
   "source": [
    "# Intersect CTCF binding sites with mutations"
   ]
  },
  {
   "cell_type": "markdown",
   "metadata": {},
   "source": [
    "Intersect CTCF binding sites and their flanking regions with somatic mutations from a tissue-matched cancer type"
   ]
  },
  {
   "cell_type": "code",
   "execution_count": 1,
   "metadata": {
    "collapsed": true
   },
   "outputs": [],
   "source": [
    "main_dir = ''"
   ]
  },
  {
   "cell_type": "code",
   "execution_count": 2,
   "metadata": {
    "collapsed": true
   },
   "outputs": [],
   "source": [
    "mutations_dir = f'{main_dir}/signatures/assign_muts_to_sigs/data'"
   ]
  },
  {
   "cell_type": "code",
   "execution_count": 3,
   "metadata": {
    "collapsed": true
   },
   "outputs": [],
   "source": [
    "output_path = f'{main_dir}/ctcf/data'\n",
    "map_file = f'{main_dir}/ctcf/code/intersect_feature_and_flanks.map' \n",
    "code_path = f'{main_dir}/ctcf/code/intersect_feature_and_flanks.py' "
   ]
  },
  {
   "cell_type": "code",
   "execution_count": 4,
   "metadata": {
    "collapsed": true
   },
   "outputs": [],
   "source": [
    "info = [\n",
    "    '[params]',\n",
    "    'cores=1',\n",
    "    'memory=4G\\n',\n",
    "    '[pre]',\n",
    "    '. \"/home/$USER/miniconda3/etc/profile.d/conda.sh\"',\n",
    "    'conda activate hotspots_framework\\n',\n",
    "    '[jobs]',\n",
    "]"
   ]
  },
  {
   "cell_type": "code",
   "execution_count": 5,
   "metadata": {
    "collapsed": true
   },
   "outputs": [],
   "source": [
    "chunk_size = 2000"
   ]
  },
  {
   "cell_type": "code",
   "execution_count": 6,
   "metadata": {
    "collapsed": true
   },
   "outputs": [],
   "source": [
    "data = {\n",
    "    'COADREAD': 'ENCSR857RJQ.CTCF.sigmoid-colon.bed.reformat.txt',\n",
    "    'ESOPHA_STOMACH': 'ENCSR000DTR.CTCF.epithelial_esophagus.bed.reformat.txt'\n",
    "}"
   ]
  },
  {
   "cell_type": "code",
   "execution_count": 8,
   "metadata": {
    "collapsed": true
   },
   "outputs": [],
   "source": [
    "with open(map_file, 'w') as ofd: \n",
    "    for line in info: \n",
    "        ofd.write(f'{line}\\n')\n",
    "    for ctype, filename in data.items(): \n",
    "        ge_file = f'{main_dir}/ctcf/data/inputs/{filename}'\n",
    "        for sufix in ['in', 'out']:\n",
    "            mutations_f = f'{mutations_dir}/{ctype}_SBS96_{sufix}_maxprob.originalref.tsv'\n",
    "            output_f = f'{output_path}/{ctype}_ctcf_maxprob_length{chunk_size}.{sufix}.txt'\n",
    "            ofd.write(f'python {code_path} -m {mutations_f} -f {ge_file} -b {chunk_size} -o {output_f}\\n')"
   ]
  }
 ],
 "metadata": {
  "kernelspec": {
   "display_name": "Python [conda env:hotspots_framework]",
   "language": "python",
   "name": "conda-env-hotspots_framework-py"
  },
  "language_info": {
   "codemirror_mode": {
    "name": "ipython",
    "version": 3
   },
   "file_extension": ".py",
   "mimetype": "text/x-python",
   "name": "python",
   "nbconvert_exporter": "python",
   "pygments_lexer": "ipython3",
   "version": "3.6.10"
  }
 },
 "nbformat": 4,
 "nbformat_minor": 2
}
