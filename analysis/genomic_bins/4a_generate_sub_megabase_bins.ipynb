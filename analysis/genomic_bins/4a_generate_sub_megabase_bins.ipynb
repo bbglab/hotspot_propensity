{
 "cells": [
  {
   "cell_type": "markdown",
   "metadata": {},
   "source": [
    "# Generate sub-megabase bins annotations"
   ]
  },
  {
   "cell_type": "markdown",
   "metadata": {},
   "source": [
    "Get filtered mappable megabases in autosomes and split them in 500-10 Kbp bins. "
   ]
  },
  {
   "cell_type": "code",
   "execution_count": 1,
   "metadata": {
    "collapsed": true
   },
   "outputs": [],
   "source": [
    "from collections import defaultdict\n",
    "import gzip\n",
    "import json\n",
    "\n",
    "import numpy as np\n",
    "import pandas as pd"
   ]
  },
  {
   "cell_type": "code",
   "execution_count": 2,
   "metadata": {
    "collapsed": true
   },
   "outputs": [],
   "source": [
    "autosomes = list(map(lambda x: f'chr{x}', range(1,23)))"
   ]
  },
  {
   "cell_type": "code",
   "execution_count": 5,
   "metadata": {
    "collapsed": true
   },
   "outputs": [],
   "source": [
    "main_dir = ''"
   ]
  },
  {
   "cell_type": "code",
   "execution_count": 6,
   "metadata": {
    "collapsed": true
   },
   "outputs": [],
   "source": [
    "bins_file = f'{main_dir}/data/hg38_1000kb_bin.nodrivers.filtered.all_positions.bed.gz'"
   ]
  },
  {
   "cell_type": "code",
   "execution_count": 7,
   "metadata": {},
   "outputs": [
    {
     "data": {
      "text/plain": [
       "2308"
      ]
     },
     "execution_count": 7,
     "metadata": {},
     "output_type": "execute_result"
    }
   ],
   "source": [
    "# Load 1 Mb bins\n",
    "bins_df = pd.read_csv(bins_file, sep='\\t', header=0)\n",
    "len(bins_df['BINID'].unique())"
   ]
  },
  {
   "cell_type": "code",
   "execution_count": 8,
   "metadata": {},
   "outputs": [
    {
     "data": {
      "text/plain": [
       "2196"
      ]
     },
     "execution_count": 8,
     "metadata": {},
     "output_type": "execute_result"
    }
   ],
   "source": [
    "# Subset autosomes\n",
    "bins_df = bins_df.loc[bins_df['CHR'].isin(autosomes)]\n",
    "len(bins_df['BINID'].unique())"
   ]
  },
  {
   "cell_type": "code",
   "execution_count": 9,
   "metadata": {},
   "outputs": [
    {
     "data": {
      "text/plain": [
       "'chr1:4000000-5000000'"
      ]
     },
     "execution_count": 9,
     "metadata": {},
     "output_type": "execute_result"
    }
   ],
   "source": [
    "# Get IDs of 1 Mb bins\n",
    "megabases = list(bins_df['BINID'].unique())\n",
    "megabases[0]"
   ]
  },
  {
   "cell_type": "code",
   "execution_count": 10,
   "metadata": {
    "collapsed": true
   },
   "outputs": [],
   "source": [
    "submegabases = [500000, 250000, 100000, 50000, 25000, 10000]"
   ]
  },
  {
   "cell_type": "code",
   "execution_count": 11,
   "metadata": {
    "collapsed": true
   },
   "outputs": [],
   "source": [
    "# Create a json containing bin identifiers \n",
    "subm_annotations_d = dict()\n",
    "# Add megabase bins\n",
    "subm_annotations_d[str(1000000)] = megabases\n",
    "# Add submegabase bins\n",
    "for subm in submegabases: \n",
    "    subm_annotations_d[str(subm)] = list()\n",
    "    for megab in megabases: \n",
    "        chrom, start_end = megab.split(':')\n",
    "        start, end = start_end.split('-')\n",
    "        \n",
    "        chunks = np.arange(int(start), int(end), subm)\n",
    "        for c in range(len(chunks) - 1):    # skip the last one\n",
    "            start_coord = chunks[c]\n",
    "            end_coord = chunks[c + 1]\n",
    "            subm_annotations_d[str(subm)] += [f'{chrom}:{start_coord}-{end_coord}']\n",
    "        subm_annotations_d[str(subm)] += [f'{chrom}:{chunks[-1]}-{int(end)}']"
   ]
  },
  {
   "cell_type": "code",
   "execution_count": 12,
   "metadata": {},
   "outputs": [
    {
     "name": "stdout",
     "output_type": "stream",
     "text": [
      "1000.0\n",
      "2196\n",
      "500.0\n",
      "4392\n",
      "250.0\n",
      "8784\n",
      "100.0\n",
      "21960\n",
      "50.0\n",
      "43920\n",
      "25.0\n",
      "87840\n",
      "10.0\n",
      "219600\n"
     ]
    }
   ],
   "source": [
    "for subm in [1000000] + submegabases: \n",
    "    print(subm/1000)\n",
    "    print(len(subm_annotations_d[str(subm)]))"
   ]
  },
  {
   "cell_type": "code",
   "execution_count": 13,
   "metadata": {},
   "outputs": [
    {
     "data": {
      "text/plain": [
       "(4392, 8784, 21960, 43920, 87840, 219600)"
      ]
     },
     "execution_count": 13,
     "metadata": {},
     "output_type": "execute_result"
    }
   ],
   "source": [
    "# Check expected lengths\n",
    "len(megabases)*2, len(megabases)*4, len(megabases)*10, len(megabases)*20, len(megabases)*40, len(megabases)*100,"
   ]
  },
  {
   "cell_type": "code",
   "execution_count": 14,
   "metadata": {
    "collapsed": true
   },
   "outputs": [],
   "source": [
    "# Save json with submegabase identifiers for quick access\n",
    "output_file = f'{main_dir}/data/hg38_1000kb_submegabases.nodrivers.filtered.autosomes.json'\n",
    "with open(output_file, 'wt') as ofd: \n",
    "    json.dump(subm_annotations_d, ofd)"
   ]
  },
  {
   "cell_type": "code",
   "execution_count": 17,
   "metadata": {},
   "outputs": [
    {
     "name": "stdout",
     "output_type": "stream",
     "text": [
      "1000kb\n",
      "500kb\n",
      "250kb\n",
      "100kb\n",
      "50kb\n",
      "25kb\n",
      "10kb\n"
     ]
    }
   ],
   "source": [
    "# Save \n",
    "for subm in [1000000] + submegabases: \n",
    "    subm_name = f'{int(subm/1000)}kb'\n",
    "    output_file = f'{main_dir}/data/hg38_{subm_name}_bin.nodrivers.filtered.all_positions.autosomes.bed.gz'\n",
    "    print(subm_name)\n",
    "    with gzip.open(output_file, 'wt') as ofd: \n",
    "        ofd.write('{}\\n'.format('\\t'.join(['CHR', 'START', 'END','BINID'])))\n",
    "        for binid in subm_annotations_d[str(subm)]: \n",
    "            chrom, start_end = binid.split(':')\n",
    "            start, end = start_end.split('-')\n",
    "            ofd.write('{}\\n'.format('\\t'.join([chrom, start, end, binid])))"
   ]
  }
 ],
 "metadata": {
  "kernelspec": {
   "display_name": "Python [conda env:hotspots_framework]",
   "language": "python",
   "name": "conda-env-hotspots_framework-py"
  },
  "language_info": {
   "codemirror_mode": {
    "name": "ipython",
    "version": 3
   },
   "file_extension": ".py",
   "mimetype": "text/x-python",
   "name": "python",
   "nbconvert_exporter": "python",
   "pygments_lexer": "ipython3",
   "version": "3.6.10"
  }
 },
 "nbformat": 4,
 "nbformat_minor": 2
}
