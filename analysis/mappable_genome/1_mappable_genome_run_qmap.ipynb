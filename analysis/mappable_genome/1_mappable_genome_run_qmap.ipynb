{
 "cells": [
  {
   "cell_type": "markdown",
   "metadata": {},
   "source": [
    "# Generate genomic coordinates for the mappable genome"
   ]
  },
  {
   "cell_type": "markdown",
   "metadata": {},
   "source": [
    "The mappable genome is the fraction of the reference hg38 genome under analysis in the manuscript. \n",
    "\n",
    "The mappable genome consists of: \n",
    "- regions of high mappability that do not overlap with blacklisted sequences of low mappability.\n",
    "- genomic positions containing population variants (any substitution or indel with total allele frequency above 1%). \n",
    "- the above mentioned regions exluding cancer driver coding and non-coding regions.\n",
    "\n",
    "This notebook generates first a mappable genome version that includes drivers (this is used to normalise mutational signature profiles), and then the final mappable genome file excluding drivers. \n",
    "\n",
    "Blacklisted regions of low mappability for hg38 were obtained from the ENCODE Unified GRCh38 Blacklist (downloaded from encodeproject.org/files/ENCFF356LFX on 16-06-2020). \n",
    "\n",
    "Population variants were obtained from gnomAD 49 version 3.0 (downloaded from gnomad.broadinstitute.org on 25-06-2020).\n",
    "\n",
    "Cancer driver genes and annotations can be found in the \"cancerdrivers\" folder"
   ]
  },
  {
   "cell_type": "code",
   "execution_count": 1,
   "metadata": {
    "collapsed": true
   },
   "outputs": [],
   "source": [
    "import os"
   ]
  },
  {
   "cell_type": "code",
   "execution_count": 35,
   "metadata": {
    "collapsed": true
   },
   "outputs": [],
   "source": [
    "main_dir = ''"
   ]
  },
  {
   "cell_type": "markdown",
   "metadata": {},
   "source": [
    "# Mappable genome including drivers"
   ]
  },
  {
   "cell_type": "markdown",
   "metadata": {},
   "source": [
    "Exclude genomic regions of driver elements from the mappable genome computed above"
   ]
  },
  {
   "cell_type": "code",
   "execution_count": 5,
   "metadata": {
    "collapsed": true
   },
   "outputs": [],
   "source": [
    "mappable_regions_f = f'{main_dir}/data/inputs/hg38_100bp.coverage.regions.gz'\n",
    "mappable_blacklist_f = f'{main_dir}/data/inputs/ENCFF356LFX.bed.gz'\n",
    "pop_variants_f = f'{main_dir}/data/inputs/gnomad.genomes.r3.0.sites.allchr.af_0.01.tsv.gz'\n",
    "output_file = f'{main_dir}/data/hg38_mappable_genome.tsv.gz'"
   ]
  },
  {
   "cell_type": "code",
   "execution_count": 6,
   "metadata": {
    "collapsed": true
   },
   "outputs": [],
   "source": [
    "map_file = f'{main_dir}/code/1_mappable_genome.map'\n",
    "code_file = f'{main_dir}/code/mappable_genome.py'"
   ]
  },
  {
   "cell_type": "code",
   "execution_count": 7,
   "metadata": {
    "collapsed": true
   },
   "outputs": [],
   "source": [
    "info = [\n",
    "    '[params]',\n",
    "    'cores=1',\n",
    "    'memory=100G\\n',\n",
    "    '[pre]',\n",
    "    '. \"/home/$USER/miniconda3/etc/profile.d/conda.sh\"',\n",
    "    'conda activate hotspots_framework\\n',\n",
    "    '[jobs]',\n",
    "]"
   ]
  },
  {
   "cell_type": "code",
   "execution_count": 8,
   "metadata": {
    "collapsed": true,
    "scrolled": false
   },
   "outputs": [],
   "source": [
    "with open(map_file, 'w') as ofd: \n",
    "    for line in info: \n",
    "        ofd.write(f'{line}\\n')\n",
    "    \n",
    "    ofd.write(f'python {code_file} -m {mappable_regions_f} -b {mappable_blacklist_f} -pv {pop_variants_f} -o {output_file}  \\n')            \n"
   ]
  },
  {
   "cell_type": "markdown",
   "metadata": {},
   "source": [
    "# Mappable genome excluding drivers"
   ]
  },
  {
   "cell_type": "markdown",
   "metadata": {},
   "source": [
    "Exclude genomic regions of driver elements from the mappable genome computed above"
   ]
  },
  {
   "cell_type": "code",
   "execution_count": 36,
   "metadata": {
    "collapsed": true
   },
   "outputs": [],
   "source": [
    "main_dir = ''"
   ]
  },
  {
   "cell_type": "code",
   "execution_count": 37,
   "metadata": {
    "collapsed": true
   },
   "outputs": [],
   "source": [
    "mappable_genome_file = f'{main_dir}/data/hg38_mappable_genome.tsv.gz'\n",
    "drivers_file = f'{main_dir}/data/cancerdrivers_regions.tsv'\n",
    "output_file = f'{main_dir}/data/hg38_mappable_genome.nodrivers.tsv.gz'"
   ]
  },
  {
   "cell_type": "code",
   "execution_count": 38,
   "metadata": {
    "collapsed": true
   },
   "outputs": [],
   "source": [
    "map_file = f'{main_dir}/code/1_mappable_genome_nodrivers.map'\n",
    "code_file = f'{main_dir}/code/mappable_genome_nodrivers.py'"
   ]
  },
  {
   "cell_type": "code",
   "execution_count": 39,
   "metadata": {
    "collapsed": true
   },
   "outputs": [],
   "source": [
    "info = [\n",
    "    '[params]',\n",
    "    'cores=1',\n",
    "    'memory=100G\\n',\n",
    "    '[pre]',\n",
    "    '. \"/home/$USER/miniconda3/etc/profile.d/conda.sh\"',\n",
    "    'conda activate hotspots_framework\\n',\n",
    "    '[jobs]',\n",
    "]"
   ]
  },
  {
   "cell_type": "code",
   "execution_count": 40,
   "metadata": {
    "collapsed": true,
    "scrolled": false
   },
   "outputs": [],
   "source": [
    "with open(map_file, 'w') as ofd: \n",
    "    for line in info: \n",
    "        ofd.write(f'{line}\\n')\n",
    "    \n",
    "    ofd.write(f'python {code_file} -m {mappable_genome_file} -d {drivers_file} -o {output_file}  \\n')            \n"
   ]
  }
 ],
 "metadata": {
  "kernelspec": {
   "display_name": "Python [conda env:hotspots_framework]",
   "language": "python",
   "name": "conda-env-hotspots_framework-py"
  },
  "language_info": {
   "codemirror_mode": {
    "name": "ipython",
    "version": 3
   },
   "file_extension": ".py",
   "mimetype": "text/x-python",
   "name": "python",
   "nbconvert_exporter": "python",
   "pygments_lexer": "ipython3",
   "version": "3.6.10"
  }
 },
 "nbformat": 4,
 "nbformat_minor": 2
}
