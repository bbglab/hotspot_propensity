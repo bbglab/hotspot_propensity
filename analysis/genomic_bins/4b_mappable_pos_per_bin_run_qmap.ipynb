{
 "cells": [
  {
   "cell_type": "markdown",
   "metadata": {},
   "source": [
    "# Compute mappable positions for filtered bins"
   ]
  },
  {
   "cell_type": "markdown",
   "metadata": {},
   "source": [
    "For each bin size between 1 Mbp and 10 Kbp: \n",
    "\n",
    "- Read the file of filtered high mappable bins\n",
    "- Intersect it with the mappable genome \n",
    "- Save coordinates per bin overlapping the mappable genome\n",
    "\n",
    "The output consists of high mappable genomic bins with filtered start and end coordinates (bin size is no longer equal among bins in the same file)"
   ]
  },
  {
   "cell_type": "code",
   "execution_count": 1,
   "metadata": {
    "collapsed": true
   },
   "outputs": [],
   "source": [
    "import gzip \n",
    "\n",
    "import pandas as pd\n",
    "from bgreference import hg38"
   ]
  },
  {
   "cell_type": "code",
   "execution_count": 2,
   "metadata": {
    "collapsed": true
   },
   "outputs": [],
   "source": [
    "main_dir = ''"
   ]
  },
  {
   "cell_type": "code",
   "execution_count": 3,
   "metadata": {
    "collapsed": true
   },
   "outputs": [],
   "source": [
    "input_dir = output_dir = f'{main_dir}/data'"
   ]
  },
  {
   "cell_type": "code",
   "execution_count": 4,
   "metadata": {
    "collapsed": true
   },
   "outputs": [],
   "source": [
    "mappable_genome_file = f'{main_dir}/data/hg38_mappable_genome.nodrivers.tsv.gz'"
   ]
  },
  {
   "cell_type": "code",
   "execution_count": 5,
   "metadata": {
    "collapsed": true
   },
   "outputs": [],
   "source": [
    "map_file = f'{main_dir}/code/mappable_pos_per_bin_nodrivers.map'\n",
    "code_file = f'{main_dir}/code/mappable_pos_per_bin.py'"
   ]
  },
  {
   "cell_type": "code",
   "execution_count": 6,
   "metadata": {
    "collapsed": true
   },
   "outputs": [],
   "source": [
    "info = [\n",
    "    '[params]',\n",
    "    'cores=1',\n",
    "    'memory=32G\\n',\n",
    "    '[pre]',\n",
    "    '. \"/home/$USER/miniconda3/etc/profile.d/conda.sh\"',\n",
    "    'conda activate hotspots_framework\\n',\n",
    "    '[jobs]',\n",
    "]"
   ]
  },
  {
   "cell_type": "code",
   "execution_count": 7,
   "metadata": {
    "collapsed": true
   },
   "outputs": [],
   "source": [
    "genome = 'hg38'"
   ]
  },
  {
   "cell_type": "markdown",
   "metadata": {},
   "source": [
    "#### Run 1 Mb and below"
   ]
  },
  {
   "cell_type": "code",
   "execution_count": 8,
   "metadata": {
    "collapsed": true
   },
   "outputs": [],
   "source": [
    "# Select length of bins to be computed (in bp)\n",
    "bin_sizes = [1000000, 500000, 250000, 100000, 50000, 25000, 10000]"
   ]
  },
  {
   "cell_type": "code",
   "execution_count": 9,
   "metadata": {
    "scrolled": false
   },
   "outputs": [
    {
     "name": "stdout",
     "output_type": "stream",
     "text": [
      "1000000\n",
      "500000\n",
      "250000\n",
      "100000\n",
      "50000\n",
      "25000\n",
      "10000\n"
     ]
    }
   ],
   "source": [
    "with open(map_file, 'w') as ofd: \n",
    "    for line in info: \n",
    "        ofd.write(f'{line}\\n')\n",
    "        \n",
    "    for bin_size in bin_sizes: \n",
    "\n",
    "        bins_f = f'{input_dir}/{genome}_{round(bin_size/1e3)}kb_bin.nodrivers.filtered.all_positions.autosomes.bed.gz'\n",
    "        output_f = f'{input_dir}/{genome}_{round(bin_size/1e3)}kb_bin.nodrivers.filtered.mappable_positions.autosomes.bed.gz'\n",
    "        ofd.write(f'python {code_file} --bins_f {bins_f} --mappable_genome_f {mappable_genome_file} --output_f {output_f}\\n')\n",
    "        print(bin_size)"
   ]
  }
 ],
 "metadata": {
  "kernelspec": {
   "display_name": "Python [conda env:hotspots_framework]",
   "language": "python",
   "name": "conda-env-hotspots_framework-py"
  },
  "language_info": {
   "codemirror_mode": {
    "name": "ipython",
    "version": 3
   },
   "file_extension": ".py",
   "mimetype": "text/x-python",
   "name": "python",
   "nbconvert_exporter": "python",
   "pygments_lexer": "ipython3",
   "version": "3.6.10"
  }
 },
 "nbformat": 4,
 "nbformat_minor": 2
}
