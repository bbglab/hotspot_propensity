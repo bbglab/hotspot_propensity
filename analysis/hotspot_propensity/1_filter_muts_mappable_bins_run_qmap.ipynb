{
 "cells": [
  {
   "cell_type": "markdown",
   "metadata": {},
   "source": [
    "# Run filtering of mutations"
   ]
  },
  {
   "cell_type": "markdown",
   "metadata": {},
   "source": [
    "Filter mutations within autosomic 1 Mbp mappable bins of the genome (drivers excluded). Note that mutations included in the analysis are already filtered with mappable genome positions. Now we will subset those within 1 Mbp mappable bins in autosomes. "
   ]
  },
  {
   "cell_type": "code",
   "execution_count": 1,
   "metadata": {
    "collapsed": true
   },
   "outputs": [],
   "source": [
    "import os\n",
    "from collections import defaultdict\n",
    "\n",
    "import numpy as np\n",
    "import pandas as pd"
   ]
  },
  {
   "cell_type": "code",
   "execution_count": 2,
   "metadata": {
    "collapsed": true
   },
   "outputs": [],
   "source": [
    "main_dir = ''"
   ]
  },
  {
   "cell_type": "code",
   "execution_count": 3,
   "metadata": {
    "collapsed": true
   },
   "outputs": [],
   "source": [
    "input_path_mutations = f'{main_dir}/signatures/assign_muts_to_sigs/data'"
   ]
  },
  {
   "cell_type": "code",
   "execution_count": 4,
   "metadata": {
    "collapsed": true
   },
   "outputs": [],
   "source": [
    "bins_f = f'{main_dir}/genomic_bins/data/hg38_1000kb_bin.nodrivers.filtered.mappable_positions.autosomes.bed.gz'"
   ]
  },
  {
   "cell_type": "code",
   "execution_count": 5,
   "metadata": {
    "collapsed": true
   },
   "outputs": [],
   "source": [
    "code_f = f'{main_dir}/propensity/code/filter_muts_mappable_bins.py'\n",
    "map_file = f'{main_dir}/propensity/code/1_filter_muts_mappable_bins.map'"
   ]
  },
  {
   "cell_type": "code",
   "execution_count": 6,
   "metadata": {
    "collapsed": true
   },
   "outputs": [],
   "source": [
    "output_path = f'{main_dir}/propensity/data'"
   ]
  },
  {
   "cell_type": "code",
   "execution_count": 7,
   "metadata": {
    "collapsed": true
   },
   "outputs": [],
   "source": [
    "info = [\n",
    "    '[params]',\n",
    "    'cores=1',\n",
    "    'memory=24G\\n',\n",
    "    '[pre]',\n",
    "    '. \"/home/$USER/miniconda3/etc/profile.d/conda.sh\"',\n",
    "    'conda activate hotspots_framework\\n',\n",
    "    '[jobs]',\n",
    "]"
   ]
  },
  {
   "cell_type": "code",
   "execution_count": 8,
   "metadata": {
    "collapsed": true
   },
   "outputs": [],
   "source": [
    "data_to_run = {\n",
    " 'BLADDER_URI': ['SBS2', 'SBS13', 'SBS5', 'SBS1'],\n",
    " 'BRCA': ['SBS5', 'SBS1', 'SBS2', 'SBS13', 'SBS3'],\n",
    " 'COADREAD': ['SBS1', 'SBS40', 'SBS17b', 'SBS5', 'SBS18', 'SBS93', 'SBS17a'],\n",
    " 'ESOPHA_STOMACH': ['SBS17b', 'SBS17a', 'SBS5', 'SBS1'],\n",
    " 'NSCLC': ['SBS4', 'SBS5', 'SBS40', 'SBS2', 'SBS13', 'SBS1'],\n",
    " 'PROSTATE': ['SBS5', 'SBS1', 'SBS8'],\n",
    " 'SKCM': ['SBS7a', 'SBS7b']\n",
    "}"
   ]
  },
  {
   "cell_type": "code",
   "execution_count": 9,
   "metadata": {
    "collapsed": true
   },
   "outputs": [],
   "source": [
    "with open(map_file, 'w') as ofd: \n",
    "    for line in info: \n",
    "        ofd.write(f'{line}\\n')\n",
    "        \n",
    "    output_dir = f'{output_path}/filtered_mutations'\n",
    "    if not os.path.exists(output_dir):\n",
    "        os.makedirs(output_dir, exist_ok=True)\n",
    "\n",
    "    for cancertype in data_to_run.keys(): \n",
    "        input_f = os.path.join(input_path_mutations, f'{cancertype}_SBS96_total_maxprob.originalref.tsv')\n",
    "        output_f = f'{output_dir}/{cancertype}_SBS96_total_maxprob.originalref.hg38_1000kb_autosomes_bin.tsv'\n",
    "        ofd.write(f'python {code_f} -i {input_f} -o {output_f} -b {bins_f}\\n')"
   ]
  },
  {
   "cell_type": "code",
   "execution_count": null,
   "metadata": {
    "collapsed": true
   },
   "outputs": [],
   "source": []
  }
 ],
 "metadata": {
  "kernelspec": {
   "display_name": "Python [conda env:hotspots_framework]",
   "language": "python",
   "name": "conda-env-hotspots_framework-py"
  },
  "language_info": {
   "codemirror_mode": {
    "name": "ipython",
    "version": 3
   },
   "file_extension": ".py",
   "mimetype": "text/x-python",
   "name": "python",
   "nbconvert_exporter": "python",
   "pygments_lexer": "ipython3",
   "version": "3.6.10"
  }
 },
 "nbformat": 4,
 "nbformat_minor": 2
}
