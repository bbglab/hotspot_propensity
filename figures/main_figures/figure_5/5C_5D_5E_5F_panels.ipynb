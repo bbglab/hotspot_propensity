{
 "cells": [
  {
   "cell_type": "markdown",
   "metadata": {},
   "source": [
    "# Methylation analysis in Fig 5C-5F"
   ]
  },
  {
   "cell_type": "code",
   "execution_count": 1,
   "metadata": {
    "collapsed": true
   },
   "outputs": [],
   "source": [
    "from collections import defaultdict\n",
    "import math\n",
    "\n",
    "import matplotlib\n",
    "import matplotlib.pyplot as plt\n",
    "from matplotlib import rcParams\n",
    "import pandas as pd\n",
    "from scipy.stats import fisher_exact"
   ]
  },
  {
   "cell_type": "code",
   "execution_count": 2,
   "metadata": {
    "collapsed": true
   },
   "outputs": [],
   "source": [
    "rcParams['font.family'] = 'sans-serif'\n",
    "rcParams['font.sans-serif'] = ['Arial']"
   ]
  },
  {
   "cell_type": "code",
   "execution_count": 3,
   "metadata": {
    "collapsed": true
   },
   "outputs": [],
   "source": [
    "def odds_ratio_ci(a, b, c, d):\n",
    "    \"\"\"Compute the 95% confidence interval of an odds ratio\"\"\"\n",
    "    \n",
    "    odds_ratio = (a*d) / (b*c)\n",
    "\n",
    "    lower_bound = math.exp(math.log(odds_ratio) - 1.96 * math.sqrt((1/a + 1/b + 1/c + 1/d)))\n",
    "    upper_bound = math.exp(math.log(odds_ratio) + 1.96 * math.sqrt((1/a + 1/b + 1/c + 1/d)))\n",
    "\n",
    "    return (lower_bound, upper_bound)"
   ]
  },
  {
   "cell_type": "code",
   "execution_count": 4,
   "metadata": {
    "collapsed": true
   },
   "outputs": [],
   "source": [
    "colors_d = {\n",
    "    'methylated': '#1e79baff', \n",
    "    'unmethylated': '#cfcac5ff'\n",
    "}"
   ]
  },
  {
   "cell_type": "code",
   "execution_count": 5,
   "metadata": {
    "collapsed": true
   },
   "outputs": [],
   "source": [
    "tissue_d = {\n",
    "    'COADREAD': 'colon', \n",
    "    'ESOPHA_STOMACH': 'esophagus and stomach',\n",
    "    'NSCLC': 'lung' \n",
    "}"
   ]
  },
  {
   "cell_type": "code",
   "execution_count": 6,
   "metadata": {
    "collapsed": true
   },
   "outputs": [],
   "source": [
    "data_dir = '../../../data/methylation'"
   ]
  },
  {
   "cell_type": "markdown",
   "metadata": {},
   "source": [
    "### Load data\n",
    "\n",
    "- Tables containing SBS1 total mutations in a cancer type and tissue-matched CpG methylation overlap.\n",
    "- Tables containing SBS1 hotspot mutations in a cancer type and tissue-matched CpG methylation overlap.\n"
   ]
  },
  {
   "cell_type": "code",
   "execution_count": 7,
   "metadata": {
    "collapsed": true
   },
   "outputs": [],
   "source": [
    "ctypes_to_run = ['COADREAD', 'ESOPHA_STOMACH', 'NSCLC']"
   ]
  },
  {
   "cell_type": "code",
   "execution_count": 8,
   "metadata": {
    "collapsed": true
   },
   "outputs": [],
   "source": [
    "# Load mutation data\n",
    "mutations_dict = dict()\n",
    "for ctype in ctypes_to_run: \n",
    "    input_f = f'{data_dir}/{ctype}_counts_methyl_muts.txt.gz'\n",
    "    mutations_dict[ctype] = pd.read_csv(input_f, sep='\\t', header=0)"
   ]
  },
  {
   "cell_type": "code",
   "execution_count": 9,
   "metadata": {},
   "outputs": [
    {
     "data": {
      "text/html": [
       "<div>\n",
       "<style scoped>\n",
       "    .dataframe tbody tr th:only-of-type {\n",
       "        vertical-align: middle;\n",
       "    }\n",
       "\n",
       "    .dataframe tbody tr th {\n",
       "        vertical-align: top;\n",
       "    }\n",
       "\n",
       "    .dataframe thead th {\n",
       "        text-align: right;\n",
       "    }\n",
       "</style>\n",
       "<table border=\"1\" class=\"dataframe\">\n",
       "  <thead>\n",
       "    <tr style=\"text-align: right;\">\n",
       "      <th></th>\n",
       "      <th>SIGNATURE</th>\n",
       "      <th>EPIGENOMES</th>\n",
       "      <th>FRAC_METHYLATION</th>\n",
       "      <th>CHR</th>\n",
       "      <th>BINID</th>\n",
       "      <th>TRINUC</th>\n",
       "      <th>TYPE</th>\n",
       "      <th>COUNT</th>\n",
       "    </tr>\n",
       "  </thead>\n",
       "  <tbody>\n",
       "    <tr>\n",
       "      <th>0</th>\n",
       "      <td>SBS1</td>\n",
       "      <td>E084;E106</td>\n",
       "      <td>0.5</td>\n",
       "      <td>chr21</td>\n",
       "      <td>chr21:14000000-15000000</td>\n",
       "      <td>ACG</td>\n",
       "      <td>ME_POS_MUT_POS</td>\n",
       "      <td>86</td>\n",
       "    </tr>\n",
       "    <tr>\n",
       "      <th>1</th>\n",
       "      <td>SBS1</td>\n",
       "      <td>E084;E106</td>\n",
       "      <td>0.5</td>\n",
       "      <td>chr21</td>\n",
       "      <td>chr21:14000000-15000000</td>\n",
       "      <td>ACG</td>\n",
       "      <td>ME_POS_MUT_NEG</td>\n",
       "      <td>3005</td>\n",
       "    </tr>\n",
       "    <tr>\n",
       "      <th>2</th>\n",
       "      <td>SBS1</td>\n",
       "      <td>E084;E106</td>\n",
       "      <td>0.5</td>\n",
       "      <td>chr21</td>\n",
       "      <td>chr21:14000000-15000000</td>\n",
       "      <td>ACG</td>\n",
       "      <td>ME_NEG_MUT_POS</td>\n",
       "      <td>3</td>\n",
       "    </tr>\n",
       "    <tr>\n",
       "      <th>3</th>\n",
       "      <td>SBS1</td>\n",
       "      <td>E084;E106</td>\n",
       "      <td>0.5</td>\n",
       "      <td>chr21</td>\n",
       "      <td>chr21:14000000-15000000</td>\n",
       "      <td>ACG</td>\n",
       "      <td>ME_NEG_MUT_NEG</td>\n",
       "      <td>216</td>\n",
       "    </tr>\n",
       "    <tr>\n",
       "      <th>4</th>\n",
       "      <td>SBS1</td>\n",
       "      <td>E084;E106</td>\n",
       "      <td>0.5</td>\n",
       "      <td>chr21</td>\n",
       "      <td>chr21:14000000-15000000</td>\n",
       "      <td>ACG</td>\n",
       "      <td>MISSING</td>\n",
       "      <td>132</td>\n",
       "    </tr>\n",
       "  </tbody>\n",
       "</table>\n",
       "</div>"
      ],
      "text/plain": [
       "  SIGNATURE EPIGENOMES  FRAC_METHYLATION    CHR                    BINID  \\\n",
       "0      SBS1  E084;E106               0.5  chr21  chr21:14000000-15000000   \n",
       "1      SBS1  E084;E106               0.5  chr21  chr21:14000000-15000000   \n",
       "2      SBS1  E084;E106               0.5  chr21  chr21:14000000-15000000   \n",
       "3      SBS1  E084;E106               0.5  chr21  chr21:14000000-15000000   \n",
       "4      SBS1  E084;E106               0.5  chr21  chr21:14000000-15000000   \n",
       "\n",
       "  TRINUC            TYPE  COUNT  \n",
       "0    ACG  ME_POS_MUT_POS     86  \n",
       "1    ACG  ME_POS_MUT_NEG   3005  \n",
       "2    ACG  ME_NEG_MUT_POS      3  \n",
       "3    ACG  ME_NEG_MUT_NEG    216  \n",
       "4    ACG         MISSING    132  "
      ]
     },
     "execution_count": 9,
     "metadata": {},
     "output_type": "execute_result"
    }
   ],
   "source": [
    "mutations_dict['COADREAD'].head()"
   ]
  },
  {
   "cell_type": "code",
   "execution_count": 10,
   "metadata": {
    "collapsed": true
   },
   "outputs": [],
   "source": [
    "# Load hotspots data\n",
    "hotspots_dict = dict()\n",
    "for ctype in ctypes_to_run: \n",
    "    input_f = f'{data_dir}/{ctype}_counts_methyl_hotspots.txt.gz'\n",
    "    hotspots_dict[ctype] = pd.read_csv(input_f, sep='\\t', header=0)"
   ]
  },
  {
   "cell_type": "code",
   "execution_count": 11,
   "metadata": {},
   "outputs": [
    {
     "data": {
      "text/html": [
       "<div>\n",
       "<style scoped>\n",
       "    .dataframe tbody tr th:only-of-type {\n",
       "        vertical-align: middle;\n",
       "    }\n",
       "\n",
       "    .dataframe tbody tr th {\n",
       "        vertical-align: top;\n",
       "    }\n",
       "\n",
       "    .dataframe thead th {\n",
       "        text-align: right;\n",
       "    }\n",
       "</style>\n",
       "<table border=\"1\" class=\"dataframe\">\n",
       "  <thead>\n",
       "    <tr style=\"text-align: right;\">\n",
       "      <th></th>\n",
       "      <th>SIGNATURE</th>\n",
       "      <th>EPIGENOMES</th>\n",
       "      <th>FRAC_METHYLATION</th>\n",
       "      <th>CHR</th>\n",
       "      <th>BINID</th>\n",
       "      <th>TRINUC</th>\n",
       "      <th>TYPE</th>\n",
       "      <th>COUNT</th>\n",
       "    </tr>\n",
       "  </thead>\n",
       "  <tbody>\n",
       "    <tr>\n",
       "      <th>0</th>\n",
       "      <td>SBS1</td>\n",
       "      <td>E084;E106</td>\n",
       "      <td>0.5</td>\n",
       "      <td>chr19</td>\n",
       "      <td>chr19:12000000-13000000</td>\n",
       "      <td>ACG</td>\n",
       "      <td>ME_POS_MUT_POS</td>\n",
       "      <td>0</td>\n",
       "    </tr>\n",
       "    <tr>\n",
       "      <th>1</th>\n",
       "      <td>SBS1</td>\n",
       "      <td>E084;E106</td>\n",
       "      <td>0.5</td>\n",
       "      <td>chr19</td>\n",
       "      <td>chr19:12000000-13000000</td>\n",
       "      <td>ACG</td>\n",
       "      <td>ME_POS_MUT_NEG</td>\n",
       "      <td>4072</td>\n",
       "    </tr>\n",
       "    <tr>\n",
       "      <th>2</th>\n",
       "      <td>SBS1</td>\n",
       "      <td>E084;E106</td>\n",
       "      <td>0.5</td>\n",
       "      <td>chr19</td>\n",
       "      <td>chr19:12000000-13000000</td>\n",
       "      <td>ACG</td>\n",
       "      <td>ME_NEG_MUT_POS</td>\n",
       "      <td>0</td>\n",
       "    </tr>\n",
       "    <tr>\n",
       "      <th>3</th>\n",
       "      <td>SBS1</td>\n",
       "      <td>E084;E106</td>\n",
       "      <td>0.5</td>\n",
       "      <td>chr19</td>\n",
       "      <td>chr19:12000000-13000000</td>\n",
       "      <td>ACG</td>\n",
       "      <td>ME_NEG_MUT_NEG</td>\n",
       "      <td>991</td>\n",
       "    </tr>\n",
       "    <tr>\n",
       "      <th>4</th>\n",
       "      <td>SBS1</td>\n",
       "      <td>E084;E106</td>\n",
       "      <td>0.5</td>\n",
       "      <td>chr19</td>\n",
       "      <td>chr19:12000000-13000000</td>\n",
       "      <td>ACG</td>\n",
       "      <td>MISSING</td>\n",
       "      <td>1097</td>\n",
       "    </tr>\n",
       "  </tbody>\n",
       "</table>\n",
       "</div>"
      ],
      "text/plain": [
       "  SIGNATURE EPIGENOMES  FRAC_METHYLATION    CHR                    BINID  \\\n",
       "0      SBS1  E084;E106               0.5  chr19  chr19:12000000-13000000   \n",
       "1      SBS1  E084;E106               0.5  chr19  chr19:12000000-13000000   \n",
       "2      SBS1  E084;E106               0.5  chr19  chr19:12000000-13000000   \n",
       "3      SBS1  E084;E106               0.5  chr19  chr19:12000000-13000000   \n",
       "4      SBS1  E084;E106               0.5  chr19  chr19:12000000-13000000   \n",
       "\n",
       "  TRINUC            TYPE  COUNT  \n",
       "0    ACG  ME_POS_MUT_POS      0  \n",
       "1    ACG  ME_POS_MUT_NEG   4072  \n",
       "2    ACG  ME_NEG_MUT_POS      0  \n",
       "3    ACG  ME_NEG_MUT_NEG    991  \n",
       "4    ACG         MISSING   1097  "
      ]
     },
     "execution_count": 11,
     "metadata": {},
     "output_type": "execute_result"
    }
   ],
   "source": [
    "hotspots_dict['COADREAD'].head()"
   ]
  },
  {
   "cell_type": "markdown",
   "metadata": {},
   "source": [
    "### Compute stats"
   ]
  },
  {
   "cell_type": "code",
   "execution_count": 12,
   "metadata": {
    "collapsed": true
   },
   "outputs": [],
   "source": [
    "mutations_or = dict()\n",
    "mutations_data = defaultdict(dict)\n",
    "for ctype in ctypes_to_run: \n",
    "    df = mutations_dict[ctype]\n",
    "    me_pos_mut_pos = df.loc[df['TYPE'] == 'ME_POS_MUT_POS']['COUNT'].sum()\n",
    "    me_pos_mut_neg = df.loc[df['TYPE'] == 'ME_POS_MUT_NEG']['COUNT'].sum()\n",
    "    me_neg_mut_pos = df.loc[df['TYPE'] == 'ME_NEG_MUT_POS']['COUNT'].sum()\n",
    "    me_neg_mut_neg = df.loc[df['TYPE'] == 'ME_NEG_MUT_NEG']['COUNT'].sum()\n",
    "    total = me_pos_mut_pos + me_pos_mut_neg + me_neg_mut_pos + me_neg_mut_neg\n",
    "    \n",
    "    # Mutated CpG\n",
    "    mut_mepos = me_pos_mut_pos / (me_pos_mut_pos + me_pos_mut_neg)\n",
    "    mut_meneg = me_neg_mut_pos / (me_neg_mut_pos + me_neg_mut_neg)\n",
    "    mutations_data[ctype]['mut_mepos'] = (me_pos_mut_pos, mut_mepos)\n",
    "    mutations_data[ctype]['mut_meneg'] = (me_neg_mut_pos, mut_meneg)\n",
    "    \n",
    "    # Methylation\n",
    "    mutations_data[ctype]['methylated'] = ( me_pos_mut_pos + me_pos_mut_neg, (me_pos_mut_pos + me_pos_mut_neg) / total) \n",
    "    mutations_data[ctype]['unmethylated'] = ( me_neg_mut_pos + me_neg_mut_neg, (me_neg_mut_pos + me_neg_mut_neg) / total) \n",
    "\n",
    "    # OR\n",
    "    mutations_data[ctype]['pvalue'] = fisher_exact([[me_pos_mut_pos, me_neg_mut_pos], [me_pos_mut_neg, me_neg_mut_neg]], alternative='two-sided')[0]\n",
    "    mutations_data[ctype]['odds_ratio'] = (me_pos_mut_pos * me_neg_mut_neg) / (me_pos_mut_neg * me_neg_mut_pos)\n",
    "    mutations_data[ctype]['odds_ratio_error'] = odds_ratio_ci(me_pos_mut_pos, me_pos_mut_neg, me_neg_mut_pos, me_neg_mut_neg)\n",
    "    mutations_or[ctype] = (mutations_data[ctype]['odds_ratio'], mutations_data[ctype]['odds_ratio_error'])"
   ]
  },
  {
   "cell_type": "code",
   "execution_count": 13,
   "metadata": {
    "collapsed": true
   },
   "outputs": [],
   "source": [
    "hotspots_or = dict()\n",
    "hotspots_data = defaultdict(dict)\n",
    "for ctype in ctypes_to_run: \n",
    "    df = hotspots_dict[ctype]\n",
    "    me_pos_mut_pos = df.loc[df['TYPE'] == 'ME_POS_MUT_POS']['COUNT'].sum()\n",
    "    me_pos_mut_neg = df.loc[df['TYPE'] == 'ME_POS_MUT_NEG']['COUNT'].sum()\n",
    "    me_neg_mut_pos = df.loc[df['TYPE'] == 'ME_NEG_MUT_POS']['COUNT'].sum()\n",
    "    me_neg_mut_neg = df.loc[df['TYPE'] == 'ME_NEG_MUT_NEG']['COUNT'].sum()\n",
    "    total = me_pos_mut_pos + me_pos_mut_neg + me_neg_mut_pos + me_neg_mut_neg\n",
    "\n",
    "    # Mutated CpG\n",
    "    mut_mepos = me_pos_mut_pos / (me_pos_mut_pos + me_pos_mut_neg)\n",
    "    mut_meneg = me_neg_mut_pos / (me_neg_mut_pos + me_neg_mut_neg)\n",
    "    hotspots_data[ctype]['mut_mepos'] = (me_pos_mut_pos, mut_mepos)\n",
    "    hotspots_data[ctype]['mut_meneg'] = (me_neg_mut_pos, mut_meneg)\n",
    "    \n",
    "    # Methylation\n",
    "    hotspots_data[ctype]['methylated'] = ( me_pos_mut_pos + me_pos_mut_neg, (me_pos_mut_pos + me_pos_mut_neg) / total) \n",
    "    hotspots_data[ctype]['unmethylated'] = ( me_neg_mut_pos + me_neg_mut_neg, (me_neg_mut_pos + me_neg_mut_neg) / total) \n",
    "    \n",
    "    hotspots_data[ctype]['pvalue'] = fisher_exact([[me_pos_mut_pos, me_neg_mut_pos], [me_pos_mut_neg, me_neg_mut_neg]], alternative='two-sided')[0]\n",
    "    hotspots_data[ctype]['odds_ratio'] = (me_pos_mut_pos * me_neg_mut_neg) / (me_pos_mut_neg * me_neg_mut_pos)\n",
    "    hotspots_data[ctype]['odds_ratio_error'] = odds_ratio_ci(me_pos_mut_pos, me_pos_mut_neg, me_neg_mut_pos, me_neg_mut_neg)\n",
    "    hotspots_or[ctype] = (hotspots_data[ctype]['odds_ratio'], hotspots_data[ctype]['odds_ratio_error'])"
   ]
  },
  {
   "cell_type": "markdown",
   "metadata": {},
   "source": [
    "## Panel 5C"
   ]
  },
  {
   "cell_type": "code",
   "execution_count": 14,
   "metadata": {},
   "outputs": [
    {
     "data": {
      "image/png": "[encoded data removed]",
      "text/plain": [
       "<Figure size 72x14.4 with 1 Axes>"
      ]
     },
     "metadata": {
      "needs_background": "light"
     },
     "output_type": "display_data"
    },
    {
     "data": {
      "image/png": "[encoded data removed]",
      "text/plain": [
       "<Figure size 72x14.4 with 1 Axes>"
      ]
     },
     "metadata": {
      "needs_background": "light"
     },
     "output_type": "display_data"
    },
    {
     "data": {
      "image/png": "[encoded data removed]",
      "text/plain": [
       "<Figure size 72x14.4 with 1 Axes>"
      ]
     },
     "metadata": {
      "needs_background": "light"
     },
     "output_type": "display_data"
    }
   ],
   "source": [
    "data = mutations_data\n",
    "\n",
    "for ctype in ctypes_to_run: \n",
    "\n",
    "    fig = plt.figure(figsize=(1, 0.2))\n",
    "    ax = plt.subplot2grid((1, 1), (0, 0))\n",
    "\n",
    "    ax.set_xlabel(f'Total CpGs {tissue_d[ctype]} (%)', fontsize=6)\n",
    "    \n",
    "    methylated = 100 * data[ctype]['methylated'][1]\n",
    "    unmethylated = 100 * data[ctype]['unmethylated'][1]\n",
    "\n",
    "    plt.barh(y=1, left=0, width=methylated, align='center', alpha=1, color=colors_d['methylated'], height=0.8)\n",
    "    plt.barh(y=1, left=methylated, width=unmethylated, align='center', alpha=1, color=colors_d['unmethylated'],  height=0.8)\n",
    "\n",
    "    ax.set_yticklabels([], fontsize=5, rotation=0)\n",
    "    ax.tick_params(axis='y', which='major', pad=2)\n",
    "    ax.set_xlim(-1, 100)\n",
    "    ax.set_xticks([0, 25, 50, 75, 100])\n",
    "    ax.set_xticklabels([0, 25, 50, 75, 100], fontsize=5)\n",
    "\n",
    "    ax.spines['left'].set(lw=0.5)\n",
    "    ax.spines['bottom'].set(lw=0.5)\n",
    "    ax.spines['right'].set_visible(False)\n",
    "    ax.spines['top'].set_visible(False)\n",
    "    ax.xaxis.set_tick_params(width=0.5)\n",
    "    ax.yaxis.set_tick_params(width=0)\n",
    "\n",
    "    for extension in ['png']: \n",
    "        output = f'./fig_5C_{ctype}.{extension}'\n",
    "        plt.savefig(output, bbox_inches='tight', dpi=350)"
   ]
  },
  {
   "cell_type": "markdown",
   "metadata": {},
   "source": [
    "## Panel 5D"
   ]
  },
  {
   "cell_type": "code",
   "execution_count": 15,
   "metadata": {
    "collapsed": true
   },
   "outputs": [],
   "source": [
    "data = mutations_data"
   ]
  },
  {
   "cell_type": "code",
   "execution_count": 16,
   "metadata": {},
   "outputs": [
    {
     "data": {
      "image/png": "[encoded data removed]",
      "text/plain": [
       "<Figure size 54x90 with 1 Axes>"
      ]
     },
     "metadata": {
      "needs_background": "light"
     },
     "output_type": "display_data"
    },
    {
     "data": {
      "image/png": "[encoded data removed]",
      "text/plain": [
       "<Figure size 54x90 with 1 Axes>"
      ]
     },
     "metadata": {
      "needs_background": "light"
     },
     "output_type": "display_data"
    },
    {
     "data": {
      "image/png": "[encoded data removed]",
      "text/plain": [
       "<Figure size 54x90 with 1 Axes>"
      ]
     },
     "metadata": {
      "needs_background": "light"
     },
     "output_type": "display_data"
    }
   ],
   "source": [
    "for ctype in ctypes_to_run: \n",
    "    \n",
    "    odds_ratio, ci = mutations_or[ctype]\n",
    "    \n",
    "    fig = plt.figure(figsize=(0.75, 1.25))\n",
    "    ax = plt.subplot2grid((1, 1), (0, 0))\n",
    "    plt.title(f'SBS1 mutations\\n{ctype}\\nOR={round(odds_ratio, 2)} ({round(ci[0], 2)}-{round(ci[1], 2)})', fontsize=6)\n",
    "\n",
    "    # Load data\n",
    "    y_data = dict()\n",
    "    y_data['methylated'] = 100 * data[ctype]['mut_mepos'][1]\n",
    "    y_data['unmethylated'] = 100 * data[ctype]['mut_meneg'][1]\n",
    "    c = [colors_d[t] for t in ['methylated', 'unmethylated']]\n",
    "\n",
    "    ax.bar(range(2), [y_data['methylated'], y_data['unmethylated']], width=0.6, bottom=None, color=c, align='center', alpha=1, lw=0)\n",
    "    \n",
    "    if ctype == 'COADREAD': \n",
    "        ax.set_ylim(0, 2)\n",
    "        ax.set_yticks([0, 1, 2, 3])\n",
    "        ax.set_yticklabels([0, 1, 2, 3], fontsize=5)\n",
    "    elif ctype == 'ESOPHA_STOMACH': \n",
    "        ax.set_ylim(0, 1)\n",
    "        ax.set_yticks([0, 0.5, 1])\n",
    "        ax.set_yticklabels([0, 0.5, 1], fontsize=5)\n",
    "    else: \n",
    "        ax.set_ylim(0, 0.5)\n",
    "        ax.set_yticks([0, 0.25, 0.5])\n",
    "        ax.set_yticklabels([0, 0.25, 0.5], fontsize=5)\n",
    "        \n",
    "    ax.set_ylabel('Mutated CpGs / total CpGs (%)', fontsize=6)\n",
    "    ax.set_xlim(-0.5, 1.5)\n",
    "    ax.set_xticks([0, 1])\n",
    "    ax.set_xticklabels([f\"Methylated\", f\"Unmethylated\"], fontsize=6, rotation=45, ha='right', va='top')\n",
    "    ax.tick_params(axis='x', which='major', pad=0)\n",
    "    ax.spines['left'].set(lw=0.5)\n",
    "    ax.spines['bottom'].set(lw=0.5)\n",
    "    ax.spines['right'].set_visible(False)\n",
    "    ax.spines['top'].set_visible(False)\n",
    "    ax.xaxis.set_tick_params(width=0.5)\n",
    "    ax.yaxis.set_tick_params(width=0.5, pad=1)\n",
    "    \n",
    "    for extension in ['png']: \n",
    "        output = f'./fig_5D_{ctype}.{extension}'\n",
    "        plt.savefig(output, bbox_inches='tight', dpi=350)"
   ]
  },
  {
   "cell_type": "markdown",
   "metadata": {},
   "source": [
    "## Panel 5E"
   ]
  },
  {
   "cell_type": "code",
   "execution_count": 17,
   "metadata": {
    "collapsed": true
   },
   "outputs": [],
   "source": [
    "data = hotspots_data"
   ]
  },
  {
   "cell_type": "code",
   "execution_count": 18,
   "metadata": {},
   "outputs": [
    {
     "data": {
      "image/png": "[encoded data removed]",
      "text/plain": [
       "<Figure size 61.2x90 with 1 Axes>"
      ]
     },
     "metadata": {
      "needs_background": "light"
     },
     "output_type": "display_data"
    },
    {
     "data": {
      "image/png": "[encoded data removed]",
      "text/plain": [
       "<Figure size 61.2x90 with 1 Axes>"
      ]
     },
     "metadata": {
      "needs_background": "light"
     },
     "output_type": "display_data"
    },
    {
     "data": {
      "image/png": "[encoded data removed]",
      "text/plain": [
       "<Figure size 61.2x90 with 1 Axes>"
      ]
     },
     "metadata": {
      "needs_background": "light"
     },
     "output_type": "display_data"
    }
   ],
   "source": [
    "for ctype in ctypes_to_run: \n",
    "    \n",
    "    odds_ratio, ci = hotspots_or[ctype]\n",
    "    \n",
    "    fig = plt.figure(figsize=(0.85, 1.25))\n",
    "    ax = plt.subplot2grid((1, 1), (0, 0))\n",
    "    plt.title(f'SBS1 hotspots\\n{ctype}\\nOR={round(odds_ratio, 2)} ({round(ci[0], 2)}-{round(ci[1], 2)})', fontsize=6)\n",
    "\n",
    "    # Load data\n",
    "    y_data = dict()\n",
    "    y_data['methylated'] = 100 * data[ctype]['mut_mepos'][1]\n",
    "    y_data['unmethylated'] = 100 * data[ctype]['mut_meneg'][1]\n",
    "    c = [colors_d[t] for t in ['methylated', 'unmethylated']]\n",
    "\n",
    "    ax.bar(range(2), [y_data['methylated'], y_data['unmethylated']], width=0.6, bottom=None, color=c, align='center', alpha=1, lw=0)\n",
    "    \n",
    "    if ctype == 'COADREAD': \n",
    "        ax.set_ylim(0, 0.1)\n",
    "        ax.set_yticks([0, 0.05, 0.1])\n",
    "        ax.set_yticklabels([0, 0.05, 0.1], fontsize=5)\n",
    "    elif ctype == 'ESOPHA_STOMACH': \n",
    "        ax.set_ylim(0, 0.012)\n",
    "        ax.set_yticks([0, 0.005, 0.01])\n",
    "        ax.set_yticklabels(['0', '5e-3', '1e-2'], fontsize=5)\n",
    "    else: \n",
    "        ax.set_ylim(0, 0.005)\n",
    "        ax.set_yticks([0, 0.0025, 0.005])\n",
    "        ax.set_yticklabels(['0', '2.5e-3', '5e-3'], fontsize=5)\n",
    "    \n",
    "    ax.set_ylabel('Hotspot mutated CpGs / total CpGs (%)', fontsize=6)\n",
    "    ax.set_xlim(-0.5, 1.5)\n",
    "    ax.set_xticks([0, 1])\n",
    "    ax.set_xticklabels([f\"Methylated\", f\"Unmethylated\"], fontsize=6, rotation=45, ha='right', va='top')\n",
    "    ax.tick_params(axis='x', which='major', pad=0)\n",
    "\n",
    "    ax.spines['left'].set(lw=0.5)\n",
    "    ax.spines['bottom'].set(lw=0.5)\n",
    "    ax.spines['right'].set_visible(False)\n",
    "    ax.spines['top'].set_visible(False)\n",
    "    ax.xaxis.set_tick_params(width=0.5)\n",
    "    ax.yaxis.set_tick_params(width=0.5, pad=1)\n",
    "    \n",
    "    for extension in ['png']: \n",
    "        output = f'./fig_5E_{ctype}.{extension}'\n",
    "        plt.savefig(output, bbox_inches='tight', dpi=350)"
   ]
  },
  {
   "cell_type": "markdown",
   "metadata": {},
   "source": [
    "## Panel 5F"
   ]
  },
  {
   "cell_type": "code",
   "execution_count": 19,
   "metadata": {},
   "outputs": [
    {
     "data": {
      "image/png": "[encoded data removed]",
      "text/plain": [
       "<Figure size 54x36 with 1 Axes>"
      ]
     },
     "metadata": {
      "needs_background": "light"
     },
     "output_type": "display_data"
    },
    {
     "data": {
      "image/png": "[encoded data removed]",
      "text/plain": [
       "<Figure size 54x36 with 1 Axes>"
      ]
     },
     "metadata": {
      "needs_background": "light"
     },
     "output_type": "display_data"
    },
    {
     "data": {
      "image/png": "[encoded data removed]",
      "text/plain": [
       "<Figure size 54x36 with 1 Axes>"
      ]
     },
     "metadata": {
      "needs_background": "light"
     },
     "output_type": "display_data"
    }
   ],
   "source": [
    "for ctype in ctypes_to_run: \n",
    "\n",
    "    fig = plt.figure(figsize=(0.75, 0.5))\n",
    "    ax = plt.subplot2grid((1, 1), (0, 0))\n",
    "    plt.title(f'SBS1 {ctype}\\nOR (methylated vs unmethylated)', fontsize=6)\n",
    "    ax.set_xlabel('Odds ratio', fontsize=6)\n",
    "\n",
    "    # Mutations\n",
    "    i = 0\n",
    "    odds_ratio, ci = mutations_or[ctype]\n",
    "    ax.scatter(odds_ratio, i, color='white', marker='o', s=8, lw=0.5, edgecolor='#1e79baff', zorder=1)\n",
    "    ax.plot([ci[0], ci[1]], [i, i], ls='-', lw=0.5, c='grey', zorder=2)\n",
    "    \n",
    "    # Hotspots\n",
    "    i = 1\n",
    "    odds_ratio, ci = hotspots_or[ctype]\n",
    "    ax.scatter(odds_ratio, i, color='white', marker='o', s=8, lw=0.5, edgecolor='#1e79baff', zorder=1)\n",
    "    ax.plot([ci[0], ci[1]], [i, i], ls='-', lw=0.5, c='grey', zorder=2)\n",
    "\n",
    "    ax.set_ylim(-0.5, 1.5)\n",
    "    ax.set_yticks([0, 1])\n",
    "    ax.set_yticklabels(['Mutation', 'Hotspot'], fontsize=6)\n",
    "    ax.axvline(x=1, color='grey', ls='--', lw=0.5)\n",
    "    \n",
    "    if ctype == 'COADREAD': \n",
    "        ax.set_xlim(0, 10.5)\n",
    "        ax.set_xticks([0, 1, 2.5, 5, 7.5, 10])\n",
    "        ax.set_xticklabels([0, 1, 2.5, 5, 7.5, 10], fontsize=5, rotation=0, ha='center')\n",
    "        \n",
    "    elif ctype == 'ESOPHA_STOMACH': \n",
    "        ax.set_xlim(0, 7.5)\n",
    "        ax.set_xticks([0, 1, 2.5, 5, 7.5])\n",
    "        ax.set_xticklabels([0, 1, 2.5, 5, 7.5], fontsize=5, rotation=0, ha='center')\n",
    "    \n",
    "    elif ctype == 'NSCLC': \n",
    "        ax.set_xlim(0, 4)\n",
    "        ax.set_xticks([0, 1, 2, 3, 4])\n",
    "        ax.set_xticklabels([0, 1, 2, 3, 4], fontsize=5, rotation=0, ha='center')\n",
    "\n",
    "    ax.spines['left'].set(lw=0.5)\n",
    "    ax.spines['bottom'].set(lw=0.5)\n",
    "    ax.spines['right'].set_visible(False)\n",
    "    ax.spines['top'].set_visible(False)\n",
    "    ax.xaxis.set_tick_params(width=0.5)\n",
    "    ax.yaxis.set_tick_params(width=0.5)\n",
    "    \n",
    "    for extension in ['png']: \n",
    "        output = f'./fig_5F_{ctype}.{extension}'\n",
    "        plt.savefig(output, bbox_inches='tight', dpi=350)"
   ]
  },
  {
   "cell_type": "code",
   "execution_count": null,
   "metadata": {
    "collapsed": true
   },
   "outputs": [],
   "source": []
  }
 ],
 "metadata": {
  "kernelspec": {
   "display_name": "Python [conda env:hotspot_propensity]",
   "language": "python",
   "name": "conda-env-hotspot_propensity-py"
  },
  "language_info": {
   "codemirror_mode": {
    "name": "ipython",
    "version": 3
   },
   "file_extension": ".py",
   "mimetype": "text/x-python",
   "name": "python",
   "nbconvert_exporter": "python",
   "pygments_lexer": "ipython3",
   "version": "3.6.13"
  }
 },
 "nbformat": 4,
 "nbformat_minor": 2
}
