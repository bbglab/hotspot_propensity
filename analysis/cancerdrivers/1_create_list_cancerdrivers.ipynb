{
 "cells": [
  {
   "cell_type": "markdown",
   "metadata": {},
   "source": [
    "# Create a list of cancer driver genes"
   ]
  },
  {
   "cell_type": "markdown",
   "metadata": {},
   "source": [
    "The list of driver genes \"cancergenes.txt\" is obtained by merging IntOGen and COSMIC Cancer Gene Census cancer driver genes (except fusion partner genes).  "
   ]
  },
  {
   "cell_type": "code",
   "execution_count": 1,
   "metadata": {
    "collapsed": true
   },
   "outputs": [],
   "source": [
    "import os\n",
    "\n",
    "import pandas as pd"
   ]
  },
  {
   "cell_type": "code",
   "execution_count": 2,
   "metadata": {
    "collapsed": true
   },
   "outputs": [],
   "source": [
    "main_dir = ''"
   ]
  },
  {
   "cell_type": "code",
   "execution_count": 3,
   "metadata": {
    "collapsed": true
   },
   "outputs": [],
   "source": [
    "output_f = os.path.join(main_dir, 'data', 'cancerdrivers.txt')"
   ]
  },
  {
   "cell_type": "code",
   "execution_count": 4,
   "metadata": {
    "collapsed": true
   },
   "outputs": [],
   "source": [
    "driver_genes = set()"
   ]
  },
  {
   "cell_type": "markdown",
   "metadata": {},
   "source": [
    "#### Load Gene IDs"
   ]
  },
  {
   "cell_type": "code",
   "execution_count": 5,
   "metadata": {
    "collapsed": true
   },
   "outputs": [],
   "source": [
    "geneid_d = {}\n",
    "geneid_f = os.path.join(main_dir, 'data', 'Ensembl_v104_geneids_2021_08_24.txt') \n",
    "with open(geneid_f, 'r') as fd: \n",
    "    next(fd)\n",
    "    for line in fd: \n",
    "        if len(line.strip().split('\\t')) == 4:     # some genes do not have symbol\n",
    "            geneid, _, _, symbol = line.strip().split('\\t')\n",
    "            geneid_d[symbol] = geneid"
   ]
  },
  {
   "cell_type": "code",
   "execution_count": 6,
   "metadata": {},
   "outputs": [
    {
     "name": "stdout",
     "output_type": "stream",
     "text": [
      "CARS CARS1\n",
      "FAM46C TENT5C\n",
      "H3F3A H3-3A\n",
      "H3F3B H3-3B\n",
      "HIST1H3B H3C2\n",
      "HIST1H4I H4C9\n",
      "SEPT9 SEPTIN9\n"
     ]
    }
   ],
   "source": [
    "# Add those that have changed their names in the latest Ensembl version\n",
    "synonyms_d = {}\n",
    "with open(os.path.join(main_dir, 'data', 'failed_genes_synonyms.txt'), 'r') as fd: \n",
    "    for line in fd: \n",
    "        old_name, new_name, ensid = line.strip().split('\\t')\n",
    "        synonyms_d[old_name] = new_name\n",
    "        geneid_d[new_name] = ensid\n",
    "        print(old_name, new_name)"
   ]
  },
  {
   "cell_type": "markdown",
   "metadata": {},
   "source": [
    "#### Read CGC and remove fussion partners"
   ]
  },
  {
   "cell_type": "code",
   "execution_count": 7,
   "metadata": {
    "collapsed": true
   },
   "outputs": [],
   "source": [
    "cgc_f = os.path.join(main_dir, 'data', 'Census_all_Tue_Aug_24_08_2021.tsv')\n",
    "cgc_df = pd.read_csv(cgc_f, sep='\\t', header=0)"
   ]
  },
  {
   "cell_type": "code",
   "execution_count": 8,
   "metadata": {},
   "outputs": [
    {
     "data": {
      "text/plain": [
       "723"
      ]
     },
     "execution_count": 8,
     "metadata": {},
     "output_type": "execute_result"
    }
   ],
   "source": [
    "len(cgc_df)"
   ]
  },
  {
   "cell_type": "code",
   "execution_count": 9,
   "metadata": {},
   "outputs": [
    {
     "data": {
      "text/html": [
       "<div>\n",
       "<style scoped>\n",
       "    .dataframe tbody tr th:only-of-type {\n",
       "        vertical-align: middle;\n",
       "    }\n",
       "\n",
       "    .dataframe tbody tr th {\n",
       "        vertical-align: top;\n",
       "    }\n",
       "\n",
       "    .dataframe thead th {\n",
       "        text-align: right;\n",
       "    }\n",
       "</style>\n",
       "<table border=\"1\" class=\"dataframe\">\n",
       "  <thead>\n",
       "    <tr style=\"text-align: right;\">\n",
       "      <th></th>\n",
       "      <th>Gene Symbol</th>\n",
       "      <th>Name</th>\n",
       "      <th>Entrez GeneId</th>\n",
       "      <th>Genome Location</th>\n",
       "      <th>Tier</th>\n",
       "      <th>Hallmark</th>\n",
       "      <th>Chr Band</th>\n",
       "      <th>Somatic</th>\n",
       "      <th>Germline</th>\n",
       "      <th>Tumour Types(Somatic)</th>\n",
       "      <th>Tumour Types(Germline)</th>\n",
       "      <th>Cancer Syndrome</th>\n",
       "      <th>Tissue Type</th>\n",
       "      <th>Molecular Genetics</th>\n",
       "      <th>Role in Cancer</th>\n",
       "      <th>Mutation Types</th>\n",
       "      <th>Translocation Partner</th>\n",
       "      <th>Other Germline Mut</th>\n",
       "      <th>Other Syndrome</th>\n",
       "      <th>Synonyms</th>\n",
       "    </tr>\n",
       "  </thead>\n",
       "  <tbody>\n",
       "    <tr>\n",
       "      <th>0</th>\n",
       "      <td>A1CF</td>\n",
       "      <td>APOBEC1 complementation factor</td>\n",
       "      <td>29974.0</td>\n",
       "      <td>10:50799421-50885675</td>\n",
       "      <td>2</td>\n",
       "      <td>NaN</td>\n",
       "      <td>11.23</td>\n",
       "      <td>yes</td>\n",
       "      <td>NaN</td>\n",
       "      <td>melanoma</td>\n",
       "      <td>NaN</td>\n",
       "      <td>NaN</td>\n",
       "      <td>E</td>\n",
       "      <td>NaN</td>\n",
       "      <td>oncogene</td>\n",
       "      <td>Mis</td>\n",
       "      <td>NaN</td>\n",
       "      <td>NaN</td>\n",
       "      <td>NaN</td>\n",
       "      <td>29974,A1CF,ACF,ACF64,ACF65,APOBEC1CF,ASP,ENSG0...</td>\n",
       "    </tr>\n",
       "    <tr>\n",
       "      <th>1</th>\n",
       "      <td>ABI1</td>\n",
       "      <td>abl-interactor 1</td>\n",
       "      <td>10006.0</td>\n",
       "      <td>10:26746593-26860935</td>\n",
       "      <td>1</td>\n",
       "      <td>Yes</td>\n",
       "      <td>12.10</td>\n",
       "      <td>yes</td>\n",
       "      <td>NaN</td>\n",
       "      <td>AML</td>\n",
       "      <td>NaN</td>\n",
       "      <td>NaN</td>\n",
       "      <td>L</td>\n",
       "      <td>Dom</td>\n",
       "      <td>TSG, fusion</td>\n",
       "      <td>T</td>\n",
       "      <td>KMT2A</td>\n",
       "      <td>NaN</td>\n",
       "      <td>NaN</td>\n",
       "      <td>10006,ABI-1,ABI1,E3B1,ENSG00000136754.17,Q8IZP...</td>\n",
       "    </tr>\n",
       "    <tr>\n",
       "      <th>2</th>\n",
       "      <td>ABL1</td>\n",
       "      <td>v-abl Abelson murine leukemia viral oncogene h...</td>\n",
       "      <td>25.0</td>\n",
       "      <td>9:130713946-130885683</td>\n",
       "      <td>1</td>\n",
       "      <td>Yes</td>\n",
       "      <td>34.12</td>\n",
       "      <td>yes</td>\n",
       "      <td>NaN</td>\n",
       "      <td>CML, ALL, T-ALL</td>\n",
       "      <td>NaN</td>\n",
       "      <td>NaN</td>\n",
       "      <td>L</td>\n",
       "      <td>Dom</td>\n",
       "      <td>oncogene, fusion</td>\n",
       "      <td>T, Mis</td>\n",
       "      <td>BCR, ETV6, NUP214</td>\n",
       "      <td>NaN</td>\n",
       "      <td>NaN</td>\n",
       "      <td>25,ABL,ABL1,ENSG00000097007.17,JTK7,P00519,c-A...</td>\n",
       "    </tr>\n",
       "    <tr>\n",
       "      <th>3</th>\n",
       "      <td>ABL2</td>\n",
       "      <td>c-abl oncogene 2, non-receptor tyrosine kinase</td>\n",
       "      <td>27.0</td>\n",
       "      <td>1:179099327-179229601</td>\n",
       "      <td>1</td>\n",
       "      <td>NaN</td>\n",
       "      <td>25.20</td>\n",
       "      <td>yes</td>\n",
       "      <td>NaN</td>\n",
       "      <td>AML</td>\n",
       "      <td>NaN</td>\n",
       "      <td>NaN</td>\n",
       "      <td>L</td>\n",
       "      <td>Dom</td>\n",
       "      <td>oncogene, fusion</td>\n",
       "      <td>T</td>\n",
       "      <td>ETV6</td>\n",
       "      <td>NaN</td>\n",
       "      <td>NaN</td>\n",
       "      <td>27,ABL2,ABLL,ARG,ENSG00000143322.19,P42684</td>\n",
       "    </tr>\n",
       "    <tr>\n",
       "      <th>4</th>\n",
       "      <td>ACKR3</td>\n",
       "      <td>atypical chemokine receptor 3</td>\n",
       "      <td>57007.0</td>\n",
       "      <td>2:236569641-236582358</td>\n",
       "      <td>1</td>\n",
       "      <td>Yes</td>\n",
       "      <td>37.30</td>\n",
       "      <td>yes</td>\n",
       "      <td>NaN</td>\n",
       "      <td>lipoma</td>\n",
       "      <td>NaN</td>\n",
       "      <td>NaN</td>\n",
       "      <td>M</td>\n",
       "      <td>Dom</td>\n",
       "      <td>oncogene, fusion</td>\n",
       "      <td>T</td>\n",
       "      <td>HMGA2</td>\n",
       "      <td>NaN</td>\n",
       "      <td>NaN</td>\n",
       "      <td>57007,ACKR3,CMKOR1,CXCR7,ENSG00000144476.5,GPR...</td>\n",
       "    </tr>\n",
       "  </tbody>\n",
       "</table>\n",
       "</div>"
      ],
      "text/plain": [
       "  Gene Symbol                                               Name  \\\n",
       "0        A1CF                     APOBEC1 complementation factor   \n",
       "1        ABI1                                   abl-interactor 1   \n",
       "2        ABL1  v-abl Abelson murine leukemia viral oncogene h...   \n",
       "3        ABL2     c-abl oncogene 2, non-receptor tyrosine kinase   \n",
       "4       ACKR3                      atypical chemokine receptor 3   \n",
       "\n",
       "   Entrez GeneId        Genome Location  Tier Hallmark  Chr Band Somatic  \\\n",
       "0        29974.0   10:50799421-50885675     2      NaN     11.23     yes   \n",
       "1        10006.0   10:26746593-26860935     1      Yes     12.10     yes   \n",
       "2           25.0  9:130713946-130885683     1      Yes     34.12     yes   \n",
       "3           27.0  1:179099327-179229601     1      NaN     25.20     yes   \n",
       "4        57007.0  2:236569641-236582358     1      Yes     37.30     yes   \n",
       "\n",
       "  Germline Tumour Types(Somatic) Tumour Types(Germline) Cancer Syndrome  \\\n",
       "0      NaN              melanoma                    NaN             NaN   \n",
       "1      NaN                   AML                    NaN             NaN   \n",
       "2      NaN       CML, ALL, T-ALL                    NaN             NaN   \n",
       "3      NaN                   AML                    NaN             NaN   \n",
       "4      NaN                lipoma                    NaN             NaN   \n",
       "\n",
       "  Tissue Type Molecular Genetics    Role in Cancer Mutation Types  \\\n",
       "0           E                NaN          oncogene            Mis   \n",
       "1           L                Dom       TSG, fusion              T   \n",
       "2           L                Dom  oncogene, fusion         T, Mis   \n",
       "3           L                Dom  oncogene, fusion              T   \n",
       "4           M                Dom  oncogene, fusion              T   \n",
       "\n",
       "  Translocation Partner Other Germline Mut Other Syndrome  \\\n",
       "0                   NaN                NaN            NaN   \n",
       "1                 KMT2A                NaN            NaN   \n",
       "2     BCR, ETV6, NUP214                NaN            NaN   \n",
       "3                  ETV6                NaN            NaN   \n",
       "4                 HMGA2                NaN            NaN   \n",
       "\n",
       "                                            Synonyms  \n",
       "0  29974,A1CF,ACF,ACF64,ACF65,APOBEC1CF,ASP,ENSG0...  \n",
       "1  10006,ABI-1,ABI1,E3B1,ENSG00000136754.17,Q8IZP...  \n",
       "2  25,ABL,ABL1,ENSG00000097007.17,JTK7,P00519,c-A...  \n",
       "3         27,ABL2,ABLL,ARG,ENSG00000143322.19,P42684  \n",
       "4  57007,ACKR3,CMKOR1,CXCR7,ENSG00000144476.5,GPR...  "
      ]
     },
     "execution_count": 9,
     "metadata": {},
     "output_type": "execute_result"
    }
   ],
   "source": [
    "cgc_df.head()"
   ]
  },
  {
   "cell_type": "code",
   "execution_count": 10,
   "metadata": {},
   "outputs": [
    {
     "data": {
      "text/plain": [
       "array(['oncogene', 'TSG, fusion', 'oncogene, fusion', 'fusion', 'TSG',\n",
       "       nan, 'oncogene, TSG', 'oncogene, TSG, fusion'], dtype=object)"
      ]
     },
     "execution_count": 10,
     "metadata": {},
     "output_type": "execute_result"
    }
   ],
   "source": [
    "cgc_df['Role in Cancer'].unique()"
   ]
  },
  {
   "cell_type": "code",
   "execution_count": 11,
   "metadata": {
    "collapsed": true
   },
   "outputs": [],
   "source": [
    "for symbol, data in cgc_df.loc[cgc_df['Role in Cancer'] != 'fusion'].groupby('Gene Symbol'): \n",
    "    if symbol in geneid_d.keys(): \n",
    "        driver_genes.add((geneid_d[symbol], symbol))\n",
    "    else:\n",
    "        symbol = synonyms_d[symbol]\n",
    "        driver_genes.add((geneid_d[symbol], symbol))"
   ]
  },
  {
   "cell_type": "code",
   "execution_count": 12,
   "metadata": {},
   "outputs": [
    {
     "data": {
      "text/plain": [
       "589"
      ]
     },
     "execution_count": 12,
     "metadata": {},
     "output_type": "execute_result"
    }
   ],
   "source": [
    "len(driver_genes)"
   ]
  },
  {
   "cell_type": "markdown",
   "metadata": {},
   "source": [
    "#### Read IntOGen"
   ]
  },
  {
   "cell_type": "code",
   "execution_count": 13,
   "metadata": {
    "collapsed": true
   },
   "outputs": [],
   "source": [
    "intogen_f = os.path.join(main_dir, 'data', 'Compendium_Cancer_Genes.tsv')\n",
    "intogen_df = pd.read_csv(intogen_f, sep='\\t', header=0)"
   ]
  },
  {
   "cell_type": "code",
   "execution_count": 14,
   "metadata": {},
   "outputs": [
    {
     "data": {
      "text/plain": [
       "568"
      ]
     },
     "execution_count": 14,
     "metadata": {},
     "output_type": "execute_result"
    }
   ],
   "source": [
    "len(intogen_df['SYMBOL'].unique())"
   ]
  },
  {
   "cell_type": "code",
   "execution_count": 15,
   "metadata": {
    "collapsed": true
   },
   "outputs": [],
   "source": [
    "for symbol in intogen_df['SYMBOL']: \n",
    "    if symbol in geneid_d.keys(): \n",
    "        driver_genes.add((geneid_d[symbol], symbol))\n",
    "    else: \n",
    "        symbol = synonyms_d[symbol]\n",
    "        driver_genes.add((geneid_d[symbol], symbol))"
   ]
  },
  {
   "cell_type": "code",
   "execution_count": 16,
   "metadata": {},
   "outputs": [
    {
     "data": {
      "text/plain": [
       "782"
      ]
     },
     "execution_count": 16,
     "metadata": {},
     "output_type": "execute_result"
    }
   ],
   "source": [
    "len(driver_genes)"
   ]
  },
  {
   "cell_type": "markdown",
   "metadata": {},
   "source": [
    "#### Save"
   ]
  },
  {
   "cell_type": "code",
   "execution_count": 17,
   "metadata": {
    "collapsed": true
   },
   "outputs": [],
   "source": [
    "with open(output_f, 'w') as ofd: \n",
    "    ofd.write('{}\\n'.format('\\t'.join(['ID', 'SYMBOL'])))\n",
    "    for symbol, geneid in driver_genes: \n",
    "        ofd.write('{}\\n'.format('\\t'.join([symbol, geneid])))"
   ]
  }
 ],
 "metadata": {
  "kernelspec": {
   "display_name": "Python [conda env:hotspots_framework]",
   "language": "python",
   "name": "conda-env-hotspots_framework-py"
  },
  "language_info": {
   "codemirror_mode": {
    "name": "ipython",
    "version": 3
   },
   "file_extension": ".py",
   "mimetype": "text/x-python",
   "name": "python",
   "nbconvert_exporter": "python",
   "pygments_lexer": "ipython3",
   "version": "3.6.10"
  }
 },
 "nbformat": 4,
 "nbformat_minor": 2
}
