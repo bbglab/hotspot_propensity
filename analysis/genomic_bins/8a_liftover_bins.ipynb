{
 "cells": [
  {
   "cell_type": "markdown",
   "metadata": {},
   "source": [
    "# Liftover hg38 bins to hg19"
   ]
  },
  {
   "cell_type": "markdown",
   "metadata": {},
   "source": [
    "Data from large-scale covariates is in hg19. We will liftover 1 Mbp coordinate bins from hg38 to hg19"
   ]
  },
  {
   "cell_type": "code",
   "execution_count": 1,
   "metadata": {
    "collapsed": true
   },
   "outputs": [],
   "source": [
    "from pyliftover import LiftOver\n",
    "lo = LiftOver('hg38', 'hg19')"
   ]
  },
  {
   "cell_type": "code",
   "execution_count": 2,
   "metadata": {
    "collapsed": true
   },
   "outputs": [],
   "source": [
    "main_dir = ''"
   ]
  },
  {
   "cell_type": "code",
   "execution_count": 21,
   "metadata": {},
   "outputs": [
    {
     "name": "stdout",
     "output_type": "stream",
     "text": [
      "chr11:70000000-71000000\n",
      "chr11:87000000-88000000\n",
      "chr16:0-1000000\n",
      "chr18:0-1000000\n",
      "chr18:46000000-47000000\n",
      "chr1:205000000-206000000\n",
      "chr20:0-1000000\n",
      "chr2:0-1000000\n",
      "chr3:0-1000000\n",
      "chr6:169000000-170000000\n",
      "chr6:94000000-95000000\n",
      "chr6:95000000-96000000\n",
      "chr7:0-1000000\n"
     ]
    }
   ],
   "source": [
    "for bin_size in [1000000]: \n",
    "    bins_f = f'{main_dir}/genomic_bins/data/hg38_{int(bin_size/1000)}kb_bin.nodrivers.filtered.mappable_positions.autosomes.binids.txt'\n",
    "    bins_out_f = f'{main_dir}/genomic_bins/data/hg38_{int(bin_size/1000)}kb_bin_liftover_hg19.nodrivers.filtered.mappable_positions.autosomes.binids.txt'\n",
    "    \n",
    "    with open(bins_out_f, 'w') as ofd: \n",
    "        ofd.write('{}\\n'.format('\\t'.join(['CHR', 'START', 'END', 'BINID'])))\n",
    "        with open(bins_f, 'r') as fd: \n",
    "            next(fd)\n",
    "            for line in fd: \n",
    "                binid = line.strip()\n",
    "                chrom, start_end = binid.split(':')\n",
    "                start, end = start_end.split('-')\n",
    "                hg19_start = lo.convert_coordinate(chrom, int(start))\n",
    "                hg19_end = lo.convert_coordinate(chrom, int(end))\n",
    "\n",
    "                if not hg19_start or not hg19_end: \n",
    "                    print(binid)\n",
    "                else: \n",
    "                    ofd.write('{}\\n'.format('\\t'.join([chrom, str(hg19_start[0][1]), str(hg19_end[0][1]), binid])))"
   ]
  }
 ],
 "metadata": {
  "kernelspec": {
   "display_name": "Python [conda env:hotspots_framework]",
   "language": "python",
   "name": "conda-env-hotspots_framework-py"
  },
  "language_info": {
   "codemirror_mode": {
    "name": "ipython",
    "version": 3
   },
   "file_extension": ".py",
   "mimetype": "text/x-python",
   "name": "python",
   "nbconvert_exporter": "python",
   "pygments_lexer": "ipython3",
   "version": "3.6.10"
  }
 },
 "nbformat": 4,
 "nbformat_minor": 2
}
