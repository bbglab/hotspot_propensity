{
 "cells": [
  {
   "cell_type": "markdown",
   "metadata": {},
   "source": [
    "# Hotspot propensity panels Fig 2C-F"
   ]
  },
  {
   "cell_type": "code",
   "execution_count": 1,
   "metadata": {
    "collapsed": true
   },
   "outputs": [],
   "source": [
    "from collections import defaultdict\n",
    "import re \n",
    "\n",
    "import matplotlib\n",
    "import matplotlib.pyplot as plt\n",
    "from matplotlib import rcParams\n",
    "import numpy as np\n",
    "import pandas as pd\n",
    "from scipy.stats import iqr as iqr"
   ]
  },
  {
   "cell_type": "code",
   "execution_count": 2,
   "metadata": {
    "collapsed": true
   },
   "outputs": [],
   "source": [
    "rcParams['font.family'] = 'sans-serif'\n",
    "rcParams['font.sans-serif'] = ['Arial']"
   ]
  },
  {
   "cell_type": "code",
   "execution_count": 3,
   "metadata": {
    "collapsed": true
   },
   "outputs": [],
   "source": [
    "data_dir = './data'"
   ]
  },
  {
   "cell_type": "code",
   "execution_count": 4,
   "metadata": {
    "collapsed": true
   },
   "outputs": [],
   "source": [
    "sigs_color = {\n",
    " 'SBS1': '#1e79baff',\n",
    " 'SBS10c': '#8d8d8dff',\n",
    " 'SBS12': '#b88100ff',\n",
    " 'SBS13': '#d62728ff',\n",
    " 'SBS16': '#e2ef75ff',\n",
    " 'SBS17a': '#ffbb78ff',\n",
    " 'SBS17b': '#ff8921ff',\n",
    " 'SBS18': '#9467bdff',\n",
    " 'SBS2': '#ff9896ff',\n",
    " 'SBS3': '#f6c200ff',\n",
    " 'SBS35': '#a4e6a4ff',\n",
    " 'SBS4': '#00a572ff',\n",
    " 'SBS40': '#afd6f2ff',\n",
    " 'SBS41': '#cd99ceff',\n",
    " 'SBS5': '#7ebdeaff',\n",
    " 'SBS7a': '#8c564bff',\n",
    " 'SBS7b': '#c49c94ff',\n",
    " 'SBS8': '#3dbe3dff',\n",
    " 'SBS85': '#db5a68ff',\n",
    " 'SBS88': '#b96a33ff',\n",
    " 'SBS92': '#94e5cdff',\n",
    " 'SBS93': '#c5b0d5ff',\n",
    " 'SBS94': '#ffe680ff', \n",
    " 'Other': '#d5d5d5ff',\n",
    "}"
   ]
  },
  {
   "cell_type": "code",
   "execution_count": 5,
   "metadata": {
    "collapsed": true
   },
   "outputs": [],
   "source": [
    "mutations_cutoffs = [100, 125, 150, 175, 200, 225, 250, 275, 300]"
   ]
  },
  {
   "cell_type": "markdown",
   "metadata": {},
   "source": [
    "### Load data\n",
    "\n",
    "This table contains the hotspot propensity calculations using 100 samples and 100-300 mutations per sample for 1000 iterations"
   ]
  },
  {
   "cell_type": "code",
   "execution_count": 6,
   "metadata": {
    "collapsed": true
   },
   "outputs": [],
   "source": [
    "input_f = f'{data_dir}/hotspot_propensity_1000iter_100samples_100-300muts.txt.gz'"
   ]
  },
  {
   "cell_type": "code",
   "execution_count": 7,
   "metadata": {},
   "outputs": [
    {
     "data": {
      "text/html": [
       "<div>\n",
       "<style scoped>\n",
       "    .dataframe tbody tr th:only-of-type {\n",
       "        vertical-align: middle;\n",
       "    }\n",
       "\n",
       "    .dataframe tbody tr th {\n",
       "        vertical-align: top;\n",
       "    }\n",
       "\n",
       "    .dataframe thead th {\n",
       "        text-align: right;\n",
       "    }\n",
       "</style>\n",
       "<table border=\"1\" class=\"dataframe\">\n",
       "  <thead>\n",
       "    <tr style=\"text-align: right;\">\n",
       "      <th></th>\n",
       "      <th>ITER</th>\n",
       "      <th>N_SAMPLES</th>\n",
       "      <th>TOTAL_HOTSPOTS</th>\n",
       "      <th>TOTAL_HOTSPOTS_UNIQPOS</th>\n",
       "      <th>TOTAL_MUTS</th>\n",
       "      <th>CTYPE</th>\n",
       "      <th>SIGNATURE</th>\n",
       "    </tr>\n",
       "  </thead>\n",
       "  <tbody>\n",
       "    <tr>\n",
       "      <th>0</th>\n",
       "      <td>BLADDER_URI_iter_0_SBS2</td>\n",
       "      <td>100</td>\n",
       "      <td>0</td>\n",
       "      <td>0</td>\n",
       "      <td>10000</td>\n",
       "      <td>BLADDER_URI</td>\n",
       "      <td>SBS2</td>\n",
       "    </tr>\n",
       "    <tr>\n",
       "      <th>1</th>\n",
       "      <td>BLADDER_URI_iter_1_SBS2</td>\n",
       "      <td>100</td>\n",
       "      <td>1</td>\n",
       "      <td>1</td>\n",
       "      <td>10000</td>\n",
       "      <td>BLADDER_URI</td>\n",
       "      <td>SBS2</td>\n",
       "    </tr>\n",
       "    <tr>\n",
       "      <th>2</th>\n",
       "      <td>BLADDER_URI_iter_2_SBS2</td>\n",
       "      <td>100</td>\n",
       "      <td>0</td>\n",
       "      <td>0</td>\n",
       "      <td>10000</td>\n",
       "      <td>BLADDER_URI</td>\n",
       "      <td>SBS2</td>\n",
       "    </tr>\n",
       "    <tr>\n",
       "      <th>3</th>\n",
       "      <td>BLADDER_URI_iter_3_SBS2</td>\n",
       "      <td>100</td>\n",
       "      <td>2</td>\n",
       "      <td>2</td>\n",
       "      <td>10000</td>\n",
       "      <td>BLADDER_URI</td>\n",
       "      <td>SBS2</td>\n",
       "    </tr>\n",
       "    <tr>\n",
       "      <th>4</th>\n",
       "      <td>BLADDER_URI_iter_4_SBS2</td>\n",
       "      <td>100</td>\n",
       "      <td>2</td>\n",
       "      <td>2</td>\n",
       "      <td>10000</td>\n",
       "      <td>BLADDER_URI</td>\n",
       "      <td>SBS2</td>\n",
       "    </tr>\n",
       "  </tbody>\n",
       "</table>\n",
       "</div>"
      ],
      "text/plain": [
       "                      ITER  N_SAMPLES  TOTAL_HOTSPOTS  TOTAL_HOTSPOTS_UNIQPOS  \\\n",
       "0  BLADDER_URI_iter_0_SBS2        100               0                       0   \n",
       "1  BLADDER_URI_iter_1_SBS2        100               1                       1   \n",
       "2  BLADDER_URI_iter_2_SBS2        100               0                       0   \n",
       "3  BLADDER_URI_iter_3_SBS2        100               2                       2   \n",
       "4  BLADDER_URI_iter_4_SBS2        100               2                       2   \n",
       "\n",
       "   TOTAL_MUTS        CTYPE SIGNATURE  \n",
       "0       10000  BLADDER_URI      SBS2  \n",
       "1       10000  BLADDER_URI      SBS2  \n",
       "2       10000  BLADDER_URI      SBS2  \n",
       "3       10000  BLADDER_URI      SBS2  \n",
       "4       10000  BLADDER_URI      SBS2  "
      ]
     },
     "execution_count": 7,
     "metadata": {},
     "output_type": "execute_result"
    }
   ],
   "source": [
    "df = pd.read_csv(input_f, sep='\\t', header=0)\n",
    "df.head()"
   ]
  },
  {
   "cell_type": "code",
   "execution_count": 8,
   "metadata": {},
   "outputs": [
    {
     "data": {
      "text/plain": [
       "279000"
      ]
     },
     "execution_count": 8,
     "metadata": {},
     "output_type": "execute_result"
    }
   ],
   "source": [
    "len(df)"
   ]
  },
  {
   "cell_type": "markdown",
   "metadata": {
    "collapsed": true
   },
   "source": [
    "## Panel 2C"
   ]
  },
  {
   "cell_type": "code",
   "execution_count": 9,
   "metadata": {},
   "outputs": [
    {
     "data": {
      "text/html": [
       "<div>\n",
       "<style scoped>\n",
       "    .dataframe tbody tr th:only-of-type {\n",
       "        vertical-align: middle;\n",
       "    }\n",
       "\n",
       "    .dataframe tbody tr th {\n",
       "        vertical-align: top;\n",
       "    }\n",
       "\n",
       "    .dataframe thead th {\n",
       "        text-align: right;\n",
       "    }\n",
       "</style>\n",
       "<table border=\"1\" class=\"dataframe\">\n",
       "  <thead>\n",
       "    <tr style=\"text-align: right;\">\n",
       "      <th></th>\n",
       "      <th>ITER</th>\n",
       "      <th>N_SAMPLES</th>\n",
       "      <th>TOTAL_HOTSPOTS</th>\n",
       "      <th>TOTAL_HOTSPOTS_UNIQPOS</th>\n",
       "      <th>TOTAL_MUTS</th>\n",
       "      <th>CTYPE</th>\n",
       "      <th>SIGNATURE</th>\n",
       "    </tr>\n",
       "  </thead>\n",
       "  <tbody>\n",
       "    <tr>\n",
       "      <th>259640</th>\n",
       "      <td>COADREAD_iter_640_SBS17b</td>\n",
       "      <td>100</td>\n",
       "      <td>129</td>\n",
       "      <td>129</td>\n",
       "      <td>30000</td>\n",
       "      <td>COADREAD</td>\n",
       "      <td>SBS17b</td>\n",
       "    </tr>\n",
       "    <tr>\n",
       "      <th>259565</th>\n",
       "      <td>COADREAD_iter_565_SBS17b</td>\n",
       "      <td>100</td>\n",
       "      <td>120</td>\n",
       "      <td>120</td>\n",
       "      <td>30000</td>\n",
       "      <td>COADREAD</td>\n",
       "      <td>SBS17b</td>\n",
       "    </tr>\n",
       "    <tr>\n",
       "      <th>259916</th>\n",
       "      <td>COADREAD_iter_916_SBS17b</td>\n",
       "      <td>100</td>\n",
       "      <td>119</td>\n",
       "      <td>119</td>\n",
       "      <td>30000</td>\n",
       "      <td>COADREAD</td>\n",
       "      <td>SBS17b</td>\n",
       "    </tr>\n",
       "    <tr>\n",
       "      <th>259824</th>\n",
       "      <td>COADREAD_iter_824_SBS17b</td>\n",
       "      <td>100</td>\n",
       "      <td>119</td>\n",
       "      <td>119</td>\n",
       "      <td>30000</td>\n",
       "      <td>COADREAD</td>\n",
       "      <td>SBS17b</td>\n",
       "    </tr>\n",
       "    <tr>\n",
       "      <th>259425</th>\n",
       "      <td>COADREAD_iter_425_SBS17b</td>\n",
       "      <td>100</td>\n",
       "      <td>119</td>\n",
       "      <td>119</td>\n",
       "      <td>30000</td>\n",
       "      <td>COADREAD</td>\n",
       "      <td>SBS17b</td>\n",
       "    </tr>\n",
       "  </tbody>\n",
       "</table>\n",
       "</div>"
      ],
      "text/plain": [
       "                            ITER  N_SAMPLES  TOTAL_HOTSPOTS  \\\n",
       "259640  COADREAD_iter_640_SBS17b        100             129   \n",
       "259565  COADREAD_iter_565_SBS17b        100             120   \n",
       "259916  COADREAD_iter_916_SBS17b        100             119   \n",
       "259824  COADREAD_iter_824_SBS17b        100             119   \n",
       "259425  COADREAD_iter_425_SBS17b        100             119   \n",
       "\n",
       "        TOTAL_HOTSPOTS_UNIQPOS  TOTAL_MUTS     CTYPE SIGNATURE  \n",
       "259640                     129       30000  COADREAD    SBS17b  \n",
       "259565                     120       30000  COADREAD    SBS17b  \n",
       "259916                     119       30000  COADREAD    SBS17b  \n",
       "259824                     119       30000  COADREAD    SBS17b  \n",
       "259425                     119       30000  COADREAD    SBS17b  "
      ]
     },
     "execution_count": 9,
     "metadata": {},
     "output_type": "execute_result"
    }
   ],
   "source": [
    "# Use only simulations with 300 mutations per sample across 100 samples (= 30000 total mutations)\n",
    "subset = df.loc[df['TOTAL_MUTS'] == 30000].copy()\n",
    "subset.sort_values(by='TOTAL_HOTSPOTS_UNIQPOS', ascending=False, inplace=True)\n",
    "subset.head()"
   ]
  },
  {
   "cell_type": "code",
   "execution_count": 10,
   "metadata": {},
   "outputs": [
    {
     "data": {
      "text/plain": [
       "31000"
      ]
     },
     "execution_count": 10,
     "metadata": {},
     "output_type": "execute_result"
    }
   ],
   "source": [
    "len(subset)"
   ]
  },
  {
   "cell_type": "code",
   "execution_count": 11,
   "metadata": {},
   "outputs": [],
   "source": [
    "data_to_plot = dict()\n",
    "data_to_sort = dict()\n",
    "points = dict()\n",
    "for signature, data in subset.groupby('SIGNATURE'):\n",
    "    for ctype, ctype_data in data.groupby('CTYPE'): \n",
    "        identifier = f'{signature}_{ctype}'\n",
    "        median = np.median(ctype_data['TOTAL_HOTSPOTS_UNIQPOS'])\n",
    "        data_to_sort[identifier] = np.mean(ctype_data['TOTAL_HOTSPOTS_UNIQPOS'])\n",
    "        iq_range = iqr(ctype_data['TOTAL_HOTSPOTS_UNIQPOS'])\n",
    "        data_to_plot[identifier] = median\n",
    "        points[identifier] = ctype_data['TOTAL_HOTSPOTS_UNIQPOS'].tolist()"
   ]
  },
  {
   "cell_type": "code",
   "execution_count": 12,
   "metadata": {},
   "outputs": [
    {
     "data": {
      "text/plain": [
       "{'SBS17b_COADREAD': 88.896,\n",
       " 'SBS17a_COADREAD': 80.554,\n",
       " 'SBS17b_ESOPHA_STOMACH': 69.335,\n",
       " 'SBS17a_ESOPHA_STOMACH': 62.553,\n",
       " 'SBS1_PROSTATE': 49.135,\n",
       " 'SBS1_ESOPHA_STOMACH': 39.572,\n",
       " 'SBS1_BLADDER_URI': 38.977,\n",
       " 'SBS1_COADREAD': 38.397,\n",
       " 'SBS1_BRCA': 36.08,\n",
       " 'SBS1_NSCLC': 35.052,\n",
       " 'SBS7a_SKCM': 7.443,\n",
       " 'SBS18_COADREAD': 6.815,\n",
       " 'SBS2_BLADDER_URI': 6.808,\n",
       " 'SBS8_PROSTATE': 6.218,\n",
       " 'SBS93_COADREAD': 6.196,\n",
       " 'SBS2_BRCA': 6.083,\n",
       " 'SBS2_NSCLC': 4.903,\n",
       " 'SBS13_NSCLC': 3.96,\n",
       " 'SBS13_BRCA': 3.8,\n",
       " 'SBS7b_SKCM': 3.718,\n",
       " 'SBS13_BLADDER_URI': 3.404,\n",
       " 'SBS5_BRCA': 3.202,\n",
       " 'SBS5_PROSTATE': 2.772,\n",
       " 'SBS5_BLADDER_URI': 2.16,\n",
       " 'SBS5_COADREAD': 2.155,\n",
       " 'SBS40_COADREAD': 1.949,\n",
       " 'SBS3_BRCA': 1.298,\n",
       " 'SBS5_ESOPHA_STOMACH': 1.055,\n",
       " 'SBS4_NSCLC': 1.039,\n",
       " 'SBS5_NSCLC': 0.953,\n",
       " 'SBS40_NSCLC': 0.537}"
      ]
     },
     "execution_count": 12,
     "metadata": {},
     "output_type": "execute_result"
    }
   ],
   "source": [
    "# Sort by mean number of hotspots\n",
    "sorted_sigs = dict(sorted(data_to_sort.items(), key=lambda x: x[1], reverse=True))\n",
    "sorted_sigs"
   ]
  },
  {
   "cell_type": "code",
   "execution_count": 13,
   "metadata": {},
   "outputs": [
    {
     "data": {
      "image/png": "[encoded data removed]",
      "text/plain": [
       "<Figure size 576x144 with 1 Axes>"
      ]
     },
     "metadata": {
      "needs_background": "light"
     },
     "output_type": "display_data"
    }
   ],
   "source": [
    "plt.rc('axes', edgecolor='black', linewidth=0.5)\n",
    "fig = plt.figure(figsize=(8, 2))\n",
    "ax = plt.subplot2grid((1, 1), (0, 0))\n",
    "sorted_sigs = dict(sorted(data_to_sort.items(), key=lambda x: x[1], reverse=True))\n",
    "\n",
    "plt.title('Hotspot propensity', fontsize=7)\n",
    "\n",
    "for i, signature_ctype in enumerate(sorted_sigs): \n",
    "    signature = signature_ctype.split('_')[0]\n",
    "    hotspots = points[signature_ctype]\n",
    "    boxstyle = dict(linewidth=0.5, color='black')\n",
    "    ax.boxplot(hotspots, positions=[i], widths=0.4, medianprops=boxstyle, boxprops=boxstyle, whiskerprops=boxstyle, capprops=boxstyle, showfliers=False)   \n",
    "    ax.scatter(np.random.normal(i, scale=0.025, size=len(hotspots)), hotspots, color=sigs_color[signature], s=5, linewidth=0, alpha=0.5)\n",
    "    ax.text(i + 0.25, np.median(hotspots), int(np.median(hotspots)), fontsize=3, va='center')\n",
    "\n",
    "yticks = [0, 50, 100, 150]\n",
    "ax.set_yticks(yticks)\n",
    "ax.set_yticklabels(yticks, fontsize=6)\n",
    "xticks = list(range(len(sorted_sigs)))\n",
    "ax.set_xticks(xticks)\n",
    "ax.set_xticklabels(sorted_sigs, fontsize=6, rotation=45, ha='right')\n",
    "\n",
    "ax.spines['right'].set_visible(False)\n",
    "ax.spines['top'].set_visible(False)\n",
    "for axis in ['top','bottom','left','right']:\n",
    "    ax.spines[axis].set_linewidth(0.5)\n",
    "ax.tick_params(width=0.5)\n",
    "\n",
    "ax.set_ylabel('# hotspots per 30000 mutations', fontsize=6)\n",
    "ax.set_xlabel('', fontsize=6)\n",
    "ax.set_axisbelow(True)\n",
    "ax.grid(color='lightgrey', linestyle='--', linewidth=0.5, zorder=0)\n",
    "\n",
    "for extension in ['png']: \n",
    "    output = f'./fig_2C.{extension}'\n",
    "    plt.savefig(output, bbox_inches='tight', dpi=350)"
   ]
  },
  {
   "cell_type": "markdown",
   "metadata": {},
   "source": [
    "## Panels 2D and 2E"
   ]
  },
  {
   "cell_type": "code",
   "execution_count": 14,
   "metadata": {
    "scrolled": true
   },
   "outputs": [
    {
     "name": "stdout",
     "output_type": "stream",
     "text": [
      "SBS1 ['BLADDER_URI' 'BRCA' 'COADREAD' 'ESOPHA_STOMACH' 'NSCLC' 'PROSTATE']\n",
      "SBS13 ['BLADDER_URI' 'BRCA' 'NSCLC']\n",
      "SBS17a ['COADREAD' 'ESOPHA_STOMACH']\n",
      "SBS17b ['COADREAD' 'ESOPHA_STOMACH']\n",
      "SBS18 ['COADREAD']\n",
      "SBS2 ['BLADDER_URI' 'BRCA' 'NSCLC']\n",
      "SBS3 ['BRCA']\n",
      "SBS4 ['NSCLC']\n",
      "SBS40 ['COADREAD' 'NSCLC']\n",
      "SBS5 ['BLADDER_URI' 'BRCA' 'COADREAD' 'ESOPHA_STOMACH' 'NSCLC' 'PROSTATE']\n",
      "SBS7a ['SKCM']\n",
      "SBS7b ['SKCM']\n",
      "SBS8 ['PROSTATE']\n",
      "SBS93 ['COADREAD']\n"
     ]
    }
   ],
   "source": [
    "data_to_plot = defaultdict(dict)\n",
    "for signature, data in df.groupby('SIGNATURE'): \n",
    "    print(signature, data['CTYPE'].unique())\n",
    "    for mutburden, mdata in data.groupby('TOTAL_MUTS'): \n",
    "        median = np.median(mdata['TOTAL_HOTSPOTS_UNIQPOS'])\n",
    "        iq_range = iqr(mdata['TOTAL_HOTSPOTS_UNIQPOS'])\n",
    "        data_to_plot[signature][mutburden] = (median, median-iq_range, median+iq_range)"
   ]
  },
  {
   "cell_type": "code",
   "execution_count": 15,
   "metadata": {
    "scrolled": true
   },
   "outputs": [
    {
     "data": {
      "image/png": "[encoded data removed]",
      "text/plain": [
       "<Figure size 216x90 with 1 Axes>"
      ]
     },
     "metadata": {
      "needs_background": "light"
     },
     "output_type": "display_data"
    }
   ],
   "source": [
    "fig = plt.figure(figsize=(3, 1.25))\n",
    "ax = plt.subplot2grid((1, 1), (0, 0))\n",
    "\n",
    "sigs_under_analysis = list(df['SIGNATURE'].unique())\n",
    "sorted_sigs = list(zip(*sorted(list(zip(list(map(lambda x: int(re.findall('[0-9]+', x)[0]), sigs_under_analysis)), sigs_under_analysis)), key=lambda tup: tup[0])))[-1]\n",
    "\n",
    "# Break y axis\n",
    "ax.set_ylim(0, 80)  \n",
    "\n",
    "total_muts = [100 * mc for mc in mutations_cutoffs]\n",
    "for signature in sorted_sigs: \n",
    "    total_y = []\n",
    "    for muts in total_muts: \n",
    "        xdata = muts\n",
    "        y = data_to_plot[signature][muts][0]\n",
    "        total_y += [y]\n",
    "        ax.scatter(xdata, y, color=sigs_color[signature], marker='o', s=8, lw=0, alpha=0.75, zorder=3)\n",
    "    ax.plot(total_muts, total_y, '-', color=sigs_color[signature], lw=0.5, alpha=0.75)\n",
    "    \n",
    "ax.set_xticks(total_muts)\n",
    "ax.set_xticklabels(total_muts, rotation=0, fontsize=6, horizontalalignment='center')\n",
    "yticklabels = [0, 20, 40, 60, 80]\n",
    "ax.set_yticks(yticklabels)\n",
    "ax.set_yticklabels(yticklabels, fontsize=6)\n",
    "ax.set_ylabel('# hotspots (median)', fontsize=6)\n",
    "\n",
    "for axis in ['top','bottom','left','right']:\n",
    "    ax.spines[axis].set_linewidth(0.5)\n",
    "ax.tick_params(width=0.5)\n",
    "ax.spines['right'].set_visible(False)\n",
    "ax.spines['top'].set_visible(False)\n",
    "ax.set_axisbelow(True)\n",
    "ax.grid(color='lightgrey', linestyle='--', linewidth=0.25, zorder=0)\n",
    "\n",
    "for extension in ['png']: \n",
    "    output = f'./fig_2D.{extension}'\n",
    "    plt.savefig(output, bbox_inches='tight', dpi=350)"
   ]
  },
  {
   "cell_type": "code",
   "execution_count": 16,
   "metadata": {},
   "outputs": [
    {
     "data": {
      "image/png": "[encoded data removed]",
      "text/plain": [
       "<Figure size 216x43.2 with 1 Axes>"
      ]
     },
     "metadata": {
      "needs_background": "light"
     },
     "output_type": "display_data"
    }
   ],
   "source": [
    "fig = plt.figure(figsize=(3, 0.6))\n",
    "ax = plt.subplot2grid((1, 1), (0, 0))\n",
    "\n",
    "sigs_under_analysis = list(df['SIGNATURE'].unique())\n",
    "sorted_sigs = list(zip(*sorted(list(zip(list(map(lambda x: int(re.findall('[0-9]+', x)[0]), sigs_under_analysis)), sigs_under_analysis)), key=lambda tup: tup[0])))[-1]\n",
    "\n",
    "# Break y axis\n",
    "ax.set_ylim(0, 10.5)  \n",
    "\n",
    "total_muts = [100 * mc for mc in mutations_cutoffs]\n",
    "for signature in sorted_sigs: \n",
    "    total_y = []\n",
    "    for muts in total_muts: \n",
    "        xdata = muts\n",
    "        y = data_to_plot[signature][muts][0]\n",
    "        total_y += [y]\n",
    "        ax.scatter(xdata, y, color=sigs_color[signature], marker='o', s=8, lw=0, alpha=0.75, zorder=3)\n",
    "    ax.plot(total_muts, total_y, '-', color=sigs_color[signature], lw=0.5, alpha=0.75)\n",
    "    \n",
    "ax.set_xticks(total_muts)\n",
    "ax.set_xticklabels(total_muts, rotation=0, fontsize=6, horizontalalignment='center')\n",
    "yticklabels = [0, 5, 10]\n",
    "ax.set_yticks(yticklabels)\n",
    "ax.set_yticklabels(yticklabels, fontsize=6)\n",
    "ax.set_ylabel('# hotspots (median)', fontsize=6)\n",
    "\n",
    "for axis in ['top','bottom','left','right']:\n",
    "    ax.spines[axis].set_linewidth(0.5)\n",
    "ax.tick_params(width=0.5)\n",
    "ax.spines['right'].set_visible(False)\n",
    "ax.spines['top'].set_visible(False)\n",
    "ax.set_axisbelow(True)\n",
    "ax.grid(color='lightgrey', linestyle='--', linewidth=0.25, zorder=0)\n",
    "\n",
    "for extension in ['png']: \n",
    "    output = f'./fig_2E.{extension}'\n",
    "    plt.savefig(output, bbox_inches='tight', dpi=350)"
   ]
  },
  {
   "cell_type": "markdown",
   "metadata": {},
   "source": [
    "## Panel 2F"
   ]
  },
  {
   "cell_type": "code",
   "execution_count": 17,
   "metadata": {},
   "outputs": [
    {
     "data": {
      "text/html": [
       "<div>\n",
       "<style scoped>\n",
       "    .dataframe tbody tr th:only-of-type {\n",
       "        vertical-align: middle;\n",
       "    }\n",
       "\n",
       "    .dataframe tbody tr th {\n",
       "        vertical-align: top;\n",
       "    }\n",
       "\n",
       "    .dataframe thead th {\n",
       "        text-align: right;\n",
       "    }\n",
       "</style>\n",
       "<table border=\"1\" class=\"dataframe\">\n",
       "  <thead>\n",
       "    <tr style=\"text-align: right;\">\n",
       "      <th></th>\n",
       "      <th>ITER</th>\n",
       "      <th>N_SAMPLES</th>\n",
       "      <th>TOTAL_HOTSPOTS</th>\n",
       "      <th>TOTAL_HOTSPOTS_UNIQPOS</th>\n",
       "      <th>TOTAL_MUTS</th>\n",
       "      <th>CTYPE</th>\n",
       "      <th>SIGNATURE</th>\n",
       "    </tr>\n",
       "  </thead>\n",
       "  <tbody>\n",
       "    <tr>\n",
       "      <th>259640</th>\n",
       "      <td>COADREAD_iter_640_SBS17b</td>\n",
       "      <td>100</td>\n",
       "      <td>129</td>\n",
       "      <td>129</td>\n",
       "      <td>30000</td>\n",
       "      <td>COADREAD</td>\n",
       "      <td>SBS17b</td>\n",
       "    </tr>\n",
       "    <tr>\n",
       "      <th>259565</th>\n",
       "      <td>COADREAD_iter_565_SBS17b</td>\n",
       "      <td>100</td>\n",
       "      <td>120</td>\n",
       "      <td>120</td>\n",
       "      <td>30000</td>\n",
       "      <td>COADREAD</td>\n",
       "      <td>SBS17b</td>\n",
       "    </tr>\n",
       "    <tr>\n",
       "      <th>259916</th>\n",
       "      <td>COADREAD_iter_916_SBS17b</td>\n",
       "      <td>100</td>\n",
       "      <td>119</td>\n",
       "      <td>119</td>\n",
       "      <td>30000</td>\n",
       "      <td>COADREAD</td>\n",
       "      <td>SBS17b</td>\n",
       "    </tr>\n",
       "    <tr>\n",
       "      <th>259824</th>\n",
       "      <td>COADREAD_iter_824_SBS17b</td>\n",
       "      <td>100</td>\n",
       "      <td>119</td>\n",
       "      <td>119</td>\n",
       "      <td>30000</td>\n",
       "      <td>COADREAD</td>\n",
       "      <td>SBS17b</td>\n",
       "    </tr>\n",
       "    <tr>\n",
       "      <th>259425</th>\n",
       "      <td>COADREAD_iter_425_SBS17b</td>\n",
       "      <td>100</td>\n",
       "      <td>119</td>\n",
       "      <td>119</td>\n",
       "      <td>30000</td>\n",
       "      <td>COADREAD</td>\n",
       "      <td>SBS17b</td>\n",
       "    </tr>\n",
       "  </tbody>\n",
       "</table>\n",
       "</div>"
      ],
      "text/plain": [
       "                            ITER  N_SAMPLES  TOTAL_HOTSPOTS  \\\n",
       "259640  COADREAD_iter_640_SBS17b        100             129   \n",
       "259565  COADREAD_iter_565_SBS17b        100             120   \n",
       "259916  COADREAD_iter_916_SBS17b        100             119   \n",
       "259824  COADREAD_iter_824_SBS17b        100             119   \n",
       "259425  COADREAD_iter_425_SBS17b        100             119   \n",
       "\n",
       "        TOTAL_HOTSPOTS_UNIQPOS  TOTAL_MUTS     CTYPE SIGNATURE  \n",
       "259640                     129       30000  COADREAD    SBS17b  \n",
       "259565                     120       30000  COADREAD    SBS17b  \n",
       "259916                     119       30000  COADREAD    SBS17b  \n",
       "259824                     119       30000  COADREAD    SBS17b  \n",
       "259425                     119       30000  COADREAD    SBS17b  "
      ]
     },
     "execution_count": 17,
     "metadata": {},
     "output_type": "execute_result"
    }
   ],
   "source": [
    "# Use only simulations with 300 mutations per sample across 100 samples (= 30000 total mutations)\n",
    "subset = df.loc[df['TOTAL_MUTS'] == 30000].copy()\n",
    "subset.sort_values(by='TOTAL_HOTSPOTS_UNIQPOS', ascending=False, inplace=True)\n",
    "subset.head()"
   ]
  },
  {
   "cell_type": "code",
   "execution_count": 18,
   "metadata": {},
   "outputs": [
    {
     "data": {
      "text/plain": [
       "31000"
      ]
     },
     "execution_count": 18,
     "metadata": {},
     "output_type": "execute_result"
    }
   ],
   "source": [
    "len(subset)"
   ]
  },
  {
   "cell_type": "code",
   "execution_count": 19,
   "metadata": {},
   "outputs": [],
   "source": [
    "data_to_plot = dict()\n",
    "data_to_sort = dict()\n",
    "points = dict()\n",
    "for signature, data in subset.groupby('SIGNATURE'): \n",
    "    median = np.median(data['TOTAL_HOTSPOTS_UNIQPOS'])\n",
    "    data_to_sort[signature] = np.mean(data['TOTAL_HOTSPOTS_UNIQPOS'])\n",
    "    iq_range = iqr(data['TOTAL_HOTSPOTS_UNIQPOS'])\n",
    "    data_to_plot[signature] = median\n",
    "    points[signature] = data['TOTAL_HOTSPOTS_UNIQPOS'].tolist()"
   ]
  },
  {
   "cell_type": "code",
   "execution_count": 20,
   "metadata": {},
   "outputs": [
    {
     "data": {
      "text/plain": [
       "{'SBS17b': 79.1155,\n",
       " 'SBS17a': 71.5535,\n",
       " 'SBS1': 39.5355,\n",
       " 'SBS7a': 7.443,\n",
       " 'SBS18': 6.815,\n",
       " 'SBS8': 6.218,\n",
       " 'SBS93': 6.196,\n",
       " 'SBS2': 5.931333333333333,\n",
       " 'SBS13': 3.7213333333333334,\n",
       " 'SBS7b': 3.718,\n",
       " 'SBS5': 2.0495,\n",
       " 'SBS3': 1.298,\n",
       " 'SBS40': 1.243,\n",
       " 'SBS4': 1.039}"
      ]
     },
     "execution_count": 20,
     "metadata": {},
     "output_type": "execute_result"
    }
   ],
   "source": [
    "# Sort by mean number of hotspots\n",
    "sorted_sigs = dict(sorted(data_to_sort.items(), key=lambda x: x[1], reverse=True))\n",
    "sorted_sigs"
   ]
  },
  {
   "cell_type": "code",
   "execution_count": 21,
   "metadata": {},
   "outputs": [
    {
     "data": {
      "image/png": "[encoded data removed]",
      "text/plain": [
       "<Figure size 324x144 with 1 Axes>"
      ]
     },
     "metadata": {
      "needs_background": "light"
     },
     "output_type": "display_data"
    }
   ],
   "source": [
    "fig = plt.figure(figsize=(4.5, 2))\n",
    "ax = plt.subplot2grid((1, 1), (0, 0))\n",
    "sorted_sigs = dict(sorted(data_to_sort.items(), key=lambda x: x[1], reverse=True))\n",
    "\n",
    "plt.title('Hotspot propensity', fontsize=7)\n",
    "\n",
    "for i, signature in enumerate(sorted_sigs): \n",
    "    hotspots = points[signature]\n",
    "    boxstyle = dict(linewidth=0.5, color='black')\n",
    "    ax.boxplot(hotspots, positions=[i], widths=0.4, medianprops=boxstyle, boxprops=boxstyle, whiskerprops=boxstyle, capprops=boxstyle, showfliers=False)   \n",
    "    ax.scatter(np.random.normal(i, scale=0.025, size=len(hotspots)), hotspots, color=sigs_color[signature], s=5, linewidth=0, alpha=0.5)\n",
    "    ax.text(i + 0.25, np.median(hotspots), int(np.median(hotspots)), fontsize=3, va='center')\n",
    "\n",
    "yticks = [0, 50, 100, 150]\n",
    "ax.set_yticks(yticks)\n",
    "ax.set_yticklabels(yticks, fontsize=6)\n",
    "xticks = list(range(len(sorted_sigs)))\n",
    "ax.set_xticks(xticks)\n",
    "ax.set_xticklabels(sorted_sigs, fontsize=6, rotation=45, ha='right')\n",
    "\n",
    "ax.spines['right'].set_visible(False)\n",
    "ax.spines['top'].set_visible(False)\n",
    "for axis in ['top','bottom','left','right']:\n",
    "    ax.spines[axis].set_linewidth(0.5)\n",
    "ax.tick_params(width=0.5)\n",
    "\n",
    "ax.set_ylabel('# hotspots per 30000 mutations', fontsize=6)\n",
    "ax.set_xlabel('', fontsize=6)\n",
    "ax.set_axisbelow(True)\n",
    "ax.grid(color='lightgrey', linestyle='--', linewidth=0.5, zorder=0)\n",
    "\n",
    "for extension in ['png']: \n",
    "    output = f'./fig_2F.{extension}'\n",
    "    plt.savefig(output, bbox_inches='tight', dpi=350)"
   ]
  },
  {
   "cell_type": "code",
   "execution_count": null,
   "metadata": {
    "collapsed": true
   },
   "outputs": [],
   "source": []
  }
 ],
 "metadata": {
  "kernelspec": {
   "display_name": "Python [conda env:hotspot_propensity]",
   "language": "python",
   "name": "conda-env-hotspot_propensity-py"
  },
  "language_info": {
   "codemirror_mode": {
    "name": "ipython",
    "version": 3
   },
   "file_extension": ".py",
   "mimetype": "text/x-python",
   "name": "python",
   "nbconvert_exporter": "python",
   "pygments_lexer": "ipython3",
   "version": "3.6.13"
  }
 },
 "nbformat": 4,
 "nbformat_minor": 2
}
