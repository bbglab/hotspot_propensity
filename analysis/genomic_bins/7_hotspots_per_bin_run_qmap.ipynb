{
 "cells": [
  {
   "cell_type": "markdown",
   "metadata": {},
   "source": [
    "# Hotspots per bin"
   ]
  },
  {
   "cell_type": "markdown",
   "metadata": {},
   "source": [
    "This code intersects filtered hotspots in mappable bins with sets of bins of different length (autosomes; driver regions removed)\n",
    "\n",
    "Hotspots in a cancer type are assigned to a signature by maximum likelihood "
   ]
  },
  {
   "cell_type": "code",
   "execution_count": 1,
   "metadata": {
    "collapsed": true
   },
   "outputs": [],
   "source": [
    "cancer_types = [\n",
    "    'BRCA', \n",
    "    'BLADDER_URI', \n",
    "    'COADREAD', \n",
    "    'ESOPHA_STOMACH', \n",
    "    'NSCLC', \n",
    "    'PROSTATE', \n",
    "    'SKCM'\n",
    "]"
   ]
  },
  {
   "cell_type": "code",
   "execution_count": 2,
   "metadata": {
    "collapsed": true
   },
   "outputs": [],
   "source": [
    "bins = [1000000]    # run only on 1 Mbp"
   ]
  },
  {
   "cell_type": "code",
   "execution_count": 3,
   "metadata": {
    "collapsed": true
   },
   "outputs": [],
   "source": [
    "main_dir = ''"
   ]
  },
  {
   "cell_type": "code",
   "execution_count": 4,
   "metadata": {
    "collapsed": true
   },
   "outputs": [],
   "source": [
    "hotspots_dir = f'{main_dir}/signatures/assign_hotspots_to_sigs/data'\n",
    "samples_threshold = '2'\n",
    "alternates = 'altsplit'\n",
    "data_type = 'cancertypes_filtered_nodrivers'"
   ]
  },
  {
   "cell_type": "code",
   "execution_count": 5,
   "metadata": {
    "collapsed": true
   },
   "outputs": [],
   "source": [
    "output_dir = f'{main_dir}/genomic_bins/data/hotspots_per_bin'"
   ]
  },
  {
   "cell_type": "markdown",
   "metadata": {},
   "source": [
    "### Run intersect of hotspots (within mappable megabases) and defined bins "
   ]
  },
  {
   "cell_type": "code",
   "execution_count": 6,
   "metadata": {
    "collapsed": true
   },
   "outputs": [],
   "source": [
    "code_f = f'{main_dir}/genomic_bins/code/hotspots_per_bin.py'\n",
    "map_f = f'{main_dir}/genomic_bins/code/hotspots_per_bin.map'"
   ]
  },
  {
   "cell_type": "code",
   "execution_count": 7,
   "metadata": {
    "collapsed": true
   },
   "outputs": [],
   "source": [
    "info = [\n",
    "    '[params]',\n",
    "    'cores=1',\n",
    "    'memory=16G\\n',\n",
    "    '[pre]',\n",
    "    '. \"/home/$USER/miniconda3/etc/profile.d/conda.sh\"',\n",
    "    'conda activate hotspots_framework\\n',\n",
    "    '[jobs]',\n",
    "]"
   ]
  },
  {
   "cell_type": "code",
   "execution_count": 8,
   "metadata": {
    "collapsed": true
   },
   "outputs": [],
   "source": [
    "with open(map_f, 'w') as ofd: \n",
    "    for line in info: \n",
    "        ofd.write(f'{line}\\n')\n",
    "    for ctype in cancer_types: \n",
    "        input_f = f'{hotspots_dir}/{ctype}_sigsprobs_{data_type}_n{samples_threshold}_{alternates}.normsum.txt'\n",
    "        for bin_size in bins: \n",
    "            bins_f = f'{main_dir}/genomic_bins/data/hg38_{int(bin_size/1000)}kb_bin.nodrivers.filtered.mappable_positions.autosomes.binids.txt'\n",
    "            output_f = f'{output_dir}/{ctype}.{int(bin_size/1000)}kb.hotspots_per_bin.json'\n",
    "            ofd.write(f'python {code_f} -h {input_f} -b {bins_f} -o {output_f}\\n')            "
   ]
  }
 ],
 "metadata": {
  "kernelspec": {
   "display_name": "Python [conda env:hotspots_framework]",
   "language": "python",
   "name": "conda-env-hotspots_framework-py"
  },
  "language_info": {
   "codemirror_mode": {
    "name": "ipython",
    "version": 3
   },
   "file_extension": ".py",
   "mimetype": "text/x-python",
   "name": "python",
   "nbconvert_exporter": "python",
   "pygments_lexer": "ipython3",
   "version": "3.6.10"
  }
 },
 "nbformat": 4,
 "nbformat_minor": 2
}
