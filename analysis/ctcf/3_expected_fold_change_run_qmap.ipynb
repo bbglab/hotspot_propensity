{
 "cells": [
  {
   "cell_type": "markdown",
   "metadata": {},
   "source": [
    "# Compute observed vs expected fold change CTCF binding sites\n",
    "\n",
    "This notebook runs a script that, first, computes the observed fold change in the CTCF binding site vs flanks. Then, for 1,000 times, it simulates the expected distribution of mutations inside CTCF binding sites and computes the expected fold change. The observed fold change is then compared with the distribution of expected fold changes. "
   ]
  },
  {
   "cell_type": "code",
   "execution_count": 5,
   "metadata": {
    "collapsed": true
   },
   "outputs": [],
   "source": [
    "main_dir = ''"
   ]
  },
  {
   "cell_type": "code",
   "execution_count": 11,
   "metadata": {
    "collapsed": true
   },
   "outputs": [],
   "source": [
    "ctcf_dir = output_dir = f'{main_dir}/ctcf/data'\n",
    "sigs_f = f'{main_dir}/ctcf/code/COSMIC_v3.2_SBS_GRCh38.txt'"
   ]
  },
  {
   "cell_type": "code",
   "execution_count": 7,
   "metadata": {
    "collapsed": true
   },
   "outputs": [],
   "source": [
    "map_f = f'{main_dir}/ctcf/code/expected_fold_change.map' \n",
    "code_f = f'{main_dir}/ctcf/code/expected_fold_change.py' "
   ]
  },
  {
   "cell_type": "code",
   "execution_count": 8,
   "metadata": {
    "collapsed": true
   },
   "outputs": [],
   "source": [
    "info = [\n",
    "    '[params]',\n",
    "    'cores=1',\n",
    "    'memory=100G\\n',\n",
    "    '[pre]',\n",
    "    '. \"/home/$USER/miniconda3/etc/profile.d/conda.sh\"',\n",
    "    'conda activate hotspots_framework\\n',\n",
    "    '[jobs]',\n",
    "]"
   ]
  },
  {
   "cell_type": "code",
   "execution_count": 9,
   "metadata": {
    "collapsed": true
   },
   "outputs": [],
   "source": [
    "run_dict = {\n",
    " 'COADREAD': ['SBS17b', 'SBS17a'],\n",
    " 'ESOPHA_STOMACH': ['SBS17b', 'SBS17a']\n",
    "}"
   ]
  },
  {
   "cell_type": "code",
   "execution_count": 10,
   "metadata": {
    "collapsed": true
   },
   "outputs": [],
   "source": [
    "seed = 61254\n",
    "nsim = 1000\n",
    "feature_size = 600\n",
    "window_size = 2000"
   ]
  },
  {
   "cell_type": "code",
   "execution_count": 12,
   "metadata": {
    "collapsed": true
   },
   "outputs": [],
   "source": [
    "with open(map_f, 'w') as ofd: \n",
    "    for line in info: \n",
    "        ofd.write(f'{line}\\n')\n",
    "    for ctype, signatures in run_dict.items(): \n",
    "        ctcf_f = f'{ctcf_dir}/{ctype}_ctcf_maxprob_length2000.in.txt'\n",
    "        for signature in signatures: \n",
    "            output_f = f'{output_dir}/{ctype}_{signature}_simulations_ctcf_maxprob_length2000.in.json'\n",
    "            ofd.write(\n",
    "                f'python {code_f}' +\n",
    "                f' -f {ctcf_f} -fs {feature_size} -ws {window_size} -sig {signature} -sigf {sigs_f} -nsim {nsim} -o {output_f} --seed {seed}\\n'\n",
    "            )            "
   ]
  }
 ],
 "metadata": {
  "kernelspec": {
   "display_name": "Python [conda env:hotspots_framework]",
   "language": "python",
   "name": "conda-env-hotspots_framework-py"
  },
  "language_info": {
   "codemirror_mode": {
    "name": "ipython",
    "version": 3
   },
   "file_extension": ".py",
   "mimetype": "text/x-python",
   "name": "python",
   "nbconvert_exporter": "python",
   "pygments_lexer": "ipython3",
   "version": "3.6.10"
  }
 },
 "nbformat": 4,
 "nbformat_minor": 2
}
