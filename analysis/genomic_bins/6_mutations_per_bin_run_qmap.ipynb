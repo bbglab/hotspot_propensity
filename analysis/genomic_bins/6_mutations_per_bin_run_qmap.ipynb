{
 "cells": [
  {
   "cell_type": "markdown",
   "metadata": {},
   "source": [
    "# Mutations per bin"
   ]
  },
  {
   "cell_type": "markdown",
   "metadata": {},
   "source": [
    "This code intersects filtered mutations in mappable bins with sets of bins of different length (autosomes; driver regions removed)\n",
    "\n",
    "Mutations in a cancer type are assigned to a signature by maximum likelihood \n",
    "\n",
    "Once mutations per signature are intersected with each set of bins, a normalised mutation rate is obtained for the signature across bins"
   ]
  },
  {
   "cell_type": "code",
   "execution_count": 1,
   "metadata": {
    "collapsed": true
   },
   "outputs": [],
   "source": [
    "import json\n",
    "\n",
    "import pandas as pd"
   ]
  },
  {
   "cell_type": "code",
   "execution_count": 2,
   "metadata": {
    "collapsed": true
   },
   "outputs": [],
   "source": [
    "cancer_types = [\n",
    "    'BRCA', \n",
    "    'BLADDER_URI', \n",
    "    'COADREAD', \n",
    "    'ESOPHA_STOMACH', \n",
    "    'NSCLC', \n",
    "    'PROSTATE', \n",
    "    'SKCM'\n",
    "]"
   ]
  },
  {
   "cell_type": "code",
   "execution_count": 3,
   "metadata": {
    "collapsed": true
   },
   "outputs": [],
   "source": [
    "bins = [1000000, 500000, 250000, 100000, 50000, 25000, 10000]"
   ]
  },
  {
   "cell_type": "code",
   "execution_count": 4,
   "metadata": {
    "collapsed": true
   },
   "outputs": [],
   "source": [
    "main_dir = ''"
   ]
  },
  {
   "cell_type": "code",
   "execution_count": 5,
   "metadata": {
    "collapsed": true
   },
   "outputs": [],
   "source": [
    "input_dir = f'{main_dir}/propensity/data/filtered_mutations'\n",
    "output_dir = f'{main_dir}/genomic_bins/data/mutations_per_bin'"
   ]
  },
  {
   "cell_type": "markdown",
   "metadata": {},
   "source": [
    "### Run intersect of filtered mutations (within mappable megabases) and defined bins "
   ]
  },
  {
   "cell_type": "code",
   "execution_count": 6,
   "metadata": {
    "collapsed": true
   },
   "outputs": [],
   "source": [
    "code_f = f'{main_dir}/genomic_bins/code/mutations_per_bin.py'\n",
    "map_f = f'{main_dir}/genomic_bins/code/mutations_per_bin.map'"
   ]
  },
  {
   "cell_type": "code",
   "execution_count": 7,
   "metadata": {
    "collapsed": true
   },
   "outputs": [],
   "source": [
    "info = [\n",
    "    '[params]',\n",
    "    'cores=1',\n",
    "    'memory=16G\\n',\n",
    "    '[pre]',\n",
    "    '. \"/home/$USER/miniconda3/etc/profile.d/conda.sh\"',\n",
    "    'conda activate hotspots_framework\\n',\n",
    "    '[jobs]',\n",
    "]"
   ]
  },
  {
   "cell_type": "code",
   "execution_count": 53,
   "metadata": {
    "collapsed": true
   },
   "outputs": [],
   "source": [
    "with open(map_f, 'w') as ofd: \n",
    "    for line in info: \n",
    "        ofd.write(f'{line}\\n')\n",
    "    for ctype in cancer_types: \n",
    "        input_f = f'{input_dir}/{ctype}_SBS96_total_maxprob.originalref.hg38_1000kb_autosomes_bin.tsv'\n",
    "        for bin_size in bins: \n",
    "            bins_f = f'{main_dir}/genomic_bins/data/hg38_{int(bin_size/1000)}kb_bin.nodrivers.filtered.mappable_positions.autosomes.binids.txt'\n",
    "            output_f = f'{output_dir}/{ctype}.{int(bin_size/1000)}kb.nodrivers.total_maxprob.mutations_per_bin.json'\n",
    "            ofd.write(f'python {code_f} -m {input_f} -b {bins_f} -o {output_f}\\n')            "
   ]
  },
  {
   "cell_type": "markdown",
   "metadata": {},
   "source": [
    "### Check"
   ]
  },
  {
   "cell_type": "markdown",
   "metadata": {},
   "source": [
    "Original number of available bins per size; if some bins are missing in the analysis below it means that either they do not have overlapping mutations or none of their sequence overlaps mappable and driver-free regions\n",
    "- 1 Mb: 2196\n",
    "- 500kb: 4392\n",
    "- 250kb: 8784\n",
    "- 100kb: 21960\n",
    "- 50kb: 43920\n",
    "- 25kb: 87840\n",
    "- 10kb: 219600"
   ]
  },
  {
   "cell_type": "code",
   "execution_count": 55,
   "metadata": {},
   "outputs": [
    {
     "name": "stdout",
     "output_type": "stream",
     "text": [
      "\n",
      "BRCA\n",
      "1000kb 2196\n",
      "500kb 4392\n",
      "250kb 8783\n",
      "100kb 21932\n",
      "50kb 43750\n",
      "25kb 87266\n",
      "10kb 217527\n",
      "\n",
      "BLADDER_URI\n",
      "1000kb 2196\n",
      "500kb 4392\n",
      "250kb 8783\n",
      "100kb 21932\n",
      "50kb 43748\n",
      "25kb 87246\n",
      "10kb 217319\n",
      "\n",
      "COADREAD\n",
      "1000kb 2196\n",
      "500kb 4392\n",
      "250kb 8783\n",
      "100kb 21933\n",
      "50kb 43753\n",
      "25kb 87268\n",
      "10kb 217557\n",
      "\n",
      "ESOPHA_STOMACH\n",
      "1000kb 2196\n",
      "500kb 4392\n",
      "250kb 8783\n",
      "100kb 21932\n",
      "50kb 43745\n",
      "25kb 87250\n",
      "10kb 217353\n",
      "\n",
      "NSCLC\n",
      "1000kb 2196\n",
      "500kb 4392\n",
      "250kb 8783\n",
      "100kb 21934\n",
      "50kb 43759\n",
      "25kb 87283\n",
      "10kb 217625\n",
      "\n",
      "PROSTATE\n",
      "1000kb 2196\n",
      "500kb 4392\n",
      "250kb 8783\n",
      "100kb 21931\n",
      "50kb 43743\n",
      "25kb 87226\n",
      "10kb 216761\n",
      "\n",
      "SKCM\n",
      "1000kb 2196\n",
      "500kb 4392\n",
      "250kb 8783\n",
      "100kb 21933\n",
      "50kb 43756\n",
      "25kb 87286\n",
      "10kb 217660\n"
     ]
    }
   ],
   "source": [
    "for ctype in cancer_types: \n",
    "    print(f'\\n{ctype}')\n",
    "    for bin_size in bins: \n",
    "        bin_size = f'{int(bin_size/1000)}kb'\n",
    "        f = f'{output_dir}/{ctype}.{bin_size}.nodrivers.total_maxprob.mutations_per_bin.json'\n",
    "        with open(f, 'rt') as fd: \n",
    "            data = json.load(fd)\n",
    "        print(bin_size, len(data.keys()))"
   ]
  },
  {
   "cell_type": "markdown",
   "metadata": {},
   "source": [
    "### Normalise mutation rate across bins"
   ]
  },
  {
   "cell_type": "code",
   "execution_count": 56,
   "metadata": {
    "collapsed": true
   },
   "outputs": [],
   "source": [
    "data_to_run = {\n",
    " 'BLADDER_URI': ['SBS2', 'SBS13', 'SBS5', 'SBS1'],\n",
    " 'BRCA': ['SBS5', 'SBS1', 'SBS2', 'SBS13', 'SBS3'],\n",
    " 'COADREAD': ['SBS1', 'SBS40', 'SBS17b', 'SBS5', 'SBS18', 'SBS93', 'SBS17a'],\n",
    " 'ESOPHA_STOMACH': ['SBS17b', 'SBS17a', 'SBS5', 'SBS1'],\n",
    " 'NSCLC': ['SBS4', 'SBS5', 'SBS40', 'SBS2', 'SBS13', 'SBS1'],\n",
    " 'PROSTATE': ['SBS5', 'SBS1', 'SBS8'],\n",
    " 'SKCM': ['SBS7a', 'SBS7b']\n",
    "}"
   ]
  },
  {
   "cell_type": "code",
   "execution_count": 58,
   "metadata": {},
   "outputs": [
    {
     "name": "stdout",
     "output_type": "stream",
     "text": [
      "1.0\n",
      "0.5\n",
      "0.25\n",
      "0.1\n",
      "0.05\n",
      "0.025\n",
      "0.01\n"
     ]
    }
   ],
   "source": [
    "for bin_size in bins:\n",
    "    pseudocount = int(bin_size)/1000000\n",
    "    print(pseudocount)"
   ]
  },
  {
   "cell_type": "code",
   "execution_count": 61,
   "metadata": {
    "scrolled": true
   },
   "outputs": [
    {
     "name": "stdout",
     "output_type": "stream",
     "text": [
      "1000000 BLADDER_URI SBS2 2196 0.9999999999999992\n",
      "1000000 BLADDER_URI SBS13 2196 0.9999999999999992\n",
      "1000000 BLADDER_URI SBS5 2196 1.0000000000000018\n",
      "1000000 BLADDER_URI SBS1 2196 1.0000000000000016\n",
      "1000000 BRCA SBS5 2196 1.0000000000000009\n",
      "1000000 BRCA SBS1 2196 1.0\n",
      "1000000 BRCA SBS2 2196 1.0000000000000004\n",
      "1000000 BRCA SBS13 2196 1.0000000000000022\n",
      "1000000 BRCA SBS3 2196 0.9999999999999964\n",
      "1000000 COADREAD SBS1 2196 0.9999999999999988\n",
      "1000000 COADREAD SBS40 2196 1.0000000000000004\n",
      "1000000 COADREAD SBS17b 2196 0.9999999999999988\n",
      "1000000 COADREAD SBS5 2196 1.0000000000000027\n",
      "1000000 COADREAD SBS18 2196 0.9999999999999989\n",
      "1000000 COADREAD SBS93 2196 1.0000000000000018\n",
      "1000000 COADREAD SBS17a 2196 1.0000000000000007\n",
      "1000000 ESOPHA_STOMACH SBS17b 2196 0.9999999999999994\n",
      "1000000 ESOPHA_STOMACH SBS17a 2196 1.0000000000000007\n",
      "1000000 ESOPHA_STOMACH SBS5 2196 1.000000000000001\n",
      "1000000 ESOPHA_STOMACH SBS1 2196 1.000000000000002\n",
      "1000000 NSCLC SBS4 2196 0.9999999999999996\n",
      "1000000 NSCLC SBS5 2196 0.9999999999999991\n",
      "1000000 NSCLC SBS40 2196 0.9999999999999996\n",
      "1000000 NSCLC SBS2 2196 1.0000000000000007\n",
      "1000000 NSCLC SBS13 2196 0.9999999999999983\n",
      "1000000 NSCLC SBS1 2196 0.9999999999999999\n",
      "1000000 PROSTATE SBS5 2196 1.0000000000000022\n",
      "1000000 PROSTATE SBS1 2196 1.0000000000000007\n",
      "1000000 PROSTATE SBS8 2196 0.9999999999999989\n",
      "1000000 SKCM SBS7a 2196 0.9999999999999992\n",
      "1000000 SKCM SBS7b 2196 1.000000000000002\n",
      "500000 BLADDER_URI SBS2 4392 0.9999999999999992\n",
      "500000 BLADDER_URI SBS13 4392 1.0000000000000016\n",
      "500000 BLADDER_URI SBS5 4392 1.0000000000000067\n",
      "500000 BLADDER_URI SBS1 4392 0.9999999999999968\n",
      "500000 BRCA SBS5 4392 1.0000000000000007\n",
      "500000 BRCA SBS1 4392 1.0000000000000013\n",
      "500000 BRCA SBS2 4392 1.0000000000000024\n",
      "500000 BRCA SBS13 4392 1.0000000000000056\n",
      "500000 BRCA SBS3 4392 0.9999999999999956\n",
      "500000 COADREAD SBS1 4392 0.9999999999999974\n",
      "500000 COADREAD SBS40 4392 1.0000000000000013\n",
      "500000 COADREAD SBS17b 4392 1.0000000000000036\n",
      "500000 COADREAD SBS5 4392 1.0000000000000016\n",
      "500000 COADREAD SBS18 4392 0.9999999999999994\n",
      "500000 COADREAD SBS93 4392 1.0000000000000002\n",
      "500000 COADREAD SBS17a 4392 0.999999999999992\n",
      "500000 ESOPHA_STOMACH SBS17b 4392 0.9999999999999944\n",
      "500000 ESOPHA_STOMACH SBS17a 4392 1.0000000000000033\n",
      "500000 ESOPHA_STOMACH SBS5 4392 0.9999999999999996\n",
      "500000 ESOPHA_STOMACH SBS1 4392 0.9999999999999976\n",
      "500000 NSCLC SBS4 4392 1.0000000000000013\n",
      "500000 NSCLC SBS5 4392 1.0000000000000007\n",
      "500000 NSCLC SBS40 4392 1.0000000000000022\n",
      "500000 NSCLC SBS2 4392 1.0000000000000042\n",
      "500000 NSCLC SBS13 4392 0.9999999999999994\n",
      "500000 NSCLC SBS1 4392 1.0000000000000033\n",
      "500000 PROSTATE SBS5 4392 0.9999999999999989\n",
      "500000 PROSTATE SBS1 4392 0.9999999999999932\n",
      "500000 PROSTATE SBS8 4392 1.0000000000000016\n",
      "500000 SKCM SBS7a 4392 1.0000000000000009\n",
      "500000 SKCM SBS7b 4392 1.000000000000001\n",
      "250000 BLADDER_URI SBS2 8784 1.0000000000000575\n",
      "250000 BLADDER_URI SBS13 8784 1.0000000000000007\n",
      "250000 BLADDER_URI SBS5 8784 1.0000000000000078\n",
      "250000 BLADDER_URI SBS1 8784 1.0000000000000084\n",
      "250000 BRCA SBS5 8784 0.9999999999999994\n",
      "250000 BRCA SBS1 8784 1.000000000000001\n",
      "250000 BRCA SBS2 8784 0.9999999999999971\n",
      "250000 BRCA SBS13 8784 1.0000000000000093\n",
      "250000 BRCA SBS3 8784 0.999999999999999\n",
      "250000 COADREAD SBS1 8784 0.999999999999999\n",
      "250000 COADREAD SBS40 8784 0.9999999999999999\n",
      "250000 COADREAD SBS17b 8784 0.9999999999999978\n",
      "250000 COADREAD SBS5 8784 0.9999999999999978\n",
      "250000 COADREAD SBS18 8784 1.0000000000000018\n",
      "250000 COADREAD SBS93 8784 1.000000000000007\n",
      "250000 COADREAD SBS17a 8784 0.9999999999999973\n",
      "250000 ESOPHA_STOMACH SBS17b 8784 1.0000000000000078\n",
      "250000 ESOPHA_STOMACH SBS17a 8784 1.0000000000000002\n",
      "250000 ESOPHA_STOMACH SBS5 8784 0.9999999999999978\n",
      "250000 ESOPHA_STOMACH SBS1 8784 1.0\n",
      "250000 NSCLC SBS4 8784 0.9999999999999997\n",
      "250000 NSCLC SBS5 8784 0.9999999999999947\n",
      "250000 NSCLC SBS40 8784 1.0000000000000004\n",
      "250000 NSCLC SBS2 8784 1.0000000000000018\n",
      "250000 NSCLC SBS13 8784 1.000000000000002\n",
      "250000 NSCLC SBS1 8784 0.9999999999999747\n",
      "250000 PROSTATE SBS5 8784 1.0000000000000042\n",
      "250000 PROSTATE SBS1 8784 0.9999999999999978\n",
      "250000 PROSTATE SBS8 8784 1.0000000000000016\n",
      "250000 SKCM SBS7a 8784 1.0000000000000016\n",
      "250000 SKCM SBS7b 8784 0.9999999999999474\n",
      "100000 BLADDER_URI SBS2 21940 1.0000000000009157\n",
      "100000 BLADDER_URI SBS13 21940 1.0000000000004585\n",
      "100000 BLADDER_URI SBS5 21940 1.0000000000003708\n",
      "100000 BLADDER_URI SBS1 21940 0.9999999999996975\n",
      "100000 BRCA SBS5 21940 0.9999999999997996\n",
      "100000 BRCA SBS1 21940 0.9999999999996804\n",
      "100000 BRCA SBS2 21940 1.0000000000004186\n",
      "100000 BRCA SBS13 21940 1.0000000000004199\n",
      "100000 BRCA SBS3 21940 1.0000000000004075\n",
      "100000 COADREAD SBS1 21940 1.0000000000004055\n",
      "100000 COADREAD SBS40 21940 0.9999999999995944\n",
      "100000 COADREAD SBS17b 21940 1.0000000000003435\n",
      "100000 COADREAD SBS5 21940 1.0000000000001243\n",
      "100000 COADREAD SBS18 21940 1.000000000000393\n",
      "100000 COADREAD SBS93 21940 1.0000000000003186\n",
      "100000 COADREAD SBS17a 21940 0.9999999999996054\n",
      "100000 ESOPHA_STOMACH SBS17b 21940 0.9999999999999089\n",
      "100000 ESOPHA_STOMACH SBS17a 21940 1.000000000000423\n",
      "100000 ESOPHA_STOMACH SBS5 21940 0.9999999999996134\n",
      "100000 ESOPHA_STOMACH SBS1 21940 0.9999999999999967\n",
      "100000 NSCLC SBS4 21940 1.0000000000000178\n",
      "100000 NSCLC SBS5 21940 0.9999999999997008\n",
      "100000 NSCLC SBS40 21940 0.9999999999996\n",
      "100000 NSCLC SBS2 21940 1.000000000000398\n",
      "100000 NSCLC SBS13 21940 1.000000000000382\n",
      "100000 NSCLC SBS1 21940 0.9999999999996408\n",
      "100000 PROSTATE SBS5 21940 0.9999999999999779\n",
      "100000 PROSTATE SBS1 21940 0.9999999999996473\n",
      "100000 PROSTATE SBS8 21940 1.0000000000000118\n",
      "100000 SKCM SBS7a 21940 1.0000000000003875\n",
      "100000 SKCM SBS7b 21940 1.0000000000002107\n",
      "50000 BLADDER_URI SBS2 43785 1.0000000000001763\n",
      "50000 BLADDER_URI SBS13 43785 0.9999999999998284\n",
      "50000 BLADDER_URI SBS5 43785 1.0000000000008449\n",
      "50000 BLADDER_URI SBS1 43785 0.9999999999998702\n",
      "50000 BRCA SBS5 43785 0.9999999999992322\n",
      "50000 BRCA SBS1 43785 1.000000000000679\n",
      "50000 BRCA SBS2 43785 0.9999999999999464\n",
      "50000 BRCA SBS13 43785 1.0000000000001033\n",
      "50000 BRCA SBS3 43785 0.9999999999996575\n",
      "50000 COADREAD SBS1 43785 0.9999999999992062\n",
      "50000 COADREAD SBS40 43785 0.9999999999992858\n",
      "50000 COADREAD SBS17b 43785 1.0000000000007392\n",
      "50000 COADREAD SBS5 43785 0.999999999999199\n",
      "50000 COADREAD SBS18 43785 0.9999999999998674\n",
      "50000 COADREAD SBS93 43785 1.0000000000007252\n",
      "50000 COADREAD SBS17a 43785 0.9999999999991689\n",
      "50000 ESOPHA_STOMACH SBS17b 43785 0.9999999999990729\n",
      "50000 ESOPHA_STOMACH SBS17a 43785 0.9999999999998848\n",
      "50000 ESOPHA_STOMACH SBS5 43785 0.9999999999993209\n",
      "50000 ESOPHA_STOMACH SBS1 43785 1.0000000000008347\n",
      "50000 NSCLC SBS4 43785 1.0000000000008284\n",
      "50000 NSCLC SBS5 43785 0.999999999999262\n",
      "50000 NSCLC SBS40 43785 0.999999999999378\n",
      "50000 NSCLC SBS2 43785 1.0000000000001135\n",
      "50000 NSCLC SBS13 43785 1.0000000000005842\n",
      "50000 NSCLC SBS1 43785 0.9999999999995908\n",
      "50000 PROSTATE SBS5 43785 0.9999999999991309\n",
      "50000 PROSTATE SBS1 43785 1.0000000000008242\n",
      "50000 PROSTATE SBS8 43785 1.0000000000007598\n",
      "50000 SKCM SBS7a 43785 0.9999999999993499\n",
      "50000 SKCM SBS7b 43785 0.9999999999992397\n",
      "25000 BLADDER_URI SBS2 87367 0.9999999999992115\n",
      "25000 BLADDER_URI SBS13 87367 0.9999999999981126\n",
      "25000 BLADDER_URI SBS5 87367 0.9999999999981672\n",
      "25000 BLADDER_URI SBS1 87367 1.0000000000012372\n",
      "25000 BRCA SBS5 87367 1.000000000000666\n",
      "25000 BRCA SBS1 87367 1.0000000000006042\n",
      "25000 BRCA SBS2 87367 0.9999999999969308\n",
      "25000 BRCA SBS13 87367 0.9999999999982218\n",
      "25000 BRCA SBS3 87367 0.9999999999983719\n",
      "25000 COADREAD SBS1 87367 0.9999999999983835\n",
      "25000 COADREAD SBS40 87367 1.000000000001738\n",
      "25000 COADREAD SBS17b 87367 0.9999999999981445\n",
      "25000 COADREAD SBS5 87367 0.9999999999982748\n",
      "25000 COADREAD SBS18 87367 0.9999999999982784\n",
      "25000 COADREAD SBS93 87367 0.9999999999982845\n",
      "25000 COADREAD SBS17a 87367 1.0000000000013922\n",
      "25000 ESOPHA_STOMACH SBS17b 87367 0.9999999999992748\n",
      "25000 ESOPHA_STOMACH SBS17a 87367 0.9999999999982696\n",
      "25000 ESOPHA_STOMACH SBS5 87367 1.000000000001529\n",
      "25000 ESOPHA_STOMACH SBS1 87367 0.9999999999998421\n",
      "25000 NSCLC SBS4 87367 0.9999999999999402\n",
      "25000 NSCLC SBS5 87367 1.0000000000011382\n",
      "25000 NSCLC SBS40 87367 1.0000000000016027\n",
      "25000 NSCLC SBS2 87367 0.9999999999981246\n",
      "25000 NSCLC SBS13 87367 0.9999999999981394\n",
      "25000 NSCLC SBS1 87367 1.0000000000009484\n"
     ]
    },
    {
     "name": "stdout",
     "output_type": "stream",
     "text": [
      "25000 PROSTATE SBS5 87367 0.9999999999997782\n",
      "25000 PROSTATE SBS1 87367 1.0000000000011486\n",
      "25000 PROSTATE SBS8 87367 0.9999999999999583\n",
      "25000 SKCM SBS7a 87367 0.9999999999984828\n",
      "25000 SKCM SBS7b 87367 0.9999999999991253\n",
      "10000 BLADDER_URI SBS2 217968 0.9999999999976973\n",
      "10000 BLADDER_URI SBS13 217968 0.9999999999978314\n",
      "10000 BLADDER_URI SBS5 217968 0.9999999999968141\n",
      "10000 BLADDER_URI SBS1 217968 1.0000000000022022\n",
      "10000 BRCA SBS5 217968 0.9999999999983777\n",
      "10000 BRCA SBS1 217968 0.9999999999977921\n",
      "10000 BRCA SBS2 217968 0.9999999999978689\n",
      "10000 BRCA SBS13 217968 0.9999999999978676\n",
      "10000 BRCA SBS3 217968 0.9999999999988541\n",
      "10000 COADREAD SBS1 217968 0.9999999999984202\n",
      "10000 COADREAD SBS40 217968 0.9999999999995753\n",
      "10000 COADREAD SBS17b 217968 0.9999999999947795\n",
      "10000 COADREAD SBS5 217968 0.9999999999984757\n",
      "10000 COADREAD SBS18 217968 0.9999999999969962\n",
      "10000 COADREAD SBS93 217968 0.9999999999988579\n",
      "10000 COADREAD SBS17a 217968 1.0000000000015496\n",
      "10000 ESOPHA_STOMACH SBS17b 217968 0.9999999999989165\n",
      "10000 ESOPHA_STOMACH SBS17a 217968 0.9999999999963788\n",
      "10000 ESOPHA_STOMACH SBS5 217968 0.9999999999991043\n",
      "10000 ESOPHA_STOMACH SBS1 217968 0.9999999999932215\n",
      "10000 NSCLC SBS4 217968 1.0000000000054183\n",
      "10000 NSCLC SBS5 217968 0.999999999999108\n",
      "10000 NSCLC SBS40 217968 1.0000000000004277\n",
      "10000 NSCLC SBS2 217968 0.999999999998952\n",
      "10000 NSCLC SBS13 217968 0.9999999999963584\n",
      "10000 NSCLC SBS1 217968 1.0000000000021563\n",
      "10000 PROSTATE SBS5 217968 0.9999999999981026\n",
      "10000 PROSTATE SBS1 217968 0.999999999997282\n",
      "10000 PROSTATE SBS8 217968 0.9999999999952766\n",
      "10000 SKCM SBS7a 217968 1.0000000000030524\n",
      "10000 SKCM SBS7b 217968 0.9999999999984245\n"
     ]
    }
   ],
   "source": [
    "# Load mutations per bin\n",
    "\n",
    "for bin_size in bins:\n",
    "    \n",
    "    pseudocount = int(bin_size)/1000000\n",
    "    \n",
    "    bin_size_str = f'{int(bin_size/1000)}kb'\n",
    "    # get bins available\n",
    "    bins_f = f'{main_dir}/genomic_bins/data/hg38_{bin_size_str}_bin.nodrivers.filtered.mappable_positions.autosomes.binids.txt'\n",
    "    bins_df = pd.read_csv(bins_f, sep='\\t', header=0)\n",
    "    total_bins = set(bins_df['BINID'].unique())\n",
    "    \n",
    "    for ctype, signatures in data_to_run.items(): \n",
    "        \n",
    "        # Read mutations per Mb\n",
    "        muts_f = f'{output_dir}/{ctype}.{bin_size_str}.nodrivers.total_maxprob.mutations_per_bin.json'\n",
    "        with open(muts_f, 'r') as fd: \n",
    "            m_per_bin = json.load(fd)\n",
    "\n",
    "        for signature in signatures:\n",
    "\n",
    "            # Get mutations \n",
    "            mutations = dict()\n",
    "            for binid in total_bins: \n",
    "                \n",
    "                mbinid_data = m_per_bin.get(binid)\n",
    "                \n",
    "                # If bin has at least 1 mutation from any signature\n",
    "                if mbinid_data: \n",
    "                    mutations[binid] = mbinid_data.get(signature, 0) + pseudocount\n",
    "                else: \n",
    "                    mutations[binid] = pseudocount\n",
    "                    \n",
    "            total_mutations = sum(mutations.values())\n",
    "            muts_norm = dict([(binid, counts/total_mutations) for binid, counts in mutations.items()])\n",
    "\n",
    "            output_f = f'{output_dir}/{ctype}_{signature}.{bin_size_str}.nodrivers.normmuts.total_maxprob.mutations_per_bin.relat_pcount.json'\n",
    "            with open(output_f, 'w') as ofd: \n",
    "                json.dump(muts_norm, ofd) \n",
    "\n",
    "            print(bin_size, ctype, signature, len(muts_norm.keys()), sum(muts_norm.values()))\n"
   ]
  }
 ],
 "metadata": {
  "kernelspec": {
   "display_name": "Python [conda env:hotspots_framework]",
   "language": "python",
   "name": "conda-env-hotspots_framework-py"
  },
  "language_info": {
   "codemirror_mode": {
    "name": "ipython",
    "version": 3
   },
   "file_extension": ".py",
   "mimetype": "text/x-python",
   "name": "python",
   "nbconvert_exporter": "python",
   "pygments_lexer": "ipython3",
   "version": "3.6.10"
  }
 },
 "nbformat": 4,
 "nbformat_minor": 2
}
