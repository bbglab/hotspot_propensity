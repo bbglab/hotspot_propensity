{
 "cells": [
  {
   "cell_type": "markdown",
   "metadata": {},
   "source": [
    "# Annotate samples"
   ]
  },
  {
   "cell_type": "markdown",
   "metadata": {},
   "source": [
    "Compute the number of mutations per sample including and excluding mutations in driver regions. Use PANCANCER file. "
   ]
  },
  {
   "cell_type": "code",
   "execution_count": 7,
   "metadata": {
    "collapsed": true
   },
   "outputs": [],
   "source": [
    "import os\n",
    "\n",
    "import pandas as pd"
   ]
  },
  {
   "cell_type": "code",
   "execution_count": 8,
   "metadata": {
    "collapsed": true
   },
   "outputs": [],
   "source": [
    "main_dir = ''"
   ]
  },
  {
   "cell_type": "code",
   "execution_count": 9,
   "metadata": {
    "collapsed": true
   },
   "outputs": [],
   "source": [
    "code = os.path.join(main_dir, 'inputs', 'code', 'annotate_samples.py')"
   ]
  },
  {
   "cell_type": "code",
   "execution_count": 10,
   "metadata": {
    "collapsed": true
   },
   "outputs": [],
   "source": [
    "map_file = os.path.join(main_dir, 'inputs', 'code', '7_annotate_samples.map')"
   ]
  },
  {
   "cell_type": "code",
   "execution_count": 11,
   "metadata": {
    "collapsed": true
   },
   "outputs": [],
   "source": [
    "info = [\n",
    "    '[params]',\n",
    "    'cores=1',\n",
    "    'memory=8G\\n',\n",
    "    '[pre]',\n",
    "    '. \"/home/$USER/miniconda3/etc/profile.d/conda.sh\"',\n",
    "    'conda activate hotspots_framework\\n',\n",
    "    '[jobs]'\n",
    "]"
   ]
  },
  {
   "cell_type": "code",
   "execution_count": 12,
   "metadata": {
    "collapsed": true
   },
   "outputs": [],
   "source": [
    "with open(map_file, 'w') as ofd: \n",
    "    \n",
    "    for line in info: \n",
    "        ofd.write(f'{line}\\n')\n",
    "    \n",
    "    # Include drivers\n",
    "    data_dir = os.path.join(main_dir, 'inputs', 'data', 'cancertypes_filtered')\n",
    "    input_file = os.path.join(data_dir, 'PANCANCER.filtered.in.gz')\n",
    "    output_file = os.path.join(main_dir, 'inputs', 'tables', 'sample_annotations.filtered.tsv')\n",
    "    ofd.write(f'python {code} -i {input_file} -o {output_file}\\n')\n",
    "    \n",
    "    # No drivers\n",
    "    data_dir = os.path.join(main_dir, 'inputs', 'data', 'cancertypes_filtered_nodrivers')\n",
    "    input_file = os.path.join(data_dir, 'PANCANCER.filtered.nodrivers.in.gz')\n",
    "    output_file = os.path.join(main_dir, 'inputs', 'tables', 'sample_annotations.filtered_nodrivers.tsv')\n",
    "    ofd.write(f'python {code} -i {input_file} -o {output_file}\\n')"
   ]
  }
 ],
 "metadata": {
  "kernelspec": {
   "display_name": "Python [conda env:hotspots_framework]",
   "language": "python",
   "name": "conda-env-hotspots_framework-py"
  },
  "language_info": {
   "codemirror_mode": {
    "name": "ipython",
    "version": 3
   },
   "file_extension": ".py",
   "mimetype": "text/x-python",
   "name": "python",
   "nbconvert_exporter": "python",
   "pygments_lexer": "ipython3",
   "version": "3.6.10"
  }
 },
 "nbformat": 4,
 "nbformat_minor": 2
}
