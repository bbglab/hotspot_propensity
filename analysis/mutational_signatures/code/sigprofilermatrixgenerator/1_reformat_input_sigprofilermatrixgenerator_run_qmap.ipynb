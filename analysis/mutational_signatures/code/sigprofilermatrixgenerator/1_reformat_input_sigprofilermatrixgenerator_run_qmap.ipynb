{
 "cells": [
  {
   "cell_type": "markdown",
   "metadata": {},
   "source": [
    "# Run reformat input file for SigProfilerMatrixGenerator"
   ]
  },
  {
   "cell_type": "markdown",
   "metadata": {},
   "source": [
    "SigProfilerMatrixGenerator requires a specific format as an input\n",
    "\n",
    "Read mutation files containing 1) all mutations, 2) mutations inside hotspots and 3) mutations outside hotspots and re-format accordingly"
   ]
  },
  {
   "cell_type": "code",
   "execution_count": 1,
   "metadata": {
    "collapsed": true
   },
   "outputs": [],
   "source": [
    "import os\n",
    "import gzip \n",
    "\n",
    "from collections import defaultdict\n",
    "\n",
    "import json\n",
    "import pandas as pd"
   ]
  },
  {
   "cell_type": "markdown",
   "metadata": {},
   "source": [
    "### 1) Input cancer type files with all mutations (inside and outside hotspots)"
   ]
  },
  {
   "cell_type": "code",
   "execution_count": 2,
   "metadata": {
    "collapsed": true
   },
   "outputs": [],
   "source": [
    "main_dir = ''"
   ]
  },
  {
   "cell_type": "code",
   "execution_count": 3,
   "metadata": {
    "collapsed": true
   },
   "outputs": [],
   "source": [
    "data_dir = os.path.join(main_dir, 'inputs', 'data', 'cancertypes_filtered_nodrivers')"
   ]
  },
  {
   "cell_type": "code",
   "execution_count": 4,
   "metadata": {
    "collapsed": true
   },
   "outputs": [],
   "source": [
    "matrixgen_dir = os.path.join(main_dir, 'signatures', 'sigprofilermatrixgenerator')"
   ]
  },
  {
   "cell_type": "code",
   "execution_count": 5,
   "metadata": {
    "collapsed": true
   },
   "outputs": [],
   "source": [
    "code = os.path.join(matrixgen_dir, 'code', 'reformat_input_sigprofilermatrixgenerator.py')\n",
    "map_file = os.path.join(matrixgen_dir, 'code', '1_reformat_input_sigprofilermatrixgenerator.map')\n",
    "output_dir = os.path.join(matrixgen_dir, 'output', 'mutations_total')"
   ]
  },
  {
   "cell_type": "code",
   "execution_count": 6,
   "metadata": {
    "collapsed": true
   },
   "outputs": [],
   "source": [
    "info = [\n",
    "    '[params]',\n",
    "    'cores=1',\n",
    "    'memory=8G\\n',\n",
    "    '[pre]',\n",
    "    '. \"/home/$USER/miniconda3/etc/profile.d/conda.sh\"',\n",
    "    'conda activate hotspots_framework\\n',\n",
    "    '[jobs]',\n",
    "]"
   ]
  },
  {
   "cell_type": "code",
   "execution_count": 7,
   "metadata": {
    "collapsed": true,
    "scrolled": false
   },
   "outputs": [],
   "source": [
    "with open(map_file, 'w') as ofd: \n",
    "    \n",
    "    for line in info: \n",
    "        ofd.write(f'{line}\\n')\n",
    "\n",
    "    for entry in os.scandir(data_dir): \n",
    "        if entry.name.endswith('.filtered.nodrivers.in.gz'): \n",
    "            project = entry.name.split('.')[0]\n",
    "            if project not in ['PANCANCER']: \n",
    "                project_output_directory = os.path.join(output_dir, project)\n",
    "                output_file = os.path.join(project_output_directory, f'{project}.txt')\n",
    "                if not os.path.exists(project_output_directory):\n",
    "                    os.makedirs(project_output_directory, exist_ok=True)\n",
    "\n",
    "                ofd.write(f'python {code} -i {entry.path} -o {output_file}\\n')"
   ]
  },
  {
   "cell_type": "markdown",
   "metadata": {},
   "source": [
    "### 2) Input cancer type files with mutations IN HOTSPOTS"
   ]
  },
  {
   "cell_type": "code",
   "execution_count": 8,
   "metadata": {
    "collapsed": true
   },
   "outputs": [],
   "source": [
    "main_dir = ''"
   ]
  },
  {
   "cell_type": "code",
   "execution_count": 9,
   "metadata": {
    "collapsed": true
   },
   "outputs": [],
   "source": [
    "data_type = 'cancertypes_filtered_nodrivers'\n",
    "hotspot_type = 'hotspots_n2_altsplit'\n",
    "location = 'in'"
   ]
  },
  {
   "cell_type": "code",
   "execution_count": 10,
   "metadata": {
    "collapsed": true
   },
   "outputs": [],
   "source": [
    "data_dir = f'{main_dir}/split_mutations/data/{data_type}/{hotspot_type}'"
   ]
  },
  {
   "cell_type": "code",
   "execution_count": 11,
   "metadata": {
    "collapsed": true
   },
   "outputs": [],
   "source": [
    "matrixgen_dir = os.path.join(main_dir, 'signatures', 'sigprofilermatrixgenerator')"
   ]
  },
  {
   "cell_type": "code",
   "execution_count": 12,
   "metadata": {
    "collapsed": true
   },
   "outputs": [],
   "source": [
    "code = os.path.join(matrixgen_dir, 'code', 'reformat_input_sigprofilermatrixgenerator.py')\n",
    "map_file = os.path.join(matrixgen_dir, 'code', f'1_reformat_input_sigprofilermatrixgenerator_{location}hotspots.map')\n",
    "output_dir = os.path.join(matrixgen_dir, 'output', f'mutations_in_hotspots')"
   ]
  },
  {
   "cell_type": "code",
   "execution_count": 13,
   "metadata": {
    "collapsed": true
   },
   "outputs": [],
   "source": [
    "info = [\n",
    "    '[params]',\n",
    "    'cores=1',\n",
    "    'memory=8G\\n',\n",
    "    '[pre]',\n",
    "    '. \"/home/$USER/miniconda3/etc/profile.d/conda.sh\"',\n",
    "    'conda activate hotspots_framework\\n',\n",
    "    '[jobs]',\n",
    "]"
   ]
  },
  {
   "cell_type": "code",
   "execution_count": 14,
   "metadata": {
    "collapsed": true,
    "scrolled": true
   },
   "outputs": [],
   "source": [
    "with open(map_file, 'w') as ofd: \n",
    "    \n",
    "    for line in info: \n",
    "        ofd.write(f'{line}\\n')\n",
    "\n",
    "    for entry in os.scandir(data_dir): \n",
    "        if entry.name.endswith(f'.mutations_{location}_hotspots.gz'): \n",
    "            project = entry.name.split('.')[0]\n",
    "            # Skip pancancer and RBL (no hotspots)\n",
    "            if project not in ['PANCANCER', 'RBL']: \n",
    "                project_output_directory = os.path.join(output_dir, project)\n",
    "                output_file = os.path.join(project_output_directory, f'{project}.txt')\n",
    "                if not os.path.exists(project_output_directory):\n",
    "                    os.makedirs(project_output_directory, exist_ok=True)\n",
    "\n",
    "                ofd.write(f'python {code} -i {entry.path} -o {output_file}\\n')"
   ]
  },
  {
   "cell_type": "markdown",
   "metadata": {},
   "source": [
    "### 3) Input cancer type files with mutations OUTSIDE HOTSPOTS"
   ]
  },
  {
   "cell_type": "code",
   "execution_count": 15,
   "metadata": {
    "collapsed": true
   },
   "outputs": [],
   "source": [
    "main_dir = ''"
   ]
  },
  {
   "cell_type": "code",
   "execution_count": 16,
   "metadata": {
    "collapsed": true
   },
   "outputs": [],
   "source": [
    "data_type = 'cancertypes_filtered_nodrivers'\n",
    "hotspot_type = 'hotspots_n2_altsplit'\n",
    "location = 'out'"
   ]
  },
  {
   "cell_type": "code",
   "execution_count": 17,
   "metadata": {
    "collapsed": true
   },
   "outputs": [],
   "source": [
    "data_dir = f'{main_dir}/split_mutations/data/{data_type}/{hotspot_type}'"
   ]
  },
  {
   "cell_type": "code",
   "execution_count": 18,
   "metadata": {
    "collapsed": true
   },
   "outputs": [],
   "source": [
    "matrixgen_dir = os.path.join(main_dir, 'signatures', 'sigprofilermatrixgenerator')"
   ]
  },
  {
   "cell_type": "code",
   "execution_count": 19,
   "metadata": {
    "collapsed": true
   },
   "outputs": [],
   "source": [
    "code = os.path.join(matrixgen_dir, 'code', 'reformat_input_sigprofilermatrixgenerator.py')\n",
    "map_file = os.path.join(matrixgen_dir, 'code', f'1_reformat_input_sigprofilermatrixgenerator_{location}hotspots.map')\n",
    "output_dir = os.path.join(matrixgen_dir, 'output', f'mutations_out_hotspots')"
   ]
  },
  {
   "cell_type": "code",
   "execution_count": 20,
   "metadata": {
    "collapsed": true
   },
   "outputs": [],
   "source": [
    "info = [\n",
    "    '[params]',\n",
    "    'cores=1',\n",
    "    'memory=8G\\n',\n",
    "    '[pre]',\n",
    "    '. \"/home/$USER/miniconda3/etc/profile.d/conda.sh\"',\n",
    "    'conda activate hotspots_framework\\n',\n",
    "    '[jobs]',\n",
    "]"
   ]
  },
  {
   "cell_type": "code",
   "execution_count": 21,
   "metadata": {
    "collapsed": true,
    "scrolled": true
   },
   "outputs": [],
   "source": [
    "with open(map_file, 'w') as ofd: \n",
    "    \n",
    "    for line in info: \n",
    "        ofd.write(f'{line}\\n')\n",
    "\n",
    "    for entry in os.scandir(data_dir): \n",
    "        if entry.name.endswith(f'.mutations_{location}_hotspots.gz'): \n",
    "            project = entry.name.split('.')[0]\n",
    "            # Skip pancancer and RBL (no hotspots)\n",
    "            if project not in ['PANCANCER', 'RBL']: \n",
    "                project_output_directory = os.path.join(output_dir, project)\n",
    "                output_file = os.path.join(project_output_directory, f'{project}.txt')\n",
    "                if not os.path.exists(project_output_directory):\n",
    "                    os.makedirs(project_output_directory, exist_ok=True)\n",
    "\n",
    "                ofd.write(f'python {code} -i {entry.path} -o {output_file}\\n')"
   ]
  }
 ],
 "metadata": {
  "kernelspec": {
   "display_name": "Python [conda env:hotspots_framework]",
   "language": "python",
   "name": "conda-env-hotspots_framework-py"
  },
  "language_info": {
   "codemirror_mode": {
    "name": "ipython",
    "version": 3
   },
   "file_extension": ".py",
   "mimetype": "text/x-python",
   "name": "python",
   "nbconvert_exporter": "python",
   "pygments_lexer": "ipython3",
   "version": "3.6.10"
  }
 },
 "nbformat": 4,
 "nbformat_minor": 2
}
