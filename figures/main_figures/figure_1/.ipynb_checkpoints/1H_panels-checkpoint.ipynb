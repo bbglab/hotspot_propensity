{
 "cells": [
  {
   "cell_type": "markdown",
   "metadata": {},
   "source": [
    "# Plots describing hotspot size in Fig 1H"
   ]
  },
  {
   "cell_type": "code",
   "execution_count": 1,
   "metadata": {
    "collapsed": true
   },
   "outputs": [],
   "source": [
    "from collections import defaultdict\n",
    "import os\n",
    "import json \n",
    "\n",
    "import matplotlib\n",
    "from matplotlib.lines import Line2D\n",
    "import matplotlib.pyplot as plt\n",
    "from matplotlib import rcParams\n",
    "import numpy as np\n",
    "import pandas as pd\n",
    "import scipy"
   ]
  },
  {
   "cell_type": "code",
   "execution_count": 2,
   "metadata": {
    "collapsed": true
   },
   "outputs": [],
   "source": [
    "rcParams['font.family'] = 'sans-serif'\n",
    "rcParams['font.sans-serif'] = ['Arial']"
   ]
  },
  {
   "cell_type": "code",
   "execution_count": 3,
   "metadata": {
    "collapsed": true
   },
   "outputs": [],
   "source": [
    "# Colors\n",
    "color_data = {\n",
    "    'snv' : '#207cb8ff', \n",
    "    'mnv' : '#ffdca8ff',\n",
    "    'ins' : '#5fd38dff',\n",
    "    'del' : '#f76e6bff'\n",
    "}"
   ]
  },
  {
   "cell_type": "code",
   "execution_count": 4,
   "metadata": {
    "collapsed": true
   },
   "outputs": [],
   "source": [
    "title_muttype_d = {\n",
    "    'snv': 'SNV hotspots', \n",
    "    'mnv': 'MNV hotspots', \n",
    "    'ins': 'Insertion hotspots', \n",
    "    'del': 'Deletion hotspots'\n",
    "}"
   ]
  },
  {
   "cell_type": "markdown",
   "metadata": {},
   "source": [
    "#### Load data"
   ]
  },
  {
   "cell_type": "markdown",
   "metadata": {},
   "source": [
    "We will use Dataset EV2 and hotspots per cancer type (Zenodo repository)"
   ]
  },
  {
   "cell_type": "code",
   "execution_count": 5,
   "metadata": {
    "collapsed": true
   },
   "outputs": [],
   "source": [
    "data_dir = './data'"
   ]
  },
  {
   "cell_type": "code",
   "execution_count": 6,
   "metadata": {},
   "outputs": [],
   "source": [
    "# Cancer types (we will only use Level A cancer types)\n",
    "# This input data corresponds to Dataset EV2\n",
    "ctype_f = os.path.join(data_dir, 'EV2_table.txt')\n",
    "ctype_df = pd.read_csv(ctype_f, sep='\\t', header=0)\n",
    "level_A = list(ctype_df.loc[ctype_df['LEVEL_ANALYSIS'] == 'A']['CANCER_TYPE'])\n",
    "level_long = dict(list(zip(ctype_df['CANCER_TYPE'], [i.split(' (')[0] for i in ctype_df['CANCER_TYPE_LONG']])))"
   ]
  },
  {
   "cell_type": "code",
   "execution_count": 7,
   "metadata": {},
   "outputs": [
    {
     "name": "stdout",
     "output_type": "stream",
     "text": [
      "ACC\n",
      "ALL\n",
      "EPM\n",
      "HGGNOS\n",
      "LGGNOS\n",
      "NBL\n",
      "Cancer type RBL has no hotspots\n",
      "AN\n",
      "BILIARY_TRACT\n",
      "COADREAD\n",
      "ES\n",
      "HEAD_NECK\n",
      "LIVER\n",
      "SCLC\n",
      "PLMESO\n",
      "GBM\n",
      "LNET\n",
      "SBNET\n",
      "OV\n",
      "BCC\n",
      "SKCM\n",
      "CSCC\n",
      "SBC\n",
      "THYROID\n",
      "BLADDER_URI\n",
      "CERVIX\n",
      "VULVA\n",
      "BRCA\n",
      "MBL\n",
      "ODG\n",
      "PAST\n",
      "KIDNEY\n",
      "NSCLC\n",
      "NHL\n",
      "AML\n",
      "MPN\n",
      "PANCREAS\n",
      "PROSTATE\n",
      "ST\n",
      "UCEC\n",
      "BONE_SOFT_TISSUE\n"
     ]
    }
   ],
   "source": [
    "# Read hotspots\n",
    "data = {}    \n",
    "ctypes_to_analyze = []\n",
    "\n",
    "for ctype in level_A: \n",
    "    # These are output files from HotspotFinder containing hotspots per cancer type\n",
    "    input_f = os.path.join(data_dir, f'{ctype}.hotspots_n2_altsplit_nodrivers.tsv.gz')\n",
    "    df = pd.read_csv(input_f, sep='\\t', header=0)\n",
    "    summary_results = defaultdict(dict)\n",
    "    \n",
    "    if len(df) > 0: \n",
    "        for mutype in ['snv', 'mnv', 'ins', 'del']: \n",
    "            mutype_df = df.loc[df['MUT_TYPE'] == mutype].copy()\n",
    "            mutype_df['ANNOTATION'] = mutype_df['CODING_NONCODING']\n",
    "            mutype_df['ANNOTATION'] = mutype_df.apply(lambda x: 'IG/TCR' if x['IG_TR_OVERLAP'] else x['ANNOTATION'], axis=1)\n",
    "            n_samples = mutype_df['N_MUTATED_SAMPLES'].to_list()\n",
    "            hotspots_ids = mutype_df['HOTSPOT_ID'].to_list()\n",
    "            ge_region = mutype_df['ANNOTATION'].to_list()\n",
    "            symbols = mutype_df['SYMBOL'].to_list()   \n",
    "            info = [f'{i[0]}::{i[1]}::{i[2]}::{i[3]}::{i[4]}' for i in zip(n_samples, [ctype]*len(hotspots_ids), hotspots_ids, ge_region, symbols)]\n",
    "            \n",
    "            summary_results[mutype]['n_samples'] = n_samples\n",
    "            summary_results[mutype]['info'] = info\n",
    "        \n",
    "        # Save\n",
    "        data[ctype] = summary_results    \n",
    "        print(ctype)\n",
    "        ctypes_to_analyze.append(ctype)\n",
    "                        \n",
    "    else: \n",
    "        print(f'Cancer type {ctype} has no hotspots')"
   ]
  },
  {
   "cell_type": "markdown",
   "metadata": {},
   "source": [
    "## Panel 1H "
   ]
  },
  {
   "cell_type": "markdown",
   "metadata": {},
   "source": [
    "### Histograms showing hotspot size distribution"
   ]
  },
  {
   "cell_type": "code",
   "execution_count": 8,
   "metadata": {
    "collapsed": true
   },
   "outputs": [],
   "source": [
    "def histogram(data_to_plot, mutype, threshold): \n",
    "    \n",
    "    ax.set_xlabel('# samples', fontsize=6)\n",
    "    ax.set_ylabel('frequency', fontsize=6)\n",
    "    ax.set_axisbelow(True)\n",
    "\n",
    "    total_hotspots = len(data_to_plot)\n",
    "    y = []\n",
    "    for cutoff in range (2, threshold + 1): \n",
    "        if cutoff < threshold: \n",
    "            counts = data_to_plot.count(cutoff)\n",
    "        else: \n",
    "            counts = len([i for i in data_to_plot if i >= threshold])\n",
    "        fraction = counts / total_hotspots\n",
    "        y.append(fraction)\n",
    "    x = [i + 2 for i in range(len(y))]\n",
    "    matplotlib.pyplot.bar(x, y, width=0.9, color=color_data[mutype])\n",
    "    \n",
    "    ax.set_xticks([2, 5, cutoff])\n",
    "    ax.set_xticklabels(['2', '5', f'>={threshold}'], fontsize=5)\n",
    "    ax.set_yticks([0.25, 0.5, 0.75, 1])\n",
    "    ax.set_xlim(1, 8)\n",
    "    ax.set_xticks([2, 4, 6, 8])\n",
    "    ax.set_xticklabels([2, 4, 6, 8], fontsize=5)\n",
    "    \n",
    "    # Plot params\n",
    "    plt.xticks(rotation=0, fontsize=6)\n",
    "    plt.yticks(rotation=0, fontsize=6)\n",
    "\n",
    "    ax.spines['right'].set_visible(False)\n",
    "    ax.spines['top'].set_visible(False)\n",
    "    for axis in ['top','bottom','left','right']:\n",
    "        ax.spines[axis].set_linewidth(0.5)\n",
    "    ax.xaxis.set_tick_params(width=0.5)\n",
    "    ax.yaxis.set_tick_params(width=0.5)\n",
    "\n",
    "    plt.title(f'{title_muttype_d[mutype]} (n={total_hotspots})', fontsize=6)"
   ]
  },
  {
   "cell_type": "code",
   "execution_count": 9,
   "metadata": {
    "collapsed": true
   },
   "outputs": [],
   "source": [
    "# Generate data for the histograms\n",
    "data_for_histogram = defaultdict(list)\n",
    "data_for_dotplot = defaultdict(list)\n",
    "for ctype, ctype_data in data.items(): \n",
    "    if ctype in level_A: \n",
    "        for mutype, hotspots_data in ctype_data.items(): \n",
    "            data_for_histogram[mutype] += hotspots_data['n_samples']\n",
    "            data_for_dotplot[mutype] += list(zip(hotspots_data['n_samples'], hotspots_data['info']))"
   ]
  },
  {
   "cell_type": "code",
   "execution_count": 10,
   "metadata": {
    "scrolled": false
   },
   "outputs": [
    {
     "name": "stdout",
     "output_type": "stream",
     "text": [
      "snv\n",
      "mnv\n",
      "ins\n",
      "del\n"
     ]
    },
    {
     "data": {
      "image/png": "[encoded data removed]",
      "text/plain": [
       "<Figure size 72x432 with 4 Axes>"
      ]
     },
     "metadata": {
      "needs_background": "light"
     },
     "output_type": "display_data"
    }
   ],
   "source": [
    "# Plot\n",
    "fig = plt.figure(figsize=(1, 6))\n",
    "plt.subplots_adjust(left=0.1,\n",
    "                    bottom=0.1, \n",
    "                    right=0.9, \n",
    "                    top=0.9, \n",
    "                    wspace=0.3, \n",
    "                    hspace=0.75)\n",
    "threshold = 10\n",
    "for i, mutype in enumerate(['snv', 'mnv', 'ins', 'del'], 1):\n",
    "    print(mutype)\n",
    "    ax = fig.add_subplot(4, 1, i)\n",
    "    ax = histogram(data_for_histogram[mutype], mutype, threshold)\n",
    "\n",
    "for extension in ['png']: \n",
    "    output = f'./fig_1H_histograms.{extension}'\n",
    "    plt.savefig(output, bbox_inches='tight', dpi=300)"
   ]
  },
  {
   "cell_type": "markdown",
   "metadata": {
    "collapsed": true
   },
   "source": [
    "### Dotplot showing individual hotspot sizes"
   ]
  },
  {
   "cell_type": "code",
   "execution_count": 11,
   "metadata": {
    "collapsed": true
   },
   "outputs": [],
   "source": [
    "region_markers = {\n",
    "    'CODING': ('s', 30),\n",
    "    'IG/TCR': ('x', 55),\n",
    "    'NONCODING': ('d', 55),\n",
    "}"
   ]
  },
  {
   "cell_type": "code",
   "execution_count": 12,
   "metadata": {
    "collapsed": true
   },
   "outputs": [],
   "source": [
    "ctype_colors = {\n",
    "    'NHL': '#1f77b4ff', \n",
    "    'SKCM': '#d62728ff', \n",
    "    'BRCA': '#aec7e8ff', \n",
    "    'COADREAD': '#ffbb78ff', \n",
    "    'NSCLC': '#2ca02cff', \n",
    "    'PROSTATE': '#ff7f0eff',\n",
    "    'LIVER': '#98df8aff'\n",
    "}"
   ]
  },
  {
   "cell_type": "code",
   "execution_count": 13,
   "metadata": {
    "collapsed": true
   },
   "outputs": [],
   "source": [
    "mutype_threshold = {\n",
    "    'snv': 60, \n",
    "    'mnv': 10, \n",
    "    'ins': 40, \n",
    "    'del': 30\n",
    "}"
   ]
  },
  {
   "cell_type": "code",
   "execution_count": 14,
   "metadata": {
    "scrolled": false
   },
   "outputs": [
    {
     "name": "stdout",
     "output_type": "stream",
     "text": [
      "snv\n",
      "((78, '78::NHL::22_22881259_snv>A::IG/TCR::None'), 77.99934029200229, 1)\n",
      "((109, '109::NHL::22_22881259_snv>C::IG/TCR::None'), 108.98401871034422, 1)\n",
      "mnv\n",
      "((10, '10::SKCM::3_16264997_mnv>TT::NONCODING::DPH3;OXNAD1'), 9.988500697752539, 0.8563946163161543)\n",
      "((10, '10::PROSTATE::X_66975839_mnv>GC::NONCODING::None'), 9.979976852317236, 1.5083136842633698)\n",
      "((11, '11::COADREAD::4_150998842_mnv>ACGGCGACCA::NONCODING::LRBA'), 11.002640098536425, 1)\n",
      "ins\n",
      "((48, '48::BRCA::9_33150270_ins>GA::NONCODING::B4GALT1'), 48.00069983897511, 1)\n",
      "del\n",
      "((31, '31::LIVER::18_58452573_del>AAG::NONCODING::MIR122HG'), 31.003454156542386, 1)\n",
      "((35, '35::COADREAD::4_171055952_del>TATCC::NONCODING::LINC02431'), 34.97855244573186, 1)\n"
     ]
    },
    {
     "data": {
      "image/png": "[encoded data removed]",
      "text/plain": [
       "<Figure size 216x72 with 1 Axes>"
      ]
     },
     "metadata": {
      "needs_background": "light"
     },
     "output_type": "display_data"
    },
    {
     "data": {
      "image/png": "[encoded data removed]",
      "text/plain": [
       "<Figure size 216x72 with 1 Axes>"
      ]
     },
     "metadata": {
      "needs_background": "light"
     },
     "output_type": "display_data"
    },
    {
     "data": {
      "image/png": "[encoded data removed]",
      "text/plain": [
       "<Figure size 216x72 with 1 Axes>"
      ]
     },
     "metadata": {
      "needs_background": "light"
     },
     "output_type": "display_data"
    },
    {
     "data": {
      "image/png": "[encoded data removed]",
      "text/plain": [
       "<Figure size 216x72 with 1 Axes>"
      ]
     },
     "metadata": {
      "needs_background": "light"
     },
     "output_type": "display_data"
    }
   ],
   "source": [
    "for i, mutype in enumerate(['snv', 'mnv', 'ins', 'del'], 1): \n",
    "    \n",
    "    print(mutype)\n",
    "    \n",
    "    fig = plt.figure(figsize=(3, 1))\n",
    "    ax = plt.subplot2grid((1, 1), (0, 0))\n",
    "    ax.set_xlabel('# samples', fontsize=12)\n",
    "    \n",
    "    \n",
    "    ## Get the data to plot\n",
    "    total_hotspots = sorted(data_for_dotplot[mutype], key=lambda x: x[0])\n",
    "    total_sample_sizes = [i[0] for i in total_hotspots]\n",
    "    \n",
    "    ctypes = set()\n",
    "    for n_samples in sorted(list(set(total_sample_sizes))):     # iterate over x (number of samples) \n",
    "        n_hotspots = total_sample_sizes.count(n_samples)\n",
    "        info_hotspots = [i for i in total_hotspots if i[0] == n_samples]\n",
    "        \n",
    "        # Subsample hotspots to generate less dots in the plot \n",
    "        # This helps in those sample sizes with too many dots (eases computation)\n",
    "        if n_hotspots > 1000: \n",
    "            indexes = np.random.choice(n_hotspots, 1000)\n",
    "            info_hotspots = np.array(total_hotspots)[indexes]\n",
    "            n_hotspots = 1000\n",
    "        \n",
    "        # Add dispersion to show dots over y axis\n",
    "        x_dispersion = list(np.random.normal(n_samples, 0.01, size=n_hotspots))\n",
    "        if n_hotspots > 1: \n",
    "            y_dispersion = list(np.random.normal(1, 1-1/n_hotspots, size=n_hotspots))\n",
    "        else:\n",
    "            y_dispersion = [1] * n_hotspots     \n",
    "            \n",
    "        \n",
    "        # Print info to annotate the final figure\n",
    "        if n_samples >= mutype_threshold[mutype]: \n",
    "            for h in list(zip(info_hotspots, x_dispersion, y_dispersion)): \n",
    "                color = ctype_colors[h[0][1].split('::')[1]]\n",
    "                marker = region_markers[h[0][1].split('::')[-2]][0]\n",
    "                plt.plot(h[1], h[2], marker, markersize=5, linewidth=3, color=color, alpha=1, zorder=3)\n",
    "                print(h)\n",
    "                ctypes.add(h[0][1].split('::')[1])\n",
    "        else:     \n",
    "            plt.plot(x_dispersion, y_dispersion, '.', markersize=10, linewidth=0, color='darkgrey', alpha=0.5, zorder=0)\n",
    "    \n",
    "    \n",
    "    # Plot params\n",
    "    ax.set_yticks([])\n",
    "    xticks = {\n",
    "        'snv': [2, 25, 50, 100, 150, max(total_sample_sizes)], \n",
    "        'mnv': [2, 5, 7, max(total_sample_sizes)], \n",
    "        'ins': [2, 5, 10, 25, max(total_sample_sizes)], \n",
    "        'del': [2, 5, 10, 20, max(total_sample_sizes)], \n",
    "    }\n",
    "    ax.set_xticks(xticks[mutype])\n",
    "    right_margin = max(total_sample_sizes) + max(total_sample_sizes)/10\n",
    "    ax.set_xlim(xmin=2-0.5, xmax=right_margin)\n",
    "    for tick in ax.xaxis.get_major_ticks():\n",
    "            tick.label.set_fontsize(12) \n",
    "\n",
    "    for extension in ['png']: \n",
    "        output = f'./fig_1H_dotplot_{mutype}.{extension}'\n",
    "        plt.savefig(output, bbox_inches='tight', dpi=300)"
   ]
  }
 ],
 "metadata": {
  "kernelspec": {
   "display_name": "Python [conda env:hotspot_propensity]",
   "language": "python",
   "name": "conda-env-hotspot_propensity-py"
  },
  "language_info": {
   "codemirror_mode": {
    "name": "ipython",
    "version": 3
   },
   "file_extension": ".py",
   "mimetype": "text/x-python",
   "name": "python",
   "nbconvert_exporter": "python",
   "pygments_lexer": "ipython3",
   "version": "3.6.13"
  }
 },
 "nbformat": 4,
 "nbformat_minor": 2
}
