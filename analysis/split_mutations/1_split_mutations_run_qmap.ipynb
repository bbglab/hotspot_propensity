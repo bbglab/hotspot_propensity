{
 "cells": [
  {
   "cell_type": "markdown",
   "metadata": {},
   "source": [
    "# Split mutations"
   ]
  },
  {
   "cell_type": "markdown",
   "metadata": {},
   "source": [
    "For each cancer type with 1 or more hotspots of equal alternate (alternate specific), read the file containing somatic mutations and the file containing hotspots. Then classify mutations as inside hotspots (overlapping hotspots) and outside hotspots (non-overlapping hotspots). \n",
    "\n",
    "Two files are generated per cancer type: \n",
    "* [CANCERTYPE].mutations_in_hotspots.gz       \n",
    "* [CANCERTYPE].mutations_out_hotspots.gz\n"
   ]
  },
  {
   "cell_type": "code",
   "execution_count": 1,
   "metadata": {
    "collapsed": true
   },
   "outputs": [],
   "source": [
    "import os"
   ]
  },
  {
   "cell_type": "code",
   "execution_count": 2,
   "metadata": {
    "collapsed": true
   },
   "outputs": [],
   "source": [
    "main_dir = ''\n",
    "output_path_data = os.path.join(main_dir, 'split_mutations', 'data')\n",
    "output_path_code = os.path.join(main_dir, 'split_mutations', 'code')\n",
    "code_file = os.path.join(output_path_code, 'split_mutations.py')\n",
    "map_file = os.path.join(output_path_code, 'split_mutations.map')"
   ]
  },
  {
   "cell_type": "code",
   "execution_count": 3,
   "metadata": {
    "collapsed": true
   },
   "outputs": [],
   "source": [
    "# Parameters\n",
    "samples_threshold = '2'\n",
    "data_type = 'cancertypes_filtered_nodrivers'\n",
    "suffix = '.filtered.nodrivers.in.gz'\n",
    "alternates = 'altsplit'"
   ]
  },
  {
   "cell_type": "code",
   "execution_count": 4,
   "metadata": {
    "collapsed": true
   },
   "outputs": [],
   "source": [
    "## Input data\n",
    "\n",
    "# Mutations file\n",
    "input_path_mutations = os.path.join(main_dir, 'inputs', 'data', data_type) \n",
    "\n",
    "# Hotspots file\n",
    "input_path_hotspots = os.path.join(\n",
    "    main_dir, 'hotspots', 'data', f'{data_type}/hotspots_n{samples_threshold}_{alternates}')"
   ]
  },
  {
   "cell_type": "code",
   "execution_count": 5,
   "metadata": {
    "collapsed": true
   },
   "outputs": [],
   "source": [
    "# Create output directory\n",
    "output_path = os.path.join(output_path_data, f'{data_type}/hotspots_n{samples_threshold}_{alternates}')\n",
    "if not os.path.exists(output_path):\n",
    "    os.makedirs(output_path, exist_ok=True)"
   ]
  },
  {
   "cell_type": "code",
   "execution_count": 6,
   "metadata": {
    "collapsed": true
   },
   "outputs": [],
   "source": [
    "info = [\n",
    "    '[params]',\n",
    "    'cores=1',\n",
    "    'memory=50G\\n',\n",
    "    '[pre]',\n",
    "    '. \"/home/$USER/miniconda3/etc/profile.d/conda.sh\"',\n",
    "    'conda activate hotspots_framework\\n',\n",
    "    '[jobs]',\n",
    "]"
   ]
  },
  {
   "cell_type": "code",
   "execution_count": 7,
   "metadata": {
    "collapsed": true,
    "scrolled": false
   },
   "outputs": [],
   "source": [
    "with open(map_file, 'w') as ofd: \n",
    "    for line in info: \n",
    "        ofd.write(f'{line}\\n')\n",
    "    for entry in os.scandir(input_path_hotspots): \n",
    "        if entry.is_file() and entry.name.endswith('.results.tsv.gz'): \n",
    "            cancertype = entry.name.split(\".\")[0]\n",
    "            if cancertype not in ['RBL']:    # cancer types without hotspots \n",
    "                mutations = os.path.join(input_path_mutations, f'{cancertype}{suffix}')\n",
    "                hotspots = entry.path\n",
    "                output = output_path\n",
    "                ofd.write(\n",
    "                    f'python {code_file} -c {cancertype} -m {mutations} -h {hotspots} -o {output}  \\n'\n",
    "                )            "
   ]
  }
 ],
 "metadata": {
  "kernelspec": {
   "display_name": "Python [conda env:hotspots_framework]",
   "language": "python",
   "name": "conda-env-hotspots_framework-py"
  },
  "language_info": {
   "codemirror_mode": {
    "name": "ipython",
    "version": 3
   },
   "file_extension": ".py",
   "mimetype": "text/x-python",
   "name": "python",
   "nbconvert_exporter": "python",
   "pygments_lexer": "ipython3",
   "version": "3.6.10"
  }
 },
 "nbformat": 4,
 "nbformat_minor": 2
}
