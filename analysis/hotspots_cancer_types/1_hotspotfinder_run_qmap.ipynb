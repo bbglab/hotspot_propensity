{
 "cells": [
  {
   "cell_type": "markdown",
   "metadata": {},
   "source": [
    "# Run HotspotFinder"
   ]
  },
  {
   "cell_type": "markdown",
   "metadata": {},
   "source": [
    "Run HotspotFinder algorithm across cancer types, excluding mutations in driver regions. \n",
    "    \n",
    "Identify hotspots of 2 or more mutated samples that are alternate specific, this is, are composed of the same mutation (altsplit). "
   ]
  },
  {
   "cell_type": "code",
   "execution_count": 1,
   "metadata": {
    "collapsed": true
   },
   "outputs": [],
   "source": [
    "import os"
   ]
  },
  {
   "cell_type": "code",
   "execution_count": 2,
   "metadata": {
    "collapsed": true
   },
   "outputs": [],
   "source": [
    "main_dir = ''\n",
    "input_path_main = os.path.join(main_dir, 'inputs', 'data') \n",
    "output_path_data = os.path.join(main_dir, 'hotspots', 'data')\n",
    "output_path_code = os.path.join(main_dir, 'hotspots', 'code')"
   ]
  },
  {
   "cell_type": "code",
   "execution_count": 3,
   "metadata": {
    "collapsed": true
   },
   "outputs": [],
   "source": [
    "# Parameters\n",
    "samples_threshold = '2'\n",
    "data_types = ['cancertypes_filtered_nodrivers']\n",
    "alternates = ['altsplit']"
   ]
  },
  {
   "cell_type": "code",
   "execution_count": 4,
   "metadata": {
    "collapsed": true
   },
   "outputs": [],
   "source": [
    "# Generate output directories and configuration files\n",
    "for data_type in data_types: \n",
    "    for alternate in alternates: \n",
    "        split_alternates = 'True' if alternate == 'altsplit' else 'False'\n",
    "        # Output\n",
    "        output_path = os.path.join(output_path_data, f'{data_type}/hotspots_n{samples_threshold}_{alternate}')\n",
    "        if not os.path.exists(output_path):\n",
    "            os.makedirs(output_path, exist_ok=True)\n",
    "        # Configuration\n",
    "        config_path = os.path.join(output_path, f'hotspot.conf')\n",
    "        config = [\n",
    "            'genome = \"hg38\"',\n",
    "            'cores = 1',\n",
    "            'output_format = \"tsv.gz\"',\n",
    "\n",
    "            'mappable_regions = \"%(bgdata://genomemappability/hg38/gem_100bp)\"',\n",
    "            'blacklisted_regions = \"%(bgdata://genomemappability/hg38/blacklist)\"',\n",
    "            'population_variants = \"%(bgdata://populationvariants/hg38/gnomad_v3_AF1)\"',\n",
    "            'repeats = \"%(bgdata://repeatmasker/repeats/hg38)\"',\n",
    "            'ig_tr_regions = \"%(bgdata://gencode/ig_tr_regions/hg38)\"',\n",
    "            'genomic_elements = \"%(bgdata://gencode/annotations/hg38)\"\\n',\n",
    "\n",
    "            '[finder]\\n',\n",
    "\n",
    "            f'samples_cutoff = {samples_threshold}',\n",
    "            f'mutations_cutoff = {samples_threshold}',\n",
    "            'remove_nonannotated_hotspots = False',\n",
    "            f'split_alternates = {split_alternates}',\n",
    "            'annotate = True',\n",
    "        ]\n",
    "        with open(config_path, 'w') as ofd: \n",
    "            for line in config: \n",
    "                ofd.write(f'{line}\\n')"
   ]
  },
  {
   "cell_type": "markdown",
   "metadata": {},
   "source": [
    "### Run memory high cancer types"
   ]
  },
  {
   "cell_type": "code",
   "execution_count": 13,
   "metadata": {
    "collapsed": true
   },
   "outputs": [],
   "source": [
    "memory_high_cancertypes = ['PANCANCER', 'SKCM', 'SKIN', 'LUNG', 'NSCLC']"
   ]
  },
  {
   "cell_type": "code",
   "execution_count": 14,
   "metadata": {
    "collapsed": true
   },
   "outputs": [],
   "source": [
    "output_file = os.path.join(output_path_code, 'hotspotfinder_memory_high.map')"
   ]
  },
  {
   "cell_type": "code",
   "execution_count": 15,
   "metadata": {
    "collapsed": true
   },
   "outputs": [],
   "source": [
    "info = [\n",
    "    '[params]',\n",
    "    'cores=1',\n",
    "    'memory=150G\\n',\n",
    "    '[pre]',\n",
    "    '. \"/home/$USER/miniconda3/etc/profile.d/conda.sh\"',\n",
    "    'conda activate hotspots_framework\\n',\n",
    "    '[jobs]',\n",
    "]"
   ]
  },
  {
   "cell_type": "code",
   "execution_count": 16,
   "metadata": {},
   "outputs": [
    {
     "name": "stdout",
     "output_type": "stream",
     "text": [
      "PANCANCER.filtered.nodrivers.in.gz\n",
      "NSCLC.filtered.nodrivers.in.gz\n",
      "SKIN.filtered.nodrivers.in.gz\n",
      "LUNG.filtered.nodrivers.in.gz\n",
      "SKCM.filtered.nodrivers.in.gz\n"
     ]
    }
   ],
   "source": [
    "with open(output_file, 'w') as ofd: \n",
    "    for line in info: \n",
    "        ofd.write(f'{line}\\n')\n",
    "    # For each mutation type\n",
    "    for data_type in data_types:\n",
    "        input_path = os.path.join(input_path_main, data_type)\n",
    "        # For each cancer type\n",
    "        for entry in os.scandir(input_path): \n",
    "            if entry.is_file() and entry.name.endswith('.in.gz'): \n",
    "                if entry.name.split('.')[0] in memory_high_cancertypes: \n",
    "                    print(entry.name)\n",
    "                    # Write jobs\n",
    "                    for alternate in alternates: \n",
    "                        output_path = os.path.join(output_path_data, f'{data_type}/hotspots_n{samples_threshold}_{alternate}')\n",
    "                        config_path = os.path.join(output_path, f'hotspot.conf')\n",
    "                        ofd.write(f'hotspotfinder -i {entry.path} -o {output_path} -conf {config_path} \\n')            "
   ]
  },
  {
   "cell_type": "markdown",
   "metadata": {},
   "source": [
    "### Run memory low cancer types"
   ]
  },
  {
   "cell_type": "code",
   "execution_count": 18,
   "metadata": {
    "collapsed": true
   },
   "outputs": [],
   "source": [
    "output_file = os.path.join(output_path_code, 'hotspotfinder_memory_low.map')"
   ]
  },
  {
   "cell_type": "code",
   "execution_count": 19,
   "metadata": {
    "collapsed": true
   },
   "outputs": [],
   "source": [
    "info = [\n",
    "    '[params]',\n",
    "    'cores=1',\n",
    "    'memory=24G\\n',\n",
    "    '[pre]',\n",
    "    '. \"/home/$USER/miniconda3/etc/profile.d/conda.sh\"',\n",
    "    'conda activate hotspots_framework\\n',\n",
    "    '[jobs]',\n",
    "]"
   ]
  },
  {
   "cell_type": "code",
   "execution_count": 20,
   "metadata": {},
   "outputs": [
    {
     "name": "stdout",
     "output_type": "stream",
     "text": [
      "HGGNOS.filtered.nodrivers.in.gz\n",
      "BRAIN.filtered.nodrivers.in.gz\n",
      "ACC.filtered.nodrivers.in.gz\n",
      "NBL.filtered.nodrivers.in.gz\n",
      "LNM.filtered.nodrivers.in.gz\n",
      "LGGNOS.filtered.nodrivers.in.gz\n",
      "EPM.filtered.nodrivers.in.gz\n",
      "NHL.filtered.nodrivers.in.gz\n",
      "PAST.filtered.nodrivers.in.gz\n",
      "BOWEL.filtered.nodrivers.in.gz\n",
      "PANCREAS.filtered.nodrivers.in.gz\n",
      "BONE_SOFT_TISSUE.filtered.nodrivers.in.gz\n",
      "KIDNEY.filtered.nodrivers.in.gz\n",
      "LIVER.filtered.nodrivers.in.gz\n",
      "LNET.filtered.nodrivers.in.gz\n",
      "UCEC.filtered.nodrivers.in.gz\n",
      "HEAD_NECK.filtered.nodrivers.in.gz\n",
      "BILIARY_TRACT.filtered.nodrivers.in.gz\n",
      "COADREAD.filtered.nodrivers.in.gz\n",
      "ALL.filtered.nodrivers.in.gz\n",
      "MPN.filtered.nodrivers.in.gz\n",
      "AN.filtered.nodrivers.in.gz\n",
      "ESOPHA_STOMACH.filtered.nodrivers.in.gz\n",
      "SCLC.filtered.nodrivers.in.gz\n",
      "ST.filtered.nodrivers.in.gz\n",
      "RBL.filtered.nodrivers.in.gz\n",
      "CERVIX.filtered.nodrivers.in.gz\n",
      "VULVA.filtered.nodrivers.in.gz\n",
      "PROSTATE.filtered.nodrivers.in.gz\n",
      "PLMESO.filtered.nodrivers.in.gz\n",
      "CSCC.filtered.nodrivers.in.gz\n",
      "ODG.filtered.nodrivers.in.gz\n",
      "MBL.filtered.nodrivers.in.gz\n",
      "THYROID.filtered.nodrivers.in.gz\n",
      "BRCA.filtered.nodrivers.in.gz\n",
      "GBM.filtered.nodrivers.in.gz\n",
      "ES.filtered.nodrivers.in.gz\n",
      "OV.filtered.nodrivers.in.gz\n",
      "BCC.filtered.nodrivers.in.gz\n",
      "MNM.filtered.nodrivers.in.gz\n",
      "SBNET.filtered.nodrivers.in.gz\n",
      "SBC.filtered.nodrivers.in.gz\n",
      "BLADDER_URI.filtered.nodrivers.in.gz\n",
      "AML.filtered.nodrivers.in.gz\n"
     ]
    }
   ],
   "source": [
    "with open(output_file, 'w') as ofd: \n",
    "    for line in info: \n",
    "        ofd.write(f'{line}\\n')\n",
    "    # For each mutation type\n",
    "    for data_type in data_types:\n",
    "        input_path = os.path.join(input_path_main, data_type)\n",
    "        # For each cancer type\n",
    "        for entry in os.scandir(input_path): \n",
    "            if entry.is_file() and entry.name.endswith('.in.gz'): \n",
    "                if entry.name.split('.')[0] not in memory_high_cancertypes: \n",
    "                    print(entry.name)\n",
    "                    # Write jobs\n",
    "                    for alternate in alternates: \n",
    "                        output_path = os.path.join(output_path_data, f'{data_type}/hotspots_n{samples_threshold}_{alternate}')\n",
    "                        config_path = os.path.join(output_path, f'hotspot.conf')\n",
    "                        ofd.write(f'hotspotfinder -i {entry.path} -o {output_path} -conf {config_path} \\n')            "
   ]
  }
 ],
 "metadata": {
  "kernelspec": {
   "display_name": "Python [conda env:hotspots_framework]",
   "language": "python",
   "name": "conda-env-hotspots_framework-py"
  },
  "language_info": {
   "codemirror_mode": {
    "name": "ipython",
    "version": 3
   },
   "file_extension": ".py",
   "mimetype": "text/x-python",
   "name": "python",
   "nbconvert_exporter": "python",
   "pygments_lexer": "ipython3",
   "version": "3.6.10"
  }
 },
 "nbformat": 4,
 "nbformat_minor": 2
}
