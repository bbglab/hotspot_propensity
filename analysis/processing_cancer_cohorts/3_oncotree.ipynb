{
 "cells": [
  {
   "cell_type": "markdown",
   "metadata": {},
   "source": [
    "# Annotate cohorts with OncoTree cancer types and create cancer types"
   ]
  },
  {
   "cell_type": "markdown",
   "metadata": {},
   "source": [
    "Gather information from cohorts and OncoTree cancer types to generate tables linking both: \n",
    "\n",
    "- For each of the cohorts in our dataset, we have annotated and curated the available OncoTree cancer types from (http://oncotree.mskcc.org). This has resulted in 'oncotree_levels.txt' table. \n",
    "\n",
    "\n",
    "- For each available cancer type in the OncoTree, this code annotates the cohorts and samples linked to it (step 1). This generates 'cancer_types_raw.csv'\n",
    "\n",
    "\n",
    "- Then, it removes duplicates (two cancer types comprising the same samples) from 'cancer_types_raw.csv' based on the OncoTree hierarchy (step 2) and classifies cancer types as level A (specific) or B (meta-cancer type). This is done manually and generates 'cancer_types_curated.csv' \n",
    "\n",
    "\n",
    "- Read 'cancer_types_curated.csv' and annotate number of samples and mutations (step 3). This generates 'cancer_types_annotated.csv'\n",
    "\n",
    "\n",
    "- Read 'cancer_types_annotated.csv' and write cohorts table with information from cancer types level A and B (step 4). Generate 'cohorts_to_cancer_types.txt' table.\n",
    "\n",
    "\n",
    "- Generate 'cohorts_annotated.tsv' table including data from cohorts' full name, samples, mutations and cancer types that they match to (step 5).\n"
   ]
  },
  {
   "cell_type": "code",
   "execution_count": 1,
   "metadata": {
    "collapsed": true
   },
   "outputs": [],
   "source": [
    "import os\n",
    "from collections import defaultdict\n",
    "\n",
    "import pandas as pd"
   ]
  },
  {
   "cell_type": "code",
   "execution_count": 2,
   "metadata": {
    "collapsed": true
   },
   "outputs": [],
   "source": [
    "main_dir = ''"
   ]
  },
  {
   "cell_type": "code",
   "execution_count": 3,
   "metadata": {
    "collapsed": true
   },
   "outputs": [],
   "source": [
    "cancer_types_f = os.path.join(main_dir, 'oncotree_levels.txt')     # cohorts to cancer types from OncoTree (manually annotated)\n",
    "cohorts_annot_f = os.path.join(main_dir, 'cohorts_samples_mutations.txt')    # cohorts information about samples and mutations"
   ]
  },
  {
   "cell_type": "markdown",
   "metadata": {},
   "source": [
    "### Step 1) Identify cancer types for analysis"
   ]
  },
  {
   "cell_type": "code",
   "execution_count": 6,
   "metadata": {
    "collapsed": true
   },
   "outputs": [],
   "source": [
    "output_f = os.path.join(main_dir, 'cancer_types_raw.csv')"
   ]
  },
  {
   "cell_type": "code",
   "execution_count": 7,
   "metadata": {},
   "outputs": [
    {
     "data": {
      "text/html": [
       "<div>\n",
       "<style scoped>\n",
       "    .dataframe tbody tr th:only-of-type {\n",
       "        vertical-align: middle;\n",
       "    }\n",
       "\n",
       "    .dataframe tbody tr th {\n",
       "        vertical-align: top;\n",
       "    }\n",
       "\n",
       "    .dataframe thead th {\n",
       "        text-align: right;\n",
       "    }\n",
       "</style>\n",
       "<table border=\"1\" class=\"dataframe\">\n",
       "  <thead>\n",
       "    <tr style=\"text-align: right;\">\n",
       "      <th></th>\n",
       "      <th>COHORT</th>\n",
       "      <th>LEVEL_1</th>\n",
       "      <th>LEVEL_2</th>\n",
       "      <th>LEVEL_3</th>\n",
       "      <th>LEVEL_4</th>\n",
       "      <th>LEVEL_5</th>\n",
       "    </tr>\n",
       "  </thead>\n",
       "  <tbody>\n",
       "    <tr>\n",
       "      <th>0</th>\n",
       "      <td>D_ACC</td>\n",
       "      <td>Adrenal Gland (ADRENAL_GLAND)</td>\n",
       "      <td>Adrenocortical Carcinoma (ACC)</td>\n",
       "      <td>NaN</td>\n",
       "      <td>NaN</td>\n",
       "      <td>NaN</td>\n",
       "    </tr>\n",
       "    <tr>\n",
       "      <th>1</th>\n",
       "      <td>D_ALL</td>\n",
       "      <td>Lymphoid (LYMPH)</td>\n",
       "      <td>Lymphoid Neoplasm (LNM)</td>\n",
       "      <td>Acute lymphoblastic leukemia (ALL)</td>\n",
       "      <td>NaN</td>\n",
       "      <td>NaN</td>\n",
       "    </tr>\n",
       "    <tr>\n",
       "      <th>2</th>\n",
       "      <td>PCAWG_WGS_MYELOID_AML</td>\n",
       "      <td>Myeloid (MYELOID)</td>\n",
       "      <td>Myeloid Neoplasm (MNM)</td>\n",
       "      <td>Acute Myeloid Leukemia (AML)</td>\n",
       "      <td>NaN</td>\n",
       "      <td>NaN</td>\n",
       "    </tr>\n",
       "    <tr>\n",
       "      <th>3</th>\n",
       "      <td>D_AML</td>\n",
       "      <td>Myeloid (MYELOID)</td>\n",
       "      <td>Myeloid Neoplasm (MNM)</td>\n",
       "      <td>Acute Myeloid Leukemia (AML)</td>\n",
       "      <td>NaN</td>\n",
       "      <td>NaN</td>\n",
       "    </tr>\n",
       "    <tr>\n",
       "      <th>4</th>\n",
       "      <td>HARTWIG_ANUS</td>\n",
       "      <td>Bowel (BOWEL)</td>\n",
       "      <td>Anal Cancer (AN)</td>\n",
       "      <td>NaN</td>\n",
       "      <td>NaN</td>\n",
       "      <td>NaN</td>\n",
       "    </tr>\n",
       "  </tbody>\n",
       "</table>\n",
       "</div>"
      ],
      "text/plain": [
       "                  COHORT                        LEVEL_1  \\\n",
       "0                  D_ACC  Adrenal Gland (ADRENAL_GLAND)   \n",
       "1                  D_ALL               Lymphoid (LYMPH)   \n",
       "2  PCAWG_WGS_MYELOID_AML              Myeloid (MYELOID)   \n",
       "3                  D_AML              Myeloid (MYELOID)   \n",
       "4           HARTWIG_ANUS                  Bowel (BOWEL)   \n",
       "\n",
       "                          LEVEL_2                             LEVEL_3 LEVEL_4  \\\n",
       "0  Adrenocortical Carcinoma (ACC)                                 NaN     NaN   \n",
       "1         Lymphoid Neoplasm (LNM)  Acute lymphoblastic leukemia (ALL)     NaN   \n",
       "2          Myeloid Neoplasm (MNM)        Acute Myeloid Leukemia (AML)     NaN   \n",
       "3          Myeloid Neoplasm (MNM)        Acute Myeloid Leukemia (AML)     NaN   \n",
       "4                Anal Cancer (AN)                                 NaN     NaN   \n",
       "\n",
       "  LEVEL_5  \n",
       "0     NaN  \n",
       "1     NaN  \n",
       "2     NaN  \n",
       "3     NaN  \n",
       "4     NaN  "
      ]
     },
     "execution_count": 7,
     "metadata": {},
     "output_type": "execute_result"
    }
   ],
   "source": [
    "# Read cancer types per cohort as annotated from OncoTree\n",
    "ctypes_df = pd.read_csv(cancer_types_f, sep='\\t', header=0)\n",
    "ctypes_df.head()"
   ]
  },
  {
   "cell_type": "code",
   "execution_count": 8,
   "metadata": {
    "collapsed": true
   },
   "outputs": [],
   "source": [
    "# Annotate cohorts for each cancer type \n",
    "ctypes_data = defaultdict(list)\n",
    "ctypes_levels = dict()\n",
    "for _, row in ctypes_df.iterrows(): \n",
    "    for column in ctypes_df.columns[1:]: \n",
    "        if row[column] == row[column]:    # no NaN\n",
    "            ctypes_data[row[column]] += [row['COHORT']]  \n",
    "            ctypes_levels[row[column]] = column[-1]"
   ]
  },
  {
   "cell_type": "code",
   "execution_count": 9,
   "metadata": {},
   "outputs": [
    {
     "data": {
      "text/plain": [
       "['HARTWIG_ANUS',\n",
       " 'HARTWIG_SMALL_INTESTINE',\n",
       " 'HARTWIG_NET_SMALL_INTESTINAL',\n",
       " 'HARTWIG_COLONRECTUM',\n",
       " 'PCAWG_WGS_COLORECT_ADENOCA']"
      ]
     },
     "execution_count": 9,
     "metadata": {},
     "output_type": "execute_result"
    }
   ],
   "source": [
    "ctypes_data['Bowel (BOWEL)']"
   ]
  },
  {
   "cell_type": "code",
   "execution_count": 10,
   "metadata": {},
   "outputs": [
    {
     "data": {
      "text/plain": [
       "93"
      ]
     },
     "execution_count": 10,
     "metadata": {},
     "output_type": "execute_result"
    }
   ],
   "source": [
    "len(ctypes_data.keys())"
   ]
  },
  {
   "cell_type": "code",
   "execution_count": 11,
   "metadata": {},
   "outputs": [
    {
     "data": {
      "text/html": [
       "<div>\n",
       "<style scoped>\n",
       "    .dataframe tbody tr th:only-of-type {\n",
       "        vertical-align: middle;\n",
       "    }\n",
       "\n",
       "    .dataframe tbody tr th {\n",
       "        vertical-align: top;\n",
       "    }\n",
       "\n",
       "    .dataframe thead th {\n",
       "        text-align: right;\n",
       "    }\n",
       "</style>\n",
       "<table border=\"1\" class=\"dataframe\">\n",
       "  <thead>\n",
       "    <tr style=\"text-align: right;\">\n",
       "      <th></th>\n",
       "      <th>COHORT</th>\n",
       "      <th>SAMPLES</th>\n",
       "      <th>MUTATIONS_TOTAL</th>\n",
       "      <th>MUTATIONS_SNV</th>\n",
       "      <th>MUTATIONS_MNV</th>\n",
       "      <th>MUTATIONS_INS</th>\n",
       "      <th>MUTATIONS_DEL</th>\n",
       "    </tr>\n",
       "  </thead>\n",
       "  <tbody>\n",
       "    <tr>\n",
       "      <th>0</th>\n",
       "      <td>HARTWIG_MESOTHELIOMA</td>\n",
       "      <td>33</td>\n",
       "      <td>111336</td>\n",
       "      <td>100261</td>\n",
       "      <td>1310</td>\n",
       "      <td>6031</td>\n",
       "      <td>3734</td>\n",
       "    </tr>\n",
       "    <tr>\n",
       "      <th>1</th>\n",
       "      <td>HARTWIG_NERVOUS_SYSTEM_GLIOBLASTOMA_MULTIFORME</td>\n",
       "      <td>54</td>\n",
       "      <td>371363</td>\n",
       "      <td>335086</td>\n",
       "      <td>1413</td>\n",
       "      <td>24920</td>\n",
       "      <td>9944</td>\n",
       "    </tr>\n",
       "    <tr>\n",
       "      <th>2</th>\n",
       "      <td>PCAWG_WGS_UTERUS_ADENOCA</td>\n",
       "      <td>38</td>\n",
       "      <td>331657</td>\n",
       "      <td>288049</td>\n",
       "      <td>1288</td>\n",
       "      <td>30366</td>\n",
       "      <td>11954</td>\n",
       "    </tr>\n",
       "    <tr>\n",
       "      <th>3</th>\n",
       "      <td>PCAWG_WGS_THY_ADENOCA</td>\n",
       "      <td>48</td>\n",
       "      <td>63303</td>\n",
       "      <td>59334</td>\n",
       "      <td>245</td>\n",
       "      <td>2801</td>\n",
       "      <td>923</td>\n",
       "    </tr>\n",
       "    <tr>\n",
       "      <th>4</th>\n",
       "      <td>PCAWG_WGS_SKIN_MELANOMA</td>\n",
       "      <td>98</td>\n",
       "      <td>7339443</td>\n",
       "      <td>7140676</td>\n",
       "      <td>121007</td>\n",
       "      <td>57184</td>\n",
       "      <td>20576</td>\n",
       "    </tr>\n",
       "  </tbody>\n",
       "</table>\n",
       "</div>"
      ],
      "text/plain": [
       "                                           COHORT  SAMPLES  MUTATIONS_TOTAL  \\\n",
       "0                            HARTWIG_MESOTHELIOMA       33           111336   \n",
       "1  HARTWIG_NERVOUS_SYSTEM_GLIOBLASTOMA_MULTIFORME       54           371363   \n",
       "2                        PCAWG_WGS_UTERUS_ADENOCA       38           331657   \n",
       "3                           PCAWG_WGS_THY_ADENOCA       48            63303   \n",
       "4                         PCAWG_WGS_SKIN_MELANOMA       98          7339443   \n",
       "\n",
       "   MUTATIONS_SNV  MUTATIONS_MNV  MUTATIONS_INS  MUTATIONS_DEL  \n",
       "0         100261           1310           6031           3734  \n",
       "1         335086           1413          24920           9944  \n",
       "2         288049           1288          30366          11954  \n",
       "3          59334            245           2801            923  \n",
       "4        7140676         121007          57184          20576  "
      ]
     },
     "execution_count": 11,
     "metadata": {},
     "output_type": "execute_result"
    }
   ],
   "source": [
    "annotate_cohorts_df = pd.read_csv(cohorts_annot_f, sep='\\t', header=0)\n",
    "cohort_samples = dict(list(zip(annotate_cohorts_df['COHORT'], annotate_cohorts_df['SAMPLES'])))\n",
    "annotate_cohorts_df.head()"
   ]
  },
  {
   "cell_type": "code",
   "execution_count": 12,
   "metadata": {
    "scrolled": true
   },
   "outputs": [
    {
     "data": {
      "text/plain": [
       "7507"
      ]
     },
     "execution_count": 12,
     "metadata": {},
     "output_type": "execute_result"
    }
   ],
   "source": [
    "annotate_cohorts_df['SAMPLES'].sum()"
   ]
  },
  {
   "cell_type": "code",
   "execution_count": 13,
   "metadata": {},
   "outputs": [
    {
     "data": {
      "text/plain": [
       "83410018"
      ]
     },
     "execution_count": 13,
     "metadata": {},
     "output_type": "execute_result"
    }
   ],
   "source": [
    "annotate_cohorts_df['MUTATIONS_TOTAL'].sum()"
   ]
  },
  {
   "cell_type": "code",
   "execution_count": 14,
   "metadata": {
    "collapsed": true
   },
   "outputs": [],
   "source": [
    "# Annotate number of samples\n",
    "ctypes_samples = defaultdict(int)\n",
    "for ctype, cohorts in ctypes_data.items(): \n",
    "    for cohort in cohorts: \n",
    "        ctypes_samples[ctype] += cohort_samples.get(cohort, 0)"
   ]
  },
  {
   "cell_type": "code",
   "execution_count": 15,
   "metadata": {
    "collapsed": true
   },
   "outputs": [],
   "source": [
    "# Merge information \n",
    "# This table contains duplicated entities\n",
    "lines = []\n",
    "for ctype, cohorts in ctypes_data.items(): \n",
    "    samples = ctypes_samples[ctype]\n",
    "    cohorts = ', '.join(cohorts)\n",
    "    lines.append(pd.DataFrame([[ctype, int(ctypes_levels[ctype]), samples, cohorts]]))\n",
    "table = pd.concat(lines)\n",
    "table.columns = ['CANCER_TYPE', 'LEVEL', 'SAMPLES', 'COHORTS']"
   ]
  },
  {
   "cell_type": "code",
   "execution_count": 16,
   "metadata": {},
   "outputs": [
    {
     "data": {
      "text/html": [
       "<div>\n",
       "<style scoped>\n",
       "    .dataframe tbody tr th:only-of-type {\n",
       "        vertical-align: middle;\n",
       "    }\n",
       "\n",
       "    .dataframe tbody tr th {\n",
       "        vertical-align: top;\n",
       "    }\n",
       "\n",
       "    .dataframe thead th {\n",
       "        text-align: right;\n",
       "    }\n",
       "</style>\n",
       "<table border=\"1\" class=\"dataframe\">\n",
       "  <thead>\n",
       "    <tr style=\"text-align: right;\">\n",
       "      <th></th>\n",
       "      <th>CANCER_TYPE</th>\n",
       "      <th>LEVEL</th>\n",
       "      <th>SAMPLES</th>\n",
       "      <th>COHORTS</th>\n",
       "    </tr>\n",
       "  </thead>\n",
       "  <tbody>\n",
       "    <tr>\n",
       "      <th>0</th>\n",
       "      <td>Adrenal Gland (ADRENAL_GLAND)</td>\n",
       "      <td>1</td>\n",
       "      <td>20</td>\n",
       "      <td>D_ACC</td>\n",
       "    </tr>\n",
       "    <tr>\n",
       "      <th>0</th>\n",
       "      <td>Adrenocortical Carcinoma (ACC)</td>\n",
       "      <td>2</td>\n",
       "      <td>20</td>\n",
       "      <td>D_ACC</td>\n",
       "    </tr>\n",
       "    <tr>\n",
       "      <th>0</th>\n",
       "      <td>Lymphoid (LYMPH)</td>\n",
       "      <td>1</td>\n",
       "      <td>1420</td>\n",
       "      <td>D_ALL, PCAWG_WGS_LYMPH_CLL, HARTWIG_LYMPHOID, ...</td>\n",
       "    </tr>\n",
       "    <tr>\n",
       "      <th>0</th>\n",
       "      <td>Lymphoid Neoplasm (LNM)</td>\n",
       "      <td>2</td>\n",
       "      <td>1420</td>\n",
       "      <td>D_ALL, PCAWG_WGS_LYMPH_CLL, HARTWIG_LYMPHOID, ...</td>\n",
       "    </tr>\n",
       "    <tr>\n",
       "      <th>0</th>\n",
       "      <td>Acute lymphoblastic leukemia (ALL)</td>\n",
       "      <td>3</td>\n",
       "      <td>278</td>\n",
       "      <td>D_ALL</td>\n",
       "    </tr>\n",
       "  </tbody>\n",
       "</table>\n",
       "</div>"
      ],
      "text/plain": [
       "                          CANCER_TYPE  LEVEL  SAMPLES  \\\n",
       "0       Adrenal Gland (ADRENAL_GLAND)      1       20   \n",
       "0      Adrenocortical Carcinoma (ACC)      2       20   \n",
       "0                    Lymphoid (LYMPH)      1     1420   \n",
       "0             Lymphoid Neoplasm (LNM)      2     1420   \n",
       "0  Acute lymphoblastic leukemia (ALL)      3      278   \n",
       "\n",
       "                                             COHORTS  \n",
       "0                                              D_ACC  \n",
       "0                                              D_ACC  \n",
       "0  D_ALL, PCAWG_WGS_LYMPH_CLL, HARTWIG_LYMPHOID, ...  \n",
       "0  D_ALL, PCAWG_WGS_LYMPH_CLL, HARTWIG_LYMPHOID, ...  \n",
       "0                                              D_ALL  "
      ]
     },
     "execution_count": 16,
     "metadata": {},
     "output_type": "execute_result"
    }
   ],
   "source": [
    "table.head()"
   ]
  },
  {
   "cell_type": "code",
   "execution_count": 17,
   "metadata": {},
   "outputs": [
    {
     "data": {
      "text/plain": [
       "93"
      ]
     },
     "execution_count": 17,
     "metadata": {},
     "output_type": "execute_result"
    }
   ],
   "source": [
    "len(table)"
   ]
  },
  {
   "cell_type": "code",
   "execution_count": 18,
   "metadata": {
    "scrolled": false
   },
   "outputs": [
    {
     "name": "stdout",
     "output_type": "stream",
     "text": [
      "['Adrenal Gland (ADRENAL_GLAND)' 'Adrenocortical Carcinoma (ACC)']\n",
      "2 Adrenocortical Carcinoma (ACC)\n",
      "['Lymphoid (LYMPH)' 'Lymphoid Neoplasm (LNM)']\n",
      "2 Lymphoid Neoplasm (LNM)\n",
      "['Ependymomal Tumor (EPMT)' 'Ependymoma (EPM)']\n",
      "3 Ependymoma (EPM)\n",
      "['Peripheral Nervous System (PNS)' 'Neuroblastoma (NBL)']\n",
      "2 Neuroblastoma (NBL)\n",
      "['Eye (EYE)' 'Retinoblastoma (RBL)']\n",
      "2 Retinoblastoma (RBL)\n",
      "['Pleura (PLEURA)' 'Pleural Mesothelioma (PLMESO)']\n",
      "2 Pleural Mesothelioma (PLMESO)\n",
      "['Glioblastoma (GB)' 'Glioblastoma Multiforme (GBM)']\n",
      "4 Glioblastoma Multiforme (GBM)\n",
      "['Gastrointestinal Neuroendocrine Tumors (GINET)'\n",
      " 'Small Bowel Neuroendocrine Tumor (SBNET)']\n",
      "3 Small Bowel Neuroendocrine Tumor (SBNET)\n",
      "['Ovary/Fallopian Tube (OVARY)' 'Ovarian Cancer (OV)']\n",
      "2 Ovarian Cancer (OV)\n",
      "['Melanoma (MEL)' 'Cutaneous Melanoma (SKCM)']\n",
      "3 Cutaneous Melanoma (SKCM)\n",
      "['Vulva/Vagina (VULVA_VAGINA)' 'Vulva (VULVA)']\n",
      "2 Vulva (VULVA)\n",
      "['Bone (BONE)' 'Osteosarcoma (OS)']\n",
      "3 Osteosarcoma (OS)\n",
      "['Breast (BREAST)' 'Invasive Breast Carcinoma (BRCA)']\n",
      "2 Invasive Breast Carcinoma (BRCA)\n",
      "['Embryonal Tumor (EMBT)' 'Medulloblastoma (MBL)']\n",
      "3 Medulloblastoma (MBL)\n",
      "['Renal Non-Clear Cell Carcinoma (NCCRCC)'\n",
      " 'Chromophobe Renal Cell Carcinoma (CHRCC)']\n",
      "4 Chromophobe Renal Cell Carcinoma (CHRCC)\n",
      "['Myeloid (MYELOID)' 'Myeloid Neoplasm (MNM)']\n",
      "2 Myeloid Neoplasm (MNM)\n",
      "['Uterus (UTERUS)' 'Endometrial Carcinoma (UCEC)']\n",
      "2 Endometrial Carcinoma (UCEC)\n"
     ]
    }
   ],
   "source": [
    "# Remove duplicated entities \n",
    "lines = []\n",
    "for group, data in table.groupby('COHORTS'): \n",
    "    if len(data) == 1: \n",
    "        lines.append(data)\n",
    "    else: \n",
    "        print(data['CANCER_TYPE'].unique())\n",
    "        # Select the most specific level in the hierachy (e.g, select level 3 over level 2)\n",
    "        data_filter = data.sort_values('LEVEL', ascending=True, inplace=False)\n",
    "        data_filter = data_filter.iloc[[-1]]\n",
    "        print(data_filter['LEVEL'].iloc[0], data_filter['CANCER_TYPE'].iloc[0])\n",
    "        lines.append(data_filter)\n",
    "table2 = pd.concat(lines)\n",
    "table2.columns = ['CANCER_TYPE', 'LEVEL', 'SAMPLES', 'COHORTS']"
   ]
  },
  {
   "cell_type": "code",
   "execution_count": 19,
   "metadata": {
    "collapsed": true
   },
   "outputs": [],
   "source": [
    "table2.to_csv(output_f, sep='\\t', header=True, index=False)"
   ]
  },
  {
   "cell_type": "code",
   "execution_count": 20,
   "metadata": {},
   "outputs": [
    {
     "data": {
      "text/plain": [
       "76"
      ]
     },
     "execution_count": 20,
     "metadata": {},
     "output_type": "execute_result"
    }
   ],
   "source": [
    "len(table2)"
   ]
  },
  {
   "cell_type": "markdown",
   "metadata": {},
   "source": [
    "### Step 2) Curate cancer types manually"
   ]
  },
  {
   "cell_type": "markdown",
   "metadata": {},
   "source": [
    "Manually review \"cancer_types_raw.csv\" to remove replicated entities and save as \"cancer_types_curated.csv\""
   ]
  },
  {
   "cell_type": "markdown",
   "metadata": {},
   "source": [
    "### Step 3) Annotate cancer types"
   ]
  },
  {
   "cell_type": "code",
   "execution_count": 23,
   "metadata": {
    "collapsed": true
   },
   "outputs": [],
   "source": [
    "output_f = os.path.join(main_dir, 'cancer_types_annotated.tsv')"
   ]
  },
  {
   "cell_type": "code",
   "execution_count": 24,
   "metadata": {},
   "outputs": [
    {
     "data": {
      "text/html": [
       "<div>\n",
       "<style scoped>\n",
       "    .dataframe tbody tr th:only-of-type {\n",
       "        vertical-align: middle;\n",
       "    }\n",
       "\n",
       "    .dataframe tbody tr th {\n",
       "        vertical-align: top;\n",
       "    }\n",
       "\n",
       "    .dataframe thead th {\n",
       "        text-align: right;\n",
       "    }\n",
       "</style>\n",
       "<table border=\"1\" class=\"dataframe\">\n",
       "  <thead>\n",
       "    <tr style=\"text-align: right;\">\n",
       "      <th></th>\n",
       "      <th>CANCER_TYPE</th>\n",
       "      <th>LEVEL</th>\n",
       "      <th>LEVEL_ANALYSIS</th>\n",
       "      <th>SAMPLES</th>\n",
       "      <th>COHORTS</th>\n",
       "    </tr>\n",
       "  </thead>\n",
       "  <tbody>\n",
       "    <tr>\n",
       "      <th>0</th>\n",
       "      <td>Adrenocortical Carcinoma (ACC)</td>\n",
       "      <td>2</td>\n",
       "      <td>A</td>\n",
       "      <td>20</td>\n",
       "      <td>D_ACC</td>\n",
       "    </tr>\n",
       "    <tr>\n",
       "      <th>1</th>\n",
       "      <td>Acute lymphoblastic leukemia (ALL)</td>\n",
       "      <td>3</td>\n",
       "      <td>A</td>\n",
       "      <td>278</td>\n",
       "      <td>D_ALL</td>\n",
       "    </tr>\n",
       "    <tr>\n",
       "      <th>2</th>\n",
       "      <td>Lymphoid Neoplasm (LNM)</td>\n",
       "      <td>2</td>\n",
       "      <td>B</td>\n",
       "      <td>1420</td>\n",
       "      <td>D_ALL, PCAWG_WGS_LYMPH_CLL, HARTWIG_LYMPHOID, ...</td>\n",
       "    </tr>\n",
       "    <tr>\n",
       "      <th>3</th>\n",
       "      <td>Ependymoma (EPM)</td>\n",
       "      <td>3</td>\n",
       "      <td>A</td>\n",
       "      <td>39</td>\n",
       "      <td>D_EPD</td>\n",
       "    </tr>\n",
       "    <tr>\n",
       "      <th>4</th>\n",
       "      <td>CNS/Brain (BRAIN)</td>\n",
       "      <td>1</td>\n",
       "      <td>B</td>\n",
       "      <td>475</td>\n",
       "      <td>D_EPD, HARTWIG_NERVOUS_SYSTEM_GLIOBLASTOMA_MUL...</td>\n",
       "    </tr>\n",
       "  </tbody>\n",
       "</table>\n",
       "</div>"
      ],
      "text/plain": [
       "                          CANCER_TYPE  LEVEL LEVEL_ANALYSIS  SAMPLES  \\\n",
       "0      Adrenocortical Carcinoma (ACC)      2              A       20   \n",
       "1  Acute lymphoblastic leukemia (ALL)      3              A      278   \n",
       "2             Lymphoid Neoplasm (LNM)      2              B     1420   \n",
       "3                    Ependymoma (EPM)      3              A       39   \n",
       "4                   CNS/Brain (BRAIN)      1              B      475   \n",
       "\n",
       "                                             COHORTS  \n",
       "0                                              D_ACC  \n",
       "1                                              D_ALL  \n",
       "2  D_ALL, PCAWG_WGS_LYMPH_CLL, HARTWIG_LYMPHOID, ...  \n",
       "3                                              D_EPD  \n",
       "4  D_EPD, HARTWIG_NERVOUS_SYSTEM_GLIOBLASTOMA_MUL...  "
      ]
     },
     "execution_count": 24,
     "metadata": {},
     "output_type": "execute_result"
    }
   ],
   "source": [
    "# Read final table of curated cancer types\n",
    "input_f = os.path.join(main_dir, 'cancer_types_curated.csv')\n",
    "ctypes_for_analysis_df = pd.read_csv(input_f, sep='\\t', header=0)\n",
    "ctypes_for_analysis_df.head()"
   ]
  },
  {
   "cell_type": "code",
   "execution_count": 25,
   "metadata": {},
   "outputs": [
    {
     "data": {
      "text/plain": [
       "48"
      ]
     },
     "execution_count": 25,
     "metadata": {},
     "output_type": "execute_result"
    }
   ],
   "source": [
    "len(ctypes_for_analysis_df)"
   ]
  },
  {
   "cell_type": "code",
   "execution_count": 26,
   "metadata": {},
   "outputs": [
    {
     "data": {
      "text/plain": [
       "7507"
      ]
     },
     "execution_count": 26,
     "metadata": {},
     "output_type": "execute_result"
    }
   ],
   "source": [
    "ctypes_for_analysis_df.loc[ctypes_for_analysis_df['LEVEL_ANALYSIS'] == 'A']['SAMPLES'].sum()"
   ]
  },
  {
   "cell_type": "code",
   "execution_count": 27,
   "metadata": {
    "collapsed": true
   },
   "outputs": [],
   "source": [
    "# Annotate cancer types with total mutations\n",
    "cohort_muts = {}\n",
    "for mtype in ['TOTAL', 'SNV', 'MNV', 'INS', 'DEL']: \n",
    "    cohort_muts[mtype] = dict(list(zip(annotate_cohorts_df['COHORT'], annotate_cohorts_df[f'MUTATIONS_{mtype}'])))"
   ]
  },
  {
   "cell_type": "code",
   "execution_count": 28,
   "metadata": {
    "collapsed": true
   },
   "outputs": [],
   "source": [
    "ctype_muts = defaultdict(lambda: defaultdict(int))\n",
    "for mtype in ['TOTAL', 'SNV', 'MNV', 'INS', 'DEL']: \n",
    "    for ctype, cohorts in ctypes_data.items(): \n",
    "        if ctype in ctypes_for_analysis_df['CANCER_TYPE'].tolist(): \n",
    "            for cohort in cohorts: \n",
    "                ctype_muts[mtype][ctype] += cohort_muts[mtype][cohort]"
   ]
  },
  {
   "cell_type": "code",
   "execution_count": 29,
   "metadata": {},
   "outputs": [
    {
     "data": {
      "text/html": [
       "<div>\n",
       "<style scoped>\n",
       "    .dataframe tbody tr th:only-of-type {\n",
       "        vertical-align: middle;\n",
       "    }\n",
       "\n",
       "    .dataframe tbody tr th {\n",
       "        vertical-align: top;\n",
       "    }\n",
       "\n",
       "    .dataframe thead th {\n",
       "        text-align: right;\n",
       "    }\n",
       "</style>\n",
       "<table border=\"1\" class=\"dataframe\">\n",
       "  <thead>\n",
       "    <tr style=\"text-align: right;\">\n",
       "      <th></th>\n",
       "      <th>CANCER_TYPE</th>\n",
       "      <th>LEVEL</th>\n",
       "      <th>LEVEL_ANALYSIS</th>\n",
       "      <th>SAMPLES</th>\n",
       "      <th>COHORTS</th>\n",
       "      <th>MUTATIONS_TOTAL</th>\n",
       "      <th>MUTATIONS_SNV</th>\n",
       "      <th>MUTATIONS_MNV</th>\n",
       "      <th>MUTATIONS_INS</th>\n",
       "      <th>MUTATIONS_DEL</th>\n",
       "    </tr>\n",
       "  </thead>\n",
       "  <tbody>\n",
       "    <tr>\n",
       "      <th>0</th>\n",
       "      <td>Adrenocortical Carcinoma (ACC)</td>\n",
       "      <td>2</td>\n",
       "      <td>A</td>\n",
       "      <td>20</td>\n",
       "      <td>D_ACC</td>\n",
       "      <td>16649</td>\n",
       "      <td>16614</td>\n",
       "      <td>0</td>\n",
       "      <td>26</td>\n",
       "      <td>9</td>\n",
       "    </tr>\n",
       "    <tr>\n",
       "      <th>1</th>\n",
       "      <td>Acute lymphoblastic leukemia (ALL)</td>\n",
       "      <td>3</td>\n",
       "      <td>A</td>\n",
       "      <td>278</td>\n",
       "      <td>D_ALL</td>\n",
       "      <td>154660</td>\n",
       "      <td>154095</td>\n",
       "      <td>198</td>\n",
       "      <td>145</td>\n",
       "      <td>222</td>\n",
       "    </tr>\n",
       "    <tr>\n",
       "      <th>2</th>\n",
       "      <td>Lymphoid Neoplasm (LNM)</td>\n",
       "      <td>2</td>\n",
       "      <td>B</td>\n",
       "      <td>1420</td>\n",
       "      <td>D_ALL, PCAWG_WGS_LYMPH_CLL, HARTWIG_LYMPHOID, ...</td>\n",
       "      <td>1723396</td>\n",
       "      <td>1596077</td>\n",
       "      <td>6705</td>\n",
       "      <td>74059</td>\n",
       "      <td>46555</td>\n",
       "    </tr>\n",
       "    <tr>\n",
       "      <th>3</th>\n",
       "      <td>Ependymoma (EPM)</td>\n",
       "      <td>3</td>\n",
       "      <td>A</td>\n",
       "      <td>39</td>\n",
       "      <td>D_EPD</td>\n",
       "      <td>9158</td>\n",
       "      <td>9114</td>\n",
       "      <td>0</td>\n",
       "      <td>34</td>\n",
       "      <td>10</td>\n",
       "    </tr>\n",
       "    <tr>\n",
       "      <th>4</th>\n",
       "      <td>CNS/Brain (BRAIN)</td>\n",
       "      <td>1</td>\n",
       "      <td>B</td>\n",
       "      <td>475</td>\n",
       "      <td>D_EPD, HARTWIG_NERVOUS_SYSTEM_GLIOBLASTOMA_MUL...</td>\n",
       "      <td>958034</td>\n",
       "      <td>877915</td>\n",
       "      <td>2716</td>\n",
       "      <td>50214</td>\n",
       "      <td>27189</td>\n",
       "    </tr>\n",
       "  </tbody>\n",
       "</table>\n",
       "</div>"
      ],
      "text/plain": [
       "                          CANCER_TYPE  LEVEL LEVEL_ANALYSIS  SAMPLES  \\\n",
       "0      Adrenocortical Carcinoma (ACC)      2              A       20   \n",
       "1  Acute lymphoblastic leukemia (ALL)      3              A      278   \n",
       "2             Lymphoid Neoplasm (LNM)      2              B     1420   \n",
       "3                    Ependymoma (EPM)      3              A       39   \n",
       "4                   CNS/Brain (BRAIN)      1              B      475   \n",
       "\n",
       "                                             COHORTS  MUTATIONS_TOTAL  \\\n",
       "0                                              D_ACC            16649   \n",
       "1                                              D_ALL           154660   \n",
       "2  D_ALL, PCAWG_WGS_LYMPH_CLL, HARTWIG_LYMPHOID, ...          1723396   \n",
       "3                                              D_EPD             9158   \n",
       "4  D_EPD, HARTWIG_NERVOUS_SYSTEM_GLIOBLASTOMA_MUL...           958034   \n",
       "\n",
       "   MUTATIONS_SNV  MUTATIONS_MNV  MUTATIONS_INS  MUTATIONS_DEL  \n",
       "0          16614              0             26              9  \n",
       "1         154095            198            145            222  \n",
       "2        1596077           6705          74059          46555  \n",
       "3           9114              0             34             10  \n",
       "4         877915           2716          50214          27189  "
      ]
     },
     "execution_count": 29,
     "metadata": {},
     "output_type": "execute_result"
    }
   ],
   "source": [
    "for mtype in ['TOTAL', 'SNV', 'MNV', 'INS', 'DEL']: \n",
    "\n",
    "    ctypes_for_analysis_df[f'MUTATIONS_{mtype}'] = ctypes_for_analysis_df.apply(\n",
    "    lambda x: ctype_muts[mtype][x['CANCER_TYPE']], axis=1)\n",
    "ctypes_for_analysis_df.head()"
   ]
  },
  {
   "cell_type": "code",
   "execution_count": 30,
   "metadata": {
    "collapsed": true
   },
   "outputs": [],
   "source": [
    "# Reformat names\n",
    "ctypes_for_analysis_df = ctypes_for_analysis_df.rename(\n",
    "    columns={'CANCER_TYPE': 'CANCER_TYPE_LONG', 'LEVEL': 'LEVEL_ONCOTREE'})"
   ]
  },
  {
   "cell_type": "code",
   "execution_count": 31,
   "metadata": {
    "collapsed": true
   },
   "outputs": [],
   "source": [
    "short_names = {}\n",
    "for ctype in ctypes_for_analysis_df['CANCER_TYPE_LONG'].tolist(): \n",
    "    short_names[ctype] = ctype[ctype.find(\"(\")+1:ctype.find(\")\")]"
   ]
  },
  {
   "cell_type": "code",
   "execution_count": 32,
   "metadata": {
    "collapsed": true
   },
   "outputs": [],
   "source": [
    "ctypes_for_analysis_df['CANCER_TYPE'] = ctypes_for_analysis_df.apply(lambda x: short_names[x['CANCER_TYPE_LONG']], axis=1)"
   ]
  },
  {
   "cell_type": "code",
   "execution_count": 33,
   "metadata": {
    "collapsed": true
   },
   "outputs": [],
   "source": [
    "ctypes_for_analysis_df = ctypes_for_analysis_df[[\n",
    "    'CANCER_TYPE',\n",
    "    'CANCER_TYPE_LONG',\n",
    "    'LEVEL_ONCOTREE',\n",
    "    'LEVEL_ANALYSIS',\n",
    "    'SAMPLES',\n",
    "    'COHORTS',\n",
    "    'MUTATIONS_TOTAL',\n",
    "    'MUTATIONS_SNV',\n",
    "    'MUTATIONS_MNV',\n",
    "    'MUTATIONS_INS',\n",
    "    'MUTATIONS_DEL',\n",
    "]]"
   ]
  },
  {
   "cell_type": "code",
   "execution_count": 34,
   "metadata": {
    "collapsed": true
   },
   "outputs": [],
   "source": [
    "# Add pancancer\n",
    "pancan_df = pd.DataFrame([[\n",
    "    'PANCANCER', \n",
    "    'Pancancer (PANCANCER)', \n",
    "    'None', \n",
    "    'B', \n",
    "    ctypes_for_analysis_df.loc[ctypes_for_analysis_df['LEVEL_ANALYSIS'] == 'A']['SAMPLES'].sum(), \n",
    "    ', '.join(sorted(annotate_cohorts_df['COHORT'].tolist())),\n",
    "    ctypes_for_analysis_df.loc[ctypes_for_analysis_df['LEVEL_ANALYSIS'] == 'A']['MUTATIONS_TOTAL'].sum(),\n",
    "    ctypes_for_analysis_df.loc[ctypes_for_analysis_df['LEVEL_ANALYSIS'] == 'A']['MUTATIONS_SNV'].sum(),\n",
    "    ctypes_for_analysis_df.loc[ctypes_for_analysis_df['LEVEL_ANALYSIS'] == 'A']['MUTATIONS_MNV'].sum(),\n",
    "    ctypes_for_analysis_df.loc[ctypes_for_analysis_df['LEVEL_ANALYSIS'] == 'A']['MUTATIONS_INS'].sum(),\n",
    "    ctypes_for_analysis_df.loc[ctypes_for_analysis_df['LEVEL_ANALYSIS'] == 'A']['MUTATIONS_DEL'].sum(),\n",
    "]])\n",
    "pancan_df.columns = ctypes_for_analysis_df.columns\n",
    "ctypes_for_analysis_df = pd.concat([ctypes_for_analysis_df, pancan_df])"
   ]
  },
  {
   "cell_type": "code",
   "execution_count": 35,
   "metadata": {
    "scrolled": true
   },
   "outputs": [
    {
     "data": {
      "text/html": [
       "<div>\n",
       "<style scoped>\n",
       "    .dataframe tbody tr th:only-of-type {\n",
       "        vertical-align: middle;\n",
       "    }\n",
       "\n",
       "    .dataframe tbody tr th {\n",
       "        vertical-align: top;\n",
       "    }\n",
       "\n",
       "    .dataframe thead th {\n",
       "        text-align: right;\n",
       "    }\n",
       "</style>\n",
       "<table border=\"1\" class=\"dataframe\">\n",
       "  <thead>\n",
       "    <tr style=\"text-align: right;\">\n",
       "      <th></th>\n",
       "      <th>CANCER_TYPE</th>\n",
       "      <th>CANCER_TYPE_LONG</th>\n",
       "      <th>LEVEL_ONCOTREE</th>\n",
       "      <th>LEVEL_ANALYSIS</th>\n",
       "      <th>SAMPLES</th>\n",
       "      <th>COHORTS</th>\n",
       "      <th>MUTATIONS_TOTAL</th>\n",
       "      <th>MUTATIONS_SNV</th>\n",
       "      <th>MUTATIONS_MNV</th>\n",
       "      <th>MUTATIONS_INS</th>\n",
       "      <th>MUTATIONS_DEL</th>\n",
       "    </tr>\n",
       "  </thead>\n",
       "  <tbody>\n",
       "    <tr>\n",
       "      <th>0</th>\n",
       "      <td>ACC</td>\n",
       "      <td>Adrenocortical Carcinoma (ACC)</td>\n",
       "      <td>2</td>\n",
       "      <td>A</td>\n",
       "      <td>20</td>\n",
       "      <td>D_ACC</td>\n",
       "      <td>16649</td>\n",
       "      <td>16614</td>\n",
       "      <td>0</td>\n",
       "      <td>26</td>\n",
       "      <td>9</td>\n",
       "    </tr>\n",
       "    <tr>\n",
       "      <th>1</th>\n",
       "      <td>ALL</td>\n",
       "      <td>Acute lymphoblastic leukemia (ALL)</td>\n",
       "      <td>3</td>\n",
       "      <td>A</td>\n",
       "      <td>278</td>\n",
       "      <td>D_ALL</td>\n",
       "      <td>154660</td>\n",
       "      <td>154095</td>\n",
       "      <td>198</td>\n",
       "      <td>145</td>\n",
       "      <td>222</td>\n",
       "    </tr>\n",
       "    <tr>\n",
       "      <th>2</th>\n",
       "      <td>LNM</td>\n",
       "      <td>Lymphoid Neoplasm (LNM)</td>\n",
       "      <td>2</td>\n",
       "      <td>B</td>\n",
       "      <td>1420</td>\n",
       "      <td>D_ALL, PCAWG_WGS_LYMPH_CLL, HARTWIG_LYMPHOID, ...</td>\n",
       "      <td>1723396</td>\n",
       "      <td>1596077</td>\n",
       "      <td>6705</td>\n",
       "      <td>74059</td>\n",
       "      <td>46555</td>\n",
       "    </tr>\n",
       "    <tr>\n",
       "      <th>3</th>\n",
       "      <td>EPM</td>\n",
       "      <td>Ependymoma (EPM)</td>\n",
       "      <td>3</td>\n",
       "      <td>A</td>\n",
       "      <td>39</td>\n",
       "      <td>D_EPD</td>\n",
       "      <td>9158</td>\n",
       "      <td>9114</td>\n",
       "      <td>0</td>\n",
       "      <td>34</td>\n",
       "      <td>10</td>\n",
       "    </tr>\n",
       "    <tr>\n",
       "      <th>4</th>\n",
       "      <td>BRAIN</td>\n",
       "      <td>CNS/Brain (BRAIN)</td>\n",
       "      <td>1</td>\n",
       "      <td>B</td>\n",
       "      <td>475</td>\n",
       "      <td>D_EPD, HARTWIG_NERVOUS_SYSTEM_GLIOBLASTOMA_MUL...</td>\n",
       "      <td>958034</td>\n",
       "      <td>877915</td>\n",
       "      <td>2716</td>\n",
       "      <td>50214</td>\n",
       "      <td>27189</td>\n",
       "    </tr>\n",
       "  </tbody>\n",
       "</table>\n",
       "</div>"
      ],
      "text/plain": [
       "  CANCER_TYPE                    CANCER_TYPE_LONG LEVEL_ONCOTREE  \\\n",
       "0         ACC      Adrenocortical Carcinoma (ACC)              2   \n",
       "1         ALL  Acute lymphoblastic leukemia (ALL)              3   \n",
       "2         LNM             Lymphoid Neoplasm (LNM)              2   \n",
       "3         EPM                    Ependymoma (EPM)              3   \n",
       "4       BRAIN                   CNS/Brain (BRAIN)              1   \n",
       "\n",
       "  LEVEL_ANALYSIS  SAMPLES                                            COHORTS  \\\n",
       "0              A       20                                              D_ACC   \n",
       "1              A      278                                              D_ALL   \n",
       "2              B     1420  D_ALL, PCAWG_WGS_LYMPH_CLL, HARTWIG_LYMPHOID, ...   \n",
       "3              A       39                                              D_EPD   \n",
       "4              B      475  D_EPD, HARTWIG_NERVOUS_SYSTEM_GLIOBLASTOMA_MUL...   \n",
       "\n",
       "   MUTATIONS_TOTAL  MUTATIONS_SNV  MUTATIONS_MNV  MUTATIONS_INS  MUTATIONS_DEL  \n",
       "0            16649          16614              0             26              9  \n",
       "1           154660         154095            198            145            222  \n",
       "2          1723396        1596077           6705          74059          46555  \n",
       "3             9158           9114              0             34             10  \n",
       "4           958034         877915           2716          50214          27189  "
      ]
     },
     "execution_count": 35,
     "metadata": {},
     "output_type": "execute_result"
    }
   ],
   "source": [
    "ctypes_for_analysis_df.head()"
   ]
  },
  {
   "cell_type": "code",
   "execution_count": 36,
   "metadata": {
    "collapsed": true
   },
   "outputs": [],
   "source": [
    "ctypes_for_analysis_df.to_csv(output_f, sep='\\t', header=True, index=False)"
   ]
  },
  {
   "cell_type": "markdown",
   "metadata": {},
   "source": [
    "### Step 4) Annotate cohorts with information from cancer types level A and B"
   ]
  },
  {
   "cell_type": "code",
   "execution_count": 37,
   "metadata": {
    "collapsed": true
   },
   "outputs": [],
   "source": [
    "output_f = os.path.join(main_dir, 'cohorts_to_cancer_types.txt')"
   ]
  },
  {
   "cell_type": "code",
   "execution_count": 38,
   "metadata": {},
   "outputs": [
    {
     "data": {
      "text/html": [
       "<div>\n",
       "<style scoped>\n",
       "    .dataframe tbody tr th:only-of-type {\n",
       "        vertical-align: middle;\n",
       "    }\n",
       "\n",
       "    .dataframe tbody tr th {\n",
       "        vertical-align: top;\n",
       "    }\n",
       "\n",
       "    .dataframe thead th {\n",
       "        text-align: right;\n",
       "    }\n",
       "</style>\n",
       "<table border=\"1\" class=\"dataframe\">\n",
       "  <thead>\n",
       "    <tr style=\"text-align: right;\">\n",
       "      <th></th>\n",
       "      <th>COHORT</th>\n",
       "      <th>SAMPLES</th>\n",
       "      <th>MUTATIONS_TOTAL</th>\n",
       "      <th>MUTATIONS_SNV</th>\n",
       "      <th>MUTATIONS_MNV</th>\n",
       "      <th>MUTATIONS_INS</th>\n",
       "      <th>MUTATIONS_DEL</th>\n",
       "    </tr>\n",
       "  </thead>\n",
       "  <tbody>\n",
       "    <tr>\n",
       "      <th>0</th>\n",
       "      <td>HARTWIG_MESOTHELIOMA</td>\n",
       "      <td>33</td>\n",
       "      <td>111336</td>\n",
       "      <td>100261</td>\n",
       "      <td>1310</td>\n",
       "      <td>6031</td>\n",
       "      <td>3734</td>\n",
       "    </tr>\n",
       "    <tr>\n",
       "      <th>1</th>\n",
       "      <td>HARTWIG_NERVOUS_SYSTEM_GLIOBLASTOMA_MULTIFORME</td>\n",
       "      <td>54</td>\n",
       "      <td>371363</td>\n",
       "      <td>335086</td>\n",
       "      <td>1413</td>\n",
       "      <td>24920</td>\n",
       "      <td>9944</td>\n",
       "    </tr>\n",
       "    <tr>\n",
       "      <th>2</th>\n",
       "      <td>PCAWG_WGS_UTERUS_ADENOCA</td>\n",
       "      <td>38</td>\n",
       "      <td>331657</td>\n",
       "      <td>288049</td>\n",
       "      <td>1288</td>\n",
       "      <td>30366</td>\n",
       "      <td>11954</td>\n",
       "    </tr>\n",
       "    <tr>\n",
       "      <th>3</th>\n",
       "      <td>PCAWG_WGS_THY_ADENOCA</td>\n",
       "      <td>48</td>\n",
       "      <td>63303</td>\n",
       "      <td>59334</td>\n",
       "      <td>245</td>\n",
       "      <td>2801</td>\n",
       "      <td>923</td>\n",
       "    </tr>\n",
       "    <tr>\n",
       "      <th>4</th>\n",
       "      <td>PCAWG_WGS_SKIN_MELANOMA</td>\n",
       "      <td>98</td>\n",
       "      <td>7339443</td>\n",
       "      <td>7140676</td>\n",
       "      <td>121007</td>\n",
       "      <td>57184</td>\n",
       "      <td>20576</td>\n",
       "    </tr>\n",
       "  </tbody>\n",
       "</table>\n",
       "</div>"
      ],
      "text/plain": [
       "                                           COHORT  SAMPLES  MUTATIONS_TOTAL  \\\n",
       "0                            HARTWIG_MESOTHELIOMA       33           111336   \n",
       "1  HARTWIG_NERVOUS_SYSTEM_GLIOBLASTOMA_MULTIFORME       54           371363   \n",
       "2                        PCAWG_WGS_UTERUS_ADENOCA       38           331657   \n",
       "3                           PCAWG_WGS_THY_ADENOCA       48            63303   \n",
       "4                         PCAWG_WGS_SKIN_MELANOMA       98          7339443   \n",
       "\n",
       "   MUTATIONS_SNV  MUTATIONS_MNV  MUTATIONS_INS  MUTATIONS_DEL  \n",
       "0         100261           1310           6031           3734  \n",
       "1         335086           1413          24920           9944  \n",
       "2         288049           1288          30366          11954  \n",
       "3          59334            245           2801            923  \n",
       "4        7140676         121007          57184          20576  "
      ]
     },
     "execution_count": 38,
     "metadata": {},
     "output_type": "execute_result"
    }
   ],
   "source": [
    "annotate_cohorts_df.head()"
   ]
  },
  {
   "cell_type": "code",
   "execution_count": 39,
   "metadata": {
    "collapsed": true
   },
   "outputs": [],
   "source": [
    "cohort_to_levels = defaultdict(dict)\n",
    "for ctype, data in ctypes_for_analysis_df.groupby('CANCER_TYPE_LONG'): \n",
    "    if 'PANCANCER' not in ctype: \n",
    "        level = data['LEVEL_ANALYSIS'].iloc[0]\n",
    "        for cohort in data['COHORTS'].iloc[0].split(', '): \n",
    "            cohort_to_levels[cohort][level] = ctype"
   ]
  },
  {
   "cell_type": "code",
   "execution_count": 40,
   "metadata": {},
   "outputs": [
    {
     "data": {
      "text/plain": [
       "{'A': 'Acute Myeloid Leukemia (AML)', 'B': 'Myeloid Neoplasm (MNM)'}"
      ]
     },
     "execution_count": 40,
     "metadata": {},
     "output_type": "execute_result"
    }
   ],
   "source": [
    "cohort_to_levels['PCAWG_WGS_MYELOID_AML']"
   ]
  },
  {
   "cell_type": "code",
   "execution_count": 41,
   "metadata": {},
   "outputs": [
    {
     "data": {
      "text/plain": [
       "78"
      ]
     },
     "execution_count": 41,
     "metadata": {},
     "output_type": "execute_result"
    }
   ],
   "source": [
    "len(cohort_to_levels.keys())"
   ]
  },
  {
   "cell_type": "code",
   "execution_count": 42,
   "metadata": {},
   "outputs": [
    {
     "data": {
      "text/html": [
       "<div>\n",
       "<style scoped>\n",
       "    .dataframe tbody tr th:only-of-type {\n",
       "        vertical-align: middle;\n",
       "    }\n",
       "\n",
       "    .dataframe tbody tr th {\n",
       "        vertical-align: top;\n",
       "    }\n",
       "\n",
       "    .dataframe thead th {\n",
       "        text-align: right;\n",
       "    }\n",
       "</style>\n",
       "<table border=\"1\" class=\"dataframe\">\n",
       "  <thead>\n",
       "    <tr style=\"text-align: right;\">\n",
       "      <th></th>\n",
       "      <th>COHORT</th>\n",
       "      <th>LEVEL_A_LONG</th>\n",
       "      <th>LEVEL_A</th>\n",
       "      <th>LEVEL_B_LONG</th>\n",
       "      <th>LEVEL_B</th>\n",
       "    </tr>\n",
       "  </thead>\n",
       "  <tbody>\n",
       "    <tr>\n",
       "      <th>0</th>\n",
       "      <td>PCAWG_WGS_MYELOID_AML</td>\n",
       "      <td>Acute Myeloid Leukemia (AML)</td>\n",
       "      <td>AML</td>\n",
       "      <td>Myeloid Neoplasm (MNM)</td>\n",
       "      <td>MNM</td>\n",
       "    </tr>\n",
       "    <tr>\n",
       "      <th>0</th>\n",
       "      <td>D_AML</td>\n",
       "      <td>Acute Myeloid Leukemia (AML)</td>\n",
       "      <td>AML</td>\n",
       "      <td>Myeloid Neoplasm (MNM)</td>\n",
       "      <td>MNM</td>\n",
       "    </tr>\n",
       "    <tr>\n",
       "      <th>0</th>\n",
       "      <td>D_ALL</td>\n",
       "      <td>Acute lymphoblastic leukemia (ALL)</td>\n",
       "      <td>ALL</td>\n",
       "      <td>Lymphoid Neoplasm (LNM)</td>\n",
       "      <td>LNM</td>\n",
       "    </tr>\n",
       "    <tr>\n",
       "      <th>0</th>\n",
       "      <td>D_ACC</td>\n",
       "      <td>Adrenocortical Carcinoma (ACC)</td>\n",
       "      <td>ACC</td>\n",
       "      <td>None</td>\n",
       "      <td>None</td>\n",
       "    </tr>\n",
       "    <tr>\n",
       "      <th>0</th>\n",
       "      <td>HARTWIG_ANUS</td>\n",
       "      <td>Anal Cancer (AN)</td>\n",
       "      <td>AN</td>\n",
       "      <td>Bowel (BOWEL)</td>\n",
       "      <td>BOWEL</td>\n",
       "    </tr>\n",
       "  </tbody>\n",
       "</table>\n",
       "</div>"
      ],
      "text/plain": [
       "                  COHORT                        LEVEL_A_LONG LEVEL_A  \\\n",
       "0  PCAWG_WGS_MYELOID_AML        Acute Myeloid Leukemia (AML)     AML   \n",
       "0                  D_AML        Acute Myeloid Leukemia (AML)     AML   \n",
       "0                  D_ALL  Acute lymphoblastic leukemia (ALL)     ALL   \n",
       "0                  D_ACC      Adrenocortical Carcinoma (ACC)     ACC   \n",
       "0           HARTWIG_ANUS                    Anal Cancer (AN)      AN   \n",
       "\n",
       "              LEVEL_B_LONG LEVEL_B  \n",
       "0   Myeloid Neoplasm (MNM)     MNM  \n",
       "0   Myeloid Neoplasm (MNM)     MNM  \n",
       "0  Lymphoid Neoplasm (LNM)     LNM  \n",
       "0                     None    None  \n",
       "0            Bowel (BOWEL)   BOWEL  "
      ]
     },
     "execution_count": 42,
     "metadata": {},
     "output_type": "execute_result"
    }
   ],
   "source": [
    "lines = []\n",
    "for cohort, cohort_levels in cohort_to_levels.items(): \n",
    "    level_a = cohort_levels.get('A', 'None')\n",
    "    level_a_short = level_a[level_a.find(\"(\")+1:level_a.find(\")\")] if level_a != 'None' else 'None'\n",
    "    level_b = cohort_levels.get('B', 'None')\n",
    "    level_b_short = level_b[level_b.find(\"(\")+1:level_b.find(\")\")] if level_b != 'None' else 'None'\n",
    "    lines.append(pd.DataFrame([[cohort, level_a, level_a_short, level_b, level_b_short]]))\n",
    "results = pd.concat(lines)\n",
    "results.columns = ['COHORT', 'LEVEL_A_LONG', 'LEVEL_A', 'LEVEL_B_LONG', 'LEVEL_B']\n",
    "results.head()"
   ]
  },
  {
   "cell_type": "code",
   "execution_count": 43,
   "metadata": {
    "collapsed": true
   },
   "outputs": [],
   "source": [
    "results.to_csv(output_f, sep='\\t', header=True, index=False)"
   ]
  },
  {
   "cell_type": "markdown",
   "metadata": {},
   "source": [
    "### Step 5) Merge all cohort level information into a single table"
   ]
  },
  {
   "cell_type": "code",
   "execution_count": 44,
   "metadata": {
    "collapsed": true
   },
   "outputs": [],
   "source": [
    "output_f = os.path.join(main_dir, 'cohorts_annotated.tsv')"
   ]
  },
  {
   "cell_type": "code",
   "execution_count": 46,
   "metadata": {
    "collapsed": true
   },
   "outputs": [],
   "source": [
    "original_cohorts = os.path.join(main_dir, 'cohorts_names.txt')\n",
    "original_cohorts = pd.read_csv(original_cohorts, sep='\\t', header=0)\n",
    "\n",
    "cohorts_sample_muts = os.path.join(main_dir, 'cohorts_samples_mutations.txt')\n",
    "cohorts_sample_muts = pd.read_csv(cohorts_sample_muts, sep='\\t', header=0)\n",
    "\n",
    "cohorts_cancertypes_AB = os.path.join(main_dir, 'cohorts_to_cancer_types.txt')\n",
    "cohorts_cancertypes_AB = pd.read_csv(cohorts_cancertypes_AB, sep='\\t', header=0)\n",
    "\n",
    "cohorts_cancertypes_oncotree = os.path.join(main_dir, 'oncotree_levels.txt')\n",
    "cohorts_cancertypes_oncotree = pd.read_csv(cohorts_cancertypes_oncotree, sep='\\t', header=0)"
   ]
  },
  {
   "cell_type": "code",
   "execution_count": 47,
   "metadata": {},
   "outputs": [
    {
     "data": {
      "text/html": [
       "<div>\n",
       "<style scoped>\n",
       "    .dataframe tbody tr th:only-of-type {\n",
       "        vertical-align: middle;\n",
       "    }\n",
       "\n",
       "    .dataframe tbody tr th {\n",
       "        vertical-align: top;\n",
       "    }\n",
       "\n",
       "    .dataframe thead th {\n",
       "        text-align: right;\n",
       "    }\n",
       "</style>\n",
       "<table border=\"1\" class=\"dataframe\">\n",
       "  <thead>\n",
       "    <tr style=\"text-align: right;\">\n",
       "      <th></th>\n",
       "      <th>COHORT</th>\n",
       "      <th>COHORT_MANUSCRIPT_LONG_NAME</th>\n",
       "      <th>SOURCE</th>\n",
       "      <th>PLATFORM</th>\n",
       "      <th>REFERENCE_DOI</th>\n",
       "      <th>TYPE</th>\n",
       "      <th>TREATED</th>\n",
       "      <th>AGE</th>\n",
       "    </tr>\n",
       "  </thead>\n",
       "  <tbody>\n",
       "    <tr>\n",
       "      <th>0</th>\n",
       "      <td>D_ACC</td>\n",
       "      <td>Adrenocortical carcinomas (St. Jude Children's...</td>\n",
       "      <td>STJUDE</td>\n",
       "      <td>WGS</td>\n",
       "      <td>10.1038/ncomms7302</td>\n",
       "      <td>Primary</td>\n",
       "      <td>Untreated</td>\n",
       "      <td>Pediatric</td>\n",
       "    </tr>\n",
       "  </tbody>\n",
       "</table>\n",
       "</div>"
      ],
      "text/plain": [
       "  COHORT                        COHORT_MANUSCRIPT_LONG_NAME  SOURCE PLATFORM  \\\n",
       "0  D_ACC  Adrenocortical carcinomas (St. Jude Children's...  STJUDE      WGS   \n",
       "\n",
       "        REFERENCE_DOI     TYPE    TREATED        AGE  \n",
       "0  10.1038/ncomms7302  Primary  Untreated  Pediatric  "
      ]
     },
     "execution_count": 47,
     "metadata": {},
     "output_type": "execute_result"
    }
   ],
   "source": [
    "original_cohorts.head(1)"
   ]
  },
  {
   "cell_type": "code",
   "execution_count": 48,
   "metadata": {},
   "outputs": [
    {
     "data": {
      "text/html": [
       "<div>\n",
       "<style scoped>\n",
       "    .dataframe tbody tr th:only-of-type {\n",
       "        vertical-align: middle;\n",
       "    }\n",
       "\n",
       "    .dataframe tbody tr th {\n",
       "        vertical-align: top;\n",
       "    }\n",
       "\n",
       "    .dataframe thead th {\n",
       "        text-align: right;\n",
       "    }\n",
       "</style>\n",
       "<table border=\"1\" class=\"dataframe\">\n",
       "  <thead>\n",
       "    <tr style=\"text-align: right;\">\n",
       "      <th></th>\n",
       "      <th>COHORT</th>\n",
       "      <th>SAMPLES</th>\n",
       "      <th>MUTATIONS_TOTAL</th>\n",
       "      <th>MUTATIONS_SNV</th>\n",
       "      <th>MUTATIONS_MNV</th>\n",
       "      <th>MUTATIONS_INS</th>\n",
       "      <th>MUTATIONS_DEL</th>\n",
       "    </tr>\n",
       "  </thead>\n",
       "  <tbody>\n",
       "    <tr>\n",
       "      <th>0</th>\n",
       "      <td>HARTWIG_MESOTHELIOMA</td>\n",
       "      <td>33</td>\n",
       "      <td>111336</td>\n",
       "      <td>100261</td>\n",
       "      <td>1310</td>\n",
       "      <td>6031</td>\n",
       "      <td>3734</td>\n",
       "    </tr>\n",
       "  </tbody>\n",
       "</table>\n",
       "</div>"
      ],
      "text/plain": [
       "                 COHORT  SAMPLES  MUTATIONS_TOTAL  MUTATIONS_SNV  \\\n",
       "0  HARTWIG_MESOTHELIOMA       33           111336         100261   \n",
       "\n",
       "   MUTATIONS_MNV  MUTATIONS_INS  MUTATIONS_DEL  \n",
       "0           1310           6031           3734  "
      ]
     },
     "execution_count": 48,
     "metadata": {},
     "output_type": "execute_result"
    }
   ],
   "source": [
    "cohorts_sample_muts.head(1)"
   ]
  },
  {
   "cell_type": "code",
   "execution_count": 49,
   "metadata": {},
   "outputs": [
    {
     "data": {
      "text/html": [
       "<div>\n",
       "<style scoped>\n",
       "    .dataframe tbody tr th:only-of-type {\n",
       "        vertical-align: middle;\n",
       "    }\n",
       "\n",
       "    .dataframe tbody tr th {\n",
       "        vertical-align: top;\n",
       "    }\n",
       "\n",
       "    .dataframe thead th {\n",
       "        text-align: right;\n",
       "    }\n",
       "</style>\n",
       "<table border=\"1\" class=\"dataframe\">\n",
       "  <thead>\n",
       "    <tr style=\"text-align: right;\">\n",
       "      <th></th>\n",
       "      <th>COHORT</th>\n",
       "      <th>LEVEL_A_LONG</th>\n",
       "      <th>LEVEL_A</th>\n",
       "      <th>LEVEL_B_LONG</th>\n",
       "      <th>LEVEL_B</th>\n",
       "    </tr>\n",
       "  </thead>\n",
       "  <tbody>\n",
       "    <tr>\n",
       "      <th>0</th>\n",
       "      <td>PCAWG_WGS_MYELOID_AML</td>\n",
       "      <td>Acute Myeloid Leukemia (AML)</td>\n",
       "      <td>AML</td>\n",
       "      <td>Myeloid Neoplasm (MNM)</td>\n",
       "      <td>MNM</td>\n",
       "    </tr>\n",
       "  </tbody>\n",
       "</table>\n",
       "</div>"
      ],
      "text/plain": [
       "                  COHORT                  LEVEL_A_LONG LEVEL_A  \\\n",
       "0  PCAWG_WGS_MYELOID_AML  Acute Myeloid Leukemia (AML)     AML   \n",
       "\n",
       "             LEVEL_B_LONG LEVEL_B  \n",
       "0  Myeloid Neoplasm (MNM)     MNM  "
      ]
     },
     "execution_count": 49,
     "metadata": {},
     "output_type": "execute_result"
    }
   ],
   "source": [
    "cohorts_cancertypes_AB.head(1)"
   ]
  },
  {
   "cell_type": "code",
   "execution_count": 50,
   "metadata": {},
   "outputs": [
    {
     "data": {
      "text/html": [
       "<div>\n",
       "<style scoped>\n",
       "    .dataframe tbody tr th:only-of-type {\n",
       "        vertical-align: middle;\n",
       "    }\n",
       "\n",
       "    .dataframe tbody tr th {\n",
       "        vertical-align: top;\n",
       "    }\n",
       "\n",
       "    .dataframe thead th {\n",
       "        text-align: right;\n",
       "    }\n",
       "</style>\n",
       "<table border=\"1\" class=\"dataframe\">\n",
       "  <thead>\n",
       "    <tr style=\"text-align: right;\">\n",
       "      <th></th>\n",
       "      <th>COHORT</th>\n",
       "      <th>LEVEL_1</th>\n",
       "      <th>LEVEL_2</th>\n",
       "      <th>LEVEL_3</th>\n",
       "      <th>LEVEL_4</th>\n",
       "      <th>LEVEL_5</th>\n",
       "    </tr>\n",
       "  </thead>\n",
       "  <tbody>\n",
       "    <tr>\n",
       "      <th>0</th>\n",
       "      <td>D_ACC</td>\n",
       "      <td>Adrenal Gland (ADRENAL_GLAND)</td>\n",
       "      <td>Adrenocortical Carcinoma (ACC)</td>\n",
       "      <td>NaN</td>\n",
       "      <td>NaN</td>\n",
       "      <td>NaN</td>\n",
       "    </tr>\n",
       "  </tbody>\n",
       "</table>\n",
       "</div>"
      ],
      "text/plain": [
       "  COHORT                        LEVEL_1                         LEVEL_2  \\\n",
       "0  D_ACC  Adrenal Gland (ADRENAL_GLAND)  Adrenocortical Carcinoma (ACC)   \n",
       "\n",
       "  LEVEL_3 LEVEL_4 LEVEL_5  \n",
       "0     NaN     NaN     NaN  "
      ]
     },
     "execution_count": 50,
     "metadata": {},
     "output_type": "execute_result"
    }
   ],
   "source": [
    "cohorts_cancertypes_oncotree.head(1)"
   ]
  },
  {
   "cell_type": "code",
   "execution_count": 51,
   "metadata": {
    "collapsed": true
   },
   "outputs": [],
   "source": [
    "cohorts_full_table = pd.merge(original_cohorts, cohorts_sample_muts, on='COHORT')\n",
    "cohorts_full_table = pd.merge(cohorts_full_table, cohorts_cancertypes_AB, on='COHORT')\n",
    "cohorts_full_table = pd.merge(cohorts_full_table, cohorts_cancertypes_oncotree, on='COHORT')"
   ]
  },
  {
   "cell_type": "code",
   "execution_count": 52,
   "metadata": {},
   "outputs": [
    {
     "data": {
      "text/html": [
       "<div>\n",
       "<style scoped>\n",
       "    .dataframe tbody tr th:only-of-type {\n",
       "        vertical-align: middle;\n",
       "    }\n",
       "\n",
       "    .dataframe tbody tr th {\n",
       "        vertical-align: top;\n",
       "    }\n",
       "\n",
       "    .dataframe thead th {\n",
       "        text-align: right;\n",
       "    }\n",
       "</style>\n",
       "<table border=\"1\" class=\"dataframe\">\n",
       "  <thead>\n",
       "    <tr style=\"text-align: right;\">\n",
       "      <th></th>\n",
       "      <th>COHORT</th>\n",
       "      <th>COHORT_MANUSCRIPT_LONG_NAME</th>\n",
       "      <th>SOURCE</th>\n",
       "      <th>PLATFORM</th>\n",
       "      <th>REFERENCE_DOI</th>\n",
       "      <th>TYPE</th>\n",
       "      <th>TREATED</th>\n",
       "      <th>AGE</th>\n",
       "      <th>SAMPLES</th>\n",
       "      <th>MUTATIONS_TOTAL</th>\n",
       "      <th>...</th>\n",
       "      <th>MUTATIONS_DEL</th>\n",
       "      <th>LEVEL_A_LONG</th>\n",
       "      <th>LEVEL_A</th>\n",
       "      <th>LEVEL_B_LONG</th>\n",
       "      <th>LEVEL_B</th>\n",
       "      <th>LEVEL_1</th>\n",
       "      <th>LEVEL_2</th>\n",
       "      <th>LEVEL_3</th>\n",
       "      <th>LEVEL_4</th>\n",
       "      <th>LEVEL_5</th>\n",
       "    </tr>\n",
       "  </thead>\n",
       "  <tbody>\n",
       "    <tr>\n",
       "      <th>0</th>\n",
       "      <td>D_ACC</td>\n",
       "      <td>Adrenocortical carcinomas (St. Jude Children's...</td>\n",
       "      <td>STJUDE</td>\n",
       "      <td>WGS</td>\n",
       "      <td>10.1038/ncomms7302</td>\n",
       "      <td>Primary</td>\n",
       "      <td>Untreated</td>\n",
       "      <td>Pediatric</td>\n",
       "      <td>20</td>\n",
       "      <td>16649</td>\n",
       "      <td>...</td>\n",
       "      <td>9</td>\n",
       "      <td>Adrenocortical Carcinoma (ACC)</td>\n",
       "      <td>ACC</td>\n",
       "      <td>None</td>\n",
       "      <td>None</td>\n",
       "      <td>Adrenal Gland (ADRENAL_GLAND)</td>\n",
       "      <td>Adrenocortical Carcinoma (ACC)</td>\n",
       "      <td>NaN</td>\n",
       "      <td>NaN</td>\n",
       "      <td>NaN</td>\n",
       "    </tr>\n",
       "    <tr>\n",
       "      <th>1</th>\n",
       "      <td>D_ALL</td>\n",
       "      <td>Acute lymphoblastic leukemias (St. Jude Childr...</td>\n",
       "      <td>STJUDE</td>\n",
       "      <td>WGS</td>\n",
       "      <td>10.1038/ncomms7604</td>\n",
       "      <td>Primary</td>\n",
       "      <td>Untreated</td>\n",
       "      <td>Pediatric</td>\n",
       "      <td>278</td>\n",
       "      <td>154660</td>\n",
       "      <td>...</td>\n",
       "      <td>222</td>\n",
       "      <td>Acute lymphoblastic leukemia (ALL)</td>\n",
       "      <td>ALL</td>\n",
       "      <td>Lymphoid Neoplasm (LNM)</td>\n",
       "      <td>LNM</td>\n",
       "      <td>Lymphoid (LYMPH)</td>\n",
       "      <td>Lymphoid Neoplasm (LNM)</td>\n",
       "      <td>Acute lymphoblastic leukemia (ALL)</td>\n",
       "      <td>NaN</td>\n",
       "      <td>NaN</td>\n",
       "    </tr>\n",
       "    <tr>\n",
       "      <th>2</th>\n",
       "      <td>PCAWG_WGS_MYELOID_AML</td>\n",
       "      <td>Acute myeloid leukemias (PCAWG)</td>\n",
       "      <td>PCAWG</td>\n",
       "      <td>WGS</td>\n",
       "      <td>10.1101/162784</td>\n",
       "      <td>Primary</td>\n",
       "      <td>Untreated</td>\n",
       "      <td>Adult</td>\n",
       "      <td>13</td>\n",
       "      <td>18413</td>\n",
       "      <td>...</td>\n",
       "      <td>327</td>\n",
       "      <td>Acute Myeloid Leukemia (AML)</td>\n",
       "      <td>AML</td>\n",
       "      <td>Myeloid Neoplasm (MNM)</td>\n",
       "      <td>MNM</td>\n",
       "      <td>Myeloid (MYELOID)</td>\n",
       "      <td>Myeloid Neoplasm (MNM)</td>\n",
       "      <td>Acute Myeloid Leukemia (AML)</td>\n",
       "      <td>NaN</td>\n",
       "      <td>NaN</td>\n",
       "    </tr>\n",
       "    <tr>\n",
       "      <th>3</th>\n",
       "      <td>D_AML</td>\n",
       "      <td>Acute myeloid leukemias (St. Jude Children's R...</td>\n",
       "      <td>STJUDE</td>\n",
       "      <td>WGS</td>\n",
       "      <td>10.1038/ng.3709</td>\n",
       "      <td>Primary</td>\n",
       "      <td>Untreated</td>\n",
       "      <td>Pediatric</td>\n",
       "      <td>21</td>\n",
       "      <td>15291</td>\n",
       "      <td>...</td>\n",
       "      <td>14</td>\n",
       "      <td>Acute Myeloid Leukemia (AML)</td>\n",
       "      <td>AML</td>\n",
       "      <td>Myeloid Neoplasm (MNM)</td>\n",
       "      <td>MNM</td>\n",
       "      <td>Myeloid (MYELOID)</td>\n",
       "      <td>Myeloid Neoplasm (MNM)</td>\n",
       "      <td>Acute Myeloid Leukemia (AML)</td>\n",
       "      <td>NaN</td>\n",
       "      <td>NaN</td>\n",
       "    </tr>\n",
       "    <tr>\n",
       "      <th>4</th>\n",
       "      <td>HARTWIG_ANUS</td>\n",
       "      <td>Anal cancers (Hartwig Medical Foundation)</td>\n",
       "      <td>HARTWIG</td>\n",
       "      <td>WGS</td>\n",
       "      <td>10.1038/s41586-019-1689-y</td>\n",
       "      <td>Metastasis</td>\n",
       "      <td>Treated</td>\n",
       "      <td>Adult</td>\n",
       "      <td>14</td>\n",
       "      <td>208041</td>\n",
       "      <td>...</td>\n",
       "      <td>8994</td>\n",
       "      <td>Anal Cancer (AN)</td>\n",
       "      <td>AN</td>\n",
       "      <td>Bowel (BOWEL)</td>\n",
       "      <td>BOWEL</td>\n",
       "      <td>Bowel (BOWEL)</td>\n",
       "      <td>Anal Cancer (AN)</td>\n",
       "      <td>NaN</td>\n",
       "      <td>NaN</td>\n",
       "      <td>NaN</td>\n",
       "    </tr>\n",
       "  </tbody>\n",
       "</table>\n",
       "<p>5 rows × 23 columns</p>\n",
       "</div>"
      ],
      "text/plain": [
       "                  COHORT                        COHORT_MANUSCRIPT_LONG_NAME  \\\n",
       "0                  D_ACC  Adrenocortical carcinomas (St. Jude Children's...   \n",
       "1                  D_ALL  Acute lymphoblastic leukemias (St. Jude Childr...   \n",
       "2  PCAWG_WGS_MYELOID_AML                    Acute myeloid leukemias (PCAWG)   \n",
       "3                  D_AML  Acute myeloid leukemias (St. Jude Children's R...   \n",
       "4           HARTWIG_ANUS          Anal cancers (Hartwig Medical Foundation)   \n",
       "\n",
       "    SOURCE PLATFORM              REFERENCE_DOI        TYPE    TREATED  \\\n",
       "0   STJUDE      WGS         10.1038/ncomms7302     Primary  Untreated   \n",
       "1   STJUDE      WGS         10.1038/ncomms7604     Primary  Untreated   \n",
       "2    PCAWG      WGS             10.1101/162784     Primary  Untreated   \n",
       "3   STJUDE      WGS            10.1038/ng.3709     Primary  Untreated   \n",
       "4  HARTWIG      WGS  10.1038/s41586-019-1689-y  Metastasis    Treated   \n",
       "\n",
       "         AGE  SAMPLES  MUTATIONS_TOTAL  ...  MUTATIONS_DEL  \\\n",
       "0  Pediatric       20            16649  ...              9   \n",
       "1  Pediatric      278           154660  ...            222   \n",
       "2      Adult       13            18413  ...            327   \n",
       "3  Pediatric       21            15291  ...             14   \n",
       "4      Adult       14           208041  ...           8994   \n",
       "\n",
       "                         LEVEL_A_LONG  LEVEL_A             LEVEL_B_LONG  \\\n",
       "0      Adrenocortical Carcinoma (ACC)      ACC                     None   \n",
       "1  Acute lymphoblastic leukemia (ALL)      ALL  Lymphoid Neoplasm (LNM)   \n",
       "2        Acute Myeloid Leukemia (AML)      AML   Myeloid Neoplasm (MNM)   \n",
       "3        Acute Myeloid Leukemia (AML)      AML   Myeloid Neoplasm (MNM)   \n",
       "4                    Anal Cancer (AN)       AN            Bowel (BOWEL)   \n",
       "\n",
       "  LEVEL_B                        LEVEL_1                         LEVEL_2  \\\n",
       "0    None  Adrenal Gland (ADRENAL_GLAND)  Adrenocortical Carcinoma (ACC)   \n",
       "1     LNM               Lymphoid (LYMPH)         Lymphoid Neoplasm (LNM)   \n",
       "2     MNM              Myeloid (MYELOID)          Myeloid Neoplasm (MNM)   \n",
       "3     MNM              Myeloid (MYELOID)          Myeloid Neoplasm (MNM)   \n",
       "4   BOWEL                  Bowel (BOWEL)                Anal Cancer (AN)   \n",
       "\n",
       "                              LEVEL_3 LEVEL_4 LEVEL_5  \n",
       "0                                 NaN     NaN     NaN  \n",
       "1  Acute lymphoblastic leukemia (ALL)     NaN     NaN  \n",
       "2        Acute Myeloid Leukemia (AML)     NaN     NaN  \n",
       "3        Acute Myeloid Leukemia (AML)     NaN     NaN  \n",
       "4                                 NaN     NaN     NaN  \n",
       "\n",
       "[5 rows x 23 columns]"
      ]
     },
     "execution_count": 52,
     "metadata": {},
     "output_type": "execute_result"
    }
   ],
   "source": [
    "cohorts_full_table.head()"
   ]
  },
  {
   "cell_type": "code",
   "execution_count": 53,
   "metadata": {
    "collapsed": true
   },
   "outputs": [],
   "source": [
    "cohorts_full_table.to_csv(output_f, sep='\\t', header=True, index=False)"
   ]
  }
 ],
 "metadata": {
  "kernelspec": {
   "display_name": "Python [conda env:hotspots_framework]",
   "language": "python",
   "name": "conda-env-hotspots_framework-py"
  },
  "language_info": {
   "codemirror_mode": {
    "name": "ipython",
    "version": 3
   },
   "file_extension": ".py",
   "mimetype": "text/x-python",
   "name": "python",
   "nbconvert_exporter": "python",
   "pygments_lexer": "ipython3",
   "version": "3.6.10"
  }
 },
 "nbformat": 4,
 "nbformat_minor": 2
}
