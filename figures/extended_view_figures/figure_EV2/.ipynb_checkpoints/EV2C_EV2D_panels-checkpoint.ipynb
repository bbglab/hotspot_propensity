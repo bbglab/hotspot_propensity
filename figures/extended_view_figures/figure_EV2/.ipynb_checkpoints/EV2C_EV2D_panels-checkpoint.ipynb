{
 "cells": [
  {
   "cell_type": "markdown",
   "metadata": {},
   "source": [
    "# Trinucleotide genome composition in EV Fig 2C and 2D"
   ]
  },
  {
   "cell_type": "code",
   "execution_count": 1,
   "metadata": {
    "collapsed": true
   },
   "outputs": [],
   "source": [
    "from collections import Counter\n",
    "from collections import defaultdict\n",
    "import json\n",
    "\n",
    "import matplotlib\n",
    "import matplotlib.pyplot as plt\n",
    "from matplotlib import rcParams\n",
    "from matplotlib.patches import Rectangle\n",
    "import numpy as np\n",
    "import pandas as pd"
   ]
  },
  {
   "cell_type": "code",
   "execution_count": 2,
   "metadata": {
    "collapsed": true
   },
   "outputs": [],
   "source": [
    "rcParams['font.family'] = 'sans-serif'\n",
    "rcParams['font.sans-serif'] = ['Arial']"
   ]
  },
  {
   "cell_type": "code",
   "execution_count": 3,
   "metadata": {},
   "outputs": [
    {
     "data": {
      "text/plain": [
       "32"
      ]
     },
     "execution_count": 3,
     "metadata": {},
     "output_type": "execute_result"
    }
   ],
   "source": [
    "sorted_trinuc = []\n",
    "for ref in ['C', 'T']: \n",
    "    for nuc5 in ['A', 'C', 'G', 'T']: \n",
    "        for nuc3 in ['A', 'C', 'G', 'T']: \n",
    "            sorted_trinuc.append(nuc5+ref+nuc3)\n",
    "len(sorted_trinuc)"
   ]
  },
  {
   "cell_type": "code",
   "execution_count": 4,
   "metadata": {
    "collapsed": true
   },
   "outputs": [],
   "source": [
    "colors_d = {\n",
    "    'C': '#adabadff', \n",
    "    'T': '#636163ff'\n",
    "}"
   ]
  },
  {
   "cell_type": "code",
   "execution_count": 5,
   "metadata": {
    "collapsed": true
   },
   "outputs": [],
   "source": [
    "data_dir = '../../../data/genomic_bin_data'"
   ]
  },
  {
   "cell_type": "markdown",
   "metadata": {},
   "source": [
    "### Load data\n",
    "\n",
    "JSON file containing trinucleotide counts across mappable megabases"
   ]
  },
  {
   "cell_type": "code",
   "execution_count": 6,
   "metadata": {
    "collapsed": true
   },
   "outputs": [],
   "source": [
    "trinuc_f = f'{data_dir}/hg38_1000kb_bin.nodrivers.filtered.mappable_positions.autosomes.trinuc_per_bin.json'\n",
    "with open(trinuc_f, 'r') as fd: \n",
    "    trinuc_counts_per_bin = json.load(fd)"
   ]
  },
  {
   "cell_type": "code",
   "execution_count": 7,
   "metadata": {},
   "outputs": [
    {
     "data": {
      "text/plain": [
       "2196"
      ]
     },
     "execution_count": 7,
     "metadata": {},
     "output_type": "execute_result"
    }
   ],
   "source": [
    "len(trinuc_counts_per_bin.keys())"
   ]
  },
  {
   "cell_type": "code",
   "execution_count": 8,
   "metadata": {},
   "outputs": [
    {
     "data": {
      "text/plain": [
       "2012091115"
      ]
     },
     "execution_count": 8,
     "metadata": {},
     "output_type": "execute_result"
    }
   ],
   "source": [
    "# Get total counts across megabases\n",
    "trinuc_counts = dict()\n",
    "trinuc_counts_per_bin = dict([(k, v) for k, v in trinuc_counts_per_bin.items()])\n",
    "for binid, data in trinuc_counts_per_bin.items(): \n",
    "    if trinuc_counts: \n",
    "        trinuc_counts = Counter(trinuc_counts) + Counter(data)\n",
    "    else: \n",
    "        trinuc_counts = Counter(data)\n",
    "total_counts = sum(trinuc_counts.values())\n",
    "total_counts"
   ]
  },
  {
   "cell_type": "code",
   "execution_count": 9,
   "metadata": {
    "collapsed": true
   },
   "outputs": [],
   "source": [
    "# Normalise\n",
    "trinuc_counts_norm = dict([(k, v/total_counts) for k, v in trinuc_counts.items()])"
   ]
  },
  {
   "cell_type": "code",
   "execution_count": 10,
   "metadata": {
    "collapsed": true
   },
   "outputs": [],
   "source": [
    "# Calculate the relative frequency of each trinucleotide in a bin \n",
    "trinc_density_per_bin = defaultdict(list)\n",
    "for binid, data in trinuc_counts_per_bin.items(): \n",
    "    binid_length = sum(data.values())\n",
    "    for trinuc, counts in data.items(): \n",
    "        trinc_density_per_bin[trinuc].append(100*counts/binid_length)"
   ]
  },
  {
   "cell_type": "code",
   "execution_count": 11,
   "metadata": {
    "collapsed": true
   },
   "outputs": [],
   "source": [
    "sorted_trinucs_frequency = dict([(n, np.median(f)) for n, f in trinc_density_per_bin.items()])\n",
    "sorted_trinucs_frequency = [k for k, v in sorted(sorted_trinucs_frequency.items(), key=lambda item: item[1])]"
   ]
  },
  {
   "cell_type": "markdown",
   "metadata": {},
   "source": [
    "## Panel EV2C"
   ]
  },
  {
   "cell_type": "code",
   "execution_count": 12,
   "metadata": {
    "scrolled": false
   },
   "outputs": [
    {
     "data": {
      "image/png": "[encoded data removed]",
      "text/plain": [
       "<Figure size 252x90 with 1 Axes>"
      ]
     },
     "metadata": {
      "needs_background": "light"
     },
     "output_type": "display_data"
    }
   ],
   "source": [
    "fig = plt.figure(figsize=(3.5, 1.25))\n",
    "ax = plt.subplot2grid((1, 1), (0, 0))\n",
    "ax.set_ylabel('Trinucleotide frequency\\nacross mappable megabases (%)', fontsize=6)\n",
    "plt.rc('axes', edgecolor='black')\n",
    "\n",
    "labels = []\n",
    "for i, trinuc in enumerate(sorted_trinuc, 0): \n",
    "    labels.append(trinuc)\n",
    "    color = colors_d[trinuc[1]]\n",
    "    y = 100*trinuc_counts_norm[trinuc]\n",
    "    bar = ax.bar(i, y, width=0.75, align='center', color=color, alpha=1, zorder=1)\n",
    "\n",
    "ax.set_xlim(-1, 32)\n",
    "ax.set_xticks(list(range(0, 32)))\n",
    "ax.set_xticklabels(labels, rotation=90, fontsize=5, ha='center')\n",
    "yticks = [0.0, 2.5, 5.0, 7.5, 10.0]\n",
    "ax.set_yticks(yticks)\n",
    "ax.set_yticklabels(yticks, fontsize=5)\n",
    "for i in yticks: \n",
    "    ax.axhline(y=i, ls='--', linewidth=0.25, color='grey', zorder=0)\n",
    "ax.spines['left'].set(lw=0.5)\n",
    "ax.spines['bottom'].set(lw=0.5)\n",
    "ax.spines['right'].set_visible(False)\n",
    "ax.spines['top'].set_visible(False)\n",
    "plt.setp(ax.yaxis.get_ticklines(), 'markeredgewidth', 0.5)\n",
    "plt.setp(ax.xaxis.get_ticklines(), 'markeredgewidth', 0.5)\n",
    "\n",
    "for extension in ['png', 'svg']: \n",
    "    output = f'./fig_EV2C.{extension}'\n",
    "    plt.savefig(output, bbox_inches='tight', dpi=350)"
   ]
  },
  {
   "cell_type": "markdown",
   "metadata": {},
   "source": [
    "## Panel EV2D"
   ]
  },
  {
   "cell_type": "code",
   "execution_count": 13,
   "metadata": {},
   "outputs": [
    {
     "data": {
      "image/png": "[encoded data removed]",
      "text/plain": [
       "<Figure size 252x90 with 1 Axes>"
      ]
     },
     "metadata": {
      "needs_background": "light"
     },
     "output_type": "display_data"
    }
   ],
   "source": [
    "fig = plt.figure(figsize=(3.5, 1.25))\n",
    "ax = plt.subplot2grid((1, 1), (0, 0))\n",
    "ax.set_ylabel('Trinucleotide frequency per Mbp (%)', fontsize=6)\n",
    "\n",
    "labels = []\n",
    "for i, nucleotide in enumerate(sorted_trinucs_frequency[::-1]): \n",
    "    y = trinc_density_per_bin[nucleotide]\n",
    "    x = [i] * len(y)\n",
    "    labels += [nucleotide]\n",
    "    color = colors_d[nucleotide[1]]\n",
    "    parts = ax.violinplot(y, positions=[i], showmeans=False, showmedians=False, showextrema=False)\n",
    "    for pc in parts['bodies']:\n",
    "        pc.set_facecolor(color)\n",
    "        pc.set_edgecolor(color)\n",
    "        pc.set_alpha(1)\n",
    "        pc.set_zorder(2)\n",
    "\n",
    "    quartile1, medians, quartile3 = np.percentile(y, [25, 50, 75])\n",
    "    inds = [np.mean(x)]\n",
    "    ax.scatter(inds, medians, marker='.', color='white', s=3, zorder=3)\n",
    "    ax.vlines(inds, quartile1, quartile3, color='k', linestyle='-', lw=1)\n",
    "\n",
    "ax.set_xlim(-1, 32)\n",
    "ax.set_xticks(range(len(labels)))\n",
    "ax.set_xticklabels(labels, fontsize=5, rotation=90, ha='center')\n",
    "ax.set_ylim(0, 10)\n",
    "yticks = [0.0, 2.5, 5.0, 7.5, 10.0]\n",
    "ax.set_yticks(yticks)\n",
    "ax.set_yticklabels(yticks, fontsize=5)\n",
    "for i in yticks: \n",
    "    ax.axhline(y=i, ls='--', linewidth=0.25, color='grey', zorder=0)\n",
    "\n",
    "ax.spines['left'].set(lw=0.5)\n",
    "ax.spines['bottom'].set(lw=0.5)\n",
    "ax.spines['right'].set_visible(False)\n",
    "ax.spines['top'].set_visible(False)\n",
    "plt.setp(ax.yaxis.get_ticklines(), 'markeredgewidth', 0.5)\n",
    "plt.setp(ax.xaxis.get_ticklines(), 'markeredgewidth', 0.5)\n",
    "\n",
    "for extension in ['png', 'svg']: \n",
    "    output = f'./fig_EV2D.{extension}'\n",
    "    plt.savefig(output, bbox_inches='tight', dpi=350)"
   ]
  },
  {
   "cell_type": "code",
   "execution_count": null,
   "metadata": {
    "collapsed": true
   },
   "outputs": [],
   "source": []
  }
 ],
 "metadata": {
  "kernelspec": {
   "display_name": "Python [conda env:hotspot_propensity]",
   "language": "python",
   "name": "conda-env-hotspot_propensity-py"
  },
  "language_info": {
   "codemirror_mode": {
    "name": "ipython",
    "version": 3
   },
   "file_extension": ".py",
   "mimetype": "text/x-python",
   "name": "python",
   "nbconvert_exporter": "python",
   "pygments_lexer": "ipython3",
   "version": "3.6.13"
  }
 },
 "nbformat": 4,
 "nbformat_minor": 2
}
