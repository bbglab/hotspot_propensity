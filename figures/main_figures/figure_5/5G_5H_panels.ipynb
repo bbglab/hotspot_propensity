{
 "cells": [
  {
   "cell_type": "markdown",
   "metadata": {},
   "source": [
    "# Expected SBS1 hotspot propensity using methylation data from Fig 5G-5H"
   ]
  },
  {
   "cell_type": "code",
   "execution_count": 1,
   "metadata": {
    "collapsed": true
   },
   "outputs": [],
   "source": [
    "from collections import defaultdict\n",
    "import json\n",
    "\n",
    "import matplotlib\n",
    "import matplotlib.pyplot as plt\n",
    "from matplotlib import rcParams\n",
    "import numpy as np\n",
    "np.random.seed(54354)\n",
    "import pandas as pd\n",
    "import seaborn as sns"
   ]
  },
  {
   "cell_type": "code",
   "execution_count": 2,
   "metadata": {
    "collapsed": true
   },
   "outputs": [],
   "source": [
    "rcParams['font.family'] = 'sans-serif'\n",
    "rcParams['font.sans-serif'] = ['Arial']"
   ]
  },
  {
   "cell_type": "code",
   "execution_count": 3,
   "metadata": {
    "collapsed": true
   },
   "outputs": [],
   "source": [
    "data_dir = '../../../data/'"
   ]
  },
  {
   "cell_type": "markdown",
   "metadata": {},
   "source": [
    "### Load data\n",
    "\n",
    "- Observed hotspot propensity calculations using 100 samples and 100-300 mutations per sample for 1000 iterations.\n",
    "- Expected SBS1 hotspot propensities for different genomic regions and cancer types\n",
    "- Expected SBS1 hotspot propensities for different genomic regions and cancer types, which account for variation in CpG methylation in tissue-matched epigenomes"
   ]
  },
  {
   "cell_type": "code",
   "execution_count": 4,
   "metadata": {
    "collapsed": true
   },
   "outputs": [],
   "source": [
    "cancertypes = ['COADREAD', 'ESOPHA_STOMACH', 'NSCLC']"
   ]
  },
  {
   "cell_type": "code",
   "execution_count": 5,
   "metadata": {
    "collapsed": true
   },
   "outputs": [],
   "source": [
    "binsizes = ['1000kb', '500kb', '250kb', '100kb', '50kb', '25kb', '10kb']"
   ]
  },
  {
   "cell_type": "code",
   "execution_count": 6,
   "metadata": {
    "collapsed": true
   },
   "outputs": [],
   "source": [
    "# Color gradients\n",
    "model_color = {}\n",
    "\n",
    "# Models with no methylation data\n",
    "gradient = sns.color_palette(\"YlOrRd\", 8)\n",
    "for binsize, color in list(zip(binsizes, gradient[1:])): \n",
    "    model_color[f'exp_{binsize}'] = color\n",
    "\n",
    "# Models including methylation data\n",
    "gradient_me = sns.color_palette(\"Blues\", 8)\n",
    "for binsize, color in list(zip(binsizes, gradient_me[1:])): \n",
    "    model_color[f'exp_me_{binsize}'] = color"
   ]
  },
  {
   "cell_type": "code",
   "execution_count": 7,
   "metadata": {
    "collapsed": true
   },
   "outputs": [],
   "source": [
    "colors_d = {\n",
    "    'explained': gradient, \n",
    "    'explained_me': gradient_me, \n",
    "    'missing': ['#f6f5f4ff'] * 7\n",
    "}"
   ]
  },
  {
   "cell_type": "code",
   "execution_count": 8,
   "metadata": {},
   "outputs": [
    {
     "data": {
      "text/html": [
       "<div>\n",
       "<style scoped>\n",
       "    .dataframe tbody tr th:only-of-type {\n",
       "        vertical-align: middle;\n",
       "    }\n",
       "\n",
       "    .dataframe tbody tr th {\n",
       "        vertical-align: top;\n",
       "    }\n",
       "\n",
       "    .dataframe thead th {\n",
       "        text-align: right;\n",
       "    }\n",
       "</style>\n",
       "<table border=\"1\" class=\"dataframe\">\n",
       "  <thead>\n",
       "    <tr style=\"text-align: right;\">\n",
       "      <th></th>\n",
       "      <th>ITER</th>\n",
       "      <th>N_SAMPLES</th>\n",
       "      <th>TOTAL_HOTSPOTS</th>\n",
       "      <th>TOTAL_HOTSPOTS_UNIQPOS</th>\n",
       "      <th>TOTAL_MUTS</th>\n",
       "      <th>CTYPE</th>\n",
       "      <th>SIGNATURE</th>\n",
       "    </tr>\n",
       "  </thead>\n",
       "  <tbody>\n",
       "    <tr>\n",
       "      <th>251000</th>\n",
       "      <td>BLADDER_URI_iter_0_SBS1</td>\n",
       "      <td>100</td>\n",
       "      <td>33</td>\n",
       "      <td>33</td>\n",
       "      <td>30000</td>\n",
       "      <td>BLADDER_URI</td>\n",
       "      <td>SBS1</td>\n",
       "    </tr>\n",
       "    <tr>\n",
       "      <th>251001</th>\n",
       "      <td>BLADDER_URI_iter_1_SBS1</td>\n",
       "      <td>100</td>\n",
       "      <td>45</td>\n",
       "      <td>45</td>\n",
       "      <td>30000</td>\n",
       "      <td>BLADDER_URI</td>\n",
       "      <td>SBS1</td>\n",
       "    </tr>\n",
       "    <tr>\n",
       "      <th>251002</th>\n",
       "      <td>BLADDER_URI_iter_2_SBS1</td>\n",
       "      <td>100</td>\n",
       "      <td>34</td>\n",
       "      <td>34</td>\n",
       "      <td>30000</td>\n",
       "      <td>BLADDER_URI</td>\n",
       "      <td>SBS1</td>\n",
       "    </tr>\n",
       "    <tr>\n",
       "      <th>251003</th>\n",
       "      <td>BLADDER_URI_iter_3_SBS1</td>\n",
       "      <td>100</td>\n",
       "      <td>42</td>\n",
       "      <td>42</td>\n",
       "      <td>30000</td>\n",
       "      <td>BLADDER_URI</td>\n",
       "      <td>SBS1</td>\n",
       "    </tr>\n",
       "    <tr>\n",
       "      <th>251004</th>\n",
       "      <td>BLADDER_URI_iter_4_SBS1</td>\n",
       "      <td>100</td>\n",
       "      <td>33</td>\n",
       "      <td>33</td>\n",
       "      <td>30000</td>\n",
       "      <td>BLADDER_URI</td>\n",
       "      <td>SBS1</td>\n",
       "    </tr>\n",
       "  </tbody>\n",
       "</table>\n",
       "</div>"
      ],
      "text/plain": [
       "                           ITER  N_SAMPLES  TOTAL_HOTSPOTS  \\\n",
       "251000  BLADDER_URI_iter_0_SBS1        100              33   \n",
       "251001  BLADDER_URI_iter_1_SBS1        100              45   \n",
       "251002  BLADDER_URI_iter_2_SBS1        100              34   \n",
       "251003  BLADDER_URI_iter_3_SBS1        100              42   \n",
       "251004  BLADDER_URI_iter_4_SBS1        100              33   \n",
       "\n",
       "        TOTAL_HOTSPOTS_UNIQPOS  TOTAL_MUTS        CTYPE SIGNATURE  \n",
       "251000                      33       30000  BLADDER_URI      SBS1  \n",
       "251001                      45       30000  BLADDER_URI      SBS1  \n",
       "251002                      34       30000  BLADDER_URI      SBS1  \n",
       "251003                      42       30000  BLADDER_URI      SBS1  \n",
       "251004                      33       30000  BLADDER_URI      SBS1  "
      ]
     },
     "execution_count": 8,
     "metadata": {},
     "output_type": "execute_result"
    }
   ],
   "source": [
    "# Observed SBS1 hotspot propensity using 30000 mutations\n",
    "propensity_f = f'{data_dir}/hotspot_propensity_1000iter_100samples_100-300muts.txt.gz'\n",
    "propensity_df = pd.read_csv(propensity_f, sep='\\t', header=0)\n",
    "propensity_df = propensity_df.loc[(propensity_df['TOTAL_MUTS'] == 30000) & (propensity_df['SIGNATURE'] == 'SBS1')].copy()\n",
    "propensity_df.head()"
   ]
  },
  {
   "cell_type": "code",
   "execution_count": 9,
   "metadata": {
    "collapsed": true
   },
   "outputs": [],
   "source": [
    "# Expected hotspot propensity using models with no methylation information\n",
    "expected_f_dict = defaultdict(dict) \n",
    "for bin_size in binsizes: \n",
    "    for ctype in cancertypes: \n",
    "        expected_f_dict[bin_size][ctype] = f'{data_dir}/expected_hotspot_propensity/{bin_size}_{ctype}_SBS1_300_100.nodrivers.relat_pcount.json'"
   ]
  },
  {
   "cell_type": "code",
   "execution_count": 10,
   "metadata": {
    "collapsed": true
   },
   "outputs": [],
   "source": [
    "# Expected hotspot propensity using models including methylation data\n",
    "expected_me_f = f'{data_dir}/expected_hotspot_propensity/expected_hotspot_rate_methylation.json'\n",
    "with open(expected_me_f, 'rt') as fd: \n",
    "    models_me_d = json.load(fd)"
   ]
  },
  {
   "cell_type": "markdown",
   "metadata": {},
   "source": [
    "### Compute observed SBS1 hotspot propensity"
   ]
  },
  {
   "cell_type": "code",
   "execution_count": 11,
   "metadata": {},
   "outputs": [
    {
     "data": {
      "text/plain": [
       "{'COADREAD': (38.0, 34.0, 42.0),\n",
       " 'ESOPHA_STOMACH': (39.0, 35.0, 44.0),\n",
       " 'NSCLC': (35.0, 31.0, 38.0)}"
      ]
     },
     "execution_count": 11,
     "metadata": {},
     "output_type": "execute_result"
    }
   ],
   "source": [
    "observed = dict()\n",
    "observed_samples = dict()\n",
    "for cancertype in cancertypes:  \n",
    "    df = propensity_df.loc[propensity_df['CTYPE'] == cancertype].copy()\n",
    "    median = np.percentile(df['TOTAL_HOTSPOTS_UNIQPOS'], 50)\n",
    "    q1 = np.percentile(df['TOTAL_HOTSPOTS_UNIQPOS'], 25)\n",
    "    q3 = np.percentile(df['TOTAL_HOTSPOTS_UNIQPOS'], 75)\n",
    "    observed[cancertype] = (median, q1, q3)\n",
    "    observed_samples[cancertype] = df['TOTAL_HOTSPOTS_UNIQPOS'].tolist()\n",
    "observed"
   ]
  },
  {
   "cell_type": "markdown",
   "metadata": {},
   "source": [
    "### Compute expected SBS1 hotspot propensity"
   ]
  },
  {
   "cell_type": "code",
   "execution_count": 12,
   "metadata": {
    "collapsed": true
   },
   "outputs": [],
   "source": [
    "expected = defaultdict(dict)\n",
    "for bin_size in binsizes: \n",
    "    for ctype in cancertypes: \n",
    "        with open(expected_f_dict[bin_size][ctype], 'r') as fd: \n",
    "            h_per_bin = json.load(fd)\n",
    "        h_total = sum(h_per_bin.values())\n",
    "        expected[ctype][bin_size] = h_total"
   ]
  },
  {
   "cell_type": "code",
   "execution_count": 13,
   "metadata": {},
   "outputs": [
    {
     "data": {
      "text/plain": [
       "defaultdict(dict,\n",
       "            {'COADREAD': {'1000kb': 11.276672386181698,\n",
       "              '500kb': 11.56421085236148,\n",
       "              '250kb': 11.814439149792921,\n",
       "              '100kb': 12.213909422496348,\n",
       "              '50kb': 12.640215669597701,\n",
       "              '25kb': 13.369541573800703,\n",
       "              '10kb': 15.35777039030827},\n",
       "             'ESOPHA_STOMACH': {'1000kb': 10.743813838106265,\n",
       "              '500kb': 10.975479918218259,\n",
       "              '250kb': 11.255592856602275,\n",
       "              '100kb': 11.863439210127321,\n",
       "              '50kb': 12.690579722540944,\n",
       "              '25kb': 14.194244119885045,\n",
       "              '10kb': 18.530260490047144},\n",
       "             'NSCLC': {'1000kb': 10.501033558123245,\n",
       "              '500kb': 10.716349122478578,\n",
       "              '250kb': 11.032521242285934,\n",
       "              '100kb': 11.826732976375228,\n",
       "              '50kb': 13.028689996038997,\n",
       "              '25kb': 15.385938543043455,\n",
       "              '10kb': 22.269554439137774}})"
      ]
     },
     "execution_count": 13,
     "metadata": {},
     "output_type": "execute_result"
    }
   ],
   "source": [
    "expected"
   ]
  },
  {
   "cell_type": "markdown",
   "metadata": {},
   "source": [
    "### Compute expected SBS1 hotspot propensity with methylation-aware models"
   ]
  },
  {
   "cell_type": "code",
   "execution_count": 14,
   "metadata": {},
   "outputs": [
    {
     "data": {
      "text/plain": [
       "defaultdict(dict,\n",
       "            {'COADREAD': {'1000kb': 22.123810388291822,\n",
       "              '500kb': 22.96748447377775,\n",
       "              '250kb': 23.66094723783125,\n",
       "              '100kb': 24.54427456776858,\n",
       "              '50kb': 25.42915710159138,\n",
       "              '25kb': 26.843236082504056,\n",
       "              '10kb': 30.52196198656896},\n",
       "             'ESOPHA_STOMACH': {'1000kb': 19.862152009077835,\n",
       "              '500kb': 20.506398509799222,\n",
       "              '250kb': 21.155713593310594,\n",
       "              '100kb': 22.35038362424558,\n",
       "              '50kb': 23.94398595707319,\n",
       "              '25kb': 26.933785348315052,\n",
       "              '10kb': 35.641279253334766},\n",
       "             'NSCLC': {'1000kb': 19.466353829925033,\n",
       "              '500kb': 20.185930196664987,\n",
       "              '250kb': 21.06718431559001,\n",
       "              '100kb': 23.039330961086666,\n",
       "              '50kb': 25.929835795453204,\n",
       "              '25kb': 31.620801913410183,\n",
       "              '10kb': 48.20245305540391}})"
      ]
     },
     "execution_count": 14,
     "metadata": {},
     "output_type": "execute_result"
    }
   ],
   "source": [
    "expected_me = defaultdict(dict)\n",
    "for bin_size in binsizes: \n",
    "    for ctype in cancertypes: \n",
    "        h_per_bin = models_me_d[ctype][bin_size]\n",
    "        h_total = sum(h_per_bin.values())\n",
    "        expected_me[ctype][bin_size] = h_total\n",
    "expected_me"
   ]
  },
  {
   "cell_type": "markdown",
   "metadata": {},
   "source": [
    "### Compute % explained by models (methylation unaware) for Fig 5H"
   ]
  },
  {
   "cell_type": "code",
   "execution_count": 15,
   "metadata": {
    "scrolled": true
   },
   "outputs": [
    {
     "data": {
      "text/html": [
       "<div>\n",
       "<style scoped>\n",
       "    .dataframe tbody tr th:only-of-type {\n",
       "        vertical-align: middle;\n",
       "    }\n",
       "\n",
       "    .dataframe tbody tr th {\n",
       "        vertical-align: top;\n",
       "    }\n",
       "\n",
       "    .dataframe thead th {\n",
       "        text-align: right;\n",
       "    }\n",
       "</style>\n",
       "<table border=\"1\" class=\"dataframe\">\n",
       "  <thead>\n",
       "    <tr style=\"text-align: right;\">\n",
       "      <th></th>\n",
       "      <th>CTYPE</th>\n",
       "      <th>H_OBS</th>\n",
       "      <th>MEGA_1000kb</th>\n",
       "      <th>MEGA_1000kb_F</th>\n",
       "      <th>MEGA_1000kb_GAIN</th>\n",
       "      <th>MEGA_500kb</th>\n",
       "      <th>MEGA_500kb_F</th>\n",
       "      <th>MEGA_500kb_GAIN</th>\n",
       "      <th>MEGA_250kb</th>\n",
       "      <th>MEGA_250kb_F</th>\n",
       "      <th>...</th>\n",
       "      <th>MEGA_50kb</th>\n",
       "      <th>MEGA_50kb_F</th>\n",
       "      <th>MEGA_50kb_GAIN</th>\n",
       "      <th>MEGA_25kb</th>\n",
       "      <th>MEGA_25kb_F</th>\n",
       "      <th>MEGA_25kb_GAIN</th>\n",
       "      <th>MEGA_10kb</th>\n",
       "      <th>MEGA_10kb_F</th>\n",
       "      <th>MEGA_10kb_GAIN</th>\n",
       "      <th>MISSING</th>\n",
       "    </tr>\n",
       "  </thead>\n",
       "  <tbody>\n",
       "    <tr>\n",
       "      <th>0</th>\n",
       "      <td>COADREAD</td>\n",
       "      <td>38.0</td>\n",
       "      <td>11.276672</td>\n",
       "      <td>29.675454</td>\n",
       "      <td>29.675454</td>\n",
       "      <td>11.564211</td>\n",
       "      <td>30.432134</td>\n",
       "      <td>0.756680</td>\n",
       "      <td>11.814439</td>\n",
       "      <td>31.090629</td>\n",
       "      <td>...</td>\n",
       "      <td>12.640216</td>\n",
       "      <td>33.263725</td>\n",
       "      <td>1.121859</td>\n",
       "      <td>13.369542</td>\n",
       "      <td>35.183004</td>\n",
       "      <td>1.919279</td>\n",
       "      <td>15.357770</td>\n",
       "      <td>40.415185</td>\n",
       "      <td>5.232181</td>\n",
       "      <td>59.584815</td>\n",
       "    </tr>\n",
       "    <tr>\n",
       "      <th>0</th>\n",
       "      <td>ESOPHA_STOMACH</td>\n",
       "      <td>39.0</td>\n",
       "      <td>10.743814</td>\n",
       "      <td>27.548241</td>\n",
       "      <td>27.548241</td>\n",
       "      <td>10.975480</td>\n",
       "      <td>28.142256</td>\n",
       "      <td>0.594016</td>\n",
       "      <td>11.255593</td>\n",
       "      <td>28.860495</td>\n",
       "      <td>...</td>\n",
       "      <td>12.690580</td>\n",
       "      <td>32.539948</td>\n",
       "      <td>2.120873</td>\n",
       "      <td>14.194244</td>\n",
       "      <td>36.395498</td>\n",
       "      <td>3.855550</td>\n",
       "      <td>18.530260</td>\n",
       "      <td>47.513488</td>\n",
       "      <td>11.117991</td>\n",
       "      <td>52.486512</td>\n",
       "    </tr>\n",
       "    <tr>\n",
       "      <th>0</th>\n",
       "      <td>NSCLC</td>\n",
       "      <td>35.0</td>\n",
       "      <td>10.501034</td>\n",
       "      <td>30.002953</td>\n",
       "      <td>30.002953</td>\n",
       "      <td>10.716349</td>\n",
       "      <td>30.618140</td>\n",
       "      <td>0.615187</td>\n",
       "      <td>11.032521</td>\n",
       "      <td>31.521489</td>\n",
       "      <td>...</td>\n",
       "      <td>13.028690</td>\n",
       "      <td>37.224829</td>\n",
       "      <td>3.434163</td>\n",
       "      <td>15.385939</td>\n",
       "      <td>43.959824</td>\n",
       "      <td>6.734996</td>\n",
       "      <td>22.269554</td>\n",
       "      <td>63.627298</td>\n",
       "      <td>19.667474</td>\n",
       "      <td>36.372702</td>\n",
       "    </tr>\n",
       "  </tbody>\n",
       "</table>\n",
       "<p>3 rows × 24 columns</p>\n",
       "</div>"
      ],
      "text/plain": [
       "            CTYPE  H_OBS  MEGA_1000kb  MEGA_1000kb_F  MEGA_1000kb_GAIN  \\\n",
       "0        COADREAD   38.0    11.276672      29.675454         29.675454   \n",
       "0  ESOPHA_STOMACH   39.0    10.743814      27.548241         27.548241   \n",
       "0           NSCLC   35.0    10.501034      30.002953         30.002953   \n",
       "\n",
       "   MEGA_500kb  MEGA_500kb_F  MEGA_500kb_GAIN  MEGA_250kb  MEGA_250kb_F  ...  \\\n",
       "0   11.564211     30.432134         0.756680   11.814439     31.090629  ...   \n",
       "0   10.975480     28.142256         0.594016   11.255593     28.860495  ...   \n",
       "0   10.716349     30.618140         0.615187   11.032521     31.521489  ...   \n",
       "\n",
       "   MEGA_50kb  MEGA_50kb_F  MEGA_50kb_GAIN  MEGA_25kb  MEGA_25kb_F  \\\n",
       "0  12.640216    33.263725        1.121859  13.369542    35.183004   \n",
       "0  12.690580    32.539948        2.120873  14.194244    36.395498   \n",
       "0  13.028690    37.224829        3.434163  15.385939    43.959824   \n",
       "\n",
       "   MEGA_25kb_GAIN  MEGA_10kb  MEGA_10kb_F  MEGA_10kb_GAIN    MISSING  \n",
       "0        1.919279  15.357770    40.415185        5.232181  59.584815  \n",
       "0        3.855550  18.530260    47.513488       11.117991  52.486512  \n",
       "0        6.734996  22.269554    63.627298       19.667474  36.372702  \n",
       "\n",
       "[3 rows x 24 columns]"
      ]
     },
     "execution_count": 15,
     "metadata": {},
     "output_type": "execute_result"
    }
   ],
   "source": [
    "sig = 'SBS1'\n",
    "lines = []\n",
    "header = ['CTYPE', 'H_OBS']\n",
    "for i, binsize in enumerate(['1000kb', '500kb', '250kb', '100kb', '50kb', '25kb', '10kb']):\n",
    "    header += [f'MEGA_{binsize}', f'MEGA_{binsize}_F', f'MEGA_{binsize}_GAIN']\n",
    "header.append('MISSING')\n",
    "    \n",
    "for ctype in cancertypes: \n",
    "    \n",
    "    subline = [ctype]\n",
    "        \n",
    "    # Observed\n",
    "    observed_sig = observed[ctype][0]\n",
    "    subline.append(observed_sig)\n",
    "    \n",
    "    # 1 Mbp model\n",
    "    exp_mbp_sig = expected[ctype]['1000kb']\n",
    "    f_exp_mbp_sig = 100 * exp_mbp_sig / observed_sig\n",
    "    subline += [exp_mbp_sig, f_exp_mbp_sig, f_exp_mbp_sig]\n",
    "        \n",
    "    # Megabase and submegabase models\n",
    "    pre_model = f_exp_mbp_sig\n",
    "    for i, binsize in enumerate(['500kb', '250kb', '100kb', '50kb', '25kb', '10kb']):\n",
    "               \n",
    "        exp_submega_sig = expected[ctype][binsize]\n",
    "        f_exp_submega_sig = 100 * exp_submega_sig / observed_sig\n",
    "        \n",
    "        # Gain \n",
    "        gain = f_exp_submega_sig - pre_model\n",
    "        gain = 0 if gain < 0 else gain\n",
    "        pre_model = f_exp_submega_sig\n",
    "        \n",
    "        subline += [exp_submega_sig, f_exp_submega_sig, gain]\n",
    "    \n",
    "    # Missing\n",
    "    miss = 100 - f_exp_submega_sig\n",
    "    subline.append(miss)\n",
    "    \n",
    "    lines.append(pd.DataFrame([subline]))\n",
    "    \n",
    "df_expected = pd.concat(lines)\n",
    "df_expected.columns = header\n",
    "df_expected"
   ]
  },
  {
   "cell_type": "markdown",
   "metadata": {},
   "source": [
    "### Compute % explained by methylation-informed models for Fig 5H"
   ]
  },
  {
   "cell_type": "code",
   "execution_count": 16,
   "metadata": {},
   "outputs": [
    {
     "data": {
      "text/html": [
       "<div>\n",
       "<style scoped>\n",
       "    .dataframe tbody tr th:only-of-type {\n",
       "        vertical-align: middle;\n",
       "    }\n",
       "\n",
       "    .dataframe tbody tr th {\n",
       "        vertical-align: top;\n",
       "    }\n",
       "\n",
       "    .dataframe thead th {\n",
       "        text-align: right;\n",
       "    }\n",
       "</style>\n",
       "<table border=\"1\" class=\"dataframe\">\n",
       "  <thead>\n",
       "    <tr style=\"text-align: right;\">\n",
       "      <th></th>\n",
       "      <th>CTYPE</th>\n",
       "      <th>H_OBS</th>\n",
       "      <th>MEGA_1000kb</th>\n",
       "      <th>MEGA_1000kb_F</th>\n",
       "      <th>MEGA_1000kb_GAIN</th>\n",
       "      <th>MEGA_500kb</th>\n",
       "      <th>MEGA_500kb_F</th>\n",
       "      <th>MEGA_500kb_GAIN</th>\n",
       "      <th>MEGA_250kb</th>\n",
       "      <th>MEGA_250kb_F</th>\n",
       "      <th>...</th>\n",
       "      <th>MEGA_50kb</th>\n",
       "      <th>MEGA_50kb_F</th>\n",
       "      <th>MEGA_50kb_GAIN</th>\n",
       "      <th>MEGA_25kb</th>\n",
       "      <th>MEGA_25kb_F</th>\n",
       "      <th>MEGA_25kb_GAIN</th>\n",
       "      <th>MEGA_10kb</th>\n",
       "      <th>MEGA_10kb_F</th>\n",
       "      <th>MEGA_10kb_GAIN</th>\n",
       "      <th>MISSING</th>\n",
       "    </tr>\n",
       "  </thead>\n",
       "  <tbody>\n",
       "    <tr>\n",
       "      <th>0</th>\n",
       "      <td>COADREAD</td>\n",
       "      <td>38.0</td>\n",
       "      <td>22.123810</td>\n",
       "      <td>58.220554</td>\n",
       "      <td>58.220554</td>\n",
       "      <td>22.967484</td>\n",
       "      <td>60.440749</td>\n",
       "      <td>2.220195</td>\n",
       "      <td>23.660947</td>\n",
       "      <td>62.265651</td>\n",
       "      <td>...</td>\n",
       "      <td>25.429157</td>\n",
       "      <td>66.918834</td>\n",
       "      <td>2.328638</td>\n",
       "      <td>26.843236</td>\n",
       "      <td>70.640095</td>\n",
       "      <td>3.721260</td>\n",
       "      <td>30.521962</td>\n",
       "      <td>80.320953</td>\n",
       "      <td>9.680858</td>\n",
       "      <td>19.679047</td>\n",
       "    </tr>\n",
       "    <tr>\n",
       "      <th>0</th>\n",
       "      <td>ESOPHA_STOMACH</td>\n",
       "      <td>39.0</td>\n",
       "      <td>19.862152</td>\n",
       "      <td>50.928595</td>\n",
       "      <td>50.928595</td>\n",
       "      <td>20.506399</td>\n",
       "      <td>52.580509</td>\n",
       "      <td>1.651914</td>\n",
       "      <td>21.155714</td>\n",
       "      <td>54.245419</td>\n",
       "      <td>...</td>\n",
       "      <td>23.943986</td>\n",
       "      <td>61.394836</td>\n",
       "      <td>4.086160</td>\n",
       "      <td>26.933785</td>\n",
       "      <td>69.060988</td>\n",
       "      <td>7.666152</td>\n",
       "      <td>35.641279</td>\n",
       "      <td>91.387896</td>\n",
       "      <td>22.326907</td>\n",
       "      <td>8.612104</td>\n",
       "    </tr>\n",
       "    <tr>\n",
       "      <th>0</th>\n",
       "      <td>NSCLC</td>\n",
       "      <td>35.0</td>\n",
       "      <td>19.466354</td>\n",
       "      <td>55.618154</td>\n",
       "      <td>55.618154</td>\n",
       "      <td>20.185930</td>\n",
       "      <td>57.674086</td>\n",
       "      <td>2.055932</td>\n",
       "      <td>21.067184</td>\n",
       "      <td>60.191955</td>\n",
       "      <td>...</td>\n",
       "      <td>25.929836</td>\n",
       "      <td>74.085245</td>\n",
       "      <td>8.258585</td>\n",
       "      <td>31.620802</td>\n",
       "      <td>90.345148</td>\n",
       "      <td>16.259903</td>\n",
       "      <td>48.202453</td>\n",
       "      <td>137.721294</td>\n",
       "      <td>47.376146</td>\n",
       "      <td>0.000000</td>\n",
       "    </tr>\n",
       "  </tbody>\n",
       "</table>\n",
       "<p>3 rows × 24 columns</p>\n",
       "</div>"
      ],
      "text/plain": [
       "            CTYPE  H_OBS  MEGA_1000kb  MEGA_1000kb_F  MEGA_1000kb_GAIN  \\\n",
       "0        COADREAD   38.0    22.123810      58.220554         58.220554   \n",
       "0  ESOPHA_STOMACH   39.0    19.862152      50.928595         50.928595   \n",
       "0           NSCLC   35.0    19.466354      55.618154         55.618154   \n",
       "\n",
       "   MEGA_500kb  MEGA_500kb_F  MEGA_500kb_GAIN  MEGA_250kb  MEGA_250kb_F  ...  \\\n",
       "0   22.967484     60.440749         2.220195   23.660947     62.265651  ...   \n",
       "0   20.506399     52.580509         1.651914   21.155714     54.245419  ...   \n",
       "0   20.185930     57.674086         2.055932   21.067184     60.191955  ...   \n",
       "\n",
       "   MEGA_50kb  MEGA_50kb_F  MEGA_50kb_GAIN  MEGA_25kb  MEGA_25kb_F  \\\n",
       "0  25.429157    66.918834        2.328638  26.843236    70.640095   \n",
       "0  23.943986    61.394836        4.086160  26.933785    69.060988   \n",
       "0  25.929836    74.085245        8.258585  31.620802    90.345148   \n",
       "\n",
       "   MEGA_25kb_GAIN  MEGA_10kb  MEGA_10kb_F  MEGA_10kb_GAIN    MISSING  \n",
       "0        3.721260  30.521962    80.320953        9.680858  19.679047  \n",
       "0        7.666152  35.641279    91.387896       22.326907   8.612104  \n",
       "0       16.259903  48.202453   137.721294       47.376146   0.000000  \n",
       "\n",
       "[3 rows x 24 columns]"
      ]
     },
     "execution_count": 16,
     "metadata": {},
     "output_type": "execute_result"
    }
   ],
   "source": [
    "sig = 'SBS1'\n",
    "lines = []\n",
    "header = ['CTYPE', 'H_OBS']\n",
    "for i, binsize in enumerate(['1000kb', '500kb', '250kb', '100kb', '50kb', '25kb', '10kb']):\n",
    "    header += [f'MEGA_{binsize}', f'MEGA_{binsize}_F', f'MEGA_{binsize}_GAIN']\n",
    "header.append('MISSING')\n",
    "    \n",
    "for ctype in cancertypes: \n",
    "    \n",
    "    subline = [ctype]\n",
    "        \n",
    "    # Observed\n",
    "    observed_sig = observed[ctype][0]\n",
    "    subline.append(observed_sig)\n",
    "    \n",
    "    # 1 Mbp model\n",
    "    exp_mbp_sig = expected_me[ctype]['1000kb']\n",
    "    f_exp_mbp_sig = 100 * exp_mbp_sig / observed_sig\n",
    "    subline += [exp_mbp_sig, f_exp_mbp_sig, f_exp_mbp_sig]\n",
    "        \n",
    "    # Megabase and submegabase models\n",
    "    pre_model = f_exp_mbp_sig\n",
    "    for i, binsize in enumerate(['500kb', '250kb', '100kb', '50kb', '25kb', '10kb']):\n",
    "               \n",
    "        exp_submega_sig = expected_me[ctype][binsize]\n",
    "        f_exp_submega_sig = 100 * exp_submega_sig / observed_sig\n",
    "        \n",
    "        # Gain \n",
    "        gain = f_exp_submega_sig - pre_model\n",
    "        gain = 0 if gain < 0 else gain\n",
    "        pre_model = f_exp_submega_sig\n",
    "        \n",
    "        subline += [exp_submega_sig, f_exp_submega_sig, gain]\n",
    "    \n",
    "    # Missing\n",
    "    miss = 100 - f_exp_submega_sig \n",
    "    miss = 0 if miss < 0 else miss\n",
    "    subline.append(miss)\n",
    "    \n",
    "    lines.append(pd.DataFrame([subline]))\n",
    "    \n",
    "df_expected_me = pd.concat(lines)\n",
    "df_expected_me.columns = header\n",
    "df_expected_me"
   ]
  },
  {
   "cell_type": "markdown",
   "metadata": {},
   "source": [
    "## Panel 5G"
   ]
  },
  {
   "cell_type": "code",
   "execution_count": 17,
   "metadata": {},
   "outputs": [
    {
     "data": {
      "image/png": "[encoded data removed]",
      "text/plain": [
       "<Figure size 72x108 with 1 Axes>"
      ]
     },
     "metadata": {
      "needs_background": "light"
     },
     "output_type": "display_data"
    },
    {
     "data": {
      "image/png": "[encoded data removed]",
      "text/plain": [
       "<Figure size 72x108 with 1 Axes>"
      ]
     },
     "metadata": {
      "needs_background": "light"
     },
     "output_type": "display_data"
    },
    {
     "data": {
      "image/png": "[encoded data removed]",
      "text/plain": [
       "<Figure size 72x108 with 1 Axes>"
      ]
     },
     "metadata": {
      "needs_background": "light"
     },
     "output_type": "display_data"
    }
   ],
   "source": [
    "for ctype in cancertypes: \n",
    "    \n",
    "    fig = plt.figure(figsize=(1.0, 1.5))\n",
    "    ax = plt.subplot2grid((1, 1), (0, 0))\n",
    "    ax.set_ylabel('# hotspots', fontsize=6)\n",
    "    plt.title(f'SBS1 {ctype}', fontsize=6)\n",
    "\n",
    "    sep = 0\n",
    "    # Expected\n",
    "    for i, binsize in enumerate(binsizes, 0):\n",
    "        exp = expected[ctype][binsize]\n",
    "        ax.scatter(i+sep, exp, color='white', marker='o', s=6, lw=0.75, edgecolor=model_color[f'exp_{binsize}'])\n",
    "        exp = expected_me[ctype][binsize]\n",
    "        ax.scatter(i+sep, exp, color='white', marker='o', s=6, lw=0.75, edgecolor=model_color[f'exp_me_{binsize}'])\n",
    "\n",
    "    # Observed\n",
    "    i += 1\n",
    "    obs, o_error_min, o_error_max = observed[ctype]\n",
    "    y_dispersion = list(np.random.normal(i-sep, (i-sep - 1)/50, size=1000))\n",
    "    ax.scatter(y_dispersion, observed_samples[ctype], color='#1e79baff', alpha=0.25, marker='o', s=4, lw='0', zorder=1)\n",
    "    ax.scatter(i-sep, obs, color='black', alpha=1, marker='_', s=50, lw=0.5, zorder=3)\n",
    "\n",
    "    ax.set_xlim(-0.5, 8)\n",
    "    ax.set_ylim(0, 70)\n",
    "    ax.set_yticks([0, 10, 20, 30, 40, 50, 60, 70])\n",
    "    ax.set_yticklabels([0, 10, 20, 30, 40, 50, 60, 70], fontsize=5)\n",
    "    ax.tick_params(axis='y', which='both', pad=1)\n",
    "    ax.tick_params(axis='x', which='both', pad=1)\n",
    "    ax.set_xticks(list(range(len(binsizes) + 1)))\n",
    "    ax.set_xticklabels(binsizes + ['Observed'], rotation=90, ha='center', va='top', fontsize=6)\n",
    "    ax.spines['left'].set(lw=0.5)\n",
    "    ax.spines['bottom'].set(lw=0.5)\n",
    "    ax.spines['right'].set_visible(False)\n",
    "    ax.spines['top'].set_visible(False)\n",
    "    ax.xaxis.set_tick_params(width=0.5)\n",
    "    ax.yaxis.set_tick_params(width=0.5)\n",
    "    \n",
    "    for extension in ['png']: \n",
    "        output = f'./fig_5G_{ctype}.{extension}'\n",
    "        plt.savefig(output, bbox_inches='tight', dpi=350)"
   ]
  },
  {
   "cell_type": "markdown",
   "metadata": {},
   "source": [
    "## Panel 5F"
   ]
  },
  {
   "cell_type": "code",
   "execution_count": 18,
   "metadata": {},
   "outputs": [
    {
     "data": {
      "image/png": "[encoded data removed]",
      "text/plain": [
       "<Figure size 61.2x61.2 with 1 Axes>"
      ]
     },
     "metadata": {
      "needs_background": "light"
     },
     "output_type": "display_data"
    },
    {
     "data": {
      "image/png": "[encoded data removed]",
      "text/plain": [
       "<Figure size 61.2x61.2 with 1 Axes>"
      ]
     },
     "metadata": {
      "needs_background": "light"
     },
     "output_type": "display_data"
    },
    {
     "data": {
      "image/png": "[encoded data removed]",
      "text/plain": [
       "<Figure size 61.2x61.2 with 1 Axes>"
      ]
     },
     "metadata": {
      "needs_background": "light"
     },
     "output_type": "display_data"
    }
   ],
   "source": [
    "for ctype in cancertypes: \n",
    "    \n",
    "    fig = plt.figure(figsize=(0.85, 0.85))\n",
    "    ax = plt.subplot2grid((1, 1), (0, 0))\n",
    "    ax.set_ylabel('% explained hotspots', fontsize=6)\n",
    "\n",
    "    y_data = defaultdict(list)\n",
    "    # Fraction explained per binsize\n",
    "    for i, binsize in enumerate(binsizes):\n",
    "        exp_nometh = df_expected.loc[df_expected['CTYPE'] == ctype][f'MEGA_{binsize}_F'].iloc[0]\n",
    "        exp_meth = df_expected_me.loc[df_expected_me['CTYPE'] == ctype][f'MEGA_{binsize}_F'].iloc[0]\n",
    "        y_data['explained'] += [exp_nometh]\n",
    "        y_data['explained_me'] += [exp_meth - exp_nometh]\n",
    "        missing = 100 - exp_meth\n",
    "        missing = 0 if missing < 0 else missing\n",
    "        y_data['missing'] += [missing]\n",
    "        exp_meth = 100.0 if exp_meth > 100 else exp_meth\n",
    "        ax.annotate(s=f'{round(exp_meth, 1)}', xy=(i, exp_meth+0.5), xytext=(i, exp_meth+0.5),fontsize=3, color='black', ha='center')\n",
    "\n",
    "    bottom = None\n",
    "    for model in ['explained', 'explained_me', 'missing']: \n",
    "        ax.bar(range(7), y_data[model], width=0.8, bottom=bottom, color=colors_d[model], align='center', alpha=1, lw=0)\n",
    "        if not bottom: \n",
    "            bottom = y_data[model]\n",
    "        else: \n",
    "            bottom = [bottom[i] + y_data[model][i] for i in range(len(bottom))] \n",
    "\n",
    "    ax.set_xlim(-0.75, 6.75)\n",
    "    ax.set_ylim(0, 100)\n",
    "    ax.set_yticks([0, 50, 100])\n",
    "    ax.set_yticklabels([0, 50, 100], fontsize=5)\n",
    "    ax.tick_params(axis='y', which='both', pad=1)\n",
    "    ax.tick_params(axis='x', which='both', pad=1)\n",
    "    ax.set_xticks(list(range(len(binsizes))))\n",
    "    ax.set_xticklabels(binsizes, rotation=90, ha='center', fontsize=6)\n",
    "    ax.spines['left'].set(lw=0.5)\n",
    "    ax.spines['bottom'].set(lw=0.5)\n",
    "    ax.spines['right'].set_visible(False)\n",
    "    ax.spines['top'].set_visible(False)\n",
    "    ax.xaxis.set_tick_params(width=0.5)\n",
    "    ax.yaxis.set_tick_params(width=0.5)\n",
    "\n",
    "    for extension in ['png']: \n",
    "        output = f'./fig_5H_{ctype}.{extension}'\n",
    "        plt.savefig(output, bbox_inches='tight', dpi=350)"
   ]
  },
  {
   "cell_type": "code",
   "execution_count": null,
   "metadata": {
    "collapsed": true
   },
   "outputs": [],
   "source": []
  }
 ],
 "metadata": {
  "kernelspec": {
   "display_name": "Python [conda env:hotspot_propensity]",
   "language": "python",
   "name": "conda-env-hotspot_propensity-py"
  },
  "language_info": {
   "codemirror_mode": {
    "name": "ipython",
    "version": 3
   },
   "file_extension": ".py",
   "mimetype": "text/x-python",
   "name": "python",
   "nbconvert_exporter": "python",
   "pygments_lexer": "ipython3",
   "version": "3.6.13"
  }
 },
 "nbformat": 4,
 "nbformat_minor": 2
}
