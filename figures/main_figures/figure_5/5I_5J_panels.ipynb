{
 "cells": [
  {
   "cell_type": "markdown",
   "metadata": {},
   "source": [
    "# Colonic crypts analysis in Fig 5I-5J"
   ]
  },
  {
   "cell_type": "code",
   "execution_count": 27,
   "metadata": {
    "collapsed": true
   },
   "outputs": [],
   "source": [
    "from collections import Counter\n",
    "\n",
    "import matplotlib\n",
    "import matplotlib.pyplot as plt\n",
    "from matplotlib import rcParams\n",
    "import numpy as np\n",
    "np.random.seed(426749)\n",
    "import pandas as pd"
   ]
  },
  {
   "cell_type": "code",
   "execution_count": 28,
   "metadata": {
    "collapsed": true
   },
   "outputs": [],
   "source": [
    "def filter_sig_muts(df, signature): \n",
    "    \"\"\"Filter a dataframe for mutations within a signature and maximum likelihood > 0.5\"\"\"\n",
    "    \n",
    "    df = df.loc[df['SIGNATURE'] == signature].copy()\n",
    "    df = df.loc[df['MAX_PROB'] > 0.5].copy()\n",
    "    return df"
   ]
  },
  {
   "cell_type": "code",
   "execution_count": 29,
   "metadata": {
    "collapsed": true
   },
   "outputs": [],
   "source": [
    "def compute_hotspot_propensity(df, total_iterations, sample_size, mutations_size):\n",
    "    \"\"\"Carry out the subsampling to compute hotspot propensity\"\"\"\n",
    "    \n",
    "    hotspots_per_iteration = []\n",
    "\n",
    "    # Filter samples for subsampling\n",
    "    muts_per_sample = dict(df['SAMPLE'].value_counts())\n",
    "    muts_per_sample_filter = dict([(k, v) for k, v in muts_per_sample.items() if v > mutations_size])\n",
    "    filtered_samples = list(muts_per_sample_filter.keys())\n",
    "\n",
    "    # Subsampling\n",
    "    for iteration in range(0, total_iterations):\n",
    "        # Select a number of samples randomly without replacement (a sample cannot be selected twice in the subsample)\n",
    "        subsample = np.random.choice(filtered_samples, size=sample_size, replace=False)\n",
    "\n",
    "        # Randomize mutations\n",
    "        iter_mutations_df = []\n",
    "        for sample in subsample:\n",
    "            sample_df = df.loc[df['SAMPLE'] == sample].copy()\n",
    "            # Select a number of mutations randomly without replacement (a mutation cannot be selected twice)\n",
    "            sample_muts_df = sample_df.sample(n=mutations_size, replace=False).copy()\n",
    "            iter_mutations_df.append(sample_muts_df)\n",
    "        # Merge\n",
    "        iter_mutations_df = pd.concat(iter_mutations_df)\n",
    "        # Identify hotspots (two or more mutations in the same position)\n",
    "        randomised_mutations = iter_mutations_df['MUTATION_ID'].tolist()\n",
    "        hotspots = [h for h, nmuts in Counter(randomised_mutations).items() if nmuts >= 2]\n",
    "        hotspots_position = set(['_'.join(i.split('_')[:2]) for i in hotspots])\n",
    "        hotspots_per_iteration += [len(hotspots_position)]\n",
    "\n",
    "        if len(hotspots) != len(hotspots_position): \n",
    "            print(len(hotspots), len(hotspots_position))\n",
    "\n",
    "    return hotspots_per_iteration"
   ]
  },
  {
   "cell_type": "code",
   "execution_count": 30,
   "metadata": {
    "collapsed": true
   },
   "outputs": [],
   "source": [
    "rcParams['font.family'] = 'sans-serif'\n",
    "rcParams['font.sans-serif'] = ['Arial']"
   ]
  },
  {
   "cell_type": "code",
   "execution_count": 31,
   "metadata": {
    "collapsed": true
   },
   "outputs": [],
   "source": [
    "data_dir = './data'"
   ]
  },
  {
   "cell_type": "code",
   "execution_count": 32,
   "metadata": {
    "collapsed": true
   },
   "outputs": [],
   "source": [
    "sigs_color = {\n",
    "'SBS1': '#1e79baff',\n",
    " 'SBS5': '#7ebdeaff',\n",
    " 'SBS18': '#9467bdff'\n",
    "}"
   ]
  },
  {
   "cell_type": "markdown",
   "metadata": {},
   "source": [
    "### Load data\n",
    "\n",
    "- Filtered somatic mutations from human and mouse colonic crypts. Each mutation has been assigned to the signature with maximum likelihood. "
   ]
  },
  {
   "cell_type": "code",
   "execution_count": 33,
   "metadata": {},
   "outputs": [
    {
     "data": {
      "text/html": [
       "<div>\n",
       "<style scoped>\n",
       "    .dataframe tbody tr th:only-of-type {\n",
       "        vertical-align: middle;\n",
       "    }\n",
       "\n",
       "    .dataframe tbody tr th {\n",
       "        vertical-align: top;\n",
       "    }\n",
       "\n",
       "    .dataframe thead th {\n",
       "        text-align: right;\n",
       "    }\n",
       "</style>\n",
       "<table border=\"1\" class=\"dataframe\">\n",
       "  <thead>\n",
       "    <tr style=\"text-align: right;\">\n",
       "      <th></th>\n",
       "      <th>SAMPLE</th>\n",
       "      <th>CHROMOSOME</th>\n",
       "      <th>POSITION</th>\n",
       "      <th>REF</th>\n",
       "      <th>ALT</th>\n",
       "      <th>MUT_ID</th>\n",
       "      <th>CONTEXT</th>\n",
       "      <th>MAX_PROB</th>\n",
       "      <th>SIGNATURE</th>\n",
       "    </tr>\n",
       "  </thead>\n",
       "  <tbody>\n",
       "    <tr>\n",
       "      <th>0</th>\n",
       "      <td>PD37590b_lo0090</td>\n",
       "      <td>1</td>\n",
       "      <td>4225440</td>\n",
       "      <td>G</td>\n",
       "      <td>A</td>\n",
       "      <td>1_4225440_G&gt;A</td>\n",
       "      <td>GCG&gt;T</td>\n",
       "      <td>0.919623</td>\n",
       "      <td>SBS1</td>\n",
       "    </tr>\n",
       "    <tr>\n",
       "      <th>1</th>\n",
       "      <td>PD37590b_lo0090</td>\n",
       "      <td>1</td>\n",
       "      <td>4513550</td>\n",
       "      <td>C</td>\n",
       "      <td>T</td>\n",
       "      <td>1_4513550_C&gt;T</td>\n",
       "      <td>GCG&gt;T</td>\n",
       "      <td>0.919623</td>\n",
       "      <td>SBS1</td>\n",
       "    </tr>\n",
       "    <tr>\n",
       "      <th>2</th>\n",
       "      <td>PD37590b_lo0090</td>\n",
       "      <td>1</td>\n",
       "      <td>4645441</td>\n",
       "      <td>A</td>\n",
       "      <td>G</td>\n",
       "      <td>1_4645441_A&gt;G</td>\n",
       "      <td>CTC&gt;C</td>\n",
       "      <td>0.795279</td>\n",
       "      <td>SBS5</td>\n",
       "    </tr>\n",
       "    <tr>\n",
       "      <th>3</th>\n",
       "      <td>PD37590b_lo0090</td>\n",
       "      <td>1</td>\n",
       "      <td>4749046</td>\n",
       "      <td>G</td>\n",
       "      <td>A</td>\n",
       "      <td>1_4749046_G&gt;A</td>\n",
       "      <td>CCG&gt;T</td>\n",
       "      <td>0.883381</td>\n",
       "      <td>SBS1</td>\n",
       "    </tr>\n",
       "    <tr>\n",
       "      <th>4</th>\n",
       "      <td>PD37590b_lo0090</td>\n",
       "      <td>1</td>\n",
       "      <td>4760740</td>\n",
       "      <td>G</td>\n",
       "      <td>A</td>\n",
       "      <td>1_4760740_G&gt;A</td>\n",
       "      <td>ACG&gt;T</td>\n",
       "      <td>0.970862</td>\n",
       "      <td>SBS1</td>\n",
       "    </tr>\n",
       "  </tbody>\n",
       "</table>\n",
       "</div>"
      ],
      "text/plain": [
       "            SAMPLE  CHROMOSOME  POSITION REF ALT         MUT_ID CONTEXT  \\\n",
       "0  PD37590b_lo0090           1   4225440   G   A  1_4225440_G>A   GCG>T   \n",
       "1  PD37590b_lo0090           1   4513550   C   T  1_4513550_C>T   GCG>T   \n",
       "2  PD37590b_lo0090           1   4645441   A   G  1_4645441_A>G   CTC>C   \n",
       "3  PD37590b_lo0090           1   4749046   G   A  1_4749046_G>A   CCG>T   \n",
       "4  PD37590b_lo0090           1   4760740   G   A  1_4760740_G>A   ACG>T   \n",
       "\n",
       "   MAX_PROB SIGNATURE  \n",
       "0  0.919623      SBS1  \n",
       "1  0.919623      SBS1  \n",
       "2  0.795279      SBS5  \n",
       "3  0.883381      SBS1  \n",
       "4  0.970862      SBS1  "
      ]
     },
     "execution_count": 33,
     "metadata": {},
     "output_type": "execute_result"
    }
   ],
   "source": [
    "# Human mutations\n",
    "human_f = f'{data_dir}/hg38_variants_parsed.parsed.mappable.max_likelihood.tsv'\n",
    "human_df = pd.read_csv(human_f, sep='\\t', header=0, low_memory=False)\n",
    "human_df.head()"
   ]
  },
  {
   "cell_type": "code",
   "execution_count": 34,
   "metadata": {},
   "outputs": [
    {
     "data": {
      "text/html": [
       "<div>\n",
       "<style scoped>\n",
       "    .dataframe tbody tr th:only-of-type {\n",
       "        vertical-align: middle;\n",
       "    }\n",
       "\n",
       "    .dataframe tbody tr th {\n",
       "        vertical-align: top;\n",
       "    }\n",
       "\n",
       "    .dataframe thead th {\n",
       "        text-align: right;\n",
       "    }\n",
       "</style>\n",
       "<table border=\"1\" class=\"dataframe\">\n",
       "  <thead>\n",
       "    <tr style=\"text-align: right;\">\n",
       "      <th></th>\n",
       "      <th>SAMPLE</th>\n",
       "      <th>CHROMOSOME</th>\n",
       "      <th>POSITION</th>\n",
       "      <th>REF</th>\n",
       "      <th>ALT</th>\n",
       "      <th>MUT_ID</th>\n",
       "      <th>CONTEXT</th>\n",
       "      <th>MAX_PROB</th>\n",
       "      <th>SIGNATURE</th>\n",
       "    </tr>\n",
       "  </thead>\n",
       "  <tbody>\n",
       "    <tr>\n",
       "      <th>0</th>\n",
       "      <td>MD6257ab_lo0009</td>\n",
       "      <td>1</td>\n",
       "      <td>9230981</td>\n",
       "      <td>C</td>\n",
       "      <td>T</td>\n",
       "      <td>1_9230981_C&gt;T</td>\n",
       "      <td>CCG&gt;T</td>\n",
       "      <td>0.678327</td>\n",
       "      <td>SBS1</td>\n",
       "    </tr>\n",
       "    <tr>\n",
       "      <th>1</th>\n",
       "      <td>MD6257ab_lo0009</td>\n",
       "      <td>1</td>\n",
       "      <td>17926764</td>\n",
       "      <td>C</td>\n",
       "      <td>A</td>\n",
       "      <td>1_17926764_C&gt;A</td>\n",
       "      <td>CCA&gt;A</td>\n",
       "      <td>0.895889</td>\n",
       "      <td>SBS18</td>\n",
       "    </tr>\n",
       "    <tr>\n",
       "      <th>2</th>\n",
       "      <td>MD6257ab_lo0009</td>\n",
       "      <td>1</td>\n",
       "      <td>19050164</td>\n",
       "      <td>A</td>\n",
       "      <td>C</td>\n",
       "      <td>1_19050164_A&gt;C</td>\n",
       "      <td>CTT&gt;G</td>\n",
       "      <td>0.664340</td>\n",
       "      <td>SBS5</td>\n",
       "    </tr>\n",
       "    <tr>\n",
       "      <th>3</th>\n",
       "      <td>MD6257ab_lo0009</td>\n",
       "      <td>1</td>\n",
       "      <td>24486744</td>\n",
       "      <td>G</td>\n",
       "      <td>T</td>\n",
       "      <td>1_24486744_G&gt;T</td>\n",
       "      <td>ACA&gt;A</td>\n",
       "      <td>0.785780</td>\n",
       "      <td>SBS18</td>\n",
       "    </tr>\n",
       "    <tr>\n",
       "      <th>4</th>\n",
       "      <td>MD6257ab_lo0009</td>\n",
       "      <td>1</td>\n",
       "      <td>26867234</td>\n",
       "      <td>C</td>\n",
       "      <td>A</td>\n",
       "      <td>1_26867234_C&gt;A</td>\n",
       "      <td>CCT&gt;A</td>\n",
       "      <td>0.830592</td>\n",
       "      <td>SBS18</td>\n",
       "    </tr>\n",
       "  </tbody>\n",
       "</table>\n",
       "</div>"
      ],
      "text/plain": [
       "            SAMPLE  CHROMOSOME  POSITION REF ALT          MUT_ID CONTEXT  \\\n",
       "0  MD6257ab_lo0009           1   9230981   C   T   1_9230981_C>T   CCG>T   \n",
       "1  MD6257ab_lo0009           1  17926764   C   A  1_17926764_C>A   CCA>A   \n",
       "2  MD6257ab_lo0009           1  19050164   A   C  1_19050164_A>C   CTT>G   \n",
       "3  MD6257ab_lo0009           1  24486744   G   T  1_24486744_G>T   ACA>A   \n",
       "4  MD6257ab_lo0009           1  26867234   C   A  1_26867234_C>A   CCT>A   \n",
       "\n",
       "   MAX_PROB SIGNATURE  \n",
       "0  0.678327      SBS1  \n",
       "1  0.895889     SBS18  \n",
       "2  0.664340      SBS5  \n",
       "3  0.785780     SBS18  \n",
       "4  0.830592     SBS18  "
      ]
     },
     "execution_count": 34,
     "metadata": {},
     "output_type": "execute_result"
    }
   ],
   "source": [
    "# Mouse mutations\n",
    "mouse_f = f'{data_dir}/mm10_variants_parsed.parsed.mappable.max_likelihood.tsv'\n",
    "mouse_df = pd.read_csv(mouse_f, sep='\\t', header=0, low_memory=False)\n",
    "mouse_df.head()"
   ]
  },
  {
   "cell_type": "markdown",
   "metadata": {},
   "source": [
    "### Prepare data for subsampling"
   ]
  },
  {
   "cell_type": "code",
   "execution_count": 35,
   "metadata": {
    "collapsed": true
   },
   "outputs": [],
   "source": [
    "# Use ref and alt from hg38 (info in context column) and C/T ref trinucleotides\n",
    "# MUT_ID column is based on the original data (hg19)\n",
    "human_df['REF'] = [i[1] for i in human_df['CONTEXT'].tolist()]\n",
    "human_df['ALT'] = [i[-1] for i in human_df['CONTEXT'].tolist()]\n",
    "human_df['MUTATION_ID'] = human_df.apply(\n",
    "    lambda x: str(x['CHROMOSOME']) + '_' + str(x['POSITION']) + '_' + str(x['REF']) + '>' + str(x['ALT']), axis=1)"
   ]
  },
  {
   "cell_type": "code",
   "execution_count": 36,
   "metadata": {},
   "outputs": [
    {
     "name": "stdout",
     "output_type": "stream",
     "text": [
      "SBS1 14027\n",
      "SBS5 20266\n"
     ]
    }
   ],
   "source": [
    "# Filter mutations with max likelihood > 0.5 in a signature\n",
    "# Save data in a dictionary\n",
    "human_data = dict()\n",
    "human_data['SBS1'] = filter_sig_muts(df=human_df, signature='SBS1')\n",
    "human_data['SBS5'] = filter_sig_muts(df=human_df, signature='SBS5')\n",
    "for sig, df in human_data.items(): \n",
    "    print(sig, len(df))"
   ]
  },
  {
   "cell_type": "code",
   "execution_count": 37,
   "metadata": {},
   "outputs": [
    {
     "name": "stdout",
     "output_type": "stream",
     "text": [
      "SBS1\n",
      "Available samples with 250 mutations for subsampling: 22\n",
      "SBS5\n",
      "Available samples with 250 mutations for subsampling: 22\n"
     ]
    }
   ],
   "source": [
    "# Analyse sample size for subsampling\n",
    "cutoff_mutations_per_sample = 250\n",
    "for signature, df in human_data.items(): \n",
    "    print(signature)\n",
    "    muts_per_sample = dict(df['SAMPLE'].value_counts())\n",
    "    muts_per_sample_filter = dict([(k, v) for k, v in muts_per_sample.items() if v > cutoff_mutations_per_sample])\n",
    "    filtered_samples = list(muts_per_sample_filter.keys())\n",
    "    print(f'Available samples with {cutoff_mutations_per_sample} mutations for subsampling:', len(filtered_samples))"
   ]
  },
  {
   "cell_type": "code",
   "execution_count": 41,
   "metadata": {
    "collapsed": true
   },
   "outputs": [],
   "source": [
    "# Use C/T ref-based trinucleotide changes (CONTEXT column)\n",
    "mouse_df['REF'] = [i[1] for i in mouse_df['CONTEXT'].tolist()]\n",
    "mouse_df['ALT'] = [i[-1] for i in mouse_df['CONTEXT'].tolist()]\n",
    "mouse_df['MUTATION_ID'] = mouse_df.apply(\n",
    "    lambda x: str(x['CHROMOSOME']) + '_' + str(x['POSITION']) + '_' + str(x['REF']) + '>' + str(x['ALT']), axis=1)"
   ]
  },
  {
   "cell_type": "code",
   "execution_count": 42,
   "metadata": {},
   "outputs": [
    {
     "name": "stdout",
     "output_type": "stream",
     "text": [
      "SBS1 5691\n",
      "SBS5 16824\n",
      "SBS18 14748\n"
     ]
    }
   ],
   "source": [
    "# Filter mutations with max likelihood > 0.5 in a signature\n",
    "# Save data in a dictionary\n",
    "mouse_data = dict()\n",
    "mouse_data['SBS1'] = filter_sig_muts(df=mouse_df, signature='SBS1')\n",
    "mouse_data['SBS5'] = filter_sig_muts(df=mouse_df, signature='SBS5')\n",
    "mouse_data['SBS18'] = filter_sig_muts(df=mouse_df, signature='SBS18')\n",
    "for sig, df in mouse_data.items(): \n",
    "    print(sig, len(df))"
   ]
  },
  {
   "cell_type": "code",
   "execution_count": 43,
   "metadata": {},
   "outputs": [
    {
     "name": "stdout",
     "output_type": "stream",
     "text": [
      "SBS1\n",
      "Available samples with 100 mutations for subsampling: 27\n",
      "SBS5\n",
      "Available samples with 100 mutations for subsampling: 43\n",
      "SBS18\n",
      "Available samples with 100 mutations for subsampling: 41\n"
     ]
    }
   ],
   "source": [
    "# Analyse sample size for subsampling\n",
    "cutoff_mutations_per_sample = 100\n",
    "for signature, df in mouse_data.items(): \n",
    "    print(signature)\n",
    "    muts_per_sample = dict(df['SAMPLE'].value_counts())\n",
    "    muts_per_sample_filter = dict([(k, v) for k, v in muts_per_sample.items() if v > cutoff_mutations_per_sample])\n",
    "    filtered_samples = list(muts_per_sample_filter.keys())\n",
    "    print(f'Available samples with {cutoff_mutations_per_sample} mutations for subsampling:', len(filtered_samples))"
   ]
  },
  {
   "cell_type": "markdown",
   "metadata": {},
   "source": [
    "## Panel 5I (human)"
   ]
  },
  {
   "cell_type": "code",
   "execution_count": 38,
   "metadata": {
    "collapsed": true
   },
   "outputs": [],
   "source": [
    "# Subsampling parameters\n",
    "total_iterations = 1000\n",
    "sample_size = 20\n",
    "mutations_size = 250"
   ]
  },
  {
   "cell_type": "code",
   "execution_count": 39,
   "metadata": {
    "scrolled": true
   },
   "outputs": [
    {
     "name": "stdout",
     "output_type": "stream",
     "text": [
      "Computing SBS1\n",
      "SBS1 18.0\n",
      "Computing SBS5\n",
      "SBS5 13.0\n"
     ]
    }
   ],
   "source": [
    "human_hotspots = dict()\n",
    "for signature, df in human_data.items():\n",
    "    print('Computing', signature)\n",
    "    human_hotspots[signature] = compute_hotspot_propensity(df, total_iterations, sample_size, mutations_size)\n",
    "    print(signature, np.median(human_hotspots[signature]))"
   ]
  },
  {
   "cell_type": "code",
   "execution_count": 40,
   "metadata": {},
   "outputs": [
    {
     "data": {
      "image/png": "[encoded data removed]",
      "text/plain": [
       "<Figure size 46.8x108 with 1 Axes>"
      ]
     },
     "metadata": {
      "needs_background": "light"
     },
     "output_type": "display_data"
    }
   ],
   "source": [
    "fig = plt.figure(figsize=(0.65, 1.5))\n",
    "ax = plt.subplot2grid((1, 1), (0, 0))\n",
    "ax.set_ylabel('# hotspots', fontsize=6)\n",
    "plt.title(f\"Human colonic crypts\\n5000 mutations\", fontsize=6)\n",
    "\n",
    "labels = ['SBS1', 'SBS5']\n",
    "bar_data = [np.median(human_hotspots[s]) for s in labels]\n",
    "colors = [sigs_color[s] for s in labels]\n",
    "\n",
    "bar = ax.bar(list(range(len(labels))), bar_data, width=0.80, align='center', color=colors, alpha=1, zorder=1)\n",
    "for i, s in enumerate(labels): \n",
    "    ax.vlines(i, ymin=np.percentile(human_hotspots[s], 25), ymax=np.percentile(human_hotspots[s], 75), color='black', linestyle='-', lw=0.5, zorder=2)\n",
    "    ax.scatter(i, np.median(human_hotspots[s]), color='black', marker='o', s=4, lw=0.5, edgecolor=None, zorder=2)\n",
    "\n",
    "ax.set_xlim(-0.5, len(labels)-0.5)\n",
    "ax.set_xticks(list(range(len(labels))))\n",
    "ax.set_xticklabels(labels, fontsize=6, rotation=45, ha='center', va='top')\n",
    "yticks = [0, 5, 10, 15, 20, 25]\n",
    "ax.set_yticks(yticks)\n",
    "ax.set_yticklabels(yticks, fontsize=5)\n",
    "ax.tick_params(axis='y', which='major', pad=1)\n",
    "ax.tick_params(axis='x', which='major', pad=2)\n",
    "\n",
    "ax.spines['left'].set(lw=0.5)\n",
    "ax.spines['bottom'].set(lw=0.5)\n",
    "ax.spines['right'].set_visible(False)\n",
    "ax.spines['top'].set_visible(False)\n",
    "ax.xaxis.set_tick_params(width=0.5)\n",
    "ax.yaxis.set_tick_params(width=0.5)\n",
    "\n",
    "for extension in ['png']: \n",
    "    output = f'./fig_5I.{extension}'\n",
    "    plt.savefig(output, bbox_inches='tight', dpi=350)"
   ]
  },
  {
   "cell_type": "markdown",
   "metadata": {},
   "source": [
    "## Panel 5F"
   ]
  },
  {
   "cell_type": "code",
   "execution_count": 44,
   "metadata": {
    "collapsed": true
   },
   "outputs": [],
   "source": [
    "# Subsampling parameters\n",
    "total_iterations = 1000\n",
    "sample_size = 25\n",
    "mutations_size = 100"
   ]
  },
  {
   "cell_type": "code",
   "execution_count": 45,
   "metadata": {
    "scrolled": true
   },
   "outputs": [
    {
     "name": "stdout",
     "output_type": "stream",
     "text": [
      "Computing SBS1\n",
      "SBS1 50.0\n",
      "Computing SBS5\n",
      "SBS5 4.0\n",
      "Computing SBS18\n",
      "SBS18 5.0\n"
     ]
    }
   ],
   "source": [
    "mouse_hotspots = dict()\n",
    "for signature, df in mouse_data.items():\n",
    "    print('Computing', signature)\n",
    "    mouse_hotspots[signature] = compute_hotspot_propensity(df, total_iterations, sample_size, mutations_size)\n",
    "    print(signature, np.median(mouse_hotspots[signature]))"
   ]
  },
  {
   "cell_type": "code",
   "execution_count": 46,
   "metadata": {},
   "outputs": [
    {
     "data": {
      "image/png": "[encoded data removed]",
      "text/plain": [
       "<Figure size 72x108 with 1 Axes>"
      ]
     },
     "metadata": {
      "needs_background": "light"
     },
     "output_type": "display_data"
    }
   ],
   "source": [
    "fig = plt.figure(figsize=(1, 1.5))\n",
    "ax = plt.subplot2grid((1, 1), (0, 0))\n",
    "ax.set_ylabel('# hotspots', fontsize=6)\n",
    "plt.title(f\"Mouse colonic crypts\\n2500 mutations\", fontsize=6)\n",
    "\n",
    "labels = ['SBS1', 'SBS18', 'SBS5']\n",
    "bar_data = [np.median(mouse_hotspots[s]) for s in labels]\n",
    "colors = [sigs_color[s] for s in labels]\n",
    "\n",
    "bar = ax.bar(list(range(len(labels))), bar_data, width=0.80, align='center', color=colors, alpha=1, zorder=1)\n",
    "for i, s in enumerate(labels): \n",
    "    ax.vlines(i, ymin=np.percentile(mouse_hotspots[s], 25), ymax=np.percentile(mouse_hotspots[s], 75), color='black', linestyle='-', lw=0.5, zorder=2)\n",
    "    ax.scatter(i, np.median(mouse_hotspots[s]), color='black', marker='o', s=4, lw=0.5, edgecolor=None, zorder=2)\n",
    "\n",
    "ax.set_xlim(-0.5, len(labels)-0.5)\n",
    "ax.set_xticks(list(range(len(labels))))\n",
    "ax.set_xticklabels(labels, fontsize=6, rotation=45, ha='center', va='top')\n",
    "yticks = [0, 10, 20, 30, 40, 50, 60]\n",
    "ax.set_yticks(yticks)\n",
    "ax.set_yticklabels(yticks, fontsize=5, )\n",
    "ax.tick_params(axis='y', which='major', pad=1)\n",
    "ax.tick_params(axis='x', which='major', pad=2)\n",
    "\n",
    "ax.spines['left'].set(lw=0.5)\n",
    "ax.spines['bottom'].set(lw=0.5)\n",
    "ax.spines['right'].set_visible(False)\n",
    "ax.spines['top'].set_visible(False)\n",
    "ax.xaxis.set_tick_params(width=0.5)\n",
    "ax.yaxis.set_tick_params(width=0.5)\n",
    "\n",
    "for extension in ['png']: \n",
    "    output = f'./fig_5J.{extension}'\n",
    "    plt.savefig(output, bbox_inches='tight', dpi=350)"
   ]
  },
  {
   "cell_type": "code",
   "execution_count": null,
   "metadata": {
    "collapsed": true
   },
   "outputs": [],
   "source": []
  }
 ],
 "metadata": {
  "kernelspec": {
   "display_name": "Python [conda env:hotspot_propensity]",
   "language": "python",
   "name": "conda-env-hotspot_propensity-py"
  },
  "language_info": {
   "codemirror_mode": {
    "name": "ipython",
    "version": 3
   },
   "file_extension": ".py",
   "mimetype": "text/x-python",
   "name": "python",
   "nbconvert_exporter": "python",
   "pygments_lexer": "ipython3",
   "version": "3.6.13"
  }
 },
 "nbformat": 4,
 "nbformat_minor": 2
}
