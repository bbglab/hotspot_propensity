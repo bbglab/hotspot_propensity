{
 "cells": [
  {
   "cell_type": "markdown",
   "metadata": {},
   "source": [
    "# Count methylated/mutated sites per bin"
   ]
  },
  {
   "cell_type": "code",
   "execution_count": 1,
   "metadata": {
    "collapsed": true
   },
   "outputs": [],
   "source": [
    "import os\n",
    "\n",
    "import pandas as pd"
   ]
  },
  {
   "cell_type": "code",
   "execution_count": 2,
   "metadata": {
    "collapsed": true
   },
   "outputs": [],
   "source": [
    "main_dir = ''"
   ]
  },
  {
   "cell_type": "code",
   "execution_count": 3,
   "metadata": {
    "collapsed": true
   },
   "outputs": [],
   "source": [
    "code_f = f'{main_dir}/methylation/code/count_methy_mut_status.py'"
   ]
  },
  {
   "cell_type": "code",
   "execution_count": 4,
   "metadata": {
    "collapsed": true
   },
   "outputs": [],
   "source": [
    "cpg_dir = output_dir = f'{main_dir}/methylation/data/fractional_methylation'"
   ]
  },
  {
   "cell_type": "code",
   "execution_count": 5,
   "metadata": {
    "collapsed": true
   },
   "outputs": [],
   "source": [
    "bins_dir = f'{main_dir}/genomic_bins/data'"
   ]
  },
  {
   "cell_type": "code",
   "execution_count": 6,
   "metadata": {
    "collapsed": true
   },
   "outputs": [],
   "source": [
    "info = [\n",
    "    '[params]',\n",
    "    'cores=1',\n",
    "    'memory=32G\\n',\n",
    "    '[pre]',\n",
    "    '. \"/home/$USER/miniconda3/etc/profile.d/conda.sh\"',\n",
    "    'conda activate hotspots_framework\\n',\n",
    "    '[jobs]',\n",
    "]"
   ]
  },
  {
   "cell_type": "code",
   "execution_count": 7,
   "metadata": {
    "collapsed": true
   },
   "outputs": [],
   "source": [
    "autosomes = [f'chr{c}' for c in range(1, 23)]"
   ]
  },
  {
   "cell_type": "markdown",
   "metadata": {},
   "source": [
    "## Count tissue-matched methylation & MUTATIONS"
   ]
  },
  {
   "cell_type": "code",
   "execution_count": 8,
   "metadata": {
    "collapsed": true
   },
   "outputs": [],
   "source": [
    "epigenomes_to_run = {\n",
    "    'COADREAD': ['E084','E106'],\n",
    "    'ESOPHA_STOMACH': ['E079','E094'],\n",
    "    'NSCLC': ['E017','E096'],\n",
    "}"
   ]
  },
  {
   "cell_type": "code",
   "execution_count": 9,
   "metadata": {
    "collapsed": true
   },
   "outputs": [],
   "source": [
    "binsizes = ['1000kb', '500kb', '250kb', '100kb', '50kb', '25kb', '10kb']"
   ]
  },
  {
   "cell_type": "code",
   "execution_count": 11,
   "metadata": {
    "collapsed": true
   },
   "outputs": [],
   "source": [
    "map_f = f'{main_dir}/methylation/code/count_methy_mut_status.map'"
   ]
  },
  {
   "cell_type": "code",
   "execution_count": 12,
   "metadata": {
    "scrolled": false
   },
   "outputs": [
    {
     "name": "stdout",
     "output_type": "stream",
     "text": [
      "1000kb COADREAD\n",
      "1000kb ESOPHA_STOMACH\n",
      "1000kb NSCLC\n",
      "500kb COADREAD\n",
      "500kb ESOPHA_STOMACH\n",
      "500kb NSCLC\n",
      "250kb COADREAD\n",
      "250kb ESOPHA_STOMACH\n",
      "250kb NSCLC\n",
      "100kb COADREAD\n",
      "100kb ESOPHA_STOMACH\n",
      "100kb NSCLC\n",
      "50kb COADREAD\n",
      "50kb ESOPHA_STOMACH\n",
      "50kb NSCLC\n",
      "25kb COADREAD\n",
      "25kb ESOPHA_STOMACH\n",
      "25kb NSCLC\n",
      "10kb COADREAD\n",
      "10kb ESOPHA_STOMACH\n",
      "10kb NSCLC\n"
     ]
    }
   ],
   "source": [
    "with open(map_f, 'w') as ofd: \n",
    "    for line in info: \n",
    "        ofd.write(f'{line}\\n')\n",
    "    for bin_size in binsizes: \n",
    "        bins_f = f'{bins_dir}/hg38_{bin_size}_bin.nodrivers.filtered.mappable_positions.autosomes.binids.txt'\n",
    "        bins_trinuc_f = f'{bins_dir}/hg38_{bin_size}_bin.nodrivers.filtered.mappable_positions.autosomes.trinuc_per_bin.json'\n",
    "        for ctype, epigenomes in epigenomes_to_run.items(): \n",
    "            for chromosome in autosomes: \n",
    "                cpg_f = f'{cpg_dir}/SBS1_{ctype}.{chromosome}.mutation_status.gz'\n",
    "                output_f = f'{output_dir}/SBS1_{ctype}.{bin_size}.{chromosome}.counts_methyl_muts.tsv'\n",
    "                ofd.write(f'python {code_f} -e {epigenomes[0]} -e {epigenomes[1]} ' +  \n",
    "                          f'--bins_trinuc_f {bins_trinuc_f} --chromosome {chromosome} ' + \n",
    "                          f'--bins_f {bins_f} --cpg_f {cpg_f} --output_file {output_f}\\n' )\n",
    "            print(bin_size, ctype)"
   ]
  },
  {
   "cell_type": "markdown",
   "metadata": {},
   "source": [
    "## Count tissue-matched methylation & HOTSPOTS"
   ]
  },
  {
   "cell_type": "code",
   "execution_count": 13,
   "metadata": {
    "collapsed": true
   },
   "outputs": [],
   "source": [
    "epigenomes_to_run = {\n",
    "    'COADREAD': ['E084','E106'],\n",
    "    'ESOPHA_STOMACH': ['E079','E094'],\n",
    "    'NSCLC': ['E017','E096'],\n",
    "}"
   ]
  },
  {
   "cell_type": "code",
   "execution_count": 14,
   "metadata": {
    "collapsed": true
   },
   "outputs": [],
   "source": [
    "binsizes = ['1000kb']    # this is only used to calculate genome-wide OR"
   ]
  },
  {
   "cell_type": "code",
   "execution_count": 15,
   "metadata": {
    "collapsed": true
   },
   "outputs": [],
   "source": [
    "map_f = f'{main_dir}/methylation/code/count_methy_hotspot_status.map'"
   ]
  },
  {
   "cell_type": "code",
   "execution_count": 16,
   "metadata": {
    "scrolled": false
   },
   "outputs": [
    {
     "name": "stdout",
     "output_type": "stream",
     "text": [
      "1000kb COADREAD\n",
      "1000kb ESOPHA_STOMACH\n",
      "1000kb NSCLC\n"
     ]
    }
   ],
   "source": [
    "with open(map_f, 'w') as ofd: \n",
    "    for line in info: \n",
    "        ofd.write(f'{line}\\n')\n",
    "    for bin_size in binsizes: \n",
    "        bins_f = f'{bins_dir}/hg38_{bin_size}_bin.nodrivers.filtered.mappable_positions.autosomes.binids.txt'\n",
    "        bins_trinuc_f = f'{bins_dir}/hg38_{bin_size}_bin.nodrivers.filtered.mappable_positions.autosomes.trinuc_per_bin.json'\n",
    "        for ctype, epigenomes in epigenomes_to_run.items(): \n",
    "            for chromosome in autosomes: \n",
    "                cpg_f = f'{cpg_dir}/SBS1_{ctype}.{chromosome}.hotspot_status.gz'\n",
    "                output_f = f'{output_dir}/SBS1_{ctype}.{bin_size}.{chromosome}.counts_methyl_hotspots.tsv'\n",
    "                ofd.write(f'python {code_f} -e {epigenomes[0]} -e {epigenomes[1]} ' +  \n",
    "                          f'--bins_trinuc_f {bins_trinuc_f} --chromosome {chromosome} ' + \n",
    "                          f'--bins_f {bins_f} --cpg_f {cpg_f} --output_file {output_f}\\n' )\n",
    "            print(bin_size, ctype)"
   ]
  }
 ],
 "metadata": {
  "kernelspec": {
   "display_name": "Python [conda env:hotspots_framework]",
   "language": "python",
   "name": "conda-env-hotspots_framework-py"
  },
  "language_info": {
   "codemirror_mode": {
    "name": "ipython",
    "version": 3
   },
   "file_extension": ".py",
   "mimetype": "text/x-python",
   "name": "python",
   "nbconvert_exporter": "python",
   "pygments_lexer": "ipython3",
   "version": "3.6.10"
  }
 },
 "nbformat": 4,
 "nbformat_minor": 2
}
