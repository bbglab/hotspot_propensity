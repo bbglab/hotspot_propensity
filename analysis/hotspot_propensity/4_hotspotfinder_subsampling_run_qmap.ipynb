{
 "cells": [
  {
   "cell_type": "markdown",
   "metadata": {},
   "source": [
    "# Run hotspotfinder"
   ]
  },
  {
   "cell_type": "code",
   "execution_count": 1,
   "metadata": {
    "collapsed": true
   },
   "outputs": [],
   "source": [
    "import os\n",
    "from collections import defaultdict\n",
    "\n",
    "import pandas as pd"
   ]
  },
  {
   "cell_type": "code",
   "execution_count": 2,
   "metadata": {
    "collapsed": true
   },
   "outputs": [],
   "source": [
    "main_dir = ''"
   ]
  },
  {
   "cell_type": "code",
   "execution_count": 3,
   "metadata": {
    "collapsed": true
   },
   "outputs": [],
   "source": [
    "map_file = f'{main_dir}/code/hotspotfinder_subsampling_200_300.map'"
   ]
  },
  {
   "cell_type": "code",
   "execution_count": 4,
   "metadata": {
    "collapsed": true
   },
   "outputs": [],
   "source": [
    "iterations = 1000\n",
    "sample_size = 100\n",
    "mutations_cutoffs = [100, 125, 150, 175, 200, 225, 250, 275, 300]"
   ]
  },
  {
   "cell_type": "code",
   "execution_count": 5,
   "metadata": {
    "collapsed": true
   },
   "outputs": [],
   "source": [
    "input_path = f'{main_dir}/data/subsamples'\n",
    "output_path = f'{main_dir}/data/hotspots'"
   ]
  },
  {
   "cell_type": "markdown",
   "metadata": {},
   "source": [
    "#### HotspotFinder configuration"
   ]
  },
  {
   "cell_type": "code",
   "execution_count": 6,
   "metadata": {},
   "outputs": [
    {
     "data": {
      "text/plain": [
       "'True'"
      ]
     },
     "execution_count": 6,
     "metadata": {},
     "output_type": "execute_result"
    }
   ],
   "source": [
    "samples_threshold = '2'\n",
    "alternates = 'altsplit'\n",
    "split_alternates = 'True' if alternates == 'altsplit' else 'False'\n",
    "split_alternates"
   ]
  },
  {
   "cell_type": "code",
   "execution_count": 7,
   "metadata": {
    "collapsed": true
   },
   "outputs": [],
   "source": [
    "# Configuration\n",
    "config = [\n",
    "    'genome = \"hg38\"',\n",
    "    'cores = 1',\n",
    "    'output_format = \"tsv.gz\"',\n",
    "\n",
    "    'mappable_regions = \"%(bgdata://genomemappability/hg38/gem_100bp)\"',\n",
    "    'blacklisted_regions = \"%(bgdata://genomemappability/hg38/blacklist)\"',\n",
    "    'population_variants = \"%(bgdata://populationvariants/hg38/gnomad_v3_AF1)\"',\n",
    "    'repeats = \"%(bgdata://repeatmasker/repeats/hg38)\"',\n",
    "    'ig_tr_regions = \"%(bgdata://gencode/ig_tr_regions/hg38)\"',\n",
    "    'genomic_elements = \"%(bgdata://gencode/annotations/hg38)\"\\n',\n",
    "\n",
    "    '[finder]\\n',\n",
    "\n",
    "    f'samples_cutoff = {samples_threshold}',\n",
    "    f'mutations_cutoff = {samples_threshold}',\n",
    "    'remove_nonannotated_hotspots = False',\n",
    "    f'split_alternates = {split_alternates}',\n",
    "    'annotate = False',\n",
    "]"
   ]
  },
  {
   "cell_type": "markdown",
   "metadata": {},
   "source": [
    "#### Run HotspotFinder"
   ]
  },
  {
   "cell_type": "code",
   "execution_count": 8,
   "metadata": {
    "collapsed": true
   },
   "outputs": [],
   "source": [
    "info = [\n",
    "    '[params]',\n",
    "    'cores=1',\n",
    "    'memory=24G\\n',\n",
    "    '[pre]',\n",
    "    '. \"/home/$USER/miniconda3/etc/profile.d/conda.sh\"',\n",
    "    'conda activate hotspots_framework\\n',\n",
    "    '[jobs]',\n",
    "]"
   ]
  },
  {
   "cell_type": "code",
   "execution_count": 9,
   "metadata": {
    "collapsed": true
   },
   "outputs": [],
   "source": [
    "# Cancer types and signatures to run\n",
    "# Update if the mutation burden per sample is set to 600\n",
    "data_to_run = {\n",
    " 'BLADDER_URI': ['SBS2', 'SBS13', 'SBS5', 'SBS1'],\n",
    " 'BRCA': ['SBS5', 'SBS1', 'SBS2', 'SBS13', 'SBS3'],\n",
    " 'COADREAD': ['SBS1', 'SBS40', 'SBS17b', 'SBS5', 'SBS18', 'SBS93', 'SBS17a'],\n",
    " 'ESOPHA_STOMACH': ['SBS17b', 'SBS17a', 'SBS5', 'SBS1'],\n",
    " 'NSCLC': ['SBS4', 'SBS5', 'SBS40', 'SBS2', 'SBS13', 'SBS1'],\n",
    " 'PROSTATE': ['SBS5', 'SBS1', 'SBS8'],\n",
    " 'SKCM': ['SBS7a', 'SBS7b']\n",
    "}\n",
    "ctypes_to_run = data_to_run.keys()"
   ]
  },
  {
   "cell_type": "code",
   "execution_count": 11,
   "metadata": {
    "collapsed": true
   },
   "outputs": [],
   "source": [
    "with open(map_file, 'w') as ofd: \n",
    "    for line in info: \n",
    "        ofd.write(f'{line}\\n')\n",
    "    \n",
    "    for mcutoff in mutations_cutoffs: \n",
    "        input_dir = f'{input_path}/{iterations}iter_{sample_size}samples_{mcutoff}muts'\n",
    "        output_dir = f'{output_path}/{iterations}iter_{sample_size}samples_{mcutoff}muts'\n",
    "        if not os.path.exists(output_dir):\n",
    "            os.makedirs(output_dir, exist_ok=True)\n",
    "        \n",
    "        # Write configuration\n",
    "        config_path = os.path.join(output_dir, f'hotspot.conf')\n",
    "        with open(config_path, 'w') as ofd2: \n",
    "            for line in config: \n",
    "                ofd2.write(f'{line}\\n')\n",
    "        \n",
    "        # Call HotspotFinder\n",
    "        for cancertype in ctypes_to_run:\n",
    "            subsampling_dir_output = os.path.join(output_dir, cancertype)\n",
    "            if not os.path.exists(subsampling_dir_output):\n",
    "                os.makedirs(subsampling_dir_output, exist_ok=True)\n",
    "            subsampling_dir_input = os.path.join(input_dir, cancertype)\n",
    "            for signature in data_to_run[cancertype]: \n",
    "                for i in range(0, iterations): \n",
    "                    iteration_f = os.path.join(subsampling_dir_input, f'{cancertype}_iter_{i}_{signature}.in.gz')\n",
    "                    ofd.write(f'hotspotfinder -i {iteration_f} -o {subsampling_dir_output} -conf {config_path} \\n')"
   ]
  },
  {
   "cell_type": "code",
   "execution_count": null,
   "metadata": {
    "collapsed": true
   },
   "outputs": [],
   "source": []
  }
 ],
 "metadata": {
  "kernelspec": {
   "display_name": "Python [conda env:hotspots_framework]",
   "language": "python",
   "name": "conda-env-hotspots_framework-py"
  },
  "language_info": {
   "codemirror_mode": {
    "name": "ipython",
    "version": 3
   },
   "file_extension": ".py",
   "mimetype": "text/x-python",
   "name": "python",
   "nbconvert_exporter": "python",
   "pygments_lexer": "ipython3",
   "version": "3.6.10"
  }
 },
 "nbformat": 4,
 "nbformat_minor": 2
}
