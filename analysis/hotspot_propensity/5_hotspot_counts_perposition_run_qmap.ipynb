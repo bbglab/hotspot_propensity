{
 "cells": [
  {
   "cell_type": "markdown",
   "metadata": {},
   "source": [
    "# Count hotspots on each experiment"
   ]
  },
  {
   "cell_type": "code",
   "execution_count": 1,
   "metadata": {
    "collapsed": true
   },
   "outputs": [],
   "source": [
    "import os"
   ]
  },
  {
   "cell_type": "code",
   "execution_count": 2,
   "metadata": {
    "collapsed": true
   },
   "outputs": [],
   "source": [
    "main_dir = ''"
   ]
  },
  {
   "cell_type": "markdown",
   "metadata": {},
   "source": [
    "## Propensity 100 samples 100-300 muts/sample"
   ]
  },
  {
   "cell_type": "code",
   "execution_count": 3,
   "metadata": {
    "collapsed": true
   },
   "outputs": [],
   "source": [
    "map_file = f'{main_dir}/code/hotspot_counts.map'\n",
    "code_file = f'{main_dir}/code/hotspot_counts_perposition.py'"
   ]
  },
  {
   "cell_type": "code",
   "execution_count": 4,
   "metadata": {
    "collapsed": true
   },
   "outputs": [],
   "source": [
    "iterations = 1000\n",
    "sample_size = 100\n",
    "mutations_cutoffs = [100, 125, 150, 175, 200, 225, 250, 275, 300]"
   ]
  },
  {
   "cell_type": "code",
   "execution_count": 5,
   "metadata": {
    "collapsed": true
   },
   "outputs": [],
   "source": [
    "subsamples_path = f'{main_dir}/data/subsamples'\n",
    "input_path = f'{main_dir}/data/hotspots'\n",
    "output_path = f'{main_dir}/data/counts'"
   ]
  },
  {
   "cell_type": "code",
   "execution_count": 6,
   "metadata": {
    "collapsed": true
   },
   "outputs": [],
   "source": [
    "info = [\n",
    "    '[params]',\n",
    "    'cores=1',\n",
    "    'memory=24G\\n',\n",
    "    '[pre]',\n",
    "    '. \"/home/$USER/miniconda3/etc/profile.d/conda.sh\"',\n",
    "    'conda activate hotspots_framework\\n',\n",
    "    '[jobs]',\n",
    "]"
   ]
  },
  {
   "cell_type": "code",
   "execution_count": 7,
   "metadata": {
    "collapsed": true
   },
   "outputs": [],
   "source": [
    "# Cancer types and signatures to run\n",
    "# Update if the mutation burden per sample is set to 600\n",
    "data_to_run = {\n",
    " 'BLADDER_URI': ['SBS2', 'SBS13', 'SBS5', 'SBS1'],\n",
    " 'BRCA': ['SBS5', 'SBS1', 'SBS2', 'SBS13', 'SBS3'],\n",
    " 'COADREAD': ['SBS1', 'SBS40', 'SBS17b', 'SBS5', 'SBS18', 'SBS93', 'SBS17a'],\n",
    " 'ESOPHA_STOMACH': ['SBS17b', 'SBS17a', 'SBS5', 'SBS1'],\n",
    " 'NSCLC': ['SBS4', 'SBS5', 'SBS40', 'SBS2', 'SBS13', 'SBS1'],\n",
    " 'PROSTATE': ['SBS5', 'SBS1', 'SBS8'],\n",
    " 'SKCM': ['SBS7a', 'SBS7b']\n",
    "}\n",
    "ctypes_to_run = data_to_run.keys()"
   ]
  },
  {
   "cell_type": "code",
   "execution_count": 8,
   "metadata": {
    "collapsed": true
   },
   "outputs": [],
   "source": [
    "with open(map_file, 'w') as ofd: \n",
    "    for line in info: \n",
    "        ofd.write(f'{line}\\n')\n",
    "    \n",
    "    for mcutoff in mutations_cutoffs: \n",
    "        subsamples_dir = f'{subsamples_path}/{iterations}iter_{sample_size}samples_{mcutoff}muts'\n",
    "        hotspots_dir = f'{input_path}/{iterations}iter_{sample_size}samples_{mcutoff}muts'\n",
    "        output_dir = f'{output_path}/{iterations}iter_{sample_size}samples_{mcutoff}muts'\n",
    "        if not os.path.exists(output_dir):\n",
    "            os.makedirs(output_dir, exist_ok=True)\n",
    "        \n",
    "        for cancertype in ctypes_to_run:\n",
    "            ctype_output = os.path.join(output_dir, cancertype)\n",
    "            if not os.path.exists(ctype_output):\n",
    "                os.makedirs(ctype_output, exist_ok=True)\n",
    "\n",
    "            for signature in data_to_run[cancertype]: \n",
    "                \n",
    "                subsample = f'{subsamples_dir}/{cancertype}/subsampling_{signature}.txt'\n",
    "                hotspots = f'{hotspots_dir}/{cancertype}'\n",
    "                output_f = f'{ctype_output}/{cancertype}_hotspot_counts_{signature}.tsv'\n",
    "\n",
    "                ofd.write(f'python {code_file} -s {subsample} -i {hotspots} -o {output_f} \\n')"
   ]
  },
  {
   "cell_type": "code",
   "execution_count": null,
   "metadata": {
    "collapsed": true
   },
   "outputs": [],
   "source": []
  }
 ],
 "metadata": {
  "kernelspec": {
   "display_name": "Python [conda env:hotspots_framework]",
   "language": "python",
   "name": "conda-env-hotspots_framework-py"
  },
  "language_info": {
   "codemirror_mode": {
    "name": "ipython",
    "version": 3
   },
   "file_extension": ".py",
   "mimetype": "text/x-python",
   "name": "python",
   "nbconvert_exporter": "python",
   "pygments_lexer": "ipython3",
   "version": "3.6.10"
  }
 },
 "nbformat": 4,
 "nbformat_minor": 2
}
