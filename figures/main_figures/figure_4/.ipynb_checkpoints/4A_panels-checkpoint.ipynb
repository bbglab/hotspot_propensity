{
 "cells": [
  {
   "cell_type": "markdown",
   "metadata": {},
   "source": [
    "# Large scale distribution of mutational signatures in Fig 4A"
   ]
  },
  {
   "cell_type": "code",
   "execution_count": 1,
   "metadata": {},
   "outputs": [],
   "source": [
    "import json\n",
    "\n",
    "from intervaltree import IntervalTree\n",
    "import matplotlib\n",
    "import matplotlib.pyplot as plt\n",
    "from matplotlib.lines import Line2D\n",
    "from matplotlib import rcParams\n",
    "import numpy as np\n",
    "import pandas as pd\n",
    "import seaborn as sns"
   ]
  },
  {
   "cell_type": "code",
   "execution_count": 2,
   "metadata": {
    "collapsed": true
   },
   "outputs": [],
   "source": [
    "rcParams['font.family'] = 'sans-serif'\n",
    "rcParams['font.sans-serif'] = ['Arial']"
   ]
  },
  {
   "cell_type": "code",
   "execution_count": 3,
   "metadata": {
    "collapsed": true
   },
   "outputs": [],
   "source": [
    "sigs_color = {\n",
    "'SBS1': '#1e79baff',\n",
    " 'SBS17b': '#ff8921ff'\n",
    "}"
   ]
  },
  {
   "cell_type": "code",
   "execution_count": 4,
   "metadata": {
    "collapsed": true
   },
   "outputs": [],
   "source": [
    "data_dir = './data'"
   ]
  },
  {
   "cell_type": "code",
   "execution_count": 5,
   "metadata": {
    "collapsed": true
   },
   "outputs": [],
   "source": [
    "def color_palette(minima, maxima, step): \n",
    "    \"\"\"Function to create a custom color palette\"\"\"\n",
    "    \n",
    "    tree_colors_fraction = IntervalTree()\n",
    "    cutoffs = list(np.arange(minima, maxima, step))\n",
    "    palette = sns.color_palette('viridis', len(cutoffs)).as_hex()\n",
    "    legend_elements_color = []\n",
    "    msize = 8\n",
    "    for c_minus_1, c in enumerate(cutoffs[1:]): \n",
    "        start = cutoffs[c_minus_1]\n",
    "        end = c\n",
    "        color = palette[c_minus_1]\n",
    "        tree_colors_fraction.addi(start, end, color)\n",
    "        legend_elements_color.append(Line2D([0], [0], marker='s', color='w', label=f'({start}, {end})', markerfacecolor=color, markersize=msize))\n",
    "    legend_elements_color = legend_elements_color[::-1]\n",
    "    legend_elements_color.append(Line2D([0], [0], marker='s', color='w', label='', markerfacecolor='w', markersize=msize))\n",
    "    \n",
    "    return tree_colors_fraction, legend_elements_color"
   ]
  },
  {
   "cell_type": "markdown",
   "metadata": {},
   "source": [
    "### Load data\n",
    "\n",
    "- 1 Mpb mappable genomic bins.\n",
    "- SBS1 and SBS17b COADREAD mutation counts across mappable megabases, obtained from observed data in the cancer type.\n",
    "- Signal of large scale covariates (chromatin accessibility, replication timing and gene expression) across mappable megabases."
   ]
  },
  {
   "cell_type": "markdown",
   "metadata": {},
   "source": [
    "#### Megabases"
   ]
  },
  {
   "cell_type": "code",
   "execution_count": 6,
   "metadata": {
    "scrolled": true
   },
   "outputs": [
    {
     "data": {
      "text/html": [
       "<div>\n",
       "<style scoped>\n",
       "    .dataframe tbody tr th:only-of-type {\n",
       "        vertical-align: middle;\n",
       "    }\n",
       "\n",
       "    .dataframe tbody tr th {\n",
       "        vertical-align: top;\n",
       "    }\n",
       "\n",
       "    .dataframe thead th {\n",
       "        text-align: right;\n",
       "    }\n",
       "</style>\n",
       "<table border=\"1\" class=\"dataframe\">\n",
       "  <thead>\n",
       "    <tr style=\"text-align: right;\">\n",
       "      <th></th>\n",
       "      <th>CHR</th>\n",
       "      <th>START</th>\n",
       "      <th>END</th>\n",
       "      <th>BINID</th>\n",
       "    </tr>\n",
       "  </thead>\n",
       "  <tbody>\n",
       "    <tr>\n",
       "      <th>0</th>\n",
       "      <td>chr1</td>\n",
       "      <td>4000000</td>\n",
       "      <td>5000000</td>\n",
       "      <td>chr1:4000000-5000000</td>\n",
       "    </tr>\n",
       "    <tr>\n",
       "      <th>1</th>\n",
       "      <td>chr1</td>\n",
       "      <td>5000000</td>\n",
       "      <td>6000000</td>\n",
       "      <td>chr1:5000000-6000000</td>\n",
       "    </tr>\n",
       "    <tr>\n",
       "      <th>2</th>\n",
       "      <td>chr1</td>\n",
       "      <td>8000000</td>\n",
       "      <td>9000000</td>\n",
       "      <td>chr1:8000000-9000000</td>\n",
       "    </tr>\n",
       "    <tr>\n",
       "      <th>3</th>\n",
       "      <td>chr1</td>\n",
       "      <td>9000000</td>\n",
       "      <td>10000000</td>\n",
       "      <td>chr1:9000000-10000000</td>\n",
       "    </tr>\n",
       "    <tr>\n",
       "      <th>4</th>\n",
       "      <td>chr1</td>\n",
       "      <td>14000000</td>\n",
       "      <td>15000000</td>\n",
       "      <td>chr1:14000000-15000000</td>\n",
       "    </tr>\n",
       "  </tbody>\n",
       "</table>\n",
       "</div>"
      ],
      "text/plain": [
       "    CHR     START       END                   BINID\n",
       "0  chr1   4000000   5000000    chr1:4000000-5000000\n",
       "1  chr1   5000000   6000000    chr1:5000000-6000000\n",
       "2  chr1   8000000   9000000    chr1:8000000-9000000\n",
       "3  chr1   9000000  10000000   chr1:9000000-10000000\n",
       "4  chr1  14000000  15000000  chr1:14000000-15000000"
      ]
     },
     "execution_count": 6,
     "metadata": {},
     "output_type": "execute_result"
    }
   ],
   "source": [
    "# Load 1 Mbp bins across autosomes\n",
    "bins_f = f'{data_dir}/hg38_1000kb_bin.nodrivers.filtered.all_positions.autosomes.bed.gz'\n",
    "bins_autosom_df = pd.read_csv(bins_f, sep='\\t', header=0)\n",
    "bins_autosom_df.head()"
   ]
  },
  {
   "cell_type": "code",
   "execution_count": 7,
   "metadata": {},
   "outputs": [
    {
     "data": {
      "text/html": [
       "<div>\n",
       "<style scoped>\n",
       "    .dataframe tbody tr th:only-of-type {\n",
       "        vertical-align: middle;\n",
       "    }\n",
       "\n",
       "    .dataframe tbody tr th {\n",
       "        vertical-align: top;\n",
       "    }\n",
       "\n",
       "    .dataframe thead th {\n",
       "        text-align: right;\n",
       "    }\n",
       "</style>\n",
       "<table border=\"1\" class=\"dataframe\">\n",
       "  <thead>\n",
       "    <tr style=\"text-align: right;\">\n",
       "      <th></th>\n",
       "      <th>CHR</th>\n",
       "      <th>START</th>\n",
       "      <th>END</th>\n",
       "      <th>BINID</th>\n",
       "    </tr>\n",
       "  </thead>\n",
       "  <tbody>\n",
       "    <tr>\n",
       "      <th>0</th>\n",
       "      <td>chr1</td>\n",
       "      <td>4000000</td>\n",
       "      <td>5000000</td>\n",
       "      <td>chr1:4000000-5000000</td>\n",
       "    </tr>\n",
       "    <tr>\n",
       "      <th>1</th>\n",
       "      <td>chr1</td>\n",
       "      <td>5000000</td>\n",
       "      <td>6000000</td>\n",
       "      <td>chr1:5000000-6000000</td>\n",
       "    </tr>\n",
       "    <tr>\n",
       "      <th>2</th>\n",
       "      <td>chr1</td>\n",
       "      <td>8000000</td>\n",
       "      <td>9000000</td>\n",
       "      <td>chr1:8000000-9000000</td>\n",
       "    </tr>\n",
       "    <tr>\n",
       "      <th>3</th>\n",
       "      <td>chr1</td>\n",
       "      <td>9000000</td>\n",
       "      <td>10000000</td>\n",
       "      <td>chr1:9000000-10000000</td>\n",
       "    </tr>\n",
       "    <tr>\n",
       "      <th>4</th>\n",
       "      <td>chr1</td>\n",
       "      <td>14000000</td>\n",
       "      <td>15000000</td>\n",
       "      <td>chr1:14000000-15000000</td>\n",
       "    </tr>\n",
       "  </tbody>\n",
       "</table>\n",
       "</div>"
      ],
      "text/plain": [
       "    CHR     START       END                   BINID\n",
       "0  chr1   4000000   5000000    chr1:4000000-5000000\n",
       "1  chr1   5000000   6000000    chr1:5000000-6000000\n",
       "2  chr1   8000000   9000000    chr1:8000000-9000000\n",
       "3  chr1   9000000  10000000   chr1:9000000-10000000\n",
       "4  chr1  14000000  15000000  chr1:14000000-15000000"
      ]
     },
     "execution_count": 7,
     "metadata": {},
     "output_type": "execute_result"
    }
   ],
   "source": [
    "# Subset bins in chromosome 1\n",
    "chromosome = 'chr1'\n",
    "missing_data = ['chr1:205000000-206000000']    # bins that have a missing covariate annotated are discarded\n",
    "bins_chr = bins_autosom_df.loc[(bins_autosom_df['CHR'] == chromosome) & (~bins_autosom_df['BINID'].isin(missing_data))].copy()\n",
    "bins_chr.sort_values(by='START', ascending=True, inplace=True)\n",
    "bins_chr.head()"
   ]
  },
  {
   "cell_type": "code",
   "execution_count": 8,
   "metadata": {},
   "outputs": [
    {
     "data": {
      "text/plain": [
       "180"
      ]
     },
     "execution_count": 8,
     "metadata": {},
     "output_type": "execute_result"
    }
   ],
   "source": [
    "len(bins_chr)"
   ]
  },
  {
   "cell_type": "code",
   "execution_count": 9,
   "metadata": {},
   "outputs": [],
   "source": [
    "chr_bins = bins_chr['BINID'].tolist()"
   ]
  },
  {
   "cell_type": "markdown",
   "metadata": {},
   "source": [
    "#### Hotspots"
   ]
  },
  {
   "cell_type": "code",
   "execution_count": 10,
   "metadata": {},
   "outputs": [],
   "source": [
    "hotspots_d = dict()\n",
    "for ctype, signature in [('COADREAD', 'SBS1'), ('COADREAD', 'SBS17b')]: \n",
    "    hotspots_f = f'{data_dir}/{ctype}.1000kb.hotspots_per_bin.json'\n",
    "    with open(hotspots_f, 'r') as fd: \n",
    "        h_per_bin = json.load(fd)\n",
    "\n",
    "    hotspots = []\n",
    "    for binid in chr_bins: \n",
    "        binid_data = h_per_bin.get(binid)\n",
    "        if binid_data:\n",
    "            hotspots += [binid_data.get(signature, 0)]\n",
    "    total_hotspots = sum(hotspots)\n",
    "    y1 = []\n",
    "    for i, binid in enumerate(chr_bins): \n",
    "        binid_data = h_per_bin.get(binid)\n",
    "        if binid_data:\n",
    "            y1 += [100*binid_data.get(signature, 0)/total_hotspots]\n",
    "        else: \n",
    "            y1 += [0]\n",
    "    hotspots_d[signature] = y1"
   ]
  },
  {
   "cell_type": "markdown",
   "metadata": {},
   "source": [
    "#### Mutations"
   ]
  },
  {
   "cell_type": "code",
   "execution_count": 11,
   "metadata": {
    "collapsed": true
   },
   "outputs": [],
   "source": [
    "mutations_d = dict()\n",
    "for ctype, signature in [('COADREAD', 'SBS1'), ('COADREAD', 'SBS17b')]: \n",
    "    muts_f = f'{data_dir}/{ctype}.1000kb.nodrivers.total_maxprob.mutations_per_bin.json'\n",
    "    with open(muts_f, 'r') as fd: \n",
    "        m_per_bin = json.load(fd)\n",
    "\n",
    "    m = []\n",
    "    for binid in chr_bins: \n",
    "        binid_data = m_per_bin.get(binid)\n",
    "        if binid_data:\n",
    "            m += [binid_data.get(signature, 0)]\n",
    "    total_m = sum(m)\n",
    "\n",
    "    y2 = []\n",
    "    for i, binid in enumerate(chr_bins): \n",
    "        binid_data = m_per_bin.get(binid)\n",
    "        if binid_data:\n",
    "            y2 += [100*binid_data.get(signature, 0)/total_m]\n",
    "        else: \n",
    "            y2 += [0]\n",
    "    mutations_d[signature] = y2"
   ]
  },
  {
   "cell_type": "markdown",
   "metadata": {},
   "source": [
    "#### Chromatin accessibility"
   ]
  },
  {
   "cell_type": "code",
   "execution_count": 12,
   "metadata": {},
   "outputs": [],
   "source": [
    "for ctype in ['COADREAD']: \n",
    "    f = f'{data_dir}/{ctype}_hg38_1000kb_bin.DNase.filtered.bed.gz'\n",
    "    df = pd.read_csv(f, sep='\\t', header=0)\n",
    "    df = df.loc[df['CHR'] == chromosome]\n",
    "    data_d = dict(list(zip(df['ID'], df['MEAN_SIGNAL'])))\n",
    "    \n",
    "    dnase = []\n",
    "    for binid in chr_bins: \n",
    "        dnase += [data_d.get(binid, 0.0)]\n",
    "        if data_d.get(binid, 0.0) == 0.0: \n",
    "            print(binid)"
   ]
  },
  {
   "cell_type": "markdown",
   "metadata": {},
   "source": [
    "#### Replication"
   ]
  },
  {
   "cell_type": "code",
   "execution_count": 13,
   "metadata": {},
   "outputs": [],
   "source": [
    "f = f'{data_dir}/SOLID_hg38_1000kb_bin.RepliSeq.filtered.bed.gz'\n",
    "df = pd.read_csv(f, sep='\\t', header=0)\n",
    "df = df.loc[df['CHR'] == chromosome]\n",
    "data_d = dict(list(zip(df['ID'], df['MEAN_SIGNAL'])))\n",
    "\n",
    "repli = []\n",
    "for binid in chr_bins: \n",
    "    repli += [data_d.get(binid, 0.0)]\n",
    "    if data_d.get(binid, 0.0) == 0.0: \n",
    "        print(binid)"
   ]
  },
  {
   "cell_type": "markdown",
   "metadata": {},
   "source": [
    "#### Gene expression"
   ]
  },
  {
   "cell_type": "code",
   "execution_count": 14,
   "metadata": {},
   "outputs": [],
   "source": [
    "for ctype in ['COADREAD']: \n",
    "    f = f'{data_dir}/{ctype}_hg38_1000kb_bin.rna.filtered.bed.gz'\n",
    "    df = pd.read_csv(f, sep='\\t', header=0)\n",
    "    df = df.loc[df['CHR'] == chromosome]\n",
    "    data_d = dict(list(zip(df['ID'], df['MEAN_SIGNAL'])))\n",
    "    \n",
    "    rna = []\n",
    "    for binid in chr_bins: \n",
    "        rna += [data_d.get(binid, 0.0)]\n",
    "        if data_d.get(binid, 0.0) == 0.0: \n",
    "            print(binid)"
   ]
  },
  {
   "cell_type": "markdown",
   "metadata": {},
   "source": [
    "## Panel 4A"
   ]
  },
  {
   "cell_type": "code",
   "execution_count": 17,
   "metadata": {},
   "outputs": [
    {
     "data": {
      "image/png": "[encoded data removed]",
      "text/plain": [
       "<Figure size 208.8x90 with 5 Axes>"
      ]
     },
     "metadata": {
      "needs_background": "light"
     },
     "output_type": "display_data"
    }
   ],
   "source": [
    "########## Plot params\n",
    "\n",
    "plt.rc('axes', edgecolor='grey')\n",
    "\n",
    "fig, ax = plt.subplots(\n",
    "    5, \n",
    "    sharex='col', \n",
    "    figsize=(2.9, 1.25), \n",
    "     gridspec_kw={'height_ratios': [0.75, 0.75, 0.1, 0.1, 0.1]}\n",
    ") \n",
    "plt.subplots_adjust(left=0.1,\n",
    "                    bottom=0.1, \n",
    "                    right=0.9, \n",
    "                    top=0.9, \n",
    "                    wspace=0.05, \n",
    "                    hspace=0.05)\n",
    "\n",
    "x = list(range(len(chr_bins)))\n",
    "\n",
    "## SUBPLOT 0 \n",
    "axis_key = 0\n",
    "for signature, y in hotspots_d.items(): \n",
    "    ax[axis_key].plot(x, y, color=sigs_color[signature], lw=0.75, linestyle='-', alpha=0.75)\n",
    "yticks = [1, 2, 3]\n",
    "ax[axis_key].set_yticks(yticks)\n",
    "ax[axis_key].set_yticklabels(yticks)\n",
    "ax[axis_key].set_ylim(ymin=-0.05, ymax=4)\n",
    "\n",
    "## SUBPLOT 1 \n",
    "axis_key = 1\n",
    "for signature, y in mutations_d.items(): \n",
    "    ax[axis_key].plot(x, y, color=sigs_color[signature], lw=0.75, linestyle='-', alpha=0.75)\n",
    "yticks = [1, 2, 3]\n",
    "ax[axis_key].set_yticks(yticks)\n",
    "ax[axis_key].set_yticklabels(yticks)\n",
    "ax[axis_key].set_ylim(ymin=-0.05, ymax=4)\n",
    "    \n",
    "## SUBPLOT 2 \n",
    "axis_key = 2  \n",
    "colors = []\n",
    "tree_colors_fraction, legend = color_palette(min(dnase), max(dnase)+0.1, 0.1)\n",
    "for binid in dnase: \n",
    "    for i in tree_colors_fraction[binid]: \n",
    "        colors += [i.data]\n",
    "ax[axis_key].scatter(x, [1]*len(x), c=colors, marker='|', s=10)\n",
    "ax[axis_key].set_yticks([])\n",
    "\n",
    "## SUBPLOT 3 \n",
    "axis_key = 3\n",
    "colors = []\n",
    "tree_colors_fraction, legend = color_palette(min(repli), max(repli)+0.5, 0.5)\n",
    "\n",
    "for binid in repli: \n",
    "    for i in tree_colors_fraction[binid]: \n",
    "        colors += [i.data]\n",
    "ax[axis_key].scatter(x, [1]*len(x), c=colors,  marker='|', s=10)\n",
    "ax[axis_key].set_yticks([])\n",
    "\n",
    "## SUBPLOT 4 \n",
    "axis_key = 4\n",
    "colors = []\n",
    "tree_colors_fraction, legend = color_palette(min(rna), max(rna)+0.1, 0.1)\n",
    "for binid in rna: \n",
    "    for i in tree_colors_fraction[binid]: \n",
    "        colors += [i.data]\n",
    "ax[axis_key].scatter(x, [1]*len(x), c=colors,  marker='|', s=10, alpha=1, lw=1)\n",
    "ax[axis_key].set_yticks([])\n",
    "\n",
    "########### X axis\n",
    "ax[axis_key].set_xlabel('Chromosome 1', fontsize=5)\n",
    "ax[axis_key].set_xticks(np.arange(0, 181, 10))\n",
    "ax[axis_key].set_xticklabels([])\n",
    "\n",
    "########## Y axis\n",
    "ylabels_dict = {\n",
    "    0: 'Hotspots (%)', \n",
    "    1: 'Mutations (%)',\n",
    "    2: 'DNase',\n",
    "    3: 'Repli. T',\n",
    "    4: 'RNA'\n",
    "}\n",
    "\n",
    "for key, value in ylabels_dict.items(): \n",
    "    ax[key].set_axisbelow(True)\n",
    "    ax[key].set_ylabel(value, fontsize=5, rotation=0, labelpad=25)\n",
    "    ax[key].grid(color='lightgrey', linestyle='--', linewidth=0.25)\n",
    "    for tick in ax[key].yaxis.get_major_ticks():\n",
    "        tick.label.set_fontsize(5) \n",
    "    for tick in ax[key].xaxis.get_major_ticks():\n",
    "            tick.label.set_fontsize(5) \n",
    "            \n",
    "    for location in ['top', 'bottom', 'left', 'right']:\n",
    "        ax[key].spines[location].set_linewidth(0.4)\n",
    "        \n",
    "    ax[key].tick_params(axis = \"x\", which = \"both\", bottom=False)\n",
    "    ax[key].tick_params(axis = \"y\", which = \"both\", left=False)\n",
    "    \n",
    "    ax[key].tick_params(axis='both', which='major', pad=0)\n",
    "    ax[key].spines['right'].set_visible(False)\n",
    "    ax[key].spines['left'].set_visible(False)\n",
    "    ax[key].spines['top'].set_visible(False)\n",
    "    ax[key].spines['bottom'].set_visible(False)\n",
    "    \n",
    "plt.tick_params(axis = \"x\", which = \"both\", bottom=False)\n",
    "plt.tick_params(axis = \"y\", which = \"both\", left=False)\n",
    "plt.xlim([-1, 180])\n",
    "plt.title('COADREAD', fontsize=5, y=18)\n",
    "    \n",
    "for extension in ['png']: \n",
    "    output = f'./fig_4A.{extension}'\n",
    "    plt.savefig(output, bbox_inches='tight', dpi=350)"
   ]
  },
  {
   "cell_type": "code",
   "execution_count": 18,
   "metadata": {},
   "outputs": [
    {
     "data": {
      "image/png": "[encoded data removed]",
      "text/plain": [
       "<Figure size 108x36 with 1 Axes>"
      ]
     },
     "metadata": {
      "needs_background": "light"
     },
     "output_type": "display_data"
    }
   ],
   "source": [
    "fig = plt.figure(figsize=(1.5, .5))\n",
    "ax = plt.subplot2grid((1, 1), (0, 0))\n",
    "    \n",
    "tree_colors_fraction, legend = color_palette(0, 100+0.1, 0.1)\n",
    "colors = [list(tree_colors_fraction[a])[0][-1] for a in range(0, 100)]\n",
    "ax.scatter(list(range(0, 100)), [1]*100, c=colors,  marker='|', s=10, alpha=1, lw=1)\n",
    "\n",
    "for extension in ['png']: \n",
    "    output = f'./fig_4A_figurelegend.{extension}'\n",
    "    plt.savefig(output, bbox_inches='tight', dpi=350)"
   ]
  },
  {
   "cell_type": "code",
   "execution_count": null,
   "metadata": {
    "collapsed": true
   },
   "outputs": [],
   "source": []
  }
 ],
 "metadata": {
  "kernelspec": {
   "display_name": "Python [conda env:hotspot_propensity]",
   "language": "python",
   "name": "conda-env-hotspot_propensity-py"
  },
  "language_info": {
   "codemirror_mode": {
    "name": "ipython",
    "version": 3
   },
   "file_extension": ".py",
   "mimetype": "text/x-python",
   "name": "python",
   "nbconvert_exporter": "python",
   "pygments_lexer": "ipython3",
   "version": "3.6.13"
  }
 },
 "nbformat": 4,
 "nbformat_minor": 2
}
