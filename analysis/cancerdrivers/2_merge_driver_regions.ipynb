{
 "cells": [
  {
   "cell_type": "markdown",
   "metadata": {},
   "source": [
    "# Merge driver coordinates into a single file"
   ]
  },
  {
   "cell_type": "markdown",
   "metadata": {},
   "source": [
    "For each transcript of a driver gene associated to a protein-coding or non-coding gene, get its exons (CDS and UTRs in case of protein-coding genes), splice sites, introns, proximal and distal promoters. Then merge all coordinates from the total driver genes in a single file. "
   ]
  },
  {
   "cell_type": "code",
   "execution_count": 1,
   "metadata": {
    "collapsed": true
   },
   "outputs": [],
   "source": [
    "import os, sys\n",
    "os.environ[\"PATH\"] = os.path.dirname(sys.executable) + os.pathsep + os.environ[\"PATH\"]\n",
    "\n",
    "import pandas as pd\n",
    "import pybedtools"
   ]
  },
  {
   "cell_type": "code",
   "execution_count": 2,
   "metadata": {
    "collapsed": true
   },
   "outputs": [],
   "source": [
    "BUILD = 'hg38'\n",
    "RELEASE = '2'\n",
    "ge_directory = '../data'\n",
    "\n",
    "# Protein-coding genes associated regions\n",
    "cds_file = os.path.join(ge_directory, f'{BUILD}_cds.transcript_level.overlap.gz')\n",
    "splice_file = os.path.join(ge_directory, f'{BUILD}_splice_sites.transcript_level.overlap.gz')\n",
    "utr5_file = os.path.join(ge_directory, f'{BUILD}_5utr.transcript_level.overlap.gz')\n",
    "utr3_file = os.path.join(ge_directory, f'{BUILD}_3utr.transcript_level.overlap.gz')\n",
    "proximal_promoters_file = os.path.join(ge_directory,f'{BUILD}_proximal_promoters.transcript_level.overlap.gz')\n",
    "distal_promoters_file = os.path.join(ge_directory,  f'{BUILD}_distal_promoters.transcript_level.overlap.gz')\n",
    "introns_file = os.path.join(ge_directory, f'{BUILD}_introns.transcript_level.overlap.gz')\n",
    "\n",
    "# lncRNA genes associated regions\n",
    "lncrna_exons_file = os.path.join(ge_directory, f'{BUILD}_lncrna_exons.transcript_level.overlap.gz')\n",
    "lncrna_splice_sites_file = os.path.join(ge_directory, f'{BUILD}_lncrna_splice_sites.transcript_level.overlap.gz')\n",
    "lncrna_proximal_promoters_file = os.path.join(ge_directory, f'{BUILD}_lncrna_proximal_promoters.transcript_level.overlap.gz')\n",
    "lncrna_distal_promoters_file = os.path.join(ge_directory, f'{BUILD}_lncrna_distal_promoters.transcript_level.overlap.gz')\n",
    "lncrna_introns_file = os.path.join(ge_directory, f'{BUILD}_lncrna_introns.transcript_level.overlap.gz')\n",
    "\n",
    "cancergenes_f = '../data/cancerdrivers.txt'"
   ]
  },
  {
   "cell_type": "code",
   "execution_count": 3,
   "metadata": {
    "collapsed": true
   },
   "outputs": [],
   "source": [
    "output_f = '../data/cancerdrivers_regions.tsv'"
   ]
  },
  {
   "cell_type": "markdown",
   "metadata": {},
   "source": [
    "#### Load cancer genes"
   ]
  },
  {
   "cell_type": "code",
   "execution_count": 4,
   "metadata": {},
   "outputs": [
    {
     "data": {
      "text/plain": [
       "782"
      ]
     },
     "execution_count": 4,
     "metadata": {},
     "output_type": "execute_result"
    }
   ],
   "source": [
    "cancergenes_df = pd.read_csv(cancergenes_f, sep='\\t', header=0)\n",
    "cancergenes = set(cancergenes_df['SYMBOL'])\n",
    "len(cancergenes)"
   ]
  },
  {
   "cell_type": "markdown",
   "metadata": {},
   "source": [
    "#### Load regions from cancer genes in a dataframe"
   ]
  },
  {
   "cell_type": "code",
   "execution_count": 5,
   "metadata": {
    "collapsed": true
   },
   "outputs": [],
   "source": [
    "lines = []"
   ]
  },
  {
   "cell_type": "code",
   "execution_count": 6,
   "metadata": {
    "scrolled": false
   },
   "outputs": [
    {
     "name": "stdout",
     "output_type": "stream",
     "text": [
      "cds loaded: 781\n",
      "2282620\n",
      "splice_sites loaded: 765\n",
      "654405\n",
      "5utr loaded: 781\n",
      "577942\n",
      "3utr loaded: 781\n",
      "2304406\n",
      "proximal_promoters loaded: 781\n",
      "1030460\n",
      "distal_promoters loaded: 781\n",
      "4036397\n",
      "introns loaded: 765\n",
      "93620830\n"
     ]
    }
   ],
   "source": [
    "# Load drivers associated with protein-coding genes\n",
    "# Note that some genes do not have introns/splice sites\n",
    "cancergenes_1 = [i for i in cancergenes if i != 'MALAT1']\n",
    "for ge_file in [cds_file, splice_file, utr5_file, utr3_file, proximal_promoters_file, distal_promoters_file, introns_file]:\n",
    "\n",
    "    ge_name = ge_file.split('/')[-1].split('.')[0].split('hg38_')[-1]\n",
    "    ge_df = pd.read_csv(ge_file, sep='\\t', header=0, low_memory=False)\n",
    "    drivers_ge_df = ge_df.loc[ge_df['SYMBOL'].isin(cancergenes_1)].copy()\n",
    "    lines.append(drivers_ge_df)\n",
    "    print(f'{ge_name} loaded: {len(drivers_ge_df[\"SYMBOL\"].unique())}')\n",
    "    \n",
    "    # Check length for each genomic element type\n",
    "    drivers_ge_df['START'] = drivers_ge_df.apply(lambda x: x['START'] - 1, axis=1)\n",
    "    drivers_ge_bed = pybedtools.BedTool.from_dataframe(drivers_ge_df)\n",
    "    drivers_ge_bed_merged = drivers_ge_bed.merge()\n",
    "    ge_merged = pd.read_csv(drivers_ge_bed_merged.fn, sep='\\t', header=None)\n",
    "    ge_merged.columns = ['CHR', 'START', 'END']\n",
    "    ge_merged['LENGTH'] = ge_merged.apply(lambda x: x['END'] - x['START'], axis=1)\n",
    "    print(ge_merged['LENGTH'].sum())"
   ]
  },
  {
   "cell_type": "code",
   "execution_count": 7,
   "metadata": {},
   "outputs": [
    {
     "name": "stdout",
     "output_type": "stream",
     "text": [
      "lncrna_exons loaded\n",
      "lncrna_splice_sites loaded\n",
      "lncrna_proximal_promoters loaded\n",
      "lncrna_distal_promoters loaded\n",
      "lncrna_introns loaded\n"
     ]
    }
   ],
   "source": [
    "# Load drivers associated to lncRNA genes\n",
    "cancergenes_2 = ['MALAT1']\n",
    "for ge_file in [lncrna_exons_file, lncrna_splice_sites_file, lncrna_proximal_promoters_file, lncrna_distal_promoters_file, lncrna_introns_file]:\n",
    "    ge_name = ge_file.split('/')[-1].split('.')[0].split('hg38_')[-1]\n",
    "    ge_df = pd.read_csv(ge_file, sep='\\t', header=0, low_memory=False)\n",
    "    drivers_ge_df = ge_df.loc[ge_df['SYMBOL'].isin(cancergenes_2)].copy()\n",
    "    lines.append(drivers_ge_df)\n",
    "    print(f'{ge_name} loaded')"
   ]
  },
  {
   "cell_type": "code",
   "execution_count": 8,
   "metadata": {},
   "outputs": [
    {
     "data": {
      "text/plain": [
       "782"
      ]
     },
     "execution_count": 8,
     "metadata": {},
     "output_type": "execute_result"
    }
   ],
   "source": [
    "regions = pd.concat(lines)\n",
    "len(regions['SYMBOL'].unique())"
   ]
  },
  {
   "cell_type": "markdown",
   "metadata": {},
   "source": [
    "#### Merge coordinates"
   ]
  },
  {
   "cell_type": "code",
   "execution_count": 9,
   "metadata": {
    "collapsed": true
   },
   "outputs": [],
   "source": [
    "lines = []\n",
    "for chromosome in [str(c) for c in list(range(1, 23)) + ['X', 'Y']]: \n",
    "    subset_data = regions.loc[regions['CHROMOSOME'] == chromosome]\n",
    "    subset_data_sorted = subset_data.sort_values(by=['START', 'END'], ascending=[True, True], inplace=False)\n",
    "    lines.append(subset_data_sorted)\n",
    "regions_sorted = pd.concat(lines)"
   ]
  },
  {
   "cell_type": "code",
   "execution_count": 10,
   "metadata": {
    "scrolled": true
   },
   "outputs": [
    {
     "data": {
      "text/html": [
       "<div>\n",
       "<style scoped>\n",
       "    .dataframe tbody tr th:only-of-type {\n",
       "        vertical-align: middle;\n",
       "    }\n",
       "\n",
       "    .dataframe tbody tr th {\n",
       "        vertical-align: top;\n",
       "    }\n",
       "\n",
       "    .dataframe thead th {\n",
       "        text-align: right;\n",
       "    }\n",
       "</style>\n",
       "<table border=\"1\" class=\"dataframe\">\n",
       "  <thead>\n",
       "    <tr style=\"text-align: right;\">\n",
       "      <th></th>\n",
       "      <th>CHROMOSOME</th>\n",
       "      <th>START</th>\n",
       "      <th>END</th>\n",
       "      <th>STRAND</th>\n",
       "      <th>GENE_ID</th>\n",
       "      <th>TRANSCRIPT_ID</th>\n",
       "      <th>SYMBOL</th>\n",
       "    </tr>\n",
       "  </thead>\n",
       "  <tbody>\n",
       "    <tr>\n",
       "      <th>231</th>\n",
       "      <td>1</td>\n",
       "      <td>2226318</td>\n",
       "      <td>2228318</td>\n",
       "      <td>+</td>\n",
       "      <td>ENSG00000157933</td>\n",
       "      <td>ENST00000378536</td>\n",
       "      <td>SKI</td>\n",
       "    </tr>\n",
       "    <tr>\n",
       "      <th>231</th>\n",
       "      <td>1</td>\n",
       "      <td>2228118</td>\n",
       "      <td>2228518</td>\n",
       "      <td>+</td>\n",
       "      <td>ENSG00000157933</td>\n",
       "      <td>ENST00000378536</td>\n",
       "      <td>SKI</td>\n",
       "    </tr>\n",
       "    <tr>\n",
       "      <th>369</th>\n",
       "      <td>1</td>\n",
       "      <td>2228318</td>\n",
       "      <td>2228766</td>\n",
       "      <td>+</td>\n",
       "      <td>ENSG00000157933</td>\n",
       "      <td>ENST00000378536</td>\n",
       "      <td>SKI</td>\n",
       "    </tr>\n",
       "    <tr>\n",
       "      <th>1983</th>\n",
       "      <td>1</td>\n",
       "      <td>2228766</td>\n",
       "      <td>2229735</td>\n",
       "      <td>+</td>\n",
       "      <td>ENSG00000157933</td>\n",
       "      <td>ENST00000378536</td>\n",
       "      <td>SKI</td>\n",
       "    </tr>\n",
       "    <tr>\n",
       "      <th>3910</th>\n",
       "      <td>1</td>\n",
       "      <td>2229735</td>\n",
       "      <td>2229760</td>\n",
       "      <td>+</td>\n",
       "      <td>ENSG00000157933</td>\n",
       "      <td>ENST00000378536</td>\n",
       "      <td>SKI</td>\n",
       "    </tr>\n",
       "  </tbody>\n",
       "</table>\n",
       "</div>"
      ],
      "text/plain": [
       "     CHROMOSOME    START      END STRAND          GENE_ID    TRANSCRIPT_ID  \\\n",
       "231           1  2226318  2228318      +  ENSG00000157933  ENST00000378536   \n",
       "231           1  2228118  2228518      +  ENSG00000157933  ENST00000378536   \n",
       "369           1  2228318  2228766      +  ENSG00000157933  ENST00000378536   \n",
       "1983          1  2228766  2229735      +  ENSG00000157933  ENST00000378536   \n",
       "3910          1  2229735  2229760      +  ENSG00000157933  ENST00000378536   \n",
       "\n",
       "     SYMBOL  \n",
       "231     SKI  \n",
       "231     SKI  \n",
       "369     SKI  \n",
       "1983    SKI  \n",
       "3910    SKI  "
      ]
     },
     "execution_count": 10,
     "metadata": {},
     "output_type": "execute_result"
    }
   ],
   "source": [
    "regions_sorted.head()"
   ]
  },
  {
   "cell_type": "code",
   "execution_count": 11,
   "metadata": {},
   "outputs": [
    {
     "data": {
      "text/plain": [
       "782"
      ]
     },
     "execution_count": 11,
     "metadata": {},
     "output_type": "execute_result"
    }
   ],
   "source": [
    "regions = pd.concat(lines)\n",
    "len(regions['SYMBOL'].unique())"
   ]
  },
  {
   "cell_type": "code",
   "execution_count": 12,
   "metadata": {
    "collapsed": true
   },
   "outputs": [],
   "source": [
    "regions['START'] = regions.apply(lambda x: x['START'] - 1, axis=1)    # Transform to BED\n",
    "regions_bed = pybedtools.BedTool.from_dataframe(regions)\n",
    "regions_bed_merged = regions_bed.merge()"
   ]
  },
  {
   "cell_type": "code",
   "execution_count": 13,
   "metadata": {},
   "outputs": [
    {
     "data": {
      "text/html": [
       "<div>\n",
       "<style scoped>\n",
       "    .dataframe tbody tr th:only-of-type {\n",
       "        vertical-align: middle;\n",
       "    }\n",
       "\n",
       "    .dataframe tbody tr th {\n",
       "        vertical-align: top;\n",
       "    }\n",
       "\n",
       "    .dataframe thead th {\n",
       "        text-align: right;\n",
       "    }\n",
       "</style>\n",
       "<table border=\"1\" class=\"dataframe\">\n",
       "  <thead>\n",
       "    <tr style=\"text-align: right;\">\n",
       "      <th></th>\n",
       "      <th>CHR</th>\n",
       "      <th>START</th>\n",
       "      <th>END</th>\n",
       "    </tr>\n",
       "  </thead>\n",
       "  <tbody>\n",
       "    <tr>\n",
       "      <th>0</th>\n",
       "      <td>1</td>\n",
       "      <td>2226318</td>\n",
       "      <td>2310213</td>\n",
       "    </tr>\n",
       "    <tr>\n",
       "      <th>1</th>\n",
       "      <td>1</td>\n",
       "      <td>2553638</td>\n",
       "      <td>2565382</td>\n",
       "    </tr>\n",
       "    <tr>\n",
       "      <th>2</th>\n",
       "      <td>1</td>\n",
       "      <td>3067167</td>\n",
       "      <td>3438621</td>\n",
       "    </tr>\n",
       "    <tr>\n",
       "      <th>3</th>\n",
       "      <td>1</td>\n",
       "      <td>6185019</td>\n",
       "      <td>6211389</td>\n",
       "    </tr>\n",
       "    <tr>\n",
       "      <th>4</th>\n",
       "      <td>1</td>\n",
       "      <td>6783453</td>\n",
       "      <td>7769706</td>\n",
       "    </tr>\n",
       "  </tbody>\n",
       "</table>\n",
       "</div>"
      ],
      "text/plain": [
       "  CHR    START      END\n",
       "0   1  2226318  2310213\n",
       "1   1  2553638  2565382\n",
       "2   1  3067167  3438621\n",
       "3   1  6185019  6211389\n",
       "4   1  6783453  7769706"
      ]
     },
     "execution_count": 13,
     "metadata": {},
     "output_type": "execute_result"
    }
   ],
   "source": [
    "regions_merged = pd.read_csv(regions_bed_merged.fn, sep='\\t', header=None)\n",
    "regions_merged.columns = ['CHR', 'START', 'END']\n",
    "regions_merged['START'] = regions_merged.apply(lambda x: x['START'] + 1, axis=1)    # 1 based format\n",
    "regions_merged.head()"
   ]
  },
  {
   "cell_type": "code",
   "execution_count": 14,
   "metadata": {
    "collapsed": true
   },
   "outputs": [],
   "source": [
    "# Save\n",
    "regions_merged.to_csv(output_f, sep='\\t', index=False)"
   ]
  },
  {
   "cell_type": "code",
   "execution_count": 15,
   "metadata": {},
   "outputs": [
    {
     "name": "stdout",
     "output_type": "stream",
     "text": [
      "99105646\n"
     ]
    }
   ],
   "source": [
    "regions_merged['LENGTH'] = regions_merged.apply(lambda x: x['END'] - x['START'] + 1, axis=1)\n",
    "print(regions_merged['LENGTH'].sum())"
   ]
  }
 ],
 "metadata": {
  "kernelspec": {
   "display_name": "Python [conda env:hotspots_framework]",
   "language": "python",
   "name": "conda-env-hotspots_framework-py"
  },
  "language_info": {
   "codemirror_mode": {
    "name": "ipython",
    "version": 3
   },
   "file_extension": ".py",
   "mimetype": "text/x-python",
   "name": "python",
   "nbconvert_exporter": "python",
   "pygments_lexer": "ipython3",
   "version": "3.6.10"
  }
 },
 "nbformat": 4,
 "nbformat_minor": 2
}
