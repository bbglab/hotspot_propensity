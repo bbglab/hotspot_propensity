{
 "cells": [
  {
   "cell_type": "markdown",
   "metadata": {},
   "source": [
    "# Compute length and trinucleotide composition of the mappable genome\n",
    "\n",
    "This script computes trinucleotide counts for two different files: \n",
    "1. Mappable genome regions including drivers\n",
    "2. Mappable genome regions excluding drivers"
   ]
  },
  {
   "cell_type": "code",
   "execution_count": 1,
   "metadata": {
    "collapsed": true
   },
   "outputs": [],
   "source": [
    "from collections import defaultdict\n",
    "from collections import Counter\n",
    "import gzip\n",
    "import json\n",
    "\n",
    "from bgreference import hg38"
   ]
  },
  {
   "cell_type": "code",
   "execution_count": 2,
   "metadata": {
    "collapsed": true
   },
   "outputs": [],
   "source": [
    "main_dir = ''"
   ]
  },
  {
   "cell_type": "markdown",
   "metadata": {},
   "source": [
    "### 1) Compute length and trinucleotide composition of the mappable genome including drivers"
   ]
  },
  {
   "cell_type": "code",
   "execution_count": 3,
   "metadata": {
    "collapsed": true
   },
   "outputs": [],
   "source": [
    "genome_file = f'{main_dir}/data/hg38_mappable_genome.tsv.gz'"
   ]
  },
  {
   "cell_type": "markdown",
   "metadata": {},
   "source": [
    "#### Check length"
   ]
  },
  {
   "cell_type": "code",
   "execution_count": 4,
   "metadata": {
    "collapsed": true
   },
   "outputs": [],
   "source": [
    "length = 0\n",
    "with gzip.open(genome_file, 'rt') as fd: \n",
    "    next(fd)     # skip header\n",
    "    for line in fd: \n",
    "        chrom, start, end = line.strip().split('\\t')\n",
    "        start = int(start)\n",
    "        end = int(end)\n",
    "        size = end - start + 1\n",
    "        length += len(hg38(chrom, start, size=size))"
   ]
  },
  {
   "cell_type": "code",
   "execution_count": 5,
   "metadata": {},
   "outputs": [
    {
     "data": {
      "text/plain": [
       "2531297102"
      ]
     },
     "execution_count": 5,
     "metadata": {},
     "output_type": "execute_result"
    }
   ],
   "source": [
    "length"
   ]
  },
  {
   "cell_type": "markdown",
   "metadata": {
    "collapsed": true
   },
   "source": [
    "#### Compute trinucleotide composition"
   ]
  },
  {
   "cell_type": "code",
   "execution_count": 6,
   "metadata": {
    "collapsed": true
   },
   "outputs": [],
   "source": [
    "output_f = f'{main_dir}/data/hg38_mappable_genome.trinucleotide_counts.json'"
   ]
  },
  {
   "cell_type": "code",
   "execution_count": 7,
   "metadata": {
    "collapsed": true
   },
   "outputs": [],
   "source": [
    "def rev_comp(seq):\n",
    "    \"\"\"Compute reverse complementary of a sequence\"\"\"\n",
    "    comp_nucleotides = {\n",
    "        'A': 'T',\n",
    "        'C': 'G',\n",
    "        'G': 'C',\n",
    "        'T': 'A'\n",
    "    }\n",
    "    return ''.join(list(map(lambda x: comp_nucleotides[x], seq[::-1])))"
   ]
  },
  {
   "cell_type": "code",
   "execution_count": 8,
   "metadata": {
    "collapsed": true
   },
   "outputs": [],
   "source": [
    "# Pyrimidine-based reference trinucleotides\n",
    "sorted_trinuc = []\n",
    "for n2 in ['C', 'T']:\n",
    "    for n1 in ['A', 'C', 'G', 'T']:\n",
    "        for n3 in ['A', 'C', 'G', 'T']:\n",
    "            sorted_trinuc.append(n1 + n2 + n3)"
   ]
  },
  {
   "cell_type": "code",
   "execution_count": 9,
   "metadata": {
    "collapsed": true
   },
   "outputs": [],
   "source": [
    "# Trinucleotide counts\n",
    "trinucleotides_genome = dict()\n",
    "with gzip.open(genome_file, 'rt') as fd:\n",
    "    next(fd)    # skip header\n",
    "    for line in fd:\n",
    "        chrom, start, end = line.strip().split('\\t')\n",
    "        # Account for trinucleotide sequence (substract 1 position to start; add 1 position to end)\n",
    "        start = int(start) - 1\n",
    "        end = int(end) + 1\n",
    "        size = end - start + 1\n",
    "        nucleotide_sequence = hg38(chrom, start, size=size)\n",
    "        trinucleotides = Counter([nucleotide_sequence[i:i + 3] for i in range(len(nucleotide_sequence) - 2)])\n",
    "        trinucleotides_genome = Counter(trinucleotides_genome) + trinucleotides"
   ]
  },
  {
   "cell_type": "code",
   "execution_count": 10,
   "metadata": {
    "collapsed": true
   },
   "outputs": [],
   "source": [
    "# Collapse into C/T reference trinucleotides\n",
    "# Non-reference trinucleotides (those with unknwnon nucleotides or 'N') are discarded\n",
    "# Undo defaultdict (no json friendly)\n",
    "trinucleotides_genome_merged = dict()\n",
    "for trinucleotide in sorted_trinuc:\n",
    "    counts = trinucleotides_genome[trinucleotide] + trinucleotides_genome[rev_comp(trinucleotide)]\n",
    "    trinucleotides_genome_merged[trinucleotide] = counts"
   ]
  },
  {
   "cell_type": "code",
   "execution_count": 11,
   "metadata": {},
   "outputs": [
    {
     "data": {
      "text/plain": [
       "2531296367"
      ]
     },
     "execution_count": 11,
     "metadata": {},
     "output_type": "execute_result"
    }
   ],
   "source": [
    "sum(trinucleotides_genome_merged.values())"
   ]
  },
  {
   "cell_type": "code",
   "execution_count": 12,
   "metadata": {
    "collapsed": true
   },
   "outputs": [],
   "source": [
    "# Trinucleotide counts across bins (trinucleotide as keys)\n",
    "with open(output_f, 'w') as ofd:\n",
    "    json.dump(trinucleotides_genome_merged, ofd)"
   ]
  },
  {
   "cell_type": "markdown",
   "metadata": {},
   "source": [
    "### 2) Compute length and trinucleotide composition of the mappable genome excluding drivers"
   ]
  },
  {
   "cell_type": "code",
   "execution_count": 14,
   "metadata": {
    "collapsed": true
   },
   "outputs": [],
   "source": [
    "genome_file = f'{main_dir}/data/hg38_mappable_genome.nodrivers.tsv.gz'"
   ]
  },
  {
   "cell_type": "markdown",
   "metadata": {},
   "source": [
    "#### Check length"
   ]
  },
  {
   "cell_type": "code",
   "execution_count": 15,
   "metadata": {
    "collapsed": true
   },
   "outputs": [],
   "source": [
    "length = 0\n",
    "with gzip.open(genome_file, 'rt') as fd: \n",
    "    next(fd)     # skip header\n",
    "    for line in fd: \n",
    "        chrom, start, end = line.strip().split('\\t')\n",
    "        start = int(start)\n",
    "        end = int(end)\n",
    "        size = end - start + 1\n",
    "        length += len(hg38(chrom, start, size=size))"
   ]
  },
  {
   "cell_type": "code",
   "execution_count": 24,
   "metadata": {},
   "outputs": [
    {
     "data": {
      "text/plain": [
       "2439219900"
      ]
     },
     "execution_count": 24,
     "metadata": {},
     "output_type": "execute_result"
    }
   ],
   "source": [
    "length"
   ]
  },
  {
   "cell_type": "code",
   "execution_count": 16,
   "metadata": {
    "collapsed": true
   },
   "outputs": [],
   "source": [
    "drivers_file = f'{main_dir}/data/cancerdrivers_regions.tsv'"
   ]
  },
  {
   "cell_type": "code",
   "execution_count": 17,
   "metadata": {
    "collapsed": true
   },
   "outputs": [],
   "source": [
    "drivers_length = 0\n",
    "with open(drivers_file, 'r') as fd: \n",
    "    next(fd)     # skip header\n",
    "    for line in fd: \n",
    "        chrom, start, end = line.strip().split('\\t')\n",
    "        start = int(start)\n",
    "        end = int(end)\n",
    "        size = end - start + 1\n",
    "        drivers_length += len(hg38(chrom, start, size=size))"
   ]
  },
  {
   "cell_type": "code",
   "execution_count": 20,
   "metadata": {},
   "outputs": [
    {
     "data": {
      "text/plain": [
       "99105646"
      ]
     },
     "execution_count": 20,
     "metadata": {},
     "output_type": "execute_result"
    }
   ],
   "source": [
    "drivers_length"
   ]
  },
  {
   "cell_type": "markdown",
   "metadata": {
    "collapsed": true
   },
   "source": [
    "#### Compute trinucleotide composition"
   ]
  },
  {
   "cell_type": "code",
   "execution_count": 18,
   "metadata": {
    "collapsed": true
   },
   "outputs": [],
   "source": [
    "output_f = f'{main_dir}/data/hg38_mappable_genome.nodrivers.trinucleotide_counts.json'"
   ]
  },
  {
   "cell_type": "code",
   "execution_count": 19,
   "metadata": {
    "collapsed": true
   },
   "outputs": [],
   "source": [
    "def rev_comp(seq):\n",
    "    \"\"\"Compute reverse complementary of a sequence\"\"\"\n",
    "    comp_nucleotides = {\n",
    "        'A': 'T',\n",
    "        'C': 'G',\n",
    "        'G': 'C',\n",
    "        'T': 'A'\n",
    "    }\n",
    "    return ''.join(list(map(lambda x: comp_nucleotides[x], seq[::-1])))"
   ]
  },
  {
   "cell_type": "code",
   "execution_count": 20,
   "metadata": {
    "collapsed": true
   },
   "outputs": [],
   "source": [
    "# Pyrimidine-based reference trinucleotides\n",
    "sorted_trinuc = []\n",
    "for n2 in ['C', 'T']:\n",
    "    for n1 in ['A', 'C', 'G', 'T']:\n",
    "        for n3 in ['A', 'C', 'G', 'T']:\n",
    "            sorted_trinuc.append(n1 + n2 + n3)"
   ]
  },
  {
   "cell_type": "code",
   "execution_count": 21,
   "metadata": {
    "collapsed": true
   },
   "outputs": [],
   "source": [
    "# Trinucleotide counts\n",
    "trinucleotides_genome = dict()\n",
    "with gzip.open(genome_file, 'rt') as fd:\n",
    "    next(fd)    # skip header\n",
    "    for line in fd:\n",
    "        chrom, start, end = line.strip().split('\\t')\n",
    "        # Account for trinucleotide sequence (substract 1 position to start; add 1 position to end)\n",
    "        start = int(start) - 1\n",
    "        end = int(end) + 1\n",
    "        size = end - start + 1\n",
    "        nucleotide_sequence = hg38(chrom, start, size=size)\n",
    "        trinucleotides = Counter([nucleotide_sequence[i:i + 3] for i in range(len(nucleotide_sequence) - 2)])\n",
    "        trinucleotides_genome = Counter(trinucleotides_genome) + trinucleotides"
   ]
  },
  {
   "cell_type": "code",
   "execution_count": 22,
   "metadata": {
    "collapsed": true
   },
   "outputs": [],
   "source": [
    "# Collapse into C/T reference trinucleotides\n",
    "# Non-reference trinucleotides (those with unknwnon nucleotides or 'N') are discarded\n",
    "# Undo defaultdict (no json friendly)\n",
    "trinucleotides_genome_merged = dict()\n",
    "for trinucleotide in sorted_trinuc:\n",
    "    counts = trinucleotides_genome[trinucleotide] + trinucleotides_genome[rev_comp(trinucleotide)]\n",
    "    trinucleotides_genome_merged[trinucleotide] = counts"
   ]
  },
  {
   "cell_type": "code",
   "execution_count": 32,
   "metadata": {},
   "outputs": [
    {
     "data": {
      "text/plain": [
       "2439219170"
      ]
     },
     "execution_count": 32,
     "metadata": {},
     "output_type": "execute_result"
    }
   ],
   "source": [
    "sum(trinucleotides_genome_merged.values())"
   ]
  },
  {
   "cell_type": "code",
   "execution_count": 23,
   "metadata": {
    "collapsed": true
   },
   "outputs": [],
   "source": [
    "# Trinucleotide counts across bins (trinucleotide as keys)\n",
    "with open(output_f, 'w') as ofd:\n",
    "    json.dump(trinucleotides_genome_merged, ofd)"
   ]
  }
 ],
 "metadata": {
  "kernelspec": {
   "display_name": "Python [conda env:hotspots_framework]",
   "language": "python",
   "name": "conda-env-hotspots_framework-py"
  },
  "language_info": {
   "codemirror_mode": {
    "name": "ipython",
    "version": 3
   },
   "file_extension": ".py",
   "mimetype": "text/x-python",
   "name": "python",
   "nbconvert_exporter": "python",
   "pygments_lexer": "ipython3",
   "version": "3.6.10"
  }
 },
 "nbformat": 4,
 "nbformat_minor": 2
}
