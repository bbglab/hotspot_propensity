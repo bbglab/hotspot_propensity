{
 "cells": [
  {
   "cell_type": "markdown",
   "metadata": {},
   "source": [
    "# Plots describing the dataset in Fig 1F and Fig 1G"
   ]
  },
  {
   "cell_type": "code",
   "execution_count": 1,
   "metadata": {
    "collapsed": true
   },
   "outputs": [],
   "source": [
    "from collections import defaultdict\n",
    "import os\n",
    "import json \n",
    "\n",
    "import matplotlib\n",
    "from matplotlib.lines import Line2D\n",
    "import matplotlib.pyplot as plt\n",
    "from matplotlib import rcParams\n",
    "import numpy as np\n",
    "import pandas as pd"
   ]
  },
  {
   "cell_type": "code",
   "execution_count": 2,
   "metadata": {
    "collapsed": true
   },
   "outputs": [],
   "source": [
    "rcParams['font.family'] = 'sans-serif'\n",
    "rcParams['font.sans-serif'] = ['Arial']"
   ]
  },
  {
   "cell_type": "code",
   "execution_count": 3,
   "metadata": {
    "collapsed": true
   },
   "outputs": [],
   "source": [
    "data_dir = '../../../data'"
   ]
  },
  {
   "cell_type": "code",
   "execution_count": 4,
   "metadata": {
    "collapsed": true
   },
   "outputs": [],
   "source": [
    "color_data = {\n",
    "    'total': '#165b8aff',\n",
    "    'snv' : '#207cb8ff', \n",
    "    'mnv' : '#ffdca8ff',\n",
    "    'ins' : '#5fd38dff',\n",
    "    'del' : '#f76e6bff',\n",
    "    'pass' : '#165b8aff',\n",
    "    'var_fail' : '#979ea2ff',\n",
    "    'map_fail' : '#c3caceff',\n",
    "    'mutations' : 'grey',\n",
    "    'Primary' : '#ffe27aff',\n",
    "    'Metastasis' : '#e6c019ff'\n",
    "}"
   ]
  },
  {
   "cell_type": "markdown",
   "metadata": {},
   "source": [
    "### Load data"
   ]
  },
  {
   "cell_type": "markdown",
   "metadata": {},
   "source": [
    "This input data corresponds to Datasets EV1, EV2 and EV4, plus 3 additional JSON files containing additional information that is generated along with the analysis of hotspots in section 1. "
   ]
  },
  {
   "cell_type": "code",
   "execution_count": 5,
   "metadata": {},
   "outputs": [
    {
     "data": {
      "text/html": [
       "<div>\n",
       "<style scoped>\n",
       "    .dataframe tbody tr th:only-of-type {\n",
       "        vertical-align: middle;\n",
       "    }\n",
       "\n",
       "    .dataframe tbody tr th {\n",
       "        vertical-align: top;\n",
       "    }\n",
       "\n",
       "    .dataframe thead th {\n",
       "        text-align: right;\n",
       "    }\n",
       "</style>\n",
       "<table border=\"1\" class=\"dataframe\">\n",
       "  <thead>\n",
       "    <tr style=\"text-align: right;\">\n",
       "      <th></th>\n",
       "      <th>COHORT</th>\n",
       "      <th>COHORT_MANUSCRIPT_LONG_NAME</th>\n",
       "      <th>SOURCE</th>\n",
       "      <th>PLATFORM</th>\n",
       "      <th>REFERENCE_DOI</th>\n",
       "      <th>TYPE</th>\n",
       "      <th>TREATED</th>\n",
       "      <th>AGE</th>\n",
       "      <th>SAMPLES</th>\n",
       "      <th>MUTATIONS_TOTAL</th>\n",
       "      <th>...</th>\n",
       "      <th>LEVEL_A_LONG</th>\n",
       "      <th>LEVEL_A</th>\n",
       "      <th>LEVEL_B_LONG</th>\n",
       "      <th>LEVEL_B</th>\n",
       "      <th>LEVEL_0</th>\n",
       "      <th>LEVEL_1</th>\n",
       "      <th>LEVEL_2</th>\n",
       "      <th>LEVEL_3</th>\n",
       "      <th>LEVEL_4</th>\n",
       "      <th>LEVEL_5</th>\n",
       "    </tr>\n",
       "  </thead>\n",
       "  <tbody>\n",
       "    <tr>\n",
       "      <th>0</th>\n",
       "      <td>D_ACC</td>\n",
       "      <td>Adrenocortical carcinomas (St. Jude Children's...</td>\n",
       "      <td>STJUDE</td>\n",
       "      <td>WGS</td>\n",
       "      <td>10.1038/ncomms7302</td>\n",
       "      <td>Primary</td>\n",
       "      <td>Untreated</td>\n",
       "      <td>Pediatric</td>\n",
       "      <td>20</td>\n",
       "      <td>16649</td>\n",
       "      <td>...</td>\n",
       "      <td>Adrenocortical Carcinoma (ACC)</td>\n",
       "      <td>ACC</td>\n",
       "      <td>None</td>\n",
       "      <td>None</td>\n",
       "      <td>PANCANCER</td>\n",
       "      <td>Adrenal Gland (ADRENAL_GLAND)</td>\n",
       "      <td>Adrenocortical Carcinoma (ACC)</td>\n",
       "      <td>NaN</td>\n",
       "      <td>NaN</td>\n",
       "      <td>NaN</td>\n",
       "    </tr>\n",
       "    <tr>\n",
       "      <th>1</th>\n",
       "      <td>D_ALL</td>\n",
       "      <td>Acute lymphoblastic leukemias (St. Jude Childr...</td>\n",
       "      <td>STJUDE</td>\n",
       "      <td>WGS</td>\n",
       "      <td>10.1038/ncomms7604</td>\n",
       "      <td>Primary</td>\n",
       "      <td>Untreated</td>\n",
       "      <td>Pediatric</td>\n",
       "      <td>278</td>\n",
       "      <td>154660</td>\n",
       "      <td>...</td>\n",
       "      <td>Acute lymphoblastic leukemia (ALL)</td>\n",
       "      <td>ALL</td>\n",
       "      <td>Lymphoid Neoplasm (LNM)</td>\n",
       "      <td>LNM</td>\n",
       "      <td>PANCANCER</td>\n",
       "      <td>Lymphoid (LYMPH)</td>\n",
       "      <td>Lymphoid Neoplasm (LNM)</td>\n",
       "      <td>Acute lymphoblastic leukemia (ALL)</td>\n",
       "      <td>NaN</td>\n",
       "      <td>NaN</td>\n",
       "    </tr>\n",
       "    <tr>\n",
       "      <th>2</th>\n",
       "      <td>PCAWG_WGS_MYELOID_AML</td>\n",
       "      <td>Acute myeloid leukemias (PCAWG)</td>\n",
       "      <td>PCAWG</td>\n",
       "      <td>WGS</td>\n",
       "      <td>10.1101/162784</td>\n",
       "      <td>Primary</td>\n",
       "      <td>Untreated</td>\n",
       "      <td>Adult</td>\n",
       "      <td>13</td>\n",
       "      <td>18413</td>\n",
       "      <td>...</td>\n",
       "      <td>Acute Myeloid Leukemia (AML)</td>\n",
       "      <td>AML</td>\n",
       "      <td>Myeloid Neoplasm (MNM)</td>\n",
       "      <td>MNM</td>\n",
       "      <td>PANCANCER</td>\n",
       "      <td>Myeloid (MYELOID)</td>\n",
       "      <td>Myeloid Neoplasm (MNM)</td>\n",
       "      <td>Acute Myeloid Leukemia (AML)</td>\n",
       "      <td>NaN</td>\n",
       "      <td>NaN</td>\n",
       "    </tr>\n",
       "  </tbody>\n",
       "</table>\n",
       "<p>3 rows × 24 columns</p>\n",
       "</div>"
      ],
      "text/plain": [
       "                  COHORT                        COHORT_MANUSCRIPT_LONG_NAME  \\\n",
       "0                  D_ACC  Adrenocortical carcinomas (St. Jude Children's...   \n",
       "1                  D_ALL  Acute lymphoblastic leukemias (St. Jude Childr...   \n",
       "2  PCAWG_WGS_MYELOID_AML                    Acute myeloid leukemias (PCAWG)   \n",
       "\n",
       "   SOURCE PLATFORM       REFERENCE_DOI     TYPE    TREATED        AGE  \\\n",
       "0  STJUDE      WGS  10.1038/ncomms7302  Primary  Untreated  Pediatric   \n",
       "1  STJUDE      WGS  10.1038/ncomms7604  Primary  Untreated  Pediatric   \n",
       "2   PCAWG      WGS      10.1101/162784  Primary  Untreated      Adult   \n",
       "\n",
       "   SAMPLES  MUTATIONS_TOTAL  ...                        LEVEL_A_LONG  LEVEL_A  \\\n",
       "0       20            16649  ...      Adrenocortical Carcinoma (ACC)      ACC   \n",
       "1      278           154660  ...  Acute lymphoblastic leukemia (ALL)      ALL   \n",
       "2       13            18413  ...        Acute Myeloid Leukemia (AML)      AML   \n",
       "\n",
       "              LEVEL_B_LONG  LEVEL_B    LEVEL_0                        LEVEL_1  \\\n",
       "0                     None     None  PANCANCER  Adrenal Gland (ADRENAL_GLAND)   \n",
       "1  Lymphoid Neoplasm (LNM)      LNM  PANCANCER               Lymphoid (LYMPH)   \n",
       "2   Myeloid Neoplasm (MNM)      MNM  PANCANCER              Myeloid (MYELOID)   \n",
       "\n",
       "                          LEVEL_2                             LEVEL_3 LEVEL_4  \\\n",
       "0  Adrenocortical Carcinoma (ACC)                                 NaN     NaN   \n",
       "1         Lymphoid Neoplasm (LNM)  Acute lymphoblastic leukemia (ALL)     NaN   \n",
       "2          Myeloid Neoplasm (MNM)        Acute Myeloid Leukemia (AML)     NaN   \n",
       "\n",
       "  LEVEL_5  \n",
       "0     NaN  \n",
       "1     NaN  \n",
       "2     NaN  \n",
       "\n",
       "[3 rows x 24 columns]"
      ]
     },
     "execution_count": 5,
     "metadata": {},
     "output_type": "execute_result"
    }
   ],
   "source": [
    "# Cohorts \n",
    "cohort_f = os.path.join(data_dir, 'EV_datasets', 'EV1_table.txt')\n",
    "cohort_df = pd.read_csv(cohort_f, sep='\\t', header=0)\n",
    "cohort_df.head(3)"
   ]
  },
  {
   "cell_type": "code",
   "execution_count": 6,
   "metadata": {},
   "outputs": [
    {
     "data": {
      "text/plain": [
       "(41, 8)"
      ]
     },
     "execution_count": 6,
     "metadata": {},
     "output_type": "execute_result"
    }
   ],
   "source": [
    "# Cancer types\n",
    "ctype_f = os.path.join(data_dir, 'EV_datasets', 'EV2_table.txt')\n",
    "ctype_df = pd.read_csv(ctype_f, sep='\\t', header=0)\n",
    "ctype_level_A = list(ctype_df.loc[ctype_df['LEVEL_ANALYSIS'] == 'A']['CANCER_TYPE'])\n",
    "ctype_level_B = list(ctype_df.loc[ctype_df['LEVEL_ANALYSIS'] == 'B']['CANCER_TYPE'])\n",
    "len(ctype_level_A), len(ctype_level_B)"
   ]
  },
  {
   "cell_type": "code",
   "execution_count": 7,
   "metadata": {},
   "outputs": [
    {
     "data": {
      "text/html": [
       "<div>\n",
       "<style scoped>\n",
       "    .dataframe tbody tr th:only-of-type {\n",
       "        vertical-align: middle;\n",
       "    }\n",
       "\n",
       "    .dataframe tbody tr th {\n",
       "        vertical-align: top;\n",
       "    }\n",
       "\n",
       "    .dataframe thead th {\n",
       "        text-align: right;\n",
       "    }\n",
       "</style>\n",
       "<table border=\"1\" class=\"dataframe\">\n",
       "  <thead>\n",
       "    <tr style=\"text-align: right;\">\n",
       "      <th></th>\n",
       "      <th>CANCER_TYPE</th>\n",
       "      <th>NUMBER_SAMPLES</th>\n",
       "      <th>HOTSPOTS_TOTAL</th>\n",
       "      <th>HOTSPOTS_SNV</th>\n",
       "      <th>HOTSPOTS_SNV_F</th>\n",
       "      <th>HOTSPOTS_MNV</th>\n",
       "      <th>HOTSPOTS_MNV_F</th>\n",
       "      <th>HOTSPOTS_INS</th>\n",
       "      <th>HOTSPOTS_INS_F</th>\n",
       "      <th>HOTSPOTS_DEL</th>\n",
       "      <th>...</th>\n",
       "      <th>MUTATIONS_TOTAL</th>\n",
       "      <th>MUTATIONS_SNV</th>\n",
       "      <th>MUTATIONS_MNV</th>\n",
       "      <th>MUTATIONS_INS</th>\n",
       "      <th>MUTATIONS_DEL</th>\n",
       "      <th>MUTATIONS_IN_H_TOTAL</th>\n",
       "      <th>MUTATIONS_IN_H_SNV</th>\n",
       "      <th>MUTATIONS_IN_H_MNV</th>\n",
       "      <th>MUTATIONS_IN_H_INS</th>\n",
       "      <th>MUTATIONS_IN_H_DEL</th>\n",
       "    </tr>\n",
       "  </thead>\n",
       "  <tbody>\n",
       "    <tr>\n",
       "      <th>0</th>\n",
       "      <td>ACC</td>\n",
       "      <td>20</td>\n",
       "      <td>2</td>\n",
       "      <td>1</td>\n",
       "      <td>0.500000</td>\n",
       "      <td>0</td>\n",
       "      <td>0.0</td>\n",
       "      <td>0</td>\n",
       "      <td>0.000000</td>\n",
       "      <td>1</td>\n",
       "      <td>...</td>\n",
       "      <td>16032</td>\n",
       "      <td>15999</td>\n",
       "      <td>0</td>\n",
       "      <td>8</td>\n",
       "      <td>25</td>\n",
       "      <td>4</td>\n",
       "      <td>2</td>\n",
       "      <td>0</td>\n",
       "      <td>0</td>\n",
       "      <td>2</td>\n",
       "    </tr>\n",
       "    <tr>\n",
       "      <th>1</th>\n",
       "      <td>ALL</td>\n",
       "      <td>277</td>\n",
       "      <td>377</td>\n",
       "      <td>371</td>\n",
       "      <td>0.984085</td>\n",
       "      <td>0</td>\n",
       "      <td>0.0</td>\n",
       "      <td>3</td>\n",
       "      <td>0.007958</td>\n",
       "      <td>3</td>\n",
       "      <td>...</td>\n",
       "      <td>148459</td>\n",
       "      <td>148006</td>\n",
       "      <td>192</td>\n",
       "      <td>148</td>\n",
       "      <td>113</td>\n",
       "      <td>859</td>\n",
       "      <td>844</td>\n",
       "      <td>0</td>\n",
       "      <td>8</td>\n",
       "      <td>7</td>\n",
       "    </tr>\n",
       "    <tr>\n",
       "      <th>2</th>\n",
       "      <td>AML</td>\n",
       "      <td>34</td>\n",
       "      <td>64</td>\n",
       "      <td>64</td>\n",
       "      <td>1.000000</td>\n",
       "      <td>0</td>\n",
       "      <td>0.0</td>\n",
       "      <td>0</td>\n",
       "      <td>0.000000</td>\n",
       "      <td>0</td>\n",
       "      <td>...</td>\n",
       "      <td>32370</td>\n",
       "      <td>31467</td>\n",
       "      <td>88</td>\n",
       "      <td>315</td>\n",
       "      <td>500</td>\n",
       "      <td>128</td>\n",
       "      <td>128</td>\n",
       "      <td>0</td>\n",
       "      <td>0</td>\n",
       "      <td>0</td>\n",
       "    </tr>\n",
       "  </tbody>\n",
       "</table>\n",
       "<p>3 rows × 21 columns</p>\n",
       "</div>"
      ],
      "text/plain": [
       "  CANCER_TYPE  NUMBER_SAMPLES  HOTSPOTS_TOTAL  HOTSPOTS_SNV  HOTSPOTS_SNV_F  \\\n",
       "0         ACC              20               2             1        0.500000   \n",
       "1         ALL             277             377           371        0.984085   \n",
       "2         AML              34              64            64        1.000000   \n",
       "\n",
       "   HOTSPOTS_MNV  HOTSPOTS_MNV_F  HOTSPOTS_INS  HOTSPOTS_INS_F  HOTSPOTS_DEL  \\\n",
       "0             0             0.0             0        0.000000             1   \n",
       "1             0             0.0             3        0.007958             3   \n",
       "2             0             0.0             0        0.000000             0   \n",
       "\n",
       "   ...  MUTATIONS_TOTAL  MUTATIONS_SNV  MUTATIONS_MNV  MUTATIONS_INS  \\\n",
       "0  ...            16032          15999              0              8   \n",
       "1  ...           148459         148006            192            148   \n",
       "2  ...            32370          31467             88            315   \n",
       "\n",
       "   MUTATIONS_DEL  MUTATIONS_IN_H_TOTAL  MUTATIONS_IN_H_SNV  \\\n",
       "0             25                     4                   2   \n",
       "1            113                   859                 844   \n",
       "2            500                   128                 128   \n",
       "\n",
       "   MUTATIONS_IN_H_MNV  MUTATIONS_IN_H_INS  MUTATIONS_IN_H_DEL  \n",
       "0                   0                   0                   2  \n",
       "1                   0                   8                   7  \n",
       "2                   0                   0                   0  \n",
       "\n",
       "[3 rows x 21 columns]"
      ]
     },
     "execution_count": 7,
     "metadata": {},
     "output_type": "execute_result"
    }
   ],
   "source": [
    "# Hotspots\n",
    "hotspots_f = os.path.join(data_dir, 'EV_datasets', 'EV4_table.txt')\n",
    "hotspots_df = pd.read_csv(hotspots_f, sep='\\t', header=0)\n",
    "hotspots_df.head(3)"
   ]
  },
  {
   "cell_type": "code",
   "execution_count": 8,
   "metadata": {},
   "outputs": [
    {
     "data": {
      "text/plain": [
       "[3, 8, 5, 27, 21, 6, 6, 3, 4, 13]"
      ]
     },
     "execution_count": 8,
     "metadata": {},
     "output_type": "execute_result"
    }
   ],
   "source": [
    "# Hotspots per sample\n",
    "total_hotspots_per_sample_f = os.path.join(data_dir, 'total_hotspots_per_sample.json')\n",
    "with open(total_hotspots_per_sample_f, 'r') as fd: \n",
    "    total_hotspots_per_sample_dict = json.load(fd)\n",
    "total_hotspots_per_sample_dict['ALL'][:10]"
   ]
  },
  {
   "cell_type": "code",
   "execution_count": 9,
   "metadata": {},
   "outputs": [
    {
     "data": {
      "text/plain": [
       "[395, 236, 616, 575, 329, 580, 344, 149, 428, 204]"
      ]
     },
     "execution_count": 9,
     "metadata": {},
     "output_type": "execute_result"
    }
   ],
   "source": [
    "# Mutations per sample\n",
    "total_mutations_per_sample_f = os.path.join(data_dir, 'total_mutations_per_sample.json')\n",
    "with open(total_mutations_per_sample_f, 'r') as fd: \n",
    "    total_mutations_per_sample_dict = json.load(fd)\n",
    "total_mutations_per_sample_dict['ALL'][:10]"
   ]
  },
  {
   "cell_type": "code",
   "execution_count": 10,
   "metadata": {},
   "outputs": [
    {
     "data": {
      "text/plain": [
       "87.00361010830325"
      ]
     },
     "execution_count": 10,
     "metadata": {},
     "output_type": "execute_result"
    }
   ],
   "source": [
    "# Fraction of samples with a hotspot\n",
    "fraction_samples_with_hotspot_f = os.path.join(data_dir, 'fraction_samples_with_hotspot.json')\n",
    "with open(fraction_samples_with_hotspot_f, 'r') as fd: \n",
    "    fraction_samples_with_hotspot_dict = json.load(fd)\n",
    "fraction_samples_with_hotspot_dict['ALL']"
   ]
  },
  {
   "cell_type": "markdown",
   "metadata": {},
   "source": [
    "### Parse data into dictionaries"
   ]
  },
  {
   "cell_type": "code",
   "execution_count": 11,
   "metadata": {
    "collapsed": true
   },
   "outputs": [],
   "source": [
    "# Number of hotspots and fraction of hotspots for each mutation type\n",
    "total_hotspots_dict = dict()\n",
    "hotspot_type_dict = defaultdict(dict)\n",
    "for ctype in ctype_level_A + ctype_level_B: \n",
    "    total_hotspots_dict[ctype] = hotspots_df.loc[hotspots_df['CANCER_TYPE'] == ctype]['HOTSPOTS_TOTAL'].iloc[0]\n",
    "    for mutype in ['snv', 'mnv', 'ins', 'del']: \n",
    "        hotspot_type_dict[ctype][mutype] = hotspots_df.loc[hotspots_df['CANCER_TYPE'] == ctype][f'HOTSPOTS_{mutype.upper()}_F'].iloc[0]"
   ]
  },
  {
   "cell_type": "code",
   "execution_count": 12,
   "metadata": {},
   "outputs": [
    {
     "data": {
      "text/plain": [
       "(377,\n",
       " {'snv': 0.984084880636605,\n",
       "  'mnv': 0.0,\n",
       "  'ins': 0.007957559681698001,\n",
       "  'del': 0.007957559681698001})"
      ]
     },
     "execution_count": 12,
     "metadata": {},
     "output_type": "execute_result"
    }
   ],
   "source": [
    "total_hotspots_dict['ALL'], hotspot_type_dict['ALL']"
   ]
  },
  {
   "cell_type": "code",
   "execution_count": 13,
   "metadata": {
    "collapsed": true
   },
   "outputs": [],
   "source": [
    "# Number of mutations and fraction of mutations for each mutation type\n",
    "total_mutations_dict = dict()\n",
    "mutation_type_dict = defaultdict(dict)\n",
    "for ctype in ctype_level_A + ctype_level_B: \n",
    "    total_mutations_dict[ctype] = hotspots_df.loc[hotspots_df['CANCER_TYPE'] == ctype]['MUTATIONS_TOTAL'].iloc[0]\n",
    "    for mutype in ['snv', 'mnv', 'ins', 'del']: \n",
    "        mutation_type_dict[ctype][mutype] = hotspots_df.loc[hotspots_df['CANCER_TYPE'] == ctype][f'MUTATIONS_{mutype.upper()}'].iloc[0] / total_mutations_dict[ctype]"
   ]
  },
  {
   "cell_type": "code",
   "execution_count": 14,
   "metadata": {},
   "outputs": [
    {
     "data": {
      "text/plain": [
       "(148459,\n",
       " {'snv': 0.996948652489913,\n",
       "  'mnv': 0.0012932863618911618,\n",
       "  'ins': 0.000996908237291104,\n",
       "  'del': 0.0007611529109046942})"
      ]
     },
     "execution_count": 14,
     "metadata": {},
     "output_type": "execute_result"
    }
   ],
   "source": [
    "total_mutations_dict['ALL'], mutation_type_dict['ALL']"
   ]
  },
  {
   "cell_type": "code",
   "execution_count": 15,
   "metadata": {
    "collapsed": true
   },
   "outputs": [],
   "source": [
    "# Number of samples\n",
    "number_samples_dict = dict()\n",
    "for ctype in ctype_level_A + ctype_level_B: \n",
    "    number_samples_dict[ctype] = hotspots_df.loc[hotspots_df['CANCER_TYPE'] == ctype]['NUMBER_SAMPLES'].iloc[0]"
   ]
  },
  {
   "cell_type": "code",
   "execution_count": 16,
   "metadata": {},
   "outputs": [
    {
     "data": {
      "text/plain": [
       "7506"
      ]
     },
     "execution_count": 16,
     "metadata": {},
     "output_type": "execute_result"
    }
   ],
   "source": [
    "# Note that 7,506 samples are available, since 1 sample has no mutations in the mappable genome after filtering\n",
    "# Thus this sample (D_ALL cohort in ALL, LNM and PANCANCER cancer types) cannot be analysed\n",
    "number_samples_dict['PANCANCER']"
   ]
  },
  {
   "cell_type": "code",
   "execution_count": 17,
   "metadata": {
    "collapsed": true
   },
   "outputs": [],
   "source": [
    "# Fraction of primary and metastatic samples per cancer type\n",
    "fraction_primet_dict = defaultdict(dict)\n",
    "for ctype in ctype_level_A + ctype_level_B: \n",
    "    cohorts = ctype_df.loc[ctype_df['CANCER_TYPE'] == ctype]['COHORTS'].iloc[0].split(';')\n",
    "    primet_counts = defaultdict(int)\n",
    "    for cohort in cohorts: \n",
    "        stage = cohort_df.loc[cohort_df['COHORT'] == cohort]['TYPE'].iloc[0]\n",
    "        n_samples = cohort_df.loc[cohort_df['COHORT'] == cohort]['SAMPLES'].iloc[0]\n",
    "        if cohort == 'D_ALL': \n",
    "            # Remove sample with no mutations in the mappable genome\n",
    "            n_samples = n_samples - 1\n",
    "        primet_counts[stage] += n_samples\n",
    "    fraction_primet_dict[ctype]['Primary'] = primet_counts['Primary'] / number_samples_dict[ctype]\n",
    "    fraction_primet_dict[ctype]['Metastasis'] = primet_counts['Metastasis'] / number_samples_dict[ctype]\n",
    "    \n",
    "    if fraction_primet_dict[ctype]['Primary'] + fraction_primet_dict[ctype]['Metastasis'] != 1: \n",
    "        print(ctype)"
   ]
  },
  {
   "cell_type": "code",
   "execution_count": 18,
   "metadata": {},
   "outputs": [
    {
     "data": {
      "text/plain": [
       "{'Primary': 0.24872448979591838, 'Metastasis': 0.7512755102040817}"
      ]
     },
     "execution_count": 18,
     "metadata": {},
     "output_type": "execute_result"
    }
   ],
   "source": [
    "fraction_primet_dict['BRCA']"
   ]
  },
  {
   "cell_type": "markdown",
   "metadata": {},
   "source": [
    "## Panel 1F"
   ]
  },
  {
   "cell_type": "code",
   "execution_count": 19,
   "metadata": {},
   "outputs": [
    {
     "name": "stdout",
     "output_type": "stream",
     "text": [
      "RBL has 0 hotspots and will be excluded from the plot\n"
     ]
    }
   ],
   "source": [
    "# Sort cancer types based on the number of total hotspots\n",
    "sorted_ctypes_level = []\n",
    "for ctype in ctype_level_A: \n",
    "    value = total_hotspots_dict[ctype]\n",
    "    if value > 0: \n",
    "        sorted_ctypes_level.append((ctype, value))\n",
    "    else: \n",
    "        print(f'{ctype} has {value} hotspots and will be excluded from the plot')\n",
    "sorted_ctypes_level = [i[0] for i in sorted(sorted_ctypes_level, key=lambda x: x[1], reverse=True)]"
   ]
  },
  {
   "cell_type": "code",
   "execution_count": 20,
   "metadata": {},
   "outputs": [
    {
     "data": {
      "text/plain": [
       "['SKCM', 'COADREAD', 'ES']"
      ]
     },
     "execution_count": 20,
     "metadata": {},
     "output_type": "execute_result"
    }
   ],
   "source": [
    "sorted_ctypes_level[:3]"
   ]
  },
  {
   "cell_type": "code",
   "execution_count": 21,
   "metadata": {},
   "outputs": [
    {
     "data": {
      "image/png": "[encoded data removed]",
      "text/plain": [
       "<Figure size 297x297 with 9 Axes>"
      ]
     },
     "metadata": {
      "needs_background": "light"
     },
     "output_type": "display_data"
    }
   ],
   "source": [
    "########## Plot params\n",
    "\n",
    "plt.rc('axes', edgecolor='grey')\n",
    "\n",
    "fig, ax = plt.subplots(\n",
    "    9, \n",
    "    sharex='col', \n",
    "    figsize=(4.125, 4.125), \n",
    "     gridspec_kw={'height_ratios': [1, 0.25, 1, 0.25, 1, 1, 0.25, 0.25, 0.25]}\n",
    ") \n",
    "plt.subplots_adjust(left=0.1,\n",
    "                    bottom=0.1, \n",
    "                    right=0.9, \n",
    "                    top=0.9, \n",
    "                    wspace=0.1, \n",
    "                    hspace=0.1)\n",
    "\n",
    "########## Data to plot\n",
    "ctypes = sorted_ctypes_level\n",
    "\n",
    "\n",
    "## SUBPLOT 0 (HOTSPOTS PER CANCER TYPE)\n",
    "axis_key = 0\n",
    "x = []\n",
    "y_data = []\n",
    "for ctype in ctypes:\n",
    "    x += [ctype]\n",
    "    log_n_hotspots = np.log10(total_hotspots_dict[ctype] + 1) # Pseudocount added to visualise EPD\n",
    "    y_data += [log_n_hotspots]\n",
    "\n",
    "ax[axis_key].bar(x, y_data, width=0.8, bottom=None, align='center', color=color_data['total'])\n",
    "ax[axis_key].set_yticks([0, 1, 2, 3, 4, 5, 6])\n",
    "ymax = 6.5\n",
    "ax[axis_key].set_ylim(ymin=0, ymax=ymax)\n",
    "ax[axis_key].set_yticklabels(['1','10', '100', '1e3','1e4', '1e5', '1e6'])\n",
    "x_labels_to_show = []\n",
    "for ctype in x: \n",
    "    n = number_samples_dict[ctype]\n",
    "    x_labels_to_show.append(f'{ctype} ({n})')\n",
    "\n",
    "    \n",
    "## SUBPLOT 1 (HOTSPOT MUTATION TYPE)\n",
    "axis_key = 1\n",
    "y_data = {\n",
    "    'snv' : [],\n",
    "    'mnv' : [],\n",
    "    'ins' : [],\n",
    "    'del' : [],\n",
    "}\n",
    "for ctype in ctypes:\n",
    "    y = {}\n",
    "    for mutype in ['snv', 'mnv', 'ins', 'del']: \n",
    "        y_data[mutype] += [100 * hotspot_type_dict[ctype][mutype]]\n",
    "\n",
    "ax[axis_key].bar(x_labels_to_show, y_data['snv'], width=0.8, bottom=None, align='center', color=color_data['snv'], alpha=1)\n",
    "bottom = y_data['snv']\n",
    "ax[axis_key].bar(x_labels_to_show, y_data['mnv'], width=0.8, bottom=bottom, align='center', color=color_data['mnv'], alpha=1)\n",
    "bottom = list(map(sum, zip(y_data['snv'], y_data['mnv'])))\n",
    "ax[axis_key].bar(x_labels_to_show, y_data['ins'], width=0.8, bottom=bottom, align='center', color=color_data['ins'], alpha=1)\n",
    "bottom = list(map(sum, zip(y_data['snv'], y_data['mnv'], y_data['ins'])))\n",
    "ax[axis_key].bar(x_labels_to_show, y_data['del'], width=0.8, bottom=bottom, align='center', color=color_data['del'], alpha=1)\n",
    "ax[axis_key].set_yticks([50])\n",
    "    \n",
    "    \n",
    "## SUBPLOT 2 (NUMBER OF MUTATIONS)\n",
    "axis_key = 2    \n",
    "y = []\n",
    "for ctype in ctypes:\n",
    "    y += [total_mutations_dict[ctype]]\n",
    "ax[axis_key].bar(x_labels_to_show, np.log10(y), width=0.8, align='center', color=color_data['mutations'], alpha=1)\n",
    "ax[axis_key].set_yticks([3, 4, 5, 6, 7])\n",
    "ax[axis_key].set_ylim(ymin=2.5, ymax=8)\n",
    "ax[axis_key].set_yticklabels(['1e3', '1e4', '1e5', '1e6', '1e7'])\n",
    "\n",
    "\n",
    "## SUBPLOT 3 (MUTATION TYPE)\n",
    "axis_key = 3\n",
    "y_data = {\n",
    "    'snv' : [],\n",
    "    'mnv' : [],\n",
    "    'ins' : [],\n",
    "    'del' : [],\n",
    "}\n",
    "for ctype in ctypes:\n",
    "    for mutype in ['snv', 'mnv', 'ins', 'del']: \n",
    "        y_data[mutype] += [100 * mutation_type_dict[ctype][mutype]]\n",
    "\n",
    "ax[axis_key].bar(x_labels_to_show, y_data['snv'], width=0.8, bottom=None, align='center', color=color_data['snv'], alpha=1)\n",
    "bottom = y_data['snv']\n",
    "ax[axis_key].bar(x_labels_to_show, y_data['mnv'], width=0.8, bottom=bottom, align='center', color=color_data['mnv'], alpha=1)\n",
    "bottom = list(map(sum, zip(y_data['snv'], y_data['mnv'])))\n",
    "ax[axis_key].bar(x_labels_to_show, y_data['ins'], width=0.8, bottom=bottom, align='center', color=color_data['ins'], alpha=1)\n",
    "bottom = list(map(sum, zip(y_data['snv'], y_data['mnv'], y_data['ins'])))\n",
    "ax[axis_key].bar(x_labels_to_show, y_data['del'], width=0.8, bottom=bottom, align='center', color=color_data['del'], alpha=1)\n",
    "ax[axis_key].set_yticks([50])\n",
    "\n",
    "\n",
    "## SUBPLOT 4 (HOTSPOTS PER SAMPLE)\n",
    "axis_key = 4\n",
    "x = []\n",
    "y = []\n",
    "x_median = []\n",
    "y_median = []\n",
    "for i, ctype in enumerate(ctypes): \n",
    "    hotspots_per_sample = [i for i in total_hotspots_per_sample_dict[ctype] if i > 0]    \n",
    "    hotspots_per_sample_log = list(map(lambda z: np.log10(z), sorted(hotspots_per_sample, reverse=False)))\n",
    "    y += hotspots_per_sample_log\n",
    "    # Scatter dots evenly across the x axis\n",
    "    x_sub = list(np.arange(start=i-0.25, stop=i+0.25, step=0.5/len(hotspots_per_sample_log)))\n",
    "    # Remove decimal point artifact in x to match sample size in x and y\n",
    "    if len(x_sub) == len(hotspots_per_sample_log): \n",
    "        x += x_sub\n",
    "    else: \n",
    "        x += x_sub[:-1]\n",
    "    x_median += [i]\n",
    "    y_median += [np.median(hotspots_per_sample_log)]\n",
    "\n",
    "color = [color_data['total']] * len(y)\n",
    "ax[axis_key].scatter(x, y, color=color, alpha=0.75, marker='.', s=4, linewidth=0)\n",
    "ax[axis_key].scatter(x_median, y_median, alpha=0.5, color='red', marker='_', linewidths=0.5, s=25)\n",
    "ax[axis_key].set_yticks([0, 1, 2, 3, 4])\n",
    "ax[axis_key].set_yticklabels(['1','10', '100', '1e3', '1e4'])\n",
    "ax[axis_key].set_ylim(ymin=-0.5, ymax=5)\n",
    "\n",
    "## SUBPLOT (MUTATIONS PER SAMPLE)\n",
    "axis_key = 5\n",
    "x = []\n",
    "y = []\n",
    "x_median = []\n",
    "y_median = []\n",
    "for i, ctype in enumerate(ctypes): \n",
    "    mutations_per_sample = [i for i in total_mutations_per_sample_dict[ctype] if i > 0]    \n",
    "    mutations_per_sample_log = list(map(lambda z: np.log10(z), sorted(mutations_per_sample, reverse=False)))\n",
    "    y += mutations_per_sample_log\n",
    "    # Scatter dots evenly across the x axis\n",
    "    x_sub = list(np.arange(start=i-0.25, stop=i+0.25, step=0.5/len(mutations_per_sample_log)))\n",
    "    # Remove decimal point artifact in x to match sample size in x and y\n",
    "    if len(x_sub) == len(mutations_per_sample_log): \n",
    "        x += x_sub\n",
    "    else: \n",
    "        x += x_sub[:-1]\n",
    "    x_median += [i]\n",
    "    y_median += [np.median(mutations_per_sample_log)]\n",
    "    \n",
    "color = [color_data['mutations']] * len(y)\n",
    "ax[axis_key].scatter(x, y, color=color, alpha=0.75, marker='.', s=4, linewidth=0)\n",
    "ax[axis_key].scatter(x_median, y_median, alpha=0.5, color='red', marker='_', linewidths=0.5, s=25)\n",
    "ax[axis_key].set_yticks([np.log10(1), 1, 2, 3, 4, 5])\n",
    "ax[axis_key].set_yticklabels(['1', '10', '100', '1e3', '1e4', '1e5'])\n",
    "ax[axis_key].set_ylim(ymin=-0.5, ymax=6)\n",
    "\n",
    "\n",
    "## SUBPLOT (% SAMPLES WITH A HOTSPOT)\n",
    "axis_key = 6\n",
    "y = []\n",
    "for ctype in ctypes:\n",
    "    y += [fraction_samples_with_hotspot_dict[ctype]]\n",
    "ax[axis_key].bar(x_labels_to_show, y, width=0.8, bottom=None, align='center', color='#ff9a55ff')\n",
    "ax[axis_key].set_yticks([50])\n",
    "ax[axis_key].set_ylim(ymin=0, ymax=110)\n",
    "\n",
    "\n",
    "## SUBPLOT (# SAMPLES PER CANCER TYPE)\n",
    "axis_key = 7\n",
    "y = []\n",
    "for ctype in ctypes:\n",
    "    y += [number_samples_dict[ctype]]\n",
    "ax[axis_key].bar(x_labels_to_show, y, width=0.8, bottom=None, align='center', color='#ff9a55ff') \n",
    "ax[axis_key].set_yticks([100, 500, 1000])\n",
    "ax[axis_key].set_ylim(ymin=0, ymax=1200)\n",
    "\n",
    "\n",
    "## SUBPLOT (PROPORTION OF PRIMARIES AND METASTASES)\n",
    "axis_key = 8\n",
    "y_data = {\n",
    "    'Primary' : [],\n",
    "    'Metastasis' : []\n",
    "}\n",
    "for ctype in ctypes:\n",
    "    for dtype in ['Primary', 'Metastasis']: \n",
    "        y_data[dtype].append(100 * fraction_primet_dict[ctype][dtype])\n",
    "\n",
    "ax[axis_key].bar(x_labels_to_show, y_data['Primary'], width=0.8, bottom=None, align='center', color=color_data['Primary'], alpha=1)\n",
    "bottom = y_data['Primary']\n",
    "ax[axis_key].bar(x_labels_to_show, y_data['Metastasis'], width=0.8, bottom=bottom, align='center', color=color_data['Metastasis'], alpha=1)\n",
    "ax[axis_key].set_yticks([50])\n",
    "\n",
    "\n",
    "########## X axis\n",
    "ax[0].set_xlabel('')\n",
    "plt.xticks(rotation=90)\n",
    "\n",
    "########## Y axis\n",
    "ylabels_dict = {\n",
    "    0: '# hotspots', \n",
    "    1: 'hotspot\\ntype (%)',\n",
    "    2: '# mutations',\n",
    "    3: 'mutation\\ntype (%)',\n",
    "    4: '# hotspots\\nper sample', \n",
    "    5: '# mutations\\nper sample', \n",
    "    6: 'samples with\\nhotspots (%)', \n",
    "    7: '# samples',\n",
    "    8: 'type',\n",
    "}\n",
    "\n",
    "for key, value in ylabels_dict.items(): \n",
    "    ax[key].set_axisbelow(True)\n",
    "    ax[key].set_ylabel(value, fontsize=6, rotation=0, labelpad=25)\n",
    "    ax[key].grid(color='lightgrey', linestyle='--', linewidth=0.4)\n",
    "    for tick in ax[key].yaxis.get_major_ticks():\n",
    "        tick.label.set_fontsize(4) \n",
    "    for tick in ax[key].xaxis.get_major_ticks():\n",
    "            tick.label.set_fontsize(5) \n",
    "            \n",
    "    for location in ['top', 'bottom', 'left', 'right']:\n",
    "        ax[key].spines[location].set_linewidth(0.4)\n",
    "        \n",
    "    ax[key].tick_params(axis = \"x\", which = \"both\", bottom=False)\n",
    "    ax[key].tick_params(axis = \"y\", which = \"both\", left=False)\n",
    "    \n",
    "    ax[key].tick_params(axis='both', which='major', pad=0)\n",
    "\n",
    "\n",
    "plt.tick_params(axis = \"x\", which = \"both\", bottom=False)\n",
    "plt.tick_params(axis = \"y\", which = \"both\", left=False)\n",
    "plt.xlim([-1, len(ctypes)])\n",
    "plt.rc('axes', edgecolor='grey')\n",
    "\n",
    "for extension in ['png']: \n",
    "    output = f'./fig_1F.{extension}'\n",
    "    plt.savefig(output, bbox_inches='tight', dpi=350)"
   ]
  },
  {
   "cell_type": "markdown",
   "metadata": {},
   "source": [
    "## Panel 1G"
   ]
  },
  {
   "cell_type": "code",
   "execution_count": 22,
   "metadata": {
    "collapsed": true
   },
   "outputs": [],
   "source": [
    "# Sort cancer types based on the number of total hotspots\n",
    "sorted_ctypes_level = []\n",
    "for ctype in ctype_level_B: \n",
    "    value = total_hotspots_dict[ctype]\n",
    "    if value > 0: \n",
    "        sorted_ctypes_level.append((ctype, value))\n",
    "    else: \n",
    "        print(f'{ctype} has {value} hotspots and will be excluded from the plot')\n",
    "sorted_ctypes_level = [i[0] for i in sorted(sorted_ctypes_level, key=lambda x: x[1], reverse=True)]"
   ]
  },
  {
   "cell_type": "code",
   "execution_count": 23,
   "metadata": {},
   "outputs": [
    {
     "data": {
      "text/plain": [
       "['PANCANCER', 'SKIN', 'BOWEL', 'ESOPHA_STOMACH', 'LUNG', 'LNM', 'BRAIN', 'MNM']"
      ]
     },
     "execution_count": 23,
     "metadata": {},
     "output_type": "execute_result"
    }
   ],
   "source": [
    "sorted_ctypes_level"
   ]
  },
  {
   "cell_type": "code",
   "execution_count": 24,
   "metadata": {},
   "outputs": [
    {
     "data": {
      "image/png": "[encoded data removed]",
      "text/plain": [
       "<Figure size 67.5x297 with 9 Axes>"
      ]
     },
     "metadata": {
      "needs_background": "light"
     },
     "output_type": "display_data"
    }
   ],
   "source": [
    "########## Plot params\n",
    "\n",
    "plt.rc('axes', edgecolor='grey')\n",
    "\n",
    "fig, ax = plt.subplots(\n",
    "    9, \n",
    "    sharex='col', \n",
    "    figsize=(0.9375, 4.125), \n",
    "        gridspec_kw={'height_ratios': [1, 0.25, 1, 0.25, 1, 1, 0.25, 0.25, 0.25]}\n",
    ") \n",
    "plt.subplots_adjust(left=0.1,\n",
    "                    bottom=0.1, \n",
    "                    right=0.9, \n",
    "                    top=0.9, \n",
    "                    wspace=0.1, \n",
    "                    hspace=0.1)\n",
    "\n",
    "########## Data to plot\n",
    "ctypes = sorted_ctypes_level\n",
    "\n",
    "\n",
    "## SUBPLOT 0 (HOTSPOTS PER CANCER TYPE)\n",
    "axis_key = 0\n",
    "x = []\n",
    "y_data = []\n",
    "for ctype in ctypes:\n",
    "    x += [ctype]\n",
    "    log_n_hotspots = np.log10(total_hotspots_dict[ctype] + 1) # Pseudocount added to visualise EPD\n",
    "    y_data += [log_n_hotspots]\n",
    "\n",
    "ax[axis_key].bar(x, y_data, width=0.8, bottom=None, align='center', color=color_data['total'])\n",
    "ax[axis_key].set_yticks([0, 1, 2, 3, 4, 5, 6])\n",
    "ymax = 7\n",
    "ax[axis_key].set_ylim(ymin=0, ymax=ymax)\n",
    "ax[axis_key].set_yticklabels(['1','10', '100', '1e3','1e4', '1e5', '1e6'])\n",
    "x_labels_to_show = []\n",
    "for ctype in x: \n",
    "    n = number_samples_dict[ctype]\n",
    "    x_labels_to_show.append(f'{ctype} ({n})')\n",
    "\n",
    "    \n",
    "## SUBPLOT 1 (HOTSPOT MUTATION TYPE)\n",
    "axis_key = 1\n",
    "y_data = {\n",
    "    'snv' : [],\n",
    "    'mnv' : [],\n",
    "    'ins' : [],\n",
    "    'del' : [],\n",
    "}\n",
    "for ctype in ctypes:\n",
    "    y = {}\n",
    "    for mutype in ['snv', 'mnv', 'ins', 'del']: \n",
    "        y_data[mutype] += [100 * hotspot_type_dict[ctype][mutype]]\n",
    "\n",
    "ax[axis_key].bar(x_labels_to_show, y_data['snv'], width=0.8, bottom=None, align='center', color=color_data['snv'], alpha=1)\n",
    "bottom = y_data['snv']\n",
    "ax[axis_key].bar(x_labels_to_show, y_data['mnv'], width=0.8, bottom=bottom, align='center', color=color_data['mnv'], alpha=1)\n",
    "bottom = list(map(sum, zip(y_data['snv'], y_data['mnv'])))\n",
    "ax[axis_key].bar(x_labels_to_show, y_data['ins'], width=0.8, bottom=bottom, align='center', color=color_data['ins'], alpha=1)\n",
    "bottom = list(map(sum, zip(y_data['snv'], y_data['mnv'], y_data['ins'])))\n",
    "ax[axis_key].bar(x_labels_to_show, y_data['del'], width=0.8, bottom=bottom, align='center', color=color_data['del'], alpha=1)\n",
    "ax[axis_key].set_yticks([50])\n",
    "    \n",
    "    \n",
    "## SUBPLOT 2 (NUMBER OF MUTATIONS)\n",
    "axis_key = 2    \n",
    "y = []\n",
    "for ctype in ctypes:\n",
    "    y += [total_mutations_dict[ctype]]\n",
    "ax[axis_key].bar(x_labels_to_show, np.log10(y), width=0.8, align='center', color=color_data['mutations'], alpha=1)\n",
    "ax[axis_key].set_yticks([3, 4, 5, 6, 7, 8])\n",
    "ax[axis_key].set_ylim(ymin=2.5, ymax=9)\n",
    "ax[axis_key].set_yticklabels(['1e3', '1e4', '1e5', '1e6', '1e7', '1e8'])\n",
    "\n",
    "\n",
    "## SUBPLOT (MUTATION TYPE)\n",
    "axis_key = 3\n",
    "y_data = {\n",
    "    'snv' : [],\n",
    "    'mnv' : [],\n",
    "    'ins' : [],\n",
    "    'del' : [],\n",
    "}\n",
    "for ctype in ctypes:\n",
    "    for mutype in ['snv', 'mnv', 'ins', 'del']: \n",
    "        y_data[mutype] += [100 * mutation_type_dict[ctype][mutype]]\n",
    "\n",
    "ax[axis_key].bar(x_labels_to_show, y_data['snv'], width=0.8, bottom=None, align='center', color=color_data['snv'], alpha=1)\n",
    "bottom = y_data['snv']\n",
    "ax[axis_key].bar(x_labels_to_show, y_data['mnv'], width=0.8, bottom=bottom, align='center', color=color_data['mnv'], alpha=1)\n",
    "bottom = list(map(sum, zip(y_data['snv'], y_data['mnv'])))\n",
    "ax[axis_key].bar(x_labels_to_show, y_data['ins'], width=0.8, bottom=bottom, align='center', color=color_data['ins'], alpha=1)\n",
    "bottom = list(map(sum, zip(y_data['snv'], y_data['mnv'], y_data['ins'])))\n",
    "ax[axis_key].bar(x_labels_to_show, y_data['del'], width=0.8, bottom=bottom, align='center', color=color_data['del'], alpha=1)\n",
    "ax[axis_key].set_yticks([50])\n",
    "\n",
    "\n",
    "## SUBPLOT (HOTSPOTS PER SAMPLE)\n",
    "axis_key = 4\n",
    "x = []\n",
    "y = []\n",
    "x_median = []\n",
    "y_median = []\n",
    "for i, ctype in enumerate(ctypes): \n",
    "    hotspots_per_sample = [i for i in total_hotspots_per_sample_dict[ctype] if i > 0]    \n",
    "    hotspots_per_sample_log = list(map(lambda z: np.log10(z), sorted(hotspots_per_sample, reverse=False)))\n",
    "    y += hotspots_per_sample_log\n",
    "    # Scatter dots evenly across the x axis\n",
    "    x_sub = list(np.arange(start=i-0.25, stop=i+0.25, step=0.5/len(hotspots_per_sample_log)))\n",
    "    # Remove decimal point artifact in x to match sample size in x and y\n",
    "    if len(x_sub) == len(hotspots_per_sample_log): \n",
    "        x += x_sub\n",
    "    else: \n",
    "        x += x_sub[:-1]\n",
    "    x_median += [i]\n",
    "    y_median += [np.median(hotspots_per_sample_log)]\n",
    "\n",
    "color = [color_data['total']] * len(y)\n",
    "ax[axis_key].scatter(x, y, color=color, alpha=0.75, marker='.', s=4, linewidth=0)\n",
    "ax[axis_key].scatter(x_median, y_median, alpha=0.5, color='red', marker='_', linewidths=0.5, s=25)\n",
    "ax[axis_key].set_yticks([0, 1, 2, 3, 4, 5])\n",
    "ax[axis_key].set_yticklabels(['1','10', '100', '1e3', '1e4', '1e5'])\n",
    "ax[axis_key].set_ylim(ymin=-0.5, ymax=6)\n",
    "\n",
    "## SUBPLOT 5 (MUTATIONS PER SAMPLE)\n",
    "axis_key = 5\n",
    "x = []\n",
    "y = []\n",
    "x_median = []\n",
    "y_median = []\n",
    "for i, ctype in enumerate(ctypes): \n",
    "    mutations_per_sample = [i for i in total_mutations_per_sample_dict[ctype] if i > 0]    \n",
    "    mutations_per_sample_log = list(map(lambda z: np.log10(z), sorted(mutations_per_sample, reverse=False)))\n",
    "    y += mutations_per_sample_log\n",
    "    # Scatter dots evenly across the x axis\n",
    "    x_sub = list(np.arange(start=i-0.25, stop=i+0.25, step=0.5/len(mutations_per_sample_log)))\n",
    "    # Remove decimal point artifact in x to match sample size in x and y\n",
    "    if len(x_sub) == len(mutations_per_sample_log): \n",
    "        x += x_sub\n",
    "    else: \n",
    "        x += x_sub[:-1]\n",
    "    x_median += [i]\n",
    "    y_median += [np.median(mutations_per_sample_log)]\n",
    "    \n",
    "color = [color_data['mutations']] * len(y)\n",
    "ax[axis_key].scatter(x, y, color=color, alpha=0.75, marker='.', s=4, linewidth=0)\n",
    "ax[axis_key].scatter(x_median, y_median, alpha=0.5, color='red', marker='_', linewidths=0.5, s=25)\n",
    "ax[axis_key].set_yticks([np.log10(1), 1, 2, 3, 4, 5])\n",
    "ax[axis_key].set_yticklabels(['1', '10', '100', '1e3', '1e4', '1e5'])\n",
    "ax[axis_key].set_ylim(ymin=-0.5, ymax=6)\n",
    "\n",
    "\n",
    "## SUBPLOT (% SAMPLES WITH A HOTSPOT)\n",
    "axis_key = 6\n",
    "y = []\n",
    "for ctype in ctypes:\n",
    "    y += [fraction_samples_with_hotspot_dict[ctype]]\n",
    "ax[axis_key].bar(x_labels_to_show, y, width=0.8, bottom=None, align='center', color='#ff9a55ff')\n",
    "ax[axis_key].set_yticks([50])\n",
    "ax[axis_key].set_ylim(ymin=0, ymax=110)\n",
    "\n",
    "\n",
    "## SUBPLOT (# SAMPLES PER CANCER TYPE)\n",
    "axis_key = 7\n",
    "y = []\n",
    "for ctype in ctypes:\n",
    "    y += [number_samples_dict[ctype]]\n",
    "ax[axis_key].bar(x_labels_to_show, y, width=0.8, bottom=None, align='center', color='#ff9a55ff') \n",
    "ax[axis_key].set_yticks([1e3, 5e3])\n",
    "ax[axis_key].set_ylim(ymin=0, ymax=8000)\n",
    "\n",
    "## SUBPLOT (PROPORTION OF PRIMARIES AND METASTASES)\n",
    "axis_key = 8\n",
    "y_data = {\n",
    "    'Primary' : [],\n",
    "    'Metastasis' : []\n",
    "}\n",
    "for ctype in ctypes:\n",
    "    for dtype in ['Primary', 'Metastasis']: \n",
    "        y_data[dtype].append(100 * fraction_primet_dict[ctype][dtype])\n",
    "\n",
    "ax[axis_key].bar(x_labels_to_show, y_data['Primary'], width=0.8, bottom=None, align='center', color=color_data['Primary'], alpha=1)\n",
    "bottom = y_data['Primary']\n",
    "ax[axis_key].bar(x_labels_to_show, y_data['Metastasis'], width=0.8, bottom=bottom, align='center', color=color_data['Metastasis'], alpha=1)\n",
    "ax[axis_key].set_yticks([50])\n",
    "\n",
    "\n",
    "########## X axis\n",
    "ax[0].set_xlabel('')\n",
    "plt.xticks(rotation=90)\n",
    "\n",
    "########## Y axis\n",
    "ylabels_dict = {\n",
    "    0: '', \n",
    "    1: '',\n",
    "    2: '',\n",
    "    3: '',\n",
    "    4: '', \n",
    "    5: '', \n",
    "    6: '', \n",
    "    7: '',\n",
    "    8: '',\n",
    "}\n",
    "\n",
    "for key, value in ylabels_dict.items(): \n",
    "    ax[key].set_axisbelow(True)\n",
    "    ax[key].set_ylabel(value, fontsize=6, rotation=0, labelpad=25)\n",
    "    ax[key].grid(color='lightgrey', linestyle='--', linewidth=0.4)\n",
    "    for tick in ax[key].yaxis.get_major_ticks():\n",
    "        tick.label.set_fontsize(4) \n",
    "    for tick in ax[key].xaxis.get_major_ticks():\n",
    "            tick.label.set_fontsize(5) \n",
    "            \n",
    "    for location in ['top', 'bottom', 'left', 'right']:\n",
    "        ax[key].spines[location].set_linewidth(0.4)\n",
    "        \n",
    "    ax[key].tick_params(axis = \"x\", which = \"both\", bottom=False)\n",
    "    ax[key].tick_params(axis = \"y\", which = \"both\", left=False)\n",
    "    \n",
    "    ax[key].tick_params(axis='both', which='major', pad=0)\n",
    "\n",
    "\n",
    "plt.tick_params(axis = \"x\", which = \"both\", bottom=False)\n",
    "plt.tick_params(axis = \"y\", which = \"both\", left=False)\n",
    "plt.xlim([-1, len(ctypes)])\n",
    "plt.rc('axes', edgecolor='grey')\n",
    "\n",
    "for extension in ['png']: \n",
    "    output = f'./fig_1G.{extension}'\n",
    "    plt.savefig(output, bbox_inches='tight', dpi=350)"
   ]
  },
  {
   "cell_type": "code",
   "execution_count": null,
   "metadata": {
    "collapsed": true
   },
   "outputs": [],
   "source": []
  }
 ],
 "metadata": {
  "kernelspec": {
   "display_name": "Python [conda env:hotspot_propensity]",
   "language": "python",
   "name": "conda-env-hotspot_propensity-py"
  },
  "language_info": {
   "codemirror_mode": {
    "name": "ipython",
    "version": 3
   },
   "file_extension": ".py",
   "mimetype": "text/x-python",
   "name": "python",
   "nbconvert_exporter": "python",
   "pygments_lexer": "ipython3",
   "version": "3.6.13"
  }
 },
 "nbformat": 4,
 "nbformat_minor": 2
}
