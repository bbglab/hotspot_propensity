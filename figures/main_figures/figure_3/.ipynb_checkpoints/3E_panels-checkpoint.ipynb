{
 "cells": [
  {
   "cell_type": "markdown",
   "metadata": {},
   "source": [
    "# Hotspot propensity observed and expected from Fig 3E"
   ]
  },
  {
   "cell_type": "code",
   "execution_count": 1,
   "metadata": {
    "collapsed": true
   },
   "outputs": [],
   "source": [
    "import os\n",
    "from collections import defaultdict\n",
    "import json\n",
    "\n",
    "import matplotlib\n",
    "import matplotlib.pyplot as plt\n",
    "from matplotlib import rcParams\n",
    "from matplotlib.lines import Line2D\n",
    "import numpy as np\n",
    "import pandas as pd\n",
    "from scipy.stats import entropy"
   ]
  },
  {
   "cell_type": "code",
   "execution_count": 2,
   "metadata": {
    "collapsed": true
   },
   "outputs": [],
   "source": [
    "rcParams['font.family'] = 'sans-serif'\n",
    "rcParams['font.sans-serif'] = ['Arial']"
   ]
  },
  {
   "cell_type": "code",
   "execution_count": 3,
   "metadata": {
    "collapsed": true
   },
   "outputs": [],
   "source": [
    "data_dir = '../../../data'"
   ]
  },
  {
   "cell_type": "code",
   "execution_count": 4,
   "metadata": {
    "collapsed": true
   },
   "outputs": [],
   "source": [
    "sigs_color = {\n",
    "'SBS1': '#1e79baff',\n",
    " 'SBS2': '#ff9896ff',\n",
    " 'SBS3': '#f6c200ff', \n",
    " 'SBS4': '#00a572ff', \n",
    " 'SBS5': '#7ebdeaff',\n",
    " 'SBS7a': '#8c564bff', \n",
    " 'SBS7b': '#c49c94ff',\n",
    " 'SBS8': '#3dbe3dff',\n",
    " 'SBS13': '#d62728ff',\n",
    " 'SBS17a': '#ffbb78ff',\n",
    " 'SBS17b': '#ff8921ff', \n",
    " 'SBS18': '#9467bdff',\n",
    " 'SBS40': '#c2e0f5ff',\n",
    " 'SBS93': '#c5b0d5ff',\n",
    "}"
   ]
  },
  {
   "cell_type": "code",
   "execution_count": 5,
   "metadata": {
    "collapsed": true
   },
   "outputs": [],
   "source": [
    "signatures_to_plot = list(sigs_color.keys())"
   ]
  },
  {
   "cell_type": "markdown",
   "metadata": {},
   "source": [
    "### Load data\n",
    "\n",
    "Input data corresponds to a table containing observed hotspot propensity calculations using 100 samples and 100-300 mutations per sample for 1000 iterations and a JSON file containing expected (theoretical) hotspot propensity. \n",
    "\n",
    "This expected was computed using the model of homogeneous distribution of trinucleotide-specific mutation rates with 300 mutations/sample and 100 samples across mappable megabases. "
   ]
  },
  {
   "cell_type": "code",
   "execution_count": 6,
   "metadata": {},
   "outputs": [
    {
     "data": {
      "text/html": [
       "<div>\n",
       "<style scoped>\n",
       "    .dataframe tbody tr th:only-of-type {\n",
       "        vertical-align: middle;\n",
       "    }\n",
       "\n",
       "    .dataframe tbody tr th {\n",
       "        vertical-align: top;\n",
       "    }\n",
       "\n",
       "    .dataframe thead th {\n",
       "        text-align: right;\n",
       "    }\n",
       "</style>\n",
       "<table border=\"1\" class=\"dataframe\">\n",
       "  <thead>\n",
       "    <tr style=\"text-align: right;\">\n",
       "      <th></th>\n",
       "      <th>ITER</th>\n",
       "      <th>N_SAMPLES</th>\n",
       "      <th>TOTAL_HOTSPOTS</th>\n",
       "      <th>TOTAL_HOTSPOTS_UNIQPOS</th>\n",
       "      <th>TOTAL_MUTS</th>\n",
       "      <th>CTYPE</th>\n",
       "      <th>SIGNATURE</th>\n",
       "    </tr>\n",
       "  </thead>\n",
       "  <tbody>\n",
       "    <tr>\n",
       "      <th>0</th>\n",
       "      <td>BLADDER_URI_iter_0_SBS2</td>\n",
       "      <td>100</td>\n",
       "      <td>0</td>\n",
       "      <td>0</td>\n",
       "      <td>10000</td>\n",
       "      <td>BLADDER_URI</td>\n",
       "      <td>SBS2</td>\n",
       "    </tr>\n",
       "    <tr>\n",
       "      <th>1</th>\n",
       "      <td>BLADDER_URI_iter_1_SBS2</td>\n",
       "      <td>100</td>\n",
       "      <td>1</td>\n",
       "      <td>1</td>\n",
       "      <td>10000</td>\n",
       "      <td>BLADDER_URI</td>\n",
       "      <td>SBS2</td>\n",
       "    </tr>\n",
       "    <tr>\n",
       "      <th>2</th>\n",
       "      <td>BLADDER_URI_iter_2_SBS2</td>\n",
       "      <td>100</td>\n",
       "      <td>0</td>\n",
       "      <td>0</td>\n",
       "      <td>10000</td>\n",
       "      <td>BLADDER_URI</td>\n",
       "      <td>SBS2</td>\n",
       "    </tr>\n",
       "    <tr>\n",
       "      <th>3</th>\n",
       "      <td>BLADDER_URI_iter_3_SBS2</td>\n",
       "      <td>100</td>\n",
       "      <td>2</td>\n",
       "      <td>2</td>\n",
       "      <td>10000</td>\n",
       "      <td>BLADDER_URI</td>\n",
       "      <td>SBS2</td>\n",
       "    </tr>\n",
       "    <tr>\n",
       "      <th>4</th>\n",
       "      <td>BLADDER_URI_iter_4_SBS2</td>\n",
       "      <td>100</td>\n",
       "      <td>2</td>\n",
       "      <td>2</td>\n",
       "      <td>10000</td>\n",
       "      <td>BLADDER_URI</td>\n",
       "      <td>SBS2</td>\n",
       "    </tr>\n",
       "  </tbody>\n",
       "</table>\n",
       "</div>"
      ],
      "text/plain": [
       "                      ITER  N_SAMPLES  TOTAL_HOTSPOTS  TOTAL_HOTSPOTS_UNIQPOS  \\\n",
       "0  BLADDER_URI_iter_0_SBS2        100               0                       0   \n",
       "1  BLADDER_URI_iter_1_SBS2        100               1                       1   \n",
       "2  BLADDER_URI_iter_2_SBS2        100               0                       0   \n",
       "3  BLADDER_URI_iter_3_SBS2        100               2                       2   \n",
       "4  BLADDER_URI_iter_4_SBS2        100               2                       2   \n",
       "\n",
       "   TOTAL_MUTS        CTYPE SIGNATURE  \n",
       "0       10000  BLADDER_URI      SBS2  \n",
       "1       10000  BLADDER_URI      SBS2  \n",
       "2       10000  BLADDER_URI      SBS2  \n",
       "3       10000  BLADDER_URI      SBS2  \n",
       "4       10000  BLADDER_URI      SBS2  "
      ]
     },
     "execution_count": 6,
     "metadata": {},
     "output_type": "execute_result"
    }
   ],
   "source": [
    "# Observed hotspot propensity\n",
    "propensity_f = f'{data_dir}/hotspot_propensity_1000iter_100samples_100-300muts.txt.gz'\n",
    "propensity_df = pd.read_csv(propensity_f, sep='\\t', header=0)\n",
    "propensity_df.head()"
   ]
  },
  {
   "cell_type": "code",
   "execution_count": 7,
   "metadata": {
    "scrolled": true
   },
   "outputs": [
    {
     "data": {
      "text/plain": [
       "279000"
      ]
     },
     "execution_count": 7,
     "metadata": {},
     "output_type": "execute_result"
    }
   ],
   "source": [
    "len(propensity_df)"
   ]
  },
  {
   "cell_type": "code",
   "execution_count": 8,
   "metadata": {
    "collapsed": true
   },
   "outputs": [],
   "source": [
    "# Expected hotspot propensity\n",
    "theoretical_propensity_f = f'{data_dir}/expected_hotspot_propensity/expected_hotspots_genomewide_disallowed.json'\n",
    "with open(theoretical_propensity_f, 'r') as fd: \n",
    "    theoretical_propensity_data = json.load(fd)"
   ]
  },
  {
   "cell_type": "code",
   "execution_count": 9,
   "metadata": {
    "collapsed": true
   },
   "outputs": [],
   "source": [
    "# Reformat into a dictionary for easy access\n",
    "theoretical_propensity_d = defaultdict(lambda: defaultdict(dict))\n",
    "for element in theoretical_propensity_data: \n",
    "    muts, sig, samples, hotspots = element\n",
    "    if str(samples)[-2] == '0': \n",
    "        theoretical_propensity_d[muts][sig][samples] = hotspots"
   ]
  },
  {
   "cell_type": "markdown",
   "metadata": {},
   "source": [
    "### Compute observed hotspot propensity per signature"
   ]
  },
  {
   "cell_type": "code",
   "execution_count": 10,
   "metadata": {},
   "outputs": [
    {
     "data": {
      "text/html": [
       "<div>\n",
       "<style scoped>\n",
       "    .dataframe tbody tr th:only-of-type {\n",
       "        vertical-align: middle;\n",
       "    }\n",
       "\n",
       "    .dataframe tbody tr th {\n",
       "        vertical-align: top;\n",
       "    }\n",
       "\n",
       "    .dataframe thead th {\n",
       "        text-align: right;\n",
       "    }\n",
       "</style>\n",
       "<table border=\"1\" class=\"dataframe\">\n",
       "  <thead>\n",
       "    <tr style=\"text-align: right;\">\n",
       "      <th></th>\n",
       "      <th>ITER</th>\n",
       "      <th>N_SAMPLES</th>\n",
       "      <th>TOTAL_HOTSPOTS</th>\n",
       "      <th>TOTAL_HOTSPOTS_UNIQPOS</th>\n",
       "      <th>TOTAL_MUTS</th>\n",
       "      <th>CTYPE</th>\n",
       "      <th>SIGNATURE</th>\n",
       "    </tr>\n",
       "  </thead>\n",
       "  <tbody>\n",
       "    <tr>\n",
       "      <th>259640</th>\n",
       "      <td>COADREAD_iter_640_SBS17b</td>\n",
       "      <td>100</td>\n",
       "      <td>129</td>\n",
       "      <td>129</td>\n",
       "      <td>30000</td>\n",
       "      <td>COADREAD</td>\n",
       "      <td>SBS17b</td>\n",
       "    </tr>\n",
       "    <tr>\n",
       "      <th>259565</th>\n",
       "      <td>COADREAD_iter_565_SBS17b</td>\n",
       "      <td>100</td>\n",
       "      <td>120</td>\n",
       "      <td>120</td>\n",
       "      <td>30000</td>\n",
       "      <td>COADREAD</td>\n",
       "      <td>SBS17b</td>\n",
       "    </tr>\n",
       "    <tr>\n",
       "      <th>259916</th>\n",
       "      <td>COADREAD_iter_916_SBS17b</td>\n",
       "      <td>100</td>\n",
       "      <td>119</td>\n",
       "      <td>119</td>\n",
       "      <td>30000</td>\n",
       "      <td>COADREAD</td>\n",
       "      <td>SBS17b</td>\n",
       "    </tr>\n",
       "    <tr>\n",
       "      <th>259824</th>\n",
       "      <td>COADREAD_iter_824_SBS17b</td>\n",
       "      <td>100</td>\n",
       "      <td>119</td>\n",
       "      <td>119</td>\n",
       "      <td>30000</td>\n",
       "      <td>COADREAD</td>\n",
       "      <td>SBS17b</td>\n",
       "    </tr>\n",
       "    <tr>\n",
       "      <th>259425</th>\n",
       "      <td>COADREAD_iter_425_SBS17b</td>\n",
       "      <td>100</td>\n",
       "      <td>119</td>\n",
       "      <td>119</td>\n",
       "      <td>30000</td>\n",
       "      <td>COADREAD</td>\n",
       "      <td>SBS17b</td>\n",
       "    </tr>\n",
       "  </tbody>\n",
       "</table>\n",
       "</div>"
      ],
      "text/plain": [
       "                            ITER  N_SAMPLES  TOTAL_HOTSPOTS  \\\n",
       "259640  COADREAD_iter_640_SBS17b        100             129   \n",
       "259565  COADREAD_iter_565_SBS17b        100             120   \n",
       "259916  COADREAD_iter_916_SBS17b        100             119   \n",
       "259824  COADREAD_iter_824_SBS17b        100             119   \n",
       "259425  COADREAD_iter_425_SBS17b        100             119   \n",
       "\n",
       "        TOTAL_HOTSPOTS_UNIQPOS  TOTAL_MUTS     CTYPE SIGNATURE  \n",
       "259640                     129       30000  COADREAD    SBS17b  \n",
       "259565                     120       30000  COADREAD    SBS17b  \n",
       "259916                     119       30000  COADREAD    SBS17b  \n",
       "259824                     119       30000  COADREAD    SBS17b  \n",
       "259425                     119       30000  COADREAD    SBS17b  "
      ]
     },
     "execution_count": 10,
     "metadata": {},
     "output_type": "execute_result"
    }
   ],
   "source": [
    "# Use only subsamplings with 300 mutations per sample across 100 samples (= 30000 total mutations)\n",
    "subset = propensity_df.loc[propensity_df['TOTAL_MUTS'] == 30000].copy()\n",
    "subset.sort_values(by='TOTAL_HOTSPOTS_UNIQPOS', ascending=False, inplace=True)\n",
    "subset.head()"
   ]
  },
  {
   "cell_type": "code",
   "execution_count": 11,
   "metadata": {},
   "outputs": [
    {
     "data": {
      "text/plain": [
       "{'SBS1': (39.0, 34.0, 44.0),\n",
       " 'SBS13': (4.0, 2.0, 5.0),\n",
       " 'SBS17a': (72.0, 62.0, 81.0),\n",
       " 'SBS17b': (78.0, 69.0, 89.0),\n",
       " 'SBS18': (7.0, 5.0, 8.0),\n",
       " 'SBS2': (6.0, 4.0, 7.0),\n",
       " 'SBS3': (1.0, 0.0, 2.0),\n",
       " 'SBS4': (1.0, 0.0, 2.0),\n",
       " 'SBS40': (1.0, 0.0, 2.0),\n",
       " 'SBS5': (2.0, 1.0, 3.0),\n",
       " 'SBS7a': (7.0, 6.0, 9.0),\n",
       " 'SBS7b': (3.5, 2.0, 5.0),\n",
       " 'SBS8': (6.0, 4.0, 8.0),\n",
       " 'SBS93': (6.0, 5.0, 8.0)}"
      ]
     },
     "execution_count": 11,
     "metadata": {},
     "output_type": "execute_result"
    }
   ],
   "source": [
    "observed = dict()\n",
    "for signature, data in subset.groupby('SIGNATURE'): \n",
    "    median = np.median(data['TOTAL_HOTSPOTS_UNIQPOS'])\n",
    "    first_quartile = np.percentile(data['TOTAL_HOTSPOTS_UNIQPOS'], 25)\n",
    "    third_quartile = np.percentile(data['TOTAL_HOTSPOTS_UNIQPOS'], 75)\n",
    "    observed[signature] = (median, first_quartile, third_quartile)\n",
    "observed"
   ]
  },
  {
   "cell_type": "markdown",
   "metadata": {},
   "source": [
    "### Select parameters for expected hotspot propensity"
   ]
  },
  {
   "cell_type": "code",
   "execution_count": 12,
   "metadata": {},
   "outputs": [
    {
     "data": {
      "text/plain": [
       "{'SBS7a': 1.3625481448517178,\n",
       " 'SBS7b': 0.9775348985392175,\n",
       " 'SBS5': 0.2278089202414356,\n",
       " 'SBS40': 0.1264165631912206,\n",
       " 'SBS3': 0.1289291154296094,\n",
       " 'SBS2': 1.9556124291092607,\n",
       " 'SBS17b': 1.6680024956837947,\n",
       " 'SBS4': 0.3767901512959171,\n",
       " 'SBS8': 0.2485049587014494,\n",
       " 'SBS13': 0.9996425305715084,\n",
       " 'SBS17a': 2.2483618161160273,\n",
       " 'SBS18': 0.3943556977085759,\n",
       " 'SBS1': 9.916984579608693,\n",
       " 'SBS93': 0.20641414944535863}"
      ]
     },
     "execution_count": 12,
     "metadata": {},
     "output_type": "execute_result"
    }
   ],
   "source": [
    "# Select parameters\n",
    "sample_muts = 300 \n",
    "sample_size = 100\n",
    "expected = {}\n",
    "for signature, data in theoretical_propensity_d[sample_muts].items(): \n",
    "    if signature in signatures_to_plot: \n",
    "        expected[signature] = data[sample_size]\n",
    "expected"
   ]
  },
  {
   "cell_type": "markdown",
   "metadata": {},
   "source": [
    "### Compute observed vs expected hotspot propensity fold change"
   ]
  },
  {
   "cell_type": "code",
   "execution_count": 13,
   "metadata": {},
   "outputs": [
    {
     "data": {
      "text/plain": [
       "{'SBS1': 3.932647034683488,\n",
       " 'SBS13': 4.001430389034317,\n",
       " 'SBS17a': 32.02331559089439,\n",
       " 'SBS17b': 46.76251996135296,\n",
       " 'SBS18': 17.75047258268071,\n",
       " 'SBS2': 3.0680925886387778,\n",
       " 'SBS3': 7.756199960481104,\n",
       " 'SBS4': 2.653997182677519,\n",
       " 'SBS40': 7.910355848603295,\n",
       " 'SBS5': 8.779287474258547,\n",
       " 'SBS7a': 5.137433144251787,\n",
       " 'SBS7b': 3.58043483176942,\n",
       " 'SBS8': 24.144387425316214,\n",
       " 'SBS93': 29.0677747437479}"
      ]
     },
     "execution_count": 13,
     "metadata": {},
     "output_type": "execute_result"
    }
   ],
   "source": [
    "fold_change = {}\n",
    "for signature, obs in observed.items(): \n",
    "    obs = obs[0]\n",
    "    exp = expected[signature]\n",
    "    fc = obs/exp\n",
    "    fold_change[signature] = fc\n",
    "fold_change"
   ]
  },
  {
   "cell_type": "markdown",
   "metadata": {},
   "source": [
    "## Panel 3E"
   ]
  },
  {
   "cell_type": "code",
   "execution_count": 14,
   "metadata": {},
   "outputs": [
    {
     "data": {
      "text/plain": [
       "['SBS17b',\n",
       " 'SBS17a',\n",
       " 'SBS1',\n",
       " 'SBS7a',\n",
       " 'SBS18',\n",
       " 'SBS93',\n",
       " 'SBS8',\n",
       " 'SBS2',\n",
       " 'SBS13',\n",
       " 'SBS7b',\n",
       " 'SBS5',\n",
       " 'SBS3',\n",
       " 'SBS4',\n",
       " 'SBS40']"
      ]
     },
     "execution_count": 14,
     "metadata": {},
     "output_type": "execute_result"
    }
   ],
   "source": [
    "sorted_sigs = [i[0] for i in sorted(observed.items(), key=lambda x: x[1], reverse=True)]\n",
    "sorted_sigs"
   ]
  },
  {
   "cell_type": "code",
   "execution_count": 15,
   "metadata": {
    "scrolled": true
   },
   "outputs": [
    {
     "data": {
      "image/png": "[encoded data removed]",
      "text/plain": [
       "<Figure size 270x180 with 3 Axes>"
      ]
     },
     "metadata": {
      "needs_background": "light"
     },
     "output_type": "display_data"
    }
   ],
   "source": [
    "plt.rc('axes', edgecolor='black')\n",
    "xmin = 0.5\n",
    "xmax = 14.5\n",
    "fig, ax = plt.subplots(\n",
    "    3, \n",
    "    sharex='col', \n",
    "    figsize=(3.75, 2.5), \n",
    "     gridspec_kw={'height_ratios': [1, 0.25, 0.25]}\n",
    ") \n",
    "plt.subplots_adjust(left=0.1,\n",
    "                    bottom=0.1, \n",
    "                    right=0.9, \n",
    "                    top=0.9, \n",
    "                    wspace=0.1, \n",
    "                    hspace=0.15)\n",
    "\n",
    "## SUBPLOT 0 \n",
    "axis_key = 0\n",
    "sorted_sigs_top = sorted_sigs\n",
    "sep = 0.15\n",
    "for i, signature in enumerate(sorted_sigs_top, 1):  \n",
    "    exp = expected[signature]\n",
    "    obs, error_min, error_max = observed[signature]\n",
    "    error_min = 0 if error_min < 0 else error_min\n",
    "    ax[axis_key].plot([i+sep, i+sep], [error_min, error_max], ls='-', lw=0.5, c='grey', zorder=1)\n",
    "    ax[axis_key].scatter(i+sep, obs, color=sigs_color[signature], alpha=1, marker='o', s=5, lw=0.5, zorder=3)\n",
    "    ax[axis_key].scatter(i-sep, exp, color='white', marker='o', s=5, lw=0.5, edgecolor=sigs_color[signature])\n",
    "ax[axis_key].set_xlim(xmin, xmax)\n",
    "ax[axis_key].set_ylim(-2, 100)\n",
    "ax[axis_key].set_yticks([0, 20, 40, 60, 80, 100])\n",
    "ax[axis_key].set_yticklabels([0, 20, 40, 60, 80, 100], fontsize=5)\n",
    "\n",
    "## SUBPLOT 1 \n",
    "axis_key = 1\n",
    "xdata = []\n",
    "ydata = []\n",
    "colors = []\n",
    "for i, signature in enumerate(sorted_sigs_top, 1):\n",
    "    xdata += [i]\n",
    "    ydata += [expected[signature]]\n",
    "    colors += [sigs_color[signature]]\n",
    "ax[axis_key].bar(xdata, ydata, width=0.60, color=['white']*len(xdata), edgecolor=colors)\n",
    "ax[axis_key].set_ylim(0, 10.01)\n",
    "ax[axis_key].set_yticks([5, 10])\n",
    "ax[axis_key].set_yticklabels([5, 10])\n",
    "ax[axis_key].set_xlim(xmin, xmax)\n",
    "\n",
    "## SUBPLOT 2 \n",
    "axis_key = 2\n",
    "xdata = []\n",
    "ydata = []\n",
    "colors = []\n",
    "for i, signature in enumerate(sorted_sigs_top, 1):\n",
    "    xdata += [i]\n",
    "    fc = fold_change[signature]\n",
    "    ydata += [fc]\n",
    "    colors += [sigs_color[signature]]\n",
    "ax[axis_key].bar(xdata, ydata, width=0.60, color=colors, edgecolor=colors)\n",
    "ax[axis_key].set_ylim(0, 50)\n",
    "yticks = [25, 50]\n",
    "ax[axis_key].set_yticks(yticks)\n",
    "ax[axis_key].set_yticklabels(yticks, fontsize=5)\n",
    "ax[axis_key].set_xlim(xmin, xmax)\n",
    "\n",
    "########### X axis\n",
    "ax[axis_key].set_xticks(list(range(1, len(sorted_sigs) + 1)))\n",
    "ax[axis_key].set_xticklabels(sorted_sigs, fontsize=6, rotation=45, ha='right')\n",
    "\n",
    "########## Y axis\n",
    "ylabels_dict = {\n",
    "    0: '# hotspots', \n",
    "    1: '# expected\\nhotspots',\n",
    "    2: 'Fold change\\n(obs/exp)'\n",
    "}\n",
    "\n",
    "for key, value in ylabels_dict.items(): \n",
    "    ax[key].set_axisbelow(True)\n",
    "    ax[key].set_ylabel(value, fontsize=5, rotation=90, labelpad=10, va='center')\n",
    "    ax[key].grid(color='lightgrey', linestyle='--', linewidth=0.25)\n",
    "    for tick in ax[key].yaxis.get_major_ticks():\n",
    "        tick.label.set_fontsize(5) \n",
    "    for tick in ax[key].xaxis.get_major_ticks():\n",
    "            tick.label.set_fontsize(5) \n",
    "            \n",
    "    for location in ['top', 'bottom', 'left', 'right']:\n",
    "        ax[key].spines[location].set_linewidth(0.4)\n",
    "        \n",
    "    ax[key].tick_params(axis = \"x\", which = \"both\", bottom=False)\n",
    "    ax[key].tick_params(axis = \"y\", which = \"both\", left=False)\n",
    "    \n",
    "    ax[key].tick_params(axis='both', which='major', pad=1) \n",
    "    ax[key].spines['right'].set_visible(False)\n",
    "    ax[key].spines['top'].set_visible(False)\n",
    "    \n",
    "    ax[key].tick_params(axis = \"x\", which = \"both\", bottom=False)\n",
    "    ax[key].tick_params(axis = \"y\", which = \"both\", left=True, width=0.4, length=2)\n",
    "\n",
    "for extension in ['png']: \n",
    "    output = f'./fig_3E.{extension}'\n",
    "    plt.savefig(output, bbox_inches='tight', dpi=350)"
   ]
  },
  {
   "cell_type": "code",
   "execution_count": null,
   "metadata": {
    "collapsed": true
   },
   "outputs": [],
   "source": []
  }
 ],
 "metadata": {
  "kernelspec": {
   "display_name": "Python [conda env:hotspot_propensity]",
   "language": "python",
   "name": "conda-env-hotspot_propensity-py"
  },
  "language_info": {
   "codemirror_mode": {
    "name": "ipython",
    "version": 3
   },
   "file_extension": ".py",
   "mimetype": "text/x-python",
   "name": "python",
   "nbconvert_exporter": "python",
   "pygments_lexer": "ipython3",
   "version": "3.6.13"
  }
 },
 "nbformat": 4,
 "nbformat_minor": 2
}
