{
 "cells": [
  {
   "cell_type": "markdown",
   "metadata": {},
   "source": [
    "# Pie charts describing the dataset in Fig 1B and Fig 1C"
   ]
  },
  {
   "cell_type": "code",
   "execution_count": 1,
   "metadata": {
    "collapsed": true
   },
   "outputs": [],
   "source": [
    "import os\n",
    "from collections import defaultdict\n",
    "\n",
    "import matplotlib.pyplot as plt\n",
    "from matplotlib import rcParams\n",
    "import pandas as pd\n",
    "import seaborn as sns"
   ]
  },
  {
   "cell_type": "code",
   "execution_count": 2,
   "metadata": {
    "collapsed": true
   },
   "outputs": [],
   "source": [
    "rcParams['font.family'] = 'sans-serif'\n",
    "rcParams['font.sans-serif'] = ['Arial']"
   ]
  },
  {
   "cell_type": "code",
   "execution_count": 3,
   "metadata": {
    "collapsed": true
   },
   "outputs": [],
   "source": [
    "data_dir = './data'"
   ]
  },
  {
   "cell_type": "code",
   "execution_count": 4,
   "metadata": {
    "collapsed": true
   },
   "outputs": [],
   "source": [
    "# Annotations colors\n",
    "color_data = {\n",
    "    'Primary' : '#ffd42aff',\n",
    "    'Metastasis' : '#d4a800ff',    \n",
    "    'Pediatric' : '#aaccffff',\n",
    "    'Adult' : '#6798e4ff'\n",
    "}"
   ]
  },
  {
   "cell_type": "code",
   "execution_count": 5,
   "metadata": {},
   "outputs": [],
   "source": [
    "# Reformat cancer type long names for publication\n",
    "ctype_long_name = {\n",
    "    'AML': 'Acute Myeloid Leukemia',\n",
    "    'ALL': 'Acute lymphoblastic leukemia',\n",
    "    'ACC': 'Adrenocortical Carcinoma',\n",
    "    'AN': 'Anal Cancer',\n",
    "    'BCC': 'Basal Cell Carcinoma',\n",
    "    'BILIARY_TRACT': 'Biliary Tract Cancer',\n",
    "    'BLADDER_URI': 'Bladder/Urinary Tract Cancer',\n",
    "    'BONE_SOFT_TISSUE': 'Bone/Soft Tissue Cancer',\n",
    "    'BOWEL': 'Bowel Cancer',\n",
    "    'BRAIN': 'CNS/Brain Cancer',\n",
    "    'CERVIX': 'Cervical Cancer',\n",
    "    'COADREAD': 'Colorectal Adenocarcinoma',\n",
    "    'SKCM': 'Cutaneous Melanoma',\n",
    "    'CSCC': 'Cutaneous Squamous Cell Carcinoma',\n",
    "    'UCEC': 'Endometrial Carcinoma',\n",
    "    'EPM': 'Ependymoma',\n",
    "    'ES': 'Esophageal Cancer',\n",
    "    'ESOPHA_STOMACH': 'Esophagus/Stomach',\n",
    "    'GBM': 'Glioblastoma Multiforme',\n",
    "    'HEAD_NECK': 'Head and Neck',\n",
    "    'HGGNOS': 'High-Grade Glioma, NOS',\n",
    "    'BRCA': 'Invasive Breast Carcinoma',\n",
    "    'KIDNEY': 'Kidney Cancer',\n",
    "    'LIVER': 'Liver Cancer',\n",
    "    'LGGNOS': 'Low-Grade Glioma, NOS',\n",
    "    'LUNG': 'Lung Cancer',\n",
    "    'LNET': 'Lung Neuroendocrine Tumor',\n",
    "    'LNM': 'Lymphoid Neoplasm',\n",
    "    'MBL': 'Medulloblastoma',\n",
    "    'MNM': 'Myeloid Neoplasm',\n",
    "    'MPN': 'Myeloproliferative Neoplasms',\n",
    "    'NBL': 'Neuroblastoma',\n",
    "    'NHL': 'Non-Hodgkin Lymphoma',\n",
    "    'NSCLC': 'Non-Small Cell Lung Cancer',\n",
    "    'ODG': 'Oligodendroglioma',\n",
    "    'OV': 'Ovarian Cancer',\n",
    "    'PANCREAS': 'Pancreatic Cancer',\n",
    "    'PAST': 'Pilocytic Astrocytoma',\n",
    "    'PLMESO': 'Pleural Mesothelioma',\n",
    "    'PROSTATE': 'Prostate Cancer',\n",
    "    'RBL': 'Retinoblastoma',\n",
    "    'SKIN': 'Skin Cancer',\n",
    "    'SBC': 'Small Bowel Cancer',\n",
    "    'SBNET': 'Small Bowel Neuroendocrine Tumor',\n",
    "    'SCLC': 'Small Cell Lung Cancer',\n",
    "    'ST': 'Stomach Cancer',\n",
    "    'THYROID': 'Thyroid Cancer',\n",
    "    'VULVA': 'Vulva Cancer'\n",
    "}"
   ]
  },
  {
   "cell_type": "markdown",
   "metadata": {},
   "source": [
    "#### Load data"
   ]
  },
  {
   "cell_type": "markdown",
   "metadata": {},
   "source": [
    "This input data corresponds to Datasets EV1 and EV2"
   ]
  },
  {
   "cell_type": "code",
   "execution_count": 6,
   "metadata": {},
   "outputs": [
    {
     "data": {
      "text/html": [
       "<div>\n",
       "<style scoped>\n",
       "    .dataframe tbody tr th:only-of-type {\n",
       "        vertical-align: middle;\n",
       "    }\n",
       "\n",
       "    .dataframe tbody tr th {\n",
       "        vertical-align: top;\n",
       "    }\n",
       "\n",
       "    .dataframe thead th {\n",
       "        text-align: right;\n",
       "    }\n",
       "</style>\n",
       "<table border=\"1\" class=\"dataframe\">\n",
       "  <thead>\n",
       "    <tr style=\"text-align: right;\">\n",
       "      <th></th>\n",
       "      <th>CANCER_TYPE</th>\n",
       "      <th>CANCER_TYPE_LONG</th>\n",
       "      <th>LEVEL_ONCOTREE</th>\n",
       "      <th>LEVEL_ANALYSIS</th>\n",
       "      <th>SAMPLES</th>\n",
       "      <th>COHORTS</th>\n",
       "      <th>MUTATIONS_TOTAL</th>\n",
       "      <th>MUTATIONS_SNV</th>\n",
       "      <th>MUTATIONS_MNV</th>\n",
       "      <th>MUTATIONS_INS</th>\n",
       "      <th>MUTATIONS_DEL</th>\n",
       "    </tr>\n",
       "  </thead>\n",
       "  <tbody>\n",
       "    <tr>\n",
       "      <th>0</th>\n",
       "      <td>ACC</td>\n",
       "      <td>Adrenocortical Carcinoma (ACC)</td>\n",
       "      <td>2</td>\n",
       "      <td>A</td>\n",
       "      <td>20</td>\n",
       "      <td>D_ACC</td>\n",
       "      <td>16649</td>\n",
       "      <td>16614</td>\n",
       "      <td>0</td>\n",
       "      <td>26</td>\n",
       "      <td>9</td>\n",
       "    </tr>\n",
       "    <tr>\n",
       "      <th>1</th>\n",
       "      <td>ALL</td>\n",
       "      <td>Acute lymphoblastic leukemia (ALL)</td>\n",
       "      <td>3</td>\n",
       "      <td>A</td>\n",
       "      <td>278</td>\n",
       "      <td>D_ALL</td>\n",
       "      <td>154660</td>\n",
       "      <td>154095</td>\n",
       "      <td>198</td>\n",
       "      <td>145</td>\n",
       "      <td>222</td>\n",
       "    </tr>\n",
       "    <tr>\n",
       "      <th>3</th>\n",
       "      <td>EPM</td>\n",
       "      <td>Ependymoma (EPM)</td>\n",
       "      <td>3</td>\n",
       "      <td>A</td>\n",
       "      <td>39</td>\n",
       "      <td>D_EPD</td>\n",
       "      <td>9158</td>\n",
       "      <td>9114</td>\n",
       "      <td>0</td>\n",
       "      <td>34</td>\n",
       "      <td>10</td>\n",
       "    </tr>\n",
       "  </tbody>\n",
       "</table>\n",
       "</div>"
      ],
      "text/plain": [
       "  CANCER_TYPE                    CANCER_TYPE_LONG LEVEL_ONCOTREE  \\\n",
       "0         ACC      Adrenocortical Carcinoma (ACC)              2   \n",
       "1         ALL  Acute lymphoblastic leukemia (ALL)              3   \n",
       "3         EPM                    Ependymoma (EPM)              3   \n",
       "\n",
       "  LEVEL_ANALYSIS  SAMPLES COHORTS  MUTATIONS_TOTAL  MUTATIONS_SNV  \\\n",
       "0              A       20   D_ACC            16649          16614   \n",
       "1              A      278   D_ALL           154660         154095   \n",
       "3              A       39   D_EPD             9158           9114   \n",
       "\n",
       "   MUTATIONS_MNV  MUTATIONS_INS  MUTATIONS_DEL  \n",
       "0              0             26              9  \n",
       "1            198            145            222  \n",
       "3              0             34             10  "
      ]
     },
     "execution_count": 6,
     "metadata": {},
     "output_type": "execute_result"
    }
   ],
   "source": [
    "# Cancer types (we will only use Level A cancer types)\n",
    "ctype_f = os.path.join(data_dir, 'EV2_table.txt')\n",
    "ctype_df = pd.read_csv(ctype_f, sep='\\t', header=0)\n",
    "ctype_levelA_df = ctype_df.loc[ctype_df['LEVEL_ANALYSIS'] == 'A'].copy()\n",
    "ctype_levelA_df.head(3)"
   ]
  },
  {
   "cell_type": "code",
   "execution_count": 7,
   "metadata": {},
   "outputs": [
    {
     "data": {
      "text/html": [
       "<div>\n",
       "<style scoped>\n",
       "    .dataframe tbody tr th:only-of-type {\n",
       "        vertical-align: middle;\n",
       "    }\n",
       "\n",
       "    .dataframe tbody tr th {\n",
       "        vertical-align: top;\n",
       "    }\n",
       "\n",
       "    .dataframe thead th {\n",
       "        text-align: right;\n",
       "    }\n",
       "</style>\n",
       "<table border=\"1\" class=\"dataframe\">\n",
       "  <thead>\n",
       "    <tr style=\"text-align: right;\">\n",
       "      <th></th>\n",
       "      <th>COHORT</th>\n",
       "      <th>COHORT_MANUSCRIPT_LONG_NAME</th>\n",
       "      <th>SOURCE</th>\n",
       "      <th>PLATFORM</th>\n",
       "      <th>REFERENCE_DOI</th>\n",
       "      <th>TYPE</th>\n",
       "      <th>TREATED</th>\n",
       "      <th>AGE</th>\n",
       "      <th>SAMPLES</th>\n",
       "      <th>MUTATIONS_TOTAL</th>\n",
       "      <th>...</th>\n",
       "      <th>LEVEL_A_LONG</th>\n",
       "      <th>LEVEL_A</th>\n",
       "      <th>LEVEL_B_LONG</th>\n",
       "      <th>LEVEL_B</th>\n",
       "      <th>LEVEL_0</th>\n",
       "      <th>LEVEL_1</th>\n",
       "      <th>LEVEL_2</th>\n",
       "      <th>LEVEL_3</th>\n",
       "      <th>LEVEL_4</th>\n",
       "      <th>LEVEL_5</th>\n",
       "    </tr>\n",
       "  </thead>\n",
       "  <tbody>\n",
       "    <tr>\n",
       "      <th>0</th>\n",
       "      <td>D_ACC</td>\n",
       "      <td>Adrenocortical carcinomas (St. Jude Children's...</td>\n",
       "      <td>STJUDE</td>\n",
       "      <td>WGS</td>\n",
       "      <td>10.1038/ncomms7302</td>\n",
       "      <td>Primary</td>\n",
       "      <td>Untreated</td>\n",
       "      <td>Pediatric</td>\n",
       "      <td>20</td>\n",
       "      <td>16649</td>\n",
       "      <td>...</td>\n",
       "      <td>Adrenocortical Carcinoma (ACC)</td>\n",
       "      <td>ACC</td>\n",
       "      <td>None</td>\n",
       "      <td>None</td>\n",
       "      <td>PANCANCER</td>\n",
       "      <td>Adrenal Gland (ADRENAL_GLAND)</td>\n",
       "      <td>Adrenocortical Carcinoma (ACC)</td>\n",
       "      <td>NaN</td>\n",
       "      <td>NaN</td>\n",
       "      <td>NaN</td>\n",
       "    </tr>\n",
       "    <tr>\n",
       "      <th>1</th>\n",
       "      <td>D_ALL</td>\n",
       "      <td>Acute lymphoblastic leukemias (St. Jude Childr...</td>\n",
       "      <td>STJUDE</td>\n",
       "      <td>WGS</td>\n",
       "      <td>10.1038/ncomms7604</td>\n",
       "      <td>Primary</td>\n",
       "      <td>Untreated</td>\n",
       "      <td>Pediatric</td>\n",
       "      <td>278</td>\n",
       "      <td>154660</td>\n",
       "      <td>...</td>\n",
       "      <td>Acute lymphoblastic leukemia (ALL)</td>\n",
       "      <td>ALL</td>\n",
       "      <td>Lymphoid Neoplasm (LNM)</td>\n",
       "      <td>LNM</td>\n",
       "      <td>PANCANCER</td>\n",
       "      <td>Lymphoid (LYMPH)</td>\n",
       "      <td>Lymphoid Neoplasm (LNM)</td>\n",
       "      <td>Acute lymphoblastic leukemia (ALL)</td>\n",
       "      <td>NaN</td>\n",
       "      <td>NaN</td>\n",
       "    </tr>\n",
       "    <tr>\n",
       "      <th>2</th>\n",
       "      <td>PCAWG_WGS_MYELOID_AML</td>\n",
       "      <td>Acute myeloid leukemias (PCAWG)</td>\n",
       "      <td>PCAWG</td>\n",
       "      <td>WGS</td>\n",
       "      <td>10.1101/162784</td>\n",
       "      <td>Primary</td>\n",
       "      <td>Untreated</td>\n",
       "      <td>Adult</td>\n",
       "      <td>13</td>\n",
       "      <td>18413</td>\n",
       "      <td>...</td>\n",
       "      <td>Acute Myeloid Leukemia (AML)</td>\n",
       "      <td>AML</td>\n",
       "      <td>Myeloid Neoplasm (MNM)</td>\n",
       "      <td>MNM</td>\n",
       "      <td>PANCANCER</td>\n",
       "      <td>Myeloid (MYELOID)</td>\n",
       "      <td>Myeloid Neoplasm (MNM)</td>\n",
       "      <td>Acute Myeloid Leukemia (AML)</td>\n",
       "      <td>NaN</td>\n",
       "      <td>NaN</td>\n",
       "    </tr>\n",
       "  </tbody>\n",
       "</table>\n",
       "<p>3 rows × 24 columns</p>\n",
       "</div>"
      ],
      "text/plain": [
       "                  COHORT                        COHORT_MANUSCRIPT_LONG_NAME  \\\n",
       "0                  D_ACC  Adrenocortical carcinomas (St. Jude Children's...   \n",
       "1                  D_ALL  Acute lymphoblastic leukemias (St. Jude Childr...   \n",
       "2  PCAWG_WGS_MYELOID_AML                    Acute myeloid leukemias (PCAWG)   \n",
       "\n",
       "   SOURCE PLATFORM       REFERENCE_DOI     TYPE    TREATED        AGE  \\\n",
       "0  STJUDE      WGS  10.1038/ncomms7302  Primary  Untreated  Pediatric   \n",
       "1  STJUDE      WGS  10.1038/ncomms7604  Primary  Untreated  Pediatric   \n",
       "2   PCAWG      WGS      10.1101/162784  Primary  Untreated      Adult   \n",
       "\n",
       "   SAMPLES  MUTATIONS_TOTAL  ...                        LEVEL_A_LONG  LEVEL_A  \\\n",
       "0       20            16649  ...      Adrenocortical Carcinoma (ACC)      ACC   \n",
       "1      278           154660  ...  Acute lymphoblastic leukemia (ALL)      ALL   \n",
       "2       13            18413  ...        Acute Myeloid Leukemia (AML)      AML   \n",
       "\n",
       "              LEVEL_B_LONG  LEVEL_B    LEVEL_0                        LEVEL_1  \\\n",
       "0                     None     None  PANCANCER  Adrenal Gland (ADRENAL_GLAND)   \n",
       "1  Lymphoid Neoplasm (LNM)      LNM  PANCANCER               Lymphoid (LYMPH)   \n",
       "2   Myeloid Neoplasm (MNM)      MNM  PANCANCER              Myeloid (MYELOID)   \n",
       "\n",
       "                          LEVEL_2                             LEVEL_3 LEVEL_4  \\\n",
       "0  Adrenocortical Carcinoma (ACC)                                 NaN     NaN   \n",
       "1         Lymphoid Neoplasm (LNM)  Acute lymphoblastic leukemia (ALL)     NaN   \n",
       "2          Myeloid Neoplasm (MNM)        Acute Myeloid Leukemia (AML)     NaN   \n",
       "\n",
       "  LEVEL_5  \n",
       "0     NaN  \n",
       "1     NaN  \n",
       "2     NaN  \n",
       "\n",
       "[3 rows x 24 columns]"
      ]
     },
     "execution_count": 7,
     "metadata": {},
     "output_type": "execute_result"
    }
   ],
   "source": [
    "# Cohorts \n",
    "cohort_f = os.path.join(data_dir, 'EV1_table.txt')\n",
    "cohort_df = pd.read_csv(cohort_f, sep='\\t', header=0)\n",
    "cohort_df.head(3)"
   ]
  },
  {
   "cell_type": "markdown",
   "metadata": {},
   "source": [
    "## Panel 1B"
   ]
  },
  {
   "cell_type": "code",
   "execution_count": 8,
   "metadata": {
    "collapsed": true
   },
   "outputs": [],
   "source": [
    "# Cancer types color palette\n",
    "palette = sns.color_palette(\"tab20\", 17).as_hex()"
   ]
  },
  {
   "cell_type": "code",
   "execution_count": 9,
   "metadata": {},
   "outputs": [
    {
     "data": {
      "text/plain": [
       "['NHL',\n",
       " 'BRCA',\n",
       " 'PROSTATE',\n",
       " 'COADREAD',\n",
       " 'NSCLC',\n",
       " 'PANCREAS',\n",
       " 'BONE_SOFT_TISSUE',\n",
       " 'LIVER',\n",
       " 'SKCM',\n",
       " 'KIDNEY',\n",
       " 'ALL',\n",
       " 'NBL',\n",
       " 'OV',\n",
       " 'ES',\n",
       " 'MBL',\n",
       " 'BLADDER_URI']"
      ]
     },
     "execution_count": 9,
     "metadata": {},
     "output_type": "execute_result"
    }
   ],
   "source": [
    "# Select top 16 cancer types with largest number of samples\n",
    "ctype_levelA_df.sort_values(by='SAMPLES', ascending=False, inplace=True)\n",
    "ctypes_to_plot = ctype_levelA_df[:16]['CANCER_TYPE'].tolist()\n",
    "ctypes_to_plot"
   ]
  },
  {
   "cell_type": "code",
   "execution_count": 10,
   "metadata": {},
   "outputs": [],
   "source": [
    "# Load data \n",
    "data_dict = defaultdict(lambda: defaultdict(int))\n",
    "ctypedata_dict = defaultdict(lambda: defaultdict(int))\n",
    "\n",
    "for ctype, ctype_data in ctype_levelA_df.groupby('CANCER_TYPE'): \n",
    "    # Cancer type name to save\n",
    "    name = ctype if ctype in ctypes_to_plot else 'Other'\n",
    "    # Get cohorts in the cancer type\n",
    "    cohorts = ctype_data['COHORTS'].iloc[0].split(';')\n",
    "    #subset_cohorts_df = cohort_df.loc[cohort_df['COHORT'].isin(cohorts)].copy()\n",
    "    for cohort in cohorts: \n",
    "        # Get number of samples per disease stage and age\n",
    "        stage = cohort_df.loc[cohort_df['COHORT'] == cohort]['TYPE'].iloc[0]\n",
    "        age = cohort_df.loc[cohort_df['COHORT'] == cohort]['AGE'].iloc[0]\n",
    "        n_samples = cohort_df.loc[cohort_df['COHORT'] == cohort]['SAMPLES'].iloc[0]\n",
    "        data_dict[name][f'{stage}_{age}'] += n_samples \n",
    "        ctypedata_dict[name]['total_samples'] += n_samples\n",
    "        ctypedata_dict[name]['total_cohorts'] += 1"
   ]
  },
  {
   "cell_type": "code",
   "execution_count": 11,
   "metadata": {},
   "outputs": [
    {
     "data": {
      "text/plain": [
       "defaultdict(<function __main__.<lambda>()>,\n",
       "            {'Other': defaultdict(int,\n",
       "                         {'Primary_Pediatric': 152,\n",
       "                          'Primary_Adult': 427,\n",
       "                          'Metastasis_Adult': 460}),\n",
       "             'ALL': defaultdict(int, {'Primary_Pediatric': 278}),\n",
       "             'BLADDER_URI': defaultdict(int,\n",
       "                         {'Metastasis_Adult': 139, 'Primary_Adult': 23}),\n",
       "             'BONE_SOFT_TISSUE': defaultdict(int,\n",
       "                         {'Primary_Pediatric': 136,\n",
       "                          'Primary_Adult': 71,\n",
       "                          'Metastasis_Adult': 164,\n",
       "                          'Metastasis_Pediatric': 4}),\n",
       "             'BRCA': defaultdict(int,\n",
       "                         {'Primary_Adult': 195, 'Metastasis_Adult': 589}),\n",
       "             'COADREAD': defaultdict(int,\n",
       "                         {'Metastasis_Adult': 436, 'Primary_Adult': 43}),\n",
       "             'ES': defaultdict(int,\n",
       "                         {'Metastasis_Adult': 124, 'Primary_Adult': 92}),\n",
       "             'KIDNEY': defaultdict(int,\n",
       "                         {'Primary_Adult': 179,\n",
       "                          'Metastasis_Adult': 104,\n",
       "                          'Primary_Pediatric': 34}),\n",
       "             'LIVER': defaultdict(int,\n",
       "                         {'Metastasis_Adult': 50, 'Primary_Adult': 306}),\n",
       "             'MBL': defaultdict(int,\n",
       "                         {'Primary_Adult': 141, 'Primary_Pediatric': 38}),\n",
       "             'NBL': defaultdict(int, {'Primary_Pediatric': 259}),\n",
       "             'NHL': defaultdict(int,\n",
       "                         {'Primary_Adult': 1120, 'Metastasis_Adult': 22}),\n",
       "             'NSCLC': defaultdict(int,\n",
       "                         {'Primary_Adult': 78, 'Metastasis_Adult': 335}),\n",
       "             'OV': defaultdict(int,\n",
       "                         {'Metastasis_Adult': 142, 'Primary_Adult': 105}),\n",
       "             'PANCREAS': defaultdict(int,\n",
       "                         {'Primary_Adult': 292, 'Metastasis_Adult': 98}),\n",
       "             'PROSTATE': defaultdict(int,\n",
       "                         {'Primary_Adult': 196, 'Metastasis_Adult': 328}),\n",
       "             'SKCM': defaultdict(int,\n",
       "                         {'Metastasis_Adult': 244,\n",
       "                          'Primary_Pediatric': 5,\n",
       "                          'Primary_Adult': 98})})"
      ]
     },
     "execution_count": 11,
     "metadata": {},
     "output_type": "execute_result"
    }
   ],
   "source": [
    "data_dict"
   ]
  },
  {
   "cell_type": "code",
   "execution_count": 12,
   "metadata": {},
   "outputs": [
    {
     "data": {
      "text/plain": [
       "defaultdict(<function __main__.<lambda>()>,\n",
       "            {'Other': defaultdict(int,\n",
       "                         {'total_samples': 1039, 'total_cohorts': 33}),\n",
       "             'ALL': defaultdict(int,\n",
       "                         {'total_samples': 278, 'total_cohorts': 1}),\n",
       "             'BLADDER_URI': defaultdict(int,\n",
       "                         {'total_samples': 162, 'total_cohorts': 2}),\n",
       "             'BONE_SOFT_TISSUE': defaultdict(int,\n",
       "                         {'total_samples': 375, 'total_cohorts': 7}),\n",
       "             'BRCA': defaultdict(int,\n",
       "                         {'total_samples': 784, 'total_cohorts': 3}),\n",
       "             'COADREAD': defaultdict(int,\n",
       "                         {'total_samples': 479, 'total_cohorts': 2}),\n",
       "             'ES': defaultdict(int,\n",
       "                         {'total_samples': 216, 'total_cohorts': 2}),\n",
       "             'KIDNEY': defaultdict(int,\n",
       "                         {'total_samples': 317, 'total_cohorts': 4}),\n",
       "             'LIVER': defaultdict(int,\n",
       "                         {'total_samples': 356, 'total_cohorts': 2}),\n",
       "             'MBL': defaultdict(int,\n",
       "                         {'total_samples': 179, 'total_cohorts': 2}),\n",
       "             'NBL': defaultdict(int,\n",
       "                         {'total_samples': 259, 'total_cohorts': 2}),\n",
       "             'NHL': defaultdict(int,\n",
       "                         {'total_samples': 1142, 'total_cohorts': 4}),\n",
       "             'NSCLC': defaultdict(int,\n",
       "                         {'total_samples': 413, 'total_cohorts': 3}),\n",
       "             'OV': defaultdict(int,\n",
       "                         {'total_samples': 247, 'total_cohorts': 2}),\n",
       "             'PANCREAS': defaultdict(int,\n",
       "                         {'total_samples': 390, 'total_cohorts': 4}),\n",
       "             'PROSTATE': defaultdict(int,\n",
       "                         {'total_samples': 524, 'total_cohorts': 2}),\n",
       "             'SKCM': defaultdict(int,\n",
       "                         {'total_samples': 347, 'total_cohorts': 3})})"
      ]
     },
     "execution_count": 12,
     "metadata": {},
     "output_type": "execute_result"
    }
   ],
   "source": [
    "ctypedata_dict"
   ]
  },
  {
   "cell_type": "code",
   "execution_count": 13,
   "metadata": {},
   "outputs": [
    {
     "data": {
      "text/plain": [
       "7507"
      ]
     },
     "execution_count": 13,
     "metadata": {},
     "output_type": "execute_result"
    }
   ],
   "source": [
    "# Check number of samples included is 7507\n",
    "i = 0\n",
    "for k1, v1 in data_dict.items(): \n",
    "    for k2, v2 in v1.items(): \n",
    "        i += v2\n",
    "i"
   ]
  },
  {
   "cell_type": "code",
   "execution_count": 14,
   "metadata": {},
   "outputs": [],
   "source": [
    "# Load data to draw the pie chart\n",
    "labels = []\n",
    "ring1 = []\n",
    "ring1_colors = []\n",
    "ring2 = []\n",
    "ring2_colors = []\n",
    "ring3 = []\n",
    "ring3_colors = []\n",
    "\n",
    "total_samples = 0\n",
    "total_cohorts = 0\n",
    "ctype_to_color = {}\n",
    "for i, ctype in enumerate(ctypes_to_plot + ['Other']): \n",
    "    name = ctype_long_name[ctype] if ctype != 'Other' else 'Other'\n",
    "    ctypesamples = ctypedata_dict[ctype]['total_samples']\n",
    "    ctypecohorts = ctypedata_dict[ctype]['total_cohorts']\n",
    "    labels.append(f'{name} ({ctypesamples:,}; {ctypecohorts:,})')\n",
    "    ring1.append(ctypesamples)\n",
    "    ring1_colors.append(palette[i])\n",
    "    ctype_to_color[ctype] = palette[i]\n",
    "    total_samples += ctypesamples\n",
    "    total_cohorts += ctypecohorts\n",
    "    \n",
    "    for stage in ['Primary', 'Metastasis']: \n",
    "        stagesamples = data_dict[ctype].get(f'{stage}_Adult', 0) + data_dict[ctype].get(f'{stage}_Pediatric', 0)\n",
    "        ring2.append(stagesamples)\n",
    "        ring2_colors.append(color_data[stage])\n",
    "\n",
    "        for age in ['Adult', 'Pediatric']: \n",
    "            agesamples = data_dict[ctype].get(f'{stage}_{age}', 0)\n",
    "            ring3.append(agesamples)\n",
    "            ring3_colors.append(color_data[age])"
   ]
  },
  {
   "cell_type": "code",
   "execution_count": 15,
   "metadata": {},
   "outputs": [
    {
     "data": {
      "image/png": "[encoded data removed]",
      "text/plain": [
       "<Figure size 288x288 with 1 Axes>"
      ]
     },
     "metadata": {},
     "output_type": "display_data"
    }
   ],
   "source": [
    "# Plot\n",
    "fig = plt.figure(figsize=(4, 4))\n",
    "ax = plt.subplot2grid((1, 1), (0, 0))\n",
    "size = 0.4\n",
    "radius = 1.25\n",
    "\n",
    "ax.pie(\n",
    "    ring1, \n",
    "    radius=radius, \n",
    "    colors=ring1_colors, \n",
    "    startangle=90,\n",
    "    wedgeprops=dict(width=size), \n",
    "    labels=labels, \n",
    "    textprops={'fontsize': 12}\n",
    ")\n",
    "ax.pie(\n",
    "    ring2, \n",
    "    radius=radius-size, \n",
    "    colors=ring2_colors, \n",
    "    startangle=90,\n",
    "    wedgeprops=dict(width=size/4), \n",
    ")\n",
    "ax.pie(\n",
    "    ring3, \n",
    "    radius=radius-size-size/4, \n",
    "    colors=ring3_colors, \n",
    "    startangle=90,\n",
    "    wedgeprops=dict(width=size/4), \n",
    ")\n",
    "\n",
    "ax.text(\n",
    "    0.5, 0.5, \n",
    "    f'Total samples\\n{total_samples:,}; {total_cohorts:,}', \n",
    "    horizontalalignment='center', \n",
    "    verticalalignment='center', \n",
    "    transform=ax.transAxes, \n",
    "    fontsize=12\n",
    ")\n",
    "\n",
    "for extension in ['png']: \n",
    "    output = f'./fig_1B.{extension}'\n",
    "    plt.savefig(output, bbox_inches='tight', dpi=350)"
   ]
  },
  {
   "cell_type": "markdown",
   "metadata": {},
   "source": [
    "## Panel 1C"
   ]
  },
  {
   "cell_type": "code",
   "execution_count": 16,
   "metadata": {
    "collapsed": true
   },
   "outputs": [],
   "source": [
    "# Load data to draw the pie chart\n",
    "labels = []\n",
    "ring1 = []\n",
    "ring1_colors = []\n",
    "ring2 = []\n",
    "ring2_colors = []\n",
    "\n",
    "total_samples = 0\n",
    "total_cohorts = 0\n",
    "for stage in ['Primary', 'Metastasis']: \n",
    "    stagedata = cohort_df.loc[cohort_df['TYPE'] == stage]\n",
    "    stagesamples = sum(stagedata['SAMPLES'])\n",
    "    stagecohorts = len(stagedata['COHORT'])\n",
    "    labels.append(f'{stage} ({stagesamples:,}; {stagecohorts:,})')\n",
    "    ring1.append(stagecohorts)\n",
    "    ring1_colors.append(color_data[stage])\n",
    "    total_samples += stagesamples\n",
    "    total_cohorts += stagecohorts\n",
    "    for age in ['Adult', 'Pediatric']: \n",
    "        agedata = stagedata.loc[stagedata['AGE'] == age]\n",
    "        agesamples = len(agedata['COHORT'])\n",
    "        ring2.append(agesamples)\n",
    "        ring2_colors.append(color_data[age])"
   ]
  },
  {
   "cell_type": "code",
   "execution_count": 17,
   "metadata": {},
   "outputs": [
    {
     "data": {
      "image/png": "[encoded data removed]",
      "text/plain": [
       "<Figure size 216x216 with 1 Axes>"
      ]
     },
     "metadata": {},
     "output_type": "display_data"
    }
   ],
   "source": [
    "# Plot \n",
    "fig = plt.figure(figsize=(3, 3))\n",
    "ax = plt.subplot2grid((1, 1), (0, 0))\n",
    "size = 0.4\n",
    "\n",
    "\n",
    "ax.pie(\n",
    "    ring1, \n",
    "    radius=1.25, \n",
    "    colors=ring1_colors, \n",
    "    startangle=90,\n",
    "    wedgeprops=dict(width=size), \n",
    "    labels=labels, \n",
    "    textprops={'fontsize': 12}\n",
    ")\n",
    "ax.pie(\n",
    "    ring2, \n",
    "    radius=1.25-size, \n",
    "    colors=ring2_colors, \n",
    "    startangle=90,\n",
    "    wedgeprops=dict(width=size-0.1), \n",
    ")\n",
    "\n",
    "\n",
    "ax.text(\n",
    "    0.5, 0.5, \n",
    "    f'Total\\n{total_samples:,}; {total_cohorts:,}', \n",
    "    horizontalalignment='center', \n",
    "    verticalalignment='center', \n",
    "    transform=ax.transAxes,\n",
    "    fontsize=12\n",
    ")\n",
    "\n",
    "for extension in ['png']: \n",
    "    output = f'./fig_1C.{extension}'\n",
    "    plt.savefig(output, bbox_inches='tight', dpi=350)"
   ]
  },
  {
   "cell_type": "code",
   "execution_count": null,
   "metadata": {
    "collapsed": true
   },
   "outputs": [],
   "source": []
  }
 ],
 "metadata": {
  "kernelspec": {
   "display_name": "Python [conda env:hotspot_propensity]",
   "language": "python",
   "name": "conda-env-hotspot_propensity-py"
  },
  "language_info": {
   "codemirror_mode": {
    "name": "ipython",
    "version": 3
   },
   "file_extension": ".py",
   "mimetype": "text/x-python",
   "name": "python",
   "nbconvert_exporter": "python",
   "pygments_lexer": "ipython3",
   "version": "3.6.13"
  }
 },
 "nbformat": 4,
 "nbformat_minor": 2
}
