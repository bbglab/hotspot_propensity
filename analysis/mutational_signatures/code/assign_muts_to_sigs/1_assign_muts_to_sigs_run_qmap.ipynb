{
 "cells": [
  {
   "cell_type": "markdown",
   "metadata": {},
   "source": [
    "# Assign mutations to signatures"
   ]
  },
  {
   "cell_type": "markdown",
   "metadata": {},
   "source": [
    "For a given mutation in a given patient, compute the probability of that mutation arising from signatures that are active in the sample. This code generates a vector of mutational probabilities per individual mutation\n",
    "\n",
    "Signatures used here are the COSMIC decomposition of signatures extracted from all mutations in the cancer type\n",
    "\n",
    "We run this code for the three sets of mutations: 1) total, 2) inside and 3) outside hotspots"
   ]
  },
  {
   "cell_type": "code",
   "execution_count": 1,
   "metadata": {
    "collapsed": true
   },
   "outputs": [],
   "source": [
    "import os\n",
    "from collections import defaultdict\n",
    "\n",
    "import pandas as pd"
   ]
  },
  {
   "cell_type": "code",
   "execution_count": 2,
   "metadata": {
    "collapsed": true
   },
   "outputs": [],
   "source": [
    "main_dir = ''"
   ]
  },
  {
   "cell_type": "code",
   "execution_count": 3,
   "metadata": {
    "collapsed": true
   },
   "outputs": [],
   "source": [
    "run_dir = f'{main_dir}/signatures/assign_muts_to_sigs'"
   ]
  },
  {
   "cell_type": "code",
   "execution_count": 4,
   "metadata": {
    "collapsed": true
   },
   "outputs": [],
   "source": [
    "sigstype = 'SBS96'\n",
    "sigstype_b = 'SNV'"
   ]
  },
  {
   "cell_type": "markdown",
   "metadata": {},
   "source": [
    "## 1) Total mutations"
   ]
  },
  {
   "cell_type": "code",
   "execution_count": 5,
   "metadata": {
    "collapsed": true
   },
   "outputs": [],
   "source": [
    "mtype = 'total'"
   ]
  },
  {
   "cell_type": "code",
   "execution_count": 6,
   "metadata": {
    "collapsed": true
   },
   "outputs": [],
   "source": [
    "# Input mutations from sigprofilermatrixgenerator\n",
    "muts_dir = f'{main_dir}/signatures/sigprofilermatrixgenerator/output/mutations_total'"
   ]
  },
  {
   "cell_type": "code",
   "execution_count": 7,
   "metadata": {
    "collapsed": true
   },
   "outputs": [],
   "source": [
    "# Input signatures from sigprofilerextractor\n",
    "sigs_dir = f'{main_dir}/signatures/sigprofiler/output/mutations_total'"
   ]
  },
  {
   "cell_type": "markdown",
   "metadata": {},
   "source": [
    "#### Run "
   ]
  },
  {
   "cell_type": "code",
   "execution_count": 8,
   "metadata": {
    "collapsed": true
   },
   "outputs": [],
   "source": [
    "code = os.path.join(run_dir, 'code', 'assign_muts_to_sigs.py')\n",
    "map_file = os.path.join(run_dir, 'code', f'1_assign_muts_to_sigs_{mtype}.map')\n",
    "output_dir = os.path.join(run_dir, 'data')"
   ]
  },
  {
   "cell_type": "code",
   "execution_count": 9,
   "metadata": {
    "collapsed": true
   },
   "outputs": [],
   "source": [
    "info = [\n",
    "    '[params]',\n",
    "    'cores=1',\n",
    "    'memory=8G\\n',\n",
    "    '[pre]',\n",
    "    '. \"/home/$USER/miniconda3/etc/profile.d/conda.sh\"',\n",
    "    'conda activate hotspots_framework\\n',\n",
    "    '[jobs]',\n",
    "]"
   ]
  },
  {
   "cell_type": "code",
   "execution_count": 10,
   "metadata": {
    "collapsed": true,
    "scrolled": false
   },
   "outputs": [],
   "source": [
    "with open(map_file, 'w') as ofd: \n",
    "    \n",
    "    for line in info: \n",
    "        ofd.write(f'{line}\\n')\n",
    "\n",
    "    for entry in os.scandir(sigs_dir):\n",
    "        if sigstype in entry.name: \n",
    "            ctype = entry.name[:-6]\n",
    "                        \n",
    "            # Define signatures file\n",
    "            context_probs_f = os.path.join(\n",
    "                sigs_dir, f'{ctype}_{sigstype}', sigstype, 'Suggested_Solution', \n",
    "                f'COSMIC_{sigstype}_Decomposed_Solution', 'Activities', 'Decomposed_Mutation_Probabilities.txt')\n",
    "\n",
    "            # Define mutations directory\n",
    "            muts_ctype_dir = os.path.join(muts_dir, ctype, 'output', 'vcf_files', sigstype_b)\n",
    "\n",
    "            # Define output file\n",
    "            output_f = os.path.join(output_dir, f'{ctype}_{sigstype}_{mtype}.txt')\n",
    "\n",
    "            # Write\n",
    "            ofd.write(f'python {code} -p {context_probs_f} -m {muts_ctype_dir} -st {sigstype} -o {output_f}\\n')            "
   ]
  },
  {
   "cell_type": "markdown",
   "metadata": {},
   "source": [
    "## 2) Inside hotspot mutations"
   ]
  },
  {
   "cell_type": "code",
   "execution_count": 11,
   "metadata": {
    "collapsed": true
   },
   "outputs": [],
   "source": [
    "mtype = 'in'"
   ]
  },
  {
   "cell_type": "code",
   "execution_count": 12,
   "metadata": {
    "collapsed": true
   },
   "outputs": [],
   "source": [
    "# Input mutations from sigprofilermatrixgenerator\n",
    "muts_dir = f'{main_dir}/signatures/sigprofilermatrixgenerator/output/mutations_in_hotspots'"
   ]
  },
  {
   "cell_type": "code",
   "execution_count": 13,
   "metadata": {
    "collapsed": true
   },
   "outputs": [],
   "source": [
    "# Input signatures from sigprofilerextractor\n",
    "sigs_dir = f'{main_dir}/signatures/sigprofiler/output/mutations_total'"
   ]
  },
  {
   "cell_type": "markdown",
   "metadata": {},
   "source": [
    "#### Run "
   ]
  },
  {
   "cell_type": "code",
   "execution_count": 14,
   "metadata": {
    "collapsed": true
   },
   "outputs": [],
   "source": [
    "code = os.path.join(run_dir, 'code', 'assign_muts_to_sigs.py')\n",
    "map_file = os.path.join(run_dir, 'code', f'1_assign_muts_to_sigs_{mtype}.map')\n",
    "output_dir = os.path.join(run_dir, 'data')"
   ]
  },
  {
   "cell_type": "code",
   "execution_count": 15,
   "metadata": {
    "collapsed": true
   },
   "outputs": [],
   "source": [
    "info = [\n",
    "    '[params]',\n",
    "    'cores=1',\n",
    "    'memory=8G\\n',\n",
    "    '[pre]',\n",
    "    '. \"/home/$USER/miniconda3/etc/profile.d/conda.sh\"',\n",
    "    'conda activate hotspots_framework\\n',\n",
    "    '[jobs]',\n",
    "]"
   ]
  },
  {
   "cell_type": "code",
   "execution_count": 16,
   "metadata": {
    "collapsed": true,
    "scrolled": false
   },
   "outputs": [],
   "source": [
    "with open(map_file, 'w') as ofd: \n",
    "    \n",
    "    for line in info: \n",
    "        ofd.write(f'{line}\\n')\n",
    "\n",
    "    for entry in os.scandir(sigs_dir):\n",
    "        if sigstype in entry.name: \n",
    "            ctype = entry.name[:-6]\n",
    "                        \n",
    "            # Define signatures file\n",
    "            context_probs_f = os.path.join(\n",
    "                sigs_dir, f'{ctype}_{sigstype}', sigstype, 'Suggested_Solution', \n",
    "                f'COSMIC_{sigstype}_Decomposed_Solution', 'Activities', 'Decomposed_Mutation_Probabilities.txt')\n",
    "\n",
    "            # Define mutations directory\n",
    "            muts_ctype_dir = os.path.join(muts_dir, ctype, 'output', 'vcf_files', sigstype_b)\n",
    "\n",
    "            # Define output file\n",
    "            output_f = os.path.join(output_dir, f'{ctype}_{sigstype}_{mtype}.txt')\n",
    "\n",
    "            # Write\n",
    "            ofd.write(f'python {code} -p {context_probs_f} -m {muts_ctype_dir} -st {sigstype} -o {output_f}\\n')            "
   ]
  },
  {
   "cell_type": "markdown",
   "metadata": {},
   "source": [
    "## 3) Outside hotspot mutations"
   ]
  },
  {
   "cell_type": "code",
   "execution_count": 17,
   "metadata": {
    "collapsed": true
   },
   "outputs": [],
   "source": [
    "mtype = 'out'"
   ]
  },
  {
   "cell_type": "code",
   "execution_count": 18,
   "metadata": {
    "collapsed": true
   },
   "outputs": [],
   "source": [
    "# Input mutations from sigprofilermatrixgenerator\n",
    "muts_dir = f'{main_dir}/signatures/sigprofilermatrixgenerator/output/mutations_out_hotspots'"
   ]
  },
  {
   "cell_type": "code",
   "execution_count": 19,
   "metadata": {
    "collapsed": true
   },
   "outputs": [],
   "source": [
    "# Input signatures from sigprofilerextractor\n",
    "sigs_dir = f'{main_dir}/signatures/sigprofiler/output/mutations_total'"
   ]
  },
  {
   "cell_type": "markdown",
   "metadata": {},
   "source": [
    "#### Run "
   ]
  },
  {
   "cell_type": "code",
   "execution_count": 20,
   "metadata": {
    "collapsed": true
   },
   "outputs": [],
   "source": [
    "code = os.path.join(run_dir, 'code', 'assign_muts_to_sigs.py')\n",
    "map_file = os.path.join(run_dir, 'code', f'1_assign_muts_to_sigs_{mtype}.map')\n",
    "output_dir = os.path.join(run_dir, 'data')"
   ]
  },
  {
   "cell_type": "code",
   "execution_count": 21,
   "metadata": {
    "collapsed": true
   },
   "outputs": [],
   "source": [
    "info = [\n",
    "    '[params]',\n",
    "    'cores=1',\n",
    "    'memory=8G\\n',\n",
    "    '[pre]',\n",
    "    '. \"/home/$USER/miniconda3/etc/profile.d/conda.sh\"',\n",
    "    'conda activate hotspots_framework\\n',\n",
    "    '[jobs]',\n",
    "]"
   ]
  },
  {
   "cell_type": "code",
   "execution_count": 22,
   "metadata": {
    "collapsed": true,
    "scrolled": false
   },
   "outputs": [],
   "source": [
    "with open(map_file, 'w') as ofd: \n",
    "    \n",
    "    for line in info: \n",
    "        ofd.write(f'{line}\\n')\n",
    "\n",
    "    for entry in os.scandir(sigs_dir):\n",
    "        if sigstype in entry.name: \n",
    "            ctype = entry.name[:-6]\n",
    "                        \n",
    "            # Define signatures file\n",
    "            context_probs_f = os.path.join(\n",
    "                sigs_dir, f'{ctype}_{sigstype}', sigstype, 'Suggested_Solution', \n",
    "                f'COSMIC_{sigstype}_Decomposed_Solution', 'Activities', 'Decomposed_Mutation_Probabilities.txt')\n",
    "\n",
    "            # Define mutations directory\n",
    "            muts_ctype_dir = os.path.join(muts_dir, ctype, 'output', 'vcf_files', sigstype_b)\n",
    "\n",
    "            # Define output file\n",
    "            output_f = os.path.join(output_dir, f'{ctype}_{sigstype}_{mtype}.txt')\n",
    "\n",
    "            # Write\n",
    "            ofd.write(f'python {code} -p {context_probs_f} -m {muts_ctype_dir} -st {sigstype} -o {output_f}\\n')            "
   ]
  }
 ],
 "metadata": {
  "kernelspec": {
   "display_name": "Python [conda env:hotspots_framework]",
   "language": "python",
   "name": "conda-env-hotspots_framework-py"
  },
  "language_info": {
   "codemirror_mode": {
    "name": "ipython",
    "version": 3
   },
   "file_extension": ".py",
   "mimetype": "text/x-python",
   "name": "python",
   "nbconvert_exporter": "python",
   "pygments_lexer": "ipython3",
   "version": "3.6.10"
  }
 },
 "nbformat": 4,
 "nbformat_minor": 2
}
