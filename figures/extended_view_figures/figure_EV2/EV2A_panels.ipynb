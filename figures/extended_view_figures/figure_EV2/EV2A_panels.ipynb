{
 "cells": [
  {
   "cell_type": "markdown",
   "metadata": {},
   "source": [
    "# Normalised mutational profiles in EV Fig 2A"
   ]
  },
  {
   "cell_type": "code",
   "execution_count": 1,
   "metadata": {
    "collapsed": true
   },
   "outputs": [],
   "source": [
    "import os\n",
    "from collections import defaultdict\n",
    "\n",
    "import matplotlib\n",
    "import matplotlib.pyplot as plt\n",
    "from matplotlib import rcParams\n",
    "from matplotlib.patches import Rectangle\n",
    "import numpy as np\n",
    "import pandas as pd\n",
    "from scipy.stats import entropy"
   ]
  },
  {
   "cell_type": "code",
   "execution_count": 2,
   "metadata": {
    "collapsed": true
   },
   "outputs": [],
   "source": [
    "rcParams['font.family'] = 'sans-serif'\n",
    "rcParams['font.sans-serif'] = ['Arial']"
   ]
  },
  {
   "cell_type": "code",
   "execution_count": 3,
   "metadata": {
    "collapsed": true
   },
   "outputs": [],
   "source": [
    "data_dir = '../../../data'"
   ]
  },
  {
   "cell_type": "code",
   "execution_count": 4,
   "metadata": {
    "collapsed": true
   },
   "outputs": [],
   "source": [
    "snv_color = {\n",
    "    'C>A' : '#1e9ef0ff', \n",
    "    'C>G' : '#333333ff', \n",
    "    'C>T' : '#e62725ff', \n",
    "    'T>A' : '#c7c6c7ff', \n",
    "    'T>C' : '#2bbc5bff', \n",
    "    'T>G' : '#fbbc05ff'\n",
    "}"
   ]
  },
  {
   "cell_type": "markdown",
   "metadata": {},
   "source": [
    "### Load data\n",
    "\n",
    "Input data corresponds to Dataset EV5"
   ]
  },
  {
   "cell_type": "code",
   "execution_count": 5,
   "metadata": {},
   "outputs": [
    {
     "data": {
      "text/html": [
       "<div>\n",
       "<style scoped>\n",
       "    .dataframe tbody tr th:only-of-type {\n",
       "        vertical-align: middle;\n",
       "    }\n",
       "\n",
       "    .dataframe tbody tr th {\n",
       "        vertical-align: top;\n",
       "    }\n",
       "\n",
       "    .dataframe thead th {\n",
       "        text-align: right;\n",
       "    }\n",
       "</style>\n",
       "<table border=\"1\" class=\"dataframe\">\n",
       "  <thead>\n",
       "    <tr style=\"text-align: right;\">\n",
       "      <th></th>\n",
       "      <th>Mutation_type</th>\n",
       "      <th>Trinucleotide</th>\n",
       "      <th>Trinucleotide_genome_frequency</th>\n",
       "      <th>SBS1</th>\n",
       "      <th>SBS2</th>\n",
       "      <th>SBS3</th>\n",
       "      <th>SBS4</th>\n",
       "      <th>SBS5</th>\n",
       "      <th>SBS7a</th>\n",
       "      <th>SBS7b</th>\n",
       "      <th>...</th>\n",
       "      <th>SBS5_normalised</th>\n",
       "      <th>SBS7a_normalised</th>\n",
       "      <th>SBS7b_normalised</th>\n",
       "      <th>SBS8_normalised</th>\n",
       "      <th>SBS13_normalised</th>\n",
       "      <th>SBS17a_normalised</th>\n",
       "      <th>SBS17b_normalised</th>\n",
       "      <th>SBS18_normalised</th>\n",
       "      <th>SBS40_normalised</th>\n",
       "      <th>SBS93_normalised</th>\n",
       "    </tr>\n",
       "  </thead>\n",
       "  <tbody>\n",
       "    <tr>\n",
       "      <th>0</th>\n",
       "      <td>A[C&gt;A]A</td>\n",
       "      <td>ACA</td>\n",
       "      <td>0.040418</td>\n",
       "      <td>0.000876</td>\n",
       "      <td>5.790059e-07</td>\n",
       "      <td>0.020920</td>\n",
       "      <td>0.042451</td>\n",
       "      <td>0.012052</td>\n",
       "      <td>0.000067</td>\n",
       "      <td>0.002344</td>\n",
       "      <td>...</td>\n",
       "      <td>0.006892</td>\n",
       "      <td>0.000035</td>\n",
       "      <td>0.001182</td>\n",
       "      <td>0.032109</td>\n",
       "      <td>0.001397</td>\n",
       "      <td>0.001856</td>\n",
       "      <td>0.000603</td>\n",
       "      <td>0.026066</td>\n",
       "      <td>0.021034</td>\n",
       "      <td>0.007795</td>\n",
       "    </tr>\n",
       "    <tr>\n",
       "      <th>1</th>\n",
       "      <td>A[C&gt;A]C</td>\n",
       "      <td>ACC</td>\n",
       "      <td>0.022682</td>\n",
       "      <td>0.002220</td>\n",
       "      <td>1.455045e-04</td>\n",
       "      <td>0.016343</td>\n",
       "      <td>0.032990</td>\n",
       "      <td>0.009337</td>\n",
       "      <td>0.000177</td>\n",
       "      <td>0.000457</td>\n",
       "      <td>...</td>\n",
       "      <td>0.009514</td>\n",
       "      <td>0.000164</td>\n",
       "      <td>0.000411</td>\n",
       "      <td>0.061074</td>\n",
       "      <td>0.000971</td>\n",
       "      <td>0.001444</td>\n",
       "      <td>0.000224</td>\n",
       "      <td>0.014034</td>\n",
       "      <td>0.017539</td>\n",
       "      <td>0.009569</td>\n",
       "    </tr>\n",
       "    <tr>\n",
       "      <th>2</th>\n",
       "      <td>A[C&gt;A]G</td>\n",
       "      <td>ACG</td>\n",
       "      <td>0.004613</td>\n",
       "      <td>0.000180</td>\n",
       "      <td>5.361861e-05</td>\n",
       "      <td>0.001808</td>\n",
       "      <td>0.016116</td>\n",
       "      <td>0.001908</td>\n",
       "      <td>0.000073</td>\n",
       "      <td>0.000192</td>\n",
       "      <td>...</td>\n",
       "      <td>0.009561</td>\n",
       "      <td>0.000334</td>\n",
       "      <td>0.000849</td>\n",
       "      <td>0.030270</td>\n",
       "      <td>0.001824</td>\n",
       "      <td>0.000384</td>\n",
       "      <td>0.000519</td>\n",
       "      <td>0.011068</td>\n",
       "      <td>0.019599</td>\n",
       "      <td>0.010671</td>\n",
       "    </tr>\n",
       "  </tbody>\n",
       "</table>\n",
       "<p>3 rows × 31 columns</p>\n",
       "</div>"
      ],
      "text/plain": [
       "  Mutation_type Trinucleotide  Trinucleotide_genome_frequency      SBS1  \\\n",
       "0       A[C>A]A           ACA                        0.040418  0.000876   \n",
       "1       A[C>A]C           ACC                        0.022682  0.002220   \n",
       "2       A[C>A]G           ACG                        0.004613  0.000180   \n",
       "\n",
       "           SBS2      SBS3      SBS4      SBS5     SBS7a     SBS7b  ...  \\\n",
       "0  5.790059e-07  0.020920  0.042451  0.012052  0.000067  0.002344  ...   \n",
       "1  1.455045e-04  0.016343  0.032990  0.009337  0.000177  0.000457  ...   \n",
       "2  5.361861e-05  0.001808  0.016116  0.001908  0.000073  0.000192  ...   \n",
       "\n",
       "   SBS5_normalised  SBS7a_normalised  SBS7b_normalised  SBS8_normalised  \\\n",
       "0         0.006892          0.000035          0.001182         0.032109   \n",
       "1         0.009514          0.000164          0.000411         0.061074   \n",
       "2         0.009561          0.000334          0.000849         0.030270   \n",
       "\n",
       "   SBS13_normalised  SBS17a_normalised  SBS17b_normalised  SBS18_normalised  \\\n",
       "0          0.001397           0.001856           0.000603          0.026066   \n",
       "1          0.000971           0.001444           0.000224          0.014034   \n",
       "2          0.001824           0.000384           0.000519          0.011068   \n",
       "\n",
       "   SBS40_normalised  SBS93_normalised  \n",
       "0          0.021034          0.007795  \n",
       "1          0.017539          0.009569  \n",
       "2          0.019599          0.010671  \n",
       "\n",
       "[3 rows x 31 columns]"
      ]
     },
     "execution_count": 5,
     "metadata": {},
     "output_type": "execute_result"
    }
   ],
   "source": [
    "sig_profiles_f = os.path.join(data_dir, 'EV_datasets', 'EV5_table.txt')\n",
    "sig_profiles_df = pd.read_csv(sig_profiles_f, sep='\\t', header=0)\n",
    "sig_profiles_df.head(3)"
   ]
  },
  {
   "cell_type": "markdown",
   "metadata": {},
   "source": [
    "### Compute entropy of normalised signatures' profiles"
   ]
  },
  {
   "cell_type": "code",
   "execution_count": 6,
   "metadata": {
    "collapsed": true
   },
   "outputs": [],
   "source": [
    "signatures_to_plot = [\n",
    "    'SBS2', \n",
    "    'SBS4', \n",
    "    'SBS7a', \n",
    "    'SBS7b', \n",
    "    'SBS8', \n",
    "    'SBS13',\n",
    "    'SBS18', \n",
    "    'SBS93'\n",
    "]"
   ]
  },
  {
   "cell_type": "code",
   "execution_count": 7,
   "metadata": {},
   "outputs": [
    {
     "data": {
      "text/plain": [
       "(96, ['ACA>A', 'ACC>A', 'ACG>A'])"
      ]
     },
     "execution_count": 7,
     "metadata": {},
     "output_type": "execute_result"
    }
   ],
   "source": [
    "mutation_types = sig_profiles_df['Mutation_type'].tolist()\n",
    "mutation_types_reformat = [m[0]+m[2]+m[-1]+'>'+m[-3] for m in mutation_types]\n",
    "len(mutation_types_reformat), mutation_types_reformat[:3]"
   ]
  },
  {
   "cell_type": "code",
   "execution_count": 8,
   "metadata": {
    "collapsed": true
   },
   "outputs": [],
   "source": [
    "entropy_d = {}\n",
    "norm_profiles_d = {}\n",
    "for signature in signatures_to_plot:\n",
    "    # Get normalised profile \n",
    "    norm_profile = sig_profiles_df[f'{signature}_normalised'].tolist()\n",
    "    norm_profiles_d[signature] = dict(list(zip(mutation_types_reformat, norm_profile)))\n",
    "    # Compute entropy\n",
    "    norm_profile_entropy = entropy(norm_profile)\n",
    "    entropy_d[signature] = norm_profile_entropy"
   ]
  },
  {
   "cell_type": "code",
   "execution_count": 9,
   "metadata": {},
   "outputs": [
    {
     "data": {
      "text/plain": [
       "{'SBS2': 1.4607276771335456,\n",
       " 'SBS4': 3.6394523889845645,\n",
       " 'SBS7a': 1.904444029319347,\n",
       " 'SBS7b': 2.4056202020269097,\n",
       " 'SBS8': 3.9938881962083306,\n",
       " 'SBS13': 2.307992434803559,\n",
       " 'SBS18': 3.5258328523613467,\n",
       " 'SBS93': 4.013325117208242}"
      ]
     },
     "execution_count": 9,
     "metadata": {},
     "output_type": "execute_result"
    }
   ],
   "source": [
    "entropy_d"
   ]
  },
  {
   "cell_type": "markdown",
   "metadata": {},
   "source": [
    "## Panel EV2A"
   ]
  },
  {
   "cell_type": "code",
   "execution_count": 10,
   "metadata": {
    "collapsed": true
   },
   "outputs": [],
   "source": [
    "# Plot params\n",
    "yaxis_lim = {\n",
    "    'SBS2': {\n",
    "        'ylabels': [0.1, 0.3, 0.5], \n",
    "        'ymax': 0.6\n",
    "    }, \n",
    "    'SBS4': {\n",
    "        'ylabels': [0.025, 0.05, 0.075], \n",
    "        'ymax': 0.12\n",
    "    },\n",
    "    'SBS7a': {\n",
    "        'ylabels': [0.1, 0.2, 0.3], \n",
    "        'ymax': 0.42\n",
    "    },\n",
    "    'SBS7b': {\n",
    "        'ylabels': [0.1, 0.2, 0.3], \n",
    "        'ymax': 0.42\n",
    "    }, \n",
    "    'SBS8': {\n",
    "        'ylabels': [0.025, 0.05, 0.075], \n",
    "        'ymax': 0.12\n",
    "    },\n",
    "    'SBS13': {\n",
    "        'ylabels': [0.1, 0.2, 0.3], \n",
    "        'ymax': 0.4\n",
    "    },\n",
    "    'SBS18': {\n",
    "        'ylabels': [0.025, 0.05, 0.075], \n",
    "        'ymax': 0.12\n",
    "    },\n",
    "    'SBS93': {\n",
    "        'ylabels': [0.025, 0.05, 0.075], \n",
    "        'ymax': 0.12\n",
    "    },\n",
    "}"
   ]
  },
  {
   "cell_type": "code",
   "execution_count": 11,
   "metadata": {
    "collapsed": true,
    "scrolled": false
   },
   "outputs": [],
   "source": [
    "def plot_profile(frequencies, prof_entropy, yaxis_lim): \n",
    "\n",
    "    # Plot params\n",
    "    fig, ax = plt.subplots(\n",
    "        2, \n",
    "        sharex='col', \n",
    "        figsize=(2, 0.5), \n",
    "         gridspec_kw={'height_ratios': [0.05, 0.95]}\n",
    "    )\n",
    "    plt.subplots_adjust(left=0.1,\n",
    "                        bottom=0.1, \n",
    "                        right=0.9, \n",
    "                        top=0.9, \n",
    "                        wspace=0.01, \n",
    "                        hspace=0)\n",
    "\n",
    "    #### Top\n",
    "    axis_key = 0\n",
    "    ax[axis_key].spines['top'].set_visible(False)\n",
    "    ax[axis_key].spines['right'].set_visible(False)\n",
    "    ax[axis_key].spines['left'].set_visible(False)\n",
    "    ax[axis_key].spines['bottom'].set_visible(False)\n",
    "\n",
    "    ax[axis_key].set_yticks([])\n",
    "\n",
    "    subs = 'C>A'\n",
    "    rect1 = Rectangle((0, 0.1), 15.75, 0.5, color=snv_color[subs])\n",
    "    ax[axis_key].add_patch(rect1)\n",
    "    ax[axis_key].text(15.75/2, 0.95, subs, fontsize=3.5, weight='normal', ha='center')\n",
    "    subs = 'C>G'\n",
    "    rect1 = Rectangle((16, 0.1), 15.75, 0.5, color=snv_color[subs])\n",
    "    ax[axis_key].add_patch(rect1)\n",
    "    ax[axis_key].text(16 + 15.75/2 -1, 0.95, subs, fontsize=3.5, weight='normal', ha='center')\n",
    "    subs = 'C>T'\n",
    "    rect1 = Rectangle((32, 0.1), 15.75, 0.5, color=snv_color[subs])\n",
    "    ax[axis_key].add_patch(rect1)\n",
    "    ax[axis_key].text(32 + 15.75/2 -1, 0.95, subs, fontsize=3.5, weight='normal', ha='center')\n",
    "    subs = 'T>A'\n",
    "    rect1 = Rectangle((48, 0.1), 15.75, 0.5, color=snv_color[subs])\n",
    "    ax[axis_key].add_patch(rect1)\n",
    "    ax[axis_key].text(48 + 15.75/2 -1, 0.95, subs, fontsize=3.5, weight='normal', ha='center')\n",
    "    subs = 'T>C'\n",
    "    rect1 = Rectangle((64, 0.1), 15.75, 0.5, color=snv_color[subs])\n",
    "    ax[axis_key].add_patch(rect1)\n",
    "    ax[axis_key].text(64 + 15.75/2 -1, 0.95, subs, fontsize=3.5, weight='normal', ha='center')\n",
    "    subs = 'T>G'\n",
    "    rect1 = Rectangle((80, 0.1), 15.75, 0.5, color=snv_color[subs])\n",
    "    ax[axis_key].add_patch(rect1)\n",
    "    ax[axis_key].text(80 + 15.75/2 -1, 0.95, subs, fontsize=3.5, weight='normal', ha='center')\n",
    "\n",
    "\n",
    "    #### PLOT 1\n",
    "    axis_key = 1\n",
    "\n",
    "    probabilities = []\n",
    "    colors = []\n",
    "    labels = []\n",
    "    for snv_type in ['C>A', 'C>G', 'C>T', 'T>A', 'T>C', 'T>G']: \n",
    "        ref, alt = snv_type.split('>')\n",
    "        for nuc5 in ['A', 'C', 'G', 'T']: \n",
    "            for nuc3 in ['A', 'C', 'G', 'T']: \n",
    "                trinucleotide = nuc5 + ref + nuc3\n",
    "                trinucleotide_change = f'{trinucleotide}>{alt}'\n",
    "                probabilities.append(frequencies.get(trinucleotide_change, 0))\n",
    "                colors.append(snv_color[snv_type])\n",
    "                labels.append(trinucleotide)\n",
    "\n",
    "    ax[axis_key].bar(list(range(0, 96)), probabilities, width=0.8, bottom=None, align='center', color=colors)\n",
    "    ax[axis_key].text(\n",
    "        0.01, 0.95,\n",
    "        f'{signature} normalised\\nEntropy={prof_entropy:.3}',\n",
    "        fontsize=4,\n",
    "        weight='bold',\n",
    "         ha='left',\n",
    "         va='top',\n",
    "         transform = ax[axis_key].transAxes\n",
    "    )\n",
    "\n",
    "\n",
    "    ########## Y axis\n",
    "    ylabels_dict = {\n",
    "        0: '', \n",
    "        1: 'Frequency'\n",
    "    }\n",
    "\n",
    "    ylabels = yaxis_lim[signature]['ylabels']\n",
    "    ax[axis_key].set_yticks(ylabels)\n",
    "    ax[axis_key].set_yticklabels(ylabels, fontsize=3.5, color='black', va=\"center\", ha=\"center\")\n",
    "    ax[axis_key].set_xticks([])\n",
    "    plt.xticks(rotation=90)\n",
    "\n",
    "    for key, value in ylabels_dict.items(): \n",
    "        ax[key].set_ylabel(value, fontsize=4, rotation=90, labelpad=2)\n",
    "        ax[key].set_axisbelow(True)\n",
    "        for tick in ax[key].yaxis.get_major_ticks():\n",
    "            tick.label.set_fontsize(3.5)\n",
    "            tick.set_pad(5) \n",
    "\n",
    "        for location in ['top', 'bottom', 'left', 'right']:\n",
    "            ax[key].spines[location].set_linewidth(0.25)\n",
    "\n",
    "        ax[key].tick_params(axis = \"x\", which = \"both\", bottom=False)\n",
    "        ax[key].tick_params(axis = \"y\", which = \"both\", left=False)\n",
    "        ax[key].tick_params(axis='y', which='major', left=True, width=0.25, length=1)\n",
    "        ax[key].tick_params(axis='x', which='major', pad=0)\n",
    "\n",
    "    ax[axis_key].set_xlim(xmin=-1, xmax=96)\n",
    "    ax[axis_key].set_ylim(ymin=0, ymax=yaxis_lim[signature]['ymax'])\n",
    "\n",
    "    for extension in ['png']: \n",
    "        output = f'./fig_EV2A_{signature}.{extension}'\n",
    "        plt.savefig(output, bbox_inches='tight', dpi=350)"
   ]
  },
  {
   "cell_type": "code",
   "execution_count": 12,
   "metadata": {},
   "outputs": [
    {
     "data": {
      "image/png": "[encoded data removed]",
      "text/plain": [
       "<Figure size 144x36 with 2 Axes>"
      ]
     },
     "metadata": {
      "needs_background": "light"
     },
     "output_type": "display_data"
    },
    {
     "data": {
      "image/png": "[encoded data removed]",
      "text/plain": [
       "<Figure size 144x36 with 2 Axes>"
      ]
     },
     "metadata": {
      "needs_background": "light"
     },
     "output_type": "display_data"
    },
    {
     "data": {
      "image/png": "[encoded data removed]",
      "text/plain": [
       "<Figure size 144x36 with 2 Axes>"
      ]
     },
     "metadata": {
      "needs_background": "light"
     },
     "output_type": "display_data"
    },
    {
     "data": {
      "image/png": "[encoded data removed]",
      "text/plain": [
       "<Figure size 144x36 with 2 Axes>"
      ]
     },
     "metadata": {
      "needs_background": "light"
     },
     "output_type": "display_data"
    },
    {
     "data": {
      "image/png": "[encoded data removed]",
      "text/plain": [
       "<Figure size 144x36 with 2 Axes>"
      ]
     },
     "metadata": {
      "needs_background": "light"
     },
     "output_type": "display_data"
    },
    {
     "data": {
      "image/png": "[encoded data removed]",
      "text/plain": [
       "<Figure size 144x36 with 2 Axes>"
      ]
     },
     "metadata": {
      "needs_background": "light"
     },
     "output_type": "display_data"
    },
    {
     "data": {
      "image/png": "[encoded data removed]",
      "text/plain": [
       "<Figure size 144x36 with 2 Axes>"
      ]
     },
     "metadata": {
      "needs_background": "light"
     },
     "output_type": "display_data"
    },
    {
     "data": {
      "image/png": "[encoded data removed]",
      "text/plain": [
       "<Figure size 144x36 with 2 Axes>"
      ]
     },
     "metadata": {
      "needs_background": "light"
     },
     "output_type": "display_data"
    }
   ],
   "source": [
    "for signature in signatures_to_plot:\n",
    "\n",
    "    frequencies = norm_profiles_d[signature]\n",
    "    prof_entropy = entropy_d[signature]\n",
    "    \n",
    "    plot_profile(frequencies, prof_entropy, yaxis_lim)"
   ]
  },
  {
   "cell_type": "code",
   "execution_count": null,
   "metadata": {
    "collapsed": true
   },
   "outputs": [],
   "source": []
  }
 ],
 "metadata": {
  "kernelspec": {
   "display_name": "Python [conda env:hotspot_propensity]",
   "language": "python",
   "name": "conda-env-hotspot_propensity-py"
  },
  "language_info": {
   "codemirror_mode": {
    "name": "ipython",
    "version": 3
   },
   "file_extension": ".py",
   "mimetype": "text/x-python",
   "name": "python",
   "nbconvert_exporter": "python",
   "pygments_lexer": "ipython3",
   "version": "3.6.13"
  }
 },
 "nbformat": 4,
 "nbformat_minor": 2
}
