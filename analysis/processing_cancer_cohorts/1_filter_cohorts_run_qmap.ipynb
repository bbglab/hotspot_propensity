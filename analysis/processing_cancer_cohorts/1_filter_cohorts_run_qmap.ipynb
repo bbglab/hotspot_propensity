{
 "cells": [
  {
   "cell_type": "markdown",
   "metadata": {},
   "source": [
    "# Run filter cohorts "
   ]
  },
  {
   "cell_type": "markdown",
   "metadata": {},
   "source": [
    "Run \"filter_cohorts.py\" to filter files containing somatic mutations (mapped to hg38 reference genome) from different cancer cohorts.  \n",
    "\n",
    "Filtering includes: \n",
    "1. Keep mutations in autosomal + sexual chromosomes\n",
    "2. Remove mutations that ref == alt \n",
    "3. Keep mutations that ref == bgreference\n",
    "4. Keep mutations that don't have N in alt/ref nor 5-mer context\n",
    "5. Remove complex indels\n",
    "6. Remove mutations overlapping low mappability regions\n",
    "7. Remove mutations overlapping population variants\n",
    "\n",
    "Detailed information can be found at Methods section \"Pre-processing of cohorts\""
   ]
  },
  {
   "cell_type": "code",
   "execution_count": 1,
   "metadata": {
    "collapsed": true
   },
   "outputs": [],
   "source": [
    "import os"
   ]
  },
  {
   "cell_type": "code",
   "execution_count": 1,
   "metadata": {
    "collapsed": true
   },
   "outputs": [],
   "source": [
    "main_dir = ''"
   ]
  },
  {
   "cell_type": "code",
   "execution_count": 2,
   "metadata": {
    "collapsed": true
   },
   "outputs": [],
   "source": [
    "mutations_dir = main_dir + 'data/cohorts_raw'\n",
    "output_dir = main_dir + 'data/cohorts_filtered'"
   ]
  },
  {
   "cell_type": "code",
   "execution_count": 4,
   "metadata": {
    "collapsed": true
   },
   "outputs": [],
   "source": [
    "code = os.path.join(main_dir, 'code', 'filter_cohorts.py')\n",
    "map_file = os.path.join(main_dir, 'code', '1_filter_cohorts.map')"
   ]
  },
  {
   "cell_type": "code",
   "execution_count": 5,
   "metadata": {
    "collapsed": true
   },
   "outputs": [],
   "source": [
    "info = [\n",
    "    '[params]',\n",
    "    'cores=1',\n",
    "    'memory=8G\\n',\n",
    "    '[pre]',\n",
    "    '. \"/home/$USER/miniconda3/etc/profile.d/conda.sh\"',\n",
    "    'conda activate hotspots_framework\\n',\n",
    "    '[jobs]',\n",
    "]"
   ]
  },
  {
   "cell_type": "code",
   "execution_count": 6,
   "metadata": {},
   "outputs": [
    {
     "name": "stdout",
     "output_type": "stream",
     "text": [
      "PCAWG_WGS_PROST_ADENOCA\n",
      "PCAWG_WGS_SKIN_MELANOMA\n",
      "PCAWG_WGS_STOMACH_ADENOCA\n",
      "PCAWG_WGS_THY_ADENOCA\n",
      "PCAWG_WGS_UTERUS_ADENOCA\n",
      "PEDCBIOP_WGS_ES_IOCURIE_2014\n",
      "TARGET_WGS_NBL_US\n",
      "TARGET_WGS_WT_US\n",
      "HARTWIG_NET_PANCREATIC\n",
      "HARTWIG_NET_SMALL_INTESTINAL\n",
      "HARTWIG_OVARY\n",
      "HARTWIG_PANCREAS\n",
      "HARTWIG_PROSTATE\n",
      "HARTWIG_SKIN_BASAL_CELL_CARCINOMA\n",
      "HARTWIG_SKIN_MELANOMA\n",
      "HARTWIG_BILIARY\n",
      "HARTWIG_BONESOFT_TISSUE\n",
      "HARTWIG_BREAST\n",
      "HARTWIG_COLONRECTUM\n",
      "HARTWIG_ESOPHAGUS\n",
      "HARTWIG_HEAD_AND_NECK\n",
      "HARTWIG_KIDNEY_RENAL_CELL\n",
      "HARTWIG_SKIN_SKIN_SQUAMOUS_CELL_CARCINOMA\n",
      "HARTWIG_SMALL_INTESTINE\n",
      "HARTWIG_STOMACH\n",
      "HARTWIG_THYROID\n",
      "HARTWIG_URINARY_TRACT\n",
      "HARTWIG_UTERUS_CERVICAL\n",
      "HARTWIG_UTERUS_ENDOMETRIAL\n",
      "PCAWG_WGS_BREAST_ADENOCA\n",
      "PCAWG_WGS_BREAST_LOBULARCA\n",
      "PCAWG_WGS_CERVIX_SCC\n",
      "PCAWG_WGS_CNS_GBM\n",
      "PCAWG_WGS_CNS_MEDULLO\n",
      "PCAWG_WGS_CNS_OLIGO\n",
      "PCAWG_WGS_CNS_PILOASTRO\n",
      "PCAWG_WGS_COLORECT_ADENOCA\n",
      "PCAWG_WGS_ESO_ADENOCA\n",
      "PCAWG_WGS_HEAD_SCC\n",
      "PCAWG_WGS_KIDNEY_CHRCC\n",
      "PCAWG_WGS_KIDNEY_RCC\n",
      "PCAWG_WGS_LIVER_HCC\n",
      "PCAWG_WGS_LUNG_ADENOCA\n",
      "D_ACC\n",
      "D_ALL\n",
      "D_AML\n",
      "D_CM\n",
      "D_EPD\n",
      "D_HGG\n",
      "D_LGG\n",
      "D_MB\n",
      "D_NB\n",
      "D_OS\n",
      "D_RB\n",
      "D_RHBDS\n",
      "HARTWIG_ANUS\n",
      "PCAWG_WGS_LUNG_SCC\n",
      "PCAWG_WGS_LYMPH_BNHL\n",
      "PCAWG_WGS_LYMPH_CLL\n",
      "PCAWG_WGS_MYELOID_AML\n",
      "PCAWG_WGS_MYELOID_MPN\n",
      "PCAWG_WGS_OVARY_ADENOCA\n",
      "PCAWG_WGS_PANC_ADENOCA\n",
      "PCAWG_WGS_PANC_ENDOCRINE\n",
      "HARTWIG_VULVA\n",
      "M_OS\n",
      "OTHER_WGS_MM_NATLEUK2018\n",
      "PCAWG_WGS_BILIARY_ADENOCA\n",
      "PCAWG_WGS_BLADDER_TCC\n",
      "PCAWG_WGS_BONE_LEIOMYO\n",
      "PCAWG_WGS_BONE_OSTEOSARC\n",
      "HARTWIG_LIVER\n",
      "HARTWIG_LUNG_NON_SMALL_CELL\n",
      "HARTWIG_LUNG_SMALL_CELL\n",
      "HARTWIG_LYMPHOID\n",
      "HARTWIG_MESOTHELIOMA\n",
      "HARTWIG_NERVOUS_SYSTEM_GLIOBLASTOMA_MULTIFORME\n",
      "HARTWIG_NET_LUNG\n"
     ]
    }
   ],
   "source": [
    "with open(map_file, 'w') as ofd: \n",
    "    \n",
    "    for line in info: \n",
    "        ofd.write(f'{line}\\n')\n",
    "          \n",
    "    for entry in os.scandir(mutations_dir): \n",
    "        cohort_mutations_file = entry.path\n",
    "        cohort = entry.name.split('.')[0]\n",
    "        cohort_output_file = os.path.join(output_dir, f'{cohort}.filtered.in.gz')\n",
    "        if os.path.isfile(cohort_mutations_file) and cohort_mutations_file.endswith('.gz'):\n",
    "            ofd.write(f'python {code} -i {cohort_mutations_file} -o {cohort_output_file}\\n')\n",
    "            print(cohort)"
   ]
  }
 ],
 "metadata": {
  "kernelspec": {
   "display_name": "Python [default]",
   "language": "python",
   "name": "python3"
  },
  "language_info": {
   "codemirror_mode": {
    "name": "ipython",
    "version": 3
   },
   "file_extension": ".py",
   "mimetype": "text/x-python",
   "name": "python",
   "nbconvert_exporter": "python",
   "pygments_lexer": "ipython3",
   "version": "3.6.6"
  },
  "vscode": {
   "interpreter": {
    "hash": "4779a24e109b44e85d3bba08c3d6e141aa49922bf84ffa8e952e7c566bc38a04"
   }
  }
 },
 "nbformat": 4,
 "nbformat_minor": 2
}
