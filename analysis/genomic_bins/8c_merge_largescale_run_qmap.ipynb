{
 "cells": [
  {
   "cell_type": "markdown",
   "metadata": {},
   "source": [
    "# Annotate 1 Mbp bins with mutations inside and outside hotspots"
   ]
  },
  {
   "cell_type": "markdown",
   "metadata": {},
   "source": [
    "Annotate each 1 Mbp bin with mutations inside and outside hotspots considering their signature mutational probabilities (vector)\n",
    "\n",
    "Note that some paths are hardcoded in the Python script \"merge_largescale.py\" and need to be updated"
   ]
  },
  {
   "cell_type": "code",
   "execution_count": 1,
   "metadata": {
    "collapsed": true
   },
   "outputs": [],
   "source": [
    "import pandas as pd"
   ]
  },
  {
   "cell_type": "code",
   "execution_count": 2,
   "metadata": {
    "collapsed": true
   },
   "outputs": [],
   "source": [
    "main_dir = ''"
   ]
  },
  {
   "cell_type": "code",
   "execution_count": 3,
   "metadata": {
    "collapsed": true
   },
   "outputs": [],
   "source": [
    "mutations_dir = f'{main_dir}/signatures/assign_muts_to_sigs/data'"
   ]
  },
  {
   "cell_type": "code",
   "execution_count": 4,
   "metadata": {
    "collapsed": true
   },
   "outputs": [],
   "source": [
    "output_dir = f'{main_dir}/genomic_bins/data/large_scale_cov/mutations'"
   ]
  },
  {
   "cell_type": "code",
   "execution_count": 5,
   "metadata": {
    "collapsed": true
   },
   "outputs": [],
   "source": [
    "bins_f = f'{main_dir}/genomic_bins/data/hg38_1000kb_bin.nodrivers.filtered.mappable_positions.autosomes.binids.txt'"
   ]
  },
  {
   "cell_type": "code",
   "execution_count": 6,
   "metadata": {
    "collapsed": true
   },
   "outputs": [],
   "source": [
    "map_file = f'{main_dir}/genomic_bins/code/mutations_per_bin_vector.map'\n",
    "code_file = f'{main_dir}/genomic_bins/code/mutations_per_bin_vector.py'"
   ]
  },
  {
   "cell_type": "code",
   "execution_count": 7,
   "metadata": {},
   "outputs": [
    {
     "data": {
      "text/plain": [
       "['BLADDER_URI',\n",
       " 'BRCA',\n",
       " 'COADREAD',\n",
       " 'ESOPHA_STOMACH',\n",
       " 'LNM',\n",
       " 'NSCLC',\n",
       " 'PROSTATE',\n",
       " 'SKCM']"
      ]
     },
     "execution_count": 7,
     "metadata": {},
     "output_type": "execute_result"
    }
   ],
   "source": [
    "covariates_file = f'{main_dir}/genomic_bins/code/covariates_list.csv'\n",
    "cancertypes_df = pd.read_csv(covariates_file, sep='\\t', header=0)\n",
    "cancertypes = cancertypes_df['CANCER_TYPE'].tolist()\n",
    "cancertypes"
   ]
  },
  {
   "cell_type": "code",
   "execution_count": 8,
   "metadata": {
    "collapsed": true
   },
   "outputs": [],
   "source": [
    "info = [\n",
    "    '[params]',\n",
    "    'cores=1',\n",
    "    'memory=8G\\n',\n",
    "    '[pre]',\n",
    "    '. \"/home/$USER/miniconda3/etc/profile.d/conda.sh\"',\n",
    "    'conda activate hotspots_framework\\n',\n",
    "    '[jobs]',\n",
    "]"
   ]
  },
  {
   "cell_type": "code",
   "execution_count": 10,
   "metadata": {
    "collapsed": true
   },
   "outputs": [],
   "source": [
    "with open(map_file, 'w') as ofd: \n",
    "    for line in info: \n",
    "        ofd.write(f'{line}\\n')\n",
    "    for ctype in cancertypes: \n",
    "        for mtype in ['in', 'out']: \n",
    "            input_f = f'{mutations_dir}/{ctype}_SBS96_{mtype}.txt'\n",
    "            output_f = f'{output_dir}/{ctype}_SBS96_{mtype}.mutation_vector_sigs.1000kb_bins.json'\n",
    "            ofd.write(f'python {code_file} -m {input_f} -b {bins_f} -o {output_f}\\n')"
   ]
  }
 ],
 "metadata": {
  "kernelspec": {
   "display_name": "Python [conda env:noncoding]",
   "language": "python",
   "name": "conda-env-noncoding-py"
  },
  "language_info": {
   "codemirror_mode": {
    "name": "ipython",
    "version": 3
   },
   "file_extension": ".py",
   "mimetype": "text/x-python",
   "name": "python",
   "nbconvert_exporter": "python",
   "pygments_lexer": "ipython3",
   "version": "3.6.9"
  }
 },
 "nbformat": 4,
 "nbformat_minor": 2
}
